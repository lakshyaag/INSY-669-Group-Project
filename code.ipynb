{
 "cells": [
  {
   "cell_type": "code",
   "execution_count": 1,
   "metadata": {},
   "outputs": [
    {
     "data": {
      "text/html": [
       "<pre style=\"white-space:pre;overflow-x:auto;line-height:normal;font-family:Menlo,'DejaVu Sans Mono',consolas,'Courier New',monospace\"><span style=\"color: #7fbfbf; text-decoration-color: #7fbfbf\">[11:00:09] </span><span style=\"color: #000080; text-decoration-color: #000080\">INFO    </span> Identity of the Edgar REST client set to <span style=\"font-weight: bold\">[</span>lakshya@insy695.com<span style=\"font-weight: bold\">]</span>                      <span style=\"color: #7f7f7f; text-decoration-color: #7f7f7f\">core.py:153</span>\n",
       "</pre>\n"
      ],
      "text/plain": [
       "\u001b[2;36m[11:00:09]\u001b[0m\u001b[2;36m \u001b[0m\u001b[34mINFO    \u001b[0m Identity of the Edgar REST client set to \u001b[1m[\u001b[0mlakshya@insy695.com\u001b[1m]\u001b[0m                      \u001b[2mcore.py\u001b[0m\u001b[2m:\u001b[0m\u001b[2m153\u001b[0m\n"
      ]
     },
     "metadata": {},
     "output_type": "display_data"
    }
   ],
   "source": [
    "import os\n",
    "import re\n",
    "import httpx\n",
    "\n",
    "import edgar as edgar\n",
    "import pandas as pd\n",
    "from bs4 import BeautifulSoup\n",
    "from rich import print\n",
    "from dotenv import load_dotenv, find_dotenv\n",
    "\n",
    "%load_ext rich\n",
    "\n",
    "load_dotenv(find_dotenv())\n",
    "\n",
    "edgar.set_identity(\"lakshya@insy695.com\")"
   ]
  },
  {
   "cell_type": "code",
   "execution_count": 8,
   "metadata": {},
   "outputs": [],
   "source": [
    "BASE_URL = \"https://api.sec-api.io/\"\n",
    "client = httpx.Client(\n",
    "    base_url=BASE_URL,\n",
    "    timeout=60.0\n",
    ")\n"
   ]
  },
  {
   "cell_type": "code",
   "execution_count": 9,
   "metadata": {},
   "outputs": [],
   "source": [
    "def parse_html_filing(filing):\n",
    "    html_ = filing.html()\n",
    "    regex = re.compile(r\"(>Item(\\s|&#160;|&nbsp;)(7A|7)\\.{0,1})|(ITEM\\s(7A|7)\\.{0,1})\")\n",
    "    matches = regex.finditer(html_)\n",
    "\n",
    "    match_df = pd.DataFrame([(x.group(), x.start(), x.end()) for x in matches])\n",
    "\n",
    "    match_df.columns = [\"item\", \"start\", \"end\"]\n",
    "    match_df[\"item\"] = match_df.item.str.lower()\n",
    "\n",
    "    match_df.replace(\"&#160;\", \" \", regex=True, inplace=True)\n",
    "    match_df.replace(\"&nbsp;\", \" \", regex=True, inplace=True)\n",
    "    match_df.replace(\" \", \" \", regex=True, inplace=True)\n",
    "    match_df.replace(\"\\.\", \"\", regex=True, inplace=True)\n",
    "    match_df.replace(\">\", \"\", regex=True, inplace=True)\n",
    "\n",
    "    match_df = match_df.sort_values(\"start\", ascending=True).drop_duplicates(\n",
    "        subset=[\"item\"], keep=\"last\"\n",
    "    )\n",
    "\n",
    "    if len(match_df[\"start\"].values) > 1:\n",
    "        item_7_raw = html_[match_df[\"start\"].values[0] : match_df[\"start\"].values[1]]\n",
    "    else:\n",
    "        item_7_raw = html_[match_df[\"start\"].values[0] :]\n",
    "\n",
    "    item_7_content = BeautifulSoup(item_7_raw, \"lxml\").get_text(\"\\n\\n\")\n",
    "\n",
    "    return item_7_content"
   ]
  },
  {
   "cell_type": "code",
   "execution_count": 10,
   "metadata": {},
   "outputs": [],
   "source": [
    "def extract_section(ticker, year):\n",
    "    company = edgar.Company(ticker)\n",
    "    filings_df = company.get_filings(form=\"10-K\").to_pandas()\n",
    "    filings_df[\"year\"] = pd.to_datetime(filings_df[\"reportDate\"]).dt.year\n",
    "    accession_number = filings_df.query(f\"year == {year}\")[\"accession_number\"].values[0]\n",
    "\n",
    "    filing = edgar.get_by_accession_number(accession_number)\n",
    "\n",
    "    item_7_content_html = parse_html_filing(filing)\n",
    "\n",
    "    extractor_params = {\n",
    "        \"url\": filing.url,\n",
    "        \"item\": \"7\",\n",
    "        \"type\": \"text\",\n",
    "        \"token\": os.getenv(\"SEC_API_KEY\"),\n",
    "    }\n",
    "\n",
    "    response = client.get(\"extractor\", params=extractor_params)\n",
    "\n",
    "    item_7_extracted = response.text\n",
    "\n",
    "    # Save to files\n",
    "    with open(f\"extracted/{ticker}_{year}_item_7_extracted.txt\", \"w\") as f:\n",
    "        f.write(item_7_extracted)\n",
    "\n",
    "    with open(f\"html/{ticker}_{year}_item_7.txt\", \"w\") as f:\n",
    "        f.write(item_7_content_html)\n",
    "\n",
    "    print(f\"{ticker} {year} ITEM 7 saved\")\n",
    "\n",
    "    return filing\n"
   ]
  },
  {
   "cell_type": "code",
   "execution_count": 11,
   "metadata": {},
   "outputs": [
    {
     "data": {
      "application/vnd.jupyter.widget-view+json": {
       "model_id": "18b77ae544654645b447d6c17feecd48",
       "version_major": 2,
       "version_minor": 0
      },
      "text/plain": [
       "Output()"
      ]
     },
     "metadata": {},
     "output_type": "display_data"
    },
    {
     "data": {
      "text/html": [
       "<pre style=\"white-space:pre;overflow-x:auto;line-height:normal;font-family:Menlo,'DejaVu Sans Mono',consolas,'Courier New',monospace\"></pre>\n"
      ],
      "text/plain": []
     },
     "metadata": {},
     "output_type": "display_data"
    },
    {
     "data": {
      "text/html": [
       "<pre style=\"white-space:pre;overflow-x:auto;line-height:normal;font-family:Menlo,'DejaVu Sans Mono',consolas,'Courier New',monospace\">AMZN <span style=\"color: #008080; text-decoration-color: #008080; font-weight: bold\">2020</span> ITEM <span style=\"color: #008080; text-decoration-color: #008080; font-weight: bold\">7</span> saved\n",
       "</pre>\n"
      ],
      "text/plain": [
       "AMZN \u001b[1;36m2020\u001b[0m ITEM \u001b[1;36m7\u001b[0m saved\n"
      ]
     },
     "metadata": {},
     "output_type": "display_data"
    },
    {
     "data": {
      "text/html": [
       "<pre style=\"white-space:pre;overflow-x:auto;line-height:normal;font-family:Menlo,'DejaVu Sans Mono',consolas,'Courier New',monospace\"></pre>\n"
      ],
      "text/plain": []
     },
     "metadata": {},
     "output_type": "display_data"
    },
    {
     "data": {
      "text/plain": [
       "\n",
       "╭─────────────────────────────────────── 10-K 📊 filing for AMAZON COM INC ───────────────────────────────────────╮\n",
       "│                                                                                                                 │\n",
       "│  \u001b[1m \u001b[0m\u001b[1mAccession Number    \u001b[0m\u001b[1m \u001b[0m \u001b[1m \u001b[0m\u001b[1mFiling Date\u001b[0m\u001b[1m \u001b[0m \u001b[1m \u001b[0m\u001b[1mCompany       \u001b[0m\u001b[1m \u001b[0m \u001b[1m \u001b[0m\u001b[1mCIK    \u001b[0m\u001b[1m \u001b[0m                                                │\n",
       "│  ───────────────────────────────────────────────────────────────                                                │\n",
       "│  \u001b[1m \u001b[0m\u001b[1m0001018724-21-000004\u001b[0m\u001b[1m \u001b[0m  2021-02-03    AMAZON COM INC   1018724                                                 │\n",
       "│                                                                                                                 │\n",
       "│                                                                                                                 │\n",
       "│  \u001b[1m \u001b[0m\u001b[1mLinks\u001b[0m\u001b[1m: 🏠 Homepage 📄 Primary Document 📜 Full Submission Text                            \u001b[0m\u001b[1m \u001b[0m                   │\n",
       "│  ────────────────────────────────────────────────────────────────────────────────────────────                   │\n",
       "│   🏠 https://sec.gov/Archives/edgar/data/1018724/0001018724-21-000004-index.html                                │\n",
       "│   📄 https://sec.gov/Archives/edgar/data/1018724/000101872421000004/amzn-20201231.htm                           │\n",
       "│   📜 https://sec.gov/Archives/edgar/data/1018724/000101872421000004/0001018724-21-000004.txt                    │\n",
       "│                                                                                                                 │\n",
       "╰─────────────────────────────────────────────────────────────────────────────────────────────────────────────────╯"
      ]
     },
     "execution_count": 11,
     "metadata": {},
     "output_type": "execute_result"
    }
   ],
   "source": [
    "extract_section(\"AMZN\", 2020)"
   ]
  },
  {
   "cell_type": "code",
   "execution_count": null,
   "metadata": {},
   "outputs": [],
   "source": []
  }
 ],
 "metadata": {
  "kernelspec": {
   "display_name": "Python 3",
   "language": "python",
   "name": "python3"
  },
  "language_info": {
   "codemirror_mode": {
    "name": "ipython",
    "version": 3
   },
   "file_extension": ".py",
   "mimetype": "text/x-python",
   "name": "python",
   "nbconvert_exporter": "python",
   "pygments_lexer": "ipython3",
   "version": "3.10.11"
  }
 },
 "nbformat": 4,
 "nbformat_minor": 2
}

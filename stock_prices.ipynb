{
 "cells": [
  {
   "cell_type": "code",
   "execution_count": 38,
   "metadata": {},
   "outputs": [
    {
     "name": "stdout",
     "output_type": "stream",
     "text": [
      "The rich extension is already loaded. To reload it, use:\n",
      "  %reload_ext rich\n"
     ]
    }
   ],
   "source": [
    "import pandas as pd\n",
    "import yfinance as yf\n",
    "\n",
    "from rich import print\n",
    "\n",
    "%load_ext rich"
   ]
  },
  {
   "cell_type": "code",
   "execution_count": 40,
   "metadata": {},
   "outputs": [],
   "source": [
    "def get_stock_price(ticker_name: str, start_date=\"2020-06-30\", end_date=\"2021-06-30\"):\n",
    "    ticker = yf.Ticker(ticker_name)\n",
    "    prices = (\n",
    "        ticker.history(\n",
    "            interval=\"3mo\",\n",
    "            start=start_date,\n",
    "            end=end_date,\n",
    "        )\n",
    "        .iloc[[0, -1], :][[\"Close\"]]\n",
    "        .reset_index()\n",
    "    )\n",
    "\n",
    "    prices[\"Ticker\"] = ticker_name\n",
    "\n",
    "    return prices"
   ]
  },
  {
   "cell_type": "code",
   "execution_count": 41,
   "metadata": {},
   "outputs": [],
   "source": [
    "def get_stock_prices(\n",
    "    ticker_names: list, start_date=\"2020-06-30\", end_date=\"2021-06-30\"\n",
    "):\n",
    "    print(f\"Getting stock prices for {ticker_names} from {start_date} to {end_date}\")\n",
    "\n",
    "    prices = pd.concat(\n",
    "        [get_stock_price(ticker, start_date, end_date) for ticker in ticker_names]\n",
    "    )\n",
    "\n",
    "    prices.to_csv(\"./data/stock_prices.csv\", index=False)\n",
    "\n",
    "    return prices\n"
   ]
  },
  {
   "cell_type": "code",
   "execution_count": 42,
   "metadata": {},
   "outputs": [
    {
     "data": {
      "text/html": [
       "<pre style=\"white-space:pre;overflow-x:auto;line-height:normal;font-family:Menlo,'DejaVu Sans Mono',consolas,'Courier New',monospace\">Getting stock prices for <span style=\"font-weight: bold\">[</span><span style=\"color: #008000; text-decoration-color: #008000\">'AAPL'</span>, <span style=\"color: #008000; text-decoration-color: #008000\">'AMZN'</span>, <span style=\"color: #008000; text-decoration-color: #008000\">'META'</span>, <span style=\"color: #008000; text-decoration-color: #008000\">'MSFT'</span>, <span style=\"color: #008000; text-decoration-color: #008000\">'NFLX'</span><span style=\"font-weight: bold\">]</span> from <span style=\"color: #008080; text-decoration-color: #008080; font-weight: bold\">2020</span>-<span style=\"color: #008080; text-decoration-color: #008080; font-weight: bold\">06</span>-<span style=\"color: #008080; text-decoration-color: #008080; font-weight: bold\">30</span> to <span style=\"color: #008080; text-decoration-color: #008080; font-weight: bold\">2021</span>-<span style=\"color: #008080; text-decoration-color: #008080; font-weight: bold\">06</span>-<span style=\"color: #008080; text-decoration-color: #008080; font-weight: bold\">30</span>\n",
       "</pre>\n"
      ],
      "text/plain": [
       "Getting stock prices for \u001b[1m[\u001b[0m\u001b[32m'AAPL'\u001b[0m, \u001b[32m'AMZN'\u001b[0m, \u001b[32m'META'\u001b[0m, \u001b[32m'MSFT'\u001b[0m, \u001b[32m'NFLX'\u001b[0m\u001b[1m]\u001b[0m from \u001b[1;36m2020\u001b[0m-\u001b[1;36m06\u001b[0m-\u001b[1;36m30\u001b[0m to \u001b[1;36m2021\u001b[0m-\u001b[1;36m06\u001b[0m-\u001b[1;36m30\u001b[0m\n"
      ]
     },
     "metadata": {},
     "output_type": "display_data"
    },
    {
     "data": {
      "text/html": [
       "<pre style=\"white-space:pre;overflow-x:auto;line-height:normal;font-family:Menlo,'DejaVu Sans Mono',consolas,'Courier New',monospace\"></pre>\n"
      ],
      "text/plain": []
     },
     "metadata": {},
     "output_type": "display_data"
    },
    {
     "data": {
      "text/html": [
       "<div>\n",
       "<style scoped>\n",
       "    .dataframe tbody tr th:only-of-type {\n",
       "        vertical-align: middle;\n",
       "    }\n",
       "\n",
       "    .dataframe tbody tr th {\n",
       "        vertical-align: top;\n",
       "    }\n",
       "\n",
       "    .dataframe thead th {\n",
       "        text-align: right;\n",
       "    }\n",
       "</style>\n",
       "<table border=\"1\" class=\"dataframe\">\n",
       "  <thead>\n",
       "    <tr style=\"text-align: right;\">\n",
       "      <th></th>\n",
       "      <th>Date</th>\n",
       "      <th>Close</th>\n",
       "      <th>Ticker</th>\n",
       "    </tr>\n",
       "  </thead>\n",
       "  <tbody>\n",
       "    <tr>\n",
       "      <th>0</th>\n",
       "      <td>2020-06-01 00:00:00-04:00</td>\n",
       "      <td>126.354378</td>\n",
       "      <td>AAPL</td>\n",
       "    </tr>\n",
       "    <tr>\n",
       "      <th>1</th>\n",
       "      <td>2021-06-01 00:00:00-04:00</td>\n",
       "      <td>135.013199</td>\n",
       "      <td>AAPL</td>\n",
       "    </tr>\n",
       "    <tr>\n",
       "      <th>0</th>\n",
       "      <td>2020-06-01 00:00:00-04:00</td>\n",
       "      <td>172.548004</td>\n",
       "      <td>AMZN</td>\n",
       "    </tr>\n",
       "    <tr>\n",
       "      <th>1</th>\n",
       "      <td>2021-06-01 00:00:00-04:00</td>\n",
       "      <td>172.007996</td>\n",
       "      <td>AMZN</td>\n",
       "    </tr>\n",
       "    <tr>\n",
       "      <th>0</th>\n",
       "      <td>2020-06-01 00:00:00-04:00</td>\n",
       "      <td>293.200012</td>\n",
       "      <td>META</td>\n",
       "    </tr>\n",
       "    <tr>\n",
       "      <th>1</th>\n",
       "      <td>2021-06-01 00:00:00-04:00</td>\n",
       "      <td>347.709991</td>\n",
       "      <td>META</td>\n",
       "    </tr>\n",
       "    <tr>\n",
       "      <th>0</th>\n",
       "      <td>2020-06-01 00:00:00-04:00</td>\n",
       "      <td>218.529816</td>\n",
       "      <td>MSFT</td>\n",
       "    </tr>\n",
       "    <tr>\n",
       "      <th>1</th>\n",
       "      <td>2021-06-01 00:00:00-04:00</td>\n",
       "      <td>265.033112</td>\n",
       "      <td>MSFT</td>\n",
       "    </tr>\n",
       "    <tr>\n",
       "      <th>0</th>\n",
       "      <td>2020-06-01 00:00:00-04:00</td>\n",
       "      <td>529.559998</td>\n",
       "      <td>NFLX</td>\n",
       "    </tr>\n",
       "    <tr>\n",
       "      <th>1</th>\n",
       "      <td>2021-06-01 00:00:00-04:00</td>\n",
       "      <td>528.210022</td>\n",
       "      <td>NFLX</td>\n",
       "    </tr>\n",
       "  </tbody>\n",
       "</table>\n",
       "</div>"
      ],
      "text/plain": [
       "\n",
       "                       Date       Close Ticker\n",
       "\u001b[1;36m0\u001b[0m \u001b[1;36m2020\u001b[0m-\u001b[1;36m06\u001b[0m-\u001b[1;36m01\u001b[0m \u001b[1;92m00:00:00\u001b[0m-\u001b[1;92m04:00\u001b[0m  \u001b[1;36m126.354378\u001b[0m   AAPL\n",
       "\u001b[1;36m1\u001b[0m \u001b[1;36m2021\u001b[0m-\u001b[1;36m06\u001b[0m-\u001b[1;36m01\u001b[0m \u001b[1;92m00:00:00\u001b[0m-\u001b[1;92m04:00\u001b[0m  \u001b[1;36m135.013199\u001b[0m   AAPL\n",
       "\u001b[1;36m0\u001b[0m \u001b[1;36m2020\u001b[0m-\u001b[1;36m06\u001b[0m-\u001b[1;36m01\u001b[0m \u001b[1;92m00:00:00\u001b[0m-\u001b[1;92m04:00\u001b[0m  \u001b[1;36m172.548004\u001b[0m   AMZN\n",
       "\u001b[1;36m1\u001b[0m \u001b[1;36m2021\u001b[0m-\u001b[1;36m06\u001b[0m-\u001b[1;36m01\u001b[0m \u001b[1;92m00:00:00\u001b[0m-\u001b[1;92m04:00\u001b[0m  \u001b[1;36m172.007996\u001b[0m   AMZN\n",
       "\u001b[1;36m0\u001b[0m \u001b[1;36m2020\u001b[0m-\u001b[1;36m06\u001b[0m-\u001b[1;36m01\u001b[0m \u001b[1;92m00:00:00\u001b[0m-\u001b[1;92m04:00\u001b[0m  \u001b[1;36m293.200012\u001b[0m   META\n",
       "\u001b[1;36m1\u001b[0m \u001b[1;36m2021\u001b[0m-\u001b[1;36m06\u001b[0m-\u001b[1;36m01\u001b[0m \u001b[1;92m00:00:00\u001b[0m-\u001b[1;92m04:00\u001b[0m  \u001b[1;36m347.709991\u001b[0m   META\n",
       "\u001b[1;36m0\u001b[0m \u001b[1;36m2020\u001b[0m-\u001b[1;36m06\u001b[0m-\u001b[1;36m01\u001b[0m \u001b[1;92m00:00:00\u001b[0m-\u001b[1;92m04:00\u001b[0m  \u001b[1;36m218.529816\u001b[0m   MSFT\n",
       "\u001b[1;36m1\u001b[0m \u001b[1;36m2021\u001b[0m-\u001b[1;36m06\u001b[0m-\u001b[1;36m01\u001b[0m \u001b[1;92m00:00:00\u001b[0m-\u001b[1;92m04:00\u001b[0m  \u001b[1;36m265.033112\u001b[0m   MSFT\n",
       "\u001b[1;36m0\u001b[0m \u001b[1;36m2020\u001b[0m-\u001b[1;36m06\u001b[0m-\u001b[1;36m01\u001b[0m \u001b[1;92m00:00:00\u001b[0m-\u001b[1;92m04:00\u001b[0m  \u001b[1;36m529.559998\u001b[0m   NFLX\n",
       "\u001b[1;36m1\u001b[0m \u001b[1;36m2021\u001b[0m-\u001b[1;36m06\u001b[0m-\u001b[1;36m01\u001b[0m \u001b[1;92m00:00:00\u001b[0m-\u001b[1;92m04:00\u001b[0m  \u001b[1;36m528.210022\u001b[0m   NFLX"
      ]
     },
     "execution_count": 42,
     "metadata": {},
     "output_type": "execute_result"
    }
   ],
   "source": [
    "get_stock_prices(['AAPL', \"AMZN\", \"META\", \"MSFT\", \"NFLX\"])"
   ]
  }
 ],
 "metadata": {
  "kernelspec": {
   "display_name": "Python 3",
   "language": "python",
   "name": "python3"
  },
  "language_info": {
   "codemirror_mode": {
    "name": "ipython",
    "version": 3
   },
   "file_extension": ".py",
   "mimetype": "text/x-python",
   "name": "python",
   "nbconvert_exporter": "python",
   "pygments_lexer": "ipython3",
   "version": "3.10.11"
  }
 },
 "nbformat": 4,
 "nbformat_minor": 2
}

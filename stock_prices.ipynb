{
 "cells": [
  {
   "cell_type": "code",
   "execution_count": 1,
   "metadata": {},
   "outputs": [],
   "source": [
    "import pandas as pd\n",
    "import yfinance as yf\n",
    "\n",
    "from rich import print\n",
    "\n",
    "%load_ext rich"
   ]
  },
  {
   "cell_type": "code",
   "execution_count": 2,
   "metadata": {},
   "outputs": [],
   "source": [
    "def get_stock_price(ticker_name: str, start_date=\"2020-06-30\", end_date=\"2021-06-30\"):\n",
    "    ticker = yf.Ticker(ticker_name)\n",
    "\n",
    "    prices = (\n",
    "        ticker.history(\n",
    "            interval=\"3mo\",\n",
    "            start=start_date,\n",
    "            end=end_date,\n",
    "        )\n",
    "        .iloc[[0, -1], :][[\"Close\"]]\n",
    "        .reset_index()\n",
    "    )\n",
    "\n",
    "    prices[\"Ticker\"] = ticker_name\n",
    "\n",
    "    return prices"
   ]
  },
  {
   "cell_type": "code",
   "execution_count": 3,
   "metadata": {},
   "outputs": [],
   "source": [
    "def get_stock_prices(\n",
    "    ticker_names: list, start_date=\"2020-06-30\", end_date=\"2021-06-30\"\n",
    "):\n",
    "    print(f\"Getting stock prices for {ticker_names} from {start_date} to {end_date}\")\n",
    "\n",
    "    prices = []\n",
    "\n",
    "    for ticker in ticker_names:\n",
    "        try:\n",
    "            prices.append(get_stock_price(ticker, start_date, end_date))\n",
    "        except Exception as e:\n",
    "            print(f\"Error getting data for {ticker}\")\n",
    "\n",
    "    prices = pd.concat(prices)\n",
    "\n",
    "    prices.to_csv(\"./data/stock_prices.csv\", index=False)\n",
    "\n",
    "    return prices\n"
   ]
  },
  {
   "cell_type": "code",
   "execution_count": 4,
   "metadata": {},
   "outputs": [],
   "source": [
    "top_100_companies = pd.read_csv('./data/s&p500_top100.csv')[['Company', 'Symbol', 'Portfolio%']]\n",
    "top_100_companies['Symbol'] = top_100_companies['Symbol'].str.replace('.', '-')"
   ]
  },
  {
   "cell_type": "code",
   "execution_count": 8,
   "metadata": {},
   "outputs": [
    {
     "data": {
      "text/html": [
       "<pre style=\"white-space:pre;overflow-x:auto;line-height:normal;font-family:Menlo,'DejaVu Sans Mono',consolas,'Courier New',monospace\">Getting stock prices for <span style=\"font-weight: bold\">[</span><span style=\"color: #008000; text-decoration-color: #008000\">'MSFT'</span>, <span style=\"color: #008000; text-decoration-color: #008000\">'AAPL'</span>, <span style=\"color: #008000; text-decoration-color: #008000\">'NVDA'</span>, <span style=\"color: #008000; text-decoration-color: #008000\">'AMZN'</span>, <span style=\"color: #008000; text-decoration-color: #008000\">'META'</span>, <span style=\"color: #008000; text-decoration-color: #008000\">'GOOGL'</span>, <span style=\"color: #008000; text-decoration-color: #008000\">'BRK-B'</span>, <span style=\"color: #008000; text-decoration-color: #008000\">'LLY'</span>, <span style=\"color: #008000; text-decoration-color: #008000\">'AVGO'</span>, <span style=\"color: #008000; text-decoration-color: #008000\">'TSLA'</span>, <span style=\"color: #008000; text-decoration-color: #008000\">'JPM'</span>, \n",
       "<span style=\"color: #008000; text-decoration-color: #008000\">'UNH'</span>, <span style=\"color: #008000; text-decoration-color: #008000\">'V'</span>, <span style=\"color: #008000; text-decoration-color: #008000\">'XOM'</span>, <span style=\"color: #008000; text-decoration-color: #008000\">'MA'</span>, <span style=\"color: #008000; text-decoration-color: #008000\">'JNJ'</span>, <span style=\"color: #008000; text-decoration-color: #008000\">'PG'</span>, <span style=\"color: #008000; text-decoration-color: #008000\">'HD'</span>, <span style=\"color: #008000; text-decoration-color: #008000\">'COST'</span>, <span style=\"color: #008000; text-decoration-color: #008000\">'MRK'</span>, <span style=\"color: #008000; text-decoration-color: #008000\">'ABBV'</span>, <span style=\"color: #008000; text-decoration-color: #008000\">'ADBE'</span>, <span style=\"color: #008000; text-decoration-color: #008000\">'CRM'</span>, <span style=\"color: #008000; text-decoration-color: #008000\">'AMD'</span>, <span style=\"color: #008000; text-decoration-color: #008000\">'CVX'</span>, <span style=\"color: #008000; text-decoration-color: #008000\">'NFLX'</span>, <span style=\"color: #008000; text-decoration-color: #008000\">'WMT'</span>, \n",
       "<span style=\"color: #008000; text-decoration-color: #008000\">'ACN'</span>, <span style=\"color: #008000; text-decoration-color: #008000\">'KO'</span>, <span style=\"color: #008000; text-decoration-color: #008000\">'PEP'</span>, <span style=\"color: #008000; text-decoration-color: #008000\">'BAC'</span>, <span style=\"color: #008000; text-decoration-color: #008000\">'TMO'</span>, <span style=\"color: #008000; text-decoration-color: #008000\">'MCD'</span>, <span style=\"color: #008000; text-decoration-color: #008000\">'LIN'</span>, <span style=\"color: #008000; text-decoration-color: #008000\">'CSCO'</span>, <span style=\"color: #008000; text-decoration-color: #008000\">'DIS'</span>, <span style=\"color: #008000; text-decoration-color: #008000\">'ABT'</span>, <span style=\"color: #008000; text-decoration-color: #008000\">'ORCL'</span>, <span style=\"color: #008000; text-decoration-color: #008000\">'INTU'</span>, <span style=\"color: #008000; text-decoration-color: #008000\">'INTC'</span>, <span style=\"color: #008000; text-decoration-color: #008000\">'WFC'</span>, <span style=\"color: #008000; text-decoration-color: #008000\">'IBM'</span>, \n",
       "<span style=\"color: #008000; text-decoration-color: #008000\">'CMCSA'</span>, <span style=\"color: #008000; text-decoration-color: #008000\">'QCOM'</span>, <span style=\"color: #008000; text-decoration-color: #008000\">'VZ'</span>, <span style=\"color: #008000; text-decoration-color: #008000\">'NOW'</span>, <span style=\"color: #008000; text-decoration-color: #008000\">'CAT'</span>, <span style=\"color: #008000; text-decoration-color: #008000\">'DHR'</span>, <span style=\"color: #008000; text-decoration-color: #008000\">'AMGN'</span>, <span style=\"color: #008000; text-decoration-color: #008000\">'PFE'</span>, <span style=\"color: #008000; text-decoration-color: #008000\">'AMAT'</span>, <span style=\"color: #008000; text-decoration-color: #008000\">'UNP'</span>, <span style=\"color: #008000; text-decoration-color: #008000\">'GE'</span>, <span style=\"color: #008000; text-decoration-color: #008000\">'TXN'</span>, <span style=\"color: #008000; text-decoration-color: #008000\">'UBER'</span>, <span style=\"color: #008000; text-decoration-color: #008000\">'SPGI'</span>, <span style=\"color: #008000; text-decoration-color: #008000\">'PM'</span>, \n",
       "<span style=\"color: #008000; text-decoration-color: #008000\">'ISRG'</span>, <span style=\"color: #008000; text-decoration-color: #008000\">'COP'</span>, <span style=\"color: #008000; text-decoration-color: #008000\">'BKNG'</span>, <span style=\"color: #008000; text-decoration-color: #008000\">'RTX'</span>, <span style=\"color: #008000; text-decoration-color: #008000\">'HON'</span>, <span style=\"color: #008000; text-decoration-color: #008000\">'LOW'</span>, <span style=\"color: #008000; text-decoration-color: #008000\">'NKE'</span>, <span style=\"color: #008000; text-decoration-color: #008000\">'GS'</span>, <span style=\"color: #008000; text-decoration-color: #008000\">'PLD'</span>, <span style=\"color: #008000; text-decoration-color: #008000\">'AXP'</span>, <span style=\"color: #008000; text-decoration-color: #008000\">'T'</span>, <span style=\"color: #008000; text-decoration-color: #008000\">'LRCX'</span>, <span style=\"color: #008000; text-decoration-color: #008000\">'ELV'</span>, <span style=\"color: #008000; text-decoration-color: #008000\">'BA'</span>, <span style=\"color: #008000; text-decoration-color: #008000\">'PANW'</span>, <span style=\"color: #008000; text-decoration-color: #008000\">'NEE'</span>, \n",
       "<span style=\"color: #008000; text-decoration-color: #008000\">'SYK'</span>, <span style=\"color: #008000; text-decoration-color: #008000\">'MDT'</span>, <span style=\"color: #008000; text-decoration-color: #008000\">'TJX'</span>, <span style=\"color: #008000; text-decoration-color: #008000\">'BLK'</span>, <span style=\"color: #008000; text-decoration-color: #008000\">'SBUX'</span>, <span style=\"color: #008000; text-decoration-color: #008000\">'ETN'</span>, <span style=\"color: #008000; text-decoration-color: #008000\">'VRTX'</span>, <span style=\"color: #008000; text-decoration-color: #008000\">'MS'</span>, <span style=\"color: #008000; text-decoration-color: #008000\">'PGR'</span>, <span style=\"color: #008000; text-decoration-color: #008000\">'UPS'</span>, <span style=\"color: #008000; text-decoration-color: #008000\">'C'</span>, <span style=\"color: #008000; text-decoration-color: #008000\">'ADP'</span>, <span style=\"color: #008000; text-decoration-color: #008000\">'DE'</span>, <span style=\"color: #008000; text-decoration-color: #008000\">'REGN'</span>, <span style=\"color: #008000; text-decoration-color: #008000\">'BMY'</span>, <span style=\"color: #008000; text-decoration-color: #008000\">'CB'</span>, \n",
       "<span style=\"color: #008000; text-decoration-color: #008000\">'MDLZ'</span>, <span style=\"color: #008000; text-decoration-color: #008000\">'CVS'</span>, <span style=\"color: #008000; text-decoration-color: #008000\">'CI'</span>, <span style=\"color: #008000; text-decoration-color: #008000\">'MMC'</span>, <span style=\"color: #008000; text-decoration-color: #008000\">'ADI'</span>, <span style=\"color: #008000; text-decoration-color: #008000\">'BSX'</span>, <span style=\"color: #008000; text-decoration-color: #008000\">'SCHW'</span>, <span style=\"color: #008000; text-decoration-color: #008000\">'LMT'</span>, <span style=\"color: #008000; text-decoration-color: #008000\">'MU'</span>, <span style=\"color: #008000; text-decoration-color: #008000\">'GILD'</span>, <span style=\"color: #008000; text-decoration-color: #008000\">'BX'</span><span style=\"font-weight: bold\">]</span> from <span style=\"color: #008080; text-decoration-color: #008080; font-weight: bold\">2020</span>-<span style=\"color: #008080; text-decoration-color: #008080; font-weight: bold\">06</span>-<span style=\"color: #008080; text-decoration-color: #008080; font-weight: bold\">30</span> to <span style=\"color: #008080; text-decoration-color: #008080; font-weight: bold\">2021</span>-<span style=\"color: #008080; text-decoration-color: #008080; font-weight: bold\">06</span>-<span style=\"color: #008080; text-decoration-color: #008080; font-weight: bold\">30</span>\n",
       "</pre>\n"
      ],
      "text/plain": [
       "Getting stock prices for \u001b[1m[\u001b[0m\u001b[32m'MSFT'\u001b[0m, \u001b[32m'AAPL'\u001b[0m, \u001b[32m'NVDA'\u001b[0m, \u001b[32m'AMZN'\u001b[0m, \u001b[32m'META'\u001b[0m, \u001b[32m'GOOGL'\u001b[0m, \u001b[32m'BRK-B'\u001b[0m, \u001b[32m'LLY'\u001b[0m, \u001b[32m'AVGO'\u001b[0m, \u001b[32m'TSLA'\u001b[0m, \u001b[32m'JPM'\u001b[0m, \n",
       "\u001b[32m'UNH'\u001b[0m, \u001b[32m'V'\u001b[0m, \u001b[32m'XOM'\u001b[0m, \u001b[32m'MA'\u001b[0m, \u001b[32m'JNJ'\u001b[0m, \u001b[32m'PG'\u001b[0m, \u001b[32m'HD'\u001b[0m, \u001b[32m'COST'\u001b[0m, \u001b[32m'MRK'\u001b[0m, \u001b[32m'ABBV'\u001b[0m, \u001b[32m'ADBE'\u001b[0m, \u001b[32m'CRM'\u001b[0m, \u001b[32m'AMD'\u001b[0m, \u001b[32m'CVX'\u001b[0m, \u001b[32m'NFLX'\u001b[0m, \u001b[32m'WMT'\u001b[0m, \n",
       "\u001b[32m'ACN'\u001b[0m, \u001b[32m'KO'\u001b[0m, \u001b[32m'PEP'\u001b[0m, \u001b[32m'BAC'\u001b[0m, \u001b[32m'TMO'\u001b[0m, \u001b[32m'MCD'\u001b[0m, \u001b[32m'LIN'\u001b[0m, \u001b[32m'CSCO'\u001b[0m, \u001b[32m'DIS'\u001b[0m, \u001b[32m'ABT'\u001b[0m, \u001b[32m'ORCL'\u001b[0m, \u001b[32m'INTU'\u001b[0m, \u001b[32m'INTC'\u001b[0m, \u001b[32m'WFC'\u001b[0m, \u001b[32m'IBM'\u001b[0m, \n",
       "\u001b[32m'CMCSA'\u001b[0m, \u001b[32m'QCOM'\u001b[0m, \u001b[32m'VZ'\u001b[0m, \u001b[32m'NOW'\u001b[0m, \u001b[32m'CAT'\u001b[0m, \u001b[32m'DHR'\u001b[0m, \u001b[32m'AMGN'\u001b[0m, \u001b[32m'PFE'\u001b[0m, \u001b[32m'AMAT'\u001b[0m, \u001b[32m'UNP'\u001b[0m, \u001b[32m'GE'\u001b[0m, \u001b[32m'TXN'\u001b[0m, \u001b[32m'UBER'\u001b[0m, \u001b[32m'SPGI'\u001b[0m, \u001b[32m'PM'\u001b[0m, \n",
       "\u001b[32m'ISRG'\u001b[0m, \u001b[32m'COP'\u001b[0m, \u001b[32m'BKNG'\u001b[0m, \u001b[32m'RTX'\u001b[0m, \u001b[32m'HON'\u001b[0m, \u001b[32m'LOW'\u001b[0m, \u001b[32m'NKE'\u001b[0m, \u001b[32m'GS'\u001b[0m, \u001b[32m'PLD'\u001b[0m, \u001b[32m'AXP'\u001b[0m, \u001b[32m'T'\u001b[0m, \u001b[32m'LRCX'\u001b[0m, \u001b[32m'ELV'\u001b[0m, \u001b[32m'BA'\u001b[0m, \u001b[32m'PANW'\u001b[0m, \u001b[32m'NEE'\u001b[0m, \n",
       "\u001b[32m'SYK'\u001b[0m, \u001b[32m'MDT'\u001b[0m, \u001b[32m'TJX'\u001b[0m, \u001b[32m'BLK'\u001b[0m, \u001b[32m'SBUX'\u001b[0m, \u001b[32m'ETN'\u001b[0m, \u001b[32m'VRTX'\u001b[0m, \u001b[32m'MS'\u001b[0m, \u001b[32m'PGR'\u001b[0m, \u001b[32m'UPS'\u001b[0m, \u001b[32m'C'\u001b[0m, \u001b[32m'ADP'\u001b[0m, \u001b[32m'DE'\u001b[0m, \u001b[32m'REGN'\u001b[0m, \u001b[32m'BMY'\u001b[0m, \u001b[32m'CB'\u001b[0m, \n",
       "\u001b[32m'MDLZ'\u001b[0m, \u001b[32m'CVS'\u001b[0m, \u001b[32m'CI'\u001b[0m, \u001b[32m'MMC'\u001b[0m, \u001b[32m'ADI'\u001b[0m, \u001b[32m'BSX'\u001b[0m, \u001b[32m'SCHW'\u001b[0m, \u001b[32m'LMT'\u001b[0m, \u001b[32m'MU'\u001b[0m, \u001b[32m'GILD'\u001b[0m, \u001b[32m'BX'\u001b[0m\u001b[1m]\u001b[0m from \u001b[1;36m2020\u001b[0m-\u001b[1;36m06\u001b[0m-\u001b[1;36m30\u001b[0m to \u001b[1;36m2021\u001b[0m-\u001b[1;36m06\u001b[0m-\u001b[1;36m30\u001b[0m\n"
      ]
     },
     "metadata": {},
     "output_type": "display_data"
    },
    {
     "data": {
      "text/html": [
       "<pre style=\"white-space:pre;overflow-x:auto;line-height:normal;font-family:Menlo,'DejaVu Sans Mono',consolas,'Courier New',monospace\"></pre>\n"
      ],
      "text/plain": []
     },
     "metadata": {},
     "output_type": "display_data"
    },
    {
     "data": {
      "text/html": [
       "<div>\n",
       "<style scoped>\n",
       "    .dataframe tbody tr th:only-of-type {\n",
       "        vertical-align: middle;\n",
       "    }\n",
       "\n",
       "    .dataframe tbody tr th {\n",
       "        vertical-align: top;\n",
       "    }\n",
       "\n",
       "    .dataframe thead th {\n",
       "        text-align: right;\n",
       "    }\n",
       "</style>\n",
       "<table border=\"1\" class=\"dataframe\">\n",
       "  <thead>\n",
       "    <tr style=\"text-align: right;\">\n",
       "      <th></th>\n",
       "      <th>Date</th>\n",
       "      <th>Close</th>\n",
       "      <th>Ticker</th>\n",
       "    </tr>\n",
       "  </thead>\n",
       "  <tbody>\n",
       "    <tr>\n",
       "      <th>0</th>\n",
       "      <td>2020-06-01 00:00:00-04:00</td>\n",
       "      <td>218.529816</td>\n",
       "      <td>MSFT</td>\n",
       "    </tr>\n",
       "    <tr>\n",
       "      <th>1</th>\n",
       "      <td>2021-06-01 00:00:00-04:00</td>\n",
       "      <td>265.033173</td>\n",
       "      <td>MSFT</td>\n",
       "    </tr>\n",
       "    <tr>\n",
       "      <th>0</th>\n",
       "      <td>2020-06-01 00:00:00-04:00</td>\n",
       "      <td>126.193336</td>\n",
       "      <td>AAPL</td>\n",
       "    </tr>\n",
       "    <tr>\n",
       "      <th>1</th>\n",
       "      <td>2021-06-01 00:00:00-04:00</td>\n",
       "      <td>134.841141</td>\n",
       "      <td>AAPL</td>\n",
       "    </tr>\n",
       "    <tr>\n",
       "      <th>0</th>\n",
       "      <td>2020-06-01 00:00:00-04:00</td>\n",
       "      <td>133.304092</td>\n",
       "      <td>NVDA</td>\n",
       "    </tr>\n",
       "    <tr>\n",
       "      <th>...</th>\n",
       "      <td>...</td>\n",
       "      <td>...</td>\n",
       "      <td>...</td>\n",
       "    </tr>\n",
       "    <tr>\n",
       "      <th>1</th>\n",
       "      <td>2021-06-01 00:00:00-04:00</td>\n",
       "      <td>83.541824</td>\n",
       "      <td>MU</td>\n",
       "    </tr>\n",
       "    <tr>\n",
       "      <th>0</th>\n",
       "      <td>2020-06-01 00:00:00-04:00</td>\n",
       "      <td>57.171944</td>\n",
       "      <td>GILD</td>\n",
       "    </tr>\n",
       "    <tr>\n",
       "      <th>1</th>\n",
       "      <td>2021-06-01 00:00:00-04:00</td>\n",
       "      <td>61.500305</td>\n",
       "      <td>GILD</td>\n",
       "    </tr>\n",
       "    <tr>\n",
       "      <th>0</th>\n",
       "      <td>2020-06-01 00:00:00-04:00</td>\n",
       "      <td>45.996845</td>\n",
       "      <td>BX</td>\n",
       "    </tr>\n",
       "    <tr>\n",
       "      <th>1</th>\n",
       "      <td>2021-06-01 00:00:00-04:00</td>\n",
       "      <td>87.744774</td>\n",
       "      <td>BX</td>\n",
       "    </tr>\n",
       "  </tbody>\n",
       "</table>\n",
       "<p>200 rows × 3 columns</p>\n",
       "</div>"
      ],
      "text/plain": [
       "\n",
       "                        Date       Close Ticker\n",
       "\u001b[1;36m0\u001b[0m  \u001b[1;36m2020\u001b[0m-\u001b[1;36m06\u001b[0m-\u001b[1;36m01\u001b[0m \u001b[1;92m00:00:00\u001b[0m-\u001b[1;92m04:00\u001b[0m  \u001b[1;36m218.529816\u001b[0m   MSFT\n",
       "\u001b[1;36m1\u001b[0m  \u001b[1;36m2021\u001b[0m-\u001b[1;36m06\u001b[0m-\u001b[1;36m01\u001b[0m \u001b[1;92m00:00:00\u001b[0m-\u001b[1;92m04:00\u001b[0m  \u001b[1;36m265.033173\u001b[0m   MSFT\n",
       "\u001b[1;36m0\u001b[0m  \u001b[1;36m2020\u001b[0m-\u001b[1;36m06\u001b[0m-\u001b[1;36m01\u001b[0m \u001b[1;92m00:00:00\u001b[0m-\u001b[1;92m04:00\u001b[0m  \u001b[1;36m126.193336\u001b[0m   AAPL\n",
       "\u001b[1;36m1\u001b[0m  \u001b[1;36m2021\u001b[0m-\u001b[1;36m06\u001b[0m-\u001b[1;36m01\u001b[0m \u001b[1;92m00:00:00\u001b[0m-\u001b[1;92m04:00\u001b[0m  \u001b[1;36m134.841141\u001b[0m   AAPL\n",
       "\u001b[1;36m0\u001b[0m  \u001b[1;36m2020\u001b[0m-\u001b[1;36m06\u001b[0m-\u001b[1;36m01\u001b[0m \u001b[1;92m00:00:00\u001b[0m-\u001b[1;92m04:00\u001b[0m  \u001b[1;36m133.304092\u001b[0m   NVDA\n",
       "..                       \u001b[33m...\u001b[0m         \u001b[33m...\u001b[0m    \u001b[33m...\u001b[0m\n",
       "\u001b[1;36m1\u001b[0m  \u001b[1;36m2021\u001b[0m-\u001b[1;36m06\u001b[0m-\u001b[1;36m01\u001b[0m \u001b[1;92m00:00:00\u001b[0m-\u001b[1;92m04:00\u001b[0m   \u001b[1;36m83.541824\u001b[0m     MU\n",
       "\u001b[1;36m0\u001b[0m  \u001b[1;36m2020\u001b[0m-\u001b[1;36m06\u001b[0m-\u001b[1;36m01\u001b[0m \u001b[1;92m00:00:00\u001b[0m-\u001b[1;92m04:00\u001b[0m   \u001b[1;36m57.171944\u001b[0m   GILD\n",
       "\u001b[1;36m1\u001b[0m  \u001b[1;36m2021\u001b[0m-\u001b[1;36m06\u001b[0m-\u001b[1;36m01\u001b[0m \u001b[1;92m00:00:00\u001b[0m-\u001b[1;92m04:00\u001b[0m   \u001b[1;36m61.500305\u001b[0m   GILD\n",
       "\u001b[1;36m0\u001b[0m  \u001b[1;36m2020\u001b[0m-\u001b[1;36m06\u001b[0m-\u001b[1;36m01\u001b[0m \u001b[1;92m00:00:00\u001b[0m-\u001b[1;92m04:00\u001b[0m   \u001b[1;36m45.996845\u001b[0m     BX\n",
       "\u001b[1;36m1\u001b[0m  \u001b[1;36m2021\u001b[0m-\u001b[1;36m06\u001b[0m-\u001b[1;36m01\u001b[0m \u001b[1;92m00:00:00\u001b[0m-\u001b[1;92m04:00\u001b[0m   \u001b[1;36m87.744774\u001b[0m     BX\n",
       "\n",
       "\u001b[1m[\u001b[0m\u001b[1;36m200\u001b[0m rows x \u001b[1;36m3\u001b[0m columns\u001b[1m]\u001b[0m"
      ]
     },
     "execution_count": 8,
     "metadata": {},
     "output_type": "execute_result"
    }
   ],
   "source": [
    "get_stock_prices(top_100_companies['Symbol'].tolist())"
   ]
  }
 ],
 "metadata": {
  "kernelspec": {
   "display_name": "Python 3",
   "language": "python",
   "name": "python3"
  },
  "language_info": {
   "codemirror_mode": {
    "name": "ipython",
    "version": 3
   },
   "file_extension": ".py",
   "mimetype": "text/x-python",
   "name": "python",
   "nbconvert_exporter": "python",
   "pygments_lexer": "ipython3",
   "version": "3.10.11"
  }
 },
 "nbformat": 4,
 "nbformat_minor": 2
}

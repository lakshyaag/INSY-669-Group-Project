{
 "cells": [
  {
   "cell_type": "code",
   "execution_count": 6,
   "metadata": {},
   "outputs": [],
   "source": [
    "import pandas as pd\n",
    "import yfinance as yf\n",
    "\n",
    "from rich import print\n",
    "\n",
    "%load_ext rich"
   ]
  },
  {
   "cell_type": "code",
   "execution_count": 29,
   "metadata": {},
   "outputs": [],
   "source": [
    "def get_stock_price(ticker_name: str, start_date=\"2020-06-30\", end_date=\"2021-06-30\"):\n",
    "    ticker = yf.Ticker(ticker_name)\n",
    "\n",
    "    prices = (\n",
    "        ticker.history(\n",
    "            interval=\"3mo\",\n",
    "            start=start_date,\n",
    "            end=end_date,\n",
    "        )\n",
    "        .iloc[[0, -1], :][[\"Close\"]]\n",
    "        .reset_index()\n",
    "    )\n",
    "\n",
    "    prices[\"Ticker\"] = ticker_name\n",
    "\n",
    "    return prices"
   ]
  },
  {
   "cell_type": "code",
   "execution_count": 38,
   "metadata": {},
   "outputs": [],
   "source": [
    "def get_stock_prices(\n",
    "    ticker_names: list, start_date=\"2020-06-30\", end_date=\"2021-06-30\"\n",
    "):\n",
    "    print(f\"Getting stock prices for {ticker_names} from {start_date} to {end_date}\")\n",
    "\n",
    "    prices = []\n",
    "\n",
    "    for ticker in ticker_names:\n",
    "        try:\n",
    "            prices.append(get_stock_price(ticker, start_date, end_date))\n",
    "        except:\n",
    "            print(f\"Error getting data for {ticker}\")\n",
    "\n",
    "    prices = pd.concat(prices)\n",
    "\n",
    "    prices.to_csv(\"./data/stock_prices.csv\", index=False)\n",
    "\n",
    "    return prices\n"
   ]
  },
  {
   "cell_type": "code",
   "execution_count": 36,
   "metadata": {},
   "outputs": [
    {
     "data": {
      "text/html": [
       "<pre style=\"white-space:pre;overflow-x:auto;line-height:normal;font-family:Menlo,'DejaVu Sans Mono',consolas,'Courier New',monospace\">Getting stock prices for <span style=\"font-weight: bold\">[</span><span style=\"color: #008000; text-decoration-color: #008000\">'AAPL'</span>, <span style=\"color: #008000; text-decoration-color: #008000\">'AMZN'</span>, <span style=\"color: #008000; text-decoration-color: #008000\">'META'</span>, <span style=\"color: #008000; text-decoration-color: #008000\">'MSFT'</span>, <span style=\"color: #008000; text-decoration-color: #008000\">'NFLX'</span><span style=\"font-weight: bold\">]</span> from <span style=\"color: #008080; text-decoration-color: #008080; font-weight: bold\">2020</span>-<span style=\"color: #008080; text-decoration-color: #008080; font-weight: bold\">06</span>-<span style=\"color: #008080; text-decoration-color: #008080; font-weight: bold\">30</span> to <span style=\"color: #008080; text-decoration-color: #008080; font-weight: bold\">2021</span>-<span style=\"color: #008080; text-decoration-color: #008080; font-weight: bold\">06</span>-<span style=\"color: #008080; text-decoration-color: #008080; font-weight: bold\">30</span>\n",
       "</pre>\n"
      ],
      "text/plain": [
       "Getting stock prices for \u001b[1m[\u001b[0m\u001b[32m'AAPL'\u001b[0m, \u001b[32m'AMZN'\u001b[0m, \u001b[32m'META'\u001b[0m, \u001b[32m'MSFT'\u001b[0m, \u001b[32m'NFLX'\u001b[0m\u001b[1m]\u001b[0m from \u001b[1;36m2020\u001b[0m-\u001b[1;36m06\u001b[0m-\u001b[1;36m30\u001b[0m to \u001b[1;36m2021\u001b[0m-\u001b[1;36m06\u001b[0m-\u001b[1;36m30\u001b[0m\n"
      ]
     },
     "metadata": {},
     "output_type": "display_data"
    },
    {
     "data": {
      "text/html": [
       "<pre style=\"white-space:pre;overflow-x:auto;line-height:normal;font-family:Menlo,'DejaVu Sans Mono',consolas,'Courier New',monospace\"></pre>\n"
      ],
      "text/plain": []
     },
     "metadata": {},
     "output_type": "display_data"
    },
    {
     "data": {
      "text/html": [
       "<div>\n",
       "<style scoped>\n",
       "    .dataframe tbody tr th:only-of-type {\n",
       "        vertical-align: middle;\n",
       "    }\n",
       "\n",
       "    .dataframe tbody tr th {\n",
       "        vertical-align: top;\n",
       "    }\n",
       "\n",
       "    .dataframe thead th {\n",
       "        text-align: right;\n",
       "    }\n",
       "</style>\n",
       "<table border=\"1\" class=\"dataframe\">\n",
       "  <thead>\n",
       "    <tr style=\"text-align: right;\">\n",
       "      <th></th>\n",
       "      <th>Date</th>\n",
       "      <th>Close</th>\n",
       "      <th>Ticker</th>\n",
       "    </tr>\n",
       "  </thead>\n",
       "  <tbody>\n",
       "    <tr>\n",
       "      <th>0</th>\n",
       "      <td>2020-06-01 00:00:00-04:00</td>\n",
       "      <td>126.193344</td>\n",
       "      <td>AAPL</td>\n",
       "    </tr>\n",
       "    <tr>\n",
       "      <th>1</th>\n",
       "      <td>2021-06-01 00:00:00-04:00</td>\n",
       "      <td>134.841141</td>\n",
       "      <td>AAPL</td>\n",
       "    </tr>\n",
       "    <tr>\n",
       "      <th>0</th>\n",
       "      <td>2020-06-01 00:00:00-04:00</td>\n",
       "      <td>172.548004</td>\n",
       "      <td>AMZN</td>\n",
       "    </tr>\n",
       "    <tr>\n",
       "      <th>1</th>\n",
       "      <td>2021-06-01 00:00:00-04:00</td>\n",
       "      <td>172.007996</td>\n",
       "      <td>AMZN</td>\n",
       "    </tr>\n",
       "    <tr>\n",
       "      <th>0</th>\n",
       "      <td>2020-06-01 00:00:00-04:00</td>\n",
       "      <td>293.200012</td>\n",
       "      <td>META</td>\n",
       "    </tr>\n",
       "    <tr>\n",
       "      <th>1</th>\n",
       "      <td>2021-06-01 00:00:00-04:00</td>\n",
       "      <td>347.709991</td>\n",
       "      <td>META</td>\n",
       "    </tr>\n",
       "    <tr>\n",
       "      <th>0</th>\n",
       "      <td>2020-06-01 00:00:00-04:00</td>\n",
       "      <td>218.529831</td>\n",
       "      <td>MSFT</td>\n",
       "    </tr>\n",
       "    <tr>\n",
       "      <th>1</th>\n",
       "      <td>2021-06-01 00:00:00-04:00</td>\n",
       "      <td>265.033203</td>\n",
       "      <td>MSFT</td>\n",
       "    </tr>\n",
       "    <tr>\n",
       "      <th>0</th>\n",
       "      <td>2020-06-01 00:00:00-04:00</td>\n",
       "      <td>529.559998</td>\n",
       "      <td>NFLX</td>\n",
       "    </tr>\n",
       "    <tr>\n",
       "      <th>1</th>\n",
       "      <td>2021-06-01 00:00:00-04:00</td>\n",
       "      <td>528.210022</td>\n",
       "      <td>NFLX</td>\n",
       "    </tr>\n",
       "  </tbody>\n",
       "</table>\n",
       "</div>"
      ],
      "text/plain": [
       "\n",
       "                       Date       Close Ticker\n",
       "\u001b[1;36m0\u001b[0m \u001b[1;36m2020\u001b[0m-\u001b[1;36m06\u001b[0m-\u001b[1;36m01\u001b[0m \u001b[1;92m00:00:00\u001b[0m-\u001b[1;92m04:00\u001b[0m  \u001b[1;36m126.193344\u001b[0m   AAPL\n",
       "\u001b[1;36m1\u001b[0m \u001b[1;36m2021\u001b[0m-\u001b[1;36m06\u001b[0m-\u001b[1;36m01\u001b[0m \u001b[1;92m00:00:00\u001b[0m-\u001b[1;92m04:00\u001b[0m  \u001b[1;36m134.841141\u001b[0m   AAPL\n",
       "\u001b[1;36m0\u001b[0m \u001b[1;36m2020\u001b[0m-\u001b[1;36m06\u001b[0m-\u001b[1;36m01\u001b[0m \u001b[1;92m00:00:00\u001b[0m-\u001b[1;92m04:00\u001b[0m  \u001b[1;36m172.548004\u001b[0m   AMZN\n",
       "\u001b[1;36m1\u001b[0m \u001b[1;36m2021\u001b[0m-\u001b[1;36m06\u001b[0m-\u001b[1;36m01\u001b[0m \u001b[1;92m00:00:00\u001b[0m-\u001b[1;92m04:00\u001b[0m  \u001b[1;36m172.007996\u001b[0m   AMZN\n",
       "\u001b[1;36m0\u001b[0m \u001b[1;36m2020\u001b[0m-\u001b[1;36m06\u001b[0m-\u001b[1;36m01\u001b[0m \u001b[1;92m00:00:00\u001b[0m-\u001b[1;92m04:00\u001b[0m  \u001b[1;36m293.200012\u001b[0m   META\n",
       "\u001b[1;36m1\u001b[0m \u001b[1;36m2021\u001b[0m-\u001b[1;36m06\u001b[0m-\u001b[1;36m01\u001b[0m \u001b[1;92m00:00:00\u001b[0m-\u001b[1;92m04:00\u001b[0m  \u001b[1;36m347.709991\u001b[0m   META\n",
       "\u001b[1;36m0\u001b[0m \u001b[1;36m2020\u001b[0m-\u001b[1;36m06\u001b[0m-\u001b[1;36m01\u001b[0m \u001b[1;92m00:00:00\u001b[0m-\u001b[1;92m04:00\u001b[0m  \u001b[1;36m218.529831\u001b[0m   MSFT\n",
       "\u001b[1;36m1\u001b[0m \u001b[1;36m2021\u001b[0m-\u001b[1;36m06\u001b[0m-\u001b[1;36m01\u001b[0m \u001b[1;92m00:00:00\u001b[0m-\u001b[1;92m04:00\u001b[0m  \u001b[1;36m265.033203\u001b[0m   MSFT\n",
       "\u001b[1;36m0\u001b[0m \u001b[1;36m2020\u001b[0m-\u001b[1;36m06\u001b[0m-\u001b[1;36m01\u001b[0m \u001b[1;92m00:00:00\u001b[0m-\u001b[1;92m04:00\u001b[0m  \u001b[1;36m529.559998\u001b[0m   NFLX\n",
       "\u001b[1;36m1\u001b[0m \u001b[1;36m2021\u001b[0m-\u001b[1;36m06\u001b[0m-\u001b[1;36m01\u001b[0m \u001b[1;92m00:00:00\u001b[0m-\u001b[1;92m04:00\u001b[0m  \u001b[1;36m528.210022\u001b[0m   NFLX"
      ]
     },
     "execution_count": 36,
     "metadata": {},
     "output_type": "execute_result"
    }
   ],
   "source": [
    "get_stock_prices(['AAPL', \"AMZN\", \"META\", \"MSFT\", \"NFLX\"])"
   ]
  },
  {
   "cell_type": "code",
   "execution_count": 39,
   "metadata": {},
   "outputs": [
    {
     "data": {
      "text/html": [
       "<pre style=\"white-space:pre;overflow-x:auto;line-height:normal;font-family:Menlo,'DejaVu Sans Mono',consolas,'Courier New',monospace\">Getting stock prices for <span style=\"font-weight: bold\">[</span><span style=\"color: #008000; text-decoration-color: #008000\">'MMM'</span>, <span style=\"color: #008000; text-decoration-color: #008000\">'AOS'</span>, <span style=\"color: #008000; text-decoration-color: #008000\">'ABT'</span>, <span style=\"color: #008000; text-decoration-color: #008000\">'ABBV'</span>, <span style=\"color: #008000; text-decoration-color: #008000\">'ABMD'</span>, <span style=\"color: #008000; text-decoration-color: #008000\">'ACN'</span>, <span style=\"color: #008000; text-decoration-color: #008000\">'ATVI'</span>, <span style=\"color: #008000; text-decoration-color: #008000\">'ADM'</span>, <span style=\"color: #008000; text-decoration-color: #008000\">'ADBE'</span>, <span style=\"color: #008000; text-decoration-color: #008000\">'AAP'</span>, <span style=\"color: #008000; text-decoration-color: #008000\">'AMD'</span>, <span style=\"color: #008000; text-decoration-color: #008000\">'AES'</span>, \n",
       "<span style=\"color: #008000; text-decoration-color: #008000\">'AFL'</span>, <span style=\"color: #008000; text-decoration-color: #008000\">'A'</span>, <span style=\"color: #008000; text-decoration-color: #008000\">'APD'</span>, <span style=\"color: #008000; text-decoration-color: #008000\">'AKAM'</span>, <span style=\"color: #008000; text-decoration-color: #008000\">'ALK'</span>, <span style=\"color: #008000; text-decoration-color: #008000\">'ALB'</span>, <span style=\"color: #008000; text-decoration-color: #008000\">'ARE'</span>, <span style=\"color: #008000; text-decoration-color: #008000\">'ALGN'</span>, <span style=\"color: #008000; text-decoration-color: #008000\">'ALLE'</span>, <span style=\"color: #008000; text-decoration-color: #008000\">'LNT'</span>, <span style=\"color: #008000; text-decoration-color: #008000\">'ALL'</span>, <span style=\"color: #008000; text-decoration-color: #008000\">'GOOGL'</span>, <span style=\"color: #008000; text-decoration-color: #008000\">'GOOG'</span>, <span style=\"color: #008000; text-decoration-color: #008000\">'MO'</span>, <span style=\"color: #008000; text-decoration-color: #008000\">'AMZN'</span>, \n",
       "<span style=\"color: #008000; text-decoration-color: #008000\">'AMCR'</span>, <span style=\"color: #008000; text-decoration-color: #008000\">'AEE'</span>, <span style=\"color: #008000; text-decoration-color: #008000\">'AAL'</span>, <span style=\"color: #008000; text-decoration-color: #008000\">'AEP'</span>, <span style=\"color: #008000; text-decoration-color: #008000\">'AXP'</span>, <span style=\"color: #008000; text-decoration-color: #008000\">'AIG'</span>, <span style=\"color: #008000; text-decoration-color: #008000\">'AMT'</span>, <span style=\"color: #008000; text-decoration-color: #008000\">'AWK'</span>, <span style=\"color: #008000; text-decoration-color: #008000\">'AMP'</span>, <span style=\"color: #008000; text-decoration-color: #008000\">'ABC'</span>, <span style=\"color: #008000; text-decoration-color: #008000\">'AME'</span>, <span style=\"color: #008000; text-decoration-color: #008000\">'AMGN'</span>, <span style=\"color: #008000; text-decoration-color: #008000\">'APH'</span>, <span style=\"color: #008000; text-decoration-color: #008000\">'ADI'</span>, <span style=\"color: #008000; text-decoration-color: #008000\">'ANSS'</span>, <span style=\"color: #008000; text-decoration-color: #008000\">'ANTM'</span>,\n",
       "<span style=\"color: #008000; text-decoration-color: #008000\">'AON'</span>, <span style=\"color: #008000; text-decoration-color: #008000\">'APA'</span>, <span style=\"color: #008000; text-decoration-color: #008000\">'AAPL'</span>, <span style=\"color: #008000; text-decoration-color: #008000\">'AMAT'</span>, <span style=\"color: #008000; text-decoration-color: #008000\">'APTV'</span>, <span style=\"color: #008000; text-decoration-color: #008000\">'ANET'</span>, <span style=\"color: #008000; text-decoration-color: #008000\">'AJG'</span>, <span style=\"color: #008000; text-decoration-color: #008000\">'AIZ'</span>, <span style=\"color: #008000; text-decoration-color: #008000\">'T'</span>, <span style=\"color: #008000; text-decoration-color: #008000\">'ATO'</span>, <span style=\"color: #008000; text-decoration-color: #008000\">'ADSK'</span>, <span style=\"color: #008000; text-decoration-color: #008000\">'ADP'</span>, <span style=\"color: #008000; text-decoration-color: #008000\">'AZO'</span>, <span style=\"color: #008000; text-decoration-color: #008000\">'AVB'</span>, <span style=\"color: #008000; text-decoration-color: #008000\">'AVY'</span>, <span style=\"color: #008000; text-decoration-color: #008000\">'BKR'</span>, \n",
       "<span style=\"color: #008000; text-decoration-color: #008000\">'BLL'</span>, <span style=\"color: #008000; text-decoration-color: #008000\">'BAC'</span>, <span style=\"color: #008000; text-decoration-color: #008000\">'BBWI'</span>, <span style=\"color: #008000; text-decoration-color: #008000\">'BAX'</span>, <span style=\"color: #008000; text-decoration-color: #008000\">'BDX'</span>, <span style=\"color: #008000; text-decoration-color: #008000\">'BRK.B'</span>, <span style=\"color: #008000; text-decoration-color: #008000\">'BBY'</span>, <span style=\"color: #008000; text-decoration-color: #008000\">'BIO'</span>, <span style=\"color: #008000; text-decoration-color: #008000\">'TECH'</span>, <span style=\"color: #008000; text-decoration-color: #008000\">'BIIB'</span>, <span style=\"color: #008000; text-decoration-color: #008000\">'BLK'</span>, <span style=\"color: #008000; text-decoration-color: #008000\">'BK'</span>, <span style=\"color: #008000; text-decoration-color: #008000\">'BA'</span>, <span style=\"color: #008000; text-decoration-color: #008000\">'BKNG'</span>, <span style=\"color: #008000; text-decoration-color: #008000\">'BWA'</span>, <span style=\"color: #008000; text-decoration-color: #008000\">'BXP'</span>,\n",
       "<span style=\"color: #008000; text-decoration-color: #008000\">'BSX'</span>, <span style=\"color: #008000; text-decoration-color: #008000\">'BMY'</span>, <span style=\"color: #008000; text-decoration-color: #008000\">'AVGO'</span>, <span style=\"color: #008000; text-decoration-color: #008000\">'BR'</span>, <span style=\"color: #008000; text-decoration-color: #008000\">'BRO'</span>, <span style=\"color: #008000; text-decoration-color: #008000\">'BF.B'</span>, <span style=\"color: #008000; text-decoration-color: #008000\">'CHRW'</span>, <span style=\"color: #008000; text-decoration-color: #008000\">'CDNS'</span>, <span style=\"color: #008000; text-decoration-color: #008000\">'CZR'</span>, <span style=\"color: #008000; text-decoration-color: #008000\">'CPB'</span>, <span style=\"color: #008000; text-decoration-color: #008000\">'COF'</span>, <span style=\"color: #008000; text-decoration-color: #008000\">'CAH'</span>, <span style=\"color: #008000; text-decoration-color: #008000\">'KMX'</span>, <span style=\"color: #008000; text-decoration-color: #008000\">'CCL'</span>, <span style=\"color: #008000; text-decoration-color: #008000\">'CARR'</span>, \n",
       "<span style=\"color: #008000; text-decoration-color: #008000\">'CTLT'</span>, <span style=\"color: #008000; text-decoration-color: #008000\">'CAT'</span>, <span style=\"color: #008000; text-decoration-color: #008000\">'CBOE'</span>, <span style=\"color: #008000; text-decoration-color: #008000\">'CBRE'</span>, <span style=\"color: #008000; text-decoration-color: #008000\">'CDW'</span>, <span style=\"color: #008000; text-decoration-color: #008000\">'CE'</span>, <span style=\"color: #008000; text-decoration-color: #008000\">'CNC'</span>, <span style=\"color: #008000; text-decoration-color: #008000\">'CNP'</span>, <span style=\"color: #008000; text-decoration-color: #008000\">'CDAY'</span>, <span style=\"color: #008000; text-decoration-color: #008000\">'CERN'</span>, <span style=\"color: #008000; text-decoration-color: #008000\">'CF'</span>, <span style=\"color: #008000; text-decoration-color: #008000\">'CRL'</span>, <span style=\"color: #008000; text-decoration-color: #008000\">'SCHW'</span>, <span style=\"color: #008000; text-decoration-color: #008000\">'CHTR'</span>, <span style=\"color: #008000; text-decoration-color: #008000\">'CVX'</span>, \n",
       "<span style=\"color: #008000; text-decoration-color: #008000\">'CMG'</span>, <span style=\"color: #008000; text-decoration-color: #008000\">'CB'</span>, <span style=\"color: #008000; text-decoration-color: #008000\">'CHD'</span>, <span style=\"color: #008000; text-decoration-color: #008000\">'CI'</span>, <span style=\"color: #008000; text-decoration-color: #008000\">'CINF'</span>, <span style=\"color: #008000; text-decoration-color: #008000\">'CTAS'</span>, <span style=\"color: #008000; text-decoration-color: #008000\">'CSCO'</span>, <span style=\"color: #008000; text-decoration-color: #008000\">'C'</span>, <span style=\"color: #008000; text-decoration-color: #008000\">'CFG'</span>, <span style=\"color: #008000; text-decoration-color: #008000\">'CTXS'</span>, <span style=\"color: #008000; text-decoration-color: #008000\">'CLX'</span>, <span style=\"color: #008000; text-decoration-color: #008000\">'CME'</span>, <span style=\"color: #008000; text-decoration-color: #008000\">'CMS'</span>, <span style=\"color: #008000; text-decoration-color: #008000\">'KO'</span>, <span style=\"color: #008000; text-decoration-color: #008000\">'CTSH'</span>, <span style=\"color: #008000; text-decoration-color: #008000\">'CL'</span>, \n",
       "<span style=\"color: #008000; text-decoration-color: #008000\">'CMCSA'</span>, <span style=\"color: #008000; text-decoration-color: #008000\">'CMA'</span>, <span style=\"color: #008000; text-decoration-color: #008000\">'CAG'</span>, <span style=\"color: #008000; text-decoration-color: #008000\">'COP'</span>, <span style=\"color: #008000; text-decoration-color: #008000\">'ED'</span>, <span style=\"color: #008000; text-decoration-color: #008000\">'STZ'</span>, <span style=\"color: #008000; text-decoration-color: #008000\">'CPRT'</span>, <span style=\"color: #008000; text-decoration-color: #008000\">'GLW'</span>, <span style=\"color: #008000; text-decoration-color: #008000\">'CTVA'</span>, <span style=\"color: #008000; text-decoration-color: #008000\">'COST'</span>, <span style=\"color: #008000; text-decoration-color: #008000\">'CTRA'</span>, <span style=\"color: #008000; text-decoration-color: #008000\">'CCI'</span>, <span style=\"color: #008000; text-decoration-color: #008000\">'CSX'</span>, <span style=\"color: #008000; text-decoration-color: #008000\">'CMI'</span>, <span style=\"color: #008000; text-decoration-color: #008000\">'CVS'</span>, \n",
       "<span style=\"color: #008000; text-decoration-color: #008000\">'DHI'</span>, <span style=\"color: #008000; text-decoration-color: #008000\">'DHR'</span>, <span style=\"color: #008000; text-decoration-color: #008000\">'DRI'</span>, <span style=\"color: #008000; text-decoration-color: #008000\">'DVA'</span>, <span style=\"color: #008000; text-decoration-color: #008000\">'DE'</span>, <span style=\"color: #008000; text-decoration-color: #008000\">'DAL'</span>, <span style=\"color: #008000; text-decoration-color: #008000\">'XRAY'</span>, <span style=\"color: #008000; text-decoration-color: #008000\">'DVN'</span>, <span style=\"color: #008000; text-decoration-color: #008000\">'DXCM'</span>, <span style=\"color: #008000; text-decoration-color: #008000\">'FANG'</span>, <span style=\"color: #008000; text-decoration-color: #008000\">'DLR'</span>, <span style=\"color: #008000; text-decoration-color: #008000\">'DFS'</span>, <span style=\"color: #008000; text-decoration-color: #008000\">'DISCA'</span>, <span style=\"color: #008000; text-decoration-color: #008000\">'DISCK'</span>, <span style=\"color: #008000; text-decoration-color: #008000\">'DISH'</span>, \n",
       "<span style=\"color: #008000; text-decoration-color: #008000\">'DG'</span>, <span style=\"color: #008000; text-decoration-color: #008000\">'DLTR'</span>, <span style=\"color: #008000; text-decoration-color: #008000\">'D'</span>, <span style=\"color: #008000; text-decoration-color: #008000\">'DPZ'</span>, <span style=\"color: #008000; text-decoration-color: #008000\">'DOV'</span>, <span style=\"color: #008000; text-decoration-color: #008000\">'DOW'</span>, <span style=\"color: #008000; text-decoration-color: #008000\">'DTE'</span>, <span style=\"color: #008000; text-decoration-color: #008000\">'DUK'</span>, <span style=\"color: #008000; text-decoration-color: #008000\">'DRE'</span>, <span style=\"color: #008000; text-decoration-color: #008000\">'DD'</span>, <span style=\"color: #008000; text-decoration-color: #008000\">'DXC'</span>, <span style=\"color: #008000; text-decoration-color: #008000\">'EMN'</span>, <span style=\"color: #008000; text-decoration-color: #008000\">'ETN'</span>, <span style=\"color: #008000; text-decoration-color: #008000\">'EBAY'</span>, <span style=\"color: #008000; text-decoration-color: #008000\">'ECL'</span>, <span style=\"color: #008000; text-decoration-color: #008000\">'EIX'</span>, <span style=\"color: #008000; text-decoration-color: #008000\">'EW'</span>,\n",
       "<span style=\"color: #008000; text-decoration-color: #008000\">'EA'</span>, <span style=\"color: #008000; text-decoration-color: #008000\">'LLY'</span>, <span style=\"color: #008000; text-decoration-color: #008000\">'EMR'</span>, <span style=\"color: #008000; text-decoration-color: #008000\">'ENPH'</span>, <span style=\"color: #008000; text-decoration-color: #008000\">'ETR'</span>, <span style=\"color: #008000; text-decoration-color: #008000\">'EOG'</span>, <span style=\"color: #008000; text-decoration-color: #008000\">'EFX'</span>, <span style=\"color: #008000; text-decoration-color: #008000\">'EQIX'</span>, <span style=\"color: #008000; text-decoration-color: #008000\">'EQR'</span>, <span style=\"color: #008000; text-decoration-color: #008000\">'ESS'</span>, <span style=\"color: #008000; text-decoration-color: #008000\">'EL'</span>, <span style=\"color: #008000; text-decoration-color: #008000\">'ETSY'</span>, <span style=\"color: #008000; text-decoration-color: #008000\">'RE'</span>, <span style=\"color: #008000; text-decoration-color: #008000\">'EVRG'</span>, <span style=\"color: #008000; text-decoration-color: #008000\">'ES'</span>, <span style=\"color: #008000; text-decoration-color: #008000\">'EXC'</span>, \n",
       "<span style=\"color: #008000; text-decoration-color: #008000\">'EXPE'</span>, <span style=\"color: #008000; text-decoration-color: #008000\">'EXPD'</span>, <span style=\"color: #008000; text-decoration-color: #008000\">'EXR'</span>, <span style=\"color: #008000; text-decoration-color: #008000\">'XOM'</span>, <span style=\"color: #008000; text-decoration-color: #008000\">'FFIV'</span>, <span style=\"color: #008000; text-decoration-color: #008000\">'FB'</span>, <span style=\"color: #008000; text-decoration-color: #008000\">'FAST'</span>, <span style=\"color: #008000; text-decoration-color: #008000\">'FRT'</span>, <span style=\"color: #008000; text-decoration-color: #008000\">'FDX'</span>, <span style=\"color: #008000; text-decoration-color: #008000\">'FIS'</span>, <span style=\"color: #008000; text-decoration-color: #008000\">'FITB'</span>, <span style=\"color: #008000; text-decoration-color: #008000\">'FRC'</span>, <span style=\"color: #008000; text-decoration-color: #008000\">'FE'</span>, <span style=\"color: #008000; text-decoration-color: #008000\">'FISV'</span>, <span style=\"color: #008000; text-decoration-color: #008000\">'FLT'</span>, <span style=\"color: #008000; text-decoration-color: #008000\">'FMC'</span>,\n",
       "<span style=\"color: #008000; text-decoration-color: #008000\">'F'</span>, <span style=\"color: #008000; text-decoration-color: #008000\">'FTNT'</span>, <span style=\"color: #008000; text-decoration-color: #008000\">'FTV'</span>, <span style=\"color: #008000; text-decoration-color: #008000\">'FBHS'</span>, <span style=\"color: #008000; text-decoration-color: #008000\">'FOXA'</span>, <span style=\"color: #008000; text-decoration-color: #008000\">'FOX'</span>, <span style=\"color: #008000; text-decoration-color: #008000\">'BEN'</span>, <span style=\"color: #008000; text-decoration-color: #008000\">'FCX'</span>, <span style=\"color: #008000; text-decoration-color: #008000\">'GPS'</span>, <span style=\"color: #008000; text-decoration-color: #008000\">'GRMN'</span>, <span style=\"color: #008000; text-decoration-color: #008000\">'IT'</span>, <span style=\"color: #008000; text-decoration-color: #008000\">'GNRC'</span>, <span style=\"color: #008000; text-decoration-color: #008000\">'GD'</span>, <span style=\"color: #008000; text-decoration-color: #008000\">'GE'</span>, <span style=\"color: #008000; text-decoration-color: #008000\">'GIS'</span>, <span style=\"color: #008000; text-decoration-color: #008000\">'GM'</span>, \n",
       "<span style=\"color: #008000; text-decoration-color: #008000\">'GPC'</span>, <span style=\"color: #008000; text-decoration-color: #008000\">'GILD'</span>, <span style=\"color: #008000; text-decoration-color: #008000\">'GPN'</span>, <span style=\"color: #008000; text-decoration-color: #008000\">'GL'</span>, <span style=\"color: #008000; text-decoration-color: #008000\">'GS'</span>, <span style=\"color: #008000; text-decoration-color: #008000\">'HAL'</span>, <span style=\"color: #008000; text-decoration-color: #008000\">'HBI'</span>, <span style=\"color: #008000; text-decoration-color: #008000\">'HAS'</span>, <span style=\"color: #008000; text-decoration-color: #008000\">'HCA'</span>, <span style=\"color: #008000; text-decoration-color: #008000\">'PEAK'</span>, <span style=\"color: #008000; text-decoration-color: #008000\">'HSIC'</span>, <span style=\"color: #008000; text-decoration-color: #008000\">'HES'</span>, <span style=\"color: #008000; text-decoration-color: #008000\">'HPE'</span>, <span style=\"color: #008000; text-decoration-color: #008000\">'HLT'</span>, <span style=\"color: #008000; text-decoration-color: #008000\">'HOLX'</span>, <span style=\"color: #008000; text-decoration-color: #008000\">'HD'</span>, \n",
       "<span style=\"color: #008000; text-decoration-color: #008000\">'HON'</span>, <span style=\"color: #008000; text-decoration-color: #008000\">'HRL'</span>, <span style=\"color: #008000; text-decoration-color: #008000\">'HST'</span>, <span style=\"color: #008000; text-decoration-color: #008000\">'HWM'</span>, <span style=\"color: #008000; text-decoration-color: #008000\">'HPQ'</span>, <span style=\"color: #008000; text-decoration-color: #008000\">'HUM'</span>, <span style=\"color: #008000; text-decoration-color: #008000\">'HBAN'</span>, <span style=\"color: #008000; text-decoration-color: #008000\">'HII'</span>, <span style=\"color: #008000; text-decoration-color: #008000\">'IBM'</span>, <span style=\"color: #008000; text-decoration-color: #008000\">'IEX'</span>, <span style=\"color: #008000; text-decoration-color: #008000\">'IDXX'</span>, <span style=\"color: #008000; text-decoration-color: #008000\">'INFO'</span>, <span style=\"color: #008000; text-decoration-color: #008000\">'ITW'</span>, <span style=\"color: #008000; text-decoration-color: #008000\">'ILMN'</span>, <span style=\"color: #008000; text-decoration-color: #008000\">'INCY'</span>, <span style=\"color: #008000; text-decoration-color: #008000\">'IR'</span>,\n",
       "<span style=\"color: #008000; text-decoration-color: #008000\">'INTC'</span>, <span style=\"color: #008000; text-decoration-color: #008000\">'ICE'</span>, <span style=\"color: #008000; text-decoration-color: #008000\">'IFF'</span>, <span style=\"color: #008000; text-decoration-color: #008000\">'IP'</span>, <span style=\"color: #008000; text-decoration-color: #008000\">'IPG'</span>, <span style=\"color: #008000; text-decoration-color: #008000\">'INTU'</span>, <span style=\"color: #008000; text-decoration-color: #008000\">'ISRG'</span>, <span style=\"color: #008000; text-decoration-color: #008000\">'IVZ'</span>, <span style=\"color: #008000; text-decoration-color: #008000\">'IPGP'</span>, <span style=\"color: #008000; text-decoration-color: #008000\">'IQV'</span>, <span style=\"color: #008000; text-decoration-color: #008000\">'IRM'</span>, <span style=\"color: #008000; text-decoration-color: #008000\">'JBHT'</span>, <span style=\"color: #008000; text-decoration-color: #008000\">'JKHY'</span>, <span style=\"color: #008000; text-decoration-color: #008000\">'J'</span>, <span style=\"color: #008000; text-decoration-color: #008000\">'SJM'</span>, <span style=\"color: #008000; text-decoration-color: #008000\">'JNJ'</span>, \n",
       "<span style=\"color: #008000; text-decoration-color: #008000\">'JCI'</span>, <span style=\"color: #008000; text-decoration-color: #008000\">'JPM'</span>, <span style=\"color: #008000; text-decoration-color: #008000\">'JNPR'</span>, <span style=\"color: #008000; text-decoration-color: #008000\">'KSU'</span>, <span style=\"color: #008000; text-decoration-color: #008000\">'K'</span>, <span style=\"color: #008000; text-decoration-color: #008000\">'KEY'</span>, <span style=\"color: #008000; text-decoration-color: #008000\">'KEYS'</span>, <span style=\"color: #008000; text-decoration-color: #008000\">'KMB'</span>, <span style=\"color: #008000; text-decoration-color: #008000\">'KIM'</span>, <span style=\"color: #008000; text-decoration-color: #008000\">'KMI'</span>, <span style=\"color: #008000; text-decoration-color: #008000\">'KLAC'</span>, <span style=\"color: #008000; text-decoration-color: #008000\">'KHC'</span>, <span style=\"color: #008000; text-decoration-color: #008000\">'KR'</span>, <span style=\"color: #008000; text-decoration-color: #008000\">'LHX'</span>, <span style=\"color: #008000; text-decoration-color: #008000\">'LH'</span>, <span style=\"color: #008000; text-decoration-color: #008000\">'LRCX'</span>, \n",
       "<span style=\"color: #008000; text-decoration-color: #008000\">'LW'</span>, <span style=\"color: #008000; text-decoration-color: #008000\">'LVS'</span>, <span style=\"color: #008000; text-decoration-color: #008000\">'LEG'</span>, <span style=\"color: #008000; text-decoration-color: #008000\">'LDOS'</span>, <span style=\"color: #008000; text-decoration-color: #008000\">'LEN'</span>, <span style=\"color: #008000; text-decoration-color: #008000\">'LNC'</span>, <span style=\"color: #008000; text-decoration-color: #008000\">'LIN'</span>, <span style=\"color: #008000; text-decoration-color: #008000\">'LYV'</span>, <span style=\"color: #008000; text-decoration-color: #008000\">'LKQ'</span>, <span style=\"color: #008000; text-decoration-color: #008000\">'LMT'</span>, <span style=\"color: #008000; text-decoration-color: #008000\">'L'</span>, <span style=\"color: #008000; text-decoration-color: #008000\">'LOW'</span>, <span style=\"color: #008000; text-decoration-color: #008000\">'LUMN'</span>, <span style=\"color: #008000; text-decoration-color: #008000\">'LYB'</span>, <span style=\"color: #008000; text-decoration-color: #008000\">'MTB'</span>, <span style=\"color: #008000; text-decoration-color: #008000\">'MRO'</span>, \n",
       "<span style=\"color: #008000; text-decoration-color: #008000\">'MPC'</span>, <span style=\"color: #008000; text-decoration-color: #008000\">'MKTX'</span>, <span style=\"color: #008000; text-decoration-color: #008000\">'MAR'</span>, <span style=\"color: #008000; text-decoration-color: #008000\">'MMC'</span>, <span style=\"color: #008000; text-decoration-color: #008000\">'MLM'</span>, <span style=\"color: #008000; text-decoration-color: #008000\">'MAS'</span>, <span style=\"color: #008000; text-decoration-color: #008000\">'MA'</span>, <span style=\"color: #008000; text-decoration-color: #008000\">'MTCH'</span>, <span style=\"color: #008000; text-decoration-color: #008000\">'MKC'</span>, <span style=\"color: #008000; text-decoration-color: #008000\">'MCD'</span>, <span style=\"color: #008000; text-decoration-color: #008000\">'MCK'</span>, <span style=\"color: #008000; text-decoration-color: #008000\">'MDT'</span>, <span style=\"color: #008000; text-decoration-color: #008000\">'MRK'</span>, <span style=\"color: #008000; text-decoration-color: #008000\">'MET'</span>, <span style=\"color: #008000; text-decoration-color: #008000\">'MTD'</span>, <span style=\"color: #008000; text-decoration-color: #008000\">'MGM'</span>, \n",
       "<span style=\"color: #008000; text-decoration-color: #008000\">'MCHP'</span>, <span style=\"color: #008000; text-decoration-color: #008000\">'MU'</span>, <span style=\"color: #008000; text-decoration-color: #008000\">'MSFT'</span>, <span style=\"color: #008000; text-decoration-color: #008000\">'MAA'</span>, <span style=\"color: #008000; text-decoration-color: #008000\">'MRNA'</span>, <span style=\"color: #008000; text-decoration-color: #008000\">'MHK'</span>, <span style=\"color: #008000; text-decoration-color: #008000\">'TAP'</span>, <span style=\"color: #008000; text-decoration-color: #008000\">'MDLZ'</span>, <span style=\"color: #008000; text-decoration-color: #008000\">'MPWR'</span>, <span style=\"color: #008000; text-decoration-color: #008000\">'MNST'</span>, <span style=\"color: #008000; text-decoration-color: #008000\">'MCO'</span>, <span style=\"color: #008000; text-decoration-color: #008000\">'MS'</span>, <span style=\"color: #008000; text-decoration-color: #008000\">'MSI'</span>, <span style=\"color: #008000; text-decoration-color: #008000\">'MSCI'</span>, <span style=\"color: #008000; text-decoration-color: #008000\">'NDAQ'</span>, \n",
       "<span style=\"color: #008000; text-decoration-color: #008000\">'NTAP'</span>, <span style=\"color: #008000; text-decoration-color: #008000\">'NFLX'</span>, <span style=\"color: #008000; text-decoration-color: #008000\">'NWL'</span>, <span style=\"color: #008000; text-decoration-color: #008000\">'NEM'</span>, <span style=\"color: #008000; text-decoration-color: #008000\">'NWSA'</span>, <span style=\"color: #008000; text-decoration-color: #008000\">'NWS'</span>, <span style=\"color: #008000; text-decoration-color: #008000\">'NEE'</span>, <span style=\"color: #008000; text-decoration-color: #008000\">'NLSN'</span>, <span style=\"color: #008000; text-decoration-color: #008000\">'NKE'</span>, <span style=\"color: #008000; text-decoration-color: #008000\">'NI'</span>, <span style=\"color: #008000; text-decoration-color: #008000\">'NSC'</span>, <span style=\"color: #008000; text-decoration-color: #008000\">'NTRS'</span>, <span style=\"color: #008000; text-decoration-color: #008000\">'NOC'</span>, <span style=\"color: #008000; text-decoration-color: #008000\">'NLOK'</span>, <span style=\"color: #008000; text-decoration-color: #008000\">'NCLH'</span>, \n",
       "<span style=\"color: #008000; text-decoration-color: #008000\">'NRG'</span>, <span style=\"color: #008000; text-decoration-color: #008000\">'NUE'</span>, <span style=\"color: #008000; text-decoration-color: #008000\">'NVDA'</span>, <span style=\"color: #008000; text-decoration-color: #008000\">'NVR'</span>, <span style=\"color: #008000; text-decoration-color: #008000\">'NXPI'</span>, <span style=\"color: #008000; text-decoration-color: #008000\">'ORLY'</span>, <span style=\"color: #008000; text-decoration-color: #008000\">'OXY'</span>, <span style=\"color: #008000; text-decoration-color: #008000\">'ODFL'</span>, <span style=\"color: #008000; text-decoration-color: #008000\">'OMC'</span>, <span style=\"color: #008000; text-decoration-color: #008000\">'OKE'</span>, <span style=\"color: #008000; text-decoration-color: #008000\">'ORCL'</span>, <span style=\"color: #008000; text-decoration-color: #008000\">'OGN'</span>, <span style=\"color: #008000; text-decoration-color: #008000\">'OTIS'</span>, <span style=\"color: #008000; text-decoration-color: #008000\">'PCAR'</span>, <span style=\"color: #008000; text-decoration-color: #008000\">'PKG'</span>, \n",
       "<span style=\"color: #008000; text-decoration-color: #008000\">'PH'</span>, <span style=\"color: #008000; text-decoration-color: #008000\">'PAYX'</span>, <span style=\"color: #008000; text-decoration-color: #008000\">'PAYC'</span>, <span style=\"color: #008000; text-decoration-color: #008000\">'PYPL'</span>, <span style=\"color: #008000; text-decoration-color: #008000\">'PENN'</span>, <span style=\"color: #008000; text-decoration-color: #008000\">'PNR'</span>, <span style=\"color: #008000; text-decoration-color: #008000\">'PBCT'</span>, <span style=\"color: #008000; text-decoration-color: #008000\">'PEP'</span>, <span style=\"color: #008000; text-decoration-color: #008000\">'PKI'</span>, <span style=\"color: #008000; text-decoration-color: #008000\">'PFE'</span>, <span style=\"color: #008000; text-decoration-color: #008000\">'PM'</span>, <span style=\"color: #008000; text-decoration-color: #008000\">'PSX'</span>, <span style=\"color: #008000; text-decoration-color: #008000\">'PNW'</span>, <span style=\"color: #008000; text-decoration-color: #008000\">'PXD'</span>, <span style=\"color: #008000; text-decoration-color: #008000\">'PNC'</span>, <span style=\"color: #008000; text-decoration-color: #008000\">'POOL'</span>,\n",
       "<span style=\"color: #008000; text-decoration-color: #008000\">'PPG'</span>, <span style=\"color: #008000; text-decoration-color: #008000\">'PPL'</span>, <span style=\"color: #008000; text-decoration-color: #008000\">'PFG'</span>, <span style=\"color: #008000; text-decoration-color: #008000\">'PG'</span>, <span style=\"color: #008000; text-decoration-color: #008000\">'PGR'</span>, <span style=\"color: #008000; text-decoration-color: #008000\">'PLD'</span>, <span style=\"color: #008000; text-decoration-color: #008000\">'PRU'</span>, <span style=\"color: #008000; text-decoration-color: #008000\">'PTC'</span>, <span style=\"color: #008000; text-decoration-color: #008000\">'PEG'</span>, <span style=\"color: #008000; text-decoration-color: #008000\">'PSA'</span>, <span style=\"color: #008000; text-decoration-color: #008000\">'PHM'</span>, <span style=\"color: #008000; text-decoration-color: #008000\">'PVH'</span>, <span style=\"color: #008000; text-decoration-color: #008000\">'QRVO'</span>, <span style=\"color: #008000; text-decoration-color: #008000\">'QCOM'</span>, <span style=\"color: #008000; text-decoration-color: #008000\">'PWR'</span>, <span style=\"color: #008000; text-decoration-color: #008000\">'DGX'</span>, \n",
       "<span style=\"color: #008000; text-decoration-color: #008000\">'RL'</span>, <span style=\"color: #008000; text-decoration-color: #008000\">'RJF'</span>, <span style=\"color: #008000; text-decoration-color: #008000\">'RTX'</span>, <span style=\"color: #008000; text-decoration-color: #008000\">'O'</span>, <span style=\"color: #008000; text-decoration-color: #008000\">'REG'</span>, <span style=\"color: #008000; text-decoration-color: #008000\">'REGN'</span>, <span style=\"color: #008000; text-decoration-color: #008000\">'RF'</span>, <span style=\"color: #008000; text-decoration-color: #008000\">'RSG'</span>, <span style=\"color: #008000; text-decoration-color: #008000\">'RMD'</span>, <span style=\"color: #008000; text-decoration-color: #008000\">'RHI'</span>, <span style=\"color: #008000; text-decoration-color: #008000\">'ROK'</span>, <span style=\"color: #008000; text-decoration-color: #008000\">'ROL'</span>, <span style=\"color: #008000; text-decoration-color: #008000\">'ROP'</span>, <span style=\"color: #008000; text-decoration-color: #008000\">'ROST'</span>, <span style=\"color: #008000; text-decoration-color: #008000\">'RCL'</span>, <span style=\"color: #008000; text-decoration-color: #008000\">'SPGI'</span>, \n",
       "<span style=\"color: #008000; text-decoration-color: #008000\">'CRM'</span>, <span style=\"color: #008000; text-decoration-color: #008000\">'SBAC'</span>, <span style=\"color: #008000; text-decoration-color: #008000\">'SLB'</span>, <span style=\"color: #008000; text-decoration-color: #008000\">'STX'</span>, <span style=\"color: #008000; text-decoration-color: #008000\">'SEE'</span>, <span style=\"color: #008000; text-decoration-color: #008000\">'SRE'</span>, <span style=\"color: #008000; text-decoration-color: #008000\">'NOW'</span>, <span style=\"color: #008000; text-decoration-color: #008000\">'SHW'</span>, <span style=\"color: #008000; text-decoration-color: #008000\">'SPG'</span>, <span style=\"color: #008000; text-decoration-color: #008000\">'SWKS'</span>, <span style=\"color: #008000; text-decoration-color: #008000\">'SNA'</span>, <span style=\"color: #008000; text-decoration-color: #008000\">'SO'</span>, <span style=\"color: #008000; text-decoration-color: #008000\">'LUV'</span>, <span style=\"color: #008000; text-decoration-color: #008000\">'SWK'</span>, <span style=\"color: #008000; text-decoration-color: #008000\">'SBUX'</span>, <span style=\"color: #008000; text-decoration-color: #008000\">'STT'</span>, \n",
       "<span style=\"color: #008000; text-decoration-color: #008000\">'STE'</span>, <span style=\"color: #008000; text-decoration-color: #008000\">'SYK'</span>, <span style=\"color: #008000; text-decoration-color: #008000\">'SIVB'</span>, <span style=\"color: #008000; text-decoration-color: #008000\">'SYF'</span>, <span style=\"color: #008000; text-decoration-color: #008000\">'SNPS'</span>, <span style=\"color: #008000; text-decoration-color: #008000\">'SYY'</span>, <span style=\"color: #008000; text-decoration-color: #008000\">'TMUS'</span>, <span style=\"color: #008000; text-decoration-color: #008000\">'TROW'</span>, <span style=\"color: #008000; text-decoration-color: #008000\">'TTWO'</span>, <span style=\"color: #008000; text-decoration-color: #008000\">'TPR'</span>, <span style=\"color: #008000; text-decoration-color: #008000\">'TGT'</span>, <span style=\"color: #008000; text-decoration-color: #008000\">'TEL'</span>, <span style=\"color: #008000; text-decoration-color: #008000\">'TDY'</span>, <span style=\"color: #008000; text-decoration-color: #008000\">'TFX'</span>, <span style=\"color: #008000; text-decoration-color: #008000\">'TER'</span>, \n",
       "<span style=\"color: #008000; text-decoration-color: #008000\">'TSLA'</span>, <span style=\"color: #008000; text-decoration-color: #008000\">'TXN'</span>, <span style=\"color: #008000; text-decoration-color: #008000\">'TXT'</span>, <span style=\"color: #008000; text-decoration-color: #008000\">'COO'</span>, <span style=\"color: #008000; text-decoration-color: #008000\">'HIG'</span>, <span style=\"color: #008000; text-decoration-color: #008000\">'HSY'</span>, <span style=\"color: #008000; text-decoration-color: #008000\">'MOS'</span>, <span style=\"color: #008000; text-decoration-color: #008000\">'TRV'</span>, <span style=\"color: #008000; text-decoration-color: #008000\">'DIS'</span>, <span style=\"color: #008000; text-decoration-color: #008000\">'TMO'</span>, <span style=\"color: #008000; text-decoration-color: #008000\">'TJX'</span>, <span style=\"color: #008000; text-decoration-color: #008000\">'TSCO'</span>, <span style=\"color: #008000; text-decoration-color: #008000\">'TT'</span>, <span style=\"color: #008000; text-decoration-color: #008000\">'TDG'</span>, <span style=\"color: #008000; text-decoration-color: #008000\">'TRMB'</span>, <span style=\"color: #008000; text-decoration-color: #008000\">'TFC'</span>, \n",
       "<span style=\"color: #008000; text-decoration-color: #008000\">'TWTR'</span>, <span style=\"color: #008000; text-decoration-color: #008000\">'TYL'</span>, <span style=\"color: #008000; text-decoration-color: #008000\">'TSN'</span>, <span style=\"color: #008000; text-decoration-color: #008000\">'USB'</span>, <span style=\"color: #008000; text-decoration-color: #008000\">'UDR'</span>, <span style=\"color: #008000; text-decoration-color: #008000\">'ULTA'</span>, <span style=\"color: #008000; text-decoration-color: #008000\">'UAA'</span>, <span style=\"color: #008000; text-decoration-color: #008000\">'UA'</span>, <span style=\"color: #008000; text-decoration-color: #008000\">'UNP'</span>, <span style=\"color: #008000; text-decoration-color: #008000\">'UAL'</span>, <span style=\"color: #008000; text-decoration-color: #008000\">'UPS'</span>, <span style=\"color: #008000; text-decoration-color: #008000\">'URI'</span>, <span style=\"color: #008000; text-decoration-color: #008000\">'UNH'</span>, <span style=\"color: #008000; text-decoration-color: #008000\">'UHS'</span>, <span style=\"color: #008000; text-decoration-color: #008000\">'VLO'</span>, <span style=\"color: #008000; text-decoration-color: #008000\">'VTR'</span>, \n",
       "<span style=\"color: #008000; text-decoration-color: #008000\">'VRSN'</span>, <span style=\"color: #008000; text-decoration-color: #008000\">'VRSK'</span>, <span style=\"color: #008000; text-decoration-color: #008000\">'VZ'</span>, <span style=\"color: #008000; text-decoration-color: #008000\">'VRTX'</span>, <span style=\"color: #008000; text-decoration-color: #008000\">'VFC'</span>, <span style=\"color: #008000; text-decoration-color: #008000\">'VIAC'</span>, <span style=\"color: #008000; text-decoration-color: #008000\">'VTRS'</span>, <span style=\"color: #008000; text-decoration-color: #008000\">'V'</span>, <span style=\"color: #008000; text-decoration-color: #008000\">'VNO'</span>, <span style=\"color: #008000; text-decoration-color: #008000\">'VMC'</span>, <span style=\"color: #008000; text-decoration-color: #008000\">'WRB'</span>, <span style=\"color: #008000; text-decoration-color: #008000\">'GWW'</span>, <span style=\"color: #008000; text-decoration-color: #008000\">'WAB'</span>, <span style=\"color: #008000; text-decoration-color: #008000\">'WBA'</span>, <span style=\"color: #008000; text-decoration-color: #008000\">'WMT'</span>, <span style=\"color: #008000; text-decoration-color: #008000\">'WM'</span>, \n",
       "<span style=\"color: #008000; text-decoration-color: #008000\">'WAT'</span>, <span style=\"color: #008000; text-decoration-color: #008000\">'WEC'</span>, <span style=\"color: #008000; text-decoration-color: #008000\">'WFC'</span>, <span style=\"color: #008000; text-decoration-color: #008000\">'WELL'</span>, <span style=\"color: #008000; text-decoration-color: #008000\">'WST'</span>, <span style=\"color: #008000; text-decoration-color: #008000\">'WDC'</span>, <span style=\"color: #008000; text-decoration-color: #008000\">'WU'</span>, <span style=\"color: #008000; text-decoration-color: #008000\">'WRK'</span>, <span style=\"color: #008000; text-decoration-color: #008000\">'WY'</span>, <span style=\"color: #008000; text-decoration-color: #008000\">'WHR'</span>, <span style=\"color: #008000; text-decoration-color: #008000\">'WMB'</span>, <span style=\"color: #008000; text-decoration-color: #008000\">'WLTW'</span>, <span style=\"color: #008000; text-decoration-color: #008000\">'WYNN'</span>, <span style=\"color: #008000; text-decoration-color: #008000\">'XEL'</span>, <span style=\"color: #008000; text-decoration-color: #008000\">'XLNX'</span>, <span style=\"color: #008000; text-decoration-color: #008000\">'XYL'</span>, \n",
       "<span style=\"color: #008000; text-decoration-color: #008000\">'YUM'</span>, <span style=\"color: #008000; text-decoration-color: #008000\">'ZBRA'</span>, <span style=\"color: #008000; text-decoration-color: #008000\">'ZBH'</span>, <span style=\"color: #008000; text-decoration-color: #008000\">'ZION'</span>, <span style=\"color: #008000; text-decoration-color: #008000\">'ZTS'</span><span style=\"font-weight: bold\">]</span> from <span style=\"color: #008080; text-decoration-color: #008080; font-weight: bold\">2020</span>-<span style=\"color: #008080; text-decoration-color: #008080; font-weight: bold\">06</span>-<span style=\"color: #008080; text-decoration-color: #008080; font-weight: bold\">30</span> to <span style=\"color: #008080; text-decoration-color: #008080; font-weight: bold\">2021</span>-<span style=\"color: #008080; text-decoration-color: #008080; font-weight: bold\">06</span>-<span style=\"color: #008080; text-decoration-color: #008080; font-weight: bold\">30</span>\n",
       "</pre>\n"
      ],
      "text/plain": [
       "Getting stock prices for \u001b[1m[\u001b[0m\u001b[32m'MMM'\u001b[0m, \u001b[32m'AOS'\u001b[0m, \u001b[32m'ABT'\u001b[0m, \u001b[32m'ABBV'\u001b[0m, \u001b[32m'ABMD'\u001b[0m, \u001b[32m'ACN'\u001b[0m, \u001b[32m'ATVI'\u001b[0m, \u001b[32m'ADM'\u001b[0m, \u001b[32m'ADBE'\u001b[0m, \u001b[32m'AAP'\u001b[0m, \u001b[32m'AMD'\u001b[0m, \u001b[32m'AES'\u001b[0m, \n",
       "\u001b[32m'AFL'\u001b[0m, \u001b[32m'A'\u001b[0m, \u001b[32m'APD'\u001b[0m, \u001b[32m'AKAM'\u001b[0m, \u001b[32m'ALK'\u001b[0m, \u001b[32m'ALB'\u001b[0m, \u001b[32m'ARE'\u001b[0m, \u001b[32m'ALGN'\u001b[0m, \u001b[32m'ALLE'\u001b[0m, \u001b[32m'LNT'\u001b[0m, \u001b[32m'ALL'\u001b[0m, \u001b[32m'GOOGL'\u001b[0m, \u001b[32m'GOOG'\u001b[0m, \u001b[32m'MO'\u001b[0m, \u001b[32m'AMZN'\u001b[0m, \n",
       "\u001b[32m'AMCR'\u001b[0m, \u001b[32m'AEE'\u001b[0m, \u001b[32m'AAL'\u001b[0m, \u001b[32m'AEP'\u001b[0m, \u001b[32m'AXP'\u001b[0m, \u001b[32m'AIG'\u001b[0m, \u001b[32m'AMT'\u001b[0m, \u001b[32m'AWK'\u001b[0m, \u001b[32m'AMP'\u001b[0m, \u001b[32m'ABC'\u001b[0m, \u001b[32m'AME'\u001b[0m, \u001b[32m'AMGN'\u001b[0m, \u001b[32m'APH'\u001b[0m, \u001b[32m'ADI'\u001b[0m, \u001b[32m'ANSS'\u001b[0m, \u001b[32m'ANTM'\u001b[0m,\n",
       "\u001b[32m'AON'\u001b[0m, \u001b[32m'APA'\u001b[0m, \u001b[32m'AAPL'\u001b[0m, \u001b[32m'AMAT'\u001b[0m, \u001b[32m'APTV'\u001b[0m, \u001b[32m'ANET'\u001b[0m, \u001b[32m'AJG'\u001b[0m, \u001b[32m'AIZ'\u001b[0m, \u001b[32m'T'\u001b[0m, \u001b[32m'ATO'\u001b[0m, \u001b[32m'ADSK'\u001b[0m, \u001b[32m'ADP'\u001b[0m, \u001b[32m'AZO'\u001b[0m, \u001b[32m'AVB'\u001b[0m, \u001b[32m'AVY'\u001b[0m, \u001b[32m'BKR'\u001b[0m, \n",
       "\u001b[32m'BLL'\u001b[0m, \u001b[32m'BAC'\u001b[0m, \u001b[32m'BBWI'\u001b[0m, \u001b[32m'BAX'\u001b[0m, \u001b[32m'BDX'\u001b[0m, \u001b[32m'BRK.B'\u001b[0m, \u001b[32m'BBY'\u001b[0m, \u001b[32m'BIO'\u001b[0m, \u001b[32m'TECH'\u001b[0m, \u001b[32m'BIIB'\u001b[0m, \u001b[32m'BLK'\u001b[0m, \u001b[32m'BK'\u001b[0m, \u001b[32m'BA'\u001b[0m, \u001b[32m'BKNG'\u001b[0m, \u001b[32m'BWA'\u001b[0m, \u001b[32m'BXP'\u001b[0m,\n",
       "\u001b[32m'BSX'\u001b[0m, \u001b[32m'BMY'\u001b[0m, \u001b[32m'AVGO'\u001b[0m, \u001b[32m'BR'\u001b[0m, \u001b[32m'BRO'\u001b[0m, \u001b[32m'BF.B'\u001b[0m, \u001b[32m'CHRW'\u001b[0m, \u001b[32m'CDNS'\u001b[0m, \u001b[32m'CZR'\u001b[0m, \u001b[32m'CPB'\u001b[0m, \u001b[32m'COF'\u001b[0m, \u001b[32m'CAH'\u001b[0m, \u001b[32m'KMX'\u001b[0m, \u001b[32m'CCL'\u001b[0m, \u001b[32m'CARR'\u001b[0m, \n",
       "\u001b[32m'CTLT'\u001b[0m, \u001b[32m'CAT'\u001b[0m, \u001b[32m'CBOE'\u001b[0m, \u001b[32m'CBRE'\u001b[0m, \u001b[32m'CDW'\u001b[0m, \u001b[32m'CE'\u001b[0m, \u001b[32m'CNC'\u001b[0m, \u001b[32m'CNP'\u001b[0m, \u001b[32m'CDAY'\u001b[0m, \u001b[32m'CERN'\u001b[0m, \u001b[32m'CF'\u001b[0m, \u001b[32m'CRL'\u001b[0m, \u001b[32m'SCHW'\u001b[0m, \u001b[32m'CHTR'\u001b[0m, \u001b[32m'CVX'\u001b[0m, \n",
       "\u001b[32m'CMG'\u001b[0m, \u001b[32m'CB'\u001b[0m, \u001b[32m'CHD'\u001b[0m, \u001b[32m'CI'\u001b[0m, \u001b[32m'CINF'\u001b[0m, \u001b[32m'CTAS'\u001b[0m, \u001b[32m'CSCO'\u001b[0m, \u001b[32m'C'\u001b[0m, \u001b[32m'CFG'\u001b[0m, \u001b[32m'CTXS'\u001b[0m, \u001b[32m'CLX'\u001b[0m, \u001b[32m'CME'\u001b[0m, \u001b[32m'CMS'\u001b[0m, \u001b[32m'KO'\u001b[0m, \u001b[32m'CTSH'\u001b[0m, \u001b[32m'CL'\u001b[0m, \n",
       "\u001b[32m'CMCSA'\u001b[0m, \u001b[32m'CMA'\u001b[0m, \u001b[32m'CAG'\u001b[0m, \u001b[32m'COP'\u001b[0m, \u001b[32m'ED'\u001b[0m, \u001b[32m'STZ'\u001b[0m, \u001b[32m'CPRT'\u001b[0m, \u001b[32m'GLW'\u001b[0m, \u001b[32m'CTVA'\u001b[0m, \u001b[32m'COST'\u001b[0m, \u001b[32m'CTRA'\u001b[0m, \u001b[32m'CCI'\u001b[0m, \u001b[32m'CSX'\u001b[0m, \u001b[32m'CMI'\u001b[0m, \u001b[32m'CVS'\u001b[0m, \n",
       "\u001b[32m'DHI'\u001b[0m, \u001b[32m'DHR'\u001b[0m, \u001b[32m'DRI'\u001b[0m, \u001b[32m'DVA'\u001b[0m, \u001b[32m'DE'\u001b[0m, \u001b[32m'DAL'\u001b[0m, \u001b[32m'XRAY'\u001b[0m, \u001b[32m'DVN'\u001b[0m, \u001b[32m'DXCM'\u001b[0m, \u001b[32m'FANG'\u001b[0m, \u001b[32m'DLR'\u001b[0m, \u001b[32m'DFS'\u001b[0m, \u001b[32m'DISCA'\u001b[0m, \u001b[32m'DISCK'\u001b[0m, \u001b[32m'DISH'\u001b[0m, \n",
       "\u001b[32m'DG'\u001b[0m, \u001b[32m'DLTR'\u001b[0m, \u001b[32m'D'\u001b[0m, \u001b[32m'DPZ'\u001b[0m, \u001b[32m'DOV'\u001b[0m, \u001b[32m'DOW'\u001b[0m, \u001b[32m'DTE'\u001b[0m, \u001b[32m'DUK'\u001b[0m, \u001b[32m'DRE'\u001b[0m, \u001b[32m'DD'\u001b[0m, \u001b[32m'DXC'\u001b[0m, \u001b[32m'EMN'\u001b[0m, \u001b[32m'ETN'\u001b[0m, \u001b[32m'EBAY'\u001b[0m, \u001b[32m'ECL'\u001b[0m, \u001b[32m'EIX'\u001b[0m, \u001b[32m'EW'\u001b[0m,\n",
       "\u001b[32m'EA'\u001b[0m, \u001b[32m'LLY'\u001b[0m, \u001b[32m'EMR'\u001b[0m, \u001b[32m'ENPH'\u001b[0m, \u001b[32m'ETR'\u001b[0m, \u001b[32m'EOG'\u001b[0m, \u001b[32m'EFX'\u001b[0m, \u001b[32m'EQIX'\u001b[0m, \u001b[32m'EQR'\u001b[0m, \u001b[32m'ESS'\u001b[0m, \u001b[32m'EL'\u001b[0m, \u001b[32m'ETSY'\u001b[0m, \u001b[32m'RE'\u001b[0m, \u001b[32m'EVRG'\u001b[0m, \u001b[32m'ES'\u001b[0m, \u001b[32m'EXC'\u001b[0m, \n",
       "\u001b[32m'EXPE'\u001b[0m, \u001b[32m'EXPD'\u001b[0m, \u001b[32m'EXR'\u001b[0m, \u001b[32m'XOM'\u001b[0m, \u001b[32m'FFIV'\u001b[0m, \u001b[32m'FB'\u001b[0m, \u001b[32m'FAST'\u001b[0m, \u001b[32m'FRT'\u001b[0m, \u001b[32m'FDX'\u001b[0m, \u001b[32m'FIS'\u001b[0m, \u001b[32m'FITB'\u001b[0m, \u001b[32m'FRC'\u001b[0m, \u001b[32m'FE'\u001b[0m, \u001b[32m'FISV'\u001b[0m, \u001b[32m'FLT'\u001b[0m, \u001b[32m'FMC'\u001b[0m,\n",
       "\u001b[32m'F'\u001b[0m, \u001b[32m'FTNT'\u001b[0m, \u001b[32m'FTV'\u001b[0m, \u001b[32m'FBHS'\u001b[0m, \u001b[32m'FOXA'\u001b[0m, \u001b[32m'FOX'\u001b[0m, \u001b[32m'BEN'\u001b[0m, \u001b[32m'FCX'\u001b[0m, \u001b[32m'GPS'\u001b[0m, \u001b[32m'GRMN'\u001b[0m, \u001b[32m'IT'\u001b[0m, \u001b[32m'GNRC'\u001b[0m, \u001b[32m'GD'\u001b[0m, \u001b[32m'GE'\u001b[0m, \u001b[32m'GIS'\u001b[0m, \u001b[32m'GM'\u001b[0m, \n",
       "\u001b[32m'GPC'\u001b[0m, \u001b[32m'GILD'\u001b[0m, \u001b[32m'GPN'\u001b[0m, \u001b[32m'GL'\u001b[0m, \u001b[32m'GS'\u001b[0m, \u001b[32m'HAL'\u001b[0m, \u001b[32m'HBI'\u001b[0m, \u001b[32m'HAS'\u001b[0m, \u001b[32m'HCA'\u001b[0m, \u001b[32m'PEAK'\u001b[0m, \u001b[32m'HSIC'\u001b[0m, \u001b[32m'HES'\u001b[0m, \u001b[32m'HPE'\u001b[0m, \u001b[32m'HLT'\u001b[0m, \u001b[32m'HOLX'\u001b[0m, \u001b[32m'HD'\u001b[0m, \n",
       "\u001b[32m'HON'\u001b[0m, \u001b[32m'HRL'\u001b[0m, \u001b[32m'HST'\u001b[0m, \u001b[32m'HWM'\u001b[0m, \u001b[32m'HPQ'\u001b[0m, \u001b[32m'HUM'\u001b[0m, \u001b[32m'HBAN'\u001b[0m, \u001b[32m'HII'\u001b[0m, \u001b[32m'IBM'\u001b[0m, \u001b[32m'IEX'\u001b[0m, \u001b[32m'IDXX'\u001b[0m, \u001b[32m'INFO'\u001b[0m, \u001b[32m'ITW'\u001b[0m, \u001b[32m'ILMN'\u001b[0m, \u001b[32m'INCY'\u001b[0m, \u001b[32m'IR'\u001b[0m,\n",
       "\u001b[32m'INTC'\u001b[0m, \u001b[32m'ICE'\u001b[0m, \u001b[32m'IFF'\u001b[0m, \u001b[32m'IP'\u001b[0m, \u001b[32m'IPG'\u001b[0m, \u001b[32m'INTU'\u001b[0m, \u001b[32m'ISRG'\u001b[0m, \u001b[32m'IVZ'\u001b[0m, \u001b[32m'IPGP'\u001b[0m, \u001b[32m'IQV'\u001b[0m, \u001b[32m'IRM'\u001b[0m, \u001b[32m'JBHT'\u001b[0m, \u001b[32m'JKHY'\u001b[0m, \u001b[32m'J'\u001b[0m, \u001b[32m'SJM'\u001b[0m, \u001b[32m'JNJ'\u001b[0m, \n",
       "\u001b[32m'JCI'\u001b[0m, \u001b[32m'JPM'\u001b[0m, \u001b[32m'JNPR'\u001b[0m, \u001b[32m'KSU'\u001b[0m, \u001b[32m'K'\u001b[0m, \u001b[32m'KEY'\u001b[0m, \u001b[32m'KEYS'\u001b[0m, \u001b[32m'KMB'\u001b[0m, \u001b[32m'KIM'\u001b[0m, \u001b[32m'KMI'\u001b[0m, \u001b[32m'KLAC'\u001b[0m, \u001b[32m'KHC'\u001b[0m, \u001b[32m'KR'\u001b[0m, \u001b[32m'LHX'\u001b[0m, \u001b[32m'LH'\u001b[0m, \u001b[32m'LRCX'\u001b[0m, \n",
       "\u001b[32m'LW'\u001b[0m, \u001b[32m'LVS'\u001b[0m, \u001b[32m'LEG'\u001b[0m, \u001b[32m'LDOS'\u001b[0m, \u001b[32m'LEN'\u001b[0m, \u001b[32m'LNC'\u001b[0m, \u001b[32m'LIN'\u001b[0m, \u001b[32m'LYV'\u001b[0m, \u001b[32m'LKQ'\u001b[0m, \u001b[32m'LMT'\u001b[0m, \u001b[32m'L'\u001b[0m, \u001b[32m'LOW'\u001b[0m, \u001b[32m'LUMN'\u001b[0m, \u001b[32m'LYB'\u001b[0m, \u001b[32m'MTB'\u001b[0m, \u001b[32m'MRO'\u001b[0m, \n",
       "\u001b[32m'MPC'\u001b[0m, \u001b[32m'MKTX'\u001b[0m, \u001b[32m'MAR'\u001b[0m, \u001b[32m'MMC'\u001b[0m, \u001b[32m'MLM'\u001b[0m, \u001b[32m'MAS'\u001b[0m, \u001b[32m'MA'\u001b[0m, \u001b[32m'MTCH'\u001b[0m, \u001b[32m'MKC'\u001b[0m, \u001b[32m'MCD'\u001b[0m, \u001b[32m'MCK'\u001b[0m, \u001b[32m'MDT'\u001b[0m, \u001b[32m'MRK'\u001b[0m, \u001b[32m'MET'\u001b[0m, \u001b[32m'MTD'\u001b[0m, \u001b[32m'MGM'\u001b[0m, \n",
       "\u001b[32m'MCHP'\u001b[0m, \u001b[32m'MU'\u001b[0m, \u001b[32m'MSFT'\u001b[0m, \u001b[32m'MAA'\u001b[0m, \u001b[32m'MRNA'\u001b[0m, \u001b[32m'MHK'\u001b[0m, \u001b[32m'TAP'\u001b[0m, \u001b[32m'MDLZ'\u001b[0m, \u001b[32m'MPWR'\u001b[0m, \u001b[32m'MNST'\u001b[0m, \u001b[32m'MCO'\u001b[0m, \u001b[32m'MS'\u001b[0m, \u001b[32m'MSI'\u001b[0m, \u001b[32m'MSCI'\u001b[0m, \u001b[32m'NDAQ'\u001b[0m, \n",
       "\u001b[32m'NTAP'\u001b[0m, \u001b[32m'NFLX'\u001b[0m, \u001b[32m'NWL'\u001b[0m, \u001b[32m'NEM'\u001b[0m, \u001b[32m'NWSA'\u001b[0m, \u001b[32m'NWS'\u001b[0m, \u001b[32m'NEE'\u001b[0m, \u001b[32m'NLSN'\u001b[0m, \u001b[32m'NKE'\u001b[0m, \u001b[32m'NI'\u001b[0m, \u001b[32m'NSC'\u001b[0m, \u001b[32m'NTRS'\u001b[0m, \u001b[32m'NOC'\u001b[0m, \u001b[32m'NLOK'\u001b[0m, \u001b[32m'NCLH'\u001b[0m, \n",
       "\u001b[32m'NRG'\u001b[0m, \u001b[32m'NUE'\u001b[0m, \u001b[32m'NVDA'\u001b[0m, \u001b[32m'NVR'\u001b[0m, \u001b[32m'NXPI'\u001b[0m, \u001b[32m'ORLY'\u001b[0m, \u001b[32m'OXY'\u001b[0m, \u001b[32m'ODFL'\u001b[0m, \u001b[32m'OMC'\u001b[0m, \u001b[32m'OKE'\u001b[0m, \u001b[32m'ORCL'\u001b[0m, \u001b[32m'OGN'\u001b[0m, \u001b[32m'OTIS'\u001b[0m, \u001b[32m'PCAR'\u001b[0m, \u001b[32m'PKG'\u001b[0m, \n",
       "\u001b[32m'PH'\u001b[0m, \u001b[32m'PAYX'\u001b[0m, \u001b[32m'PAYC'\u001b[0m, \u001b[32m'PYPL'\u001b[0m, \u001b[32m'PENN'\u001b[0m, \u001b[32m'PNR'\u001b[0m, \u001b[32m'PBCT'\u001b[0m, \u001b[32m'PEP'\u001b[0m, \u001b[32m'PKI'\u001b[0m, \u001b[32m'PFE'\u001b[0m, \u001b[32m'PM'\u001b[0m, \u001b[32m'PSX'\u001b[0m, \u001b[32m'PNW'\u001b[0m, \u001b[32m'PXD'\u001b[0m, \u001b[32m'PNC'\u001b[0m, \u001b[32m'POOL'\u001b[0m,\n",
       "\u001b[32m'PPG'\u001b[0m, \u001b[32m'PPL'\u001b[0m, \u001b[32m'PFG'\u001b[0m, \u001b[32m'PG'\u001b[0m, \u001b[32m'PGR'\u001b[0m, \u001b[32m'PLD'\u001b[0m, \u001b[32m'PRU'\u001b[0m, \u001b[32m'PTC'\u001b[0m, \u001b[32m'PEG'\u001b[0m, \u001b[32m'PSA'\u001b[0m, \u001b[32m'PHM'\u001b[0m, \u001b[32m'PVH'\u001b[0m, \u001b[32m'QRVO'\u001b[0m, \u001b[32m'QCOM'\u001b[0m, \u001b[32m'PWR'\u001b[0m, \u001b[32m'DGX'\u001b[0m, \n",
       "\u001b[32m'RL'\u001b[0m, \u001b[32m'RJF'\u001b[0m, \u001b[32m'RTX'\u001b[0m, \u001b[32m'O'\u001b[0m, \u001b[32m'REG'\u001b[0m, \u001b[32m'REGN'\u001b[0m, \u001b[32m'RF'\u001b[0m, \u001b[32m'RSG'\u001b[0m, \u001b[32m'RMD'\u001b[0m, \u001b[32m'RHI'\u001b[0m, \u001b[32m'ROK'\u001b[0m, \u001b[32m'ROL'\u001b[0m, \u001b[32m'ROP'\u001b[0m, \u001b[32m'ROST'\u001b[0m, \u001b[32m'RCL'\u001b[0m, \u001b[32m'SPGI'\u001b[0m, \n",
       "\u001b[32m'CRM'\u001b[0m, \u001b[32m'SBAC'\u001b[0m, \u001b[32m'SLB'\u001b[0m, \u001b[32m'STX'\u001b[0m, \u001b[32m'SEE'\u001b[0m, \u001b[32m'SRE'\u001b[0m, \u001b[32m'NOW'\u001b[0m, \u001b[32m'SHW'\u001b[0m, \u001b[32m'SPG'\u001b[0m, \u001b[32m'SWKS'\u001b[0m, \u001b[32m'SNA'\u001b[0m, \u001b[32m'SO'\u001b[0m, \u001b[32m'LUV'\u001b[0m, \u001b[32m'SWK'\u001b[0m, \u001b[32m'SBUX'\u001b[0m, \u001b[32m'STT'\u001b[0m, \n",
       "\u001b[32m'STE'\u001b[0m, \u001b[32m'SYK'\u001b[0m, \u001b[32m'SIVB'\u001b[0m, \u001b[32m'SYF'\u001b[0m, \u001b[32m'SNPS'\u001b[0m, \u001b[32m'SYY'\u001b[0m, \u001b[32m'TMUS'\u001b[0m, \u001b[32m'TROW'\u001b[0m, \u001b[32m'TTWO'\u001b[0m, \u001b[32m'TPR'\u001b[0m, \u001b[32m'TGT'\u001b[0m, \u001b[32m'TEL'\u001b[0m, \u001b[32m'TDY'\u001b[0m, \u001b[32m'TFX'\u001b[0m, \u001b[32m'TER'\u001b[0m, \n",
       "\u001b[32m'TSLA'\u001b[0m, \u001b[32m'TXN'\u001b[0m, \u001b[32m'TXT'\u001b[0m, \u001b[32m'COO'\u001b[0m, \u001b[32m'HIG'\u001b[0m, \u001b[32m'HSY'\u001b[0m, \u001b[32m'MOS'\u001b[0m, \u001b[32m'TRV'\u001b[0m, \u001b[32m'DIS'\u001b[0m, \u001b[32m'TMO'\u001b[0m, \u001b[32m'TJX'\u001b[0m, \u001b[32m'TSCO'\u001b[0m, \u001b[32m'TT'\u001b[0m, \u001b[32m'TDG'\u001b[0m, \u001b[32m'TRMB'\u001b[0m, \u001b[32m'TFC'\u001b[0m, \n",
       "\u001b[32m'TWTR'\u001b[0m, \u001b[32m'TYL'\u001b[0m, \u001b[32m'TSN'\u001b[0m, \u001b[32m'USB'\u001b[0m, \u001b[32m'UDR'\u001b[0m, \u001b[32m'ULTA'\u001b[0m, \u001b[32m'UAA'\u001b[0m, \u001b[32m'UA'\u001b[0m, \u001b[32m'UNP'\u001b[0m, \u001b[32m'UAL'\u001b[0m, \u001b[32m'UPS'\u001b[0m, \u001b[32m'URI'\u001b[0m, \u001b[32m'UNH'\u001b[0m, \u001b[32m'UHS'\u001b[0m, \u001b[32m'VLO'\u001b[0m, \u001b[32m'VTR'\u001b[0m, \n",
       "\u001b[32m'VRSN'\u001b[0m, \u001b[32m'VRSK'\u001b[0m, \u001b[32m'VZ'\u001b[0m, \u001b[32m'VRTX'\u001b[0m, \u001b[32m'VFC'\u001b[0m, \u001b[32m'VIAC'\u001b[0m, \u001b[32m'VTRS'\u001b[0m, \u001b[32m'V'\u001b[0m, \u001b[32m'VNO'\u001b[0m, \u001b[32m'VMC'\u001b[0m, \u001b[32m'WRB'\u001b[0m, \u001b[32m'GWW'\u001b[0m, \u001b[32m'WAB'\u001b[0m, \u001b[32m'WBA'\u001b[0m, \u001b[32m'WMT'\u001b[0m, \u001b[32m'WM'\u001b[0m, \n",
       "\u001b[32m'WAT'\u001b[0m, \u001b[32m'WEC'\u001b[0m, \u001b[32m'WFC'\u001b[0m, \u001b[32m'WELL'\u001b[0m, \u001b[32m'WST'\u001b[0m, \u001b[32m'WDC'\u001b[0m, \u001b[32m'WU'\u001b[0m, \u001b[32m'WRK'\u001b[0m, \u001b[32m'WY'\u001b[0m, \u001b[32m'WHR'\u001b[0m, \u001b[32m'WMB'\u001b[0m, \u001b[32m'WLTW'\u001b[0m, \u001b[32m'WYNN'\u001b[0m, \u001b[32m'XEL'\u001b[0m, \u001b[32m'XLNX'\u001b[0m, \u001b[32m'XYL'\u001b[0m, \n",
       "\u001b[32m'YUM'\u001b[0m, \u001b[32m'ZBRA'\u001b[0m, \u001b[32m'ZBH'\u001b[0m, \u001b[32m'ZION'\u001b[0m, \u001b[32m'ZTS'\u001b[0m\u001b[1m]\u001b[0m from \u001b[1;36m2020\u001b[0m-\u001b[1;36m06\u001b[0m-\u001b[1;36m30\u001b[0m to \u001b[1;36m2021\u001b[0m-\u001b[1;36m06\u001b[0m-\u001b[1;36m30\u001b[0m\n"
      ]
     },
     "metadata": {},
     "output_type": "display_data"
    },
    {
     "name": "stderr",
     "output_type": "stream",
     "text": [
      "ATVI: No timezone found, symbol may be delisted\n"
     ]
    },
    {
     "data": {
      "text/html": [
       "<pre style=\"white-space:pre;overflow-x:auto;line-height:normal;font-family:Menlo,'DejaVu Sans Mono',consolas,'Courier New',monospace\">Error getting data for ATVI\n",
       "</pre>\n"
      ],
      "text/plain": [
       "Error getting data for ATVI\n"
      ]
     },
     "metadata": {},
     "output_type": "display_data"
    },
    {
     "name": "stderr",
     "output_type": "stream",
     "text": [
      "ABC: No timezone found, symbol may be delisted\n"
     ]
    },
    {
     "data": {
      "text/html": [
       "<pre style=\"white-space:pre;overflow-x:auto;line-height:normal;font-family:Menlo,'DejaVu Sans Mono',consolas,'Courier New',monospace\">Error getting data for ABC\n",
       "</pre>\n"
      ],
      "text/plain": [
       "Error getting data for ABC\n"
      ]
     },
     "metadata": {},
     "output_type": "display_data"
    },
    {
     "name": "stderr",
     "output_type": "stream",
     "text": [
      "ANTM: No timezone found, symbol may be delisted\n"
     ]
    },
    {
     "data": {
      "text/html": [
       "<pre style=\"white-space:pre;overflow-x:auto;line-height:normal;font-family:Menlo,'DejaVu Sans Mono',consolas,'Courier New',monospace\">Error getting data for ANTM\n",
       "</pre>\n"
      ],
      "text/plain": [
       "Error getting data for ANTM\n"
      ]
     },
     "metadata": {},
     "output_type": "display_data"
    },
    {
     "name": "stderr",
     "output_type": "stream",
     "text": [
      "BLL: No timezone found, symbol may be delisted\n"
     ]
    },
    {
     "data": {
      "text/html": [
       "<pre style=\"white-space:pre;overflow-x:auto;line-height:normal;font-family:Menlo,'DejaVu Sans Mono',consolas,'Courier New',monospace\">Error getting data for BLL\n",
       "</pre>\n"
      ],
      "text/plain": [
       "Error getting data for BLL\n"
      ]
     },
     "metadata": {},
     "output_type": "display_data"
    },
    {
     "name": "stderr",
     "output_type": "stream",
     "text": [
      "BRK.B: No timezone found, symbol may be delisted\n"
     ]
    },
    {
     "data": {
      "text/html": [
       "<pre style=\"white-space:pre;overflow-x:auto;line-height:normal;font-family:Menlo,'DejaVu Sans Mono',consolas,'Courier New',monospace\">Error getting data for BRK.B\n",
       "</pre>\n"
      ],
      "text/plain": [
       "Error getting data for BRK.B\n"
      ]
     },
     "metadata": {},
     "output_type": "display_data"
    },
    {
     "name": "stderr",
     "output_type": "stream",
     "text": [
      "BF.B: No price data found, symbol may be delisted (3mo 2020-06-30 -> 2021-06-30)\n"
     ]
    },
    {
     "data": {
      "text/html": [
       "<pre style=\"white-space:pre;overflow-x:auto;line-height:normal;font-family:Menlo,'DejaVu Sans Mono',consolas,'Courier New',monospace\">Error getting data for BF.B\n",
       "</pre>\n"
      ],
      "text/plain": [
       "Error getting data for BF.B\n"
      ]
     },
     "metadata": {},
     "output_type": "display_data"
    },
    {
     "name": "stderr",
     "output_type": "stream",
     "text": [
      "CERN: No timezone found, symbol may be delisted\n"
     ]
    },
    {
     "data": {
      "text/html": [
       "<pre style=\"white-space:pre;overflow-x:auto;line-height:normal;font-family:Menlo,'DejaVu Sans Mono',consolas,'Courier New',monospace\">Error getting data for CERN\n",
       "</pre>\n"
      ],
      "text/plain": [
       "Error getting data for CERN\n"
      ]
     },
     "metadata": {},
     "output_type": "display_data"
    },
    {
     "name": "stderr",
     "output_type": "stream",
     "text": [
      "CTXS: No timezone found, symbol may be delisted\n"
     ]
    },
    {
     "data": {
      "text/html": [
       "<pre style=\"white-space:pre;overflow-x:auto;line-height:normal;font-family:Menlo,'DejaVu Sans Mono',consolas,'Courier New',monospace\">Error getting data for CTXS\n",
       "</pre>\n"
      ],
      "text/plain": [
       "Error getting data for CTXS\n"
      ]
     },
     "metadata": {},
     "output_type": "display_data"
    },
    {
     "name": "stderr",
     "output_type": "stream",
     "text": [
      "DISCA: No timezone found, symbol may be delisted\n"
     ]
    },
    {
     "data": {
      "text/html": [
       "<pre style=\"white-space:pre;overflow-x:auto;line-height:normal;font-family:Menlo,'DejaVu Sans Mono',consolas,'Courier New',monospace\">Error getting data for DISCA\n",
       "</pre>\n"
      ],
      "text/plain": [
       "Error getting data for DISCA\n"
      ]
     },
     "metadata": {},
     "output_type": "display_data"
    },
    {
     "name": "stderr",
     "output_type": "stream",
     "text": [
      "DISCK: No timezone found, symbol may be delisted\n"
     ]
    },
    {
     "data": {
      "text/html": [
       "<pre style=\"white-space:pre;overflow-x:auto;line-height:normal;font-family:Menlo,'DejaVu Sans Mono',consolas,'Courier New',monospace\">Error getting data for DISCK\n",
       "</pre>\n"
      ],
      "text/plain": [
       "Error getting data for DISCK\n"
      ]
     },
     "metadata": {},
     "output_type": "display_data"
    },
    {
     "name": "stderr",
     "output_type": "stream",
     "text": [
      "DRE: No timezone found, symbol may be delisted\n"
     ]
    },
    {
     "data": {
      "text/html": [
       "<pre style=\"white-space:pre;overflow-x:auto;line-height:normal;font-family:Menlo,'DejaVu Sans Mono',consolas,'Courier New',monospace\">Error getting data for DRE\n",
       "</pre>\n"
      ],
      "text/plain": [
       "Error getting data for DRE\n"
      ]
     },
     "metadata": {},
     "output_type": "display_data"
    },
    {
     "name": "stderr",
     "output_type": "stream",
     "text": [
      "RE: No timezone found, symbol may be delisted\n"
     ]
    },
    {
     "data": {
      "text/html": [
       "<pre style=\"white-space:pre;overflow-x:auto;line-height:normal;font-family:Menlo,'DejaVu Sans Mono',consolas,'Courier New',monospace\">Error getting data for RE\n",
       "</pre>\n"
      ],
      "text/plain": [
       "Error getting data for RE\n"
      ]
     },
     "metadata": {},
     "output_type": "display_data"
    },
    {
     "name": "stderr",
     "output_type": "stream",
     "text": [
      "FB: No timezone found, symbol may be delisted\n"
     ]
    },
    {
     "data": {
      "text/html": [
       "<pre style=\"white-space:pre;overflow-x:auto;line-height:normal;font-family:Menlo,'DejaVu Sans Mono',consolas,'Courier New',monospace\">Error getting data for FB\n",
       "</pre>\n"
      ],
      "text/plain": [
       "Error getting data for FB\n"
      ]
     },
     "metadata": {},
     "output_type": "display_data"
    },
    {
     "name": "stderr",
     "output_type": "stream",
     "text": [
      "FRC: No timezone found, symbol may be delisted\n"
     ]
    },
    {
     "data": {
      "text/html": [
       "<pre style=\"white-space:pre;overflow-x:auto;line-height:normal;font-family:Menlo,'DejaVu Sans Mono',consolas,'Courier New',monospace\">Error getting data for FRC\n",
       "</pre>\n"
      ],
      "text/plain": [
       "Error getting data for FRC\n"
      ]
     },
     "metadata": {},
     "output_type": "display_data"
    },
    {
     "name": "stderr",
     "output_type": "stream",
     "text": [
      "FISV: No timezone found, symbol may be delisted\n"
     ]
    },
    {
     "data": {
      "text/html": [
       "<pre style=\"white-space:pre;overflow-x:auto;line-height:normal;font-family:Menlo,'DejaVu Sans Mono',consolas,'Courier New',monospace\">Error getting data for FISV\n",
       "</pre>\n"
      ],
      "text/plain": [
       "Error getting data for FISV\n"
      ]
     },
     "metadata": {},
     "output_type": "display_data"
    },
    {
     "name": "stderr",
     "output_type": "stream",
     "text": [
      "FBHS: No timezone found, symbol may be delisted\n"
     ]
    },
    {
     "data": {
      "text/html": [
       "<pre style=\"white-space:pre;overflow-x:auto;line-height:normal;font-family:Menlo,'DejaVu Sans Mono',consolas,'Courier New',monospace\">Error getting data for FBHS\n",
       "</pre>\n"
      ],
      "text/plain": [
       "Error getting data for FBHS\n"
      ]
     },
     "metadata": {},
     "output_type": "display_data"
    },
    {
     "name": "stderr",
     "output_type": "stream",
     "text": [
      "INFO: No timezone found, symbol may be delisted\n"
     ]
    },
    {
     "data": {
      "text/html": [
       "<pre style=\"white-space:pre;overflow-x:auto;line-height:normal;font-family:Menlo,'DejaVu Sans Mono',consolas,'Courier New',monospace\">Error getting data for INFO\n",
       "</pre>\n"
      ],
      "text/plain": [
       "Error getting data for INFO\n"
      ]
     },
     "metadata": {},
     "output_type": "display_data"
    },
    {
     "name": "stderr",
     "output_type": "stream",
     "text": [
      "KSU: No timezone found, symbol may be delisted\n"
     ]
    },
    {
     "data": {
      "text/html": [
       "<pre style=\"white-space:pre;overflow-x:auto;line-height:normal;font-family:Menlo,'DejaVu Sans Mono',consolas,'Courier New',monospace\">Error getting data for KSU\n",
       "</pre>\n"
      ],
      "text/plain": [
       "Error getting data for KSU\n"
      ]
     },
     "metadata": {},
     "output_type": "display_data"
    },
    {
     "name": "stderr",
     "output_type": "stream",
     "text": [
      "NLSN: No timezone found, symbol may be delisted\n"
     ]
    },
    {
     "data": {
      "text/html": [
       "<pre style=\"white-space:pre;overflow-x:auto;line-height:normal;font-family:Menlo,'DejaVu Sans Mono',consolas,'Courier New',monospace\">Error getting data for NLSN\n",
       "</pre>\n"
      ],
      "text/plain": [
       "Error getting data for NLSN\n"
      ]
     },
     "metadata": {},
     "output_type": "display_data"
    },
    {
     "name": "stderr",
     "output_type": "stream",
     "text": [
      "NLOK: No timezone found, symbol may be delisted\n"
     ]
    },
    {
     "data": {
      "text/html": [
       "<pre style=\"white-space:pre;overflow-x:auto;line-height:normal;font-family:Menlo,'DejaVu Sans Mono',consolas,'Courier New',monospace\">Error getting data for NLOK\n",
       "</pre>\n"
      ],
      "text/plain": [
       "Error getting data for NLOK\n"
      ]
     },
     "metadata": {},
     "output_type": "display_data"
    },
    {
     "name": "stderr",
     "output_type": "stream",
     "text": [
      "PBCT: No timezone found, symbol may be delisted\n"
     ]
    },
    {
     "data": {
      "text/html": [
       "<pre style=\"white-space:pre;overflow-x:auto;line-height:normal;font-family:Menlo,'DejaVu Sans Mono',consolas,'Courier New',monospace\">Error getting data for PBCT\n",
       "</pre>\n"
      ],
      "text/plain": [
       "Error getting data for PBCT\n"
      ]
     },
     "metadata": {},
     "output_type": "display_data"
    },
    {
     "name": "stderr",
     "output_type": "stream",
     "text": [
      "PKI: No timezone found, symbol may be delisted\n"
     ]
    },
    {
     "data": {
      "text/html": [
       "<pre style=\"white-space:pre;overflow-x:auto;line-height:normal;font-family:Menlo,'DejaVu Sans Mono',consolas,'Courier New',monospace\">Error getting data for PKI\n",
       "</pre>\n"
      ],
      "text/plain": [
       "Error getting data for PKI\n"
      ]
     },
     "metadata": {},
     "output_type": "display_data"
    },
    {
     "name": "stderr",
     "output_type": "stream",
     "text": [
      "SIVB: No timezone found, symbol may be delisted\n"
     ]
    },
    {
     "data": {
      "text/html": [
       "<pre style=\"white-space:pre;overflow-x:auto;line-height:normal;font-family:Menlo,'DejaVu Sans Mono',consolas,'Courier New',monospace\">Error getting data for SIVB\n",
       "</pre>\n"
      ],
      "text/plain": [
       "Error getting data for SIVB\n"
      ]
     },
     "metadata": {},
     "output_type": "display_data"
    },
    {
     "name": "stderr",
     "output_type": "stream",
     "text": [
      "TWTR: No timezone found, symbol may be delisted\n"
     ]
    },
    {
     "data": {
      "text/html": [
       "<pre style=\"white-space:pre;overflow-x:auto;line-height:normal;font-family:Menlo,'DejaVu Sans Mono',consolas,'Courier New',monospace\">Error getting data for TWTR\n",
       "</pre>\n"
      ],
      "text/plain": [
       "Error getting data for TWTR\n"
      ]
     },
     "metadata": {},
     "output_type": "display_data"
    },
    {
     "name": "stderr",
     "output_type": "stream",
     "text": [
      "VIAC: No timezone found, symbol may be delisted\n"
     ]
    },
    {
     "data": {
      "text/html": [
       "<pre style=\"white-space:pre;overflow-x:auto;line-height:normal;font-family:Menlo,'DejaVu Sans Mono',consolas,'Courier New',monospace\">Error getting data for VIAC\n",
       "</pre>\n"
      ],
      "text/plain": [
       "Error getting data for VIAC\n"
      ]
     },
     "metadata": {},
     "output_type": "display_data"
    },
    {
     "name": "stderr",
     "output_type": "stream",
     "text": [
      "WLTW: No timezone found, symbol may be delisted\n"
     ]
    },
    {
     "data": {
      "text/html": [
       "<pre style=\"white-space:pre;overflow-x:auto;line-height:normal;font-family:Menlo,'DejaVu Sans Mono',consolas,'Courier New',monospace\">Error getting data for WLTW\n",
       "</pre>\n"
      ],
      "text/plain": [
       "Error getting data for WLTW\n"
      ]
     },
     "metadata": {},
     "output_type": "display_data"
    },
    {
     "name": "stderr",
     "output_type": "stream",
     "text": [
      "XLNX: No timezone found, symbol may be delisted\n"
     ]
    },
    {
     "data": {
      "text/html": [
       "<pre style=\"white-space:pre;overflow-x:auto;line-height:normal;font-family:Menlo,'DejaVu Sans Mono',consolas,'Courier New',monospace\">Error getting data for XLNX\n",
       "</pre>\n"
      ],
      "text/plain": [
       "Error getting data for XLNX\n"
      ]
     },
     "metadata": {},
     "output_type": "display_data"
    }
   ],
   "source": [
    "companies_code = pd.read_csv(\"./data/constituents.csv\")\n",
    "# print(companies_code[\"Symbol\"].values)\n",
    "\n",
    "companies_code['Symbol']\n",
    "      \n",
    "\n",
    "# for ticker in companies_code[\"Symbol\"].to_list():\n",
    "try:\n",
    "    get_stock_prices(companies_code[\"Symbol\"].to_list())\n",
    "except Exception as e:\n",
    "    print(f\"Extraction failed with error: {e}\")\n",
    "    # continue"
   ]
  },
  {
   "cell_type": "code",
   "execution_count": null,
   "metadata": {},
   "outputs": [],
   "source": []
  }
 ],
 "metadata": {
  "kernelspec": {
   "display_name": "venv",
   "language": "python",
   "name": ".venv"
  },
  "language_info": {
   "codemirror_mode": {
    "name": "ipython",
    "version": 3
   },
   "file_extension": ".py",
   "mimetype": "text/x-python",
   "name": "python",
   "nbconvert_exporter": "python",
   "pygments_lexer": "ipython3",
   "version": "3.11.7"
  }
 },
 "nbformat": 4,
 "nbformat_minor": 2
}

{
 "cells": [
  {
   "cell_type": "code",
   "execution_count": 53,
   "metadata": {},
   "outputs": [
    {
     "name": "stdout",
     "output_type": "stream",
     "text": [
      "The rich extension is already loaded. To reload it, use:\n",
      "  %reload_ext rich\n"
     ]
    },
    {
     "data": {
      "text/html": [
       "<pre style=\"white-space:pre;overflow-x:auto;line-height:normal;font-family:Menlo,'DejaVu Sans Mono',consolas,'Courier New',monospace\"><span style=\"color: #7fbfbf; text-decoration-color: #7fbfbf\">[02:34:29] </span><span style=\"color: #000080; text-decoration-color: #000080\">INFO    </span> Identity of the Edgar REST client set to <span style=\"font-weight: bold\">[</span>lakshya@insy695.com<span style=\"font-weight: bold\">]</span>                      <a href=\"file:///Users/yyy/Library/CloudStorage/OneDrive-Personal/MMA/INSY669/assignment/INSY-669-Group-Project/.venv/lib/python3.11/site-packages/edgar/core.py\" target=\"_blank\"><span style=\"color: #7f7f7f; text-decoration-color: #7f7f7f\">core.py</span></a><span style=\"color: #7f7f7f; text-decoration-color: #7f7f7f\">:</span><a href=\"file:///Users/yyy/Library/CloudStorage/OneDrive-Personal/MMA/INSY669/assignment/INSY-669-Group-Project/.venv/lib/python3.11/site-packages/edgar/core.py#153\" target=\"_blank\"><span style=\"color: #7f7f7f; text-decoration-color: #7f7f7f\">153</span></a>\n",
       "</pre>\n"
      ],
      "text/plain": [
       "\u001b[2;36m[02:34:29]\u001b[0m\u001b[2;36m \u001b[0m\u001b[34mINFO    \u001b[0m Identity of the Edgar REST client set to \u001b[1m[\u001b[0mlakshya@insy695.com\u001b[1m]\u001b[0m                      \u001b]8;id=645865;file:///Users/yyy/Library/CloudStorage/OneDrive-Personal/MMA/INSY669/assignment/INSY-669-Group-Project/.venv/lib/python3.11/site-packages/edgar/core.py\u001b\\\u001b[2mcore.py\u001b[0m\u001b]8;;\u001b\\\u001b[2m:\u001b[0m\u001b]8;id=365422;file:///Users/yyy/Library/CloudStorage/OneDrive-Personal/MMA/INSY669/assignment/INSY-669-Group-Project/.venv/lib/python3.11/site-packages/edgar/core.py#153\u001b\\\u001b[2m153\u001b[0m\u001b]8;;\u001b\\\n"
      ]
     },
     "metadata": {},
     "output_type": "display_data"
    }
   ],
   "source": [
    "import os\n",
    "import re\n",
    "import httpx\n",
    "\n",
    "import edgar as edgar\n",
    "from edgar.core import set_identity\n",
    "from edgar._companies import Company\n",
    "from edgar._filings import get_by_accession_number\n",
    "import pandas as pd\n",
    "from bs4 import BeautifulSoup\n",
    "from rich import print\n",
    "from dotenv import load_dotenv, find_dotenv\n",
    "\n",
    "%load_ext rich\n",
    "\n",
    "load_dotenv(find_dotenv())\n",
    "\n",
    "set_identity(\"lakshya@insy695.com\")"
   ]
  },
  {
   "cell_type": "code",
   "execution_count": 54,
   "metadata": {},
   "outputs": [],
   "source": [
    "BASE_URL = \"https://api.sec-api.io/\"\n",
    "client = httpx.Client(\n",
    "    base_url=BASE_URL,\n",
    "    timeout=60.0\n",
    ")\n"
   ]
  },
  {
   "cell_type": "code",
   "execution_count": 55,
   "metadata": {},
   "outputs": [],
   "source": [
    "def parse_html_filing(filing):\n",
    "    html_ = filing.html()\n",
    "    regex = re.compile(r\"(>Item(\\s|&#160;|&nbsp;)(7A|7)\\.{0,1})|(ITEM\\s(7A|7)\\.{0,1})\")\n",
    "    matches = regex.finditer(html_)\n",
    "\n",
    "    match_df = pd.DataFrame([(x.group(), x.start(), x.end()) for x in matches])\n",
    "\n",
    "    match_df.columns = [\"item\", \"start\", \"end\"]\n",
    "    match_df[\"item\"] = match_df.item.str.lower()\n",
    "\n",
    "    match_df.replace(\"&#160;\", \" \", regex=True, inplace=True)\n",
    "    match_df.replace(\"&nbsp;\", \" \", regex=True, inplace=True)\n",
    "    match_df.replace(\" \", \" \", regex=True, inplace=True)\n",
    "    match_df.replace(\"\\.\", \"\", regex=True, inplace=True)\n",
    "    match_df.replace(\">\", \"\", regex=True, inplace=True)\n",
    "\n",
    "    match_df = match_df.sort_values(\"start\", ascending=True).drop_duplicates(\n",
    "        subset=[\"item\"], keep=\"last\"\n",
    "    )\n",
    "\n",
    "    if len(match_df[\"start\"].values) > 1:\n",
    "        item_7_raw = html_[match_df[\"start\"].values[0] : match_df[\"start\"].values[1]]\n",
    "    else:\n",
    "        item_7_raw = html_[match_df[\"start\"].values[0] :]\n",
    "\n",
    "    item_7_content = BeautifulSoup(item_7_raw, \"lxml\").get_text(\"\\n\\n\")\n",
    "\n",
    "    return item_7_content"
   ]
  },
  {
   "cell_type": "code",
   "execution_count": 58,
   "metadata": {},
   "outputs": [],
   "source": [
    "def extract_section(ticker, year):\n",
    "    company = Company(ticker)\n",
    "    filings_df = company.get_filings(form=\"10-K\").to_pandas()\n",
    "    filings_df[\"year\"] = pd.to_datetime(filings_df[\"reportDate\"]).dt.year\n",
    "    accession_number = filings_df.query(f\"year == {year}\")[\"accession_number\"].values[0]\n",
    "\n",
    "    filing = get_by_accession_number(accession_number)\n",
    "\n",
    "    item_7_content_html = parse_html_filing(filing)\n",
    "\n",
    "    extractor_params = {\n",
    "        \"url\": filing.url,\n",
    "        \"item\": \"7\",\n",
    "        \"type\": \"text\",\n",
    "        \"token\": os.getenv(\"SEC_API_KEY\"),\n",
    "    }\n",
    "\n",
    "    response = client.get(\"extractor\", params=extractor_params)\n",
    "\n",
    "    item_7_extracted = response.text\n",
    "\n",
    "    # Save to files\n",
    "    with open(f\"extracted/{ticker}_{year}_item_7_extracted.txt\", \"w\") as f:\n",
    "        f.write(item_7_extracted)\n",
    "\n",
    "    with open(f\"html/{ticker}_{year}_item_7.txt\", \"w\") as f:\n",
    "        f.write(item_7_content_html)\n",
    "\n",
    "    print(f\"{ticker} {year} ITEM 7 saved\")\n",
    "\n",
    "    return filing\n"
   ]
  },
  {
   "cell_type": "code",
   "execution_count": 61,
   "metadata": {},
   "outputs": [
    {
     "data": {
      "text/html": [
       "<pre style=\"white-space:pre;overflow-x:auto;line-height:normal;font-family:Menlo,'DejaVu Sans Mono',consolas,'Courier New',monospace\">MMM <span style=\"color: #008080; text-decoration-color: #008080; font-weight: bold\">2020</span> ITEM <span style=\"color: #008080; text-decoration-color: #008080; font-weight: bold\">7</span> saved\n",
       "</pre>\n"
      ],
      "text/plain": [
       "MMM \u001b[1;36m2020\u001b[0m ITEM \u001b[1;36m7\u001b[0m saved\n"
      ]
     },
     "metadata": {},
     "output_type": "display_data"
    },
    {
     "data": {
      "text/html": [
       "<pre style=\"white-space:pre;overflow-x:auto;line-height:normal;font-family:Menlo,'DejaVu Sans Mono',consolas,'Courier New',monospace\">AOS <span style=\"color: #008080; text-decoration-color: #008080; font-weight: bold\">2020</span> ITEM <span style=\"color: #008080; text-decoration-color: #008080; font-weight: bold\">7</span> saved\n",
       "</pre>\n"
      ],
      "text/plain": [
       "AOS \u001b[1;36m2020\u001b[0m ITEM \u001b[1;36m7\u001b[0m saved\n"
      ]
     },
     "metadata": {},
     "output_type": "display_data"
    },
    {
     "data": {
      "text/html": [
       "<pre style=\"white-space:pre;overflow-x:auto;line-height:normal;font-family:Menlo,'DejaVu Sans Mono',consolas,'Courier New',monospace\">ABT <span style=\"color: #008080; text-decoration-color: #008080; font-weight: bold\">2020</span> ITEM <span style=\"color: #008080; text-decoration-color: #008080; font-weight: bold\">7</span> saved\n",
       "</pre>\n"
      ],
      "text/plain": [
       "ABT \u001b[1;36m2020\u001b[0m ITEM \u001b[1;36m7\u001b[0m saved\n"
      ]
     },
     "metadata": {},
     "output_type": "display_data"
    },
    {
     "data": {
      "text/html": [
       "<pre style=\"white-space:pre;overflow-x:auto;line-height:normal;font-family:Menlo,'DejaVu Sans Mono',consolas,'Courier New',monospace\">ABBV <span style=\"color: #008080; text-decoration-color: #008080; font-weight: bold\">2020</span> ITEM <span style=\"color: #008080; text-decoration-color: #008080; font-weight: bold\">7</span> saved\n",
       "</pre>\n"
      ],
      "text/plain": [
       "ABBV \u001b[1;36m2020\u001b[0m ITEM \u001b[1;36m7\u001b[0m saved\n"
      ]
     },
     "metadata": {},
     "output_type": "display_data"
    },
    {
     "data": {
      "text/html": [
       "<pre style=\"white-space:pre;overflow-x:auto;line-height:normal;font-family:Menlo,'DejaVu Sans Mono',consolas,'Courier New',monospace\">Extraction failed for company: <span style=\"color: #008000; text-decoration-color: #008000\">'NoneType'</span> object has no attribute <span style=\"color: #008000; text-decoration-color: #008000\">'get_filings'</span>\n",
       "</pre>\n"
      ],
      "text/plain": [
       "Extraction failed for company: \u001b[32m'NoneType'\u001b[0m object has no attribute \u001b[32m'get_filings'\u001b[0m\n"
      ]
     },
     "metadata": {},
     "output_type": "display_data"
    },
    {
     "data": {
      "text/html": [
       "<pre style=\"white-space:pre;overflow-x:auto;line-height:normal;font-family:Menlo,'DejaVu Sans Mono',consolas,'Courier New',monospace\">/Users/yyy/Library/CloudStorage/OneDrive-Personal/MMA/INSY669/assignment/INSY-669-Group-Project/.venv/lib/python3.1\n",
       "1/site-packages/rich/live.py:231: UserWarning: install \"ipywidgets\" for Jupyter support\n",
       "  warnings.warn('install \"ipywidgets\" for Jupyter support')\n",
       "</pre>\n"
      ],
      "text/plain": [
       "/Users/yyy/Library/CloudStorage/OneDrive-Personal/MMA/INSY669/assignment/INSY-669-Group-Project/.venv/lib/python3.1\n",
       "1/site-packages/rich/live.py:231: UserWarning: install \"ipywidgets\" for Jupyter support\n",
       "  warnings.warn('install \"ipywidgets\" for Jupyter support')\n"
      ]
     },
     "metadata": {},
     "output_type": "display_data"
    },
    {
     "data": {
      "text/html": [
       "<pre style=\"white-space:pre;overflow-x:auto;line-height:normal;font-family:Menlo,'DejaVu Sans Mono',consolas,'Courier New',monospace\"></pre>\n"
      ],
      "text/plain": []
     },
     "metadata": {},
     "output_type": "display_data"
    },
    {
     "data": {
      "text/html": [
       "<pre style=\"white-space:pre;overflow-x:auto;line-height:normal;font-family:Menlo,'DejaVu Sans Mono',consolas,'Courier New',monospace\">ACN <span style=\"color: #008080; text-decoration-color: #008080; font-weight: bold\">2020</span> ITEM <span style=\"color: #008080; text-decoration-color: #008080; font-weight: bold\">7</span> saved\n",
       "</pre>\n"
      ],
      "text/plain": [
       "ACN \u001b[1;36m2020\u001b[0m ITEM \u001b[1;36m7\u001b[0m saved\n"
      ]
     },
     "metadata": {},
     "output_type": "display_data"
    },
    {
     "data": {
      "text/html": [
       "<pre style=\"white-space:pre;overflow-x:auto;line-height:normal;font-family:Menlo,'DejaVu Sans Mono',consolas,'Courier New',monospace\">Extraction failed for company: <span style=\"color: #008000; text-decoration-color: #008000\">'NoneType'</span> object has no attribute <span style=\"color: #008000; text-decoration-color: #008000\">'get_filings'</span>\n",
       "</pre>\n"
      ],
      "text/plain": [
       "Extraction failed for company: \u001b[32m'NoneType'\u001b[0m object has no attribute \u001b[32m'get_filings'\u001b[0m\n"
      ]
     },
     "metadata": {},
     "output_type": "display_data"
    },
    {
     "data": {
      "text/html": [
       "<pre style=\"white-space:pre;overflow-x:auto;line-height:normal;font-family:Menlo,'DejaVu Sans Mono',consolas,'Courier New',monospace\"></pre>\n"
      ],
      "text/plain": []
     },
     "metadata": {},
     "output_type": "display_data"
    },
    {
     "data": {
      "text/html": [
       "<pre style=\"white-space:pre;overflow-x:auto;line-height:normal;font-family:Menlo,'DejaVu Sans Mono',consolas,'Courier New',monospace\">ADM <span style=\"color: #008080; text-decoration-color: #008080; font-weight: bold\">2020</span> ITEM <span style=\"color: #008080; text-decoration-color: #008080; font-weight: bold\">7</span> saved\n",
       "</pre>\n"
      ],
      "text/plain": [
       "ADM \u001b[1;36m2020\u001b[0m ITEM \u001b[1;36m7\u001b[0m saved\n"
      ]
     },
     "metadata": {},
     "output_type": "display_data"
    },
    {
     "data": {
      "text/html": [
       "<pre style=\"white-space:pre;overflow-x:auto;line-height:normal;font-family:Menlo,'DejaVu Sans Mono',consolas,'Courier New',monospace\"></pre>\n"
      ],
      "text/plain": []
     },
     "metadata": {},
     "output_type": "display_data"
    },
    {
     "data": {
      "text/html": [
       "<pre style=\"white-space:pre;overflow-x:auto;line-height:normal;font-family:Menlo,'DejaVu Sans Mono',consolas,'Courier New',monospace\">ADBE <span style=\"color: #008080; text-decoration-color: #008080; font-weight: bold\">2020</span> ITEM <span style=\"color: #008080; text-decoration-color: #008080; font-weight: bold\">7</span> saved\n",
       "</pre>\n"
      ],
      "text/plain": [
       "ADBE \u001b[1;36m2020\u001b[0m ITEM \u001b[1;36m7\u001b[0m saved\n"
      ]
     },
     "metadata": {},
     "output_type": "display_data"
    },
    {
     "data": {
      "text/html": [
       "<pre style=\"white-space:pre;overflow-x:auto;line-height:normal;font-family:Menlo,'DejaVu Sans Mono',consolas,'Courier New',monospace\">Extraction failed for company: index <span style=\"color: #008080; text-decoration-color: #008080; font-weight: bold\">0</span> is out of bounds for axis <span style=\"color: #008080; text-decoration-color: #008080; font-weight: bold\">0</span> with size <span style=\"color: #008080; text-decoration-color: #008080; font-weight: bold\">0</span>\n",
       "</pre>\n"
      ],
      "text/plain": [
       "Extraction failed for company: index \u001b[1;36m0\u001b[0m is out of bounds for axis \u001b[1;36m0\u001b[0m with size \u001b[1;36m0\u001b[0m\n"
      ]
     },
     "metadata": {},
     "output_type": "display_data"
    },
    {
     "data": {
      "text/html": [
       "<pre style=\"white-space:pre;overflow-x:auto;line-height:normal;font-family:Menlo,'DejaVu Sans Mono',consolas,'Courier New',monospace\"></pre>\n"
      ],
      "text/plain": []
     },
     "metadata": {},
     "output_type": "display_data"
    },
    {
     "data": {
      "text/html": [
       "<pre style=\"white-space:pre;overflow-x:auto;line-height:normal;font-family:Menlo,'DejaVu Sans Mono',consolas,'Courier New',monospace\">Extraction failed for company: Length mismatch: Expected axis has <span style=\"color: #008080; text-decoration-color: #008080; font-weight: bold\">0</span> elements, new values have <span style=\"color: #008080; text-decoration-color: #008080; font-weight: bold\">3</span> elements\n",
       "</pre>\n"
      ],
      "text/plain": [
       "Extraction failed for company: Length mismatch: Expected axis has \u001b[1;36m0\u001b[0m elements, new values have \u001b[1;36m3\u001b[0m elements\n"
      ]
     },
     "metadata": {},
     "output_type": "display_data"
    },
    {
     "data": {
      "text/html": [
       "<pre style=\"white-space:pre;overflow-x:auto;line-height:normal;font-family:Menlo,'DejaVu Sans Mono',consolas,'Courier New',monospace\"></pre>\n"
      ],
      "text/plain": []
     },
     "metadata": {},
     "output_type": "display_data"
    },
    {
     "data": {
      "text/html": [
       "<pre style=\"white-space:pre;overflow-x:auto;line-height:normal;font-family:Menlo,'DejaVu Sans Mono',consolas,'Courier New',monospace\">AES <span style=\"color: #008080; text-decoration-color: #008080; font-weight: bold\">2020</span> ITEM <span style=\"color: #008080; text-decoration-color: #008080; font-weight: bold\">7</span> saved\n",
       "</pre>\n"
      ],
      "text/plain": [
       "AES \u001b[1;36m2020\u001b[0m ITEM \u001b[1;36m7\u001b[0m saved\n"
      ]
     },
     "metadata": {},
     "output_type": "display_data"
    },
    {
     "data": {
      "text/html": [
       "<pre style=\"white-space:pre;overflow-x:auto;line-height:normal;font-family:Menlo,'DejaVu Sans Mono',consolas,'Courier New',monospace\"></pre>\n"
      ],
      "text/plain": []
     },
     "metadata": {},
     "output_type": "display_data"
    },
    {
     "data": {
      "text/html": [
       "<pre style=\"white-space:pre;overflow-x:auto;line-height:normal;font-family:Menlo,'DejaVu Sans Mono',consolas,'Courier New',monospace\">AFL <span style=\"color: #008080; text-decoration-color: #008080; font-weight: bold\">2020</span> ITEM <span style=\"color: #008080; text-decoration-color: #008080; font-weight: bold\">7</span> saved\n",
       "</pre>\n"
      ],
      "text/plain": [
       "AFL \u001b[1;36m2020\u001b[0m ITEM \u001b[1;36m7\u001b[0m saved\n"
      ]
     },
     "metadata": {},
     "output_type": "display_data"
    },
    {
     "data": {
      "text/html": [
       "<pre style=\"white-space:pre;overflow-x:auto;line-height:normal;font-family:Menlo,'DejaVu Sans Mono',consolas,'Courier New',monospace\"></pre>\n"
      ],
      "text/plain": []
     },
     "metadata": {},
     "output_type": "display_data"
    },
    {
     "data": {
      "text/html": [
       "<pre style=\"white-space:pre;overflow-x:auto;line-height:normal;font-family:Menlo,'DejaVu Sans Mono',consolas,'Courier New',monospace\">A <span style=\"color: #008080; text-decoration-color: #008080; font-weight: bold\">2020</span> ITEM <span style=\"color: #008080; text-decoration-color: #008080; font-weight: bold\">7</span> saved\n",
       "</pre>\n"
      ],
      "text/plain": [
       "A \u001b[1;36m2020\u001b[0m ITEM \u001b[1;36m7\u001b[0m saved\n"
      ]
     },
     "metadata": {},
     "output_type": "display_data"
    },
    {
     "data": {
      "text/html": [
       "<pre style=\"white-space:pre;overflow-x:auto;line-height:normal;font-family:Menlo,'DejaVu Sans Mono',consolas,'Courier New',monospace\"></pre>\n"
      ],
      "text/plain": []
     },
     "metadata": {},
     "output_type": "display_data"
    },
    {
     "data": {
      "text/html": [
       "<pre style=\"white-space:pre;overflow-x:auto;line-height:normal;font-family:Menlo,'DejaVu Sans Mono',consolas,'Courier New',monospace\">APD <span style=\"color: #008080; text-decoration-color: #008080; font-weight: bold\">2020</span> ITEM <span style=\"color: #008080; text-decoration-color: #008080; font-weight: bold\">7</span> saved\n",
       "</pre>\n"
      ],
      "text/plain": [
       "APD \u001b[1;36m2020\u001b[0m ITEM \u001b[1;36m7\u001b[0m saved\n"
      ]
     },
     "metadata": {},
     "output_type": "display_data"
    },
    {
     "data": {
      "text/html": [
       "<pre style=\"white-space:pre;overflow-x:auto;line-height:normal;font-family:Menlo,'DejaVu Sans Mono',consolas,'Courier New',monospace\"></pre>\n"
      ],
      "text/plain": []
     },
     "metadata": {},
     "output_type": "display_data"
    },
    {
     "data": {
      "text/html": [
       "<pre style=\"white-space:pre;overflow-x:auto;line-height:normal;font-family:Menlo,'DejaVu Sans Mono',consolas,'Courier New',monospace\">AKAM <span style=\"color: #008080; text-decoration-color: #008080; font-weight: bold\">2020</span> ITEM <span style=\"color: #008080; text-decoration-color: #008080; font-weight: bold\">7</span> saved\n",
       "</pre>\n"
      ],
      "text/plain": [
       "AKAM \u001b[1;36m2020\u001b[0m ITEM \u001b[1;36m7\u001b[0m saved\n"
      ]
     },
     "metadata": {},
     "output_type": "display_data"
    },
    {
     "data": {
      "text/html": [
       "<pre style=\"white-space:pre;overflow-x:auto;line-height:normal;font-family:Menlo,'DejaVu Sans Mono',consolas,'Courier New',monospace\"></pre>\n"
      ],
      "text/plain": []
     },
     "metadata": {},
     "output_type": "display_data"
    },
    {
     "data": {
      "text/html": [
       "<pre style=\"white-space:pre;overflow-x:auto;line-height:normal;font-family:Menlo,'DejaVu Sans Mono',consolas,'Courier New',monospace\">Extraction failed for company: Length mismatch: Expected axis has <span style=\"color: #008080; text-decoration-color: #008080; font-weight: bold\">0</span> elements, new values have <span style=\"color: #008080; text-decoration-color: #008080; font-weight: bold\">3</span> elements\n",
       "</pre>\n"
      ],
      "text/plain": [
       "Extraction failed for company: Length mismatch: Expected axis has \u001b[1;36m0\u001b[0m elements, new values have \u001b[1;36m3\u001b[0m elements\n"
      ]
     },
     "metadata": {},
     "output_type": "display_data"
    },
    {
     "data": {
      "text/html": [
       "<pre style=\"white-space:pre;overflow-x:auto;line-height:normal;font-family:Menlo,'DejaVu Sans Mono',consolas,'Courier New',monospace\"></pre>\n"
      ],
      "text/plain": []
     },
     "metadata": {},
     "output_type": "display_data"
    },
    {
     "data": {
      "text/html": [
       "<pre style=\"white-space:pre;overflow-x:auto;line-height:normal;font-family:Menlo,'DejaVu Sans Mono',consolas,'Courier New',monospace\">ALB <span style=\"color: #008080; text-decoration-color: #008080; font-weight: bold\">2020</span> ITEM <span style=\"color: #008080; text-decoration-color: #008080; font-weight: bold\">7</span> saved\n",
       "</pre>\n"
      ],
      "text/plain": [
       "ALB \u001b[1;36m2020\u001b[0m ITEM \u001b[1;36m7\u001b[0m saved\n"
      ]
     },
     "metadata": {},
     "output_type": "display_data"
    },
    {
     "data": {
      "text/html": [
       "<pre style=\"white-space:pre;overflow-x:auto;line-height:normal;font-family:Menlo,'DejaVu Sans Mono',consolas,'Courier New',monospace\"></pre>\n"
      ],
      "text/plain": []
     },
     "metadata": {},
     "output_type": "display_data"
    },
    {
     "data": {
      "text/html": [
       "<pre style=\"white-space:pre;overflow-x:auto;line-height:normal;font-family:Menlo,'DejaVu Sans Mono',consolas,'Courier New',monospace\">ARE <span style=\"color: #008080; text-decoration-color: #008080; font-weight: bold\">2020</span> ITEM <span style=\"color: #008080; text-decoration-color: #008080; font-weight: bold\">7</span> saved\n",
       "</pre>\n"
      ],
      "text/plain": [
       "ARE \u001b[1;36m2020\u001b[0m ITEM \u001b[1;36m7\u001b[0m saved\n"
      ]
     },
     "metadata": {},
     "output_type": "display_data"
    },
    {
     "data": {
      "text/html": [
       "<pre style=\"white-space:pre;overflow-x:auto;line-height:normal;font-family:Menlo,'DejaVu Sans Mono',consolas,'Courier New',monospace\"></pre>\n"
      ],
      "text/plain": []
     },
     "metadata": {},
     "output_type": "display_data"
    },
    {
     "data": {
      "text/html": [
       "<pre style=\"white-space:pre;overflow-x:auto;line-height:normal;font-family:Menlo,'DejaVu Sans Mono',consolas,'Courier New',monospace\">ALGN <span style=\"color: #008080; text-decoration-color: #008080; font-weight: bold\">2020</span> ITEM <span style=\"color: #008080; text-decoration-color: #008080; font-weight: bold\">7</span> saved\n",
       "</pre>\n"
      ],
      "text/plain": [
       "ALGN \u001b[1;36m2020\u001b[0m ITEM \u001b[1;36m7\u001b[0m saved\n"
      ]
     },
     "metadata": {},
     "output_type": "display_data"
    },
    {
     "data": {
      "text/html": [
       "<pre style=\"white-space:pre;overflow-x:auto;line-height:normal;font-family:Menlo,'DejaVu Sans Mono',consolas,'Courier New',monospace\"></pre>\n"
      ],
      "text/plain": []
     },
     "metadata": {},
     "output_type": "display_data"
    },
    {
     "data": {
      "text/html": [
       "<pre style=\"white-space:pre;overflow-x:auto;line-height:normal;font-family:Menlo,'DejaVu Sans Mono',consolas,'Courier New',monospace\">ALLE <span style=\"color: #008080; text-decoration-color: #008080; font-weight: bold\">2020</span> ITEM <span style=\"color: #008080; text-decoration-color: #008080; font-weight: bold\">7</span> saved\n",
       "</pre>\n"
      ],
      "text/plain": [
       "ALLE \u001b[1;36m2020\u001b[0m ITEM \u001b[1;36m7\u001b[0m saved\n"
      ]
     },
     "metadata": {},
     "output_type": "display_data"
    },
    {
     "data": {
      "text/html": [
       "<pre style=\"white-space:pre;overflow-x:auto;line-height:normal;font-family:Menlo,'DejaVu Sans Mono',consolas,'Courier New',monospace\"></pre>\n"
      ],
      "text/plain": []
     },
     "metadata": {},
     "output_type": "display_data"
    },
    {
     "data": {
      "text/html": [
       "<pre style=\"white-space:pre;overflow-x:auto;line-height:normal;font-family:Menlo,'DejaVu Sans Mono',consolas,'Courier New',monospace\">LNT <span style=\"color: #008080; text-decoration-color: #008080; font-weight: bold\">2020</span> ITEM <span style=\"color: #008080; text-decoration-color: #008080; font-weight: bold\">7</span> saved\n",
       "</pre>\n"
      ],
      "text/plain": [
       "LNT \u001b[1;36m2020\u001b[0m ITEM \u001b[1;36m7\u001b[0m saved\n"
      ]
     },
     "metadata": {},
     "output_type": "display_data"
    },
    {
     "data": {
      "text/html": [
       "<pre style=\"white-space:pre;overflow-x:auto;line-height:normal;font-family:Menlo,'DejaVu Sans Mono',consolas,'Courier New',monospace\"></pre>\n"
      ],
      "text/plain": []
     },
     "metadata": {},
     "output_type": "display_data"
    },
    {
     "data": {
      "text/html": [
       "<pre style=\"white-space:pre;overflow-x:auto;line-height:normal;font-family:Menlo,'DejaVu Sans Mono',consolas,'Courier New',monospace\">ALL <span style=\"color: #008080; text-decoration-color: #008080; font-weight: bold\">2020</span> ITEM <span style=\"color: #008080; text-decoration-color: #008080; font-weight: bold\">7</span> saved\n",
       "</pre>\n"
      ],
      "text/plain": [
       "ALL \u001b[1;36m2020\u001b[0m ITEM \u001b[1;36m7\u001b[0m saved\n"
      ]
     },
     "metadata": {},
     "output_type": "display_data"
    },
    {
     "data": {
      "text/html": [
       "<pre style=\"white-space:pre;overflow-x:auto;line-height:normal;font-family:Menlo,'DejaVu Sans Mono',consolas,'Courier New',monospace\"></pre>\n"
      ],
      "text/plain": []
     },
     "metadata": {},
     "output_type": "display_data"
    },
    {
     "data": {
      "text/html": [
       "<pre style=\"white-space:pre;overflow-x:auto;line-height:normal;font-family:Menlo,'DejaVu Sans Mono',consolas,'Courier New',monospace\">GOOGL <span style=\"color: #008080; text-decoration-color: #008080; font-weight: bold\">2020</span> ITEM <span style=\"color: #008080; text-decoration-color: #008080; font-weight: bold\">7</span> saved\n",
       "</pre>\n"
      ],
      "text/plain": [
       "GOOGL \u001b[1;36m2020\u001b[0m ITEM \u001b[1;36m7\u001b[0m saved\n"
      ]
     },
     "metadata": {},
     "output_type": "display_data"
    },
    {
     "data": {
      "text/html": [
       "<pre style=\"white-space:pre;overflow-x:auto;line-height:normal;font-family:Menlo,'DejaVu Sans Mono',consolas,'Courier New',monospace\">GOOG <span style=\"color: #008080; text-decoration-color: #008080; font-weight: bold\">2020</span> ITEM <span style=\"color: #008080; text-decoration-color: #008080; font-weight: bold\">7</span> saved\n",
       "</pre>\n"
      ],
      "text/plain": [
       "GOOG \u001b[1;36m2020\u001b[0m ITEM \u001b[1;36m7\u001b[0m saved\n"
      ]
     },
     "metadata": {},
     "output_type": "display_data"
    },
    {
     "data": {
      "text/html": [
       "<pre style=\"white-space:pre;overflow-x:auto;line-height:normal;font-family:Menlo,'DejaVu Sans Mono',consolas,'Courier New',monospace\"></pre>\n"
      ],
      "text/plain": []
     },
     "metadata": {},
     "output_type": "display_data"
    },
    {
     "data": {
      "text/html": [
       "<pre style=\"white-space:pre;overflow-x:auto;line-height:normal;font-family:Menlo,'DejaVu Sans Mono',consolas,'Courier New',monospace\">MO <span style=\"color: #008080; text-decoration-color: #008080; font-weight: bold\">2020</span> ITEM <span style=\"color: #008080; text-decoration-color: #008080; font-weight: bold\">7</span> saved\n",
       "</pre>\n"
      ],
      "text/plain": [
       "MO \u001b[1;36m2020\u001b[0m ITEM \u001b[1;36m7\u001b[0m saved\n"
      ]
     },
     "metadata": {},
     "output_type": "display_data"
    },
    {
     "data": {
      "text/html": [
       "<pre style=\"white-space:pre;overflow-x:auto;line-height:normal;font-family:Menlo,'DejaVu Sans Mono',consolas,'Courier New',monospace\"></pre>\n"
      ],
      "text/plain": []
     },
     "metadata": {},
     "output_type": "display_data"
    },
    {
     "data": {
      "text/html": [
       "<pre style=\"white-space:pre;overflow-x:auto;line-height:normal;font-family:Menlo,'DejaVu Sans Mono',consolas,'Courier New',monospace\">AMZN <span style=\"color: #008080; text-decoration-color: #008080; font-weight: bold\">2020</span> ITEM <span style=\"color: #008080; text-decoration-color: #008080; font-weight: bold\">7</span> saved\n",
       "</pre>\n"
      ],
      "text/plain": [
       "AMZN \u001b[1;36m2020\u001b[0m ITEM \u001b[1;36m7\u001b[0m saved\n"
      ]
     },
     "metadata": {},
     "output_type": "display_data"
    },
    {
     "data": {
      "text/html": [
       "<pre style=\"white-space:pre;overflow-x:auto;line-height:normal;font-family:Menlo,'DejaVu Sans Mono',consolas,'Courier New',monospace\"></pre>\n"
      ],
      "text/plain": []
     },
     "metadata": {},
     "output_type": "display_data"
    },
    {
     "data": {
      "text/html": [
       "<pre style=\"white-space:pre;overflow-x:auto;line-height:normal;font-family:Menlo,'DejaVu Sans Mono',consolas,'Courier New',monospace\">AMCR <span style=\"color: #008080; text-decoration-color: #008080; font-weight: bold\">2020</span> ITEM <span style=\"color: #008080; text-decoration-color: #008080; font-weight: bold\">7</span> saved\n",
       "</pre>\n"
      ],
      "text/plain": [
       "AMCR \u001b[1;36m2020\u001b[0m ITEM \u001b[1;36m7\u001b[0m saved\n"
      ]
     },
     "metadata": {},
     "output_type": "display_data"
    },
    {
     "data": {
      "text/html": [
       "<pre style=\"white-space:pre;overflow-x:auto;line-height:normal;font-family:Menlo,'DejaVu Sans Mono',consolas,'Courier New',monospace\"></pre>\n"
      ],
      "text/plain": []
     },
     "metadata": {},
     "output_type": "display_data"
    },
    {
     "data": {
      "text/html": [
       "<pre style=\"white-space:pre;overflow-x:auto;line-height:normal;font-family:Menlo,'DejaVu Sans Mono',consolas,'Courier New',monospace\">AEE <span style=\"color: #008080; text-decoration-color: #008080; font-weight: bold\">2020</span> ITEM <span style=\"color: #008080; text-decoration-color: #008080; font-weight: bold\">7</span> saved\n",
       "</pre>\n"
      ],
      "text/plain": [
       "AEE \u001b[1;36m2020\u001b[0m ITEM \u001b[1;36m7\u001b[0m saved\n"
      ]
     },
     "metadata": {},
     "output_type": "display_data"
    },
    {
     "data": {
      "text/html": [
       "<pre style=\"white-space:pre;overflow-x:auto;line-height:normal;font-family:Menlo,'DejaVu Sans Mono',consolas,'Courier New',monospace\"></pre>\n"
      ],
      "text/plain": []
     },
     "metadata": {},
     "output_type": "display_data"
    },
    {
     "data": {
      "text/html": [
       "<pre style=\"white-space:pre;overflow-x:auto;line-height:normal;font-family:Menlo,'DejaVu Sans Mono',consolas,'Courier New',monospace\">AAL <span style=\"color: #008080; text-decoration-color: #008080; font-weight: bold\">2020</span> ITEM <span style=\"color: #008080; text-decoration-color: #008080; font-weight: bold\">7</span> saved\n",
       "</pre>\n"
      ],
      "text/plain": [
       "AAL \u001b[1;36m2020\u001b[0m ITEM \u001b[1;36m7\u001b[0m saved\n"
      ]
     },
     "metadata": {},
     "output_type": "display_data"
    },
    {
     "data": {
      "text/html": [
       "<pre style=\"white-space:pre;overflow-x:auto;line-height:normal;font-family:Menlo,'DejaVu Sans Mono',consolas,'Courier New',monospace\"></pre>\n"
      ],
      "text/plain": []
     },
     "metadata": {},
     "output_type": "display_data"
    },
    {
     "data": {
      "text/html": [
       "<pre style=\"white-space:pre;overflow-x:auto;line-height:normal;font-family:Menlo,'DejaVu Sans Mono',consolas,'Courier New',monospace\">AEP <span style=\"color: #008080; text-decoration-color: #008080; font-weight: bold\">2020</span> ITEM <span style=\"color: #008080; text-decoration-color: #008080; font-weight: bold\">7</span> saved\n",
       "</pre>\n"
      ],
      "text/plain": [
       "AEP \u001b[1;36m2020\u001b[0m ITEM \u001b[1;36m7\u001b[0m saved\n"
      ]
     },
     "metadata": {},
     "output_type": "display_data"
    },
    {
     "data": {
      "text/html": [
       "<pre style=\"white-space:pre;overflow-x:auto;line-height:normal;font-family:Menlo,'DejaVu Sans Mono',consolas,'Courier New',monospace\"></pre>\n"
      ],
      "text/plain": []
     },
     "metadata": {},
     "output_type": "display_data"
    },
    {
     "data": {
      "text/html": [
       "<pre style=\"white-space:pre;overflow-x:auto;line-height:normal;font-family:Menlo,'DejaVu Sans Mono',consolas,'Courier New',monospace\">AXP <span style=\"color: #008080; text-decoration-color: #008080; font-weight: bold\">2020</span> ITEM <span style=\"color: #008080; text-decoration-color: #008080; font-weight: bold\">7</span> saved\n",
       "</pre>\n"
      ],
      "text/plain": [
       "AXP \u001b[1;36m2020\u001b[0m ITEM \u001b[1;36m7\u001b[0m saved\n"
      ]
     },
     "metadata": {},
     "output_type": "display_data"
    },
    {
     "data": {
      "text/html": [
       "<pre style=\"white-space:pre;overflow-x:auto;line-height:normal;font-family:Menlo,'DejaVu Sans Mono',consolas,'Courier New',monospace\"></pre>\n"
      ],
      "text/plain": []
     },
     "metadata": {},
     "output_type": "display_data"
    },
    {
     "data": {
      "text/html": [
       "<pre style=\"white-space:pre;overflow-x:auto;line-height:normal;font-family:Menlo,'DejaVu Sans Mono',consolas,'Courier New',monospace\">AIG <span style=\"color: #008080; text-decoration-color: #008080; font-weight: bold\">2020</span> ITEM <span style=\"color: #008080; text-decoration-color: #008080; font-weight: bold\">7</span> saved\n",
       "</pre>\n"
      ],
      "text/plain": [
       "AIG \u001b[1;36m2020\u001b[0m ITEM \u001b[1;36m7\u001b[0m saved\n"
      ]
     },
     "metadata": {},
     "output_type": "display_data"
    },
    {
     "data": {
      "text/html": [
       "<pre style=\"white-space:pre;overflow-x:auto;line-height:normal;font-family:Menlo,'DejaVu Sans Mono',consolas,'Courier New',monospace\"></pre>\n"
      ],
      "text/plain": []
     },
     "metadata": {},
     "output_type": "display_data"
    },
    {
     "data": {
      "text/html": [
       "<pre style=\"white-space:pre;overflow-x:auto;line-height:normal;font-family:Menlo,'DejaVu Sans Mono',consolas,'Courier New',monospace\">AMT <span style=\"color: #008080; text-decoration-color: #008080; font-weight: bold\">2020</span> ITEM <span style=\"color: #008080; text-decoration-color: #008080; font-weight: bold\">7</span> saved\n",
       "</pre>\n"
      ],
      "text/plain": [
       "AMT \u001b[1;36m2020\u001b[0m ITEM \u001b[1;36m7\u001b[0m saved\n"
      ]
     },
     "metadata": {},
     "output_type": "display_data"
    },
    {
     "data": {
      "text/html": [
       "<pre style=\"white-space:pre;overflow-x:auto;line-height:normal;font-family:Menlo,'DejaVu Sans Mono',consolas,'Courier New',monospace\"></pre>\n"
      ],
      "text/plain": []
     },
     "metadata": {},
     "output_type": "display_data"
    },
    {
     "data": {
      "text/html": [
       "<pre style=\"white-space:pre;overflow-x:auto;line-height:normal;font-family:Menlo,'DejaVu Sans Mono',consolas,'Courier New',monospace\">AWK <span style=\"color: #008080; text-decoration-color: #008080; font-weight: bold\">2020</span> ITEM <span style=\"color: #008080; text-decoration-color: #008080; font-weight: bold\">7</span> saved\n",
       "</pre>\n"
      ],
      "text/plain": [
       "AWK \u001b[1;36m2020\u001b[0m ITEM \u001b[1;36m7\u001b[0m saved\n"
      ]
     },
     "metadata": {},
     "output_type": "display_data"
    },
    {
     "data": {
      "text/html": [
       "<pre style=\"white-space:pre;overflow-x:auto;line-height:normal;font-family:Menlo,'DejaVu Sans Mono',consolas,'Courier New',monospace\"></pre>\n"
      ],
      "text/plain": []
     },
     "metadata": {},
     "output_type": "display_data"
    },
    {
     "data": {
      "text/html": [
       "<pre style=\"white-space:pre;overflow-x:auto;line-height:normal;font-family:Menlo,'DejaVu Sans Mono',consolas,'Courier New',monospace\">AMP <span style=\"color: #008080; text-decoration-color: #008080; font-weight: bold\">2020</span> ITEM <span style=\"color: #008080; text-decoration-color: #008080; font-weight: bold\">7</span> saved\n",
       "</pre>\n"
      ],
      "text/plain": [
       "AMP \u001b[1;36m2020\u001b[0m ITEM \u001b[1;36m7\u001b[0m saved\n"
      ]
     },
     "metadata": {},
     "output_type": "display_data"
    },
    {
     "data": {
      "text/html": [
       "<pre style=\"white-space:pre;overflow-x:auto;line-height:normal;font-family:Menlo,'DejaVu Sans Mono',consolas,'Courier New',monospace\">Extraction failed for company: <span style=\"color: #008000; text-decoration-color: #008000\">'NoneType'</span> object has no attribute <span style=\"color: #008000; text-decoration-color: #008000\">'get_filings'</span>\n",
       "</pre>\n"
      ],
      "text/plain": [
       "Extraction failed for company: \u001b[32m'NoneType'\u001b[0m object has no attribute \u001b[32m'get_filings'\u001b[0m\n"
      ]
     },
     "metadata": {},
     "output_type": "display_data"
    },
    {
     "data": {
      "text/html": [
       "<pre style=\"white-space:pre;overflow-x:auto;line-height:normal;font-family:Menlo,'DejaVu Sans Mono',consolas,'Courier New',monospace\"></pre>\n"
      ],
      "text/plain": []
     },
     "metadata": {},
     "output_type": "display_data"
    },
    {
     "data": {
      "text/html": [
       "<pre style=\"white-space:pre;overflow-x:auto;line-height:normal;font-family:Menlo,'DejaVu Sans Mono',consolas,'Courier New',monospace\">AME <span style=\"color: #008080; text-decoration-color: #008080; font-weight: bold\">2020</span> ITEM <span style=\"color: #008080; text-decoration-color: #008080; font-weight: bold\">7</span> saved\n",
       "</pre>\n"
      ],
      "text/plain": [
       "AME \u001b[1;36m2020\u001b[0m ITEM \u001b[1;36m7\u001b[0m saved\n"
      ]
     },
     "metadata": {},
     "output_type": "display_data"
    },
    {
     "data": {
      "text/html": [
       "<pre style=\"white-space:pre;overflow-x:auto;line-height:normal;font-family:Menlo,'DejaVu Sans Mono',consolas,'Courier New',monospace\"></pre>\n"
      ],
      "text/plain": []
     },
     "metadata": {},
     "output_type": "display_data"
    },
    {
     "data": {
      "text/html": [
       "<pre style=\"white-space:pre;overflow-x:auto;line-height:normal;font-family:Menlo,'DejaVu Sans Mono',consolas,'Courier New',monospace\">AMGN <span style=\"color: #008080; text-decoration-color: #008080; font-weight: bold\">2020</span> ITEM <span style=\"color: #008080; text-decoration-color: #008080; font-weight: bold\">7</span> saved\n",
       "</pre>\n"
      ],
      "text/plain": [
       "AMGN \u001b[1;36m2020\u001b[0m ITEM \u001b[1;36m7\u001b[0m saved\n"
      ]
     },
     "metadata": {},
     "output_type": "display_data"
    },
    {
     "data": {
      "text/html": [
       "<pre style=\"white-space:pre;overflow-x:auto;line-height:normal;font-family:Menlo,'DejaVu Sans Mono',consolas,'Courier New',monospace\"></pre>\n"
      ],
      "text/plain": []
     },
     "metadata": {},
     "output_type": "display_data"
    },
    {
     "data": {
      "text/html": [
       "<pre style=\"white-space:pre;overflow-x:auto;line-height:normal;font-family:Menlo,'DejaVu Sans Mono',consolas,'Courier New',monospace\">APH <span style=\"color: #008080; text-decoration-color: #008080; font-weight: bold\">2020</span> ITEM <span style=\"color: #008080; text-decoration-color: #008080; font-weight: bold\">7</span> saved\n",
       "</pre>\n"
      ],
      "text/plain": [
       "APH \u001b[1;36m2020\u001b[0m ITEM \u001b[1;36m7\u001b[0m saved\n"
      ]
     },
     "metadata": {},
     "output_type": "display_data"
    },
    {
     "data": {
      "text/html": [
       "<pre style=\"white-space:pre;overflow-x:auto;line-height:normal;font-family:Menlo,'DejaVu Sans Mono',consolas,'Courier New',monospace\"></pre>\n"
      ],
      "text/plain": []
     },
     "metadata": {},
     "output_type": "display_data"
    },
    {
     "data": {
      "text/html": [
       "<pre style=\"white-space:pre;overflow-x:auto;line-height:normal;font-family:Menlo,'DejaVu Sans Mono',consolas,'Courier New',monospace\">ADI <span style=\"color: #008080; text-decoration-color: #008080; font-weight: bold\">2020</span> ITEM <span style=\"color: #008080; text-decoration-color: #008080; font-weight: bold\">7</span> saved\n",
       "</pre>\n"
      ],
      "text/plain": [
       "ADI \u001b[1;36m2020\u001b[0m ITEM \u001b[1;36m7\u001b[0m saved\n"
      ]
     },
     "metadata": {},
     "output_type": "display_data"
    },
    {
     "data": {
      "text/html": [
       "<pre style=\"white-space:pre;overflow-x:auto;line-height:normal;font-family:Menlo,'DejaVu Sans Mono',consolas,'Courier New',monospace\"></pre>\n"
      ],
      "text/plain": []
     },
     "metadata": {},
     "output_type": "display_data"
    },
    {
     "data": {
      "text/html": [
       "<pre style=\"white-space:pre;overflow-x:auto;line-height:normal;font-family:Menlo,'DejaVu Sans Mono',consolas,'Courier New',monospace\">ANSS <span style=\"color: #008080; text-decoration-color: #008080; font-weight: bold\">2020</span> ITEM <span style=\"color: #008080; text-decoration-color: #008080; font-weight: bold\">7</span> saved\n",
       "</pre>\n"
      ],
      "text/plain": [
       "ANSS \u001b[1;36m2020\u001b[0m ITEM \u001b[1;36m7\u001b[0m saved\n"
      ]
     },
     "metadata": {},
     "output_type": "display_data"
    },
    {
     "data": {
      "text/html": [
       "<pre style=\"white-space:pre;overflow-x:auto;line-height:normal;font-family:Menlo,'DejaVu Sans Mono',consolas,'Courier New',monospace\">Extraction failed for company: <span style=\"color: #008000; text-decoration-color: #008000\">'NoneType'</span> object has no attribute <span style=\"color: #008000; text-decoration-color: #008000\">'get_filings'</span>\n",
       "</pre>\n"
      ],
      "text/plain": [
       "Extraction failed for company: \u001b[32m'NoneType'\u001b[0m object has no attribute \u001b[32m'get_filings'\u001b[0m\n"
      ]
     },
     "metadata": {},
     "output_type": "display_data"
    },
    {
     "data": {
      "text/html": [
       "<pre style=\"white-space:pre;overflow-x:auto;line-height:normal;font-family:Menlo,'DejaVu Sans Mono',consolas,'Courier New',monospace\"></pre>\n"
      ],
      "text/plain": []
     },
     "metadata": {},
     "output_type": "display_data"
    },
    {
     "data": {
      "text/html": [
       "<pre style=\"white-space:pre;overflow-x:auto;line-height:normal;font-family:Menlo,'DejaVu Sans Mono',consolas,'Courier New',monospace\">AON <span style=\"color: #008080; text-decoration-color: #008080; font-weight: bold\">2020</span> ITEM <span style=\"color: #008080; text-decoration-color: #008080; font-weight: bold\">7</span> saved\n",
       "</pre>\n"
      ],
      "text/plain": [
       "AON \u001b[1;36m2020\u001b[0m ITEM \u001b[1;36m7\u001b[0m saved\n"
      ]
     },
     "metadata": {},
     "output_type": "display_data"
    },
    {
     "data": {
      "text/html": [
       "<pre style=\"white-space:pre;overflow-x:auto;line-height:normal;font-family:Menlo,'DejaVu Sans Mono',consolas,'Courier New',monospace\">Extraction failed for company: index <span style=\"color: #008080; text-decoration-color: #008080; font-weight: bold\">0</span> is out of bounds for axis <span style=\"color: #008080; text-decoration-color: #008080; font-weight: bold\">0</span> with size <span style=\"color: #008080; text-decoration-color: #008080; font-weight: bold\">0</span>\n",
       "</pre>\n"
      ],
      "text/plain": [
       "Extraction failed for company: index \u001b[1;36m0\u001b[0m is out of bounds for axis \u001b[1;36m0\u001b[0m with size \u001b[1;36m0\u001b[0m\n"
      ]
     },
     "metadata": {},
     "output_type": "display_data"
    },
    {
     "data": {
      "text/html": [
       "<pre style=\"white-space:pre;overflow-x:auto;line-height:normal;font-family:Menlo,'DejaVu Sans Mono',consolas,'Courier New',monospace\"></pre>\n"
      ],
      "text/plain": []
     },
     "metadata": {},
     "output_type": "display_data"
    },
    {
     "data": {
      "text/html": [
       "<pre style=\"white-space:pre;overflow-x:auto;line-height:normal;font-family:Menlo,'DejaVu Sans Mono',consolas,'Courier New',monospace\">AAPL <span style=\"color: #008080; text-decoration-color: #008080; font-weight: bold\">2020</span> ITEM <span style=\"color: #008080; text-decoration-color: #008080; font-weight: bold\">7</span> saved\n",
       "</pre>\n"
      ],
      "text/plain": [
       "AAPL \u001b[1;36m2020\u001b[0m ITEM \u001b[1;36m7\u001b[0m saved\n"
      ]
     },
     "metadata": {},
     "output_type": "display_data"
    },
    {
     "data": {
      "text/html": [
       "<pre style=\"white-space:pre;overflow-x:auto;line-height:normal;font-family:Menlo,'DejaVu Sans Mono',consolas,'Courier New',monospace\"></pre>\n"
      ],
      "text/plain": []
     },
     "metadata": {},
     "output_type": "display_data"
    },
    {
     "data": {
      "text/html": [
       "<pre style=\"white-space:pre;overflow-x:auto;line-height:normal;font-family:Menlo,'DejaVu Sans Mono',consolas,'Courier New',monospace\">AMAT <span style=\"color: #008080; text-decoration-color: #008080; font-weight: bold\">2020</span> ITEM <span style=\"color: #008080; text-decoration-color: #008080; font-weight: bold\">7</span> saved\n",
       "</pre>\n"
      ],
      "text/plain": [
       "AMAT \u001b[1;36m2020\u001b[0m ITEM \u001b[1;36m7\u001b[0m saved\n"
      ]
     },
     "metadata": {},
     "output_type": "display_data"
    },
    {
     "data": {
      "text/html": [
       "<pre style=\"white-space:pre;overflow-x:auto;line-height:normal;font-family:Menlo,'DejaVu Sans Mono',consolas,'Courier New',monospace\"></pre>\n"
      ],
      "text/plain": []
     },
     "metadata": {},
     "output_type": "display_data"
    },
    {
     "data": {
      "text/html": [
       "<pre style=\"white-space:pre;overflow-x:auto;line-height:normal;font-family:Menlo,'DejaVu Sans Mono',consolas,'Courier New',monospace\">APTV <span style=\"color: #008080; text-decoration-color: #008080; font-weight: bold\">2020</span> ITEM <span style=\"color: #008080; text-decoration-color: #008080; font-weight: bold\">7</span> saved\n",
       "</pre>\n"
      ],
      "text/plain": [
       "APTV \u001b[1;36m2020\u001b[0m ITEM \u001b[1;36m7\u001b[0m saved\n"
      ]
     },
     "metadata": {},
     "output_type": "display_data"
    },
    {
     "data": {
      "text/html": [
       "<pre style=\"white-space:pre;overflow-x:auto;line-height:normal;font-family:Menlo,'DejaVu Sans Mono',consolas,'Courier New',monospace\"></pre>\n"
      ],
      "text/plain": []
     },
     "metadata": {},
     "output_type": "display_data"
    },
    {
     "data": {
      "text/html": [
       "<pre style=\"white-space:pre;overflow-x:auto;line-height:normal;font-family:Menlo,'DejaVu Sans Mono',consolas,'Courier New',monospace\">ANET <span style=\"color: #008080; text-decoration-color: #008080; font-weight: bold\">2020</span> ITEM <span style=\"color: #008080; text-decoration-color: #008080; font-weight: bold\">7</span> saved\n",
       "</pre>\n"
      ],
      "text/plain": [
       "ANET \u001b[1;36m2020\u001b[0m ITEM \u001b[1;36m7\u001b[0m saved\n"
      ]
     },
     "metadata": {},
     "output_type": "display_data"
    },
    {
     "data": {
      "text/html": [
       "<pre style=\"white-space:pre;overflow-x:auto;line-height:normal;font-family:Menlo,'DejaVu Sans Mono',consolas,'Courier New',monospace\"></pre>\n"
      ],
      "text/plain": []
     },
     "metadata": {},
     "output_type": "display_data"
    },
    {
     "data": {
      "text/html": [
       "<pre style=\"white-space:pre;overflow-x:auto;line-height:normal;font-family:Menlo,'DejaVu Sans Mono',consolas,'Courier New',monospace\">AJG <span style=\"color: #008080; text-decoration-color: #008080; font-weight: bold\">2020</span> ITEM <span style=\"color: #008080; text-decoration-color: #008080; font-weight: bold\">7</span> saved\n",
       "</pre>\n"
      ],
      "text/plain": [
       "AJG \u001b[1;36m2020\u001b[0m ITEM \u001b[1;36m7\u001b[0m saved\n"
      ]
     },
     "metadata": {},
     "output_type": "display_data"
    },
    {
     "data": {
      "text/html": [
       "<pre style=\"white-space:pre;overflow-x:auto;line-height:normal;font-family:Menlo,'DejaVu Sans Mono',consolas,'Courier New',monospace\"></pre>\n"
      ],
      "text/plain": []
     },
     "metadata": {},
     "output_type": "display_data"
    },
    {
     "data": {
      "text/html": [
       "<pre style=\"white-space:pre;overflow-x:auto;line-height:normal;font-family:Menlo,'DejaVu Sans Mono',consolas,'Courier New',monospace\">AIZ <span style=\"color: #008080; text-decoration-color: #008080; font-weight: bold\">2020</span> ITEM <span style=\"color: #008080; text-decoration-color: #008080; font-weight: bold\">7</span> saved\n",
       "</pre>\n"
      ],
      "text/plain": [
       "AIZ \u001b[1;36m2020\u001b[0m ITEM \u001b[1;36m7\u001b[0m saved\n"
      ]
     },
     "metadata": {},
     "output_type": "display_data"
    },
    {
     "data": {
      "text/html": [
       "<pre style=\"white-space:pre;overflow-x:auto;line-height:normal;font-family:Menlo,'DejaVu Sans Mono',consolas,'Courier New',monospace\"></pre>\n"
      ],
      "text/plain": []
     },
     "metadata": {},
     "output_type": "display_data"
    },
    {
     "data": {
      "text/html": [
       "<pre style=\"white-space:pre;overflow-x:auto;line-height:normal;font-family:Menlo,'DejaVu Sans Mono',consolas,'Courier New',monospace\">T <span style=\"color: #008080; text-decoration-color: #008080; font-weight: bold\">2020</span> ITEM <span style=\"color: #008080; text-decoration-color: #008080; font-weight: bold\">7</span> saved\n",
       "</pre>\n"
      ],
      "text/plain": [
       "T \u001b[1;36m2020\u001b[0m ITEM \u001b[1;36m7\u001b[0m saved\n"
      ]
     },
     "metadata": {},
     "output_type": "display_data"
    },
    {
     "data": {
      "text/html": [
       "<pre style=\"white-space:pre;overflow-x:auto;line-height:normal;font-family:Menlo,'DejaVu Sans Mono',consolas,'Courier New',monospace\"></pre>\n"
      ],
      "text/plain": []
     },
     "metadata": {},
     "output_type": "display_data"
    },
    {
     "data": {
      "text/html": [
       "<pre style=\"white-space:pre;overflow-x:auto;line-height:normal;font-family:Menlo,'DejaVu Sans Mono',consolas,'Courier New',monospace\">ATO <span style=\"color: #008080; text-decoration-color: #008080; font-weight: bold\">2020</span> ITEM <span style=\"color: #008080; text-decoration-color: #008080; font-weight: bold\">7</span> saved\n",
       "</pre>\n"
      ],
      "text/plain": [
       "ATO \u001b[1;36m2020\u001b[0m ITEM \u001b[1;36m7\u001b[0m saved\n"
      ]
     },
     "metadata": {},
     "output_type": "display_data"
    },
    {
     "data": {
      "text/html": [
       "<pre style=\"white-space:pre;overflow-x:auto;line-height:normal;font-family:Menlo,'DejaVu Sans Mono',consolas,'Courier New',monospace\"></pre>\n"
      ],
      "text/plain": []
     },
     "metadata": {},
     "output_type": "display_data"
    },
    {
     "data": {
      "text/html": [
       "<pre style=\"white-space:pre;overflow-x:auto;line-height:normal;font-family:Menlo,'DejaVu Sans Mono',consolas,'Courier New',monospace\">ADSK <span style=\"color: #008080; text-decoration-color: #008080; font-weight: bold\">2020</span> ITEM <span style=\"color: #008080; text-decoration-color: #008080; font-weight: bold\">7</span> saved\n",
       "</pre>\n"
      ],
      "text/plain": [
       "ADSK \u001b[1;36m2020\u001b[0m ITEM \u001b[1;36m7\u001b[0m saved\n"
      ]
     },
     "metadata": {},
     "output_type": "display_data"
    },
    {
     "data": {
      "text/html": [
       "<pre style=\"white-space:pre;overflow-x:auto;line-height:normal;font-family:Menlo,'DejaVu Sans Mono',consolas,'Courier New',monospace\"></pre>\n"
      ],
      "text/plain": []
     },
     "metadata": {},
     "output_type": "display_data"
    },
    {
     "data": {
      "text/html": [
       "<pre style=\"white-space:pre;overflow-x:auto;line-height:normal;font-family:Menlo,'DejaVu Sans Mono',consolas,'Courier New',monospace\">ADP <span style=\"color: #008080; text-decoration-color: #008080; font-weight: bold\">2020</span> ITEM <span style=\"color: #008080; text-decoration-color: #008080; font-weight: bold\">7</span> saved\n",
       "</pre>\n"
      ],
      "text/plain": [
       "ADP \u001b[1;36m2020\u001b[0m ITEM \u001b[1;36m7\u001b[0m saved\n"
      ]
     },
     "metadata": {},
     "output_type": "display_data"
    },
    {
     "data": {
      "text/html": [
       "<pre style=\"white-space:pre;overflow-x:auto;line-height:normal;font-family:Menlo,'DejaVu Sans Mono',consolas,'Courier New',monospace\"></pre>\n"
      ],
      "text/plain": []
     },
     "metadata": {},
     "output_type": "display_data"
    },
    {
     "data": {
      "text/html": [
       "<pre style=\"white-space:pre;overflow-x:auto;line-height:normal;font-family:Menlo,'DejaVu Sans Mono',consolas,'Courier New',monospace\">AZO <span style=\"color: #008080; text-decoration-color: #008080; font-weight: bold\">2020</span> ITEM <span style=\"color: #008080; text-decoration-color: #008080; font-weight: bold\">7</span> saved\n",
       "</pre>\n"
      ],
      "text/plain": [
       "AZO \u001b[1;36m2020\u001b[0m ITEM \u001b[1;36m7\u001b[0m saved\n"
      ]
     },
     "metadata": {},
     "output_type": "display_data"
    },
    {
     "data": {
      "text/html": [
       "<pre style=\"white-space:pre;overflow-x:auto;line-height:normal;font-family:Menlo,'DejaVu Sans Mono',consolas,'Courier New',monospace\"></pre>\n"
      ],
      "text/plain": []
     },
     "metadata": {},
     "output_type": "display_data"
    },
    {
     "data": {
      "text/html": [
       "<pre style=\"white-space:pre;overflow-x:auto;line-height:normal;font-family:Menlo,'DejaVu Sans Mono',consolas,'Courier New',monospace\">AVB <span style=\"color: #008080; text-decoration-color: #008080; font-weight: bold\">2020</span> ITEM <span style=\"color: #008080; text-decoration-color: #008080; font-weight: bold\">7</span> saved\n",
       "</pre>\n"
      ],
      "text/plain": [
       "AVB \u001b[1;36m2020\u001b[0m ITEM \u001b[1;36m7\u001b[0m saved\n"
      ]
     },
     "metadata": {},
     "output_type": "display_data"
    },
    {
     "data": {
      "text/html": [
       "<pre style=\"white-space:pre;overflow-x:auto;line-height:normal;font-family:Menlo,'DejaVu Sans Mono',consolas,'Courier New',monospace\">Extraction failed for company: index <span style=\"color: #008080; text-decoration-color: #008080; font-weight: bold\">0</span> is out of bounds for axis <span style=\"color: #008080; text-decoration-color: #008080; font-weight: bold\">0</span> with size <span style=\"color: #008080; text-decoration-color: #008080; font-weight: bold\">0</span>\n",
       "</pre>\n"
      ],
      "text/plain": [
       "Extraction failed for company: index \u001b[1;36m0\u001b[0m is out of bounds for axis \u001b[1;36m0\u001b[0m with size \u001b[1;36m0\u001b[0m\n"
      ]
     },
     "metadata": {},
     "output_type": "display_data"
    },
    {
     "data": {
      "text/html": [
       "<pre style=\"white-space:pre;overflow-x:auto;line-height:normal;font-family:Menlo,'DejaVu Sans Mono',consolas,'Courier New',monospace\"></pre>\n"
      ],
      "text/plain": []
     },
     "metadata": {},
     "output_type": "display_data"
    },
    {
     "data": {
      "text/html": [
       "<pre style=\"white-space:pre;overflow-x:auto;line-height:normal;font-family:Menlo,'DejaVu Sans Mono',consolas,'Courier New',monospace\">BKR <span style=\"color: #008080; text-decoration-color: #008080; font-weight: bold\">2020</span> ITEM <span style=\"color: #008080; text-decoration-color: #008080; font-weight: bold\">7</span> saved\n",
       "</pre>\n"
      ],
      "text/plain": [
       "BKR \u001b[1;36m2020\u001b[0m ITEM \u001b[1;36m7\u001b[0m saved\n"
      ]
     },
     "metadata": {},
     "output_type": "display_data"
    },
    {
     "data": {
      "text/html": [
       "<pre style=\"white-space:pre;overflow-x:auto;line-height:normal;font-family:Menlo,'DejaVu Sans Mono',consolas,'Courier New',monospace\">Extraction failed for company: <span style=\"color: #008000; text-decoration-color: #008000\">'NoneType'</span> object has no attribute <span style=\"color: #008000; text-decoration-color: #008000\">'get_filings'</span>\n",
       "</pre>\n"
      ],
      "text/plain": [
       "Extraction failed for company: \u001b[32m'NoneType'\u001b[0m object has no attribute \u001b[32m'get_filings'\u001b[0m\n"
      ]
     },
     "metadata": {},
     "output_type": "display_data"
    },
    {
     "data": {
      "text/html": [
       "<pre style=\"white-space:pre;overflow-x:auto;line-height:normal;font-family:Menlo,'DejaVu Sans Mono',consolas,'Courier New',monospace\"></pre>\n"
      ],
      "text/plain": []
     },
     "metadata": {},
     "output_type": "display_data"
    },
    {
     "data": {
      "text/html": [
       "<pre style=\"white-space:pre;overflow-x:auto;line-height:normal;font-family:Menlo,'DejaVu Sans Mono',consolas,'Courier New',monospace\">BAC <span style=\"color: #008080; text-decoration-color: #008080; font-weight: bold\">2020</span> ITEM <span style=\"color: #008080; text-decoration-color: #008080; font-weight: bold\">7</span> saved\n",
       "</pre>\n"
      ],
      "text/plain": [
       "BAC \u001b[1;36m2020\u001b[0m ITEM \u001b[1;36m7\u001b[0m saved\n"
      ]
     },
     "metadata": {},
     "output_type": "display_data"
    },
    {
     "data": {
      "text/html": [
       "<pre style=\"white-space:pre;overflow-x:auto;line-height:normal;font-family:Menlo,'DejaVu Sans Mono',consolas,'Courier New',monospace\"></pre>\n"
      ],
      "text/plain": []
     },
     "metadata": {},
     "output_type": "display_data"
    },
    {
     "data": {
      "text/html": [
       "<pre style=\"white-space:pre;overflow-x:auto;line-height:normal;font-family:Menlo,'DejaVu Sans Mono',consolas,'Courier New',monospace\">BBWI <span style=\"color: #008080; text-decoration-color: #008080; font-weight: bold\">2020</span> ITEM <span style=\"color: #008080; text-decoration-color: #008080; font-weight: bold\">7</span> saved\n",
       "</pre>\n"
      ],
      "text/plain": [
       "BBWI \u001b[1;36m2020\u001b[0m ITEM \u001b[1;36m7\u001b[0m saved\n"
      ]
     },
     "metadata": {},
     "output_type": "display_data"
    },
    {
     "data": {
      "text/html": [
       "<pre style=\"white-space:pre;overflow-x:auto;line-height:normal;font-family:Menlo,'DejaVu Sans Mono',consolas,'Courier New',monospace\"></pre>\n"
      ],
      "text/plain": []
     },
     "metadata": {},
     "output_type": "display_data"
    },
    {
     "data": {
      "text/html": [
       "<pre style=\"white-space:pre;overflow-x:auto;line-height:normal;font-family:Menlo,'DejaVu Sans Mono',consolas,'Courier New',monospace\">BAX <span style=\"color: #008080; text-decoration-color: #008080; font-weight: bold\">2020</span> ITEM <span style=\"color: #008080; text-decoration-color: #008080; font-weight: bold\">7</span> saved\n",
       "</pre>\n"
      ],
      "text/plain": [
       "BAX \u001b[1;36m2020\u001b[0m ITEM \u001b[1;36m7\u001b[0m saved\n"
      ]
     },
     "metadata": {},
     "output_type": "display_data"
    },
    {
     "data": {
      "text/html": [
       "<pre style=\"white-space:pre;overflow-x:auto;line-height:normal;font-family:Menlo,'DejaVu Sans Mono',consolas,'Courier New',monospace\"></pre>\n"
      ],
      "text/plain": []
     },
     "metadata": {},
     "output_type": "display_data"
    },
    {
     "data": {
      "text/html": [
       "<pre style=\"white-space:pre;overflow-x:auto;line-height:normal;font-family:Menlo,'DejaVu Sans Mono',consolas,'Courier New',monospace\">BDX <span style=\"color: #008080; text-decoration-color: #008080; font-weight: bold\">2020</span> ITEM <span style=\"color: #008080; text-decoration-color: #008080; font-weight: bold\">7</span> saved\n",
       "</pre>\n"
      ],
      "text/plain": [
       "BDX \u001b[1;36m2020\u001b[0m ITEM \u001b[1;36m7\u001b[0m saved\n"
      ]
     },
     "metadata": {},
     "output_type": "display_data"
    },
    {
     "data": {
      "text/html": [
       "<pre style=\"white-space:pre;overflow-x:auto;line-height:normal;font-family:Menlo,'DejaVu Sans Mono',consolas,'Courier New',monospace\">Extraction failed for company: <span style=\"color: #008000; text-decoration-color: #008000\">'NoneType'</span> object has no attribute <span style=\"color: #008000; text-decoration-color: #008000\">'get_filings'</span>\n",
       "</pre>\n"
      ],
      "text/plain": [
       "Extraction failed for company: \u001b[32m'NoneType'\u001b[0m object has no attribute \u001b[32m'get_filings'\u001b[0m\n"
      ]
     },
     "metadata": {},
     "output_type": "display_data"
    },
    {
     "data": {
      "text/html": [
       "<pre style=\"white-space:pre;overflow-x:auto;line-height:normal;font-family:Menlo,'DejaVu Sans Mono',consolas,'Courier New',monospace\"></pre>\n"
      ],
      "text/plain": []
     },
     "metadata": {},
     "output_type": "display_data"
    },
    {
     "data": {
      "text/html": [
       "<pre style=\"white-space:pre;overflow-x:auto;line-height:normal;font-family:Menlo,'DejaVu Sans Mono',consolas,'Courier New',monospace\">BBY <span style=\"color: #008080; text-decoration-color: #008080; font-weight: bold\">2020</span> ITEM <span style=\"color: #008080; text-decoration-color: #008080; font-weight: bold\">7</span> saved\n",
       "</pre>\n"
      ],
      "text/plain": [
       "BBY \u001b[1;36m2020\u001b[0m ITEM \u001b[1;36m7\u001b[0m saved\n"
      ]
     },
     "metadata": {},
     "output_type": "display_data"
    },
    {
     "data": {
      "text/html": [
       "<pre style=\"white-space:pre;overflow-x:auto;line-height:normal;font-family:Menlo,'DejaVu Sans Mono',consolas,'Courier New',monospace\"></pre>\n"
      ],
      "text/plain": []
     },
     "metadata": {},
     "output_type": "display_data"
    },
    {
     "data": {
      "text/html": [
       "<pre style=\"white-space:pre;overflow-x:auto;line-height:normal;font-family:Menlo,'DejaVu Sans Mono',consolas,'Courier New',monospace\">BIO <span style=\"color: #008080; text-decoration-color: #008080; font-weight: bold\">2020</span> ITEM <span style=\"color: #008080; text-decoration-color: #008080; font-weight: bold\">7</span> saved\n",
       "</pre>\n"
      ],
      "text/plain": [
       "BIO \u001b[1;36m2020\u001b[0m ITEM \u001b[1;36m7\u001b[0m saved\n"
      ]
     },
     "metadata": {},
     "output_type": "display_data"
    },
    {
     "data": {
      "text/html": [
       "<pre style=\"white-space:pre;overflow-x:auto;line-height:normal;font-family:Menlo,'DejaVu Sans Mono',consolas,'Courier New',monospace\"></pre>\n"
      ],
      "text/plain": []
     },
     "metadata": {},
     "output_type": "display_data"
    },
    {
     "data": {
      "text/html": [
       "<pre style=\"white-space:pre;overflow-x:auto;line-height:normal;font-family:Menlo,'DejaVu Sans Mono',consolas,'Courier New',monospace\">TECH <span style=\"color: #008080; text-decoration-color: #008080; font-weight: bold\">2020</span> ITEM <span style=\"color: #008080; text-decoration-color: #008080; font-weight: bold\">7</span> saved\n",
       "</pre>\n"
      ],
      "text/plain": [
       "TECH \u001b[1;36m2020\u001b[0m ITEM \u001b[1;36m7\u001b[0m saved\n"
      ]
     },
     "metadata": {},
     "output_type": "display_data"
    },
    {
     "data": {
      "text/html": [
       "<pre style=\"white-space:pre;overflow-x:auto;line-height:normal;font-family:Menlo,'DejaVu Sans Mono',consolas,'Courier New',monospace\"></pre>\n"
      ],
      "text/plain": []
     },
     "metadata": {},
     "output_type": "display_data"
    },
    {
     "data": {
      "text/html": [
       "<pre style=\"white-space:pre;overflow-x:auto;line-height:normal;font-family:Menlo,'DejaVu Sans Mono',consolas,'Courier New',monospace\">BIIB <span style=\"color: #008080; text-decoration-color: #008080; font-weight: bold\">2020</span> ITEM <span style=\"color: #008080; text-decoration-color: #008080; font-weight: bold\">7</span> saved\n",
       "</pre>\n"
      ],
      "text/plain": [
       "BIIB \u001b[1;36m2020\u001b[0m ITEM \u001b[1;36m7\u001b[0m saved\n"
      ]
     },
     "metadata": {},
     "output_type": "display_data"
    },
    {
     "data": {
      "text/html": [
       "<pre style=\"white-space:pre;overflow-x:auto;line-height:normal;font-family:Menlo,'DejaVu Sans Mono',consolas,'Courier New',monospace\"></pre>\n"
      ],
      "text/plain": []
     },
     "metadata": {},
     "output_type": "display_data"
    },
    {
     "data": {
      "text/html": [
       "<pre style=\"white-space:pre;overflow-x:auto;line-height:normal;font-family:Menlo,'DejaVu Sans Mono',consolas,'Courier New',monospace\">BLK <span style=\"color: #008080; text-decoration-color: #008080; font-weight: bold\">2020</span> ITEM <span style=\"color: #008080; text-decoration-color: #008080; font-weight: bold\">7</span> saved\n",
       "</pre>\n"
      ],
      "text/plain": [
       "BLK \u001b[1;36m2020\u001b[0m ITEM \u001b[1;36m7\u001b[0m saved\n"
      ]
     },
     "metadata": {},
     "output_type": "display_data"
    },
    {
     "data": {
      "text/html": [
       "<pre style=\"white-space:pre;overflow-x:auto;line-height:normal;font-family:Menlo,'DejaVu Sans Mono',consolas,'Courier New',monospace\"></pre>\n"
      ],
      "text/plain": []
     },
     "metadata": {},
     "output_type": "display_data"
    },
    {
     "data": {
      "text/html": [
       "<pre style=\"white-space:pre;overflow-x:auto;line-height:normal;font-family:Menlo,'DejaVu Sans Mono',consolas,'Courier New',monospace\">BK <span style=\"color: #008080; text-decoration-color: #008080; font-weight: bold\">2020</span> ITEM <span style=\"color: #008080; text-decoration-color: #008080; font-weight: bold\">7</span> saved\n",
       "</pre>\n"
      ],
      "text/plain": [
       "BK \u001b[1;36m2020\u001b[0m ITEM \u001b[1;36m7\u001b[0m saved\n"
      ]
     },
     "metadata": {},
     "output_type": "display_data"
    },
    {
     "data": {
      "text/html": [
       "<pre style=\"white-space:pre;overflow-x:auto;line-height:normal;font-family:Menlo,'DejaVu Sans Mono',consolas,'Courier New',monospace\"></pre>\n"
      ],
      "text/plain": []
     },
     "metadata": {},
     "output_type": "display_data"
    },
    {
     "data": {
      "text/html": [
       "<pre style=\"white-space:pre;overflow-x:auto;line-height:normal;font-family:Menlo,'DejaVu Sans Mono',consolas,'Courier New',monospace\">BA <span style=\"color: #008080; text-decoration-color: #008080; font-weight: bold\">2020</span> ITEM <span style=\"color: #008080; text-decoration-color: #008080; font-weight: bold\">7</span> saved\n",
       "</pre>\n"
      ],
      "text/plain": [
       "BA \u001b[1;36m2020\u001b[0m ITEM \u001b[1;36m7\u001b[0m saved\n"
      ]
     },
     "metadata": {},
     "output_type": "display_data"
    },
    {
     "data": {
      "text/html": [
       "<pre style=\"white-space:pre;overflow-x:auto;line-height:normal;font-family:Menlo,'DejaVu Sans Mono',consolas,'Courier New',monospace\"></pre>\n"
      ],
      "text/plain": []
     },
     "metadata": {},
     "output_type": "display_data"
    },
    {
     "data": {
      "text/html": [
       "<pre style=\"white-space:pre;overflow-x:auto;line-height:normal;font-family:Menlo,'DejaVu Sans Mono',consolas,'Courier New',monospace\">BKNG <span style=\"color: #008080; text-decoration-color: #008080; font-weight: bold\">2020</span> ITEM <span style=\"color: #008080; text-decoration-color: #008080; font-weight: bold\">7</span> saved\n",
       "</pre>\n"
      ],
      "text/plain": [
       "BKNG \u001b[1;36m2020\u001b[0m ITEM \u001b[1;36m7\u001b[0m saved\n"
      ]
     },
     "metadata": {},
     "output_type": "display_data"
    },
    {
     "data": {
      "text/html": [
       "<pre style=\"white-space:pre;overflow-x:auto;line-height:normal;font-family:Menlo,'DejaVu Sans Mono',consolas,'Courier New',monospace\"></pre>\n"
      ],
      "text/plain": []
     },
     "metadata": {},
     "output_type": "display_data"
    },
    {
     "data": {
      "text/html": [
       "<pre style=\"white-space:pre;overflow-x:auto;line-height:normal;font-family:Menlo,'DejaVu Sans Mono',consolas,'Courier New',monospace\">BWA <span style=\"color: #008080; text-decoration-color: #008080; font-weight: bold\">2020</span> ITEM <span style=\"color: #008080; text-decoration-color: #008080; font-weight: bold\">7</span> saved\n",
       "</pre>\n"
      ],
      "text/plain": [
       "BWA \u001b[1;36m2020\u001b[0m ITEM \u001b[1;36m7\u001b[0m saved\n"
      ]
     },
     "metadata": {},
     "output_type": "display_data"
    },
    {
     "data": {
      "text/html": [
       "<pre style=\"white-space:pre;overflow-x:auto;line-height:normal;font-family:Menlo,'DejaVu Sans Mono',consolas,'Courier New',monospace\"></pre>\n"
      ],
      "text/plain": []
     },
     "metadata": {},
     "output_type": "display_data"
    },
    {
     "data": {
      "text/html": [
       "<pre style=\"white-space:pre;overflow-x:auto;line-height:normal;font-family:Menlo,'DejaVu Sans Mono',consolas,'Courier New',monospace\">BXP <span style=\"color: #008080; text-decoration-color: #008080; font-weight: bold\">2020</span> ITEM <span style=\"color: #008080; text-decoration-color: #008080; font-weight: bold\">7</span> saved\n",
       "</pre>\n"
      ],
      "text/plain": [
       "BXP \u001b[1;36m2020\u001b[0m ITEM \u001b[1;36m7\u001b[0m saved\n"
      ]
     },
     "metadata": {},
     "output_type": "display_data"
    },
    {
     "data": {
      "text/html": [
       "<pre style=\"white-space:pre;overflow-x:auto;line-height:normal;font-family:Menlo,'DejaVu Sans Mono',consolas,'Courier New',monospace\"></pre>\n"
      ],
      "text/plain": []
     },
     "metadata": {},
     "output_type": "display_data"
    },
    {
     "data": {
      "text/html": [
       "<pre style=\"white-space:pre;overflow-x:auto;line-height:normal;font-family:Menlo,'DejaVu Sans Mono',consolas,'Courier New',monospace\">BSX <span style=\"color: #008080; text-decoration-color: #008080; font-weight: bold\">2020</span> ITEM <span style=\"color: #008080; text-decoration-color: #008080; font-weight: bold\">7</span> saved\n",
       "</pre>\n"
      ],
      "text/plain": [
       "BSX \u001b[1;36m2020\u001b[0m ITEM \u001b[1;36m7\u001b[0m saved\n"
      ]
     },
     "metadata": {},
     "output_type": "display_data"
    },
    {
     "data": {
      "text/html": [
       "<pre style=\"white-space:pre;overflow-x:auto;line-height:normal;font-family:Menlo,'DejaVu Sans Mono',consolas,'Courier New',monospace\"></pre>\n"
      ],
      "text/plain": []
     },
     "metadata": {},
     "output_type": "display_data"
    },
    {
     "data": {
      "text/html": [
       "<pre style=\"white-space:pre;overflow-x:auto;line-height:normal;font-family:Menlo,'DejaVu Sans Mono',consolas,'Courier New',monospace\">BMY <span style=\"color: #008080; text-decoration-color: #008080; font-weight: bold\">2020</span> ITEM <span style=\"color: #008080; text-decoration-color: #008080; font-weight: bold\">7</span> saved\n",
       "</pre>\n"
      ],
      "text/plain": [
       "BMY \u001b[1;36m2020\u001b[0m ITEM \u001b[1;36m7\u001b[0m saved\n"
      ]
     },
     "metadata": {},
     "output_type": "display_data"
    },
    {
     "data": {
      "text/html": [
       "<pre style=\"white-space:pre;overflow-x:auto;line-height:normal;font-family:Menlo,'DejaVu Sans Mono',consolas,'Courier New',monospace\"></pre>\n"
      ],
      "text/plain": []
     },
     "metadata": {},
     "output_type": "display_data"
    },
    {
     "data": {
      "text/html": [
       "<pre style=\"white-space:pre;overflow-x:auto;line-height:normal;font-family:Menlo,'DejaVu Sans Mono',consolas,'Courier New',monospace\">AVGO <span style=\"color: #008080; text-decoration-color: #008080; font-weight: bold\">2020</span> ITEM <span style=\"color: #008080; text-decoration-color: #008080; font-weight: bold\">7</span> saved\n",
       "</pre>\n"
      ],
      "text/plain": [
       "AVGO \u001b[1;36m2020\u001b[0m ITEM \u001b[1;36m7\u001b[0m saved\n"
      ]
     },
     "metadata": {},
     "output_type": "display_data"
    },
    {
     "data": {
      "text/html": [
       "<pre style=\"white-space:pre;overflow-x:auto;line-height:normal;font-family:Menlo,'DejaVu Sans Mono',consolas,'Courier New',monospace\"></pre>\n"
      ],
      "text/plain": []
     },
     "metadata": {},
     "output_type": "display_data"
    },
    {
     "data": {
      "text/html": [
       "<pre style=\"white-space:pre;overflow-x:auto;line-height:normal;font-family:Menlo,'DejaVu Sans Mono',consolas,'Courier New',monospace\">BR <span style=\"color: #008080; text-decoration-color: #008080; font-weight: bold\">2020</span> ITEM <span style=\"color: #008080; text-decoration-color: #008080; font-weight: bold\">7</span> saved\n",
       "</pre>\n"
      ],
      "text/plain": [
       "BR \u001b[1;36m2020\u001b[0m ITEM \u001b[1;36m7\u001b[0m saved\n"
      ]
     },
     "metadata": {},
     "output_type": "display_data"
    },
    {
     "data": {
      "text/html": [
       "<pre style=\"white-space:pre;overflow-x:auto;line-height:normal;font-family:Menlo,'DejaVu Sans Mono',consolas,'Courier New',monospace\"></pre>\n"
      ],
      "text/plain": []
     },
     "metadata": {},
     "output_type": "display_data"
    },
    {
     "data": {
      "text/html": [
       "<pre style=\"white-space:pre;overflow-x:auto;line-height:normal;font-family:Menlo,'DejaVu Sans Mono',consolas,'Courier New',monospace\">BRO <span style=\"color: #008080; text-decoration-color: #008080; font-weight: bold\">2020</span> ITEM <span style=\"color: #008080; text-decoration-color: #008080; font-weight: bold\">7</span> saved\n",
       "</pre>\n"
      ],
      "text/plain": [
       "BRO \u001b[1;36m2020\u001b[0m ITEM \u001b[1;36m7\u001b[0m saved\n"
      ]
     },
     "metadata": {},
     "output_type": "display_data"
    },
    {
     "data": {
      "text/html": [
       "<pre style=\"white-space:pre;overflow-x:auto;line-height:normal;font-family:Menlo,'DejaVu Sans Mono',consolas,'Courier New',monospace\">Extraction failed for company: <span style=\"color: #008000; text-decoration-color: #008000\">'NoneType'</span> object has no attribute <span style=\"color: #008000; text-decoration-color: #008000\">'get_filings'</span>\n",
       "</pre>\n"
      ],
      "text/plain": [
       "Extraction failed for company: \u001b[32m'NoneType'\u001b[0m object has no attribute \u001b[32m'get_filings'\u001b[0m\n"
      ]
     },
     "metadata": {},
     "output_type": "display_data"
    },
    {
     "data": {
      "text/html": [
       "<pre style=\"white-space:pre;overflow-x:auto;line-height:normal;font-family:Menlo,'DejaVu Sans Mono',consolas,'Courier New',monospace\"></pre>\n"
      ],
      "text/plain": []
     },
     "metadata": {},
     "output_type": "display_data"
    },
    {
     "data": {
      "text/html": [
       "<pre style=\"white-space:pre;overflow-x:auto;line-height:normal;font-family:Menlo,'DejaVu Sans Mono',consolas,'Courier New',monospace\">CHRW <span style=\"color: #008080; text-decoration-color: #008080; font-weight: bold\">2020</span> ITEM <span style=\"color: #008080; text-decoration-color: #008080; font-weight: bold\">7</span> saved\n",
       "</pre>\n"
      ],
      "text/plain": [
       "CHRW \u001b[1;36m2020\u001b[0m ITEM \u001b[1;36m7\u001b[0m saved\n"
      ]
     },
     "metadata": {},
     "output_type": "display_data"
    },
    {
     "data": {
      "text/html": [
       "<pre style=\"white-space:pre;overflow-x:auto;line-height:normal;font-family:Menlo,'DejaVu Sans Mono',consolas,'Courier New',monospace\">Extraction failed for company: index <span style=\"color: #008080; text-decoration-color: #008080; font-weight: bold\">0</span> is out of bounds for axis <span style=\"color: #008080; text-decoration-color: #008080; font-weight: bold\">0</span> with size <span style=\"color: #008080; text-decoration-color: #008080; font-weight: bold\">0</span>\n",
       "</pre>\n"
      ],
      "text/plain": [
       "Extraction failed for company: index \u001b[1;36m0\u001b[0m is out of bounds for axis \u001b[1;36m0\u001b[0m with size \u001b[1;36m0\u001b[0m\n"
      ]
     },
     "metadata": {},
     "output_type": "display_data"
    },
    {
     "data": {
      "text/html": [
       "<pre style=\"white-space:pre;overflow-x:auto;line-height:normal;font-family:Menlo,'DejaVu Sans Mono',consolas,'Courier New',monospace\"></pre>\n"
      ],
      "text/plain": []
     },
     "metadata": {},
     "output_type": "display_data"
    },
    {
     "data": {
      "text/html": [
       "<pre style=\"white-space:pre;overflow-x:auto;line-height:normal;font-family:Menlo,'DejaVu Sans Mono',consolas,'Courier New',monospace\">CZR <span style=\"color: #008080; text-decoration-color: #008080; font-weight: bold\">2020</span> ITEM <span style=\"color: #008080; text-decoration-color: #008080; font-weight: bold\">7</span> saved\n",
       "</pre>\n"
      ],
      "text/plain": [
       "CZR \u001b[1;36m2020\u001b[0m ITEM \u001b[1;36m7\u001b[0m saved\n"
      ]
     },
     "metadata": {},
     "output_type": "display_data"
    },
    {
     "data": {
      "text/html": [
       "<pre style=\"white-space:pre;overflow-x:auto;line-height:normal;font-family:Menlo,'DejaVu Sans Mono',consolas,'Courier New',monospace\"></pre>\n"
      ],
      "text/plain": []
     },
     "metadata": {},
     "output_type": "display_data"
    },
    {
     "data": {
      "text/html": [
       "<pre style=\"white-space:pre;overflow-x:auto;line-height:normal;font-family:Menlo,'DejaVu Sans Mono',consolas,'Courier New',monospace\">CPB <span style=\"color: #008080; text-decoration-color: #008080; font-weight: bold\">2020</span> ITEM <span style=\"color: #008080; text-decoration-color: #008080; font-weight: bold\">7</span> saved\n",
       "</pre>\n"
      ],
      "text/plain": [
       "CPB \u001b[1;36m2020\u001b[0m ITEM \u001b[1;36m7\u001b[0m saved\n"
      ]
     },
     "metadata": {},
     "output_type": "display_data"
    },
    {
     "data": {
      "text/html": [
       "<pre style=\"white-space:pre;overflow-x:auto;line-height:normal;font-family:Menlo,'DejaVu Sans Mono',consolas,'Courier New',monospace\"></pre>\n"
      ],
      "text/plain": []
     },
     "metadata": {},
     "output_type": "display_data"
    },
    {
     "data": {
      "text/html": [
       "<pre style=\"white-space:pre;overflow-x:auto;line-height:normal;font-family:Menlo,'DejaVu Sans Mono',consolas,'Courier New',monospace\">COF <span style=\"color: #008080; text-decoration-color: #008080; font-weight: bold\">2020</span> ITEM <span style=\"color: #008080; text-decoration-color: #008080; font-weight: bold\">7</span> saved\n",
       "</pre>\n"
      ],
      "text/plain": [
       "COF \u001b[1;36m2020\u001b[0m ITEM \u001b[1;36m7\u001b[0m saved\n"
      ]
     },
     "metadata": {},
     "output_type": "display_data"
    },
    {
     "data": {
      "text/html": [
       "<pre style=\"white-space:pre;overflow-x:auto;line-height:normal;font-family:Menlo,'DejaVu Sans Mono',consolas,'Courier New',monospace\"></pre>\n"
      ],
      "text/plain": []
     },
     "metadata": {},
     "output_type": "display_data"
    },
    {
     "data": {
      "text/html": [
       "<pre style=\"white-space:pre;overflow-x:auto;line-height:normal;font-family:Menlo,'DejaVu Sans Mono',consolas,'Courier New',monospace\">Extraction failed for company: Length mismatch: Expected axis has <span style=\"color: #008080; text-decoration-color: #008080; font-weight: bold\">0</span> elements, new values have <span style=\"color: #008080; text-decoration-color: #008080; font-weight: bold\">3</span> elements\n",
       "</pre>\n"
      ],
      "text/plain": [
       "Extraction failed for company: Length mismatch: Expected axis has \u001b[1;36m0\u001b[0m elements, new values have \u001b[1;36m3\u001b[0m elements\n"
      ]
     },
     "metadata": {},
     "output_type": "display_data"
    },
    {
     "data": {
      "text/html": [
       "<pre style=\"white-space:pre;overflow-x:auto;line-height:normal;font-family:Menlo,'DejaVu Sans Mono',consolas,'Courier New',monospace\"></pre>\n"
      ],
      "text/plain": []
     },
     "metadata": {},
     "output_type": "display_data"
    },
    {
     "data": {
      "text/html": [
       "<pre style=\"white-space:pre;overflow-x:auto;line-height:normal;font-family:Menlo,'DejaVu Sans Mono',consolas,'Courier New',monospace\">KMX <span style=\"color: #008080; text-decoration-color: #008080; font-weight: bold\">2020</span> ITEM <span style=\"color: #008080; text-decoration-color: #008080; font-weight: bold\">7</span> saved\n",
       "</pre>\n"
      ],
      "text/plain": [
       "KMX \u001b[1;36m2020\u001b[0m ITEM \u001b[1;36m7\u001b[0m saved\n"
      ]
     },
     "metadata": {},
     "output_type": "display_data"
    },
    {
     "data": {
      "text/html": [
       "<pre style=\"white-space:pre;overflow-x:auto;line-height:normal;font-family:Menlo,'DejaVu Sans Mono',consolas,'Courier New',monospace\"></pre>\n"
      ],
      "text/plain": []
     },
     "metadata": {},
     "output_type": "display_data"
    },
    {
     "data": {
      "text/html": [
       "<pre style=\"white-space:pre;overflow-x:auto;line-height:normal;font-family:Menlo,'DejaVu Sans Mono',consolas,'Courier New',monospace\">CCL <span style=\"color: #008080; text-decoration-color: #008080; font-weight: bold\">2020</span> ITEM <span style=\"color: #008080; text-decoration-color: #008080; font-weight: bold\">7</span> saved\n",
       "</pre>\n"
      ],
      "text/plain": [
       "CCL \u001b[1;36m2020\u001b[0m ITEM \u001b[1;36m7\u001b[0m saved\n"
      ]
     },
     "metadata": {},
     "output_type": "display_data"
    },
    {
     "data": {
      "text/html": [
       "<pre style=\"white-space:pre;overflow-x:auto;line-height:normal;font-family:Menlo,'DejaVu Sans Mono',consolas,'Courier New',monospace\"></pre>\n"
      ],
      "text/plain": []
     },
     "metadata": {},
     "output_type": "display_data"
    },
    {
     "data": {
      "text/html": [
       "<pre style=\"white-space:pre;overflow-x:auto;line-height:normal;font-family:Menlo,'DejaVu Sans Mono',consolas,'Courier New',monospace\">CARR <span style=\"color: #008080; text-decoration-color: #008080; font-weight: bold\">2020</span> ITEM <span style=\"color: #008080; text-decoration-color: #008080; font-weight: bold\">7</span> saved\n",
       "</pre>\n"
      ],
      "text/plain": [
       "CARR \u001b[1;36m2020\u001b[0m ITEM \u001b[1;36m7\u001b[0m saved\n"
      ]
     },
     "metadata": {},
     "output_type": "display_data"
    },
    {
     "data": {
      "text/html": [
       "<pre style=\"white-space:pre;overflow-x:auto;line-height:normal;font-family:Menlo,'DejaVu Sans Mono',consolas,'Courier New',monospace\"></pre>\n"
      ],
      "text/plain": []
     },
     "metadata": {},
     "output_type": "display_data"
    },
    {
     "data": {
      "text/html": [
       "<pre style=\"white-space:pre;overflow-x:auto;line-height:normal;font-family:Menlo,'DejaVu Sans Mono',consolas,'Courier New',monospace\">CTLT <span style=\"color: #008080; text-decoration-color: #008080; font-weight: bold\">2020</span> ITEM <span style=\"color: #008080; text-decoration-color: #008080; font-weight: bold\">7</span> saved\n",
       "</pre>\n"
      ],
      "text/plain": [
       "CTLT \u001b[1;36m2020\u001b[0m ITEM \u001b[1;36m7\u001b[0m saved\n"
      ]
     },
     "metadata": {},
     "output_type": "display_data"
    },
    {
     "data": {
      "text/html": [
       "<pre style=\"white-space:pre;overflow-x:auto;line-height:normal;font-family:Menlo,'DejaVu Sans Mono',consolas,'Courier New',monospace\"></pre>\n"
      ],
      "text/plain": []
     },
     "metadata": {},
     "output_type": "display_data"
    },
    {
     "data": {
      "text/html": [
       "<pre style=\"white-space:pre;overflow-x:auto;line-height:normal;font-family:Menlo,'DejaVu Sans Mono',consolas,'Courier New',monospace\">CAT <span style=\"color: #008080; text-decoration-color: #008080; font-weight: bold\">2020</span> ITEM <span style=\"color: #008080; text-decoration-color: #008080; font-weight: bold\">7</span> saved\n",
       "</pre>\n"
      ],
      "text/plain": [
       "CAT \u001b[1;36m2020\u001b[0m ITEM \u001b[1;36m7\u001b[0m saved\n"
      ]
     },
     "metadata": {},
     "output_type": "display_data"
    },
    {
     "data": {
      "text/html": [
       "<pre style=\"white-space:pre;overflow-x:auto;line-height:normal;font-family:Menlo,'DejaVu Sans Mono',consolas,'Courier New',monospace\"></pre>\n"
      ],
      "text/plain": []
     },
     "metadata": {},
     "output_type": "display_data"
    },
    {
     "data": {
      "text/html": [
       "<pre style=\"white-space:pre;overflow-x:auto;line-height:normal;font-family:Menlo,'DejaVu Sans Mono',consolas,'Courier New',monospace\">CBOE <span style=\"color: #008080; text-decoration-color: #008080; font-weight: bold\">2020</span> ITEM <span style=\"color: #008080; text-decoration-color: #008080; font-weight: bold\">7</span> saved\n",
       "</pre>\n"
      ],
      "text/plain": [
       "CBOE \u001b[1;36m2020\u001b[0m ITEM \u001b[1;36m7\u001b[0m saved\n"
      ]
     },
     "metadata": {},
     "output_type": "display_data"
    },
    {
     "data": {
      "text/html": [
       "<pre style=\"white-space:pre;overflow-x:auto;line-height:normal;font-family:Menlo,'DejaVu Sans Mono',consolas,'Courier New',monospace\"></pre>\n"
      ],
      "text/plain": []
     },
     "metadata": {},
     "output_type": "display_data"
    },
    {
     "data": {
      "text/html": [
       "<pre style=\"white-space:pre;overflow-x:auto;line-height:normal;font-family:Menlo,'DejaVu Sans Mono',consolas,'Courier New',monospace\">CBRE <span style=\"color: #008080; text-decoration-color: #008080; font-weight: bold\">2020</span> ITEM <span style=\"color: #008080; text-decoration-color: #008080; font-weight: bold\">7</span> saved\n",
       "</pre>\n"
      ],
      "text/plain": [
       "CBRE \u001b[1;36m2020\u001b[0m ITEM \u001b[1;36m7\u001b[0m saved\n"
      ]
     },
     "metadata": {},
     "output_type": "display_data"
    },
    {
     "data": {
      "text/html": [
       "<pre style=\"white-space:pre;overflow-x:auto;line-height:normal;font-family:Menlo,'DejaVu Sans Mono',consolas,'Courier New',monospace\"></pre>\n"
      ],
      "text/plain": []
     },
     "metadata": {},
     "output_type": "display_data"
    },
    {
     "data": {
      "text/html": [
       "<pre style=\"white-space:pre;overflow-x:auto;line-height:normal;font-family:Menlo,'DejaVu Sans Mono',consolas,'Courier New',monospace\">CDW <span style=\"color: #008080; text-decoration-color: #008080; font-weight: bold\">2020</span> ITEM <span style=\"color: #008080; text-decoration-color: #008080; font-weight: bold\">7</span> saved\n",
       "</pre>\n"
      ],
      "text/plain": [
       "CDW \u001b[1;36m2020\u001b[0m ITEM \u001b[1;36m7\u001b[0m saved\n"
      ]
     },
     "metadata": {},
     "output_type": "display_data"
    },
    {
     "data": {
      "text/html": [
       "<pre style=\"white-space:pre;overflow-x:auto;line-height:normal;font-family:Menlo,'DejaVu Sans Mono',consolas,'Courier New',monospace\"></pre>\n"
      ],
      "text/plain": []
     },
     "metadata": {},
     "output_type": "display_data"
    },
    {
     "data": {
      "text/html": [
       "<pre style=\"white-space:pre;overflow-x:auto;line-height:normal;font-family:Menlo,'DejaVu Sans Mono',consolas,'Courier New',monospace\">CE <span style=\"color: #008080; text-decoration-color: #008080; font-weight: bold\">2020</span> ITEM <span style=\"color: #008080; text-decoration-color: #008080; font-weight: bold\">7</span> saved\n",
       "</pre>\n"
      ],
      "text/plain": [
       "CE \u001b[1;36m2020\u001b[0m ITEM \u001b[1;36m7\u001b[0m saved\n"
      ]
     },
     "metadata": {},
     "output_type": "display_data"
    },
    {
     "data": {
      "text/html": [
       "<pre style=\"white-space:pre;overflow-x:auto;line-height:normal;font-family:Menlo,'DejaVu Sans Mono',consolas,'Courier New',monospace\"></pre>\n"
      ],
      "text/plain": []
     },
     "metadata": {},
     "output_type": "display_data"
    },
    {
     "data": {
      "text/html": [
       "<pre style=\"white-space:pre;overflow-x:auto;line-height:normal;font-family:Menlo,'DejaVu Sans Mono',consolas,'Courier New',monospace\">CNC <span style=\"color: #008080; text-decoration-color: #008080; font-weight: bold\">2020</span> ITEM <span style=\"color: #008080; text-decoration-color: #008080; font-weight: bold\">7</span> saved\n",
       "</pre>\n"
      ],
      "text/plain": [
       "CNC \u001b[1;36m2020\u001b[0m ITEM \u001b[1;36m7\u001b[0m saved\n"
      ]
     },
     "metadata": {},
     "output_type": "display_data"
    },
    {
     "data": {
      "text/html": [
       "<pre style=\"white-space:pre;overflow-x:auto;line-height:normal;font-family:Menlo,'DejaVu Sans Mono',consolas,'Courier New',monospace\"></pre>\n"
      ],
      "text/plain": []
     },
     "metadata": {},
     "output_type": "display_data"
    },
    {
     "data": {
      "text/html": [
       "<pre style=\"white-space:pre;overflow-x:auto;line-height:normal;font-family:Menlo,'DejaVu Sans Mono',consolas,'Courier New',monospace\">CNP <span style=\"color: #008080; text-decoration-color: #008080; font-weight: bold\">2020</span> ITEM <span style=\"color: #008080; text-decoration-color: #008080; font-weight: bold\">7</span> saved\n",
       "</pre>\n"
      ],
      "text/plain": [
       "CNP \u001b[1;36m2020\u001b[0m ITEM \u001b[1;36m7\u001b[0m saved\n"
      ]
     },
     "metadata": {},
     "output_type": "display_data"
    },
    {
     "data": {
      "text/html": [
       "<pre style=\"white-space:pre;overflow-x:auto;line-height:normal;font-family:Menlo,'DejaVu Sans Mono',consolas,'Courier New',monospace\"></pre>\n"
      ],
      "text/plain": []
     },
     "metadata": {},
     "output_type": "display_data"
    },
    {
     "data": {
      "text/html": [
       "<pre style=\"white-space:pre;overflow-x:auto;line-height:normal;font-family:Menlo,'DejaVu Sans Mono',consolas,'Courier New',monospace\">CDAY <span style=\"color: #008080; text-decoration-color: #008080; font-weight: bold\">2020</span> ITEM <span style=\"color: #008080; text-decoration-color: #008080; font-weight: bold\">7</span> saved\n",
       "</pre>\n"
      ],
      "text/plain": [
       "CDAY \u001b[1;36m2020\u001b[0m ITEM \u001b[1;36m7\u001b[0m saved\n"
      ]
     },
     "metadata": {},
     "output_type": "display_data"
    },
    {
     "data": {
      "text/html": [
       "<pre style=\"white-space:pre;overflow-x:auto;line-height:normal;font-family:Menlo,'DejaVu Sans Mono',consolas,'Courier New',monospace\">Extraction failed for company: <span style=\"color: #008000; text-decoration-color: #008000\">'NoneType'</span> object has no attribute <span style=\"color: #008000; text-decoration-color: #008000\">'get_filings'</span>\n",
       "</pre>\n"
      ],
      "text/plain": [
       "Extraction failed for company: \u001b[32m'NoneType'\u001b[0m object has no attribute \u001b[32m'get_filings'\u001b[0m\n"
      ]
     },
     "metadata": {},
     "output_type": "display_data"
    },
    {
     "data": {
      "text/html": [
       "<pre style=\"white-space:pre;overflow-x:auto;line-height:normal;font-family:Menlo,'DejaVu Sans Mono',consolas,'Courier New',monospace\"></pre>\n"
      ],
      "text/plain": []
     },
     "metadata": {},
     "output_type": "display_data"
    },
    {
     "data": {
      "text/html": [
       "<pre style=\"white-space:pre;overflow-x:auto;line-height:normal;font-family:Menlo,'DejaVu Sans Mono',consolas,'Courier New',monospace\">CF <span style=\"color: #008080; text-decoration-color: #008080; font-weight: bold\">2020</span> ITEM <span style=\"color: #008080; text-decoration-color: #008080; font-weight: bold\">7</span> saved\n",
       "</pre>\n"
      ],
      "text/plain": [
       "CF \u001b[1;36m2020\u001b[0m ITEM \u001b[1;36m7\u001b[0m saved\n"
      ]
     },
     "metadata": {},
     "output_type": "display_data"
    },
    {
     "data": {
      "text/html": [
       "<pre style=\"white-space:pre;overflow-x:auto;line-height:normal;font-family:Menlo,'DejaVu Sans Mono',consolas,'Courier New',monospace\"></pre>\n"
      ],
      "text/plain": []
     },
     "metadata": {},
     "output_type": "display_data"
    },
    {
     "data": {
      "text/html": [
       "<pre style=\"white-space:pre;overflow-x:auto;line-height:normal;font-family:Menlo,'DejaVu Sans Mono',consolas,'Courier New',monospace\">CRL <span style=\"color: #008080; text-decoration-color: #008080; font-weight: bold\">2020</span> ITEM <span style=\"color: #008080; text-decoration-color: #008080; font-weight: bold\">7</span> saved\n",
       "</pre>\n"
      ],
      "text/plain": [
       "CRL \u001b[1;36m2020\u001b[0m ITEM \u001b[1;36m7\u001b[0m saved\n"
      ]
     },
     "metadata": {},
     "output_type": "display_data"
    },
    {
     "data": {
      "text/html": [
       "<pre style=\"white-space:pre;overflow-x:auto;line-height:normal;font-family:Menlo,'DejaVu Sans Mono',consolas,'Courier New',monospace\"></pre>\n"
      ],
      "text/plain": []
     },
     "metadata": {},
     "output_type": "display_data"
    },
    {
     "data": {
      "text/html": [
       "<pre style=\"white-space:pre;overflow-x:auto;line-height:normal;font-family:Menlo,'DejaVu Sans Mono',consolas,'Courier New',monospace\">SCHW <span style=\"color: #008080; text-decoration-color: #008080; font-weight: bold\">2020</span> ITEM <span style=\"color: #008080; text-decoration-color: #008080; font-weight: bold\">7</span> saved\n",
       "</pre>\n"
      ],
      "text/plain": [
       "SCHW \u001b[1;36m2020\u001b[0m ITEM \u001b[1;36m7\u001b[0m saved\n"
      ]
     },
     "metadata": {},
     "output_type": "display_data"
    },
    {
     "data": {
      "text/html": [
       "<pre style=\"white-space:pre;overflow-x:auto;line-height:normal;font-family:Menlo,'DejaVu Sans Mono',consolas,'Courier New',monospace\"></pre>\n"
      ],
      "text/plain": []
     },
     "metadata": {},
     "output_type": "display_data"
    },
    {
     "data": {
      "text/html": [
       "<pre style=\"white-space:pre;overflow-x:auto;line-height:normal;font-family:Menlo,'DejaVu Sans Mono',consolas,'Courier New',monospace\">CHTR <span style=\"color: #008080; text-decoration-color: #008080; font-weight: bold\">2020</span> ITEM <span style=\"color: #008080; text-decoration-color: #008080; font-weight: bold\">7</span> saved\n",
       "</pre>\n"
      ],
      "text/plain": [
       "CHTR \u001b[1;36m2020\u001b[0m ITEM \u001b[1;36m7\u001b[0m saved\n"
      ]
     },
     "metadata": {},
     "output_type": "display_data"
    },
    {
     "data": {
      "text/html": [
       "<pre style=\"white-space:pre;overflow-x:auto;line-height:normal;font-family:Menlo,'DejaVu Sans Mono',consolas,'Courier New',monospace\"></pre>\n"
      ],
      "text/plain": []
     },
     "metadata": {},
     "output_type": "display_data"
    },
    {
     "data": {
      "text/html": [
       "<pre style=\"white-space:pre;overflow-x:auto;line-height:normal;font-family:Menlo,'DejaVu Sans Mono',consolas,'Courier New',monospace\">CVX <span style=\"color: #008080; text-decoration-color: #008080; font-weight: bold\">2020</span> ITEM <span style=\"color: #008080; text-decoration-color: #008080; font-weight: bold\">7</span> saved\n",
       "</pre>\n"
      ],
      "text/plain": [
       "CVX \u001b[1;36m2020\u001b[0m ITEM \u001b[1;36m7\u001b[0m saved\n"
      ]
     },
     "metadata": {},
     "output_type": "display_data"
    },
    {
     "data": {
      "text/html": [
       "<pre style=\"white-space:pre;overflow-x:auto;line-height:normal;font-family:Menlo,'DejaVu Sans Mono',consolas,'Courier New',monospace\"></pre>\n"
      ],
      "text/plain": []
     },
     "metadata": {},
     "output_type": "display_data"
    },
    {
     "data": {
      "text/html": [
       "<pre style=\"white-space:pre;overflow-x:auto;line-height:normal;font-family:Menlo,'DejaVu Sans Mono',consolas,'Courier New',monospace\">CMG <span style=\"color: #008080; text-decoration-color: #008080; font-weight: bold\">2020</span> ITEM <span style=\"color: #008080; text-decoration-color: #008080; font-weight: bold\">7</span> saved\n",
       "</pre>\n"
      ],
      "text/plain": [
       "CMG \u001b[1;36m2020\u001b[0m ITEM \u001b[1;36m7\u001b[0m saved\n"
      ]
     },
     "metadata": {},
     "output_type": "display_data"
    },
    {
     "data": {
      "text/html": [
       "<pre style=\"white-space:pre;overflow-x:auto;line-height:normal;font-family:Menlo,'DejaVu Sans Mono',consolas,'Courier New',monospace\"></pre>\n"
      ],
      "text/plain": []
     },
     "metadata": {},
     "output_type": "display_data"
    },
    {
     "data": {
      "text/html": [
       "<pre style=\"white-space:pre;overflow-x:auto;line-height:normal;font-family:Menlo,'DejaVu Sans Mono',consolas,'Courier New',monospace\">CB <span style=\"color: #008080; text-decoration-color: #008080; font-weight: bold\">2020</span> ITEM <span style=\"color: #008080; text-decoration-color: #008080; font-weight: bold\">7</span> saved\n",
       "</pre>\n"
      ],
      "text/plain": [
       "CB \u001b[1;36m2020\u001b[0m ITEM \u001b[1;36m7\u001b[0m saved\n"
      ]
     },
     "metadata": {},
     "output_type": "display_data"
    },
    {
     "data": {
      "text/html": [
       "<pre style=\"white-space:pre;overflow-x:auto;line-height:normal;font-family:Menlo,'DejaVu Sans Mono',consolas,'Courier New',monospace\"></pre>\n"
      ],
      "text/plain": []
     },
     "metadata": {},
     "output_type": "display_data"
    },
    {
     "data": {
      "text/html": [
       "<pre style=\"white-space:pre;overflow-x:auto;line-height:normal;font-family:Menlo,'DejaVu Sans Mono',consolas,'Courier New',monospace\">Extraction failed for company: Length mismatch: Expected axis has <span style=\"color: #008080; text-decoration-color: #008080; font-weight: bold\">0</span> elements, new values have <span style=\"color: #008080; text-decoration-color: #008080; font-weight: bold\">3</span> elements\n",
       "</pre>\n"
      ],
      "text/plain": [
       "Extraction failed for company: Length mismatch: Expected axis has \u001b[1;36m0\u001b[0m elements, new values have \u001b[1;36m3\u001b[0m elements\n"
      ]
     },
     "metadata": {},
     "output_type": "display_data"
    },
    {
     "data": {
      "text/html": [
       "<pre style=\"white-space:pre;overflow-x:auto;line-height:normal;font-family:Menlo,'DejaVu Sans Mono',consolas,'Courier New',monospace\"></pre>\n"
      ],
      "text/plain": []
     },
     "metadata": {},
     "output_type": "display_data"
    },
    {
     "data": {
      "text/html": [
       "<pre style=\"white-space:pre;overflow-x:auto;line-height:normal;font-family:Menlo,'DejaVu Sans Mono',consolas,'Courier New',monospace\">CI <span style=\"color: #008080; text-decoration-color: #008080; font-weight: bold\">2020</span> ITEM <span style=\"color: #008080; text-decoration-color: #008080; font-weight: bold\">7</span> saved\n",
       "</pre>\n"
      ],
      "text/plain": [
       "CI \u001b[1;36m2020\u001b[0m ITEM \u001b[1;36m7\u001b[0m saved\n"
      ]
     },
     "metadata": {},
     "output_type": "display_data"
    },
    {
     "data": {
      "text/html": [
       "<pre style=\"white-space:pre;overflow-x:auto;line-height:normal;font-family:Menlo,'DejaVu Sans Mono',consolas,'Courier New',monospace\"></pre>\n"
      ],
      "text/plain": []
     },
     "metadata": {},
     "output_type": "display_data"
    },
    {
     "data": {
      "text/html": [
       "<pre style=\"white-space:pre;overflow-x:auto;line-height:normal;font-family:Menlo,'DejaVu Sans Mono',consolas,'Courier New',monospace\">CINF <span style=\"color: #008080; text-decoration-color: #008080; font-weight: bold\">2020</span> ITEM <span style=\"color: #008080; text-decoration-color: #008080; font-weight: bold\">7</span> saved\n",
       "</pre>\n"
      ],
      "text/plain": [
       "CINF \u001b[1;36m2020\u001b[0m ITEM \u001b[1;36m7\u001b[0m saved\n"
      ]
     },
     "metadata": {},
     "output_type": "display_data"
    },
    {
     "data": {
      "text/html": [
       "<pre style=\"white-space:pre;overflow-x:auto;line-height:normal;font-family:Menlo,'DejaVu Sans Mono',consolas,'Courier New',monospace\"></pre>\n"
      ],
      "text/plain": []
     },
     "metadata": {},
     "output_type": "display_data"
    },
    {
     "data": {
      "text/html": [
       "<pre style=\"white-space:pre;overflow-x:auto;line-height:normal;font-family:Menlo,'DejaVu Sans Mono',consolas,'Courier New',monospace\">CTAS <span style=\"color: #008080; text-decoration-color: #008080; font-weight: bold\">2020</span> ITEM <span style=\"color: #008080; text-decoration-color: #008080; font-weight: bold\">7</span> saved\n",
       "</pre>\n"
      ],
      "text/plain": [
       "CTAS \u001b[1;36m2020\u001b[0m ITEM \u001b[1;36m7\u001b[0m saved\n"
      ]
     },
     "metadata": {},
     "output_type": "display_data"
    },
    {
     "data": {
      "text/html": [
       "<pre style=\"white-space:pre;overflow-x:auto;line-height:normal;font-family:Menlo,'DejaVu Sans Mono',consolas,'Courier New',monospace\"></pre>\n"
      ],
      "text/plain": []
     },
     "metadata": {},
     "output_type": "display_data"
    },
    {
     "data": {
      "text/html": [
       "<pre style=\"white-space:pre;overflow-x:auto;line-height:normal;font-family:Menlo,'DejaVu Sans Mono',consolas,'Courier New',monospace\">CSCO <span style=\"color: #008080; text-decoration-color: #008080; font-weight: bold\">2020</span> ITEM <span style=\"color: #008080; text-decoration-color: #008080; font-weight: bold\">7</span> saved\n",
       "</pre>\n"
      ],
      "text/plain": [
       "CSCO \u001b[1;36m2020\u001b[0m ITEM \u001b[1;36m7\u001b[0m saved\n"
      ]
     },
     "metadata": {},
     "output_type": "display_data"
    },
    {
     "data": {
      "text/html": [
       "<pre style=\"white-space:pre;overflow-x:auto;line-height:normal;font-family:Menlo,'DejaVu Sans Mono',consolas,'Courier New',monospace\"></pre>\n"
      ],
      "text/plain": []
     },
     "metadata": {},
     "output_type": "display_data"
    },
    {
     "data": {
      "text/html": [
       "<pre style=\"white-space:pre;overflow-x:auto;line-height:normal;font-family:Menlo,'DejaVu Sans Mono',consolas,'Courier New',monospace\">Extraction failed for company: Length mismatch: Expected axis has <span style=\"color: #008080; text-decoration-color: #008080; font-weight: bold\">0</span> elements, new values have <span style=\"color: #008080; text-decoration-color: #008080; font-weight: bold\">3</span> elements\n",
       "</pre>\n"
      ],
      "text/plain": [
       "Extraction failed for company: Length mismatch: Expected axis has \u001b[1;36m0\u001b[0m elements, new values have \u001b[1;36m3\u001b[0m elements\n"
      ]
     },
     "metadata": {},
     "output_type": "display_data"
    },
    {
     "data": {
      "text/html": [
       "<pre style=\"white-space:pre;overflow-x:auto;line-height:normal;font-family:Menlo,'DejaVu Sans Mono',consolas,'Courier New',monospace\"></pre>\n"
      ],
      "text/plain": []
     },
     "metadata": {},
     "output_type": "display_data"
    },
    {
     "data": {
      "text/html": [
       "<pre style=\"white-space:pre;overflow-x:auto;line-height:normal;font-family:Menlo,'DejaVu Sans Mono',consolas,'Courier New',monospace\">CFG <span style=\"color: #008080; text-decoration-color: #008080; font-weight: bold\">2020</span> ITEM <span style=\"color: #008080; text-decoration-color: #008080; font-weight: bold\">7</span> saved\n",
       "</pre>\n"
      ],
      "text/plain": [
       "CFG \u001b[1;36m2020\u001b[0m ITEM \u001b[1;36m7\u001b[0m saved\n"
      ]
     },
     "metadata": {},
     "output_type": "display_data"
    },
    {
     "data": {
      "text/html": [
       "<pre style=\"white-space:pre;overflow-x:auto;line-height:normal;font-family:Menlo,'DejaVu Sans Mono',consolas,'Courier New',monospace\">Extraction failed for company: <span style=\"color: #008000; text-decoration-color: #008000\">'NoneType'</span> object has no attribute <span style=\"color: #008000; text-decoration-color: #008000\">'get_filings'</span>\n",
       "</pre>\n"
      ],
      "text/plain": [
       "Extraction failed for company: \u001b[32m'NoneType'\u001b[0m object has no attribute \u001b[32m'get_filings'\u001b[0m\n"
      ]
     },
     "metadata": {},
     "output_type": "display_data"
    },
    {
     "data": {
      "text/html": [
       "<pre style=\"white-space:pre;overflow-x:auto;line-height:normal;font-family:Menlo,'DejaVu Sans Mono',consolas,'Courier New',monospace\"></pre>\n"
      ],
      "text/plain": []
     },
     "metadata": {},
     "output_type": "display_data"
    },
    {
     "data": {
      "text/html": [
       "<pre style=\"white-space:pre;overflow-x:auto;line-height:normal;font-family:Menlo,'DejaVu Sans Mono',consolas,'Courier New',monospace\">CLX <span style=\"color: #008080; text-decoration-color: #008080; font-weight: bold\">2020</span> ITEM <span style=\"color: #008080; text-decoration-color: #008080; font-weight: bold\">7</span> saved\n",
       "</pre>\n"
      ],
      "text/plain": [
       "CLX \u001b[1;36m2020\u001b[0m ITEM \u001b[1;36m7\u001b[0m saved\n"
      ]
     },
     "metadata": {},
     "output_type": "display_data"
    },
    {
     "data": {
      "text/html": [
       "<pre style=\"white-space:pre;overflow-x:auto;line-height:normal;font-family:Menlo,'DejaVu Sans Mono',consolas,'Courier New',monospace\"></pre>\n"
      ],
      "text/plain": []
     },
     "metadata": {},
     "output_type": "display_data"
    },
    {
     "data": {
      "text/html": [
       "<pre style=\"white-space:pre;overflow-x:auto;line-height:normal;font-family:Menlo,'DejaVu Sans Mono',consolas,'Courier New',monospace\">CME <span style=\"color: #008080; text-decoration-color: #008080; font-weight: bold\">2020</span> ITEM <span style=\"color: #008080; text-decoration-color: #008080; font-weight: bold\">7</span> saved\n",
       "</pre>\n"
      ],
      "text/plain": [
       "CME \u001b[1;36m2020\u001b[0m ITEM \u001b[1;36m7\u001b[0m saved\n"
      ]
     },
     "metadata": {},
     "output_type": "display_data"
    },
    {
     "data": {
      "text/html": [
       "<pre style=\"white-space:pre;overflow-x:auto;line-height:normal;font-family:Menlo,'DejaVu Sans Mono',consolas,'Courier New',monospace\"></pre>\n"
      ],
      "text/plain": []
     },
     "metadata": {},
     "output_type": "display_data"
    },
    {
     "data": {
      "text/html": [
       "<pre style=\"white-space:pre;overflow-x:auto;line-height:normal;font-family:Menlo,'DejaVu Sans Mono',consolas,'Courier New',monospace\">CMS <span style=\"color: #008080; text-decoration-color: #008080; font-weight: bold\">2020</span> ITEM <span style=\"color: #008080; text-decoration-color: #008080; font-weight: bold\">7</span> saved\n",
       "</pre>\n"
      ],
      "text/plain": [
       "CMS \u001b[1;36m2020\u001b[0m ITEM \u001b[1;36m7\u001b[0m saved\n"
      ]
     },
     "metadata": {},
     "output_type": "display_data"
    },
    {
     "data": {
      "text/html": [
       "<pre style=\"white-space:pre;overflow-x:auto;line-height:normal;font-family:Menlo,'DejaVu Sans Mono',consolas,'Courier New',monospace\"></pre>\n"
      ],
      "text/plain": []
     },
     "metadata": {},
     "output_type": "display_data"
    },
    {
     "data": {
      "text/html": [
       "<pre style=\"white-space:pre;overflow-x:auto;line-height:normal;font-family:Menlo,'DejaVu Sans Mono',consolas,'Courier New',monospace\">KO <span style=\"color: #008080; text-decoration-color: #008080; font-weight: bold\">2020</span> ITEM <span style=\"color: #008080; text-decoration-color: #008080; font-weight: bold\">7</span> saved\n",
       "</pre>\n"
      ],
      "text/plain": [
       "KO \u001b[1;36m2020\u001b[0m ITEM \u001b[1;36m7\u001b[0m saved\n"
      ]
     },
     "metadata": {},
     "output_type": "display_data"
    },
    {
     "data": {
      "text/html": [
       "<pre style=\"white-space:pre;overflow-x:auto;line-height:normal;font-family:Menlo,'DejaVu Sans Mono',consolas,'Courier New',monospace\"></pre>\n"
      ],
      "text/plain": []
     },
     "metadata": {},
     "output_type": "display_data"
    },
    {
     "data": {
      "text/html": [
       "<pre style=\"white-space:pre;overflow-x:auto;line-height:normal;font-family:Menlo,'DejaVu Sans Mono',consolas,'Courier New',monospace\">CTSH <span style=\"color: #008080; text-decoration-color: #008080; font-weight: bold\">2020</span> ITEM <span style=\"color: #008080; text-decoration-color: #008080; font-weight: bold\">7</span> saved\n",
       "</pre>\n"
      ],
      "text/plain": [
       "CTSH \u001b[1;36m2020\u001b[0m ITEM \u001b[1;36m7\u001b[0m saved\n"
      ]
     },
     "metadata": {},
     "output_type": "display_data"
    },
    {
     "data": {
      "text/html": [
       "<pre style=\"white-space:pre;overflow-x:auto;line-height:normal;font-family:Menlo,'DejaVu Sans Mono',consolas,'Courier New',monospace\"></pre>\n"
      ],
      "text/plain": []
     },
     "metadata": {},
     "output_type": "display_data"
    },
    {
     "data": {
      "text/html": [
       "<pre style=\"white-space:pre;overflow-x:auto;line-height:normal;font-family:Menlo,'DejaVu Sans Mono',consolas,'Courier New',monospace\">CL <span style=\"color: #008080; text-decoration-color: #008080; font-weight: bold\">2020</span> ITEM <span style=\"color: #008080; text-decoration-color: #008080; font-weight: bold\">7</span> saved\n",
       "</pre>\n"
      ],
      "text/plain": [
       "CL \u001b[1;36m2020\u001b[0m ITEM \u001b[1;36m7\u001b[0m saved\n"
      ]
     },
     "metadata": {},
     "output_type": "display_data"
    },
    {
     "data": {
      "text/html": [
       "<pre style=\"white-space:pre;overflow-x:auto;line-height:normal;font-family:Menlo,'DejaVu Sans Mono',consolas,'Courier New',monospace\"></pre>\n"
      ],
      "text/plain": []
     },
     "metadata": {},
     "output_type": "display_data"
    },
    {
     "data": {
      "text/html": [
       "<pre style=\"white-space:pre;overflow-x:auto;line-height:normal;font-family:Menlo,'DejaVu Sans Mono',consolas,'Courier New',monospace\">CMCSA <span style=\"color: #008080; text-decoration-color: #008080; font-weight: bold\">2020</span> ITEM <span style=\"color: #008080; text-decoration-color: #008080; font-weight: bold\">7</span> saved\n",
       "</pre>\n"
      ],
      "text/plain": [
       "CMCSA \u001b[1;36m2020\u001b[0m ITEM \u001b[1;36m7\u001b[0m saved\n"
      ]
     },
     "metadata": {},
     "output_type": "display_data"
    },
    {
     "data": {
      "text/html": [
       "<pre style=\"white-space:pre;overflow-x:auto;line-height:normal;font-family:Menlo,'DejaVu Sans Mono',consolas,'Courier New',monospace\"></pre>\n"
      ],
      "text/plain": []
     },
     "metadata": {},
     "output_type": "display_data"
    },
    {
     "data": {
      "text/html": [
       "<pre style=\"white-space:pre;overflow-x:auto;line-height:normal;font-family:Menlo,'DejaVu Sans Mono',consolas,'Courier New',monospace\">CMA <span style=\"color: #008080; text-decoration-color: #008080; font-weight: bold\">2020</span> ITEM <span style=\"color: #008080; text-decoration-color: #008080; font-weight: bold\">7</span> saved\n",
       "</pre>\n"
      ],
      "text/plain": [
       "CMA \u001b[1;36m2020\u001b[0m ITEM \u001b[1;36m7\u001b[0m saved\n"
      ]
     },
     "metadata": {},
     "output_type": "display_data"
    },
    {
     "data": {
      "text/html": [
       "<pre style=\"white-space:pre;overflow-x:auto;line-height:normal;font-family:Menlo,'DejaVu Sans Mono',consolas,'Courier New',monospace\"></pre>\n"
      ],
      "text/plain": []
     },
     "metadata": {},
     "output_type": "display_data"
    },
    {
     "data": {
      "text/html": [
       "<pre style=\"white-space:pre;overflow-x:auto;line-height:normal;font-family:Menlo,'DejaVu Sans Mono',consolas,'Courier New',monospace\">CAG <span style=\"color: #008080; text-decoration-color: #008080; font-weight: bold\">2020</span> ITEM <span style=\"color: #008080; text-decoration-color: #008080; font-weight: bold\">7</span> saved\n",
       "</pre>\n"
      ],
      "text/plain": [
       "CAG \u001b[1;36m2020\u001b[0m ITEM \u001b[1;36m7\u001b[0m saved\n"
      ]
     },
     "metadata": {},
     "output_type": "display_data"
    },
    {
     "data": {
      "text/html": [
       "<pre style=\"white-space:pre;overflow-x:auto;line-height:normal;font-family:Menlo,'DejaVu Sans Mono',consolas,'Courier New',monospace\"></pre>\n"
      ],
      "text/plain": []
     },
     "metadata": {},
     "output_type": "display_data"
    },
    {
     "data": {
      "text/html": [
       "<pre style=\"white-space:pre;overflow-x:auto;line-height:normal;font-family:Menlo,'DejaVu Sans Mono',consolas,'Courier New',monospace\">COP <span style=\"color: #008080; text-decoration-color: #008080; font-weight: bold\">2020</span> ITEM <span style=\"color: #008080; text-decoration-color: #008080; font-weight: bold\">7</span> saved\n",
       "</pre>\n"
      ],
      "text/plain": [
       "COP \u001b[1;36m2020\u001b[0m ITEM \u001b[1;36m7\u001b[0m saved\n"
      ]
     },
     "metadata": {},
     "output_type": "display_data"
    },
    {
     "data": {
      "text/html": [
       "<pre style=\"white-space:pre;overflow-x:auto;line-height:normal;font-family:Menlo,'DejaVu Sans Mono',consolas,'Courier New',monospace\"></pre>\n"
      ],
      "text/plain": []
     },
     "metadata": {},
     "output_type": "display_data"
    },
    {
     "data": {
      "text/html": [
       "<pre style=\"white-space:pre;overflow-x:auto;line-height:normal;font-family:Menlo,'DejaVu Sans Mono',consolas,'Courier New',monospace\">ED <span style=\"color: #008080; text-decoration-color: #008080; font-weight: bold\">2020</span> ITEM <span style=\"color: #008080; text-decoration-color: #008080; font-weight: bold\">7</span> saved\n",
       "</pre>\n"
      ],
      "text/plain": [
       "ED \u001b[1;36m2020\u001b[0m ITEM \u001b[1;36m7\u001b[0m saved\n"
      ]
     },
     "metadata": {},
     "output_type": "display_data"
    },
    {
     "data": {
      "text/html": [
       "<pre style=\"white-space:pre;overflow-x:auto;line-height:normal;font-family:Menlo,'DejaVu Sans Mono',consolas,'Courier New',monospace\"></pre>\n"
      ],
      "text/plain": []
     },
     "metadata": {},
     "output_type": "display_data"
    },
    {
     "data": {
      "text/html": [
       "<pre style=\"white-space:pre;overflow-x:auto;line-height:normal;font-family:Menlo,'DejaVu Sans Mono',consolas,'Courier New',monospace\">STZ <span style=\"color: #008080; text-decoration-color: #008080; font-weight: bold\">2020</span> ITEM <span style=\"color: #008080; text-decoration-color: #008080; font-weight: bold\">7</span> saved\n",
       "</pre>\n"
      ],
      "text/plain": [
       "STZ \u001b[1;36m2020\u001b[0m ITEM \u001b[1;36m7\u001b[0m saved\n"
      ]
     },
     "metadata": {},
     "output_type": "display_data"
    },
    {
     "data": {
      "text/html": [
       "<pre style=\"white-space:pre;overflow-x:auto;line-height:normal;font-family:Menlo,'DejaVu Sans Mono',consolas,'Courier New',monospace\"></pre>\n"
      ],
      "text/plain": []
     },
     "metadata": {},
     "output_type": "display_data"
    },
    {
     "data": {
      "text/html": [
       "<pre style=\"white-space:pre;overflow-x:auto;line-height:normal;font-family:Menlo,'DejaVu Sans Mono',consolas,'Courier New',monospace\">CPRT <span style=\"color: #008080; text-decoration-color: #008080; font-weight: bold\">2020</span> ITEM <span style=\"color: #008080; text-decoration-color: #008080; font-weight: bold\">7</span> saved\n",
       "</pre>\n"
      ],
      "text/plain": [
       "CPRT \u001b[1;36m2020\u001b[0m ITEM \u001b[1;36m7\u001b[0m saved\n"
      ]
     },
     "metadata": {},
     "output_type": "display_data"
    },
    {
     "data": {
      "text/html": [
       "<pre style=\"white-space:pre;overflow-x:auto;line-height:normal;font-family:Menlo,'DejaVu Sans Mono',consolas,'Courier New',monospace\"></pre>\n"
      ],
      "text/plain": []
     },
     "metadata": {},
     "output_type": "display_data"
    },
    {
     "data": {
      "text/html": [
       "<pre style=\"white-space:pre;overflow-x:auto;line-height:normal;font-family:Menlo,'DejaVu Sans Mono',consolas,'Courier New',monospace\">GLW <span style=\"color: #008080; text-decoration-color: #008080; font-weight: bold\">2020</span> ITEM <span style=\"color: #008080; text-decoration-color: #008080; font-weight: bold\">7</span> saved\n",
       "</pre>\n"
      ],
      "text/plain": [
       "GLW \u001b[1;36m2020\u001b[0m ITEM \u001b[1;36m7\u001b[0m saved\n"
      ]
     },
     "metadata": {},
     "output_type": "display_data"
    },
    {
     "data": {
      "text/html": [
       "<pre style=\"white-space:pre;overflow-x:auto;line-height:normal;font-family:Menlo,'DejaVu Sans Mono',consolas,'Courier New',monospace\"></pre>\n"
      ],
      "text/plain": []
     },
     "metadata": {},
     "output_type": "display_data"
    },
    {
     "data": {
      "text/html": [
       "<pre style=\"white-space:pre;overflow-x:auto;line-height:normal;font-family:Menlo,'DejaVu Sans Mono',consolas,'Courier New',monospace\">CTVA <span style=\"color: #008080; text-decoration-color: #008080; font-weight: bold\">2020</span> ITEM <span style=\"color: #008080; text-decoration-color: #008080; font-weight: bold\">7</span> saved\n",
       "</pre>\n"
      ],
      "text/plain": [
       "CTVA \u001b[1;36m2020\u001b[0m ITEM \u001b[1;36m7\u001b[0m saved\n"
      ]
     },
     "metadata": {},
     "output_type": "display_data"
    },
    {
     "data": {
      "text/html": [
       "<pre style=\"white-space:pre;overflow-x:auto;line-height:normal;font-family:Menlo,'DejaVu Sans Mono',consolas,'Courier New',monospace\"></pre>\n"
      ],
      "text/plain": []
     },
     "metadata": {},
     "output_type": "display_data"
    },
    {
     "data": {
      "text/html": [
       "<pre style=\"white-space:pre;overflow-x:auto;line-height:normal;font-family:Menlo,'DejaVu Sans Mono',consolas,'Courier New',monospace\">COST <span style=\"color: #008080; text-decoration-color: #008080; font-weight: bold\">2020</span> ITEM <span style=\"color: #008080; text-decoration-color: #008080; font-weight: bold\">7</span> saved\n",
       "</pre>\n"
      ],
      "text/plain": [
       "COST \u001b[1;36m2020\u001b[0m ITEM \u001b[1;36m7\u001b[0m saved\n"
      ]
     },
     "metadata": {},
     "output_type": "display_data"
    },
    {
     "data": {
      "text/html": [
       "<pre style=\"white-space:pre;overflow-x:auto;line-height:normal;font-family:Menlo,'DejaVu Sans Mono',consolas,'Courier New',monospace\"></pre>\n"
      ],
      "text/plain": []
     },
     "metadata": {},
     "output_type": "display_data"
    },
    {
     "data": {
      "text/html": [
       "<pre style=\"white-space:pre;overflow-x:auto;line-height:normal;font-family:Menlo,'DejaVu Sans Mono',consolas,'Courier New',monospace\">CTRA <span style=\"color: #008080; text-decoration-color: #008080; font-weight: bold\">2020</span> ITEM <span style=\"color: #008080; text-decoration-color: #008080; font-weight: bold\">7</span> saved\n",
       "</pre>\n"
      ],
      "text/plain": [
       "CTRA \u001b[1;36m2020\u001b[0m ITEM \u001b[1;36m7\u001b[0m saved\n"
      ]
     },
     "metadata": {},
     "output_type": "display_data"
    },
    {
     "data": {
      "text/html": [
       "<pre style=\"white-space:pre;overflow-x:auto;line-height:normal;font-family:Menlo,'DejaVu Sans Mono',consolas,'Courier New',monospace\"></pre>\n"
      ],
      "text/plain": []
     },
     "metadata": {},
     "output_type": "display_data"
    },
    {
     "data": {
      "text/html": [
       "<pre style=\"white-space:pre;overflow-x:auto;line-height:normal;font-family:Menlo,'DejaVu Sans Mono',consolas,'Courier New',monospace\">CCI <span style=\"color: #008080; text-decoration-color: #008080; font-weight: bold\">2020</span> ITEM <span style=\"color: #008080; text-decoration-color: #008080; font-weight: bold\">7</span> saved\n",
       "</pre>\n"
      ],
      "text/plain": [
       "CCI \u001b[1;36m2020\u001b[0m ITEM \u001b[1;36m7\u001b[0m saved\n"
      ]
     },
     "metadata": {},
     "output_type": "display_data"
    },
    {
     "data": {
      "text/html": [
       "<pre style=\"white-space:pre;overflow-x:auto;line-height:normal;font-family:Menlo,'DejaVu Sans Mono',consolas,'Courier New',monospace\"></pre>\n"
      ],
      "text/plain": []
     },
     "metadata": {},
     "output_type": "display_data"
    },
    {
     "data": {
      "text/html": [
       "<pre style=\"white-space:pre;overflow-x:auto;line-height:normal;font-family:Menlo,'DejaVu Sans Mono',consolas,'Courier New',monospace\">CSX <span style=\"color: #008080; text-decoration-color: #008080; font-weight: bold\">2020</span> ITEM <span style=\"color: #008080; text-decoration-color: #008080; font-weight: bold\">7</span> saved\n",
       "</pre>\n"
      ],
      "text/plain": [
       "CSX \u001b[1;36m2020\u001b[0m ITEM \u001b[1;36m7\u001b[0m saved\n"
      ]
     },
     "metadata": {},
     "output_type": "display_data"
    },
    {
     "data": {
      "text/html": [
       "<pre style=\"white-space:pre;overflow-x:auto;line-height:normal;font-family:Menlo,'DejaVu Sans Mono',consolas,'Courier New',monospace\"></pre>\n"
      ],
      "text/plain": []
     },
     "metadata": {},
     "output_type": "display_data"
    },
    {
     "data": {
      "text/html": [
       "<pre style=\"white-space:pre;overflow-x:auto;line-height:normal;font-family:Menlo,'DejaVu Sans Mono',consolas,'Courier New',monospace\">CMI <span style=\"color: #008080; text-decoration-color: #008080; font-weight: bold\">2020</span> ITEM <span style=\"color: #008080; text-decoration-color: #008080; font-weight: bold\">7</span> saved\n",
       "</pre>\n"
      ],
      "text/plain": [
       "CMI \u001b[1;36m2020\u001b[0m ITEM \u001b[1;36m7\u001b[0m saved\n"
      ]
     },
     "metadata": {},
     "output_type": "display_data"
    },
    {
     "data": {
      "text/html": [
       "<pre style=\"white-space:pre;overflow-x:auto;line-height:normal;font-family:Menlo,'DejaVu Sans Mono',consolas,'Courier New',monospace\"></pre>\n"
      ],
      "text/plain": []
     },
     "metadata": {},
     "output_type": "display_data"
    },
    {
     "data": {
      "text/html": [
       "<pre style=\"white-space:pre;overflow-x:auto;line-height:normal;font-family:Menlo,'DejaVu Sans Mono',consolas,'Courier New',monospace\">CVS <span style=\"color: #008080; text-decoration-color: #008080; font-weight: bold\">2020</span> ITEM <span style=\"color: #008080; text-decoration-color: #008080; font-weight: bold\">7</span> saved\n",
       "</pre>\n"
      ],
      "text/plain": [
       "CVS \u001b[1;36m2020\u001b[0m ITEM \u001b[1;36m7\u001b[0m saved\n"
      ]
     },
     "metadata": {},
     "output_type": "display_data"
    },
    {
     "data": {
      "text/html": [
       "<pre style=\"white-space:pre;overflow-x:auto;line-height:normal;font-family:Menlo,'DejaVu Sans Mono',consolas,'Courier New',monospace\"></pre>\n"
      ],
      "text/plain": []
     },
     "metadata": {},
     "output_type": "display_data"
    },
    {
     "data": {
      "text/html": [
       "<pre style=\"white-space:pre;overflow-x:auto;line-height:normal;font-family:Menlo,'DejaVu Sans Mono',consolas,'Courier New',monospace\">DHI <span style=\"color: #008080; text-decoration-color: #008080; font-weight: bold\">2020</span> ITEM <span style=\"color: #008080; text-decoration-color: #008080; font-weight: bold\">7</span> saved\n",
       "</pre>\n"
      ],
      "text/plain": [
       "DHI \u001b[1;36m2020\u001b[0m ITEM \u001b[1;36m7\u001b[0m saved\n"
      ]
     },
     "metadata": {},
     "output_type": "display_data"
    },
    {
     "data": {
      "text/html": [
       "<pre style=\"white-space:pre;overflow-x:auto;line-height:normal;font-family:Menlo,'DejaVu Sans Mono',consolas,'Courier New',monospace\"></pre>\n"
      ],
      "text/plain": []
     },
     "metadata": {},
     "output_type": "display_data"
    },
    {
     "data": {
      "text/html": [
       "<pre style=\"white-space:pre;overflow-x:auto;line-height:normal;font-family:Menlo,'DejaVu Sans Mono',consolas,'Courier New',monospace\">DHR <span style=\"color: #008080; text-decoration-color: #008080; font-weight: bold\">2020</span> ITEM <span style=\"color: #008080; text-decoration-color: #008080; font-weight: bold\">7</span> saved\n",
       "</pre>\n"
      ],
      "text/plain": [
       "DHR \u001b[1;36m2020\u001b[0m ITEM \u001b[1;36m7\u001b[0m saved\n"
      ]
     },
     "metadata": {},
     "output_type": "display_data"
    },
    {
     "data": {
      "text/html": [
       "<pre style=\"white-space:pre;overflow-x:auto;line-height:normal;font-family:Menlo,'DejaVu Sans Mono',consolas,'Courier New',monospace\"></pre>\n"
      ],
      "text/plain": []
     },
     "metadata": {},
     "output_type": "display_data"
    },
    {
     "data": {
      "text/html": [
       "<pre style=\"white-space:pre;overflow-x:auto;line-height:normal;font-family:Menlo,'DejaVu Sans Mono',consolas,'Courier New',monospace\">DRI <span style=\"color: #008080; text-decoration-color: #008080; font-weight: bold\">2020</span> ITEM <span style=\"color: #008080; text-decoration-color: #008080; font-weight: bold\">7</span> saved\n",
       "</pre>\n"
      ],
      "text/plain": [
       "DRI \u001b[1;36m2020\u001b[0m ITEM \u001b[1;36m7\u001b[0m saved\n"
      ]
     },
     "metadata": {},
     "output_type": "display_data"
    },
    {
     "data": {
      "text/html": [
       "<pre style=\"white-space:pre;overflow-x:auto;line-height:normal;font-family:Menlo,'DejaVu Sans Mono',consolas,'Courier New',monospace\"></pre>\n"
      ],
      "text/plain": []
     },
     "metadata": {},
     "output_type": "display_data"
    },
    {
     "data": {
      "text/html": [
       "<pre style=\"white-space:pre;overflow-x:auto;line-height:normal;font-family:Menlo,'DejaVu Sans Mono',consolas,'Courier New',monospace\">DVA <span style=\"color: #008080; text-decoration-color: #008080; font-weight: bold\">2020</span> ITEM <span style=\"color: #008080; text-decoration-color: #008080; font-weight: bold\">7</span> saved\n",
       "</pre>\n"
      ],
      "text/plain": [
       "DVA \u001b[1;36m2020\u001b[0m ITEM \u001b[1;36m7\u001b[0m saved\n"
      ]
     },
     "metadata": {},
     "output_type": "display_data"
    },
    {
     "data": {
      "text/html": [
       "<pre style=\"white-space:pre;overflow-x:auto;line-height:normal;font-family:Menlo,'DejaVu Sans Mono',consolas,'Courier New',monospace\"></pre>\n"
      ],
      "text/plain": []
     },
     "metadata": {},
     "output_type": "display_data"
    },
    {
     "data": {
      "text/html": [
       "<pre style=\"white-space:pre;overflow-x:auto;line-height:normal;font-family:Menlo,'DejaVu Sans Mono',consolas,'Courier New',monospace\">DE <span style=\"color: #008080; text-decoration-color: #008080; font-weight: bold\">2020</span> ITEM <span style=\"color: #008080; text-decoration-color: #008080; font-weight: bold\">7</span> saved\n",
       "</pre>\n"
      ],
      "text/plain": [
       "DE \u001b[1;36m2020\u001b[0m ITEM \u001b[1;36m7\u001b[0m saved\n"
      ]
     },
     "metadata": {},
     "output_type": "display_data"
    },
    {
     "data": {
      "text/html": [
       "<pre style=\"white-space:pre;overflow-x:auto;line-height:normal;font-family:Menlo,'DejaVu Sans Mono',consolas,'Courier New',monospace\"></pre>\n"
      ],
      "text/plain": []
     },
     "metadata": {},
     "output_type": "display_data"
    },
    {
     "data": {
      "text/html": [
       "<pre style=\"white-space:pre;overflow-x:auto;line-height:normal;font-family:Menlo,'DejaVu Sans Mono',consolas,'Courier New',monospace\">DAL <span style=\"color: #008080; text-decoration-color: #008080; font-weight: bold\">2020</span> ITEM <span style=\"color: #008080; text-decoration-color: #008080; font-weight: bold\">7</span> saved\n",
       "</pre>\n"
      ],
      "text/plain": [
       "DAL \u001b[1;36m2020\u001b[0m ITEM \u001b[1;36m7\u001b[0m saved\n"
      ]
     },
     "metadata": {},
     "output_type": "display_data"
    },
    {
     "data": {
      "text/html": [
       "<pre style=\"white-space:pre;overflow-x:auto;line-height:normal;font-family:Menlo,'DejaVu Sans Mono',consolas,'Courier New',monospace\"></pre>\n"
      ],
      "text/plain": []
     },
     "metadata": {},
     "output_type": "display_data"
    },
    {
     "data": {
      "text/html": [
       "<pre style=\"white-space:pre;overflow-x:auto;line-height:normal;font-family:Menlo,'DejaVu Sans Mono',consolas,'Courier New',monospace\">XRAY <span style=\"color: #008080; text-decoration-color: #008080; font-weight: bold\">2020</span> ITEM <span style=\"color: #008080; text-decoration-color: #008080; font-weight: bold\">7</span> saved\n",
       "</pre>\n"
      ],
      "text/plain": [
       "XRAY \u001b[1;36m2020\u001b[0m ITEM \u001b[1;36m7\u001b[0m saved\n"
      ]
     },
     "metadata": {},
     "output_type": "display_data"
    },
    {
     "data": {
      "text/html": [
       "<pre style=\"white-space:pre;overflow-x:auto;line-height:normal;font-family:Menlo,'DejaVu Sans Mono',consolas,'Courier New',monospace\"></pre>\n"
      ],
      "text/plain": []
     },
     "metadata": {},
     "output_type": "display_data"
    },
    {
     "data": {
      "text/html": [
       "<pre style=\"white-space:pre;overflow-x:auto;line-height:normal;font-family:Menlo,'DejaVu Sans Mono',consolas,'Courier New',monospace\">DVN <span style=\"color: #008080; text-decoration-color: #008080; font-weight: bold\">2020</span> ITEM <span style=\"color: #008080; text-decoration-color: #008080; font-weight: bold\">7</span> saved\n",
       "</pre>\n"
      ],
      "text/plain": [
       "DVN \u001b[1;36m2020\u001b[0m ITEM \u001b[1;36m7\u001b[0m saved\n"
      ]
     },
     "metadata": {},
     "output_type": "display_data"
    },
    {
     "data": {
      "text/html": [
       "<pre style=\"white-space:pre;overflow-x:auto;line-height:normal;font-family:Menlo,'DejaVu Sans Mono',consolas,'Courier New',monospace\"></pre>\n"
      ],
      "text/plain": []
     },
     "metadata": {},
     "output_type": "display_data"
    },
    {
     "data": {
      "text/html": [
       "<pre style=\"white-space:pre;overflow-x:auto;line-height:normal;font-family:Menlo,'DejaVu Sans Mono',consolas,'Courier New',monospace\">DXCM <span style=\"color: #008080; text-decoration-color: #008080; font-weight: bold\">2020</span> ITEM <span style=\"color: #008080; text-decoration-color: #008080; font-weight: bold\">7</span> saved\n",
       "</pre>\n"
      ],
      "text/plain": [
       "DXCM \u001b[1;36m2020\u001b[0m ITEM \u001b[1;36m7\u001b[0m saved\n"
      ]
     },
     "metadata": {},
     "output_type": "display_data"
    },
    {
     "data": {
      "text/html": [
       "<pre style=\"white-space:pre;overflow-x:auto;line-height:normal;font-family:Menlo,'DejaVu Sans Mono',consolas,'Courier New',monospace\"></pre>\n"
      ],
      "text/plain": []
     },
     "metadata": {},
     "output_type": "display_data"
    },
    {
     "data": {
      "text/html": [
       "<pre style=\"white-space:pre;overflow-x:auto;line-height:normal;font-family:Menlo,'DejaVu Sans Mono',consolas,'Courier New',monospace\">FANG <span style=\"color: #008080; text-decoration-color: #008080; font-weight: bold\">2020</span> ITEM <span style=\"color: #008080; text-decoration-color: #008080; font-weight: bold\">7</span> saved\n",
       "</pre>\n"
      ],
      "text/plain": [
       "FANG \u001b[1;36m2020\u001b[0m ITEM \u001b[1;36m7\u001b[0m saved\n"
      ]
     },
     "metadata": {},
     "output_type": "display_data"
    },
    {
     "data": {
      "text/html": [
       "<pre style=\"white-space:pre;overflow-x:auto;line-height:normal;font-family:Menlo,'DejaVu Sans Mono',consolas,'Courier New',monospace\"></pre>\n"
      ],
      "text/plain": []
     },
     "metadata": {},
     "output_type": "display_data"
    },
    {
     "data": {
      "text/html": [
       "<pre style=\"white-space:pre;overflow-x:auto;line-height:normal;font-family:Menlo,'DejaVu Sans Mono',consolas,'Courier New',monospace\">Extraction failed for company: Length mismatch: Expected axis has <span style=\"color: #008080; text-decoration-color: #008080; font-weight: bold\">0</span> elements, new values have <span style=\"color: #008080; text-decoration-color: #008080; font-weight: bold\">3</span> elements\n",
       "</pre>\n"
      ],
      "text/plain": [
       "Extraction failed for company: Length mismatch: Expected axis has \u001b[1;36m0\u001b[0m elements, new values have \u001b[1;36m3\u001b[0m elements\n"
      ]
     },
     "metadata": {},
     "output_type": "display_data"
    },
    {
     "data": {
      "text/html": [
       "<pre style=\"white-space:pre;overflow-x:auto;line-height:normal;font-family:Menlo,'DejaVu Sans Mono',consolas,'Courier New',monospace\"></pre>\n"
      ],
      "text/plain": []
     },
     "metadata": {},
     "output_type": "display_data"
    },
    {
     "data": {
      "text/html": [
       "<pre style=\"white-space:pre;overflow-x:auto;line-height:normal;font-family:Menlo,'DejaVu Sans Mono',consolas,'Courier New',monospace\">DFS <span style=\"color: #008080; text-decoration-color: #008080; font-weight: bold\">2020</span> ITEM <span style=\"color: #008080; text-decoration-color: #008080; font-weight: bold\">7</span> saved\n",
       "</pre>\n"
      ],
      "text/plain": [
       "DFS \u001b[1;36m2020\u001b[0m ITEM \u001b[1;36m7\u001b[0m saved\n"
      ]
     },
     "metadata": {},
     "output_type": "display_data"
    },
    {
     "data": {
      "text/html": [
       "<pre style=\"white-space:pre;overflow-x:auto;line-height:normal;font-family:Menlo,'DejaVu Sans Mono',consolas,'Courier New',monospace\">Extraction failed for company: <span style=\"color: #008000; text-decoration-color: #008000\">'NoneType'</span> object has no attribute <span style=\"color: #008000; text-decoration-color: #008000\">'get_filings'</span>\n",
       "</pre>\n"
      ],
      "text/plain": [
       "Extraction failed for company: \u001b[32m'NoneType'\u001b[0m object has no attribute \u001b[32m'get_filings'\u001b[0m\n"
      ]
     },
     "metadata": {},
     "output_type": "display_data"
    },
    {
     "data": {
      "text/html": [
       "<pre style=\"white-space:pre;overflow-x:auto;line-height:normal;font-family:Menlo,'DejaVu Sans Mono',consolas,'Courier New',monospace\">Extraction failed for company: <span style=\"color: #008000; text-decoration-color: #008000\">'NoneType'</span> object has no attribute <span style=\"color: #008000; text-decoration-color: #008000\">'get_filings'</span>\n",
       "</pre>\n"
      ],
      "text/plain": [
       "Extraction failed for company: \u001b[32m'NoneType'\u001b[0m object has no attribute \u001b[32m'get_filings'\u001b[0m\n"
      ]
     },
     "metadata": {},
     "output_type": "display_data"
    },
    {
     "data": {
      "text/html": [
       "<pre style=\"white-space:pre;overflow-x:auto;line-height:normal;font-family:Menlo,'DejaVu Sans Mono',consolas,'Courier New',monospace\">Extraction failed for company: <span style=\"color: #008000; text-decoration-color: #008000\">'NoneType'</span> object has no attribute <span style=\"color: #008000; text-decoration-color: #008000\">'get_filings'</span>\n",
       "</pre>\n"
      ],
      "text/plain": [
       "Extraction failed for company: \u001b[32m'NoneType'\u001b[0m object has no attribute \u001b[32m'get_filings'\u001b[0m\n"
      ]
     },
     "metadata": {},
     "output_type": "display_data"
    },
    {
     "data": {
      "text/html": [
       "<pre style=\"white-space:pre;overflow-x:auto;line-height:normal;font-family:Menlo,'DejaVu Sans Mono',consolas,'Courier New',monospace\"></pre>\n"
      ],
      "text/plain": []
     },
     "metadata": {},
     "output_type": "display_data"
    },
    {
     "data": {
      "text/html": [
       "<pre style=\"white-space:pre;overflow-x:auto;line-height:normal;font-family:Menlo,'DejaVu Sans Mono',consolas,'Courier New',monospace\">DG <span style=\"color: #008080; text-decoration-color: #008080; font-weight: bold\">2020</span> ITEM <span style=\"color: #008080; text-decoration-color: #008080; font-weight: bold\">7</span> saved\n",
       "</pre>\n"
      ],
      "text/plain": [
       "DG \u001b[1;36m2020\u001b[0m ITEM \u001b[1;36m7\u001b[0m saved\n"
      ]
     },
     "metadata": {},
     "output_type": "display_data"
    },
    {
     "data": {
      "text/html": [
       "<pre style=\"white-space:pre;overflow-x:auto;line-height:normal;font-family:Menlo,'DejaVu Sans Mono',consolas,'Courier New',monospace\"></pre>\n"
      ],
      "text/plain": []
     },
     "metadata": {},
     "output_type": "display_data"
    },
    {
     "data": {
      "text/html": [
       "<pre style=\"white-space:pre;overflow-x:auto;line-height:normal;font-family:Menlo,'DejaVu Sans Mono',consolas,'Courier New',monospace\">DLTR <span style=\"color: #008080; text-decoration-color: #008080; font-weight: bold\">2020</span> ITEM <span style=\"color: #008080; text-decoration-color: #008080; font-weight: bold\">7</span> saved\n",
       "</pre>\n"
      ],
      "text/plain": [
       "DLTR \u001b[1;36m2020\u001b[0m ITEM \u001b[1;36m7\u001b[0m saved\n"
      ]
     },
     "metadata": {},
     "output_type": "display_data"
    },
    {
     "data": {
      "text/html": [
       "<pre style=\"white-space:pre;overflow-x:auto;line-height:normal;font-family:Menlo,'DejaVu Sans Mono',consolas,'Courier New',monospace\"></pre>\n"
      ],
      "text/plain": []
     },
     "metadata": {},
     "output_type": "display_data"
    },
    {
     "data": {
      "text/html": [
       "<pre style=\"white-space:pre;overflow-x:auto;line-height:normal;font-family:Menlo,'DejaVu Sans Mono',consolas,'Courier New',monospace\">D <span style=\"color: #008080; text-decoration-color: #008080; font-weight: bold\">2020</span> ITEM <span style=\"color: #008080; text-decoration-color: #008080; font-weight: bold\">7</span> saved\n",
       "</pre>\n"
      ],
      "text/plain": [
       "D \u001b[1;36m2020\u001b[0m ITEM \u001b[1;36m7\u001b[0m saved\n"
      ]
     },
     "metadata": {},
     "output_type": "display_data"
    },
    {
     "data": {
      "text/html": [
       "<pre style=\"white-space:pre;overflow-x:auto;line-height:normal;font-family:Menlo,'DejaVu Sans Mono',consolas,'Courier New',monospace\">Extraction failed for company: index <span style=\"color: #008080; text-decoration-color: #008080; font-weight: bold\">0</span> is out of bounds for axis <span style=\"color: #008080; text-decoration-color: #008080; font-weight: bold\">0</span> with size <span style=\"color: #008080; text-decoration-color: #008080; font-weight: bold\">0</span>\n",
       "</pre>\n"
      ],
      "text/plain": [
       "Extraction failed for company: index \u001b[1;36m0\u001b[0m is out of bounds for axis \u001b[1;36m0\u001b[0m with size \u001b[1;36m0\u001b[0m\n"
      ]
     },
     "metadata": {},
     "output_type": "display_data"
    },
    {
     "data": {
      "text/html": [
       "<pre style=\"white-space:pre;overflow-x:auto;line-height:normal;font-family:Menlo,'DejaVu Sans Mono',consolas,'Courier New',monospace\"></pre>\n"
      ],
      "text/plain": []
     },
     "metadata": {},
     "output_type": "display_data"
    },
    {
     "data": {
      "text/html": [
       "<pre style=\"white-space:pre;overflow-x:auto;line-height:normal;font-family:Menlo,'DejaVu Sans Mono',consolas,'Courier New',monospace\">DOV <span style=\"color: #008080; text-decoration-color: #008080; font-weight: bold\">2020</span> ITEM <span style=\"color: #008080; text-decoration-color: #008080; font-weight: bold\">7</span> saved\n",
       "</pre>\n"
      ],
      "text/plain": [
       "DOV \u001b[1;36m2020\u001b[0m ITEM \u001b[1;36m7\u001b[0m saved\n"
      ]
     },
     "metadata": {},
     "output_type": "display_data"
    },
    {
     "data": {
      "text/html": [
       "<pre style=\"white-space:pre;overflow-x:auto;line-height:normal;font-family:Menlo,'DejaVu Sans Mono',consolas,'Courier New',monospace\"></pre>\n"
      ],
      "text/plain": []
     },
     "metadata": {},
     "output_type": "display_data"
    },
    {
     "data": {
      "text/html": [
       "<pre style=\"white-space:pre;overflow-x:auto;line-height:normal;font-family:Menlo,'DejaVu Sans Mono',consolas,'Courier New',monospace\">DOW <span style=\"color: #008080; text-decoration-color: #008080; font-weight: bold\">2020</span> ITEM <span style=\"color: #008080; text-decoration-color: #008080; font-weight: bold\">7</span> saved\n",
       "</pre>\n"
      ],
      "text/plain": [
       "DOW \u001b[1;36m2020\u001b[0m ITEM \u001b[1;36m7\u001b[0m saved\n"
      ]
     },
     "metadata": {},
     "output_type": "display_data"
    },
    {
     "data": {
      "text/html": [
       "<pre style=\"white-space:pre;overflow-x:auto;line-height:normal;font-family:Menlo,'DejaVu Sans Mono',consolas,'Courier New',monospace\"></pre>\n"
      ],
      "text/plain": []
     },
     "metadata": {},
     "output_type": "display_data"
    },
    {
     "data": {
      "text/html": [
       "<pre style=\"white-space:pre;overflow-x:auto;line-height:normal;font-family:Menlo,'DejaVu Sans Mono',consolas,'Courier New',monospace\">DTE <span style=\"color: #008080; text-decoration-color: #008080; font-weight: bold\">2020</span> ITEM <span style=\"color: #008080; text-decoration-color: #008080; font-weight: bold\">7</span> saved\n",
       "</pre>\n"
      ],
      "text/plain": [
       "DTE \u001b[1;36m2020\u001b[0m ITEM \u001b[1;36m7\u001b[0m saved\n"
      ]
     },
     "metadata": {},
     "output_type": "display_data"
    },
    {
     "data": {
      "text/html": [
       "<pre style=\"white-space:pre;overflow-x:auto;line-height:normal;font-family:Menlo,'DejaVu Sans Mono',consolas,'Courier New',monospace\"></pre>\n"
      ],
      "text/plain": []
     },
     "metadata": {},
     "output_type": "display_data"
    },
    {
     "data": {
      "text/html": [
       "<pre style=\"white-space:pre;overflow-x:auto;line-height:normal;font-family:Menlo,'DejaVu Sans Mono',consolas,'Courier New',monospace\">DUK <span style=\"color: #008080; text-decoration-color: #008080; font-weight: bold\">2020</span> ITEM <span style=\"color: #008080; text-decoration-color: #008080; font-weight: bold\">7</span> saved\n",
       "</pre>\n"
      ],
      "text/plain": [
       "DUK \u001b[1;36m2020\u001b[0m ITEM \u001b[1;36m7\u001b[0m saved\n"
      ]
     },
     "metadata": {},
     "output_type": "display_data"
    },
    {
     "data": {
      "text/html": [
       "<pre style=\"white-space:pre;overflow-x:auto;line-height:normal;font-family:Menlo,'DejaVu Sans Mono',consolas,'Courier New',monospace\">Extraction failed for company: <span style=\"color: #008000; text-decoration-color: #008000\">'NoneType'</span> object has no attribute <span style=\"color: #008000; text-decoration-color: #008000\">'get_filings'</span>\n",
       "</pre>\n"
      ],
      "text/plain": [
       "Extraction failed for company: \u001b[32m'NoneType'\u001b[0m object has no attribute \u001b[32m'get_filings'\u001b[0m\n"
      ]
     },
     "metadata": {},
     "output_type": "display_data"
    },
    {
     "data": {
      "text/html": [
       "<pre style=\"white-space:pre;overflow-x:auto;line-height:normal;font-family:Menlo,'DejaVu Sans Mono',consolas,'Courier New',monospace\"></pre>\n"
      ],
      "text/plain": []
     },
     "metadata": {},
     "output_type": "display_data"
    },
    {
     "data": {
      "text/html": [
       "<pre style=\"white-space:pre;overflow-x:auto;line-height:normal;font-family:Menlo,'DejaVu Sans Mono',consolas,'Courier New',monospace\">DD <span style=\"color: #008080; text-decoration-color: #008080; font-weight: bold\">2020</span> ITEM <span style=\"color: #008080; text-decoration-color: #008080; font-weight: bold\">7</span> saved\n",
       "</pre>\n"
      ],
      "text/plain": [
       "DD \u001b[1;36m2020\u001b[0m ITEM \u001b[1;36m7\u001b[0m saved\n"
      ]
     },
     "metadata": {},
     "output_type": "display_data"
    },
    {
     "data": {
      "text/html": [
       "<pre style=\"white-space:pre;overflow-x:auto;line-height:normal;font-family:Menlo,'DejaVu Sans Mono',consolas,'Courier New',monospace\"></pre>\n"
      ],
      "text/plain": []
     },
     "metadata": {},
     "output_type": "display_data"
    },
    {
     "data": {
      "text/html": [
       "<pre style=\"white-space:pre;overflow-x:auto;line-height:normal;font-family:Menlo,'DejaVu Sans Mono',consolas,'Courier New',monospace\">DXC <span style=\"color: #008080; text-decoration-color: #008080; font-weight: bold\">2020</span> ITEM <span style=\"color: #008080; text-decoration-color: #008080; font-weight: bold\">7</span> saved\n",
       "</pre>\n"
      ],
      "text/plain": [
       "DXC \u001b[1;36m2020\u001b[0m ITEM \u001b[1;36m7\u001b[0m saved\n"
      ]
     },
     "metadata": {},
     "output_type": "display_data"
    },
    {
     "data": {
      "text/html": [
       "<pre style=\"white-space:pre;overflow-x:auto;line-height:normal;font-family:Menlo,'DejaVu Sans Mono',consolas,'Courier New',monospace\"></pre>\n"
      ],
      "text/plain": []
     },
     "metadata": {},
     "output_type": "display_data"
    },
    {
     "data": {
      "text/html": [
       "<pre style=\"white-space:pre;overflow-x:auto;line-height:normal;font-family:Menlo,'DejaVu Sans Mono',consolas,'Courier New',monospace\">EMN <span style=\"color: #008080; text-decoration-color: #008080; font-weight: bold\">2020</span> ITEM <span style=\"color: #008080; text-decoration-color: #008080; font-weight: bold\">7</span> saved\n",
       "</pre>\n"
      ],
      "text/plain": [
       "EMN \u001b[1;36m2020\u001b[0m ITEM \u001b[1;36m7\u001b[0m saved\n"
      ]
     },
     "metadata": {},
     "output_type": "display_data"
    },
    {
     "data": {
      "text/html": [
       "<pre style=\"white-space:pre;overflow-x:auto;line-height:normal;font-family:Menlo,'DejaVu Sans Mono',consolas,'Courier New',monospace\"></pre>\n"
      ],
      "text/plain": []
     },
     "metadata": {},
     "output_type": "display_data"
    },
    {
     "data": {
      "text/html": [
       "<pre style=\"white-space:pre;overflow-x:auto;line-height:normal;font-family:Menlo,'DejaVu Sans Mono',consolas,'Courier New',monospace\">ETN <span style=\"color: #008080; text-decoration-color: #008080; font-weight: bold\">2020</span> ITEM <span style=\"color: #008080; text-decoration-color: #008080; font-weight: bold\">7</span> saved\n",
       "</pre>\n"
      ],
      "text/plain": [
       "ETN \u001b[1;36m2020\u001b[0m ITEM \u001b[1;36m7\u001b[0m saved\n"
      ]
     },
     "metadata": {},
     "output_type": "display_data"
    },
    {
     "data": {
      "text/html": [
       "<pre style=\"white-space:pre;overflow-x:auto;line-height:normal;font-family:Menlo,'DejaVu Sans Mono',consolas,'Courier New',monospace\"></pre>\n"
      ],
      "text/plain": []
     },
     "metadata": {},
     "output_type": "display_data"
    },
    {
     "data": {
      "text/html": [
       "<pre style=\"white-space:pre;overflow-x:auto;line-height:normal;font-family:Menlo,'DejaVu Sans Mono',consolas,'Courier New',monospace\">EBAY <span style=\"color: #008080; text-decoration-color: #008080; font-weight: bold\">2020</span> ITEM <span style=\"color: #008080; text-decoration-color: #008080; font-weight: bold\">7</span> saved\n",
       "</pre>\n"
      ],
      "text/plain": [
       "EBAY \u001b[1;36m2020\u001b[0m ITEM \u001b[1;36m7\u001b[0m saved\n"
      ]
     },
     "metadata": {},
     "output_type": "display_data"
    },
    {
     "data": {
      "text/html": [
       "<pre style=\"white-space:pre;overflow-x:auto;line-height:normal;font-family:Menlo,'DejaVu Sans Mono',consolas,'Courier New',monospace\"></pre>\n"
      ],
      "text/plain": []
     },
     "metadata": {},
     "output_type": "display_data"
    },
    {
     "data": {
      "text/html": [
       "<pre style=\"white-space:pre;overflow-x:auto;line-height:normal;font-family:Menlo,'DejaVu Sans Mono',consolas,'Courier New',monospace\">ECL <span style=\"color: #008080; text-decoration-color: #008080; font-weight: bold\">2020</span> ITEM <span style=\"color: #008080; text-decoration-color: #008080; font-weight: bold\">7</span> saved\n",
       "</pre>\n"
      ],
      "text/plain": [
       "ECL \u001b[1;36m2020\u001b[0m ITEM \u001b[1;36m7\u001b[0m saved\n"
      ]
     },
     "metadata": {},
     "output_type": "display_data"
    },
    {
     "data": {
      "text/html": [
       "<pre style=\"white-space:pre;overflow-x:auto;line-height:normal;font-family:Menlo,'DejaVu Sans Mono',consolas,'Courier New',monospace\"></pre>\n"
      ],
      "text/plain": []
     },
     "metadata": {},
     "output_type": "display_data"
    },
    {
     "data": {
      "text/html": [
       "<pre style=\"white-space:pre;overflow-x:auto;line-height:normal;font-family:Menlo,'DejaVu Sans Mono',consolas,'Courier New',monospace\">Extraction failed for company: Length mismatch: Expected axis has <span style=\"color: #008080; text-decoration-color: #008080; font-weight: bold\">0</span> elements, new values have <span style=\"color: #008080; text-decoration-color: #008080; font-weight: bold\">3</span> elements\n",
       "</pre>\n"
      ],
      "text/plain": [
       "Extraction failed for company: Length mismatch: Expected axis has \u001b[1;36m0\u001b[0m elements, new values have \u001b[1;36m3\u001b[0m elements\n"
      ]
     },
     "metadata": {},
     "output_type": "display_data"
    },
    {
     "data": {
      "text/html": [
       "<pre style=\"white-space:pre;overflow-x:auto;line-height:normal;font-family:Menlo,'DejaVu Sans Mono',consolas,'Courier New',monospace\"></pre>\n"
      ],
      "text/plain": []
     },
     "metadata": {},
     "output_type": "display_data"
    },
    {
     "data": {
      "text/html": [
       "<pre style=\"white-space:pre;overflow-x:auto;line-height:normal;font-family:Menlo,'DejaVu Sans Mono',consolas,'Courier New',monospace\">EW <span style=\"color: #008080; text-decoration-color: #008080; font-weight: bold\">2020</span> ITEM <span style=\"color: #008080; text-decoration-color: #008080; font-weight: bold\">7</span> saved\n",
       "</pre>\n"
      ],
      "text/plain": [
       "EW \u001b[1;36m2020\u001b[0m ITEM \u001b[1;36m7\u001b[0m saved\n"
      ]
     },
     "metadata": {},
     "output_type": "display_data"
    },
    {
     "data": {
      "text/html": [
       "<pre style=\"white-space:pre;overflow-x:auto;line-height:normal;font-family:Menlo,'DejaVu Sans Mono',consolas,'Courier New',monospace\"></pre>\n"
      ],
      "text/plain": []
     },
     "metadata": {},
     "output_type": "display_data"
    },
    {
     "data": {
      "text/html": [
       "<pre style=\"white-space:pre;overflow-x:auto;line-height:normal;font-family:Menlo,'DejaVu Sans Mono',consolas,'Courier New',monospace\">EA <span style=\"color: #008080; text-decoration-color: #008080; font-weight: bold\">2020</span> ITEM <span style=\"color: #008080; text-decoration-color: #008080; font-weight: bold\">7</span> saved\n",
       "</pre>\n"
      ],
      "text/plain": [
       "EA \u001b[1;36m2020\u001b[0m ITEM \u001b[1;36m7\u001b[0m saved\n"
      ]
     },
     "metadata": {},
     "output_type": "display_data"
    },
    {
     "data": {
      "text/html": [
       "<pre style=\"white-space:pre;overflow-x:auto;line-height:normal;font-family:Menlo,'DejaVu Sans Mono',consolas,'Courier New',monospace\"></pre>\n"
      ],
      "text/plain": []
     },
     "metadata": {},
     "output_type": "display_data"
    },
    {
     "data": {
      "text/html": [
       "<pre style=\"white-space:pre;overflow-x:auto;line-height:normal;font-family:Menlo,'DejaVu Sans Mono',consolas,'Courier New',monospace\">LLY <span style=\"color: #008080; text-decoration-color: #008080; font-weight: bold\">2020</span> ITEM <span style=\"color: #008080; text-decoration-color: #008080; font-weight: bold\">7</span> saved\n",
       "</pre>\n"
      ],
      "text/plain": [
       "LLY \u001b[1;36m2020\u001b[0m ITEM \u001b[1;36m7\u001b[0m saved\n"
      ]
     },
     "metadata": {},
     "output_type": "display_data"
    },
    {
     "data": {
      "text/html": [
       "<pre style=\"white-space:pre;overflow-x:auto;line-height:normal;font-family:Menlo,'DejaVu Sans Mono',consolas,'Courier New',monospace\"></pre>\n"
      ],
      "text/plain": []
     },
     "metadata": {},
     "output_type": "display_data"
    },
    {
     "data": {
      "text/html": [
       "<pre style=\"white-space:pre;overflow-x:auto;line-height:normal;font-family:Menlo,'DejaVu Sans Mono',consolas,'Courier New',monospace\">EMR <span style=\"color: #008080; text-decoration-color: #008080; font-weight: bold\">2020</span> ITEM <span style=\"color: #008080; text-decoration-color: #008080; font-weight: bold\">7</span> saved\n",
       "</pre>\n"
      ],
      "text/plain": [
       "EMR \u001b[1;36m2020\u001b[0m ITEM \u001b[1;36m7\u001b[0m saved\n"
      ]
     },
     "metadata": {},
     "output_type": "display_data"
    },
    {
     "data": {
      "text/html": [
       "<pre style=\"white-space:pre;overflow-x:auto;line-height:normal;font-family:Menlo,'DejaVu Sans Mono',consolas,'Courier New',monospace\"></pre>\n"
      ],
      "text/plain": []
     },
     "metadata": {},
     "output_type": "display_data"
    },
    {
     "data": {
      "text/html": [
       "<pre style=\"white-space:pre;overflow-x:auto;line-height:normal;font-family:Menlo,'DejaVu Sans Mono',consolas,'Courier New',monospace\">ENPH <span style=\"color: #008080; text-decoration-color: #008080; font-weight: bold\">2020</span> ITEM <span style=\"color: #008080; text-decoration-color: #008080; font-weight: bold\">7</span> saved\n",
       "</pre>\n"
      ],
      "text/plain": [
       "ENPH \u001b[1;36m2020\u001b[0m ITEM \u001b[1;36m7\u001b[0m saved\n"
      ]
     },
     "metadata": {},
     "output_type": "display_data"
    },
    {
     "data": {
      "text/html": [
       "<pre style=\"white-space:pre;overflow-x:auto;line-height:normal;font-family:Menlo,'DejaVu Sans Mono',consolas,'Courier New',monospace\"></pre>\n"
      ],
      "text/plain": []
     },
     "metadata": {},
     "output_type": "display_data"
    },
    {
     "data": {
      "text/html": [
       "<pre style=\"white-space:pre;overflow-x:auto;line-height:normal;font-family:Menlo,'DejaVu Sans Mono',consolas,'Courier New',monospace\">ETR <span style=\"color: #008080; text-decoration-color: #008080; font-weight: bold\">2020</span> ITEM <span style=\"color: #008080; text-decoration-color: #008080; font-weight: bold\">7</span> saved\n",
       "</pre>\n"
      ],
      "text/plain": [
       "ETR \u001b[1;36m2020\u001b[0m ITEM \u001b[1;36m7\u001b[0m saved\n"
      ]
     },
     "metadata": {},
     "output_type": "display_data"
    },
    {
     "data": {
      "text/html": [
       "<pre style=\"white-space:pre;overflow-x:auto;line-height:normal;font-family:Menlo,'DejaVu Sans Mono',consolas,'Courier New',monospace\"></pre>\n"
      ],
      "text/plain": []
     },
     "metadata": {},
     "output_type": "display_data"
    },
    {
     "data": {
      "text/html": [
       "<pre style=\"white-space:pre;overflow-x:auto;line-height:normal;font-family:Menlo,'DejaVu Sans Mono',consolas,'Courier New',monospace\">EOG <span style=\"color: #008080; text-decoration-color: #008080; font-weight: bold\">2020</span> ITEM <span style=\"color: #008080; text-decoration-color: #008080; font-weight: bold\">7</span> saved\n",
       "</pre>\n"
      ],
      "text/plain": [
       "EOG \u001b[1;36m2020\u001b[0m ITEM \u001b[1;36m7\u001b[0m saved\n"
      ]
     },
     "metadata": {},
     "output_type": "display_data"
    },
    {
     "data": {
      "text/html": [
       "<pre style=\"white-space:pre;overflow-x:auto;line-height:normal;font-family:Menlo,'DejaVu Sans Mono',consolas,'Courier New',monospace\"></pre>\n"
      ],
      "text/plain": []
     },
     "metadata": {},
     "output_type": "display_data"
    },
    {
     "data": {
      "text/html": [
       "<pre style=\"white-space:pre;overflow-x:auto;line-height:normal;font-family:Menlo,'DejaVu Sans Mono',consolas,'Courier New',monospace\">EFX <span style=\"color: #008080; text-decoration-color: #008080; font-weight: bold\">2020</span> ITEM <span style=\"color: #008080; text-decoration-color: #008080; font-weight: bold\">7</span> saved\n",
       "</pre>\n"
      ],
      "text/plain": [
       "EFX \u001b[1;36m2020\u001b[0m ITEM \u001b[1;36m7\u001b[0m saved\n"
      ]
     },
     "metadata": {},
     "output_type": "display_data"
    },
    {
     "data": {
      "text/html": [
       "<pre style=\"white-space:pre;overflow-x:auto;line-height:normal;font-family:Menlo,'DejaVu Sans Mono',consolas,'Courier New',monospace\"></pre>\n"
      ],
      "text/plain": []
     },
     "metadata": {},
     "output_type": "display_data"
    },
    {
     "data": {
      "text/html": [
       "<pre style=\"white-space:pre;overflow-x:auto;line-height:normal;font-family:Menlo,'DejaVu Sans Mono',consolas,'Courier New',monospace\">EQIX <span style=\"color: #008080; text-decoration-color: #008080; font-weight: bold\">2020</span> ITEM <span style=\"color: #008080; text-decoration-color: #008080; font-weight: bold\">7</span> saved\n",
       "</pre>\n"
      ],
      "text/plain": [
       "EQIX \u001b[1;36m2020\u001b[0m ITEM \u001b[1;36m7\u001b[0m saved\n"
      ]
     },
     "metadata": {},
     "output_type": "display_data"
    },
    {
     "data": {
      "text/html": [
       "<pre style=\"white-space:pre;overflow-x:auto;line-height:normal;font-family:Menlo,'DejaVu Sans Mono',consolas,'Courier New',monospace\"></pre>\n"
      ],
      "text/plain": []
     },
     "metadata": {},
     "output_type": "display_data"
    },
    {
     "data": {
      "text/html": [
       "<pre style=\"white-space:pre;overflow-x:auto;line-height:normal;font-family:Menlo,'DejaVu Sans Mono',consolas,'Courier New',monospace\">EQR <span style=\"color: #008080; text-decoration-color: #008080; font-weight: bold\">2020</span> ITEM <span style=\"color: #008080; text-decoration-color: #008080; font-weight: bold\">7</span> saved\n",
       "</pre>\n"
      ],
      "text/plain": [
       "EQR \u001b[1;36m2020\u001b[0m ITEM \u001b[1;36m7\u001b[0m saved\n"
      ]
     },
     "metadata": {},
     "output_type": "display_data"
    },
    {
     "data": {
      "text/html": [
       "<pre style=\"white-space:pre;overflow-x:auto;line-height:normal;font-family:Menlo,'DejaVu Sans Mono',consolas,'Courier New',monospace\"></pre>\n"
      ],
      "text/plain": []
     },
     "metadata": {},
     "output_type": "display_data"
    },
    {
     "data": {
      "text/html": [
       "<pre style=\"white-space:pre;overflow-x:auto;line-height:normal;font-family:Menlo,'DejaVu Sans Mono',consolas,'Courier New',monospace\">ESS <span style=\"color: #008080; text-decoration-color: #008080; font-weight: bold\">2020</span> ITEM <span style=\"color: #008080; text-decoration-color: #008080; font-weight: bold\">7</span> saved\n",
       "</pre>\n"
      ],
      "text/plain": [
       "ESS \u001b[1;36m2020\u001b[0m ITEM \u001b[1;36m7\u001b[0m saved\n"
      ]
     },
     "metadata": {},
     "output_type": "display_data"
    },
    {
     "data": {
      "text/html": [
       "<pre style=\"white-space:pre;overflow-x:auto;line-height:normal;font-family:Menlo,'DejaVu Sans Mono',consolas,'Courier New',monospace\"></pre>\n"
      ],
      "text/plain": []
     },
     "metadata": {},
     "output_type": "display_data"
    },
    {
     "data": {
      "text/html": [
       "<pre style=\"white-space:pre;overflow-x:auto;line-height:normal;font-family:Menlo,'DejaVu Sans Mono',consolas,'Courier New',monospace\">EL <span style=\"color: #008080; text-decoration-color: #008080; font-weight: bold\">2020</span> ITEM <span style=\"color: #008080; text-decoration-color: #008080; font-weight: bold\">7</span> saved\n",
       "</pre>\n"
      ],
      "text/plain": [
       "EL \u001b[1;36m2020\u001b[0m ITEM \u001b[1;36m7\u001b[0m saved\n"
      ]
     },
     "metadata": {},
     "output_type": "display_data"
    },
    {
     "data": {
      "text/html": [
       "<pre style=\"white-space:pre;overflow-x:auto;line-height:normal;font-family:Menlo,'DejaVu Sans Mono',consolas,'Courier New',monospace\"></pre>\n"
      ],
      "text/plain": []
     },
     "metadata": {},
     "output_type": "display_data"
    },
    {
     "data": {
      "text/html": [
       "<pre style=\"white-space:pre;overflow-x:auto;line-height:normal;font-family:Menlo,'DejaVu Sans Mono',consolas,'Courier New',monospace\">ETSY <span style=\"color: #008080; text-decoration-color: #008080; font-weight: bold\">2020</span> ITEM <span style=\"color: #008080; text-decoration-color: #008080; font-weight: bold\">7</span> saved\n",
       "</pre>\n"
      ],
      "text/plain": [
       "ETSY \u001b[1;36m2020\u001b[0m ITEM \u001b[1;36m7\u001b[0m saved\n"
      ]
     },
     "metadata": {},
     "output_type": "display_data"
    },
    {
     "data": {
      "text/html": [
       "<pre style=\"white-space:pre;overflow-x:auto;line-height:normal;font-family:Menlo,'DejaVu Sans Mono',consolas,'Courier New',monospace\">Extraction failed for company: <span style=\"color: #008000; text-decoration-color: #008000\">'NoneType'</span> object has no attribute <span style=\"color: #008000; text-decoration-color: #008000\">'get_filings'</span>\n",
       "</pre>\n"
      ],
      "text/plain": [
       "Extraction failed for company: \u001b[32m'NoneType'\u001b[0m object has no attribute \u001b[32m'get_filings'\u001b[0m\n"
      ]
     },
     "metadata": {},
     "output_type": "display_data"
    },
    {
     "data": {
      "text/html": [
       "<pre style=\"white-space:pre;overflow-x:auto;line-height:normal;font-family:Menlo,'DejaVu Sans Mono',consolas,'Courier New',monospace\"></pre>\n"
      ],
      "text/plain": []
     },
     "metadata": {},
     "output_type": "display_data"
    },
    {
     "data": {
      "text/html": [
       "<pre style=\"white-space:pre;overflow-x:auto;line-height:normal;font-family:Menlo,'DejaVu Sans Mono',consolas,'Courier New',monospace\">EVRG <span style=\"color: #008080; text-decoration-color: #008080; font-weight: bold\">2020</span> ITEM <span style=\"color: #008080; text-decoration-color: #008080; font-weight: bold\">7</span> saved\n",
       "</pre>\n"
      ],
      "text/plain": [
       "EVRG \u001b[1;36m2020\u001b[0m ITEM \u001b[1;36m7\u001b[0m saved\n"
      ]
     },
     "metadata": {},
     "output_type": "display_data"
    },
    {
     "data": {
      "text/html": [
       "<pre style=\"white-space:pre;overflow-x:auto;line-height:normal;font-family:Menlo,'DejaVu Sans Mono',consolas,'Courier New',monospace\"></pre>\n"
      ],
      "text/plain": []
     },
     "metadata": {},
     "output_type": "display_data"
    },
    {
     "data": {
      "text/html": [
       "<pre style=\"white-space:pre;overflow-x:auto;line-height:normal;font-family:Menlo,'DejaVu Sans Mono',consolas,'Courier New',monospace\">ES <span style=\"color: #008080; text-decoration-color: #008080; font-weight: bold\">2020</span> ITEM <span style=\"color: #008080; text-decoration-color: #008080; font-weight: bold\">7</span> saved\n",
       "</pre>\n"
      ],
      "text/plain": [
       "ES \u001b[1;36m2020\u001b[0m ITEM \u001b[1;36m7\u001b[0m saved\n"
      ]
     },
     "metadata": {},
     "output_type": "display_data"
    },
    {
     "data": {
      "text/html": [
       "<pre style=\"white-space:pre;overflow-x:auto;line-height:normal;font-family:Menlo,'DejaVu Sans Mono',consolas,'Courier New',monospace\"></pre>\n"
      ],
      "text/plain": []
     },
     "metadata": {},
     "output_type": "display_data"
    },
    {
     "data": {
      "text/html": [
       "<pre style=\"white-space:pre;overflow-x:auto;line-height:normal;font-family:Menlo,'DejaVu Sans Mono',consolas,'Courier New',monospace\">EXC <span style=\"color: #008080; text-decoration-color: #008080; font-weight: bold\">2020</span> ITEM <span style=\"color: #008080; text-decoration-color: #008080; font-weight: bold\">7</span> saved\n",
       "</pre>\n"
      ],
      "text/plain": [
       "EXC \u001b[1;36m2020\u001b[0m ITEM \u001b[1;36m7\u001b[0m saved\n"
      ]
     },
     "metadata": {},
     "output_type": "display_data"
    },
    {
     "data": {
      "text/html": [
       "<pre style=\"white-space:pre;overflow-x:auto;line-height:normal;font-family:Menlo,'DejaVu Sans Mono',consolas,'Courier New',monospace\"></pre>\n"
      ],
      "text/plain": []
     },
     "metadata": {},
     "output_type": "display_data"
    },
    {
     "data": {
      "text/html": [
       "<pre style=\"white-space:pre;overflow-x:auto;line-height:normal;font-family:Menlo,'DejaVu Sans Mono',consolas,'Courier New',monospace\">EXPE <span style=\"color: #008080; text-decoration-color: #008080; font-weight: bold\">2020</span> ITEM <span style=\"color: #008080; text-decoration-color: #008080; font-weight: bold\">7</span> saved\n",
       "</pre>\n"
      ],
      "text/plain": [
       "EXPE \u001b[1;36m2020\u001b[0m ITEM \u001b[1;36m7\u001b[0m saved\n"
      ]
     },
     "metadata": {},
     "output_type": "display_data"
    },
    {
     "data": {
      "text/html": [
       "<pre style=\"white-space:pre;overflow-x:auto;line-height:normal;font-family:Menlo,'DejaVu Sans Mono',consolas,'Courier New',monospace\"></pre>\n"
      ],
      "text/plain": []
     },
     "metadata": {},
     "output_type": "display_data"
    },
    {
     "data": {
      "text/html": [
       "<pre style=\"white-space:pre;overflow-x:auto;line-height:normal;font-family:Menlo,'DejaVu Sans Mono',consolas,'Courier New',monospace\">EXPD <span style=\"color: #008080; text-decoration-color: #008080; font-weight: bold\">2020</span> ITEM <span style=\"color: #008080; text-decoration-color: #008080; font-weight: bold\">7</span> saved\n",
       "</pre>\n"
      ],
      "text/plain": [
       "EXPD \u001b[1;36m2020\u001b[0m ITEM \u001b[1;36m7\u001b[0m saved\n"
      ]
     },
     "metadata": {},
     "output_type": "display_data"
    },
    {
     "data": {
      "text/html": [
       "<pre style=\"white-space:pre;overflow-x:auto;line-height:normal;font-family:Menlo,'DejaVu Sans Mono',consolas,'Courier New',monospace\"></pre>\n"
      ],
      "text/plain": []
     },
     "metadata": {},
     "output_type": "display_data"
    },
    {
     "data": {
      "text/html": [
       "<pre style=\"white-space:pre;overflow-x:auto;line-height:normal;font-family:Menlo,'DejaVu Sans Mono',consolas,'Courier New',monospace\">EXR <span style=\"color: #008080; text-decoration-color: #008080; font-weight: bold\">2020</span> ITEM <span style=\"color: #008080; text-decoration-color: #008080; font-weight: bold\">7</span> saved\n",
       "</pre>\n"
      ],
      "text/plain": [
       "EXR \u001b[1;36m2020\u001b[0m ITEM \u001b[1;36m7\u001b[0m saved\n"
      ]
     },
     "metadata": {},
     "output_type": "display_data"
    },
    {
     "data": {
      "text/html": [
       "<pre style=\"white-space:pre;overflow-x:auto;line-height:normal;font-family:Menlo,'DejaVu Sans Mono',consolas,'Courier New',monospace\"></pre>\n"
      ],
      "text/plain": []
     },
     "metadata": {},
     "output_type": "display_data"
    },
    {
     "data": {
      "text/html": [
       "<pre style=\"white-space:pre;overflow-x:auto;line-height:normal;font-family:Menlo,'DejaVu Sans Mono',consolas,'Courier New',monospace\">XOM <span style=\"color: #008080; text-decoration-color: #008080; font-weight: bold\">2020</span> ITEM <span style=\"color: #008080; text-decoration-color: #008080; font-weight: bold\">7</span> saved\n",
       "</pre>\n"
      ],
      "text/plain": [
       "XOM \u001b[1;36m2020\u001b[0m ITEM \u001b[1;36m7\u001b[0m saved\n"
      ]
     },
     "metadata": {},
     "output_type": "display_data"
    },
    {
     "data": {
      "text/html": [
       "<pre style=\"white-space:pre;overflow-x:auto;line-height:normal;font-family:Menlo,'DejaVu Sans Mono',consolas,'Courier New',monospace\"></pre>\n"
      ],
      "text/plain": []
     },
     "metadata": {},
     "output_type": "display_data"
    },
    {
     "data": {
      "text/html": [
       "<pre style=\"white-space:pre;overflow-x:auto;line-height:normal;font-family:Menlo,'DejaVu Sans Mono',consolas,'Courier New',monospace\">FFIV <span style=\"color: #008080; text-decoration-color: #008080; font-weight: bold\">2020</span> ITEM <span style=\"color: #008080; text-decoration-color: #008080; font-weight: bold\">7</span> saved\n",
       "</pre>\n"
      ],
      "text/plain": [
       "FFIV \u001b[1;36m2020\u001b[0m ITEM \u001b[1;36m7\u001b[0m saved\n"
      ]
     },
     "metadata": {},
     "output_type": "display_data"
    },
    {
     "data": {
      "text/html": [
       "<pre style=\"white-space:pre;overflow-x:auto;line-height:normal;font-family:Menlo,'DejaVu Sans Mono',consolas,'Courier New',monospace\">Extraction failed for company: <span style=\"color: #008000; text-decoration-color: #008000\">'NoneType'</span> object has no attribute <span style=\"color: #008000; text-decoration-color: #008000\">'get_filings'</span>\n",
       "</pre>\n"
      ],
      "text/plain": [
       "Extraction failed for company: \u001b[32m'NoneType'\u001b[0m object has no attribute \u001b[32m'get_filings'\u001b[0m\n"
      ]
     },
     "metadata": {},
     "output_type": "display_data"
    },
    {
     "data": {
      "text/html": [
       "<pre style=\"white-space:pre;overflow-x:auto;line-height:normal;font-family:Menlo,'DejaVu Sans Mono',consolas,'Courier New',monospace\"></pre>\n"
      ],
      "text/plain": []
     },
     "metadata": {},
     "output_type": "display_data"
    },
    {
     "data": {
      "text/html": [
       "<pre style=\"white-space:pre;overflow-x:auto;line-height:normal;font-family:Menlo,'DejaVu Sans Mono',consolas,'Courier New',monospace\">FAST <span style=\"color: #008080; text-decoration-color: #008080; font-weight: bold\">2020</span> ITEM <span style=\"color: #008080; text-decoration-color: #008080; font-weight: bold\">7</span> saved\n",
       "</pre>\n"
      ],
      "text/plain": [
       "FAST \u001b[1;36m2020\u001b[0m ITEM \u001b[1;36m7\u001b[0m saved\n"
      ]
     },
     "metadata": {},
     "output_type": "display_data"
    },
    {
     "data": {
      "text/html": [
       "<pre style=\"white-space:pre;overflow-x:auto;line-height:normal;font-family:Menlo,'DejaVu Sans Mono',consolas,'Courier New',monospace\"></pre>\n"
      ],
      "text/plain": []
     },
     "metadata": {},
     "output_type": "display_data"
    },
    {
     "data": {
      "text/html": [
       "<pre style=\"white-space:pre;overflow-x:auto;line-height:normal;font-family:Menlo,'DejaVu Sans Mono',consolas,'Courier New',monospace\">FRT <span style=\"color: #008080; text-decoration-color: #008080; font-weight: bold\">2020</span> ITEM <span style=\"color: #008080; text-decoration-color: #008080; font-weight: bold\">7</span> saved\n",
       "</pre>\n"
      ],
      "text/plain": [
       "FRT \u001b[1;36m2020\u001b[0m ITEM \u001b[1;36m7\u001b[0m saved\n"
      ]
     },
     "metadata": {},
     "output_type": "display_data"
    },
    {
     "data": {
      "text/html": [
       "<pre style=\"white-space:pre;overflow-x:auto;line-height:normal;font-family:Menlo,'DejaVu Sans Mono',consolas,'Courier New',monospace\"></pre>\n"
      ],
      "text/plain": []
     },
     "metadata": {},
     "output_type": "display_data"
    },
    {
     "data": {
      "text/html": [
       "<pre style=\"white-space:pre;overflow-x:auto;line-height:normal;font-family:Menlo,'DejaVu Sans Mono',consolas,'Courier New',monospace\">Extraction failed for company: Length mismatch: Expected axis has <span style=\"color: #008080; text-decoration-color: #008080; font-weight: bold\">0</span> elements, new values have <span style=\"color: #008080; text-decoration-color: #008080; font-weight: bold\">3</span> elements\n",
       "</pre>\n"
      ],
      "text/plain": [
       "Extraction failed for company: Length mismatch: Expected axis has \u001b[1;36m0\u001b[0m elements, new values have \u001b[1;36m3\u001b[0m elements\n"
      ]
     },
     "metadata": {},
     "output_type": "display_data"
    },
    {
     "data": {
      "text/html": [
       "<pre style=\"white-space:pre;overflow-x:auto;line-height:normal;font-family:Menlo,'DejaVu Sans Mono',consolas,'Courier New',monospace\"></pre>\n"
      ],
      "text/plain": []
     },
     "metadata": {},
     "output_type": "display_data"
    },
    {
     "data": {
      "text/html": [
       "<pre style=\"white-space:pre;overflow-x:auto;line-height:normal;font-family:Menlo,'DejaVu Sans Mono',consolas,'Courier New',monospace\">FIS <span style=\"color: #008080; text-decoration-color: #008080; font-weight: bold\">2020</span> ITEM <span style=\"color: #008080; text-decoration-color: #008080; font-weight: bold\">7</span> saved\n",
       "</pre>\n"
      ],
      "text/plain": [
       "FIS \u001b[1;36m2020\u001b[0m ITEM \u001b[1;36m7\u001b[0m saved\n"
      ]
     },
     "metadata": {},
     "output_type": "display_data"
    },
    {
     "data": {
      "text/html": [
       "<pre style=\"white-space:pre;overflow-x:auto;line-height:normal;font-family:Menlo,'DejaVu Sans Mono',consolas,'Courier New',monospace\"></pre>\n"
      ],
      "text/plain": []
     },
     "metadata": {},
     "output_type": "display_data"
    },
    {
     "data": {
      "text/html": [
       "<pre style=\"white-space:pre;overflow-x:auto;line-height:normal;font-family:Menlo,'DejaVu Sans Mono',consolas,'Courier New',monospace\">FITB <span style=\"color: #008080; text-decoration-color: #008080; font-weight: bold\">2020</span> ITEM <span style=\"color: #008080; text-decoration-color: #008080; font-weight: bold\">7</span> saved\n",
       "</pre>\n"
      ],
      "text/plain": [
       "FITB \u001b[1;36m2020\u001b[0m ITEM \u001b[1;36m7\u001b[0m saved\n"
      ]
     },
     "metadata": {},
     "output_type": "display_data"
    },
    {
     "data": {
      "text/html": [
       "<pre style=\"white-space:pre;overflow-x:auto;line-height:normal;font-family:Menlo,'DejaVu Sans Mono',consolas,'Courier New',monospace\">Extraction failed for company: <span style=\"color: #008000; text-decoration-color: #008000\">'NoneType'</span> object has no attribute <span style=\"color: #008000; text-decoration-color: #008000\">'get_filings'</span>\n",
       "</pre>\n"
      ],
      "text/plain": [
       "Extraction failed for company: \u001b[32m'NoneType'\u001b[0m object has no attribute \u001b[32m'get_filings'\u001b[0m\n"
      ]
     },
     "metadata": {},
     "output_type": "display_data"
    },
    {
     "data": {
      "text/html": [
       "<pre style=\"white-space:pre;overflow-x:auto;line-height:normal;font-family:Menlo,'DejaVu Sans Mono',consolas,'Courier New',monospace\"></pre>\n"
      ],
      "text/plain": []
     },
     "metadata": {},
     "output_type": "display_data"
    },
    {
     "data": {
      "text/html": [
       "<pre style=\"white-space:pre;overflow-x:auto;line-height:normal;font-family:Menlo,'DejaVu Sans Mono',consolas,'Courier New',monospace\">FE <span style=\"color: #008080; text-decoration-color: #008080; font-weight: bold\">2020</span> ITEM <span style=\"color: #008080; text-decoration-color: #008080; font-weight: bold\">7</span> saved\n",
       "</pre>\n"
      ],
      "text/plain": [
       "FE \u001b[1;36m2020\u001b[0m ITEM \u001b[1;36m7\u001b[0m saved\n"
      ]
     },
     "metadata": {},
     "output_type": "display_data"
    },
    {
     "data": {
      "text/html": [
       "<pre style=\"white-space:pre;overflow-x:auto;line-height:normal;font-family:Menlo,'DejaVu Sans Mono',consolas,'Courier New',monospace\">Extraction failed for company: <span style=\"color: #008000; text-decoration-color: #008000\">'NoneType'</span> object has no attribute <span style=\"color: #008000; text-decoration-color: #008000\">'get_filings'</span>\n",
       "</pre>\n"
      ],
      "text/plain": [
       "Extraction failed for company: \u001b[32m'NoneType'\u001b[0m object has no attribute \u001b[32m'get_filings'\u001b[0m\n"
      ]
     },
     "metadata": {},
     "output_type": "display_data"
    },
    {
     "data": {
      "text/html": [
       "<pre style=\"white-space:pre;overflow-x:auto;line-height:normal;font-family:Menlo,'DejaVu Sans Mono',consolas,'Courier New',monospace\"></pre>\n"
      ],
      "text/plain": []
     },
     "metadata": {},
     "output_type": "display_data"
    },
    {
     "data": {
      "text/html": [
       "<pre style=\"white-space:pre;overflow-x:auto;line-height:normal;font-family:Menlo,'DejaVu Sans Mono',consolas,'Courier New',monospace\">FLT <span style=\"color: #008080; text-decoration-color: #008080; font-weight: bold\">2020</span> ITEM <span style=\"color: #008080; text-decoration-color: #008080; font-weight: bold\">7</span> saved\n",
       "</pre>\n"
      ],
      "text/plain": [
       "FLT \u001b[1;36m2020\u001b[0m ITEM \u001b[1;36m7\u001b[0m saved\n"
      ]
     },
     "metadata": {},
     "output_type": "display_data"
    },
    {
     "data": {
      "text/html": [
       "<pre style=\"white-space:pre;overflow-x:auto;line-height:normal;font-family:Menlo,'DejaVu Sans Mono',consolas,'Courier New',monospace\"></pre>\n"
      ],
      "text/plain": []
     },
     "metadata": {},
     "output_type": "display_data"
    },
    {
     "data": {
      "text/html": [
       "<pre style=\"white-space:pre;overflow-x:auto;line-height:normal;font-family:Menlo,'DejaVu Sans Mono',consolas,'Courier New',monospace\">FMC <span style=\"color: #008080; text-decoration-color: #008080; font-weight: bold\">2020</span> ITEM <span style=\"color: #008080; text-decoration-color: #008080; font-weight: bold\">7</span> saved\n",
       "</pre>\n"
      ],
      "text/plain": [
       "FMC \u001b[1;36m2020\u001b[0m ITEM \u001b[1;36m7\u001b[0m saved\n"
      ]
     },
     "metadata": {},
     "output_type": "display_data"
    },
    {
     "data": {
      "text/html": [
       "<pre style=\"white-space:pre;overflow-x:auto;line-height:normal;font-family:Menlo,'DejaVu Sans Mono',consolas,'Courier New',monospace\"></pre>\n"
      ],
      "text/plain": []
     },
     "metadata": {},
     "output_type": "display_data"
    },
    {
     "data": {
      "text/html": [
       "<pre style=\"white-space:pre;overflow-x:auto;line-height:normal;font-family:Menlo,'DejaVu Sans Mono',consolas,'Courier New',monospace\">F <span style=\"color: #008080; text-decoration-color: #008080; font-weight: bold\">2020</span> ITEM <span style=\"color: #008080; text-decoration-color: #008080; font-weight: bold\">7</span> saved\n",
       "</pre>\n"
      ],
      "text/plain": [
       "F \u001b[1;36m2020\u001b[0m ITEM \u001b[1;36m7\u001b[0m saved\n"
      ]
     },
     "metadata": {},
     "output_type": "display_data"
    },
    {
     "data": {
      "text/html": [
       "<pre style=\"white-space:pre;overflow-x:auto;line-height:normal;font-family:Menlo,'DejaVu Sans Mono',consolas,'Courier New',monospace\"></pre>\n"
      ],
      "text/plain": []
     },
     "metadata": {},
     "output_type": "display_data"
    },
    {
     "data": {
      "text/html": [
       "<pre style=\"white-space:pre;overflow-x:auto;line-height:normal;font-family:Menlo,'DejaVu Sans Mono',consolas,'Courier New',monospace\">FTNT <span style=\"color: #008080; text-decoration-color: #008080; font-weight: bold\">2020</span> ITEM <span style=\"color: #008080; text-decoration-color: #008080; font-weight: bold\">7</span> saved\n",
       "</pre>\n"
      ],
      "text/plain": [
       "FTNT \u001b[1;36m2020\u001b[0m ITEM \u001b[1;36m7\u001b[0m saved\n"
      ]
     },
     "metadata": {},
     "output_type": "display_data"
    },
    {
     "data": {
      "text/html": [
       "<pre style=\"white-space:pre;overflow-x:auto;line-height:normal;font-family:Menlo,'DejaVu Sans Mono',consolas,'Courier New',monospace\"></pre>\n"
      ],
      "text/plain": []
     },
     "metadata": {},
     "output_type": "display_data"
    },
    {
     "data": {
      "text/html": [
       "<pre style=\"white-space:pre;overflow-x:auto;line-height:normal;font-family:Menlo,'DejaVu Sans Mono',consolas,'Courier New',monospace\">FTV <span style=\"color: #008080; text-decoration-color: #008080; font-weight: bold\">2020</span> ITEM <span style=\"color: #008080; text-decoration-color: #008080; font-weight: bold\">7</span> saved\n",
       "</pre>\n"
      ],
      "text/plain": [
       "FTV \u001b[1;36m2020\u001b[0m ITEM \u001b[1;36m7\u001b[0m saved\n"
      ]
     },
     "metadata": {},
     "output_type": "display_data"
    },
    {
     "data": {
      "text/html": [
       "<pre style=\"white-space:pre;overflow-x:auto;line-height:normal;font-family:Menlo,'DejaVu Sans Mono',consolas,'Courier New',monospace\">Extraction failed for company: <span style=\"color: #008000; text-decoration-color: #008000\">'NoneType'</span> object has no attribute <span style=\"color: #008000; text-decoration-color: #008000\">'get_filings'</span>\n",
       "</pre>\n"
      ],
      "text/plain": [
       "Extraction failed for company: \u001b[32m'NoneType'\u001b[0m object has no attribute \u001b[32m'get_filings'\u001b[0m\n"
      ]
     },
     "metadata": {},
     "output_type": "display_data"
    },
    {
     "data": {
      "text/html": [
       "<pre style=\"white-space:pre;overflow-x:auto;line-height:normal;font-family:Menlo,'DejaVu Sans Mono',consolas,'Courier New',monospace\"></pre>\n"
      ],
      "text/plain": []
     },
     "metadata": {},
     "output_type": "display_data"
    },
    {
     "data": {
      "text/html": [
       "<pre style=\"white-space:pre;overflow-x:auto;line-height:normal;font-family:Menlo,'DejaVu Sans Mono',consolas,'Courier New',monospace\">Extraction failed for company: Length mismatch: Expected axis has <span style=\"color: #008080; text-decoration-color: #008080; font-weight: bold\">0</span> elements, new values have <span style=\"color: #008080; text-decoration-color: #008080; font-weight: bold\">3</span> elements\n",
       "</pre>\n"
      ],
      "text/plain": [
       "Extraction failed for company: Length mismatch: Expected axis has \u001b[1;36m0\u001b[0m elements, new values have \u001b[1;36m3\u001b[0m elements\n"
      ]
     },
     "metadata": {},
     "output_type": "display_data"
    },
    {
     "data": {
      "text/html": [
       "<pre style=\"white-space:pre;overflow-x:auto;line-height:normal;font-family:Menlo,'DejaVu Sans Mono',consolas,'Courier New',monospace\">Extraction failed for company: Length mismatch: Expected axis has <span style=\"color: #008080; text-decoration-color: #008080; font-weight: bold\">0</span> elements, new values have <span style=\"color: #008080; text-decoration-color: #008080; font-weight: bold\">3</span> elements\n",
       "</pre>\n"
      ],
      "text/plain": [
       "Extraction failed for company: Length mismatch: Expected axis has \u001b[1;36m0\u001b[0m elements, new values have \u001b[1;36m3\u001b[0m elements\n"
      ]
     },
     "metadata": {},
     "output_type": "display_data"
    },
    {
     "data": {
      "text/html": [
       "<pre style=\"white-space:pre;overflow-x:auto;line-height:normal;font-family:Menlo,'DejaVu Sans Mono',consolas,'Courier New',monospace\"></pre>\n"
      ],
      "text/plain": []
     },
     "metadata": {},
     "output_type": "display_data"
    },
    {
     "data": {
      "text/html": [
       "<pre style=\"white-space:pre;overflow-x:auto;line-height:normal;font-family:Menlo,'DejaVu Sans Mono',consolas,'Courier New',monospace\">BEN <span style=\"color: #008080; text-decoration-color: #008080; font-weight: bold\">2020</span> ITEM <span style=\"color: #008080; text-decoration-color: #008080; font-weight: bold\">7</span> saved\n",
       "</pre>\n"
      ],
      "text/plain": [
       "BEN \u001b[1;36m2020\u001b[0m ITEM \u001b[1;36m7\u001b[0m saved\n"
      ]
     },
     "metadata": {},
     "output_type": "display_data"
    },
    {
     "data": {
      "text/html": [
       "<pre style=\"white-space:pre;overflow-x:auto;line-height:normal;font-family:Menlo,'DejaVu Sans Mono',consolas,'Courier New',monospace\"></pre>\n"
      ],
      "text/plain": []
     },
     "metadata": {},
     "output_type": "display_data"
    },
    {
     "data": {
      "text/html": [
       "<pre style=\"white-space:pre;overflow-x:auto;line-height:normal;font-family:Menlo,'DejaVu Sans Mono',consolas,'Courier New',monospace\">Extraction failed for company: Length mismatch: Expected axis has <span style=\"color: #008080; text-decoration-color: #008080; font-weight: bold\">0</span> elements, new values have <span style=\"color: #008080; text-decoration-color: #008080; font-weight: bold\">3</span> elements\n",
       "</pre>\n"
      ],
      "text/plain": [
       "Extraction failed for company: Length mismatch: Expected axis has \u001b[1;36m0\u001b[0m elements, new values have \u001b[1;36m3\u001b[0m elements\n"
      ]
     },
     "metadata": {},
     "output_type": "display_data"
    },
    {
     "data": {
      "text/html": [
       "<pre style=\"white-space:pre;overflow-x:auto;line-height:normal;font-family:Menlo,'DejaVu Sans Mono',consolas,'Courier New',monospace\"></pre>\n"
      ],
      "text/plain": []
     },
     "metadata": {},
     "output_type": "display_data"
    },
    {
     "data": {
      "text/html": [
       "<pre style=\"white-space:pre;overflow-x:auto;line-height:normal;font-family:Menlo,'DejaVu Sans Mono',consolas,'Courier New',monospace\">GPS <span style=\"color: #008080; text-decoration-color: #008080; font-weight: bold\">2020</span> ITEM <span style=\"color: #008080; text-decoration-color: #008080; font-weight: bold\">7</span> saved\n",
       "</pre>\n"
      ],
      "text/plain": [
       "GPS \u001b[1;36m2020\u001b[0m ITEM \u001b[1;36m7\u001b[0m saved\n"
      ]
     },
     "metadata": {},
     "output_type": "display_data"
    },
    {
     "data": {
      "text/html": [
       "<pre style=\"white-space:pre;overflow-x:auto;line-height:normal;font-family:Menlo,'DejaVu Sans Mono',consolas,'Courier New',monospace\"></pre>\n"
      ],
      "text/plain": []
     },
     "metadata": {},
     "output_type": "display_data"
    },
    {
     "data": {
      "text/html": [
       "<pre style=\"white-space:pre;overflow-x:auto;line-height:normal;font-family:Menlo,'DejaVu Sans Mono',consolas,'Courier New',monospace\">GRMN <span style=\"color: #008080; text-decoration-color: #008080; font-weight: bold\">2020</span> ITEM <span style=\"color: #008080; text-decoration-color: #008080; font-weight: bold\">7</span> saved\n",
       "</pre>\n"
      ],
      "text/plain": [
       "GRMN \u001b[1;36m2020\u001b[0m ITEM \u001b[1;36m7\u001b[0m saved\n"
      ]
     },
     "metadata": {},
     "output_type": "display_data"
    },
    {
     "data": {
      "text/html": [
       "<pre style=\"white-space:pre;overflow-x:auto;line-height:normal;font-family:Menlo,'DejaVu Sans Mono',consolas,'Courier New',monospace\"></pre>\n"
      ],
      "text/plain": []
     },
     "metadata": {},
     "output_type": "display_data"
    },
    {
     "data": {
      "text/html": [
       "<pre style=\"white-space:pre;overflow-x:auto;line-height:normal;font-family:Menlo,'DejaVu Sans Mono',consolas,'Courier New',monospace\">IT <span style=\"color: #008080; text-decoration-color: #008080; font-weight: bold\">2020</span> ITEM <span style=\"color: #008080; text-decoration-color: #008080; font-weight: bold\">7</span> saved\n",
       "</pre>\n"
      ],
      "text/plain": [
       "IT \u001b[1;36m2020\u001b[0m ITEM \u001b[1;36m7\u001b[0m saved\n"
      ]
     },
     "metadata": {},
     "output_type": "display_data"
    },
    {
     "data": {
      "text/html": [
       "<pre style=\"white-space:pre;overflow-x:auto;line-height:normal;font-family:Menlo,'DejaVu Sans Mono',consolas,'Courier New',monospace\"></pre>\n"
      ],
      "text/plain": []
     },
     "metadata": {},
     "output_type": "display_data"
    },
    {
     "data": {
      "text/html": [
       "<pre style=\"white-space:pre;overflow-x:auto;line-height:normal;font-family:Menlo,'DejaVu Sans Mono',consolas,'Courier New',monospace\">Extraction failed for company: Length mismatch: Expected axis has <span style=\"color: #008080; text-decoration-color: #008080; font-weight: bold\">0</span> elements, new values have <span style=\"color: #008080; text-decoration-color: #008080; font-weight: bold\">3</span> elements\n",
       "</pre>\n"
      ],
      "text/plain": [
       "Extraction failed for company: Length mismatch: Expected axis has \u001b[1;36m0\u001b[0m elements, new values have \u001b[1;36m3\u001b[0m elements\n"
      ]
     },
     "metadata": {},
     "output_type": "display_data"
    },
    {
     "data": {
      "text/html": [
       "<pre style=\"white-space:pre;overflow-x:auto;line-height:normal;font-family:Menlo,'DejaVu Sans Mono',consolas,'Courier New',monospace\"></pre>\n"
      ],
      "text/plain": []
     },
     "metadata": {},
     "output_type": "display_data"
    },
    {
     "data": {
      "text/html": [
       "<pre style=\"white-space:pre;overflow-x:auto;line-height:normal;font-family:Menlo,'DejaVu Sans Mono',consolas,'Courier New',monospace\">GD <span style=\"color: #008080; text-decoration-color: #008080; font-weight: bold\">2020</span> ITEM <span style=\"color: #008080; text-decoration-color: #008080; font-weight: bold\">7</span> saved\n",
       "</pre>\n"
      ],
      "text/plain": [
       "GD \u001b[1;36m2020\u001b[0m ITEM \u001b[1;36m7\u001b[0m saved\n"
      ]
     },
     "metadata": {},
     "output_type": "display_data"
    },
    {
     "data": {
      "text/html": [
       "<pre style=\"white-space:pre;overflow-x:auto;line-height:normal;font-family:Menlo,'DejaVu Sans Mono',consolas,'Courier New',monospace\"></pre>\n"
      ],
      "text/plain": []
     },
     "metadata": {},
     "output_type": "display_data"
    },
    {
     "data": {
      "text/html": [
       "<pre style=\"white-space:pre;overflow-x:auto;line-height:normal;font-family:Menlo,'DejaVu Sans Mono',consolas,'Courier New',monospace\">GE <span style=\"color: #008080; text-decoration-color: #008080; font-weight: bold\">2020</span> ITEM <span style=\"color: #008080; text-decoration-color: #008080; font-weight: bold\">7</span> saved\n",
       "</pre>\n"
      ],
      "text/plain": [
       "GE \u001b[1;36m2020\u001b[0m ITEM \u001b[1;36m7\u001b[0m saved\n"
      ]
     },
     "metadata": {},
     "output_type": "display_data"
    },
    {
     "data": {
      "text/html": [
       "<pre style=\"white-space:pre;overflow-x:auto;line-height:normal;font-family:Menlo,'DejaVu Sans Mono',consolas,'Courier New',monospace\"></pre>\n"
      ],
      "text/plain": []
     },
     "metadata": {},
     "output_type": "display_data"
    },
    {
     "data": {
      "text/html": [
       "<pre style=\"white-space:pre;overflow-x:auto;line-height:normal;font-family:Menlo,'DejaVu Sans Mono',consolas,'Courier New',monospace\">GIS <span style=\"color: #008080; text-decoration-color: #008080; font-weight: bold\">2020</span> ITEM <span style=\"color: #008080; text-decoration-color: #008080; font-weight: bold\">7</span> saved\n",
       "</pre>\n"
      ],
      "text/plain": [
       "GIS \u001b[1;36m2020\u001b[0m ITEM \u001b[1;36m7\u001b[0m saved\n"
      ]
     },
     "metadata": {},
     "output_type": "display_data"
    },
    {
     "data": {
      "text/html": [
       "<pre style=\"white-space:pre;overflow-x:auto;line-height:normal;font-family:Menlo,'DejaVu Sans Mono',consolas,'Courier New',monospace\"></pre>\n"
      ],
      "text/plain": []
     },
     "metadata": {},
     "output_type": "display_data"
    },
    {
     "data": {
      "text/html": [
       "<pre style=\"white-space:pre;overflow-x:auto;line-height:normal;font-family:Menlo,'DejaVu Sans Mono',consolas,'Courier New',monospace\">GM <span style=\"color: #008080; text-decoration-color: #008080; font-weight: bold\">2020</span> ITEM <span style=\"color: #008080; text-decoration-color: #008080; font-weight: bold\">7</span> saved\n",
       "</pre>\n"
      ],
      "text/plain": [
       "GM \u001b[1;36m2020\u001b[0m ITEM \u001b[1;36m7\u001b[0m saved\n"
      ]
     },
     "metadata": {},
     "output_type": "display_data"
    },
    {
     "data": {
      "text/html": [
       "<pre style=\"white-space:pre;overflow-x:auto;line-height:normal;font-family:Menlo,'DejaVu Sans Mono',consolas,'Courier New',monospace\"></pre>\n"
      ],
      "text/plain": []
     },
     "metadata": {},
     "output_type": "display_data"
    },
    {
     "data": {
      "text/html": [
       "<pre style=\"white-space:pre;overflow-x:auto;line-height:normal;font-family:Menlo,'DejaVu Sans Mono',consolas,'Courier New',monospace\">GPC <span style=\"color: #008080; text-decoration-color: #008080; font-weight: bold\">2020</span> ITEM <span style=\"color: #008080; text-decoration-color: #008080; font-weight: bold\">7</span> saved\n",
       "</pre>\n"
      ],
      "text/plain": [
       "GPC \u001b[1;36m2020\u001b[0m ITEM \u001b[1;36m7\u001b[0m saved\n"
      ]
     },
     "metadata": {},
     "output_type": "display_data"
    },
    {
     "data": {
      "text/html": [
       "<pre style=\"white-space:pre;overflow-x:auto;line-height:normal;font-family:Menlo,'DejaVu Sans Mono',consolas,'Courier New',monospace\"></pre>\n"
      ],
      "text/plain": []
     },
     "metadata": {},
     "output_type": "display_data"
    },
    {
     "data": {
      "text/html": [
       "<pre style=\"white-space:pre;overflow-x:auto;line-height:normal;font-family:Menlo,'DejaVu Sans Mono',consolas,'Courier New',monospace\">GILD <span style=\"color: #008080; text-decoration-color: #008080; font-weight: bold\">2020</span> ITEM <span style=\"color: #008080; text-decoration-color: #008080; font-weight: bold\">7</span> saved\n",
       "</pre>\n"
      ],
      "text/plain": [
       "GILD \u001b[1;36m2020\u001b[0m ITEM \u001b[1;36m7\u001b[0m saved\n"
      ]
     },
     "metadata": {},
     "output_type": "display_data"
    },
    {
     "data": {
      "text/html": [
       "<pre style=\"white-space:pre;overflow-x:auto;line-height:normal;font-family:Menlo,'DejaVu Sans Mono',consolas,'Courier New',monospace\"></pre>\n"
      ],
      "text/plain": []
     },
     "metadata": {},
     "output_type": "display_data"
    },
    {
     "data": {
      "text/html": [
       "<pre style=\"white-space:pre;overflow-x:auto;line-height:normal;font-family:Menlo,'DejaVu Sans Mono',consolas,'Courier New',monospace\">GPN <span style=\"color: #008080; text-decoration-color: #008080; font-weight: bold\">2020</span> ITEM <span style=\"color: #008080; text-decoration-color: #008080; font-weight: bold\">7</span> saved\n",
       "</pre>\n"
      ],
      "text/plain": [
       "GPN \u001b[1;36m2020\u001b[0m ITEM \u001b[1;36m7\u001b[0m saved\n"
      ]
     },
     "metadata": {},
     "output_type": "display_data"
    },
    {
     "data": {
      "text/html": [
       "<pre style=\"white-space:pre;overflow-x:auto;line-height:normal;font-family:Menlo,'DejaVu Sans Mono',consolas,'Courier New',monospace\"></pre>\n"
      ],
      "text/plain": []
     },
     "metadata": {},
     "output_type": "display_data"
    },
    {
     "data": {
      "text/html": [
       "<pre style=\"white-space:pre;overflow-x:auto;line-height:normal;font-family:Menlo,'DejaVu Sans Mono',consolas,'Courier New',monospace\">GL <span style=\"color: #008080; text-decoration-color: #008080; font-weight: bold\">2020</span> ITEM <span style=\"color: #008080; text-decoration-color: #008080; font-weight: bold\">7</span> saved\n",
       "</pre>\n"
      ],
      "text/plain": [
       "GL \u001b[1;36m2020\u001b[0m ITEM \u001b[1;36m7\u001b[0m saved\n"
      ]
     },
     "metadata": {},
     "output_type": "display_data"
    },
    {
     "data": {
      "text/html": [
       "<pre style=\"white-space:pre;overflow-x:auto;line-height:normal;font-family:Menlo,'DejaVu Sans Mono',consolas,'Courier New',monospace\"></pre>\n"
      ],
      "text/plain": []
     },
     "metadata": {},
     "output_type": "display_data"
    },
    {
     "data": {
      "text/html": [
       "<pre style=\"white-space:pre;overflow-x:auto;line-height:normal;font-family:Menlo,'DejaVu Sans Mono',consolas,'Courier New',monospace\">GS <span style=\"color: #008080; text-decoration-color: #008080; font-weight: bold\">2020</span> ITEM <span style=\"color: #008080; text-decoration-color: #008080; font-weight: bold\">7</span> saved\n",
       "</pre>\n"
      ],
      "text/plain": [
       "GS \u001b[1;36m2020\u001b[0m ITEM \u001b[1;36m7\u001b[0m saved\n"
      ]
     },
     "metadata": {},
     "output_type": "display_data"
    },
    {
     "data": {
      "text/html": [
       "<pre style=\"white-space:pre;overflow-x:auto;line-height:normal;font-family:Menlo,'DejaVu Sans Mono',consolas,'Courier New',monospace\"></pre>\n"
      ],
      "text/plain": []
     },
     "metadata": {},
     "output_type": "display_data"
    },
    {
     "data": {
      "text/html": [
       "<pre style=\"white-space:pre;overflow-x:auto;line-height:normal;font-family:Menlo,'DejaVu Sans Mono',consolas,'Courier New',monospace\">HAL <span style=\"color: #008080; text-decoration-color: #008080; font-weight: bold\">2020</span> ITEM <span style=\"color: #008080; text-decoration-color: #008080; font-weight: bold\">7</span> saved\n",
       "</pre>\n"
      ],
      "text/plain": [
       "HAL \u001b[1;36m2020\u001b[0m ITEM \u001b[1;36m7\u001b[0m saved\n"
      ]
     },
     "metadata": {},
     "output_type": "display_data"
    },
    {
     "data": {
      "text/html": [
       "<pre style=\"white-space:pre;overflow-x:auto;line-height:normal;font-family:Menlo,'DejaVu Sans Mono',consolas,'Courier New',monospace\">Extraction failed for company: index <span style=\"color: #008080; text-decoration-color: #008080; font-weight: bold\">0</span> is out of bounds for axis <span style=\"color: #008080; text-decoration-color: #008080; font-weight: bold\">0</span> with size <span style=\"color: #008080; text-decoration-color: #008080; font-weight: bold\">0</span>\n",
       "</pre>\n"
      ],
      "text/plain": [
       "Extraction failed for company: index \u001b[1;36m0\u001b[0m is out of bounds for axis \u001b[1;36m0\u001b[0m with size \u001b[1;36m0\u001b[0m\n"
      ]
     },
     "metadata": {},
     "output_type": "display_data"
    },
    {
     "data": {
      "text/html": [
       "<pre style=\"white-space:pre;overflow-x:auto;line-height:normal;font-family:Menlo,'DejaVu Sans Mono',consolas,'Courier New',monospace\"></pre>\n"
      ],
      "text/plain": []
     },
     "metadata": {},
     "output_type": "display_data"
    },
    {
     "data": {
      "text/html": [
       "<pre style=\"white-space:pre;overflow-x:auto;line-height:normal;font-family:Menlo,'DejaVu Sans Mono',consolas,'Courier New',monospace\">HAS <span style=\"color: #008080; text-decoration-color: #008080; font-weight: bold\">2020</span> ITEM <span style=\"color: #008080; text-decoration-color: #008080; font-weight: bold\">7</span> saved\n",
       "</pre>\n"
      ],
      "text/plain": [
       "HAS \u001b[1;36m2020\u001b[0m ITEM \u001b[1;36m7\u001b[0m saved\n"
      ]
     },
     "metadata": {},
     "output_type": "display_data"
    },
    {
     "data": {
      "text/html": [
       "<pre style=\"white-space:pre;overflow-x:auto;line-height:normal;font-family:Menlo,'DejaVu Sans Mono',consolas,'Courier New',monospace\"></pre>\n"
      ],
      "text/plain": []
     },
     "metadata": {},
     "output_type": "display_data"
    },
    {
     "data": {
      "text/html": [
       "<pre style=\"white-space:pre;overflow-x:auto;line-height:normal;font-family:Menlo,'DejaVu Sans Mono',consolas,'Courier New',monospace\">HCA <span style=\"color: #008080; text-decoration-color: #008080; font-weight: bold\">2020</span> ITEM <span style=\"color: #008080; text-decoration-color: #008080; font-weight: bold\">7</span> saved\n",
       "</pre>\n"
      ],
      "text/plain": [
       "HCA \u001b[1;36m2020\u001b[0m ITEM \u001b[1;36m7\u001b[0m saved\n"
      ]
     },
     "metadata": {},
     "output_type": "display_data"
    },
    {
     "data": {
      "text/html": [
       "<pre style=\"white-space:pre;overflow-x:auto;line-height:normal;font-family:Menlo,'DejaVu Sans Mono',consolas,'Courier New',monospace\"></pre>\n"
      ],
      "text/plain": []
     },
     "metadata": {},
     "output_type": "display_data"
    },
    {
     "data": {
      "text/html": [
       "<pre style=\"white-space:pre;overflow-x:auto;line-height:normal;font-family:Menlo,'DejaVu Sans Mono',consolas,'Courier New',monospace\">PEAK <span style=\"color: #008080; text-decoration-color: #008080; font-weight: bold\">2020</span> ITEM <span style=\"color: #008080; text-decoration-color: #008080; font-weight: bold\">7</span> saved\n",
       "</pre>\n"
      ],
      "text/plain": [
       "PEAK \u001b[1;36m2020\u001b[0m ITEM \u001b[1;36m7\u001b[0m saved\n"
      ]
     },
     "metadata": {},
     "output_type": "display_data"
    },
    {
     "data": {
      "text/html": [
       "<pre style=\"white-space:pre;overflow-x:auto;line-height:normal;font-family:Menlo,'DejaVu Sans Mono',consolas,'Courier New',monospace\"></pre>\n"
      ],
      "text/plain": []
     },
     "metadata": {},
     "output_type": "display_data"
    },
    {
     "data": {
      "text/html": [
       "<pre style=\"white-space:pre;overflow-x:auto;line-height:normal;font-family:Menlo,'DejaVu Sans Mono',consolas,'Courier New',monospace\">HSIC <span style=\"color: #008080; text-decoration-color: #008080; font-weight: bold\">2020</span> ITEM <span style=\"color: #008080; text-decoration-color: #008080; font-weight: bold\">7</span> saved\n",
       "</pre>\n"
      ],
      "text/plain": [
       "HSIC \u001b[1;36m2020\u001b[0m ITEM \u001b[1;36m7\u001b[0m saved\n"
      ]
     },
     "metadata": {},
     "output_type": "display_data"
    },
    {
     "data": {
      "text/html": [
       "<pre style=\"white-space:pre;overflow-x:auto;line-height:normal;font-family:Menlo,'DejaVu Sans Mono',consolas,'Courier New',monospace\"></pre>\n"
      ],
      "text/plain": []
     },
     "metadata": {},
     "output_type": "display_data"
    },
    {
     "data": {
      "text/html": [
       "<pre style=\"white-space:pre;overflow-x:auto;line-height:normal;font-family:Menlo,'DejaVu Sans Mono',consolas,'Courier New',monospace\">HES <span style=\"color: #008080; text-decoration-color: #008080; font-weight: bold\">2020</span> ITEM <span style=\"color: #008080; text-decoration-color: #008080; font-weight: bold\">7</span> saved\n",
       "</pre>\n"
      ],
      "text/plain": [
       "HES \u001b[1;36m2020\u001b[0m ITEM \u001b[1;36m7\u001b[0m saved\n"
      ]
     },
     "metadata": {},
     "output_type": "display_data"
    },
    {
     "data": {
      "text/html": [
       "<pre style=\"white-space:pre;overflow-x:auto;line-height:normal;font-family:Menlo,'DejaVu Sans Mono',consolas,'Courier New',monospace\"></pre>\n"
      ],
      "text/plain": []
     },
     "metadata": {},
     "output_type": "display_data"
    },
    {
     "data": {
      "text/html": [
       "<pre style=\"white-space:pre;overflow-x:auto;line-height:normal;font-family:Menlo,'DejaVu Sans Mono',consolas,'Courier New',monospace\">HPE <span style=\"color: #008080; text-decoration-color: #008080; font-weight: bold\">2020</span> ITEM <span style=\"color: #008080; text-decoration-color: #008080; font-weight: bold\">7</span> saved\n",
       "</pre>\n"
      ],
      "text/plain": [
       "HPE \u001b[1;36m2020\u001b[0m ITEM \u001b[1;36m7\u001b[0m saved\n"
      ]
     },
     "metadata": {},
     "output_type": "display_data"
    },
    {
     "data": {
      "text/html": [
       "<pre style=\"white-space:pre;overflow-x:auto;line-height:normal;font-family:Menlo,'DejaVu Sans Mono',consolas,'Courier New',monospace\"></pre>\n"
      ],
      "text/plain": []
     },
     "metadata": {},
     "output_type": "display_data"
    },
    {
     "data": {
      "text/html": [
       "<pre style=\"white-space:pre;overflow-x:auto;line-height:normal;font-family:Menlo,'DejaVu Sans Mono',consolas,'Courier New',monospace\">HLT <span style=\"color: #008080; text-decoration-color: #008080; font-weight: bold\">2020</span> ITEM <span style=\"color: #008080; text-decoration-color: #008080; font-weight: bold\">7</span> saved\n",
       "</pre>\n"
      ],
      "text/plain": [
       "HLT \u001b[1;36m2020\u001b[0m ITEM \u001b[1;36m7\u001b[0m saved\n"
      ]
     },
     "metadata": {},
     "output_type": "display_data"
    },
    {
     "data": {
      "text/html": [
       "<pre style=\"white-space:pre;overflow-x:auto;line-height:normal;font-family:Menlo,'DejaVu Sans Mono',consolas,'Courier New',monospace\"></pre>\n"
      ],
      "text/plain": []
     },
     "metadata": {},
     "output_type": "display_data"
    },
    {
     "data": {
      "text/html": [
       "<pre style=\"white-space:pre;overflow-x:auto;line-height:normal;font-family:Menlo,'DejaVu Sans Mono',consolas,'Courier New',monospace\">HOLX <span style=\"color: #008080; text-decoration-color: #008080; font-weight: bold\">2020</span> ITEM <span style=\"color: #008080; text-decoration-color: #008080; font-weight: bold\">7</span> saved\n",
       "</pre>\n"
      ],
      "text/plain": [
       "HOLX \u001b[1;36m2020\u001b[0m ITEM \u001b[1;36m7\u001b[0m saved\n"
      ]
     },
     "metadata": {},
     "output_type": "display_data"
    },
    {
     "data": {
      "text/html": [
       "<pre style=\"white-space:pre;overflow-x:auto;line-height:normal;font-family:Menlo,'DejaVu Sans Mono',consolas,'Courier New',monospace\"></pre>\n"
      ],
      "text/plain": []
     },
     "metadata": {},
     "output_type": "display_data"
    },
    {
     "data": {
      "text/html": [
       "<pre style=\"white-space:pre;overflow-x:auto;line-height:normal;font-family:Menlo,'DejaVu Sans Mono',consolas,'Courier New',monospace\">HD <span style=\"color: #008080; text-decoration-color: #008080; font-weight: bold\">2020</span> ITEM <span style=\"color: #008080; text-decoration-color: #008080; font-weight: bold\">7</span> saved\n",
       "</pre>\n"
      ],
      "text/plain": [
       "HD \u001b[1;36m2020\u001b[0m ITEM \u001b[1;36m7\u001b[0m saved\n"
      ]
     },
     "metadata": {},
     "output_type": "display_data"
    },
    {
     "data": {
      "text/html": [
       "<pre style=\"white-space:pre;overflow-x:auto;line-height:normal;font-family:Menlo,'DejaVu Sans Mono',consolas,'Courier New',monospace\"></pre>\n"
      ],
      "text/plain": []
     },
     "metadata": {},
     "output_type": "display_data"
    },
    {
     "data": {
      "text/html": [
       "<pre style=\"white-space:pre;overflow-x:auto;line-height:normal;font-family:Menlo,'DejaVu Sans Mono',consolas,'Courier New',monospace\">HON <span style=\"color: #008080; text-decoration-color: #008080; font-weight: bold\">2020</span> ITEM <span style=\"color: #008080; text-decoration-color: #008080; font-weight: bold\">7</span> saved\n",
       "</pre>\n"
      ],
      "text/plain": [
       "HON \u001b[1;36m2020\u001b[0m ITEM \u001b[1;36m7\u001b[0m saved\n"
      ]
     },
     "metadata": {},
     "output_type": "display_data"
    },
    {
     "data": {
      "text/html": [
       "<pre style=\"white-space:pre;overflow-x:auto;line-height:normal;font-family:Menlo,'DejaVu Sans Mono',consolas,'Courier New',monospace\"></pre>\n"
      ],
      "text/plain": []
     },
     "metadata": {},
     "output_type": "display_data"
    },
    {
     "data": {
      "text/html": [
       "<pre style=\"white-space:pre;overflow-x:auto;line-height:normal;font-family:Menlo,'DejaVu Sans Mono',consolas,'Courier New',monospace\">HRL <span style=\"color: #008080; text-decoration-color: #008080; font-weight: bold\">2020</span> ITEM <span style=\"color: #008080; text-decoration-color: #008080; font-weight: bold\">7</span> saved\n",
       "</pre>\n"
      ],
      "text/plain": [
       "HRL \u001b[1;36m2020\u001b[0m ITEM \u001b[1;36m7\u001b[0m saved\n"
      ]
     },
     "metadata": {},
     "output_type": "display_data"
    },
    {
     "data": {
      "text/html": [
       "<pre style=\"white-space:pre;overflow-x:auto;line-height:normal;font-family:Menlo,'DejaVu Sans Mono',consolas,'Courier New',monospace\"></pre>\n"
      ],
      "text/plain": []
     },
     "metadata": {},
     "output_type": "display_data"
    },
    {
     "data": {
      "text/html": [
       "<pre style=\"white-space:pre;overflow-x:auto;line-height:normal;font-family:Menlo,'DejaVu Sans Mono',consolas,'Courier New',monospace\">HST <span style=\"color: #008080; text-decoration-color: #008080; font-weight: bold\">2020</span> ITEM <span style=\"color: #008080; text-decoration-color: #008080; font-weight: bold\">7</span> saved\n",
       "</pre>\n"
      ],
      "text/plain": [
       "HST \u001b[1;36m2020\u001b[0m ITEM \u001b[1;36m7\u001b[0m saved\n"
      ]
     },
     "metadata": {},
     "output_type": "display_data"
    },
    {
     "data": {
      "text/html": [
       "<pre style=\"white-space:pre;overflow-x:auto;line-height:normal;font-family:Menlo,'DejaVu Sans Mono',consolas,'Courier New',monospace\"></pre>\n"
      ],
      "text/plain": []
     },
     "metadata": {},
     "output_type": "display_data"
    },
    {
     "data": {
      "text/html": [
       "<pre style=\"white-space:pre;overflow-x:auto;line-height:normal;font-family:Menlo,'DejaVu Sans Mono',consolas,'Courier New',monospace\">HWM <span style=\"color: #008080; text-decoration-color: #008080; font-weight: bold\">2020</span> ITEM <span style=\"color: #008080; text-decoration-color: #008080; font-weight: bold\">7</span> saved\n",
       "</pre>\n"
      ],
      "text/plain": [
       "HWM \u001b[1;36m2020\u001b[0m ITEM \u001b[1;36m7\u001b[0m saved\n"
      ]
     },
     "metadata": {},
     "output_type": "display_data"
    },
    {
     "data": {
      "text/html": [
       "<pre style=\"white-space:pre;overflow-x:auto;line-height:normal;font-family:Menlo,'DejaVu Sans Mono',consolas,'Courier New',monospace\"></pre>\n"
      ],
      "text/plain": []
     },
     "metadata": {},
     "output_type": "display_data"
    },
    {
     "data": {
      "text/html": [
       "<pre style=\"white-space:pre;overflow-x:auto;line-height:normal;font-family:Menlo,'DejaVu Sans Mono',consolas,'Courier New',monospace\">HPQ <span style=\"color: #008080; text-decoration-color: #008080; font-weight: bold\">2020</span> ITEM <span style=\"color: #008080; text-decoration-color: #008080; font-weight: bold\">7</span> saved\n",
       "</pre>\n"
      ],
      "text/plain": [
       "HPQ \u001b[1;36m2020\u001b[0m ITEM \u001b[1;36m7\u001b[0m saved\n"
      ]
     },
     "metadata": {},
     "output_type": "display_data"
    },
    {
     "data": {
      "text/html": [
       "<pre style=\"white-space:pre;overflow-x:auto;line-height:normal;font-family:Menlo,'DejaVu Sans Mono',consolas,'Courier New',monospace\"></pre>\n"
      ],
      "text/plain": []
     },
     "metadata": {},
     "output_type": "display_data"
    },
    {
     "data": {
      "text/html": [
       "<pre style=\"white-space:pre;overflow-x:auto;line-height:normal;font-family:Menlo,'DejaVu Sans Mono',consolas,'Courier New',monospace\">HUM <span style=\"color: #008080; text-decoration-color: #008080; font-weight: bold\">2020</span> ITEM <span style=\"color: #008080; text-decoration-color: #008080; font-weight: bold\">7</span> saved\n",
       "</pre>\n"
      ],
      "text/plain": [
       "HUM \u001b[1;36m2020\u001b[0m ITEM \u001b[1;36m7\u001b[0m saved\n"
      ]
     },
     "metadata": {},
     "output_type": "display_data"
    },
    {
     "data": {
      "text/html": [
       "<pre style=\"white-space:pre;overflow-x:auto;line-height:normal;font-family:Menlo,'DejaVu Sans Mono',consolas,'Courier New',monospace\"></pre>\n"
      ],
      "text/plain": []
     },
     "metadata": {},
     "output_type": "display_data"
    },
    {
     "data": {
      "text/html": [
       "<pre style=\"white-space:pre;overflow-x:auto;line-height:normal;font-family:Menlo,'DejaVu Sans Mono',consolas,'Courier New',monospace\">HBAN <span style=\"color: #008080; text-decoration-color: #008080; font-weight: bold\">2020</span> ITEM <span style=\"color: #008080; text-decoration-color: #008080; font-weight: bold\">7</span> saved\n",
       "</pre>\n"
      ],
      "text/plain": [
       "HBAN \u001b[1;36m2020\u001b[0m ITEM \u001b[1;36m7\u001b[0m saved\n"
      ]
     },
     "metadata": {},
     "output_type": "display_data"
    },
    {
     "data": {
      "text/html": [
       "<pre style=\"white-space:pre;overflow-x:auto;line-height:normal;font-family:Menlo,'DejaVu Sans Mono',consolas,'Courier New',monospace\"></pre>\n"
      ],
      "text/plain": []
     },
     "metadata": {},
     "output_type": "display_data"
    },
    {
     "data": {
      "text/html": [
       "<pre style=\"white-space:pre;overflow-x:auto;line-height:normal;font-family:Menlo,'DejaVu Sans Mono',consolas,'Courier New',monospace\">HII <span style=\"color: #008080; text-decoration-color: #008080; font-weight: bold\">2020</span> ITEM <span style=\"color: #008080; text-decoration-color: #008080; font-weight: bold\">7</span> saved\n",
       "</pre>\n"
      ],
      "text/plain": [
       "HII \u001b[1;36m2020\u001b[0m ITEM \u001b[1;36m7\u001b[0m saved\n"
      ]
     },
     "metadata": {},
     "output_type": "display_data"
    },
    {
     "data": {
      "text/html": [
       "<pre style=\"white-space:pre;overflow-x:auto;line-height:normal;font-family:Menlo,'DejaVu Sans Mono',consolas,'Courier New',monospace\"></pre>\n"
      ],
      "text/plain": []
     },
     "metadata": {},
     "output_type": "display_data"
    },
    {
     "data": {
      "text/html": [
       "<pre style=\"white-space:pre;overflow-x:auto;line-height:normal;font-family:Menlo,'DejaVu Sans Mono',consolas,'Courier New',monospace\">IBM <span style=\"color: #008080; text-decoration-color: #008080; font-weight: bold\">2020</span> ITEM <span style=\"color: #008080; text-decoration-color: #008080; font-weight: bold\">7</span> saved\n",
       "</pre>\n"
      ],
      "text/plain": [
       "IBM \u001b[1;36m2020\u001b[0m ITEM \u001b[1;36m7\u001b[0m saved\n"
      ]
     },
     "metadata": {},
     "output_type": "display_data"
    },
    {
     "data": {
      "text/html": [
       "<pre style=\"white-space:pre;overflow-x:auto;line-height:normal;font-family:Menlo,'DejaVu Sans Mono',consolas,'Courier New',monospace\"></pre>\n"
      ],
      "text/plain": []
     },
     "metadata": {},
     "output_type": "display_data"
    },
    {
     "data": {
      "text/html": [
       "<pre style=\"white-space:pre;overflow-x:auto;line-height:normal;font-family:Menlo,'DejaVu Sans Mono',consolas,'Courier New',monospace\">IEX <span style=\"color: #008080; text-decoration-color: #008080; font-weight: bold\">2020</span> ITEM <span style=\"color: #008080; text-decoration-color: #008080; font-weight: bold\">7</span> saved\n",
       "</pre>\n"
      ],
      "text/plain": [
       "IEX \u001b[1;36m2020\u001b[0m ITEM \u001b[1;36m7\u001b[0m saved\n"
      ]
     },
     "metadata": {},
     "output_type": "display_data"
    },
    {
     "data": {
      "text/html": [
       "<pre style=\"white-space:pre;overflow-x:auto;line-height:normal;font-family:Menlo,'DejaVu Sans Mono',consolas,'Courier New',monospace\"></pre>\n"
      ],
      "text/plain": []
     },
     "metadata": {},
     "output_type": "display_data"
    },
    {
     "data": {
      "text/html": [
       "<pre style=\"white-space:pre;overflow-x:auto;line-height:normal;font-family:Menlo,'DejaVu Sans Mono',consolas,'Courier New',monospace\">IDXX <span style=\"color: #008080; text-decoration-color: #008080; font-weight: bold\">2020</span> ITEM <span style=\"color: #008080; text-decoration-color: #008080; font-weight: bold\">7</span> saved\n",
       "</pre>\n"
      ],
      "text/plain": [
       "IDXX \u001b[1;36m2020\u001b[0m ITEM \u001b[1;36m7\u001b[0m saved\n"
      ]
     },
     "metadata": {},
     "output_type": "display_data"
    },
    {
     "data": {
      "text/html": [
       "<pre style=\"white-space:pre;overflow-x:auto;line-height:normal;font-family:Menlo,'DejaVu Sans Mono',consolas,'Courier New',monospace\">Extraction failed for company: <span style=\"color: #008000; text-decoration-color: #008000\">'NoneType'</span> object has no attribute <span style=\"color: #008000; text-decoration-color: #008000\">'get_filings'</span>\n",
       "</pre>\n"
      ],
      "text/plain": [
       "Extraction failed for company: \u001b[32m'NoneType'\u001b[0m object has no attribute \u001b[32m'get_filings'\u001b[0m\n"
      ]
     },
     "metadata": {},
     "output_type": "display_data"
    },
    {
     "data": {
      "text/html": [
       "<pre style=\"white-space:pre;overflow-x:auto;line-height:normal;font-family:Menlo,'DejaVu Sans Mono',consolas,'Courier New',monospace\"></pre>\n"
      ],
      "text/plain": []
     },
     "metadata": {},
     "output_type": "display_data"
    },
    {
     "data": {
      "text/html": [
       "<pre style=\"white-space:pre;overflow-x:auto;line-height:normal;font-family:Menlo,'DejaVu Sans Mono',consolas,'Courier New',monospace\">ITW <span style=\"color: #008080; text-decoration-color: #008080; font-weight: bold\">2020</span> ITEM <span style=\"color: #008080; text-decoration-color: #008080; font-weight: bold\">7</span> saved\n",
       "</pre>\n"
      ],
      "text/plain": [
       "ITW \u001b[1;36m2020\u001b[0m ITEM \u001b[1;36m7\u001b[0m saved\n"
      ]
     },
     "metadata": {},
     "output_type": "display_data"
    },
    {
     "data": {
      "text/html": [
       "<pre style=\"white-space:pre;overflow-x:auto;line-height:normal;font-family:Menlo,'DejaVu Sans Mono',consolas,'Courier New',monospace\">Extraction failed for company: index <span style=\"color: #008080; text-decoration-color: #008080; font-weight: bold\">0</span> is out of bounds for axis <span style=\"color: #008080; text-decoration-color: #008080; font-weight: bold\">0</span> with size <span style=\"color: #008080; text-decoration-color: #008080; font-weight: bold\">0</span>\n",
       "</pre>\n"
      ],
      "text/plain": [
       "Extraction failed for company: index \u001b[1;36m0\u001b[0m is out of bounds for axis \u001b[1;36m0\u001b[0m with size \u001b[1;36m0\u001b[0m\n"
      ]
     },
     "metadata": {},
     "output_type": "display_data"
    },
    {
     "data": {
      "text/html": [
       "<pre style=\"white-space:pre;overflow-x:auto;line-height:normal;font-family:Menlo,'DejaVu Sans Mono',consolas,'Courier New',monospace\"></pre>\n"
      ],
      "text/plain": []
     },
     "metadata": {},
     "output_type": "display_data"
    },
    {
     "data": {
      "text/html": [
       "<pre style=\"white-space:pre;overflow-x:auto;line-height:normal;font-family:Menlo,'DejaVu Sans Mono',consolas,'Courier New',monospace\">INCY <span style=\"color: #008080; text-decoration-color: #008080; font-weight: bold\">2020</span> ITEM <span style=\"color: #008080; text-decoration-color: #008080; font-weight: bold\">7</span> saved\n",
       "</pre>\n"
      ],
      "text/plain": [
       "INCY \u001b[1;36m2020\u001b[0m ITEM \u001b[1;36m7\u001b[0m saved\n"
      ]
     },
     "metadata": {},
     "output_type": "display_data"
    },
    {
     "data": {
      "text/html": [
       "<pre style=\"white-space:pre;overflow-x:auto;line-height:normal;font-family:Menlo,'DejaVu Sans Mono',consolas,'Courier New',monospace\"></pre>\n"
      ],
      "text/plain": []
     },
     "metadata": {},
     "output_type": "display_data"
    },
    {
     "data": {
      "text/html": [
       "<pre style=\"white-space:pre;overflow-x:auto;line-height:normal;font-family:Menlo,'DejaVu Sans Mono',consolas,'Courier New',monospace\">IR <span style=\"color: #008080; text-decoration-color: #008080; font-weight: bold\">2020</span> ITEM <span style=\"color: #008080; text-decoration-color: #008080; font-weight: bold\">7</span> saved\n",
       "</pre>\n"
      ],
      "text/plain": [
       "IR \u001b[1;36m2020\u001b[0m ITEM \u001b[1;36m7\u001b[0m saved\n"
      ]
     },
     "metadata": {},
     "output_type": "display_data"
    },
    {
     "data": {
      "text/html": [
       "<pre style=\"white-space:pre;overflow-x:auto;line-height:normal;font-family:Menlo,'DejaVu Sans Mono',consolas,'Courier New',monospace\"></pre>\n"
      ],
      "text/plain": []
     },
     "metadata": {},
     "output_type": "display_data"
    },
    {
     "data": {
      "text/html": [
       "<pre style=\"white-space:pre;overflow-x:auto;line-height:normal;font-family:Menlo,'DejaVu Sans Mono',consolas,'Courier New',monospace\">INTC <span style=\"color: #008080; text-decoration-color: #008080; font-weight: bold\">2020</span> ITEM <span style=\"color: #008080; text-decoration-color: #008080; font-weight: bold\">7</span> saved\n",
       "</pre>\n"
      ],
      "text/plain": [
       "INTC \u001b[1;36m2020\u001b[0m ITEM \u001b[1;36m7\u001b[0m saved\n"
      ]
     },
     "metadata": {},
     "output_type": "display_data"
    },
    {
     "data": {
      "text/html": [
       "<pre style=\"white-space:pre;overflow-x:auto;line-height:normal;font-family:Menlo,'DejaVu Sans Mono',consolas,'Courier New',monospace\"></pre>\n"
      ],
      "text/plain": []
     },
     "metadata": {},
     "output_type": "display_data"
    },
    {
     "data": {
      "text/html": [
       "<pre style=\"white-space:pre;overflow-x:auto;line-height:normal;font-family:Menlo,'DejaVu Sans Mono',consolas,'Courier New',monospace\">Extraction failed for company: Length mismatch: Expected axis has <span style=\"color: #008080; text-decoration-color: #008080; font-weight: bold\">0</span> elements, new values have <span style=\"color: #008080; text-decoration-color: #008080; font-weight: bold\">3</span> elements\n",
       "</pre>\n"
      ],
      "text/plain": [
       "Extraction failed for company: Length mismatch: Expected axis has \u001b[1;36m0\u001b[0m elements, new values have \u001b[1;36m3\u001b[0m elements\n"
      ]
     },
     "metadata": {},
     "output_type": "display_data"
    },
    {
     "data": {
      "text/html": [
       "<pre style=\"white-space:pre;overflow-x:auto;line-height:normal;font-family:Menlo,'DejaVu Sans Mono',consolas,'Courier New',monospace\"></pre>\n"
      ],
      "text/plain": []
     },
     "metadata": {},
     "output_type": "display_data"
    },
    {
     "data": {
      "text/html": [
       "<pre style=\"white-space:pre;overflow-x:auto;line-height:normal;font-family:Menlo,'DejaVu Sans Mono',consolas,'Courier New',monospace\">IFF <span style=\"color: #008080; text-decoration-color: #008080; font-weight: bold\">2020</span> ITEM <span style=\"color: #008080; text-decoration-color: #008080; font-weight: bold\">7</span> saved\n",
       "</pre>\n"
      ],
      "text/plain": [
       "IFF \u001b[1;36m2020\u001b[0m ITEM \u001b[1;36m7\u001b[0m saved\n"
      ]
     },
     "metadata": {},
     "output_type": "display_data"
    },
    {
     "data": {
      "text/html": [
       "<pre style=\"white-space:pre;overflow-x:auto;line-height:normal;font-family:Menlo,'DejaVu Sans Mono',consolas,'Courier New',monospace\"></pre>\n"
      ],
      "text/plain": []
     },
     "metadata": {},
     "output_type": "display_data"
    },
    {
     "data": {
      "text/html": [
       "<pre style=\"white-space:pre;overflow-x:auto;line-height:normal;font-family:Menlo,'DejaVu Sans Mono',consolas,'Courier New',monospace\">IP <span style=\"color: #008080; text-decoration-color: #008080; font-weight: bold\">2020</span> ITEM <span style=\"color: #008080; text-decoration-color: #008080; font-weight: bold\">7</span> saved\n",
       "</pre>\n"
      ],
      "text/plain": [
       "IP \u001b[1;36m2020\u001b[0m ITEM \u001b[1;36m7\u001b[0m saved\n"
      ]
     },
     "metadata": {},
     "output_type": "display_data"
    },
    {
     "data": {
      "text/html": [
       "<pre style=\"white-space:pre;overflow-x:auto;line-height:normal;font-family:Menlo,'DejaVu Sans Mono',consolas,'Courier New',monospace\"></pre>\n"
      ],
      "text/plain": []
     },
     "metadata": {},
     "output_type": "display_data"
    },
    {
     "data": {
      "text/html": [
       "<pre style=\"white-space:pre;overflow-x:auto;line-height:normal;font-family:Menlo,'DejaVu Sans Mono',consolas,'Courier New',monospace\">IPG <span style=\"color: #008080; text-decoration-color: #008080; font-weight: bold\">2020</span> ITEM <span style=\"color: #008080; text-decoration-color: #008080; font-weight: bold\">7</span> saved\n",
       "</pre>\n"
      ],
      "text/plain": [
       "IPG \u001b[1;36m2020\u001b[0m ITEM \u001b[1;36m7\u001b[0m saved\n"
      ]
     },
     "metadata": {},
     "output_type": "display_data"
    },
    {
     "data": {
      "text/html": [
       "<pre style=\"white-space:pre;overflow-x:auto;line-height:normal;font-family:Menlo,'DejaVu Sans Mono',consolas,'Courier New',monospace\"></pre>\n"
      ],
      "text/plain": []
     },
     "metadata": {},
     "output_type": "display_data"
    },
    {
     "data": {
      "text/html": [
       "<pre style=\"white-space:pre;overflow-x:auto;line-height:normal;font-family:Menlo,'DejaVu Sans Mono',consolas,'Courier New',monospace\">INTU <span style=\"color: #008080; text-decoration-color: #008080; font-weight: bold\">2020</span> ITEM <span style=\"color: #008080; text-decoration-color: #008080; font-weight: bold\">7</span> saved\n",
       "</pre>\n"
      ],
      "text/plain": [
       "INTU \u001b[1;36m2020\u001b[0m ITEM \u001b[1;36m7\u001b[0m saved\n"
      ]
     },
     "metadata": {},
     "output_type": "display_data"
    },
    {
     "data": {
      "text/html": [
       "<pre style=\"white-space:pre;overflow-x:auto;line-height:normal;font-family:Menlo,'DejaVu Sans Mono',consolas,'Courier New',monospace\"></pre>\n"
      ],
      "text/plain": []
     },
     "metadata": {},
     "output_type": "display_data"
    },
    {
     "data": {
      "text/html": [
       "<pre style=\"white-space:pre;overflow-x:auto;line-height:normal;font-family:Menlo,'DejaVu Sans Mono',consolas,'Courier New',monospace\">ISRG <span style=\"color: #008080; text-decoration-color: #008080; font-weight: bold\">2020</span> ITEM <span style=\"color: #008080; text-decoration-color: #008080; font-weight: bold\">7</span> saved\n",
       "</pre>\n"
      ],
      "text/plain": [
       "ISRG \u001b[1;36m2020\u001b[0m ITEM \u001b[1;36m7\u001b[0m saved\n"
      ]
     },
     "metadata": {},
     "output_type": "display_data"
    },
    {
     "data": {
      "text/html": [
       "<pre style=\"white-space:pre;overflow-x:auto;line-height:normal;font-family:Menlo,'DejaVu Sans Mono',consolas,'Courier New',monospace\"></pre>\n"
      ],
      "text/plain": []
     },
     "metadata": {},
     "output_type": "display_data"
    },
    {
     "data": {
      "text/html": [
       "<pre style=\"white-space:pre;overflow-x:auto;line-height:normal;font-family:Menlo,'DejaVu Sans Mono',consolas,'Courier New',monospace\">IVZ <span style=\"color: #008080; text-decoration-color: #008080; font-weight: bold\">2020</span> ITEM <span style=\"color: #008080; text-decoration-color: #008080; font-weight: bold\">7</span> saved\n",
       "</pre>\n"
      ],
      "text/plain": [
       "IVZ \u001b[1;36m2020\u001b[0m ITEM \u001b[1;36m7\u001b[0m saved\n"
      ]
     },
     "metadata": {},
     "output_type": "display_data"
    },
    {
     "data": {
      "text/html": [
       "<pre style=\"white-space:pre;overflow-x:auto;line-height:normal;font-family:Menlo,'DejaVu Sans Mono',consolas,'Courier New',monospace\"></pre>\n"
      ],
      "text/plain": []
     },
     "metadata": {},
     "output_type": "display_data"
    },
    {
     "data": {
      "text/html": [
       "<pre style=\"white-space:pre;overflow-x:auto;line-height:normal;font-family:Menlo,'DejaVu Sans Mono',consolas,'Courier New',monospace\">Extraction failed for company: Length mismatch: Expected axis has <span style=\"color: #008080; text-decoration-color: #008080; font-weight: bold\">0</span> elements, new values have <span style=\"color: #008080; text-decoration-color: #008080; font-weight: bold\">3</span> elements\n",
       "</pre>\n"
      ],
      "text/plain": [
       "Extraction failed for company: Length mismatch: Expected axis has \u001b[1;36m0\u001b[0m elements, new values have \u001b[1;36m3\u001b[0m elements\n"
      ]
     },
     "metadata": {},
     "output_type": "display_data"
    },
    {
     "data": {
      "text/html": [
       "<pre style=\"white-space:pre;overflow-x:auto;line-height:normal;font-family:Menlo,'DejaVu Sans Mono',consolas,'Courier New',monospace\"></pre>\n"
      ],
      "text/plain": []
     },
     "metadata": {},
     "output_type": "display_data"
    },
    {
     "data": {
      "text/html": [
       "<pre style=\"white-space:pre;overflow-x:auto;line-height:normal;font-family:Menlo,'DejaVu Sans Mono',consolas,'Courier New',monospace\">IQV <span style=\"color: #008080; text-decoration-color: #008080; font-weight: bold\">2020</span> ITEM <span style=\"color: #008080; text-decoration-color: #008080; font-weight: bold\">7</span> saved\n",
       "</pre>\n"
      ],
      "text/plain": [
       "IQV \u001b[1;36m2020\u001b[0m ITEM \u001b[1;36m7\u001b[0m saved\n"
      ]
     },
     "metadata": {},
     "output_type": "display_data"
    },
    {
     "data": {
      "text/html": [
       "<pre style=\"white-space:pre;overflow-x:auto;line-height:normal;font-family:Menlo,'DejaVu Sans Mono',consolas,'Courier New',monospace\"></pre>\n"
      ],
      "text/plain": []
     },
     "metadata": {},
     "output_type": "display_data"
    },
    {
     "data": {
      "text/html": [
       "<pre style=\"white-space:pre;overflow-x:auto;line-height:normal;font-family:Menlo,'DejaVu Sans Mono',consolas,'Courier New',monospace\">IRM <span style=\"color: #008080; text-decoration-color: #008080; font-weight: bold\">2020</span> ITEM <span style=\"color: #008080; text-decoration-color: #008080; font-weight: bold\">7</span> saved\n",
       "</pre>\n"
      ],
      "text/plain": [
       "IRM \u001b[1;36m2020\u001b[0m ITEM \u001b[1;36m7\u001b[0m saved\n"
      ]
     },
     "metadata": {},
     "output_type": "display_data"
    },
    {
     "data": {
      "text/html": [
       "<pre style=\"white-space:pre;overflow-x:auto;line-height:normal;font-family:Menlo,'DejaVu Sans Mono',consolas,'Courier New',monospace\"></pre>\n"
      ],
      "text/plain": []
     },
     "metadata": {},
     "output_type": "display_data"
    },
    {
     "data": {
      "text/html": [
       "<pre style=\"white-space:pre;overflow-x:auto;line-height:normal;font-family:Menlo,'DejaVu Sans Mono',consolas,'Courier New',monospace\">JBHT <span style=\"color: #008080; text-decoration-color: #008080; font-weight: bold\">2020</span> ITEM <span style=\"color: #008080; text-decoration-color: #008080; font-weight: bold\">7</span> saved\n",
       "</pre>\n"
      ],
      "text/plain": [
       "JBHT \u001b[1;36m2020\u001b[0m ITEM \u001b[1;36m7\u001b[0m saved\n"
      ]
     },
     "metadata": {},
     "output_type": "display_data"
    },
    {
     "data": {
      "text/html": [
       "<pre style=\"white-space:pre;overflow-x:auto;line-height:normal;font-family:Menlo,'DejaVu Sans Mono',consolas,'Courier New',monospace\"></pre>\n"
      ],
      "text/plain": []
     },
     "metadata": {},
     "output_type": "display_data"
    },
    {
     "data": {
      "text/html": [
       "<pre style=\"white-space:pre;overflow-x:auto;line-height:normal;font-family:Menlo,'DejaVu Sans Mono',consolas,'Courier New',monospace\">JKHY <span style=\"color: #008080; text-decoration-color: #008080; font-weight: bold\">2020</span> ITEM <span style=\"color: #008080; text-decoration-color: #008080; font-weight: bold\">7</span> saved\n",
       "</pre>\n"
      ],
      "text/plain": [
       "JKHY \u001b[1;36m2020\u001b[0m ITEM \u001b[1;36m7\u001b[0m saved\n"
      ]
     },
     "metadata": {},
     "output_type": "display_data"
    },
    {
     "data": {
      "text/html": [
       "<pre style=\"white-space:pre;overflow-x:auto;line-height:normal;font-family:Menlo,'DejaVu Sans Mono',consolas,'Courier New',monospace\"></pre>\n"
      ],
      "text/plain": []
     },
     "metadata": {},
     "output_type": "display_data"
    },
    {
     "data": {
      "text/html": [
       "<pre style=\"white-space:pre;overflow-x:auto;line-height:normal;font-family:Menlo,'DejaVu Sans Mono',consolas,'Courier New',monospace\">J <span style=\"color: #008080; text-decoration-color: #008080; font-weight: bold\">2020</span> ITEM <span style=\"color: #008080; text-decoration-color: #008080; font-weight: bold\">7</span> saved\n",
       "</pre>\n"
      ],
      "text/plain": [
       "J \u001b[1;36m2020\u001b[0m ITEM \u001b[1;36m7\u001b[0m saved\n"
      ]
     },
     "metadata": {},
     "output_type": "display_data"
    },
    {
     "data": {
      "text/html": [
       "<pre style=\"white-space:pre;overflow-x:auto;line-height:normal;font-family:Menlo,'DejaVu Sans Mono',consolas,'Courier New',monospace\"></pre>\n"
      ],
      "text/plain": []
     },
     "metadata": {},
     "output_type": "display_data"
    },
    {
     "data": {
      "text/html": [
       "<pre style=\"white-space:pre;overflow-x:auto;line-height:normal;font-family:Menlo,'DejaVu Sans Mono',consolas,'Courier New',monospace\">SJM <span style=\"color: #008080; text-decoration-color: #008080; font-weight: bold\">2020</span> ITEM <span style=\"color: #008080; text-decoration-color: #008080; font-weight: bold\">7</span> saved\n",
       "</pre>\n"
      ],
      "text/plain": [
       "SJM \u001b[1;36m2020\u001b[0m ITEM \u001b[1;36m7\u001b[0m saved\n"
      ]
     },
     "metadata": {},
     "output_type": "display_data"
    },
    {
     "data": {
      "text/html": [
       "<pre style=\"white-space:pre;overflow-x:auto;line-height:normal;font-family:Menlo,'DejaVu Sans Mono',consolas,'Courier New',monospace\">Extraction failed for company: index <span style=\"color: #008080; text-decoration-color: #008080; font-weight: bold\">0</span> is out of bounds for axis <span style=\"color: #008080; text-decoration-color: #008080; font-weight: bold\">0</span> with size <span style=\"color: #008080; text-decoration-color: #008080; font-weight: bold\">0</span>\n",
       "</pre>\n"
      ],
      "text/plain": [
       "Extraction failed for company: index \u001b[1;36m0\u001b[0m is out of bounds for axis \u001b[1;36m0\u001b[0m with size \u001b[1;36m0\u001b[0m\n"
      ]
     },
     "metadata": {},
     "output_type": "display_data"
    },
    {
     "data": {
      "text/html": [
       "<pre style=\"white-space:pre;overflow-x:auto;line-height:normal;font-family:Menlo,'DejaVu Sans Mono',consolas,'Courier New',monospace\"></pre>\n"
      ],
      "text/plain": []
     },
     "metadata": {},
     "output_type": "display_data"
    },
    {
     "data": {
      "text/html": [
       "<pre style=\"white-space:pre;overflow-x:auto;line-height:normal;font-family:Menlo,'DejaVu Sans Mono',consolas,'Courier New',monospace\">JCI <span style=\"color: #008080; text-decoration-color: #008080; font-weight: bold\">2020</span> ITEM <span style=\"color: #008080; text-decoration-color: #008080; font-weight: bold\">7</span> saved\n",
       "</pre>\n"
      ],
      "text/plain": [
       "JCI \u001b[1;36m2020\u001b[0m ITEM \u001b[1;36m7\u001b[0m saved\n"
      ]
     },
     "metadata": {},
     "output_type": "display_data"
    },
    {
     "data": {
      "text/html": [
       "<pre style=\"white-space:pre;overflow-x:auto;line-height:normal;font-family:Menlo,'DejaVu Sans Mono',consolas,'Courier New',monospace\"></pre>\n"
      ],
      "text/plain": []
     },
     "metadata": {},
     "output_type": "display_data"
    },
    {
     "data": {
      "text/html": [
       "<pre style=\"white-space:pre;overflow-x:auto;line-height:normal;font-family:Menlo,'DejaVu Sans Mono',consolas,'Courier New',monospace\">JPM <span style=\"color: #008080; text-decoration-color: #008080; font-weight: bold\">2020</span> ITEM <span style=\"color: #008080; text-decoration-color: #008080; font-weight: bold\">7</span> saved\n",
       "</pre>\n"
      ],
      "text/plain": [
       "JPM \u001b[1;36m2020\u001b[0m ITEM \u001b[1;36m7\u001b[0m saved\n"
      ]
     },
     "metadata": {},
     "output_type": "display_data"
    },
    {
     "data": {
      "text/html": [
       "<pre style=\"white-space:pre;overflow-x:auto;line-height:normal;font-family:Menlo,'DejaVu Sans Mono',consolas,'Courier New',monospace\"></pre>\n"
      ],
      "text/plain": []
     },
     "metadata": {},
     "output_type": "display_data"
    },
    {
     "data": {
      "text/html": [
       "<pre style=\"white-space:pre;overflow-x:auto;line-height:normal;font-family:Menlo,'DejaVu Sans Mono',consolas,'Courier New',monospace\">JNPR <span style=\"color: #008080; text-decoration-color: #008080; font-weight: bold\">2020</span> ITEM <span style=\"color: #008080; text-decoration-color: #008080; font-weight: bold\">7</span> saved\n",
       "</pre>\n"
      ],
      "text/plain": [
       "JNPR \u001b[1;36m2020\u001b[0m ITEM \u001b[1;36m7\u001b[0m saved\n"
      ]
     },
     "metadata": {},
     "output_type": "display_data"
    },
    {
     "data": {
      "text/html": [
       "<pre style=\"white-space:pre;overflow-x:auto;line-height:normal;font-family:Menlo,'DejaVu Sans Mono',consolas,'Courier New',monospace\">Extraction failed for company: <span style=\"color: #008000; text-decoration-color: #008000\">'NoneType'</span> object has no attribute <span style=\"color: #008000; text-decoration-color: #008000\">'get_filings'</span>\n",
       "</pre>\n"
      ],
      "text/plain": [
       "Extraction failed for company: \u001b[32m'NoneType'\u001b[0m object has no attribute \u001b[32m'get_filings'\u001b[0m\n"
      ]
     },
     "metadata": {},
     "output_type": "display_data"
    },
    {
     "data": {
      "text/html": [
       "<pre style=\"white-space:pre;overflow-x:auto;line-height:normal;font-family:Menlo,'DejaVu Sans Mono',consolas,'Courier New',monospace\">Extraction failed for company: index <span style=\"color: #008080; text-decoration-color: #008080; font-weight: bold\">0</span> is out of bounds for axis <span style=\"color: #008080; text-decoration-color: #008080; font-weight: bold\">0</span> with size <span style=\"color: #008080; text-decoration-color: #008080; font-weight: bold\">0</span>\n",
       "</pre>\n"
      ],
      "text/plain": [
       "Extraction failed for company: index \u001b[1;36m0\u001b[0m is out of bounds for axis \u001b[1;36m0\u001b[0m with size \u001b[1;36m0\u001b[0m\n"
      ]
     },
     "metadata": {},
     "output_type": "display_data"
    },
    {
     "data": {
      "text/html": [
       "<pre style=\"white-space:pre;overflow-x:auto;line-height:normal;font-family:Menlo,'DejaVu Sans Mono',consolas,'Courier New',monospace\"></pre>\n"
      ],
      "text/plain": []
     },
     "metadata": {},
     "output_type": "display_data"
    },
    {
     "data": {
      "text/html": [
       "<pre style=\"white-space:pre;overflow-x:auto;line-height:normal;font-family:Menlo,'DejaVu Sans Mono',consolas,'Courier New',monospace\">Extraction failed for company: Length mismatch: Expected axis has <span style=\"color: #008080; text-decoration-color: #008080; font-weight: bold\">0</span> elements, new values have <span style=\"color: #008080; text-decoration-color: #008080; font-weight: bold\">3</span> elements\n",
       "</pre>\n"
      ],
      "text/plain": [
       "Extraction failed for company: Length mismatch: Expected axis has \u001b[1;36m0\u001b[0m elements, new values have \u001b[1;36m3\u001b[0m elements\n"
      ]
     },
     "metadata": {},
     "output_type": "display_data"
    },
    {
     "data": {
      "text/html": [
       "<pre style=\"white-space:pre;overflow-x:auto;line-height:normal;font-family:Menlo,'DejaVu Sans Mono',consolas,'Courier New',monospace\"></pre>\n"
      ],
      "text/plain": []
     },
     "metadata": {},
     "output_type": "display_data"
    },
    {
     "data": {
      "text/html": [
       "<pre style=\"white-space:pre;overflow-x:auto;line-height:normal;font-family:Menlo,'DejaVu Sans Mono',consolas,'Courier New',monospace\">KEYS <span style=\"color: #008080; text-decoration-color: #008080; font-weight: bold\">2020</span> ITEM <span style=\"color: #008080; text-decoration-color: #008080; font-weight: bold\">7</span> saved\n",
       "</pre>\n"
      ],
      "text/plain": [
       "KEYS \u001b[1;36m2020\u001b[0m ITEM \u001b[1;36m7\u001b[0m saved\n"
      ]
     },
     "metadata": {},
     "output_type": "display_data"
    },
    {
     "data": {
      "text/html": [
       "<pre style=\"white-space:pre;overflow-x:auto;line-height:normal;font-family:Menlo,'DejaVu Sans Mono',consolas,'Courier New',monospace\"></pre>\n"
      ],
      "text/plain": []
     },
     "metadata": {},
     "output_type": "display_data"
    },
    {
     "data": {
      "text/html": [
       "<pre style=\"white-space:pre;overflow-x:auto;line-height:normal;font-family:Menlo,'DejaVu Sans Mono',consolas,'Courier New',monospace\">KMB <span style=\"color: #008080; text-decoration-color: #008080; font-weight: bold\">2020</span> ITEM <span style=\"color: #008080; text-decoration-color: #008080; font-weight: bold\">7</span> saved\n",
       "</pre>\n"
      ],
      "text/plain": [
       "KMB \u001b[1;36m2020\u001b[0m ITEM \u001b[1;36m7\u001b[0m saved\n"
      ]
     },
     "metadata": {},
     "output_type": "display_data"
    },
    {
     "data": {
      "text/html": [
       "<pre style=\"white-space:pre;overflow-x:auto;line-height:normal;font-family:Menlo,'DejaVu Sans Mono',consolas,'Courier New',monospace\"></pre>\n"
      ],
      "text/plain": []
     },
     "metadata": {},
     "output_type": "display_data"
    },
    {
     "data": {
      "text/html": [
       "<pre style=\"white-space:pre;overflow-x:auto;line-height:normal;font-family:Menlo,'DejaVu Sans Mono',consolas,'Courier New',monospace\">KIM <span style=\"color: #008080; text-decoration-color: #008080; font-weight: bold\">2020</span> ITEM <span style=\"color: #008080; text-decoration-color: #008080; font-weight: bold\">7</span> saved\n",
       "</pre>\n"
      ],
      "text/plain": [
       "KIM \u001b[1;36m2020\u001b[0m ITEM \u001b[1;36m7\u001b[0m saved\n"
      ]
     },
     "metadata": {},
     "output_type": "display_data"
    },
    {
     "data": {
      "text/html": [
       "<pre style=\"white-space:pre;overflow-x:auto;line-height:normal;font-family:Menlo,'DejaVu Sans Mono',consolas,'Courier New',monospace\"></pre>\n"
      ],
      "text/plain": []
     },
     "metadata": {},
     "output_type": "display_data"
    },
    {
     "data": {
      "text/html": [
       "<pre style=\"white-space:pre;overflow-x:auto;line-height:normal;font-family:Menlo,'DejaVu Sans Mono',consolas,'Courier New',monospace\">KMI <span style=\"color: #008080; text-decoration-color: #008080; font-weight: bold\">2020</span> ITEM <span style=\"color: #008080; text-decoration-color: #008080; font-weight: bold\">7</span> saved\n",
       "</pre>\n"
      ],
      "text/plain": [
       "KMI \u001b[1;36m2020\u001b[0m ITEM \u001b[1;36m7\u001b[0m saved\n"
      ]
     },
     "metadata": {},
     "output_type": "display_data"
    },
    {
     "data": {
      "text/html": [
       "<pre style=\"white-space:pre;overflow-x:auto;line-height:normal;font-family:Menlo,'DejaVu Sans Mono',consolas,'Courier New',monospace\"></pre>\n"
      ],
      "text/plain": []
     },
     "metadata": {},
     "output_type": "display_data"
    },
    {
     "data": {
      "text/html": [
       "<pre style=\"white-space:pre;overflow-x:auto;line-height:normal;font-family:Menlo,'DejaVu Sans Mono',consolas,'Courier New',monospace\">KLAC <span style=\"color: #008080; text-decoration-color: #008080; font-weight: bold\">2020</span> ITEM <span style=\"color: #008080; text-decoration-color: #008080; font-weight: bold\">7</span> saved\n",
       "</pre>\n"
      ],
      "text/plain": [
       "KLAC \u001b[1;36m2020\u001b[0m ITEM \u001b[1;36m7\u001b[0m saved\n"
      ]
     },
     "metadata": {},
     "output_type": "display_data"
    },
    {
     "data": {
      "text/html": [
       "<pre style=\"white-space:pre;overflow-x:auto;line-height:normal;font-family:Menlo,'DejaVu Sans Mono',consolas,'Courier New',monospace\"></pre>\n"
      ],
      "text/plain": []
     },
     "metadata": {},
     "output_type": "display_data"
    },
    {
     "data": {
      "text/html": [
       "<pre style=\"white-space:pre;overflow-x:auto;line-height:normal;font-family:Menlo,'DejaVu Sans Mono',consolas,'Courier New',monospace\">KHC <span style=\"color: #008080; text-decoration-color: #008080; font-weight: bold\">2020</span> ITEM <span style=\"color: #008080; text-decoration-color: #008080; font-weight: bold\">7</span> saved\n",
       "</pre>\n"
      ],
      "text/plain": [
       "KHC \u001b[1;36m2020\u001b[0m ITEM \u001b[1;36m7\u001b[0m saved\n"
      ]
     },
     "metadata": {},
     "output_type": "display_data"
    },
    {
     "data": {
      "text/html": [
       "<pre style=\"white-space:pre;overflow-x:auto;line-height:normal;font-family:Menlo,'DejaVu Sans Mono',consolas,'Courier New',monospace\"></pre>\n"
      ],
      "text/plain": []
     },
     "metadata": {},
     "output_type": "display_data"
    },
    {
     "data": {
      "text/html": [
       "<pre style=\"white-space:pre;overflow-x:auto;line-height:normal;font-family:Menlo,'DejaVu Sans Mono',consolas,'Courier New',monospace\">KR <span style=\"color: #008080; text-decoration-color: #008080; font-weight: bold\">2020</span> ITEM <span style=\"color: #008080; text-decoration-color: #008080; font-weight: bold\">7</span> saved\n",
       "</pre>\n"
      ],
      "text/plain": [
       "KR \u001b[1;36m2020\u001b[0m ITEM \u001b[1;36m7\u001b[0m saved\n"
      ]
     },
     "metadata": {},
     "output_type": "display_data"
    },
    {
     "data": {
      "text/html": [
       "<pre style=\"white-space:pre;overflow-x:auto;line-height:normal;font-family:Menlo,'DejaVu Sans Mono',consolas,'Courier New',monospace\">Extraction failed for company: index <span style=\"color: #008080; text-decoration-color: #008080; font-weight: bold\">0</span> is out of bounds for axis <span style=\"color: #008080; text-decoration-color: #008080; font-weight: bold\">0</span> with size <span style=\"color: #008080; text-decoration-color: #008080; font-weight: bold\">0</span>\n",
       "</pre>\n"
      ],
      "text/plain": [
       "Extraction failed for company: index \u001b[1;36m0\u001b[0m is out of bounds for axis \u001b[1;36m0\u001b[0m with size \u001b[1;36m0\u001b[0m\n"
      ]
     },
     "metadata": {},
     "output_type": "display_data"
    },
    {
     "data": {
      "text/html": [
       "<pre style=\"white-space:pre;overflow-x:auto;line-height:normal;font-family:Menlo,'DejaVu Sans Mono',consolas,'Courier New',monospace\"></pre>\n"
      ],
      "text/plain": []
     },
     "metadata": {},
     "output_type": "display_data"
    },
    {
     "data": {
      "text/html": [
       "<pre style=\"white-space:pre;overflow-x:auto;line-height:normal;font-family:Menlo,'DejaVu Sans Mono',consolas,'Courier New',monospace\">LH <span style=\"color: #008080; text-decoration-color: #008080; font-weight: bold\">2020</span> ITEM <span style=\"color: #008080; text-decoration-color: #008080; font-weight: bold\">7</span> saved\n",
       "</pre>\n"
      ],
      "text/plain": [
       "LH \u001b[1;36m2020\u001b[0m ITEM \u001b[1;36m7\u001b[0m saved\n"
      ]
     },
     "metadata": {},
     "output_type": "display_data"
    },
    {
     "data": {
      "text/html": [
       "<pre style=\"white-space:pre;overflow-x:auto;line-height:normal;font-family:Menlo,'DejaVu Sans Mono',consolas,'Courier New',monospace\"></pre>\n"
      ],
      "text/plain": []
     },
     "metadata": {},
     "output_type": "display_data"
    },
    {
     "data": {
      "text/html": [
       "<pre style=\"white-space:pre;overflow-x:auto;line-height:normal;font-family:Menlo,'DejaVu Sans Mono',consolas,'Courier New',monospace\"><span style=\"color: #7fbfbf; text-decoration-color: #7fbfbf\">[02:48:15] </span><span style=\"color: #800000; text-decoration-color: #800000\">WARNING </span> The read operation timed out, retrying in <span style=\"color: #008080; text-decoration-color: #008080; font-weight: bold\">3</span> seconds<span style=\"color: #808000; text-decoration-color: #808000\">...</span>                                <a href=\"file:///Users/yyy/Library/CloudStorage/OneDrive-Personal/MMA/INSY669/assignment/INSY-669-Group-Project/.venv/lib/python3.11/site-packages/retry/api.py\" target=\"_blank\"><span style=\"color: #7f7f7f; text-decoration-color: #7f7f7f\">api.py</span></a><span style=\"color: #7f7f7f; text-decoration-color: #7f7f7f\">:</span><a href=\"file:///Users/yyy/Library/CloudStorage/OneDrive-Personal/MMA/INSY669/assignment/INSY-669-Group-Project/.venv/lib/python3.11/site-packages/retry/api.py#40\" target=\"_blank\"><span style=\"color: #7f7f7f; text-decoration-color: #7f7f7f\">40</span></a>\n",
       "</pre>\n"
      ],
      "text/plain": [
       "\u001b[2;36m[02:48:15]\u001b[0m\u001b[2;36m \u001b[0m\u001b[31mWARNING \u001b[0m The read operation timed out, retrying in \u001b[1;36m3\u001b[0m seconds\u001b[33m...\u001b[0m                                \u001b]8;id=781417;file:///Users/yyy/Library/CloudStorage/OneDrive-Personal/MMA/INSY669/assignment/INSY-669-Group-Project/.venv/lib/python3.11/site-packages/retry/api.py\u001b\\\u001b[2mapi.py\u001b[0m\u001b]8;;\u001b\\\u001b[2m:\u001b[0m\u001b]8;id=496648;file:///Users/yyy/Library/CloudStorage/OneDrive-Personal/MMA/INSY669/assignment/INSY-669-Group-Project/.venv/lib/python3.11/site-packages/retry/api.py#40\u001b\\\u001b[2m40\u001b[0m\u001b]8;;\u001b\\\n"
      ]
     },
     "metadata": {},
     "output_type": "display_data"
    },
    {
     "data": {
      "text/html": [
       "<pre style=\"white-space:pre;overflow-x:auto;line-height:normal;font-family:Menlo,'DejaVu Sans Mono',consolas,'Courier New',monospace\">LRCX <span style=\"color: #008080; text-decoration-color: #008080; font-weight: bold\">2020</span> ITEM <span style=\"color: #008080; text-decoration-color: #008080; font-weight: bold\">7</span> saved\n",
       "</pre>\n"
      ],
      "text/plain": [
       "LRCX \u001b[1;36m2020\u001b[0m ITEM \u001b[1;36m7\u001b[0m saved\n"
      ]
     },
     "metadata": {},
     "output_type": "display_data"
    },
    {
     "data": {
      "text/html": [
       "<pre style=\"white-space:pre;overflow-x:auto;line-height:normal;font-family:Menlo,'DejaVu Sans Mono',consolas,'Courier New',monospace\"></pre>\n"
      ],
      "text/plain": []
     },
     "metadata": {},
     "output_type": "display_data"
    },
    {
     "data": {
      "text/html": [
       "<pre style=\"white-space:pre;overflow-x:auto;line-height:normal;font-family:Menlo,'DejaVu Sans Mono',consolas,'Courier New',monospace\">LW <span style=\"color: #008080; text-decoration-color: #008080; font-weight: bold\">2020</span> ITEM <span style=\"color: #008080; text-decoration-color: #008080; font-weight: bold\">7</span> saved\n",
       "</pre>\n"
      ],
      "text/plain": [
       "LW \u001b[1;36m2020\u001b[0m ITEM \u001b[1;36m7\u001b[0m saved\n"
      ]
     },
     "metadata": {},
     "output_type": "display_data"
    },
    {
     "data": {
      "text/html": [
       "<pre style=\"white-space:pre;overflow-x:auto;line-height:normal;font-family:Menlo,'DejaVu Sans Mono',consolas,'Courier New',monospace\"></pre>\n"
      ],
      "text/plain": []
     },
     "metadata": {},
     "output_type": "display_data"
    },
    {
     "data": {
      "text/html": [
       "<pre style=\"white-space:pre;overflow-x:auto;line-height:normal;font-family:Menlo,'DejaVu Sans Mono',consolas,'Courier New',monospace\">Extraction failed for company: Length mismatch: Expected axis has <span style=\"color: #008080; text-decoration-color: #008080; font-weight: bold\">0</span> elements, new values have <span style=\"color: #008080; text-decoration-color: #008080; font-weight: bold\">3</span> elements\n",
       "</pre>\n"
      ],
      "text/plain": [
       "Extraction failed for company: Length mismatch: Expected axis has \u001b[1;36m0\u001b[0m elements, new values have \u001b[1;36m3\u001b[0m elements\n"
      ]
     },
     "metadata": {},
     "output_type": "display_data"
    },
    {
     "data": {
      "text/html": [
       "<pre style=\"white-space:pre;overflow-x:auto;line-height:normal;font-family:Menlo,'DejaVu Sans Mono',consolas,'Courier New',monospace\"></pre>\n"
      ],
      "text/plain": []
     },
     "metadata": {},
     "output_type": "display_data"
    },
    {
     "data": {
      "text/html": [
       "<pre style=\"white-space:pre;overflow-x:auto;line-height:normal;font-family:Menlo,'DejaVu Sans Mono',consolas,'Courier New',monospace\">LEG <span style=\"color: #008080; text-decoration-color: #008080; font-weight: bold\">2020</span> ITEM <span style=\"color: #008080; text-decoration-color: #008080; font-weight: bold\">7</span> saved\n",
       "</pre>\n"
      ],
      "text/plain": [
       "LEG \u001b[1;36m2020\u001b[0m ITEM \u001b[1;36m7\u001b[0m saved\n"
      ]
     },
     "metadata": {},
     "output_type": "display_data"
    },
    {
     "data": {
      "text/html": [
       "<pre style=\"white-space:pre;overflow-x:auto;line-height:normal;font-family:Menlo,'DejaVu Sans Mono',consolas,'Courier New',monospace\"></pre>\n"
      ],
      "text/plain": []
     },
     "metadata": {},
     "output_type": "display_data"
    },
    {
     "data": {
      "text/html": [
       "<pre style=\"white-space:pre;overflow-x:auto;line-height:normal;font-family:Menlo,'DejaVu Sans Mono',consolas,'Courier New',monospace\">LDOS <span style=\"color: #008080; text-decoration-color: #008080; font-weight: bold\">2020</span> ITEM <span style=\"color: #008080; text-decoration-color: #008080; font-weight: bold\">7</span> saved\n",
       "</pre>\n"
      ],
      "text/plain": [
       "LDOS \u001b[1;36m2020\u001b[0m ITEM \u001b[1;36m7\u001b[0m saved\n"
      ]
     },
     "metadata": {},
     "output_type": "display_data"
    },
    {
     "data": {
      "text/html": [
       "<pre style=\"white-space:pre;overflow-x:auto;line-height:normal;font-family:Menlo,'DejaVu Sans Mono',consolas,'Courier New',monospace\"></pre>\n"
      ],
      "text/plain": []
     },
     "metadata": {},
     "output_type": "display_data"
    },
    {
     "data": {
      "text/html": [
       "<pre style=\"white-space:pre;overflow-x:auto;line-height:normal;font-family:Menlo,'DejaVu Sans Mono',consolas,'Courier New',monospace\">LEN <span style=\"color: #008080; text-decoration-color: #008080; font-weight: bold\">2020</span> ITEM <span style=\"color: #008080; text-decoration-color: #008080; font-weight: bold\">7</span> saved\n",
       "</pre>\n"
      ],
      "text/plain": [
       "LEN \u001b[1;36m2020\u001b[0m ITEM \u001b[1;36m7\u001b[0m saved\n"
      ]
     },
     "metadata": {},
     "output_type": "display_data"
    },
    {
     "data": {
      "text/html": [
       "<pre style=\"white-space:pre;overflow-x:auto;line-height:normal;font-family:Menlo,'DejaVu Sans Mono',consolas,'Courier New',monospace\"></pre>\n"
      ],
      "text/plain": []
     },
     "metadata": {},
     "output_type": "display_data"
    },
    {
     "data": {
      "text/html": [
       "<pre style=\"white-space:pre;overflow-x:auto;line-height:normal;font-family:Menlo,'DejaVu Sans Mono',consolas,'Courier New',monospace\">LNC <span style=\"color: #008080; text-decoration-color: #008080; font-weight: bold\">2020</span> ITEM <span style=\"color: #008080; text-decoration-color: #008080; font-weight: bold\">7</span> saved\n",
       "</pre>\n"
      ],
      "text/plain": [
       "LNC \u001b[1;36m2020\u001b[0m ITEM \u001b[1;36m7\u001b[0m saved\n"
      ]
     },
     "metadata": {},
     "output_type": "display_data"
    },
    {
     "data": {
      "text/html": [
       "<pre style=\"white-space:pre;overflow-x:auto;line-height:normal;font-family:Menlo,'DejaVu Sans Mono',consolas,'Courier New',monospace\"></pre>\n"
      ],
      "text/plain": []
     },
     "metadata": {},
     "output_type": "display_data"
    },
    {
     "data": {
      "text/html": [
       "<pre style=\"white-space:pre;overflow-x:auto;line-height:normal;font-family:Menlo,'DejaVu Sans Mono',consolas,'Courier New',monospace\">LIN <span style=\"color: #008080; text-decoration-color: #008080; font-weight: bold\">2020</span> ITEM <span style=\"color: #008080; text-decoration-color: #008080; font-weight: bold\">7</span> saved\n",
       "</pre>\n"
      ],
      "text/plain": [
       "LIN \u001b[1;36m2020\u001b[0m ITEM \u001b[1;36m7\u001b[0m saved\n"
      ]
     },
     "metadata": {},
     "output_type": "display_data"
    },
    {
     "data": {
      "text/html": [
       "<pre style=\"white-space:pre;overflow-x:auto;line-height:normal;font-family:Menlo,'DejaVu Sans Mono',consolas,'Courier New',monospace\"></pre>\n"
      ],
      "text/plain": []
     },
     "metadata": {},
     "output_type": "display_data"
    },
    {
     "data": {
      "text/html": [
       "<pre style=\"white-space:pre;overflow-x:auto;line-height:normal;font-family:Menlo,'DejaVu Sans Mono',consolas,'Courier New',monospace\">LYV <span style=\"color: #008080; text-decoration-color: #008080; font-weight: bold\">2020</span> ITEM <span style=\"color: #008080; text-decoration-color: #008080; font-weight: bold\">7</span> saved\n",
       "</pre>\n"
      ],
      "text/plain": [
       "LYV \u001b[1;36m2020\u001b[0m ITEM \u001b[1;36m7\u001b[0m saved\n"
      ]
     },
     "metadata": {},
     "output_type": "display_data"
    },
    {
     "data": {
      "text/html": [
       "<pre style=\"white-space:pre;overflow-x:auto;line-height:normal;font-family:Menlo,'DejaVu Sans Mono',consolas,'Courier New',monospace\"></pre>\n"
      ],
      "text/plain": []
     },
     "metadata": {},
     "output_type": "display_data"
    },
    {
     "data": {
      "text/html": [
       "<pre style=\"white-space:pre;overflow-x:auto;line-height:normal;font-family:Menlo,'DejaVu Sans Mono',consolas,'Courier New',monospace\">LKQ <span style=\"color: #008080; text-decoration-color: #008080; font-weight: bold\">2020</span> ITEM <span style=\"color: #008080; text-decoration-color: #008080; font-weight: bold\">7</span> saved\n",
       "</pre>\n"
      ],
      "text/plain": [
       "LKQ \u001b[1;36m2020\u001b[0m ITEM \u001b[1;36m7\u001b[0m saved\n"
      ]
     },
     "metadata": {},
     "output_type": "display_data"
    },
    {
     "data": {
      "text/html": [
       "<pre style=\"white-space:pre;overflow-x:auto;line-height:normal;font-family:Menlo,'DejaVu Sans Mono',consolas,'Courier New',monospace\"></pre>\n"
      ],
      "text/plain": []
     },
     "metadata": {},
     "output_type": "display_data"
    },
    {
     "data": {
      "text/html": [
       "<pre style=\"white-space:pre;overflow-x:auto;line-height:normal;font-family:Menlo,'DejaVu Sans Mono',consolas,'Courier New',monospace\">Extraction failed for company: Length mismatch: Expected axis has <span style=\"color: #008080; text-decoration-color: #008080; font-weight: bold\">0</span> elements, new values have <span style=\"color: #008080; text-decoration-color: #008080; font-weight: bold\">3</span> elements\n",
       "</pre>\n"
      ],
      "text/plain": [
       "Extraction failed for company: Length mismatch: Expected axis has \u001b[1;36m0\u001b[0m elements, new values have \u001b[1;36m3\u001b[0m elements\n"
      ]
     },
     "metadata": {},
     "output_type": "display_data"
    },
    {
     "data": {
      "text/html": [
       "<pre style=\"white-space:pre;overflow-x:auto;line-height:normal;font-family:Menlo,'DejaVu Sans Mono',consolas,'Courier New',monospace\"></pre>\n"
      ],
      "text/plain": []
     },
     "metadata": {},
     "output_type": "display_data"
    },
    {
     "data": {
      "text/html": [
       "<pre style=\"white-space:pre;overflow-x:auto;line-height:normal;font-family:Menlo,'DejaVu Sans Mono',consolas,'Courier New',monospace\">L <span style=\"color: #008080; text-decoration-color: #008080; font-weight: bold\">2020</span> ITEM <span style=\"color: #008080; text-decoration-color: #008080; font-weight: bold\">7</span> saved\n",
       "</pre>\n"
      ],
      "text/plain": [
       "L \u001b[1;36m2020\u001b[0m ITEM \u001b[1;36m7\u001b[0m saved\n"
      ]
     },
     "metadata": {},
     "output_type": "display_data"
    },
    {
     "data": {
      "text/html": [
       "<pre style=\"white-space:pre;overflow-x:auto;line-height:normal;font-family:Menlo,'DejaVu Sans Mono',consolas,'Courier New',monospace\"></pre>\n"
      ],
      "text/plain": []
     },
     "metadata": {},
     "output_type": "display_data"
    },
    {
     "data": {
      "text/html": [
       "<pre style=\"white-space:pre;overflow-x:auto;line-height:normal;font-family:Menlo,'DejaVu Sans Mono',consolas,'Courier New',monospace\">LOW <span style=\"color: #008080; text-decoration-color: #008080; font-weight: bold\">2020</span> ITEM <span style=\"color: #008080; text-decoration-color: #008080; font-weight: bold\">7</span> saved\n",
       "</pre>\n"
      ],
      "text/plain": [
       "LOW \u001b[1;36m2020\u001b[0m ITEM \u001b[1;36m7\u001b[0m saved\n"
      ]
     },
     "metadata": {},
     "output_type": "display_data"
    },
    {
     "data": {
      "text/html": [
       "<pre style=\"white-space:pre;overflow-x:auto;line-height:normal;font-family:Menlo,'DejaVu Sans Mono',consolas,'Courier New',monospace\"></pre>\n"
      ],
      "text/plain": []
     },
     "metadata": {},
     "output_type": "display_data"
    },
    {
     "data": {
      "text/html": [
       "<pre style=\"white-space:pre;overflow-x:auto;line-height:normal;font-family:Menlo,'DejaVu Sans Mono',consolas,'Courier New',monospace\">LUMN <span style=\"color: #008080; text-decoration-color: #008080; font-weight: bold\">2020</span> ITEM <span style=\"color: #008080; text-decoration-color: #008080; font-weight: bold\">7</span> saved\n",
       "</pre>\n"
      ],
      "text/plain": [
       "LUMN \u001b[1;36m2020\u001b[0m ITEM \u001b[1;36m7\u001b[0m saved\n"
      ]
     },
     "metadata": {},
     "output_type": "display_data"
    },
    {
     "data": {
      "text/html": [
       "<pre style=\"white-space:pre;overflow-x:auto;line-height:normal;font-family:Menlo,'DejaVu Sans Mono',consolas,'Courier New',monospace\"></pre>\n"
      ],
      "text/plain": []
     },
     "metadata": {},
     "output_type": "display_data"
    },
    {
     "data": {
      "text/html": [
       "<pre style=\"white-space:pre;overflow-x:auto;line-height:normal;font-family:Menlo,'DejaVu Sans Mono',consolas,'Courier New',monospace\">LYB <span style=\"color: #008080; text-decoration-color: #008080; font-weight: bold\">2020</span> ITEM <span style=\"color: #008080; text-decoration-color: #008080; font-weight: bold\">7</span> saved\n",
       "</pre>\n"
      ],
      "text/plain": [
       "LYB \u001b[1;36m2020\u001b[0m ITEM \u001b[1;36m7\u001b[0m saved\n"
      ]
     },
     "metadata": {},
     "output_type": "display_data"
    },
    {
     "data": {
      "text/html": [
       "<pre style=\"white-space:pre;overflow-x:auto;line-height:normal;font-family:Menlo,'DejaVu Sans Mono',consolas,'Courier New',monospace\"></pre>\n"
      ],
      "text/plain": []
     },
     "metadata": {},
     "output_type": "display_data"
    },
    {
     "data": {
      "text/html": [
       "<pre style=\"white-space:pre;overflow-x:auto;line-height:normal;font-family:Menlo,'DejaVu Sans Mono',consolas,'Courier New',monospace\">MTB <span style=\"color: #008080; text-decoration-color: #008080; font-weight: bold\">2020</span> ITEM <span style=\"color: #008080; text-decoration-color: #008080; font-weight: bold\">7</span> saved\n",
       "</pre>\n"
      ],
      "text/plain": [
       "MTB \u001b[1;36m2020\u001b[0m ITEM \u001b[1;36m7\u001b[0m saved\n"
      ]
     },
     "metadata": {},
     "output_type": "display_data"
    },
    {
     "data": {
      "text/html": [
       "<pre style=\"white-space:pre;overflow-x:auto;line-height:normal;font-family:Menlo,'DejaVu Sans Mono',consolas,'Courier New',monospace\"></pre>\n"
      ],
      "text/plain": []
     },
     "metadata": {},
     "output_type": "display_data"
    },
    {
     "data": {
      "text/html": [
       "<pre style=\"white-space:pre;overflow-x:auto;line-height:normal;font-family:Menlo,'DejaVu Sans Mono',consolas,'Courier New',monospace\">MRO <span style=\"color: #008080; text-decoration-color: #008080; font-weight: bold\">2020</span> ITEM <span style=\"color: #008080; text-decoration-color: #008080; font-weight: bold\">7</span> saved\n",
       "</pre>\n"
      ],
      "text/plain": [
       "MRO \u001b[1;36m2020\u001b[0m ITEM \u001b[1;36m7\u001b[0m saved\n"
      ]
     },
     "metadata": {},
     "output_type": "display_data"
    },
    {
     "data": {
      "text/html": [
       "<pre style=\"white-space:pre;overflow-x:auto;line-height:normal;font-family:Menlo,'DejaVu Sans Mono',consolas,'Courier New',monospace\"></pre>\n"
      ],
      "text/plain": []
     },
     "metadata": {},
     "output_type": "display_data"
    },
    {
     "data": {
      "text/html": [
       "<pre style=\"white-space:pre;overflow-x:auto;line-height:normal;font-family:Menlo,'DejaVu Sans Mono',consolas,'Courier New',monospace\">MPC <span style=\"color: #008080; text-decoration-color: #008080; font-weight: bold\">2020</span> ITEM <span style=\"color: #008080; text-decoration-color: #008080; font-weight: bold\">7</span> saved\n",
       "</pre>\n"
      ],
      "text/plain": [
       "MPC \u001b[1;36m2020\u001b[0m ITEM \u001b[1;36m7\u001b[0m saved\n"
      ]
     },
     "metadata": {},
     "output_type": "display_data"
    },
    {
     "data": {
      "text/html": [
       "<pre style=\"white-space:pre;overflow-x:auto;line-height:normal;font-family:Menlo,'DejaVu Sans Mono',consolas,'Courier New',monospace\"></pre>\n"
      ],
      "text/plain": []
     },
     "metadata": {},
     "output_type": "display_data"
    },
    {
     "data": {
      "text/html": [
       "<pre style=\"white-space:pre;overflow-x:auto;line-height:normal;font-family:Menlo,'DejaVu Sans Mono',consolas,'Courier New',monospace\">MKTX <span style=\"color: #008080; text-decoration-color: #008080; font-weight: bold\">2020</span> ITEM <span style=\"color: #008080; text-decoration-color: #008080; font-weight: bold\">7</span> saved\n",
       "</pre>\n"
      ],
      "text/plain": [
       "MKTX \u001b[1;36m2020\u001b[0m ITEM \u001b[1;36m7\u001b[0m saved\n"
      ]
     },
     "metadata": {},
     "output_type": "display_data"
    },
    {
     "data": {
      "text/html": [
       "<pre style=\"white-space:pre;overflow-x:auto;line-height:normal;font-family:Menlo,'DejaVu Sans Mono',consolas,'Courier New',monospace\"></pre>\n"
      ],
      "text/plain": []
     },
     "metadata": {},
     "output_type": "display_data"
    },
    {
     "data": {
      "text/html": [
       "<pre style=\"white-space:pre;overflow-x:auto;line-height:normal;font-family:Menlo,'DejaVu Sans Mono',consolas,'Courier New',monospace\">MAR <span style=\"color: #008080; text-decoration-color: #008080; font-weight: bold\">2020</span> ITEM <span style=\"color: #008080; text-decoration-color: #008080; font-weight: bold\">7</span> saved\n",
       "</pre>\n"
      ],
      "text/plain": [
       "MAR \u001b[1;36m2020\u001b[0m ITEM \u001b[1;36m7\u001b[0m saved\n"
      ]
     },
     "metadata": {},
     "output_type": "display_data"
    },
    {
     "data": {
      "text/html": [
       "<pre style=\"white-space:pre;overflow-x:auto;line-height:normal;font-family:Menlo,'DejaVu Sans Mono',consolas,'Courier New',monospace\"></pre>\n"
      ],
      "text/plain": []
     },
     "metadata": {},
     "output_type": "display_data"
    },
    {
     "data": {
      "text/html": [
       "<pre style=\"white-space:pre;overflow-x:auto;line-height:normal;font-family:Menlo,'DejaVu Sans Mono',consolas,'Courier New',monospace\">MMC <span style=\"color: #008080; text-decoration-color: #008080; font-weight: bold\">2020</span> ITEM <span style=\"color: #008080; text-decoration-color: #008080; font-weight: bold\">7</span> saved\n",
       "</pre>\n"
      ],
      "text/plain": [
       "MMC \u001b[1;36m2020\u001b[0m ITEM \u001b[1;36m7\u001b[0m saved\n"
      ]
     },
     "metadata": {},
     "output_type": "display_data"
    },
    {
     "data": {
      "text/html": [
       "<pre style=\"white-space:pre;overflow-x:auto;line-height:normal;font-family:Menlo,'DejaVu Sans Mono',consolas,'Courier New',monospace\"></pre>\n"
      ],
      "text/plain": []
     },
     "metadata": {},
     "output_type": "display_data"
    },
    {
     "data": {
      "text/html": [
       "<pre style=\"white-space:pre;overflow-x:auto;line-height:normal;font-family:Menlo,'DejaVu Sans Mono',consolas,'Courier New',monospace\">MLM <span style=\"color: #008080; text-decoration-color: #008080; font-weight: bold\">2020</span> ITEM <span style=\"color: #008080; text-decoration-color: #008080; font-weight: bold\">7</span> saved\n",
       "</pre>\n"
      ],
      "text/plain": [
       "MLM \u001b[1;36m2020\u001b[0m ITEM \u001b[1;36m7\u001b[0m saved\n"
      ]
     },
     "metadata": {},
     "output_type": "display_data"
    },
    {
     "data": {
      "text/html": [
       "<pre style=\"white-space:pre;overflow-x:auto;line-height:normal;font-family:Menlo,'DejaVu Sans Mono',consolas,'Courier New',monospace\"></pre>\n"
      ],
      "text/plain": []
     },
     "metadata": {},
     "output_type": "display_data"
    },
    {
     "data": {
      "text/html": [
       "<pre style=\"white-space:pre;overflow-x:auto;line-height:normal;font-family:Menlo,'DejaVu Sans Mono',consolas,'Courier New',monospace\">MAS <span style=\"color: #008080; text-decoration-color: #008080; font-weight: bold\">2020</span> ITEM <span style=\"color: #008080; text-decoration-color: #008080; font-weight: bold\">7</span> saved\n",
       "</pre>\n"
      ],
      "text/plain": [
       "MAS \u001b[1;36m2020\u001b[0m ITEM \u001b[1;36m7\u001b[0m saved\n"
      ]
     },
     "metadata": {},
     "output_type": "display_data"
    },
    {
     "data": {
      "text/html": [
       "<pre style=\"white-space:pre;overflow-x:auto;line-height:normal;font-family:Menlo,'DejaVu Sans Mono',consolas,'Courier New',monospace\"></pre>\n"
      ],
      "text/plain": []
     },
     "metadata": {},
     "output_type": "display_data"
    },
    {
     "data": {
      "text/html": [
       "<pre style=\"white-space:pre;overflow-x:auto;line-height:normal;font-family:Menlo,'DejaVu Sans Mono',consolas,'Courier New',monospace\">MA <span style=\"color: #008080; text-decoration-color: #008080; font-weight: bold\">2020</span> ITEM <span style=\"color: #008080; text-decoration-color: #008080; font-weight: bold\">7</span> saved\n",
       "</pre>\n"
      ],
      "text/plain": [
       "MA \u001b[1;36m2020\u001b[0m ITEM \u001b[1;36m7\u001b[0m saved\n"
      ]
     },
     "metadata": {},
     "output_type": "display_data"
    },
    {
     "data": {
      "text/html": [
       "<pre style=\"white-space:pre;overflow-x:auto;line-height:normal;font-family:Menlo,'DejaVu Sans Mono',consolas,'Courier New',monospace\"></pre>\n"
      ],
      "text/plain": []
     },
     "metadata": {},
     "output_type": "display_data"
    },
    {
     "data": {
      "text/html": [
       "<pre style=\"white-space:pre;overflow-x:auto;line-height:normal;font-family:Menlo,'DejaVu Sans Mono',consolas,'Courier New',monospace\">MTCH <span style=\"color: #008080; text-decoration-color: #008080; font-weight: bold\">2020</span> ITEM <span style=\"color: #008080; text-decoration-color: #008080; font-weight: bold\">7</span> saved\n",
       "</pre>\n"
      ],
      "text/plain": [
       "MTCH \u001b[1;36m2020\u001b[0m ITEM \u001b[1;36m7\u001b[0m saved\n"
      ]
     },
     "metadata": {},
     "output_type": "display_data"
    },
    {
     "data": {
      "text/html": [
       "<pre style=\"white-space:pre;overflow-x:auto;line-height:normal;font-family:Menlo,'DejaVu Sans Mono',consolas,'Courier New',monospace\"></pre>\n"
      ],
      "text/plain": []
     },
     "metadata": {},
     "output_type": "display_data"
    },
    {
     "data": {
      "text/html": [
       "<pre style=\"white-space:pre;overflow-x:auto;line-height:normal;font-family:Menlo,'DejaVu Sans Mono',consolas,'Courier New',monospace\">Extraction failed for company: Length mismatch: Expected axis has <span style=\"color: #008080; text-decoration-color: #008080; font-weight: bold\">0</span> elements, new values have <span style=\"color: #008080; text-decoration-color: #008080; font-weight: bold\">3</span> elements\n",
       "</pre>\n"
      ],
      "text/plain": [
       "Extraction failed for company: Length mismatch: Expected axis has \u001b[1;36m0\u001b[0m elements, new values have \u001b[1;36m3\u001b[0m elements\n"
      ]
     },
     "metadata": {},
     "output_type": "display_data"
    },
    {
     "data": {
      "text/html": [
       "<pre style=\"white-space:pre;overflow-x:auto;line-height:normal;font-family:Menlo,'DejaVu Sans Mono',consolas,'Courier New',monospace\"></pre>\n"
      ],
      "text/plain": []
     },
     "metadata": {},
     "output_type": "display_data"
    },
    {
     "data": {
      "text/html": [
       "<pre style=\"white-space:pre;overflow-x:auto;line-height:normal;font-family:Menlo,'DejaVu Sans Mono',consolas,'Courier New',monospace\">MCD <span style=\"color: #008080; text-decoration-color: #008080; font-weight: bold\">2020</span> ITEM <span style=\"color: #008080; text-decoration-color: #008080; font-weight: bold\">7</span> saved\n",
       "</pre>\n"
      ],
      "text/plain": [
       "MCD \u001b[1;36m2020\u001b[0m ITEM \u001b[1;36m7\u001b[0m saved\n"
      ]
     },
     "metadata": {},
     "output_type": "display_data"
    },
    {
     "data": {
      "text/html": [
       "<pre style=\"white-space:pre;overflow-x:auto;line-height:normal;font-family:Menlo,'DejaVu Sans Mono',consolas,'Courier New',monospace\"></pre>\n"
      ],
      "text/plain": []
     },
     "metadata": {},
     "output_type": "display_data"
    },
    {
     "data": {
      "text/html": [
       "<pre style=\"white-space:pre;overflow-x:auto;line-height:normal;font-family:Menlo,'DejaVu Sans Mono',consolas,'Courier New',monospace\">MCK <span style=\"color: #008080; text-decoration-color: #008080; font-weight: bold\">2020</span> ITEM <span style=\"color: #008080; text-decoration-color: #008080; font-weight: bold\">7</span> saved\n",
       "</pre>\n"
      ],
      "text/plain": [
       "MCK \u001b[1;36m2020\u001b[0m ITEM \u001b[1;36m7\u001b[0m saved\n"
      ]
     },
     "metadata": {},
     "output_type": "display_data"
    },
    {
     "data": {
      "text/html": [
       "<pre style=\"white-space:pre;overflow-x:auto;line-height:normal;font-family:Menlo,'DejaVu Sans Mono',consolas,'Courier New',monospace\"></pre>\n"
      ],
      "text/plain": []
     },
     "metadata": {},
     "output_type": "display_data"
    },
    {
     "data": {
      "text/html": [
       "<pre style=\"white-space:pre;overflow-x:auto;line-height:normal;font-family:Menlo,'DejaVu Sans Mono',consolas,'Courier New',monospace\">MDT <span style=\"color: #008080; text-decoration-color: #008080; font-weight: bold\">2020</span> ITEM <span style=\"color: #008080; text-decoration-color: #008080; font-weight: bold\">7</span> saved\n",
       "</pre>\n"
      ],
      "text/plain": [
       "MDT \u001b[1;36m2020\u001b[0m ITEM \u001b[1;36m7\u001b[0m saved\n"
      ]
     },
     "metadata": {},
     "output_type": "display_data"
    },
    {
     "data": {
      "text/html": [
       "<pre style=\"white-space:pre;overflow-x:auto;line-height:normal;font-family:Menlo,'DejaVu Sans Mono',consolas,'Courier New',monospace\"></pre>\n"
      ],
      "text/plain": []
     },
     "metadata": {},
     "output_type": "display_data"
    },
    {
     "data": {
      "text/html": [
       "<pre style=\"white-space:pre;overflow-x:auto;line-height:normal;font-family:Menlo,'DejaVu Sans Mono',consolas,'Courier New',monospace\">MRK <span style=\"color: #008080; text-decoration-color: #008080; font-weight: bold\">2020</span> ITEM <span style=\"color: #008080; text-decoration-color: #008080; font-weight: bold\">7</span> saved\n",
       "</pre>\n"
      ],
      "text/plain": [
       "MRK \u001b[1;36m2020\u001b[0m ITEM \u001b[1;36m7\u001b[0m saved\n"
      ]
     },
     "metadata": {},
     "output_type": "display_data"
    },
    {
     "data": {
      "text/html": [
       "<pre style=\"white-space:pre;overflow-x:auto;line-height:normal;font-family:Menlo,'DejaVu Sans Mono',consolas,'Courier New',monospace\"></pre>\n"
      ],
      "text/plain": []
     },
     "metadata": {},
     "output_type": "display_data"
    },
    {
     "data": {
      "text/html": [
       "<pre style=\"white-space:pre;overflow-x:auto;line-height:normal;font-family:Menlo,'DejaVu Sans Mono',consolas,'Courier New',monospace\">MET <span style=\"color: #008080; text-decoration-color: #008080; font-weight: bold\">2020</span> ITEM <span style=\"color: #008080; text-decoration-color: #008080; font-weight: bold\">7</span> saved\n",
       "</pre>\n"
      ],
      "text/plain": [
       "MET \u001b[1;36m2020\u001b[0m ITEM \u001b[1;36m7\u001b[0m saved\n"
      ]
     },
     "metadata": {},
     "output_type": "display_data"
    },
    {
     "data": {
      "text/html": [
       "<pre style=\"white-space:pre;overflow-x:auto;line-height:normal;font-family:Menlo,'DejaVu Sans Mono',consolas,'Courier New',monospace\"></pre>\n"
      ],
      "text/plain": []
     },
     "metadata": {},
     "output_type": "display_data"
    },
    {
     "data": {
      "text/html": [
       "<pre style=\"white-space:pre;overflow-x:auto;line-height:normal;font-family:Menlo,'DejaVu Sans Mono',consolas,'Courier New',monospace\">MTD <span style=\"color: #008080; text-decoration-color: #008080; font-weight: bold\">2020</span> ITEM <span style=\"color: #008080; text-decoration-color: #008080; font-weight: bold\">7</span> saved\n",
       "</pre>\n"
      ],
      "text/plain": [
       "MTD \u001b[1;36m2020\u001b[0m ITEM \u001b[1;36m7\u001b[0m saved\n"
      ]
     },
     "metadata": {},
     "output_type": "display_data"
    },
    {
     "data": {
      "text/html": [
       "<pre style=\"white-space:pre;overflow-x:auto;line-height:normal;font-family:Menlo,'DejaVu Sans Mono',consolas,'Courier New',monospace\"></pre>\n"
      ],
      "text/plain": []
     },
     "metadata": {},
     "output_type": "display_data"
    },
    {
     "data": {
      "text/html": [
       "<pre style=\"white-space:pre;overflow-x:auto;line-height:normal;font-family:Menlo,'DejaVu Sans Mono',consolas,'Courier New',monospace\">MGM <span style=\"color: #008080; text-decoration-color: #008080; font-weight: bold\">2020</span> ITEM <span style=\"color: #008080; text-decoration-color: #008080; font-weight: bold\">7</span> saved\n",
       "</pre>\n"
      ],
      "text/plain": [
       "MGM \u001b[1;36m2020\u001b[0m ITEM \u001b[1;36m7\u001b[0m saved\n"
      ]
     },
     "metadata": {},
     "output_type": "display_data"
    },
    {
     "data": {
      "text/html": [
       "<pre style=\"white-space:pre;overflow-x:auto;line-height:normal;font-family:Menlo,'DejaVu Sans Mono',consolas,'Courier New',monospace\"></pre>\n"
      ],
      "text/plain": []
     },
     "metadata": {},
     "output_type": "display_data"
    },
    {
     "data": {
      "text/html": [
       "<pre style=\"white-space:pre;overflow-x:auto;line-height:normal;font-family:Menlo,'DejaVu Sans Mono',consolas,'Courier New',monospace\">MCHP <span style=\"color: #008080; text-decoration-color: #008080; font-weight: bold\">2020</span> ITEM <span style=\"color: #008080; text-decoration-color: #008080; font-weight: bold\">7</span> saved\n",
       "</pre>\n"
      ],
      "text/plain": [
       "MCHP \u001b[1;36m2020\u001b[0m ITEM \u001b[1;36m7\u001b[0m saved\n"
      ]
     },
     "metadata": {},
     "output_type": "display_data"
    },
    {
     "data": {
      "text/html": [
       "<pre style=\"white-space:pre;overflow-x:auto;line-height:normal;font-family:Menlo,'DejaVu Sans Mono',consolas,'Courier New',monospace\"></pre>\n"
      ],
      "text/plain": []
     },
     "metadata": {},
     "output_type": "display_data"
    },
    {
     "data": {
      "text/html": [
       "<pre style=\"white-space:pre;overflow-x:auto;line-height:normal;font-family:Menlo,'DejaVu Sans Mono',consolas,'Courier New',monospace\">MU <span style=\"color: #008080; text-decoration-color: #008080; font-weight: bold\">2020</span> ITEM <span style=\"color: #008080; text-decoration-color: #008080; font-weight: bold\">7</span> saved\n",
       "</pre>\n"
      ],
      "text/plain": [
       "MU \u001b[1;36m2020\u001b[0m ITEM \u001b[1;36m7\u001b[0m saved\n"
      ]
     },
     "metadata": {},
     "output_type": "display_data"
    },
    {
     "data": {
      "text/html": [
       "<pre style=\"white-space:pre;overflow-x:auto;line-height:normal;font-family:Menlo,'DejaVu Sans Mono',consolas,'Courier New',monospace\"></pre>\n"
      ],
      "text/plain": []
     },
     "metadata": {},
     "output_type": "display_data"
    },
    {
     "data": {
      "text/html": [
       "<pre style=\"white-space:pre;overflow-x:auto;line-height:normal;font-family:Menlo,'DejaVu Sans Mono',consolas,'Courier New',monospace\">MSFT <span style=\"color: #008080; text-decoration-color: #008080; font-weight: bold\">2020</span> ITEM <span style=\"color: #008080; text-decoration-color: #008080; font-weight: bold\">7</span> saved\n",
       "</pre>\n"
      ],
      "text/plain": [
       "MSFT \u001b[1;36m2020\u001b[0m ITEM \u001b[1;36m7\u001b[0m saved\n"
      ]
     },
     "metadata": {},
     "output_type": "display_data"
    },
    {
     "data": {
      "text/html": [
       "<pre style=\"white-space:pre;overflow-x:auto;line-height:normal;font-family:Menlo,'DejaVu Sans Mono',consolas,'Courier New',monospace\"></pre>\n"
      ],
      "text/plain": []
     },
     "metadata": {},
     "output_type": "display_data"
    },
    {
     "data": {
      "text/html": [
       "<pre style=\"white-space:pre;overflow-x:auto;line-height:normal;font-family:Menlo,'DejaVu Sans Mono',consolas,'Courier New',monospace\">MAA <span style=\"color: #008080; text-decoration-color: #008080; font-weight: bold\">2020</span> ITEM <span style=\"color: #008080; text-decoration-color: #008080; font-weight: bold\">7</span> saved\n",
       "</pre>\n"
      ],
      "text/plain": [
       "MAA \u001b[1;36m2020\u001b[0m ITEM \u001b[1;36m7\u001b[0m saved\n"
      ]
     },
     "metadata": {},
     "output_type": "display_data"
    },
    {
     "data": {
      "text/html": [
       "<pre style=\"white-space:pre;overflow-x:auto;line-height:normal;font-family:Menlo,'DejaVu Sans Mono',consolas,'Courier New',monospace\"></pre>\n"
      ],
      "text/plain": []
     },
     "metadata": {},
     "output_type": "display_data"
    },
    {
     "data": {
      "text/html": [
       "<pre style=\"white-space:pre;overflow-x:auto;line-height:normal;font-family:Menlo,'DejaVu Sans Mono',consolas,'Courier New',monospace\">MRNA <span style=\"color: #008080; text-decoration-color: #008080; font-weight: bold\">2020</span> ITEM <span style=\"color: #008080; text-decoration-color: #008080; font-weight: bold\">7</span> saved\n",
       "</pre>\n"
      ],
      "text/plain": [
       "MRNA \u001b[1;36m2020\u001b[0m ITEM \u001b[1;36m7\u001b[0m saved\n"
      ]
     },
     "metadata": {},
     "output_type": "display_data"
    },
    {
     "data": {
      "text/html": [
       "<pre style=\"white-space:pre;overflow-x:auto;line-height:normal;font-family:Menlo,'DejaVu Sans Mono',consolas,'Courier New',monospace\"></pre>\n"
      ],
      "text/plain": []
     },
     "metadata": {},
     "output_type": "display_data"
    },
    {
     "data": {
      "text/html": [
       "<pre style=\"white-space:pre;overflow-x:auto;line-height:normal;font-family:Menlo,'DejaVu Sans Mono',consolas,'Courier New',monospace\">MHK <span style=\"color: #008080; text-decoration-color: #008080; font-weight: bold\">2020</span> ITEM <span style=\"color: #008080; text-decoration-color: #008080; font-weight: bold\">7</span> saved\n",
       "</pre>\n"
      ],
      "text/plain": [
       "MHK \u001b[1;36m2020\u001b[0m ITEM \u001b[1;36m7\u001b[0m saved\n"
      ]
     },
     "metadata": {},
     "output_type": "display_data"
    },
    {
     "data": {
      "text/html": [
       "<pre style=\"white-space:pre;overflow-x:auto;line-height:normal;font-family:Menlo,'DejaVu Sans Mono',consolas,'Courier New',monospace\"></pre>\n"
      ],
      "text/plain": []
     },
     "metadata": {},
     "output_type": "display_data"
    },
    {
     "data": {
      "text/html": [
       "<pre style=\"white-space:pre;overflow-x:auto;line-height:normal;font-family:Menlo,'DejaVu Sans Mono',consolas,'Courier New',monospace\">TAP <span style=\"color: #008080; text-decoration-color: #008080; font-weight: bold\">2020</span> ITEM <span style=\"color: #008080; text-decoration-color: #008080; font-weight: bold\">7</span> saved\n",
       "</pre>\n"
      ],
      "text/plain": [
       "TAP \u001b[1;36m2020\u001b[0m ITEM \u001b[1;36m7\u001b[0m saved\n"
      ]
     },
     "metadata": {},
     "output_type": "display_data"
    },
    {
     "data": {
      "text/html": [
       "<pre style=\"white-space:pre;overflow-x:auto;line-height:normal;font-family:Menlo,'DejaVu Sans Mono',consolas,'Courier New',monospace\"></pre>\n"
      ],
      "text/plain": []
     },
     "metadata": {},
     "output_type": "display_data"
    },
    {
     "data": {
      "text/html": [
       "<pre style=\"white-space:pre;overflow-x:auto;line-height:normal;font-family:Menlo,'DejaVu Sans Mono',consolas,'Courier New',monospace\">MDLZ <span style=\"color: #008080; text-decoration-color: #008080; font-weight: bold\">2020</span> ITEM <span style=\"color: #008080; text-decoration-color: #008080; font-weight: bold\">7</span> saved\n",
       "</pre>\n"
      ],
      "text/plain": [
       "MDLZ \u001b[1;36m2020\u001b[0m ITEM \u001b[1;36m7\u001b[0m saved\n"
      ]
     },
     "metadata": {},
     "output_type": "display_data"
    },
    {
     "data": {
      "text/html": [
       "<pre style=\"white-space:pre;overflow-x:auto;line-height:normal;font-family:Menlo,'DejaVu Sans Mono',consolas,'Courier New',monospace\"></pre>\n"
      ],
      "text/plain": []
     },
     "metadata": {},
     "output_type": "display_data"
    },
    {
     "data": {
      "text/html": [
       "<pre style=\"white-space:pre;overflow-x:auto;line-height:normal;font-family:Menlo,'DejaVu Sans Mono',consolas,'Courier New',monospace\">MPWR <span style=\"color: #008080; text-decoration-color: #008080; font-weight: bold\">2020</span> ITEM <span style=\"color: #008080; text-decoration-color: #008080; font-weight: bold\">7</span> saved\n",
       "</pre>\n"
      ],
      "text/plain": [
       "MPWR \u001b[1;36m2020\u001b[0m ITEM \u001b[1;36m7\u001b[0m saved\n"
      ]
     },
     "metadata": {},
     "output_type": "display_data"
    },
    {
     "data": {
      "text/html": [
       "<pre style=\"white-space:pre;overflow-x:auto;line-height:normal;font-family:Menlo,'DejaVu Sans Mono',consolas,'Courier New',monospace\"></pre>\n"
      ],
      "text/plain": []
     },
     "metadata": {},
     "output_type": "display_data"
    },
    {
     "data": {
      "text/html": [
       "<pre style=\"white-space:pre;overflow-x:auto;line-height:normal;font-family:Menlo,'DejaVu Sans Mono',consolas,'Courier New',monospace\">Extraction failed for company: Length mismatch: Expected axis has <span style=\"color: #008080; text-decoration-color: #008080; font-weight: bold\">0</span> elements, new values have <span style=\"color: #008080; text-decoration-color: #008080; font-weight: bold\">3</span> elements\n",
       "</pre>\n"
      ],
      "text/plain": [
       "Extraction failed for company: Length mismatch: Expected axis has \u001b[1;36m0\u001b[0m elements, new values have \u001b[1;36m3\u001b[0m elements\n"
      ]
     },
     "metadata": {},
     "output_type": "display_data"
    },
    {
     "data": {
      "text/html": [
       "<pre style=\"white-space:pre;overflow-x:auto;line-height:normal;font-family:Menlo,'DejaVu Sans Mono',consolas,'Courier New',monospace\"></pre>\n"
      ],
      "text/plain": []
     },
     "metadata": {},
     "output_type": "display_data"
    },
    {
     "data": {
      "text/html": [
       "<pre style=\"white-space:pre;overflow-x:auto;line-height:normal;font-family:Menlo,'DejaVu Sans Mono',consolas,'Courier New',monospace\">MCO <span style=\"color: #008080; text-decoration-color: #008080; font-weight: bold\">2020</span> ITEM <span style=\"color: #008080; text-decoration-color: #008080; font-weight: bold\">7</span> saved\n",
       "</pre>\n"
      ],
      "text/plain": [
       "MCO \u001b[1;36m2020\u001b[0m ITEM \u001b[1;36m7\u001b[0m saved\n"
      ]
     },
     "metadata": {},
     "output_type": "display_data"
    },
    {
     "data": {
      "text/html": [
       "<pre style=\"white-space:pre;overflow-x:auto;line-height:normal;font-family:Menlo,'DejaVu Sans Mono',consolas,'Courier New',monospace\"></pre>\n"
      ],
      "text/plain": []
     },
     "metadata": {},
     "output_type": "display_data"
    },
    {
     "data": {
      "text/html": [
       "<pre style=\"white-space:pre;overflow-x:auto;line-height:normal;font-family:Menlo,'DejaVu Sans Mono',consolas,'Courier New',monospace\">Extraction failed for company: Length mismatch: Expected axis has <span style=\"color: #008080; text-decoration-color: #008080; font-weight: bold\">0</span> elements, new values have <span style=\"color: #008080; text-decoration-color: #008080; font-weight: bold\">3</span> elements\n",
       "</pre>\n"
      ],
      "text/plain": [
       "Extraction failed for company: Length mismatch: Expected axis has \u001b[1;36m0\u001b[0m elements, new values have \u001b[1;36m3\u001b[0m elements\n"
      ]
     },
     "metadata": {},
     "output_type": "display_data"
    },
    {
     "data": {
      "text/html": [
       "<pre style=\"white-space:pre;overflow-x:auto;line-height:normal;font-family:Menlo,'DejaVu Sans Mono',consolas,'Courier New',monospace\"></pre>\n"
      ],
      "text/plain": []
     },
     "metadata": {},
     "output_type": "display_data"
    },
    {
     "data": {
      "text/html": [
       "<pre style=\"white-space:pre;overflow-x:auto;line-height:normal;font-family:Menlo,'DejaVu Sans Mono',consolas,'Courier New',monospace\">MSI <span style=\"color: #008080; text-decoration-color: #008080; font-weight: bold\">2020</span> ITEM <span style=\"color: #008080; text-decoration-color: #008080; font-weight: bold\">7</span> saved\n",
       "</pre>\n"
      ],
      "text/plain": [
       "MSI \u001b[1;36m2020\u001b[0m ITEM \u001b[1;36m7\u001b[0m saved\n"
      ]
     },
     "metadata": {},
     "output_type": "display_data"
    },
    {
     "data": {
      "text/html": [
       "<pre style=\"white-space:pre;overflow-x:auto;line-height:normal;font-family:Menlo,'DejaVu Sans Mono',consolas,'Courier New',monospace\"></pre>\n"
      ],
      "text/plain": []
     },
     "metadata": {},
     "output_type": "display_data"
    },
    {
     "data": {
      "text/html": [
       "<pre style=\"white-space:pre;overflow-x:auto;line-height:normal;font-family:Menlo,'DejaVu Sans Mono',consolas,'Courier New',monospace\">MSCI <span style=\"color: #008080; text-decoration-color: #008080; font-weight: bold\">2020</span> ITEM <span style=\"color: #008080; text-decoration-color: #008080; font-weight: bold\">7</span> saved\n",
       "</pre>\n"
      ],
      "text/plain": [
       "MSCI \u001b[1;36m2020\u001b[0m ITEM \u001b[1;36m7\u001b[0m saved\n"
      ]
     },
     "metadata": {},
     "output_type": "display_data"
    },
    {
     "data": {
      "text/html": [
       "<pre style=\"white-space:pre;overflow-x:auto;line-height:normal;font-family:Menlo,'DejaVu Sans Mono',consolas,'Courier New',monospace\"></pre>\n"
      ],
      "text/plain": []
     },
     "metadata": {},
     "output_type": "display_data"
    },
    {
     "data": {
      "text/html": [
       "<pre style=\"white-space:pre;overflow-x:auto;line-height:normal;font-family:Menlo,'DejaVu Sans Mono',consolas,'Courier New',monospace\">NDAQ <span style=\"color: #008080; text-decoration-color: #008080; font-weight: bold\">2020</span> ITEM <span style=\"color: #008080; text-decoration-color: #008080; font-weight: bold\">7</span> saved\n",
       "</pre>\n"
      ],
      "text/plain": [
       "NDAQ \u001b[1;36m2020\u001b[0m ITEM \u001b[1;36m7\u001b[0m saved\n"
      ]
     },
     "metadata": {},
     "output_type": "display_data"
    },
    {
     "data": {
      "text/html": [
       "<pre style=\"white-space:pre;overflow-x:auto;line-height:normal;font-family:Menlo,'DejaVu Sans Mono',consolas,'Courier New',monospace\"></pre>\n"
      ],
      "text/plain": []
     },
     "metadata": {},
     "output_type": "display_data"
    },
    {
     "data": {
      "text/html": [
       "<pre style=\"white-space:pre;overflow-x:auto;line-height:normal;font-family:Menlo,'DejaVu Sans Mono',consolas,'Courier New',monospace\">NTAP <span style=\"color: #008080; text-decoration-color: #008080; font-weight: bold\">2020</span> ITEM <span style=\"color: #008080; text-decoration-color: #008080; font-weight: bold\">7</span> saved\n",
       "</pre>\n"
      ],
      "text/plain": [
       "NTAP \u001b[1;36m2020\u001b[0m ITEM \u001b[1;36m7\u001b[0m saved\n"
      ]
     },
     "metadata": {},
     "output_type": "display_data"
    },
    {
     "data": {
      "text/html": [
       "<pre style=\"white-space:pre;overflow-x:auto;line-height:normal;font-family:Menlo,'DejaVu Sans Mono',consolas,'Courier New',monospace\"></pre>\n"
      ],
      "text/plain": []
     },
     "metadata": {},
     "output_type": "display_data"
    },
    {
     "data": {
      "text/html": [
       "<pre style=\"white-space:pre;overflow-x:auto;line-height:normal;font-family:Menlo,'DejaVu Sans Mono',consolas,'Courier New',monospace\">NFLX <span style=\"color: #008080; text-decoration-color: #008080; font-weight: bold\">2020</span> ITEM <span style=\"color: #008080; text-decoration-color: #008080; font-weight: bold\">7</span> saved\n",
       "</pre>\n"
      ],
      "text/plain": [
       "NFLX \u001b[1;36m2020\u001b[0m ITEM \u001b[1;36m7\u001b[0m saved\n"
      ]
     },
     "metadata": {},
     "output_type": "display_data"
    },
    {
     "data": {
      "text/html": [
       "<pre style=\"white-space:pre;overflow-x:auto;line-height:normal;font-family:Menlo,'DejaVu Sans Mono',consolas,'Courier New',monospace\"></pre>\n"
      ],
      "text/plain": []
     },
     "metadata": {},
     "output_type": "display_data"
    },
    {
     "data": {
      "text/html": [
       "<pre style=\"white-space:pre;overflow-x:auto;line-height:normal;font-family:Menlo,'DejaVu Sans Mono',consolas,'Courier New',monospace\">NWL <span style=\"color: #008080; text-decoration-color: #008080; font-weight: bold\">2020</span> ITEM <span style=\"color: #008080; text-decoration-color: #008080; font-weight: bold\">7</span> saved\n",
       "</pre>\n"
      ],
      "text/plain": [
       "NWL \u001b[1;36m2020\u001b[0m ITEM \u001b[1;36m7\u001b[0m saved\n"
      ]
     },
     "metadata": {},
     "output_type": "display_data"
    },
    {
     "data": {
      "text/html": [
       "<pre style=\"white-space:pre;overflow-x:auto;line-height:normal;font-family:Menlo,'DejaVu Sans Mono',consolas,'Courier New',monospace\"></pre>\n"
      ],
      "text/plain": []
     },
     "metadata": {},
     "output_type": "display_data"
    },
    {
     "data": {
      "text/html": [
       "<pre style=\"white-space:pre;overflow-x:auto;line-height:normal;font-family:Menlo,'DejaVu Sans Mono',consolas,'Courier New',monospace\">Extraction failed for company: Length mismatch: Expected axis has <span style=\"color: #008080; text-decoration-color: #008080; font-weight: bold\">0</span> elements, new values have <span style=\"color: #008080; text-decoration-color: #008080; font-weight: bold\">3</span> elements\n",
       "</pre>\n"
      ],
      "text/plain": [
       "Extraction failed for company: Length mismatch: Expected axis has \u001b[1;36m0\u001b[0m elements, new values have \u001b[1;36m3\u001b[0m elements\n"
      ]
     },
     "metadata": {},
     "output_type": "display_data"
    },
    {
     "data": {
      "text/html": [
       "<pre style=\"white-space:pre;overflow-x:auto;line-height:normal;font-family:Menlo,'DejaVu Sans Mono',consolas,'Courier New',monospace\"></pre>\n"
      ],
      "text/plain": []
     },
     "metadata": {},
     "output_type": "display_data"
    },
    {
     "data": {
      "text/html": [
       "<pre style=\"white-space:pre;overflow-x:auto;line-height:normal;font-family:Menlo,'DejaVu Sans Mono',consolas,'Courier New',monospace\">Extraction failed for company: Length mismatch: Expected axis has <span style=\"color: #008080; text-decoration-color: #008080; font-weight: bold\">0</span> elements, new values have <span style=\"color: #008080; text-decoration-color: #008080; font-weight: bold\">3</span> elements\n",
       "</pre>\n"
      ],
      "text/plain": [
       "Extraction failed for company: Length mismatch: Expected axis has \u001b[1;36m0\u001b[0m elements, new values have \u001b[1;36m3\u001b[0m elements\n"
      ]
     },
     "metadata": {},
     "output_type": "display_data"
    },
    {
     "data": {
      "text/html": [
       "<pre style=\"white-space:pre;overflow-x:auto;line-height:normal;font-family:Menlo,'DejaVu Sans Mono',consolas,'Courier New',monospace\">Extraction failed for company: Length mismatch: Expected axis has <span style=\"color: #008080; text-decoration-color: #008080; font-weight: bold\">0</span> elements, new values have <span style=\"color: #008080; text-decoration-color: #008080; font-weight: bold\">3</span> elements\n",
       "</pre>\n"
      ],
      "text/plain": [
       "Extraction failed for company: Length mismatch: Expected axis has \u001b[1;36m0\u001b[0m elements, new values have \u001b[1;36m3\u001b[0m elements\n"
      ]
     },
     "metadata": {},
     "output_type": "display_data"
    },
    {
     "data": {
      "text/html": [
       "<pre style=\"white-space:pre;overflow-x:auto;line-height:normal;font-family:Menlo,'DejaVu Sans Mono',consolas,'Courier New',monospace\"></pre>\n"
      ],
      "text/plain": []
     },
     "metadata": {},
     "output_type": "display_data"
    },
    {
     "data": {
      "text/html": [
       "<pre style=\"white-space:pre;overflow-x:auto;line-height:normal;font-family:Menlo,'DejaVu Sans Mono',consolas,'Courier New',monospace\">NEE <span style=\"color: #008080; text-decoration-color: #008080; font-weight: bold\">2020</span> ITEM <span style=\"color: #008080; text-decoration-color: #008080; font-weight: bold\">7</span> saved\n",
       "</pre>\n"
      ],
      "text/plain": [
       "NEE \u001b[1;36m2020\u001b[0m ITEM \u001b[1;36m7\u001b[0m saved\n"
      ]
     },
     "metadata": {},
     "output_type": "display_data"
    },
    {
     "data": {
      "text/html": [
       "<pre style=\"white-space:pre;overflow-x:auto;line-height:normal;font-family:Menlo,'DejaVu Sans Mono',consolas,'Courier New',monospace\">Extraction failed for company: <span style=\"color: #008000; text-decoration-color: #008000\">'NoneType'</span> object has no attribute <span style=\"color: #008000; text-decoration-color: #008000\">'get_filings'</span>\n",
       "</pre>\n"
      ],
      "text/plain": [
       "Extraction failed for company: \u001b[32m'NoneType'\u001b[0m object has no attribute \u001b[32m'get_filings'\u001b[0m\n"
      ]
     },
     "metadata": {},
     "output_type": "display_data"
    },
    {
     "data": {
      "text/html": [
       "<pre style=\"white-space:pre;overflow-x:auto;line-height:normal;font-family:Menlo,'DejaVu Sans Mono',consolas,'Courier New',monospace\"></pre>\n"
      ],
      "text/plain": []
     },
     "metadata": {},
     "output_type": "display_data"
    },
    {
     "data": {
      "text/html": [
       "<pre style=\"white-space:pre;overflow-x:auto;line-height:normal;font-family:Menlo,'DejaVu Sans Mono',consolas,'Courier New',monospace\">NKE <span style=\"color: #008080; text-decoration-color: #008080; font-weight: bold\">2020</span> ITEM <span style=\"color: #008080; text-decoration-color: #008080; font-weight: bold\">7</span> saved\n",
       "</pre>\n"
      ],
      "text/plain": [
       "NKE \u001b[1;36m2020\u001b[0m ITEM \u001b[1;36m7\u001b[0m saved\n"
      ]
     },
     "metadata": {},
     "output_type": "display_data"
    },
    {
     "data": {
      "text/html": [
       "<pre style=\"white-space:pre;overflow-x:auto;line-height:normal;font-family:Menlo,'DejaVu Sans Mono',consolas,'Courier New',monospace\"></pre>\n"
      ],
      "text/plain": []
     },
     "metadata": {},
     "output_type": "display_data"
    },
    {
     "data": {
      "text/html": [
       "<pre style=\"white-space:pre;overflow-x:auto;line-height:normal;font-family:Menlo,'DejaVu Sans Mono',consolas,'Courier New',monospace\">NI <span style=\"color: #008080; text-decoration-color: #008080; font-weight: bold\">2020</span> ITEM <span style=\"color: #008080; text-decoration-color: #008080; font-weight: bold\">7</span> saved\n",
       "</pre>\n"
      ],
      "text/plain": [
       "NI \u001b[1;36m2020\u001b[0m ITEM \u001b[1;36m7\u001b[0m saved\n"
      ]
     },
     "metadata": {},
     "output_type": "display_data"
    },
    {
     "data": {
      "text/html": [
       "<pre style=\"white-space:pre;overflow-x:auto;line-height:normal;font-family:Menlo,'DejaVu Sans Mono',consolas,'Courier New',monospace\"></pre>\n"
      ],
      "text/plain": []
     },
     "metadata": {},
     "output_type": "display_data"
    },
    {
     "data": {
      "text/html": [
       "<pre style=\"white-space:pre;overflow-x:auto;line-height:normal;font-family:Menlo,'DejaVu Sans Mono',consolas,'Courier New',monospace\">NSC <span style=\"color: #008080; text-decoration-color: #008080; font-weight: bold\">2020</span> ITEM <span style=\"color: #008080; text-decoration-color: #008080; font-weight: bold\">7</span> saved\n",
       "</pre>\n"
      ],
      "text/plain": [
       "NSC \u001b[1;36m2020\u001b[0m ITEM \u001b[1;36m7\u001b[0m saved\n"
      ]
     },
     "metadata": {},
     "output_type": "display_data"
    },
    {
     "data": {
      "text/html": [
       "<pre style=\"white-space:pre;overflow-x:auto;line-height:normal;font-family:Menlo,'DejaVu Sans Mono',consolas,'Courier New',monospace\"></pre>\n"
      ],
      "text/plain": []
     },
     "metadata": {},
     "output_type": "display_data"
    },
    {
     "data": {
      "text/html": [
       "<pre style=\"white-space:pre;overflow-x:auto;line-height:normal;font-family:Menlo,'DejaVu Sans Mono',consolas,'Courier New',monospace\">NTRS <span style=\"color: #008080; text-decoration-color: #008080; font-weight: bold\">2020</span> ITEM <span style=\"color: #008080; text-decoration-color: #008080; font-weight: bold\">7</span> saved\n",
       "</pre>\n"
      ],
      "text/plain": [
       "NTRS \u001b[1;36m2020\u001b[0m ITEM \u001b[1;36m7\u001b[0m saved\n"
      ]
     },
     "metadata": {},
     "output_type": "display_data"
    },
    {
     "data": {
      "text/html": [
       "<pre style=\"white-space:pre;overflow-x:auto;line-height:normal;font-family:Menlo,'DejaVu Sans Mono',consolas,'Courier New',monospace\"></pre>\n"
      ],
      "text/plain": []
     },
     "metadata": {},
     "output_type": "display_data"
    },
    {
     "data": {
      "text/html": [
       "<pre style=\"white-space:pre;overflow-x:auto;line-height:normal;font-family:Menlo,'DejaVu Sans Mono',consolas,'Courier New',monospace\">NOC <span style=\"color: #008080; text-decoration-color: #008080; font-weight: bold\">2020</span> ITEM <span style=\"color: #008080; text-decoration-color: #008080; font-weight: bold\">7</span> saved\n",
       "</pre>\n"
      ],
      "text/plain": [
       "NOC \u001b[1;36m2020\u001b[0m ITEM \u001b[1;36m7\u001b[0m saved\n"
      ]
     },
     "metadata": {},
     "output_type": "display_data"
    },
    {
     "data": {
      "text/html": [
       "<pre style=\"white-space:pre;overflow-x:auto;line-height:normal;font-family:Menlo,'DejaVu Sans Mono',consolas,'Courier New',monospace\">Extraction failed for company: <span style=\"color: #008000; text-decoration-color: #008000\">'NoneType'</span> object has no attribute <span style=\"color: #008000; text-decoration-color: #008000\">'get_filings'</span>\n",
       "</pre>\n"
      ],
      "text/plain": [
       "Extraction failed for company: \u001b[32m'NoneType'\u001b[0m object has no attribute \u001b[32m'get_filings'\u001b[0m\n"
      ]
     },
     "metadata": {},
     "output_type": "display_data"
    },
    {
     "data": {
      "text/html": [
       "<pre style=\"white-space:pre;overflow-x:auto;line-height:normal;font-family:Menlo,'DejaVu Sans Mono',consolas,'Courier New',monospace\"></pre>\n"
      ],
      "text/plain": []
     },
     "metadata": {},
     "output_type": "display_data"
    },
    {
     "data": {
      "text/html": [
       "<pre style=\"white-space:pre;overflow-x:auto;line-height:normal;font-family:Menlo,'DejaVu Sans Mono',consolas,'Courier New',monospace\">NCLH <span style=\"color: #008080; text-decoration-color: #008080; font-weight: bold\">2020</span> ITEM <span style=\"color: #008080; text-decoration-color: #008080; font-weight: bold\">7</span> saved\n",
       "</pre>\n"
      ],
      "text/plain": [
       "NCLH \u001b[1;36m2020\u001b[0m ITEM \u001b[1;36m7\u001b[0m saved\n"
      ]
     },
     "metadata": {},
     "output_type": "display_data"
    },
    {
     "data": {
      "text/html": [
       "<pre style=\"white-space:pre;overflow-x:auto;line-height:normal;font-family:Menlo,'DejaVu Sans Mono',consolas,'Courier New',monospace\"></pre>\n"
      ],
      "text/plain": []
     },
     "metadata": {},
     "output_type": "display_data"
    },
    {
     "data": {
      "text/html": [
       "<pre style=\"white-space:pre;overflow-x:auto;line-height:normal;font-family:Menlo,'DejaVu Sans Mono',consolas,'Courier New',monospace\">NRG <span style=\"color: #008080; text-decoration-color: #008080; font-weight: bold\">2020</span> ITEM <span style=\"color: #008080; text-decoration-color: #008080; font-weight: bold\">7</span> saved\n",
       "</pre>\n"
      ],
      "text/plain": [
       "NRG \u001b[1;36m2020\u001b[0m ITEM \u001b[1;36m7\u001b[0m saved\n"
      ]
     },
     "metadata": {},
     "output_type": "display_data"
    },
    {
     "data": {
      "text/html": [
       "<pre style=\"white-space:pre;overflow-x:auto;line-height:normal;font-family:Menlo,'DejaVu Sans Mono',consolas,'Courier New',monospace\"></pre>\n"
      ],
      "text/plain": []
     },
     "metadata": {},
     "output_type": "display_data"
    },
    {
     "data": {
      "text/html": [
       "<pre style=\"white-space:pre;overflow-x:auto;line-height:normal;font-family:Menlo,'DejaVu Sans Mono',consolas,'Courier New',monospace\">NUE <span style=\"color: #008080; text-decoration-color: #008080; font-weight: bold\">2020</span> ITEM <span style=\"color: #008080; text-decoration-color: #008080; font-weight: bold\">7</span> saved\n",
       "</pre>\n"
      ],
      "text/plain": [
       "NUE \u001b[1;36m2020\u001b[0m ITEM \u001b[1;36m7\u001b[0m saved\n"
      ]
     },
     "metadata": {},
     "output_type": "display_data"
    },
    {
     "data": {
      "text/html": [
       "<pre style=\"white-space:pre;overflow-x:auto;line-height:normal;font-family:Menlo,'DejaVu Sans Mono',consolas,'Courier New',monospace\"></pre>\n"
      ],
      "text/plain": []
     },
     "metadata": {},
     "output_type": "display_data"
    },
    {
     "data": {
      "text/html": [
       "<pre style=\"white-space:pre;overflow-x:auto;line-height:normal;font-family:Menlo,'DejaVu Sans Mono',consolas,'Courier New',monospace\">NVDA <span style=\"color: #008080; text-decoration-color: #008080; font-weight: bold\">2020</span> ITEM <span style=\"color: #008080; text-decoration-color: #008080; font-weight: bold\">7</span> saved\n",
       "</pre>\n"
      ],
      "text/plain": [
       "NVDA \u001b[1;36m2020\u001b[0m ITEM \u001b[1;36m7\u001b[0m saved\n"
      ]
     },
     "metadata": {},
     "output_type": "display_data"
    },
    {
     "data": {
      "text/html": [
       "<pre style=\"white-space:pre;overflow-x:auto;line-height:normal;font-family:Menlo,'DejaVu Sans Mono',consolas,'Courier New',monospace\"></pre>\n"
      ],
      "text/plain": []
     },
     "metadata": {},
     "output_type": "display_data"
    },
    {
     "data": {
      "text/html": [
       "<pre style=\"white-space:pre;overflow-x:auto;line-height:normal;font-family:Menlo,'DejaVu Sans Mono',consolas,'Courier New',monospace\">NVR <span style=\"color: #008080; text-decoration-color: #008080; font-weight: bold\">2020</span> ITEM <span style=\"color: #008080; text-decoration-color: #008080; font-weight: bold\">7</span> saved\n",
       "</pre>\n"
      ],
      "text/plain": [
       "NVR \u001b[1;36m2020\u001b[0m ITEM \u001b[1;36m7\u001b[0m saved\n"
      ]
     },
     "metadata": {},
     "output_type": "display_data"
    },
    {
     "data": {
      "text/html": [
       "<pre style=\"white-space:pre;overflow-x:auto;line-height:normal;font-family:Menlo,'DejaVu Sans Mono',consolas,'Courier New',monospace\"></pre>\n"
      ],
      "text/plain": []
     },
     "metadata": {},
     "output_type": "display_data"
    },
    {
     "data": {
      "text/html": [
       "<pre style=\"white-space:pre;overflow-x:auto;line-height:normal;font-family:Menlo,'DejaVu Sans Mono',consolas,'Courier New',monospace\">NXPI <span style=\"color: #008080; text-decoration-color: #008080; font-weight: bold\">2020</span> ITEM <span style=\"color: #008080; text-decoration-color: #008080; font-weight: bold\">7</span> saved\n",
       "</pre>\n"
      ],
      "text/plain": [
       "NXPI \u001b[1;36m2020\u001b[0m ITEM \u001b[1;36m7\u001b[0m saved\n"
      ]
     },
     "metadata": {},
     "output_type": "display_data"
    },
    {
     "data": {
      "text/html": [
       "<pre style=\"white-space:pre;overflow-x:auto;line-height:normal;font-family:Menlo,'DejaVu Sans Mono',consolas,'Courier New',monospace\"></pre>\n"
      ],
      "text/plain": []
     },
     "metadata": {},
     "output_type": "display_data"
    },
    {
     "data": {
      "text/html": [
       "<pre style=\"white-space:pre;overflow-x:auto;line-height:normal;font-family:Menlo,'DejaVu Sans Mono',consolas,'Courier New',monospace\">ORLY <span style=\"color: #008080; text-decoration-color: #008080; font-weight: bold\">2020</span> ITEM <span style=\"color: #008080; text-decoration-color: #008080; font-weight: bold\">7</span> saved\n",
       "</pre>\n"
      ],
      "text/plain": [
       "ORLY \u001b[1;36m2020\u001b[0m ITEM \u001b[1;36m7\u001b[0m saved\n"
      ]
     },
     "metadata": {},
     "output_type": "display_data"
    },
    {
     "data": {
      "text/html": [
       "<pre style=\"white-space:pre;overflow-x:auto;line-height:normal;font-family:Menlo,'DejaVu Sans Mono',consolas,'Courier New',monospace\"></pre>\n"
      ],
      "text/plain": []
     },
     "metadata": {},
     "output_type": "display_data"
    },
    {
     "data": {
      "text/html": [
       "<pre style=\"white-space:pre;overflow-x:auto;line-height:normal;font-family:Menlo,'DejaVu Sans Mono',consolas,'Courier New',monospace\">OXY <span style=\"color: #008080; text-decoration-color: #008080; font-weight: bold\">2020</span> ITEM <span style=\"color: #008080; text-decoration-color: #008080; font-weight: bold\">7</span> saved\n",
       "</pre>\n"
      ],
      "text/plain": [
       "OXY \u001b[1;36m2020\u001b[0m ITEM \u001b[1;36m7\u001b[0m saved\n"
      ]
     },
     "metadata": {},
     "output_type": "display_data"
    },
    {
     "data": {
      "text/html": [
       "<pre style=\"white-space:pre;overflow-x:auto;line-height:normal;font-family:Menlo,'DejaVu Sans Mono',consolas,'Courier New',monospace\"></pre>\n"
      ],
      "text/plain": []
     },
     "metadata": {},
     "output_type": "display_data"
    },
    {
     "data": {
      "text/html": [
       "<pre style=\"white-space:pre;overflow-x:auto;line-height:normal;font-family:Menlo,'DejaVu Sans Mono',consolas,'Courier New',monospace\">ODFL <span style=\"color: #008080; text-decoration-color: #008080; font-weight: bold\">2020</span> ITEM <span style=\"color: #008080; text-decoration-color: #008080; font-weight: bold\">7</span> saved\n",
       "</pre>\n"
      ],
      "text/plain": [
       "ODFL \u001b[1;36m2020\u001b[0m ITEM \u001b[1;36m7\u001b[0m saved\n"
      ]
     },
     "metadata": {},
     "output_type": "display_data"
    },
    {
     "data": {
      "text/html": [
       "<pre style=\"white-space:pre;overflow-x:auto;line-height:normal;font-family:Menlo,'DejaVu Sans Mono',consolas,'Courier New',monospace\"></pre>\n"
      ],
      "text/plain": []
     },
     "metadata": {},
     "output_type": "display_data"
    },
    {
     "data": {
      "text/html": [
       "<pre style=\"white-space:pre;overflow-x:auto;line-height:normal;font-family:Menlo,'DejaVu Sans Mono',consolas,'Courier New',monospace\">OMC <span style=\"color: #008080; text-decoration-color: #008080; font-weight: bold\">2020</span> ITEM <span style=\"color: #008080; text-decoration-color: #008080; font-weight: bold\">7</span> saved\n",
       "</pre>\n"
      ],
      "text/plain": [
       "OMC \u001b[1;36m2020\u001b[0m ITEM \u001b[1;36m7\u001b[0m saved\n"
      ]
     },
     "metadata": {},
     "output_type": "display_data"
    },
    {
     "data": {
      "text/html": [
       "<pre style=\"white-space:pre;overflow-x:auto;line-height:normal;font-family:Menlo,'DejaVu Sans Mono',consolas,'Courier New',monospace\"></pre>\n"
      ],
      "text/plain": []
     },
     "metadata": {},
     "output_type": "display_data"
    },
    {
     "data": {
      "text/html": [
       "<pre style=\"white-space:pre;overflow-x:auto;line-height:normal;font-family:Menlo,'DejaVu Sans Mono',consolas,'Courier New',monospace\">OKE <span style=\"color: #008080; text-decoration-color: #008080; font-weight: bold\">2020</span> ITEM <span style=\"color: #008080; text-decoration-color: #008080; font-weight: bold\">7</span> saved\n",
       "</pre>\n"
      ],
      "text/plain": [
       "OKE \u001b[1;36m2020\u001b[0m ITEM \u001b[1;36m7\u001b[0m saved\n"
      ]
     },
     "metadata": {},
     "output_type": "display_data"
    },
    {
     "data": {
      "text/html": [
       "<pre style=\"white-space:pre;overflow-x:auto;line-height:normal;font-family:Menlo,'DejaVu Sans Mono',consolas,'Courier New',monospace\"></pre>\n"
      ],
      "text/plain": []
     },
     "metadata": {},
     "output_type": "display_data"
    },
    {
     "data": {
      "text/html": [
       "<pre style=\"white-space:pre;overflow-x:auto;line-height:normal;font-family:Menlo,'DejaVu Sans Mono',consolas,'Courier New',monospace\">ORCL <span style=\"color: #008080; text-decoration-color: #008080; font-weight: bold\">2020</span> ITEM <span style=\"color: #008080; text-decoration-color: #008080; font-weight: bold\">7</span> saved\n",
       "</pre>\n"
      ],
      "text/plain": [
       "ORCL \u001b[1;36m2020\u001b[0m ITEM \u001b[1;36m7\u001b[0m saved\n"
      ]
     },
     "metadata": {},
     "output_type": "display_data"
    },
    {
     "data": {
      "text/html": [
       "<pre style=\"white-space:pre;overflow-x:auto;line-height:normal;font-family:Menlo,'DejaVu Sans Mono',consolas,'Courier New',monospace\">Extraction failed for company: index <span style=\"color: #008080; text-decoration-color: #008080; font-weight: bold\">0</span> is out of bounds for axis <span style=\"color: #008080; text-decoration-color: #008080; font-weight: bold\">0</span> with size <span style=\"color: #008080; text-decoration-color: #008080; font-weight: bold\">0</span>\n",
       "</pre>\n"
      ],
      "text/plain": [
       "Extraction failed for company: index \u001b[1;36m0\u001b[0m is out of bounds for axis \u001b[1;36m0\u001b[0m with size \u001b[1;36m0\u001b[0m\n"
      ]
     },
     "metadata": {},
     "output_type": "display_data"
    },
    {
     "data": {
      "text/html": [
       "<pre style=\"white-space:pre;overflow-x:auto;line-height:normal;font-family:Menlo,'DejaVu Sans Mono',consolas,'Courier New',monospace\"></pre>\n"
      ],
      "text/plain": []
     },
     "metadata": {},
     "output_type": "display_data"
    },
    {
     "data": {
      "text/html": [
       "<pre style=\"white-space:pre;overflow-x:auto;line-height:normal;font-family:Menlo,'DejaVu Sans Mono',consolas,'Courier New',monospace\">OTIS <span style=\"color: #008080; text-decoration-color: #008080; font-weight: bold\">2020</span> ITEM <span style=\"color: #008080; text-decoration-color: #008080; font-weight: bold\">7</span> saved\n",
       "</pre>\n"
      ],
      "text/plain": [
       "OTIS \u001b[1;36m2020\u001b[0m ITEM \u001b[1;36m7\u001b[0m saved\n"
      ]
     },
     "metadata": {},
     "output_type": "display_data"
    },
    {
     "data": {
      "text/html": [
       "<pre style=\"white-space:pre;overflow-x:auto;line-height:normal;font-family:Menlo,'DejaVu Sans Mono',consolas,'Courier New',monospace\"></pre>\n"
      ],
      "text/plain": []
     },
     "metadata": {},
     "output_type": "display_data"
    },
    {
     "data": {
      "text/html": [
       "<pre style=\"white-space:pre;overflow-x:auto;line-height:normal;font-family:Menlo,'DejaVu Sans Mono',consolas,'Courier New',monospace\">PCAR <span style=\"color: #008080; text-decoration-color: #008080; font-weight: bold\">2020</span> ITEM <span style=\"color: #008080; text-decoration-color: #008080; font-weight: bold\">7</span> saved\n",
       "</pre>\n"
      ],
      "text/plain": [
       "PCAR \u001b[1;36m2020\u001b[0m ITEM \u001b[1;36m7\u001b[0m saved\n"
      ]
     },
     "metadata": {},
     "output_type": "display_data"
    },
    {
     "data": {
      "text/html": [
       "<pre style=\"white-space:pre;overflow-x:auto;line-height:normal;font-family:Menlo,'DejaVu Sans Mono',consolas,'Courier New',monospace\"></pre>\n"
      ],
      "text/plain": []
     },
     "metadata": {},
     "output_type": "display_data"
    },
    {
     "data": {
      "text/html": [
       "<pre style=\"white-space:pre;overflow-x:auto;line-height:normal;font-family:Menlo,'DejaVu Sans Mono',consolas,'Courier New',monospace\">PKG <span style=\"color: #008080; text-decoration-color: #008080; font-weight: bold\">2020</span> ITEM <span style=\"color: #008080; text-decoration-color: #008080; font-weight: bold\">7</span> saved\n",
       "</pre>\n"
      ],
      "text/plain": [
       "PKG \u001b[1;36m2020\u001b[0m ITEM \u001b[1;36m7\u001b[0m saved\n"
      ]
     },
     "metadata": {},
     "output_type": "display_data"
    },
    {
     "data": {
      "text/html": [
       "<pre style=\"white-space:pre;overflow-x:auto;line-height:normal;font-family:Menlo,'DejaVu Sans Mono',consolas,'Courier New',monospace\"></pre>\n"
      ],
      "text/plain": []
     },
     "metadata": {},
     "output_type": "display_data"
    },
    {
     "data": {
      "text/html": [
       "<pre style=\"white-space:pre;overflow-x:auto;line-height:normal;font-family:Menlo,'DejaVu Sans Mono',consolas,'Courier New',monospace\">PH <span style=\"color: #008080; text-decoration-color: #008080; font-weight: bold\">2020</span> ITEM <span style=\"color: #008080; text-decoration-color: #008080; font-weight: bold\">7</span> saved\n",
       "</pre>\n"
      ],
      "text/plain": [
       "PH \u001b[1;36m2020\u001b[0m ITEM \u001b[1;36m7\u001b[0m saved\n"
      ]
     },
     "metadata": {},
     "output_type": "display_data"
    },
    {
     "data": {
      "text/html": [
       "<pre style=\"white-space:pre;overflow-x:auto;line-height:normal;font-family:Menlo,'DejaVu Sans Mono',consolas,'Courier New',monospace\"></pre>\n"
      ],
      "text/plain": []
     },
     "metadata": {},
     "output_type": "display_data"
    },
    {
     "data": {
      "text/html": [
       "<pre style=\"white-space:pre;overflow-x:auto;line-height:normal;font-family:Menlo,'DejaVu Sans Mono',consolas,'Courier New',monospace\">PAYX <span style=\"color: #008080; text-decoration-color: #008080; font-weight: bold\">2020</span> ITEM <span style=\"color: #008080; text-decoration-color: #008080; font-weight: bold\">7</span> saved\n",
       "</pre>\n"
      ],
      "text/plain": [
       "PAYX \u001b[1;36m2020\u001b[0m ITEM \u001b[1;36m7\u001b[0m saved\n"
      ]
     },
     "metadata": {},
     "output_type": "display_data"
    },
    {
     "data": {
      "text/html": [
       "<pre style=\"white-space:pre;overflow-x:auto;line-height:normal;font-family:Menlo,'DejaVu Sans Mono',consolas,'Courier New',monospace\"></pre>\n"
      ],
      "text/plain": []
     },
     "metadata": {},
     "output_type": "display_data"
    },
    {
     "data": {
      "text/html": [
       "<pre style=\"white-space:pre;overflow-x:auto;line-height:normal;font-family:Menlo,'DejaVu Sans Mono',consolas,'Courier New',monospace\">PAYC <span style=\"color: #008080; text-decoration-color: #008080; font-weight: bold\">2020</span> ITEM <span style=\"color: #008080; text-decoration-color: #008080; font-weight: bold\">7</span> saved\n",
       "</pre>\n"
      ],
      "text/plain": [
       "PAYC \u001b[1;36m2020\u001b[0m ITEM \u001b[1;36m7\u001b[0m saved\n"
      ]
     },
     "metadata": {},
     "output_type": "display_data"
    },
    {
     "data": {
      "text/html": [
       "<pre style=\"white-space:pre;overflow-x:auto;line-height:normal;font-family:Menlo,'DejaVu Sans Mono',consolas,'Courier New',monospace\"></pre>\n"
      ],
      "text/plain": []
     },
     "metadata": {},
     "output_type": "display_data"
    },
    {
     "data": {
      "text/html": [
       "<pre style=\"white-space:pre;overflow-x:auto;line-height:normal;font-family:Menlo,'DejaVu Sans Mono',consolas,'Courier New',monospace\">PYPL <span style=\"color: #008080; text-decoration-color: #008080; font-weight: bold\">2020</span> ITEM <span style=\"color: #008080; text-decoration-color: #008080; font-weight: bold\">7</span> saved\n",
       "</pre>\n"
      ],
      "text/plain": [
       "PYPL \u001b[1;36m2020\u001b[0m ITEM \u001b[1;36m7\u001b[0m saved\n"
      ]
     },
     "metadata": {},
     "output_type": "display_data"
    },
    {
     "data": {
      "text/html": [
       "<pre style=\"white-space:pre;overflow-x:auto;line-height:normal;font-family:Menlo,'DejaVu Sans Mono',consolas,'Courier New',monospace\"></pre>\n"
      ],
      "text/plain": []
     },
     "metadata": {},
     "output_type": "display_data"
    },
    {
     "data": {
      "text/html": [
       "<pre style=\"white-space:pre;overflow-x:auto;line-height:normal;font-family:Menlo,'DejaVu Sans Mono',consolas,'Courier New',monospace\">PENN <span style=\"color: #008080; text-decoration-color: #008080; font-weight: bold\">2020</span> ITEM <span style=\"color: #008080; text-decoration-color: #008080; font-weight: bold\">7</span> saved\n",
       "</pre>\n"
      ],
      "text/plain": [
       "PENN \u001b[1;36m2020\u001b[0m ITEM \u001b[1;36m7\u001b[0m saved\n"
      ]
     },
     "metadata": {},
     "output_type": "display_data"
    },
    {
     "data": {
      "text/html": [
       "<pre style=\"white-space:pre;overflow-x:auto;line-height:normal;font-family:Menlo,'DejaVu Sans Mono',consolas,'Courier New',monospace\"></pre>\n"
      ],
      "text/plain": []
     },
     "metadata": {},
     "output_type": "display_data"
    },
    {
     "data": {
      "text/html": [
       "<pre style=\"white-space:pre;overflow-x:auto;line-height:normal;font-family:Menlo,'DejaVu Sans Mono',consolas,'Courier New',monospace\">PNR <span style=\"color: #008080; text-decoration-color: #008080; font-weight: bold\">2020</span> ITEM <span style=\"color: #008080; text-decoration-color: #008080; font-weight: bold\">7</span> saved\n",
       "</pre>\n"
      ],
      "text/plain": [
       "PNR \u001b[1;36m2020\u001b[0m ITEM \u001b[1;36m7\u001b[0m saved\n"
      ]
     },
     "metadata": {},
     "output_type": "display_data"
    },
    {
     "data": {
      "text/html": [
       "<pre style=\"white-space:pre;overflow-x:auto;line-height:normal;font-family:Menlo,'DejaVu Sans Mono',consolas,'Courier New',monospace\">Extraction failed for company: <span style=\"color: #008000; text-decoration-color: #008000\">'NoneType'</span> object has no attribute <span style=\"color: #008000; text-decoration-color: #008000\">'get_filings'</span>\n",
       "</pre>\n"
      ],
      "text/plain": [
       "Extraction failed for company: \u001b[32m'NoneType'\u001b[0m object has no attribute \u001b[32m'get_filings'\u001b[0m\n"
      ]
     },
     "metadata": {},
     "output_type": "display_data"
    },
    {
     "data": {
      "text/html": [
       "<pre style=\"white-space:pre;overflow-x:auto;line-height:normal;font-family:Menlo,'DejaVu Sans Mono',consolas,'Courier New',monospace\"></pre>\n"
      ],
      "text/plain": []
     },
     "metadata": {},
     "output_type": "display_data"
    },
    {
     "data": {
      "text/html": [
       "<pre style=\"white-space:pre;overflow-x:auto;line-height:normal;font-family:Menlo,'DejaVu Sans Mono',consolas,'Courier New',monospace\">PEP <span style=\"color: #008080; text-decoration-color: #008080; font-weight: bold\">2020</span> ITEM <span style=\"color: #008080; text-decoration-color: #008080; font-weight: bold\">7</span> saved\n",
       "</pre>\n"
      ],
      "text/plain": [
       "PEP \u001b[1;36m2020\u001b[0m ITEM \u001b[1;36m7\u001b[0m saved\n"
      ]
     },
     "metadata": {},
     "output_type": "display_data"
    },
    {
     "data": {
      "text/html": [
       "<pre style=\"white-space:pre;overflow-x:auto;line-height:normal;font-family:Menlo,'DejaVu Sans Mono',consolas,'Courier New',monospace\">Extraction failed for company: <span style=\"color: #008000; text-decoration-color: #008000\">'NoneType'</span> object has no attribute <span style=\"color: #008000; text-decoration-color: #008000\">'get_filings'</span>\n",
       "</pre>\n"
      ],
      "text/plain": [
       "Extraction failed for company: \u001b[32m'NoneType'\u001b[0m object has no attribute \u001b[32m'get_filings'\u001b[0m\n"
      ]
     },
     "metadata": {},
     "output_type": "display_data"
    },
    {
     "data": {
      "text/html": [
       "<pre style=\"white-space:pre;overflow-x:auto;line-height:normal;font-family:Menlo,'DejaVu Sans Mono',consolas,'Courier New',monospace\"></pre>\n"
      ],
      "text/plain": []
     },
     "metadata": {},
     "output_type": "display_data"
    },
    {
     "data": {
      "text/html": [
       "<pre style=\"white-space:pre;overflow-x:auto;line-height:normal;font-family:Menlo,'DejaVu Sans Mono',consolas,'Courier New',monospace\">Extraction failed for company: Length mismatch: Expected axis has <span style=\"color: #008080; text-decoration-color: #008080; font-weight: bold\">0</span> elements, new values have <span style=\"color: #008080; text-decoration-color: #008080; font-weight: bold\">3</span> elements\n",
       "</pre>\n"
      ],
      "text/plain": [
       "Extraction failed for company: Length mismatch: Expected axis has \u001b[1;36m0\u001b[0m elements, new values have \u001b[1;36m3\u001b[0m elements\n"
      ]
     },
     "metadata": {},
     "output_type": "display_data"
    },
    {
     "data": {
      "text/html": [
       "<pre style=\"white-space:pre;overflow-x:auto;line-height:normal;font-family:Menlo,'DejaVu Sans Mono',consolas,'Courier New',monospace\"></pre>\n"
      ],
      "text/plain": []
     },
     "metadata": {},
     "output_type": "display_data"
    },
    {
     "data": {
      "text/html": [
       "<pre style=\"white-space:pre;overflow-x:auto;line-height:normal;font-family:Menlo,'DejaVu Sans Mono',consolas,'Courier New',monospace\">PM <span style=\"color: #008080; text-decoration-color: #008080; font-weight: bold\">2020</span> ITEM <span style=\"color: #008080; text-decoration-color: #008080; font-weight: bold\">7</span> saved\n",
       "</pre>\n"
      ],
      "text/plain": [
       "PM \u001b[1;36m2020\u001b[0m ITEM \u001b[1;36m7\u001b[0m saved\n"
      ]
     },
     "metadata": {},
     "output_type": "display_data"
    },
    {
     "data": {
      "text/html": [
       "<pre style=\"white-space:pre;overflow-x:auto;line-height:normal;font-family:Menlo,'DejaVu Sans Mono',consolas,'Courier New',monospace\"></pre>\n"
      ],
      "text/plain": []
     },
     "metadata": {},
     "output_type": "display_data"
    },
    {
     "data": {
      "text/html": [
       "<pre style=\"white-space:pre;overflow-x:auto;line-height:normal;font-family:Menlo,'DejaVu Sans Mono',consolas,'Courier New',monospace\">PSX <span style=\"color: #008080; text-decoration-color: #008080; font-weight: bold\">2020</span> ITEM <span style=\"color: #008080; text-decoration-color: #008080; font-weight: bold\">7</span> saved\n",
       "</pre>\n"
      ],
      "text/plain": [
       "PSX \u001b[1;36m2020\u001b[0m ITEM \u001b[1;36m7\u001b[0m saved\n"
      ]
     },
     "metadata": {},
     "output_type": "display_data"
    },
    {
     "data": {
      "text/html": [
       "<pre style=\"white-space:pre;overflow-x:auto;line-height:normal;font-family:Menlo,'DejaVu Sans Mono',consolas,'Courier New',monospace\"></pre>\n"
      ],
      "text/plain": []
     },
     "metadata": {},
     "output_type": "display_data"
    },
    {
     "data": {
      "text/html": [
       "<pre style=\"white-space:pre;overflow-x:auto;line-height:normal;font-family:Menlo,'DejaVu Sans Mono',consolas,'Courier New',monospace\">PNW <span style=\"color: #008080; text-decoration-color: #008080; font-weight: bold\">2020</span> ITEM <span style=\"color: #008080; text-decoration-color: #008080; font-weight: bold\">7</span> saved\n",
       "</pre>\n"
      ],
      "text/plain": [
       "PNW \u001b[1;36m2020\u001b[0m ITEM \u001b[1;36m7\u001b[0m saved\n"
      ]
     },
     "metadata": {},
     "output_type": "display_data"
    },
    {
     "data": {
      "text/html": [
       "<pre style=\"white-space:pre;overflow-x:auto;line-height:normal;font-family:Menlo,'DejaVu Sans Mono',consolas,'Courier New',monospace\"></pre>\n"
      ],
      "text/plain": []
     },
     "metadata": {},
     "output_type": "display_data"
    },
    {
     "data": {
      "text/html": [
       "<pre style=\"white-space:pre;overflow-x:auto;line-height:normal;font-family:Menlo,'DejaVu Sans Mono',consolas,'Courier New',monospace\">PXD <span style=\"color: #008080; text-decoration-color: #008080; font-weight: bold\">2020</span> ITEM <span style=\"color: #008080; text-decoration-color: #008080; font-weight: bold\">7</span> saved\n",
       "</pre>\n"
      ],
      "text/plain": [
       "PXD \u001b[1;36m2020\u001b[0m ITEM \u001b[1;36m7\u001b[0m saved\n"
      ]
     },
     "metadata": {},
     "output_type": "display_data"
    },
    {
     "data": {
      "text/html": [
       "<pre style=\"white-space:pre;overflow-x:auto;line-height:normal;font-family:Menlo,'DejaVu Sans Mono',consolas,'Courier New',monospace\"></pre>\n"
      ],
      "text/plain": []
     },
     "metadata": {},
     "output_type": "display_data"
    },
    {
     "data": {
      "text/html": [
       "<pre style=\"white-space:pre;overflow-x:auto;line-height:normal;font-family:Menlo,'DejaVu Sans Mono',consolas,'Courier New',monospace\">PNC <span style=\"color: #008080; text-decoration-color: #008080; font-weight: bold\">2020</span> ITEM <span style=\"color: #008080; text-decoration-color: #008080; font-weight: bold\">7</span> saved\n",
       "</pre>\n"
      ],
      "text/plain": [
       "PNC \u001b[1;36m2020\u001b[0m ITEM \u001b[1;36m7\u001b[0m saved\n"
      ]
     },
     "metadata": {},
     "output_type": "display_data"
    },
    {
     "data": {
      "text/html": [
       "<pre style=\"white-space:pre;overflow-x:auto;line-height:normal;font-family:Menlo,'DejaVu Sans Mono',consolas,'Courier New',monospace\"></pre>\n"
      ],
      "text/plain": []
     },
     "metadata": {},
     "output_type": "display_data"
    },
    {
     "data": {
      "text/html": [
       "<pre style=\"white-space:pre;overflow-x:auto;line-height:normal;font-family:Menlo,'DejaVu Sans Mono',consolas,'Courier New',monospace\">POOL <span style=\"color: #008080; text-decoration-color: #008080; font-weight: bold\">2020</span> ITEM <span style=\"color: #008080; text-decoration-color: #008080; font-weight: bold\">7</span> saved\n",
       "</pre>\n"
      ],
      "text/plain": [
       "POOL \u001b[1;36m2020\u001b[0m ITEM \u001b[1;36m7\u001b[0m saved\n"
      ]
     },
     "metadata": {},
     "output_type": "display_data"
    },
    {
     "data": {
      "text/html": [
       "<pre style=\"white-space:pre;overflow-x:auto;line-height:normal;font-family:Menlo,'DejaVu Sans Mono',consolas,'Courier New',monospace\"></pre>\n"
      ],
      "text/plain": []
     },
     "metadata": {},
     "output_type": "display_data"
    },
    {
     "data": {
      "text/html": [
       "<pre style=\"white-space:pre;overflow-x:auto;line-height:normal;font-family:Menlo,'DejaVu Sans Mono',consolas,'Courier New',monospace\">PPG <span style=\"color: #008080; text-decoration-color: #008080; font-weight: bold\">2020</span> ITEM <span style=\"color: #008080; text-decoration-color: #008080; font-weight: bold\">7</span> saved\n",
       "</pre>\n"
      ],
      "text/plain": [
       "PPG \u001b[1;36m2020\u001b[0m ITEM \u001b[1;36m7\u001b[0m saved\n"
      ]
     },
     "metadata": {},
     "output_type": "display_data"
    },
    {
     "data": {
      "text/html": [
       "<pre style=\"white-space:pre;overflow-x:auto;line-height:normal;font-family:Menlo,'DejaVu Sans Mono',consolas,'Courier New',monospace\"></pre>\n"
      ],
      "text/plain": []
     },
     "metadata": {},
     "output_type": "display_data"
    },
    {
     "data": {
      "text/html": [
       "<pre style=\"white-space:pre;overflow-x:auto;line-height:normal;font-family:Menlo,'DejaVu Sans Mono',consolas,'Courier New',monospace\">PPL <span style=\"color: #008080; text-decoration-color: #008080; font-weight: bold\">2020</span> ITEM <span style=\"color: #008080; text-decoration-color: #008080; font-weight: bold\">7</span> saved\n",
       "</pre>\n"
      ],
      "text/plain": [
       "PPL \u001b[1;36m2020\u001b[0m ITEM \u001b[1;36m7\u001b[0m saved\n"
      ]
     },
     "metadata": {},
     "output_type": "display_data"
    },
    {
     "data": {
      "text/html": [
       "<pre style=\"white-space:pre;overflow-x:auto;line-height:normal;font-family:Menlo,'DejaVu Sans Mono',consolas,'Courier New',monospace\"></pre>\n"
      ],
      "text/plain": []
     },
     "metadata": {},
     "output_type": "display_data"
    },
    {
     "data": {
      "text/html": [
       "<pre style=\"white-space:pre;overflow-x:auto;line-height:normal;font-family:Menlo,'DejaVu Sans Mono',consolas,'Courier New',monospace\">PFG <span style=\"color: #008080; text-decoration-color: #008080; font-weight: bold\">2020</span> ITEM <span style=\"color: #008080; text-decoration-color: #008080; font-weight: bold\">7</span> saved\n",
       "</pre>\n"
      ],
      "text/plain": [
       "PFG \u001b[1;36m2020\u001b[0m ITEM \u001b[1;36m7\u001b[0m saved\n"
      ]
     },
     "metadata": {},
     "output_type": "display_data"
    },
    {
     "data": {
      "text/html": [
       "<pre style=\"white-space:pre;overflow-x:auto;line-height:normal;font-family:Menlo,'DejaVu Sans Mono',consolas,'Courier New',monospace\"></pre>\n"
      ],
      "text/plain": []
     },
     "metadata": {},
     "output_type": "display_data"
    },
    {
     "data": {
      "text/html": [
       "<pre style=\"white-space:pre;overflow-x:auto;line-height:normal;font-family:Menlo,'DejaVu Sans Mono',consolas,'Courier New',monospace\">PG <span style=\"color: #008080; text-decoration-color: #008080; font-weight: bold\">2020</span> ITEM <span style=\"color: #008080; text-decoration-color: #008080; font-weight: bold\">7</span> saved\n",
       "</pre>\n"
      ],
      "text/plain": [
       "PG \u001b[1;36m2020\u001b[0m ITEM \u001b[1;36m7\u001b[0m saved\n"
      ]
     },
     "metadata": {},
     "output_type": "display_data"
    },
    {
     "data": {
      "text/html": [
       "<pre style=\"white-space:pre;overflow-x:auto;line-height:normal;font-family:Menlo,'DejaVu Sans Mono',consolas,'Courier New',monospace\"></pre>\n"
      ],
      "text/plain": []
     },
     "metadata": {},
     "output_type": "display_data"
    },
    {
     "data": {
      "text/html": [
       "<pre style=\"white-space:pre;overflow-x:auto;line-height:normal;font-family:Menlo,'DejaVu Sans Mono',consolas,'Courier New',monospace\">Extraction failed for company: Length mismatch: Expected axis has <span style=\"color: #008080; text-decoration-color: #008080; font-weight: bold\">0</span> elements, new values have <span style=\"color: #008080; text-decoration-color: #008080; font-weight: bold\">3</span> elements\n",
       "</pre>\n"
      ],
      "text/plain": [
       "Extraction failed for company: Length mismatch: Expected axis has \u001b[1;36m0\u001b[0m elements, new values have \u001b[1;36m3\u001b[0m elements\n"
      ]
     },
     "metadata": {},
     "output_type": "display_data"
    },
    {
     "data": {
      "text/html": [
       "<pre style=\"white-space:pre;overflow-x:auto;line-height:normal;font-family:Menlo,'DejaVu Sans Mono',consolas,'Courier New',monospace\"></pre>\n"
      ],
      "text/plain": []
     },
     "metadata": {},
     "output_type": "display_data"
    },
    {
     "data": {
      "text/html": [
       "<pre style=\"white-space:pre;overflow-x:auto;line-height:normal;font-family:Menlo,'DejaVu Sans Mono',consolas,'Courier New',monospace\">PLD <span style=\"color: #008080; text-decoration-color: #008080; font-weight: bold\">2020</span> ITEM <span style=\"color: #008080; text-decoration-color: #008080; font-weight: bold\">7</span> saved\n",
       "</pre>\n"
      ],
      "text/plain": [
       "PLD \u001b[1;36m2020\u001b[0m ITEM \u001b[1;36m7\u001b[0m saved\n"
      ]
     },
     "metadata": {},
     "output_type": "display_data"
    },
    {
     "data": {
      "text/html": [
       "<pre style=\"white-space:pre;overflow-x:auto;line-height:normal;font-family:Menlo,'DejaVu Sans Mono',consolas,'Courier New',monospace\"></pre>\n"
      ],
      "text/plain": []
     },
     "metadata": {},
     "output_type": "display_data"
    },
    {
     "data": {
      "text/html": [
       "<pre style=\"white-space:pre;overflow-x:auto;line-height:normal;font-family:Menlo,'DejaVu Sans Mono',consolas,'Courier New',monospace\">PRU <span style=\"color: #008080; text-decoration-color: #008080; font-weight: bold\">2020</span> ITEM <span style=\"color: #008080; text-decoration-color: #008080; font-weight: bold\">7</span> saved\n",
       "</pre>\n"
      ],
      "text/plain": [
       "PRU \u001b[1;36m2020\u001b[0m ITEM \u001b[1;36m7\u001b[0m saved\n"
      ]
     },
     "metadata": {},
     "output_type": "display_data"
    },
    {
     "data": {
      "text/html": [
       "<pre style=\"white-space:pre;overflow-x:auto;line-height:normal;font-family:Menlo,'DejaVu Sans Mono',consolas,'Courier New',monospace\"></pre>\n"
      ],
      "text/plain": []
     },
     "metadata": {},
     "output_type": "display_data"
    },
    {
     "data": {
      "text/html": [
       "<pre style=\"white-space:pre;overflow-x:auto;line-height:normal;font-family:Menlo,'DejaVu Sans Mono',consolas,'Courier New',monospace\">PTC <span style=\"color: #008080; text-decoration-color: #008080; font-weight: bold\">2020</span> ITEM <span style=\"color: #008080; text-decoration-color: #008080; font-weight: bold\">7</span> saved\n",
       "</pre>\n"
      ],
      "text/plain": [
       "PTC \u001b[1;36m2020\u001b[0m ITEM \u001b[1;36m7\u001b[0m saved\n"
      ]
     },
     "metadata": {},
     "output_type": "display_data"
    },
    {
     "data": {
      "text/html": [
       "<pre style=\"white-space:pre;overflow-x:auto;line-height:normal;font-family:Menlo,'DejaVu Sans Mono',consolas,'Courier New',monospace\"></pre>\n"
      ],
      "text/plain": []
     },
     "metadata": {},
     "output_type": "display_data"
    },
    {
     "data": {
      "text/html": [
       "<pre style=\"white-space:pre;overflow-x:auto;line-height:normal;font-family:Menlo,'DejaVu Sans Mono',consolas,'Courier New',monospace\">PEG <span style=\"color: #008080; text-decoration-color: #008080; font-weight: bold\">2020</span> ITEM <span style=\"color: #008080; text-decoration-color: #008080; font-weight: bold\">7</span> saved\n",
       "</pre>\n"
      ],
      "text/plain": [
       "PEG \u001b[1;36m2020\u001b[0m ITEM \u001b[1;36m7\u001b[0m saved\n"
      ]
     },
     "metadata": {},
     "output_type": "display_data"
    },
    {
     "data": {
      "text/html": [
       "<pre style=\"white-space:pre;overflow-x:auto;line-height:normal;font-family:Menlo,'DejaVu Sans Mono',consolas,'Courier New',monospace\"></pre>\n"
      ],
      "text/plain": []
     },
     "metadata": {},
     "output_type": "display_data"
    },
    {
     "data": {
      "text/html": [
       "<pre style=\"white-space:pre;overflow-x:auto;line-height:normal;font-family:Menlo,'DejaVu Sans Mono',consolas,'Courier New',monospace\">PSA <span style=\"color: #008080; text-decoration-color: #008080; font-weight: bold\">2020</span> ITEM <span style=\"color: #008080; text-decoration-color: #008080; font-weight: bold\">7</span> saved\n",
       "</pre>\n"
      ],
      "text/plain": [
       "PSA \u001b[1;36m2020\u001b[0m ITEM \u001b[1;36m7\u001b[0m saved\n"
      ]
     },
     "metadata": {},
     "output_type": "display_data"
    },
    {
     "data": {
      "text/html": [
       "<pre style=\"white-space:pre;overflow-x:auto;line-height:normal;font-family:Menlo,'DejaVu Sans Mono',consolas,'Courier New',monospace\"></pre>\n"
      ],
      "text/plain": []
     },
     "metadata": {},
     "output_type": "display_data"
    },
    {
     "data": {
      "text/html": [
       "<pre style=\"white-space:pre;overflow-x:auto;line-height:normal;font-family:Menlo,'DejaVu Sans Mono',consolas,'Courier New',monospace\">PHM <span style=\"color: #008080; text-decoration-color: #008080; font-weight: bold\">2020</span> ITEM <span style=\"color: #008080; text-decoration-color: #008080; font-weight: bold\">7</span> saved\n",
       "</pre>\n"
      ],
      "text/plain": [
       "PHM \u001b[1;36m2020\u001b[0m ITEM \u001b[1;36m7\u001b[0m saved\n"
      ]
     },
     "metadata": {},
     "output_type": "display_data"
    },
    {
     "data": {
      "text/html": [
       "<pre style=\"white-space:pre;overflow-x:auto;line-height:normal;font-family:Menlo,'DejaVu Sans Mono',consolas,'Courier New',monospace\"></pre>\n"
      ],
      "text/plain": []
     },
     "metadata": {},
     "output_type": "display_data"
    },
    {
     "data": {
      "text/html": [
       "<pre style=\"white-space:pre;overflow-x:auto;line-height:normal;font-family:Menlo,'DejaVu Sans Mono',consolas,'Courier New',monospace\">PVH <span style=\"color: #008080; text-decoration-color: #008080; font-weight: bold\">2020</span> ITEM <span style=\"color: #008080; text-decoration-color: #008080; font-weight: bold\">7</span> saved\n",
       "</pre>\n"
      ],
      "text/plain": [
       "PVH \u001b[1;36m2020\u001b[0m ITEM \u001b[1;36m7\u001b[0m saved\n"
      ]
     },
     "metadata": {},
     "output_type": "display_data"
    },
    {
     "data": {
      "text/html": [
       "<pre style=\"white-space:pre;overflow-x:auto;line-height:normal;font-family:Menlo,'DejaVu Sans Mono',consolas,'Courier New',monospace\"></pre>\n"
      ],
      "text/plain": []
     },
     "metadata": {},
     "output_type": "display_data"
    },
    {
     "data": {
      "text/html": [
       "<pre style=\"white-space:pre;overflow-x:auto;line-height:normal;font-family:Menlo,'DejaVu Sans Mono',consolas,'Courier New',monospace\">QRVO <span style=\"color: #008080; text-decoration-color: #008080; font-weight: bold\">2020</span> ITEM <span style=\"color: #008080; text-decoration-color: #008080; font-weight: bold\">7</span> saved\n",
       "</pre>\n"
      ],
      "text/plain": [
       "QRVO \u001b[1;36m2020\u001b[0m ITEM \u001b[1;36m7\u001b[0m saved\n"
      ]
     },
     "metadata": {},
     "output_type": "display_data"
    },
    {
     "data": {
      "text/html": [
       "<pre style=\"white-space:pre;overflow-x:auto;line-height:normal;font-family:Menlo,'DejaVu Sans Mono',consolas,'Courier New',monospace\"></pre>\n"
      ],
      "text/plain": []
     },
     "metadata": {},
     "output_type": "display_data"
    },
    {
     "data": {
      "text/html": [
       "<pre style=\"white-space:pre;overflow-x:auto;line-height:normal;font-family:Menlo,'DejaVu Sans Mono',consolas,'Courier New',monospace\">QCOM <span style=\"color: #008080; text-decoration-color: #008080; font-weight: bold\">2020</span> ITEM <span style=\"color: #008080; text-decoration-color: #008080; font-weight: bold\">7</span> saved\n",
       "</pre>\n"
      ],
      "text/plain": [
       "QCOM \u001b[1;36m2020\u001b[0m ITEM \u001b[1;36m7\u001b[0m saved\n"
      ]
     },
     "metadata": {},
     "output_type": "display_data"
    },
    {
     "data": {
      "text/html": [
       "<pre style=\"white-space:pre;overflow-x:auto;line-height:normal;font-family:Menlo,'DejaVu Sans Mono',consolas,'Courier New',monospace\"></pre>\n"
      ],
      "text/plain": []
     },
     "metadata": {},
     "output_type": "display_data"
    },
    {
     "data": {
      "text/html": [
       "<pre style=\"white-space:pre;overflow-x:auto;line-height:normal;font-family:Menlo,'DejaVu Sans Mono',consolas,'Courier New',monospace\">PWR <span style=\"color: #008080; text-decoration-color: #008080; font-weight: bold\">2020</span> ITEM <span style=\"color: #008080; text-decoration-color: #008080; font-weight: bold\">7</span> saved\n",
       "</pre>\n"
      ],
      "text/plain": [
       "PWR \u001b[1;36m2020\u001b[0m ITEM \u001b[1;36m7\u001b[0m saved\n"
      ]
     },
     "metadata": {},
     "output_type": "display_data"
    },
    {
     "data": {
      "text/html": [
       "<pre style=\"white-space:pre;overflow-x:auto;line-height:normal;font-family:Menlo,'DejaVu Sans Mono',consolas,'Courier New',monospace\"></pre>\n"
      ],
      "text/plain": []
     },
     "metadata": {},
     "output_type": "display_data"
    },
    {
     "data": {
      "text/html": [
       "<pre style=\"white-space:pre;overflow-x:auto;line-height:normal;font-family:Menlo,'DejaVu Sans Mono',consolas,'Courier New',monospace\">DGX <span style=\"color: #008080; text-decoration-color: #008080; font-weight: bold\">2020</span> ITEM <span style=\"color: #008080; text-decoration-color: #008080; font-weight: bold\">7</span> saved\n",
       "</pre>\n"
      ],
      "text/plain": [
       "DGX \u001b[1;36m2020\u001b[0m ITEM \u001b[1;36m7\u001b[0m saved\n"
      ]
     },
     "metadata": {},
     "output_type": "display_data"
    },
    {
     "data": {
      "text/html": [
       "<pre style=\"white-space:pre;overflow-x:auto;line-height:normal;font-family:Menlo,'DejaVu Sans Mono',consolas,'Courier New',monospace\"></pre>\n"
      ],
      "text/plain": []
     },
     "metadata": {},
     "output_type": "display_data"
    },
    {
     "data": {
      "text/html": [
       "<pre style=\"white-space:pre;overflow-x:auto;line-height:normal;font-family:Menlo,'DejaVu Sans Mono',consolas,'Courier New',monospace\">RL <span style=\"color: #008080; text-decoration-color: #008080; font-weight: bold\">2020</span> ITEM <span style=\"color: #008080; text-decoration-color: #008080; font-weight: bold\">7</span> saved\n",
       "</pre>\n"
      ],
      "text/plain": [
       "RL \u001b[1;36m2020\u001b[0m ITEM \u001b[1;36m7\u001b[0m saved\n"
      ]
     },
     "metadata": {},
     "output_type": "display_data"
    },
    {
     "data": {
      "text/html": [
       "<pre style=\"white-space:pre;overflow-x:auto;line-height:normal;font-family:Menlo,'DejaVu Sans Mono',consolas,'Courier New',monospace\"></pre>\n"
      ],
      "text/plain": []
     },
     "metadata": {},
     "output_type": "display_data"
    },
    {
     "data": {
      "text/html": [
       "<pre style=\"white-space:pre;overflow-x:auto;line-height:normal;font-family:Menlo,'DejaVu Sans Mono',consolas,'Courier New',monospace\">RJF <span style=\"color: #008080; text-decoration-color: #008080; font-weight: bold\">2020</span> ITEM <span style=\"color: #008080; text-decoration-color: #008080; font-weight: bold\">7</span> saved\n",
       "</pre>\n"
      ],
      "text/plain": [
       "RJF \u001b[1;36m2020\u001b[0m ITEM \u001b[1;36m7\u001b[0m saved\n"
      ]
     },
     "metadata": {},
     "output_type": "display_data"
    },
    {
     "data": {
      "text/html": [
       "<pre style=\"white-space:pre;overflow-x:auto;line-height:normal;font-family:Menlo,'DejaVu Sans Mono',consolas,'Courier New',monospace\"></pre>\n"
      ],
      "text/plain": []
     },
     "metadata": {},
     "output_type": "display_data"
    },
    {
     "data": {
      "text/html": [
       "<pre style=\"white-space:pre;overflow-x:auto;line-height:normal;font-family:Menlo,'DejaVu Sans Mono',consolas,'Courier New',monospace\">RTX <span style=\"color: #008080; text-decoration-color: #008080; font-weight: bold\">2020</span> ITEM <span style=\"color: #008080; text-decoration-color: #008080; font-weight: bold\">7</span> saved\n",
       "</pre>\n"
      ],
      "text/plain": [
       "RTX \u001b[1;36m2020\u001b[0m ITEM \u001b[1;36m7\u001b[0m saved\n"
      ]
     },
     "metadata": {},
     "output_type": "display_data"
    },
    {
     "data": {
      "text/html": [
       "<pre style=\"white-space:pre;overflow-x:auto;line-height:normal;font-family:Menlo,'DejaVu Sans Mono',consolas,'Courier New',monospace\"></pre>\n"
      ],
      "text/plain": []
     },
     "metadata": {},
     "output_type": "display_data"
    },
    {
     "data": {
      "text/html": [
       "<pre style=\"white-space:pre;overflow-x:auto;line-height:normal;font-family:Menlo,'DejaVu Sans Mono',consolas,'Courier New',monospace\">O <span style=\"color: #008080; text-decoration-color: #008080; font-weight: bold\">2020</span> ITEM <span style=\"color: #008080; text-decoration-color: #008080; font-weight: bold\">7</span> saved\n",
       "</pre>\n"
      ],
      "text/plain": [
       "O \u001b[1;36m2020\u001b[0m ITEM \u001b[1;36m7\u001b[0m saved\n"
      ]
     },
     "metadata": {},
     "output_type": "display_data"
    },
    {
     "data": {
      "text/html": [
       "<pre style=\"white-space:pre;overflow-x:auto;line-height:normal;font-family:Menlo,'DejaVu Sans Mono',consolas,'Courier New',monospace\"></pre>\n"
      ],
      "text/plain": []
     },
     "metadata": {},
     "output_type": "display_data"
    },
    {
     "data": {
      "text/html": [
       "<pre style=\"white-space:pre;overflow-x:auto;line-height:normal;font-family:Menlo,'DejaVu Sans Mono',consolas,'Courier New',monospace\">REG <span style=\"color: #008080; text-decoration-color: #008080; font-weight: bold\">2020</span> ITEM <span style=\"color: #008080; text-decoration-color: #008080; font-weight: bold\">7</span> saved\n",
       "</pre>\n"
      ],
      "text/plain": [
       "REG \u001b[1;36m2020\u001b[0m ITEM \u001b[1;36m7\u001b[0m saved\n"
      ]
     },
     "metadata": {},
     "output_type": "display_data"
    },
    {
     "data": {
      "text/html": [
       "<pre style=\"white-space:pre;overflow-x:auto;line-height:normal;font-family:Menlo,'DejaVu Sans Mono',consolas,'Courier New',monospace\"></pre>\n"
      ],
      "text/plain": []
     },
     "metadata": {},
     "output_type": "display_data"
    },
    {
     "data": {
      "text/html": [
       "<pre style=\"white-space:pre;overflow-x:auto;line-height:normal;font-family:Menlo,'DejaVu Sans Mono',consolas,'Courier New',monospace\">REGN <span style=\"color: #008080; text-decoration-color: #008080; font-weight: bold\">2020</span> ITEM <span style=\"color: #008080; text-decoration-color: #008080; font-weight: bold\">7</span> saved\n",
       "</pre>\n"
      ],
      "text/plain": [
       "REGN \u001b[1;36m2020\u001b[0m ITEM \u001b[1;36m7\u001b[0m saved\n"
      ]
     },
     "metadata": {},
     "output_type": "display_data"
    },
    {
     "data": {
      "text/html": [
       "<pre style=\"white-space:pre;overflow-x:auto;line-height:normal;font-family:Menlo,'DejaVu Sans Mono',consolas,'Courier New',monospace\"></pre>\n"
      ],
      "text/plain": []
     },
     "metadata": {},
     "output_type": "display_data"
    },
    {
     "data": {
      "text/html": [
       "<pre style=\"white-space:pre;overflow-x:auto;line-height:normal;font-family:Menlo,'DejaVu Sans Mono',consolas,'Courier New',monospace\">RF <span style=\"color: #008080; text-decoration-color: #008080; font-weight: bold\">2020</span> ITEM <span style=\"color: #008080; text-decoration-color: #008080; font-weight: bold\">7</span> saved\n",
       "</pre>\n"
      ],
      "text/plain": [
       "RF \u001b[1;36m2020\u001b[0m ITEM \u001b[1;36m7\u001b[0m saved\n"
      ]
     },
     "metadata": {},
     "output_type": "display_data"
    },
    {
     "data": {
      "text/html": [
       "<pre style=\"white-space:pre;overflow-x:auto;line-height:normal;font-family:Menlo,'DejaVu Sans Mono',consolas,'Courier New',monospace\"></pre>\n"
      ],
      "text/plain": []
     },
     "metadata": {},
     "output_type": "display_data"
    },
    {
     "data": {
      "text/html": [
       "<pre style=\"white-space:pre;overflow-x:auto;line-height:normal;font-family:Menlo,'DejaVu Sans Mono',consolas,'Courier New',monospace\">RSG <span style=\"color: #008080; text-decoration-color: #008080; font-weight: bold\">2020</span> ITEM <span style=\"color: #008080; text-decoration-color: #008080; font-weight: bold\">7</span> saved\n",
       "</pre>\n"
      ],
      "text/plain": [
       "RSG \u001b[1;36m2020\u001b[0m ITEM \u001b[1;36m7\u001b[0m saved\n"
      ]
     },
     "metadata": {},
     "output_type": "display_data"
    },
    {
     "data": {
      "text/html": [
       "<pre style=\"white-space:pre;overflow-x:auto;line-height:normal;font-family:Menlo,'DejaVu Sans Mono',consolas,'Courier New',monospace\"></pre>\n"
      ],
      "text/plain": []
     },
     "metadata": {},
     "output_type": "display_data"
    },
    {
     "data": {
      "text/html": [
       "<pre style=\"white-space:pre;overflow-x:auto;line-height:normal;font-family:Menlo,'DejaVu Sans Mono',consolas,'Courier New',monospace\">RMD <span style=\"color: #008080; text-decoration-color: #008080; font-weight: bold\">2020</span> ITEM <span style=\"color: #008080; text-decoration-color: #008080; font-weight: bold\">7</span> saved\n",
       "</pre>\n"
      ],
      "text/plain": [
       "RMD \u001b[1;36m2020\u001b[0m ITEM \u001b[1;36m7\u001b[0m saved\n"
      ]
     },
     "metadata": {},
     "output_type": "display_data"
    },
    {
     "data": {
      "text/html": [
       "<pre style=\"white-space:pre;overflow-x:auto;line-height:normal;font-family:Menlo,'DejaVu Sans Mono',consolas,'Courier New',monospace\"></pre>\n"
      ],
      "text/plain": []
     },
     "metadata": {},
     "output_type": "display_data"
    },
    {
     "data": {
      "text/html": [
       "<pre style=\"white-space:pre;overflow-x:auto;line-height:normal;font-family:Menlo,'DejaVu Sans Mono',consolas,'Courier New',monospace\">RHI <span style=\"color: #008080; text-decoration-color: #008080; font-weight: bold\">2020</span> ITEM <span style=\"color: #008080; text-decoration-color: #008080; font-weight: bold\">7</span> saved\n",
       "</pre>\n"
      ],
      "text/plain": [
       "RHI \u001b[1;36m2020\u001b[0m ITEM \u001b[1;36m7\u001b[0m saved\n"
      ]
     },
     "metadata": {},
     "output_type": "display_data"
    },
    {
     "data": {
      "text/html": [
       "<pre style=\"white-space:pre;overflow-x:auto;line-height:normal;font-family:Menlo,'DejaVu Sans Mono',consolas,'Courier New',monospace\"></pre>\n"
      ],
      "text/plain": []
     },
     "metadata": {},
     "output_type": "display_data"
    },
    {
     "data": {
      "text/html": [
       "<pre style=\"white-space:pre;overflow-x:auto;line-height:normal;font-family:Menlo,'DejaVu Sans Mono',consolas,'Courier New',monospace\">ROK <span style=\"color: #008080; text-decoration-color: #008080; font-weight: bold\">2020</span> ITEM <span style=\"color: #008080; text-decoration-color: #008080; font-weight: bold\">7</span> saved\n",
       "</pre>\n"
      ],
      "text/plain": [
       "ROK \u001b[1;36m2020\u001b[0m ITEM \u001b[1;36m7\u001b[0m saved\n"
      ]
     },
     "metadata": {},
     "output_type": "display_data"
    },
    {
     "data": {
      "text/html": [
       "<pre style=\"white-space:pre;overflow-x:auto;line-height:normal;font-family:Menlo,'DejaVu Sans Mono',consolas,'Courier New',monospace\"></pre>\n"
      ],
      "text/plain": []
     },
     "metadata": {},
     "output_type": "display_data"
    },
    {
     "data": {
      "text/html": [
       "<pre style=\"white-space:pre;overflow-x:auto;line-height:normal;font-family:Menlo,'DejaVu Sans Mono',consolas,'Courier New',monospace\">ROL <span style=\"color: #008080; text-decoration-color: #008080; font-weight: bold\">2020</span> ITEM <span style=\"color: #008080; text-decoration-color: #008080; font-weight: bold\">7</span> saved\n",
       "</pre>\n"
      ],
      "text/plain": [
       "ROL \u001b[1;36m2020\u001b[0m ITEM \u001b[1;36m7\u001b[0m saved\n"
      ]
     },
     "metadata": {},
     "output_type": "display_data"
    },
    {
     "data": {
      "text/html": [
       "<pre style=\"white-space:pre;overflow-x:auto;line-height:normal;font-family:Menlo,'DejaVu Sans Mono',consolas,'Courier New',monospace\"></pre>\n"
      ],
      "text/plain": []
     },
     "metadata": {},
     "output_type": "display_data"
    },
    {
     "data": {
      "text/html": [
       "<pre style=\"white-space:pre;overflow-x:auto;line-height:normal;font-family:Menlo,'DejaVu Sans Mono',consolas,'Courier New',monospace\">ROP <span style=\"color: #008080; text-decoration-color: #008080; font-weight: bold\">2020</span> ITEM <span style=\"color: #008080; text-decoration-color: #008080; font-weight: bold\">7</span> saved\n",
       "</pre>\n"
      ],
      "text/plain": [
       "ROP \u001b[1;36m2020\u001b[0m ITEM \u001b[1;36m7\u001b[0m saved\n"
      ]
     },
     "metadata": {},
     "output_type": "display_data"
    },
    {
     "data": {
      "text/html": [
       "<pre style=\"white-space:pre;overflow-x:auto;line-height:normal;font-family:Menlo,'DejaVu Sans Mono',consolas,'Courier New',monospace\"></pre>\n"
      ],
      "text/plain": []
     },
     "metadata": {},
     "output_type": "display_data"
    },
    {
     "data": {
      "text/html": [
       "<pre style=\"white-space:pre;overflow-x:auto;line-height:normal;font-family:Menlo,'DejaVu Sans Mono',consolas,'Courier New',monospace\">ROST <span style=\"color: #008080; text-decoration-color: #008080; font-weight: bold\">2020</span> ITEM <span style=\"color: #008080; text-decoration-color: #008080; font-weight: bold\">7</span> saved\n",
       "</pre>\n"
      ],
      "text/plain": [
       "ROST \u001b[1;36m2020\u001b[0m ITEM \u001b[1;36m7\u001b[0m saved\n"
      ]
     },
     "metadata": {},
     "output_type": "display_data"
    },
    {
     "data": {
      "text/html": [
       "<pre style=\"white-space:pre;overflow-x:auto;line-height:normal;font-family:Menlo,'DejaVu Sans Mono',consolas,'Courier New',monospace\"></pre>\n"
      ],
      "text/plain": []
     },
     "metadata": {},
     "output_type": "display_data"
    },
    {
     "data": {
      "text/html": [
       "<pre style=\"white-space:pre;overflow-x:auto;line-height:normal;font-family:Menlo,'DejaVu Sans Mono',consolas,'Courier New',monospace\">RCL <span style=\"color: #008080; text-decoration-color: #008080; font-weight: bold\">2020</span> ITEM <span style=\"color: #008080; text-decoration-color: #008080; font-weight: bold\">7</span> saved\n",
       "</pre>\n"
      ],
      "text/plain": [
       "RCL \u001b[1;36m2020\u001b[0m ITEM \u001b[1;36m7\u001b[0m saved\n"
      ]
     },
     "metadata": {},
     "output_type": "display_data"
    },
    {
     "data": {
      "text/html": [
       "<pre style=\"white-space:pre;overflow-x:auto;line-height:normal;font-family:Menlo,'DejaVu Sans Mono',consolas,'Courier New',monospace\"></pre>\n"
      ],
      "text/plain": []
     },
     "metadata": {},
     "output_type": "display_data"
    },
    {
     "data": {
      "text/html": [
       "<pre style=\"white-space:pre;overflow-x:auto;line-height:normal;font-family:Menlo,'DejaVu Sans Mono',consolas,'Courier New',monospace\">SPGI <span style=\"color: #008080; text-decoration-color: #008080; font-weight: bold\">2020</span> ITEM <span style=\"color: #008080; text-decoration-color: #008080; font-weight: bold\">7</span> saved\n",
       "</pre>\n"
      ],
      "text/plain": [
       "SPGI \u001b[1;36m2020\u001b[0m ITEM \u001b[1;36m7\u001b[0m saved\n"
      ]
     },
     "metadata": {},
     "output_type": "display_data"
    },
    {
     "data": {
      "text/html": [
       "<pre style=\"white-space:pre;overflow-x:auto;line-height:normal;font-family:Menlo,'DejaVu Sans Mono',consolas,'Courier New',monospace\"></pre>\n"
      ],
      "text/plain": []
     },
     "metadata": {},
     "output_type": "display_data"
    },
    {
     "data": {
      "text/html": [
       "<pre style=\"white-space:pre;overflow-x:auto;line-height:normal;font-family:Menlo,'DejaVu Sans Mono',consolas,'Courier New',monospace\">CRM <span style=\"color: #008080; text-decoration-color: #008080; font-weight: bold\">2020</span> ITEM <span style=\"color: #008080; text-decoration-color: #008080; font-weight: bold\">7</span> saved\n",
       "</pre>\n"
      ],
      "text/plain": [
       "CRM \u001b[1;36m2020\u001b[0m ITEM \u001b[1;36m7\u001b[0m saved\n"
      ]
     },
     "metadata": {},
     "output_type": "display_data"
    },
    {
     "data": {
      "text/html": [
       "<pre style=\"white-space:pre;overflow-x:auto;line-height:normal;font-family:Menlo,'DejaVu Sans Mono',consolas,'Courier New',monospace\"></pre>\n"
      ],
      "text/plain": []
     },
     "metadata": {},
     "output_type": "display_data"
    },
    {
     "data": {
      "text/html": [
       "<pre style=\"white-space:pre;overflow-x:auto;line-height:normal;font-family:Menlo,'DejaVu Sans Mono',consolas,'Courier New',monospace\">Extraction failed for company: Length mismatch: Expected axis has <span style=\"color: #008080; text-decoration-color: #008080; font-weight: bold\">0</span> elements, new values have <span style=\"color: #008080; text-decoration-color: #008080; font-weight: bold\">3</span> elements\n",
       "</pre>\n"
      ],
      "text/plain": [
       "Extraction failed for company: Length mismatch: Expected axis has \u001b[1;36m0\u001b[0m elements, new values have \u001b[1;36m3\u001b[0m elements\n"
      ]
     },
     "metadata": {},
     "output_type": "display_data"
    },
    {
     "data": {
      "text/html": [
       "<pre style=\"white-space:pre;overflow-x:auto;line-height:normal;font-family:Menlo,'DejaVu Sans Mono',consolas,'Courier New',monospace\"></pre>\n"
      ],
      "text/plain": []
     },
     "metadata": {},
     "output_type": "display_data"
    },
    {
     "data": {
      "text/html": [
       "<pre style=\"white-space:pre;overflow-x:auto;line-height:normal;font-family:Menlo,'DejaVu Sans Mono',consolas,'Courier New',monospace\">SLB <span style=\"color: #008080; text-decoration-color: #008080; font-weight: bold\">2020</span> ITEM <span style=\"color: #008080; text-decoration-color: #008080; font-weight: bold\">7</span> saved\n",
       "</pre>\n"
      ],
      "text/plain": [
       "SLB \u001b[1;36m2020\u001b[0m ITEM \u001b[1;36m7\u001b[0m saved\n"
      ]
     },
     "metadata": {},
     "output_type": "display_data"
    },
    {
     "data": {
      "text/html": [
       "<pre style=\"white-space:pre;overflow-x:auto;line-height:normal;font-family:Menlo,'DejaVu Sans Mono',consolas,'Courier New',monospace\"></pre>\n"
      ],
      "text/plain": []
     },
     "metadata": {},
     "output_type": "display_data"
    },
    {
     "data": {
      "text/html": [
       "<pre style=\"white-space:pre;overflow-x:auto;line-height:normal;font-family:Menlo,'DejaVu Sans Mono',consolas,'Courier New',monospace\">STX <span style=\"color: #008080; text-decoration-color: #008080; font-weight: bold\">2020</span> ITEM <span style=\"color: #008080; text-decoration-color: #008080; font-weight: bold\">7</span> saved\n",
       "</pre>\n"
      ],
      "text/plain": [
       "STX \u001b[1;36m2020\u001b[0m ITEM \u001b[1;36m7\u001b[0m saved\n"
      ]
     },
     "metadata": {},
     "output_type": "display_data"
    },
    {
     "data": {
      "text/html": [
       "<pre style=\"white-space:pre;overflow-x:auto;line-height:normal;font-family:Menlo,'DejaVu Sans Mono',consolas,'Courier New',monospace\"></pre>\n"
      ],
      "text/plain": []
     },
     "metadata": {},
     "output_type": "display_data"
    },
    {
     "data": {
      "text/html": [
       "<pre style=\"white-space:pre;overflow-x:auto;line-height:normal;font-family:Menlo,'DejaVu Sans Mono',consolas,'Courier New',monospace\">SEE <span style=\"color: #008080; text-decoration-color: #008080; font-weight: bold\">2020</span> ITEM <span style=\"color: #008080; text-decoration-color: #008080; font-weight: bold\">7</span> saved\n",
       "</pre>\n"
      ],
      "text/plain": [
       "SEE \u001b[1;36m2020\u001b[0m ITEM \u001b[1;36m7\u001b[0m saved\n"
      ]
     },
     "metadata": {},
     "output_type": "display_data"
    },
    {
     "data": {
      "text/html": [
       "<pre style=\"white-space:pre;overflow-x:auto;line-height:normal;font-family:Menlo,'DejaVu Sans Mono',consolas,'Courier New',monospace\"></pre>\n"
      ],
      "text/plain": []
     },
     "metadata": {},
     "output_type": "display_data"
    },
    {
     "data": {
      "text/html": [
       "<pre style=\"white-space:pre;overflow-x:auto;line-height:normal;font-family:Menlo,'DejaVu Sans Mono',consolas,'Courier New',monospace\">SRE <span style=\"color: #008080; text-decoration-color: #008080; font-weight: bold\">2020</span> ITEM <span style=\"color: #008080; text-decoration-color: #008080; font-weight: bold\">7</span> saved\n",
       "</pre>\n"
      ],
      "text/plain": [
       "SRE \u001b[1;36m2020\u001b[0m ITEM \u001b[1;36m7\u001b[0m saved\n"
      ]
     },
     "metadata": {},
     "output_type": "display_data"
    },
    {
     "data": {
      "text/html": [
       "<pre style=\"white-space:pre;overflow-x:auto;line-height:normal;font-family:Menlo,'DejaVu Sans Mono',consolas,'Courier New',monospace\"></pre>\n"
      ],
      "text/plain": []
     },
     "metadata": {},
     "output_type": "display_data"
    },
    {
     "data": {
      "text/html": [
       "<pre style=\"white-space:pre;overflow-x:auto;line-height:normal;font-family:Menlo,'DejaVu Sans Mono',consolas,'Courier New',monospace\">NOW <span style=\"color: #008080; text-decoration-color: #008080; font-weight: bold\">2020</span> ITEM <span style=\"color: #008080; text-decoration-color: #008080; font-weight: bold\">7</span> saved\n",
       "</pre>\n"
      ],
      "text/plain": [
       "NOW \u001b[1;36m2020\u001b[0m ITEM \u001b[1;36m7\u001b[0m saved\n"
      ]
     },
     "metadata": {},
     "output_type": "display_data"
    },
    {
     "data": {
      "text/html": [
       "<pre style=\"white-space:pre;overflow-x:auto;line-height:normal;font-family:Menlo,'DejaVu Sans Mono',consolas,'Courier New',monospace\"></pre>\n"
      ],
      "text/plain": []
     },
     "metadata": {},
     "output_type": "display_data"
    },
    {
     "data": {
      "text/html": [
       "<pre style=\"white-space:pre;overflow-x:auto;line-height:normal;font-family:Menlo,'DejaVu Sans Mono',consolas,'Courier New',monospace\">SHW <span style=\"color: #008080; text-decoration-color: #008080; font-weight: bold\">2020</span> ITEM <span style=\"color: #008080; text-decoration-color: #008080; font-weight: bold\">7</span> saved\n",
       "</pre>\n"
      ],
      "text/plain": [
       "SHW \u001b[1;36m2020\u001b[0m ITEM \u001b[1;36m7\u001b[0m saved\n"
      ]
     },
     "metadata": {},
     "output_type": "display_data"
    },
    {
     "data": {
      "text/html": [
       "<pre style=\"white-space:pre;overflow-x:auto;line-height:normal;font-family:Menlo,'DejaVu Sans Mono',consolas,'Courier New',monospace\"></pre>\n"
      ],
      "text/plain": []
     },
     "metadata": {},
     "output_type": "display_data"
    },
    {
     "data": {
      "text/html": [
       "<pre style=\"white-space:pre;overflow-x:auto;line-height:normal;font-family:Menlo,'DejaVu Sans Mono',consolas,'Courier New',monospace\">SPG <span style=\"color: #008080; text-decoration-color: #008080; font-weight: bold\">2020</span> ITEM <span style=\"color: #008080; text-decoration-color: #008080; font-weight: bold\">7</span> saved\n",
       "</pre>\n"
      ],
      "text/plain": [
       "SPG \u001b[1;36m2020\u001b[0m ITEM \u001b[1;36m7\u001b[0m saved\n"
      ]
     },
     "metadata": {},
     "output_type": "display_data"
    },
    {
     "data": {
      "text/html": [
       "<pre style=\"white-space:pre;overflow-x:auto;line-height:normal;font-family:Menlo,'DejaVu Sans Mono',consolas,'Courier New',monospace\"></pre>\n"
      ],
      "text/plain": []
     },
     "metadata": {},
     "output_type": "display_data"
    },
    {
     "data": {
      "text/html": [
       "<pre style=\"white-space:pre;overflow-x:auto;line-height:normal;font-family:Menlo,'DejaVu Sans Mono',consolas,'Courier New',monospace\">SWKS <span style=\"color: #008080; text-decoration-color: #008080; font-weight: bold\">2020</span> ITEM <span style=\"color: #008080; text-decoration-color: #008080; font-weight: bold\">7</span> saved\n",
       "</pre>\n"
      ],
      "text/plain": [
       "SWKS \u001b[1;36m2020\u001b[0m ITEM \u001b[1;36m7\u001b[0m saved\n"
      ]
     },
     "metadata": {},
     "output_type": "display_data"
    },
    {
     "data": {
      "text/html": [
       "<pre style=\"white-space:pre;overflow-x:auto;line-height:normal;font-family:Menlo,'DejaVu Sans Mono',consolas,'Courier New',monospace\">Extraction failed for company: index <span style=\"color: #008080; text-decoration-color: #008080; font-weight: bold\">0</span> is out of bounds for axis <span style=\"color: #008080; text-decoration-color: #008080; font-weight: bold\">0</span> with size <span style=\"color: #008080; text-decoration-color: #008080; font-weight: bold\">0</span>\n",
       "</pre>\n"
      ],
      "text/plain": [
       "Extraction failed for company: index \u001b[1;36m0\u001b[0m is out of bounds for axis \u001b[1;36m0\u001b[0m with size \u001b[1;36m0\u001b[0m\n"
      ]
     },
     "metadata": {},
     "output_type": "display_data"
    },
    {
     "data": {
      "text/html": [
       "<pre style=\"white-space:pre;overflow-x:auto;line-height:normal;font-family:Menlo,'DejaVu Sans Mono',consolas,'Courier New',monospace\"></pre>\n"
      ],
      "text/plain": []
     },
     "metadata": {},
     "output_type": "display_data"
    },
    {
     "data": {
      "text/html": [
       "<pre style=\"white-space:pre;overflow-x:auto;line-height:normal;font-family:Menlo,'DejaVu Sans Mono',consolas,'Courier New',monospace\">SO <span style=\"color: #008080; text-decoration-color: #008080; font-weight: bold\">2020</span> ITEM <span style=\"color: #008080; text-decoration-color: #008080; font-weight: bold\">7</span> saved\n",
       "</pre>\n"
      ],
      "text/plain": [
       "SO \u001b[1;36m2020\u001b[0m ITEM \u001b[1;36m7\u001b[0m saved\n"
      ]
     },
     "metadata": {},
     "output_type": "display_data"
    },
    {
     "data": {
      "text/html": [
       "<pre style=\"white-space:pre;overflow-x:auto;line-height:normal;font-family:Menlo,'DejaVu Sans Mono',consolas,'Courier New',monospace\"></pre>\n"
      ],
      "text/plain": []
     },
     "metadata": {},
     "output_type": "display_data"
    },
    {
     "data": {
      "text/html": [
       "<pre style=\"white-space:pre;overflow-x:auto;line-height:normal;font-family:Menlo,'DejaVu Sans Mono',consolas,'Courier New',monospace\">LUV <span style=\"color: #008080; text-decoration-color: #008080; font-weight: bold\">2020</span> ITEM <span style=\"color: #008080; text-decoration-color: #008080; font-weight: bold\">7</span> saved\n",
       "</pre>\n"
      ],
      "text/plain": [
       "LUV \u001b[1;36m2020\u001b[0m ITEM \u001b[1;36m7\u001b[0m saved\n"
      ]
     },
     "metadata": {},
     "output_type": "display_data"
    },
    {
     "data": {
      "text/html": [
       "<pre style=\"white-space:pre;overflow-x:auto;line-height:normal;font-family:Menlo,'DejaVu Sans Mono',consolas,'Courier New',monospace\">Extraction failed for company: index <span style=\"color: #008080; text-decoration-color: #008080; font-weight: bold\">0</span> is out of bounds for axis <span style=\"color: #008080; text-decoration-color: #008080; font-weight: bold\">0</span> with size <span style=\"color: #008080; text-decoration-color: #008080; font-weight: bold\">0</span>\n",
       "</pre>\n"
      ],
      "text/plain": [
       "Extraction failed for company: index \u001b[1;36m0\u001b[0m is out of bounds for axis \u001b[1;36m0\u001b[0m with size \u001b[1;36m0\u001b[0m\n"
      ]
     },
     "metadata": {},
     "output_type": "display_data"
    },
    {
     "data": {
      "text/html": [
       "<pre style=\"white-space:pre;overflow-x:auto;line-height:normal;font-family:Menlo,'DejaVu Sans Mono',consolas,'Courier New',monospace\"></pre>\n"
      ],
      "text/plain": []
     },
     "metadata": {},
     "output_type": "display_data"
    },
    {
     "data": {
      "text/html": [
       "<pre style=\"white-space:pre;overflow-x:auto;line-height:normal;font-family:Menlo,'DejaVu Sans Mono',consolas,'Courier New',monospace\">SBUX <span style=\"color: #008080; text-decoration-color: #008080; font-weight: bold\">2020</span> ITEM <span style=\"color: #008080; text-decoration-color: #008080; font-weight: bold\">7</span> saved\n",
       "</pre>\n"
      ],
      "text/plain": [
       "SBUX \u001b[1;36m2020\u001b[0m ITEM \u001b[1;36m7\u001b[0m saved\n"
      ]
     },
     "metadata": {},
     "output_type": "display_data"
    },
    {
     "data": {
      "text/html": [
       "<pre style=\"white-space:pre;overflow-x:auto;line-height:normal;font-family:Menlo,'DejaVu Sans Mono',consolas,'Courier New',monospace\"></pre>\n"
      ],
      "text/plain": []
     },
     "metadata": {},
     "output_type": "display_data"
    },
    {
     "data": {
      "text/html": [
       "<pre style=\"white-space:pre;overflow-x:auto;line-height:normal;font-family:Menlo,'DejaVu Sans Mono',consolas,'Courier New',monospace\">STT <span style=\"color: #008080; text-decoration-color: #008080; font-weight: bold\">2020</span> ITEM <span style=\"color: #008080; text-decoration-color: #008080; font-weight: bold\">7</span> saved\n",
       "</pre>\n"
      ],
      "text/plain": [
       "STT \u001b[1;36m2020\u001b[0m ITEM \u001b[1;36m7\u001b[0m saved\n"
      ]
     },
     "metadata": {},
     "output_type": "display_data"
    },
    {
     "data": {
      "text/html": [
       "<pre style=\"white-space:pre;overflow-x:auto;line-height:normal;font-family:Menlo,'DejaVu Sans Mono',consolas,'Courier New',monospace\"></pre>\n"
      ],
      "text/plain": []
     },
     "metadata": {},
     "output_type": "display_data"
    },
    {
     "data": {
      "text/html": [
       "<pre style=\"white-space:pre;overflow-x:auto;line-height:normal;font-family:Menlo,'DejaVu Sans Mono',consolas,'Courier New',monospace\">STE <span style=\"color: #008080; text-decoration-color: #008080; font-weight: bold\">2020</span> ITEM <span style=\"color: #008080; text-decoration-color: #008080; font-weight: bold\">7</span> saved\n",
       "</pre>\n"
      ],
      "text/plain": [
       "STE \u001b[1;36m2020\u001b[0m ITEM \u001b[1;36m7\u001b[0m saved\n"
      ]
     },
     "metadata": {},
     "output_type": "display_data"
    },
    {
     "data": {
      "text/html": [
       "<pre style=\"white-space:pre;overflow-x:auto;line-height:normal;font-family:Menlo,'DejaVu Sans Mono',consolas,'Courier New',monospace\"></pre>\n"
      ],
      "text/plain": []
     },
     "metadata": {},
     "output_type": "display_data"
    },
    {
     "data": {
      "text/html": [
       "<pre style=\"white-space:pre;overflow-x:auto;line-height:normal;font-family:Menlo,'DejaVu Sans Mono',consolas,'Courier New',monospace\">SYK <span style=\"color: #008080; text-decoration-color: #008080; font-weight: bold\">2020</span> ITEM <span style=\"color: #008080; text-decoration-color: #008080; font-weight: bold\">7</span> saved\n",
       "</pre>\n"
      ],
      "text/plain": [
       "SYK \u001b[1;36m2020\u001b[0m ITEM \u001b[1;36m7\u001b[0m saved\n"
      ]
     },
     "metadata": {},
     "output_type": "display_data"
    },
    {
     "data": {
      "text/html": [
       "<pre style=\"white-space:pre;overflow-x:auto;line-height:normal;font-family:Menlo,'DejaVu Sans Mono',consolas,'Courier New',monospace\">Extraction failed for company: <span style=\"color: #008000; text-decoration-color: #008000\">'NoneType'</span> object has no attribute <span style=\"color: #008000; text-decoration-color: #008000\">'get_filings'</span>\n",
       "</pre>\n"
      ],
      "text/plain": [
       "Extraction failed for company: \u001b[32m'NoneType'\u001b[0m object has no attribute \u001b[32m'get_filings'\u001b[0m\n"
      ]
     },
     "metadata": {},
     "output_type": "display_data"
    },
    {
     "data": {
      "text/html": [
       "<pre style=\"white-space:pre;overflow-x:auto;line-height:normal;font-family:Menlo,'DejaVu Sans Mono',consolas,'Courier New',monospace\"></pre>\n"
      ],
      "text/plain": []
     },
     "metadata": {},
     "output_type": "display_data"
    },
    {
     "data": {
      "text/html": [
       "<pre style=\"white-space:pre;overflow-x:auto;line-height:normal;font-family:Menlo,'DejaVu Sans Mono',consolas,'Courier New',monospace\">SYF <span style=\"color: #008080; text-decoration-color: #008080; font-weight: bold\">2020</span> ITEM <span style=\"color: #008080; text-decoration-color: #008080; font-weight: bold\">7</span> saved\n",
       "</pre>\n"
      ],
      "text/plain": [
       "SYF \u001b[1;36m2020\u001b[0m ITEM \u001b[1;36m7\u001b[0m saved\n"
      ]
     },
     "metadata": {},
     "output_type": "display_data"
    },
    {
     "data": {
      "text/html": [
       "<pre style=\"white-space:pre;overflow-x:auto;line-height:normal;font-family:Menlo,'DejaVu Sans Mono',consolas,'Courier New',monospace\"></pre>\n"
      ],
      "text/plain": []
     },
     "metadata": {},
     "output_type": "display_data"
    },
    {
     "data": {
      "text/html": [
       "<pre style=\"white-space:pre;overflow-x:auto;line-height:normal;font-family:Menlo,'DejaVu Sans Mono',consolas,'Courier New',monospace\">SNPS <span style=\"color: #008080; text-decoration-color: #008080; font-weight: bold\">2020</span> ITEM <span style=\"color: #008080; text-decoration-color: #008080; font-weight: bold\">7</span> saved\n",
       "</pre>\n"
      ],
      "text/plain": [
       "SNPS \u001b[1;36m2020\u001b[0m ITEM \u001b[1;36m7\u001b[0m saved\n"
      ]
     },
     "metadata": {},
     "output_type": "display_data"
    },
    {
     "data": {
      "text/html": [
       "<pre style=\"white-space:pre;overflow-x:auto;line-height:normal;font-family:Menlo,'DejaVu Sans Mono',consolas,'Courier New',monospace\"></pre>\n"
      ],
      "text/plain": []
     },
     "metadata": {},
     "output_type": "display_data"
    },
    {
     "data": {
      "text/html": [
       "<pre style=\"white-space:pre;overflow-x:auto;line-height:normal;font-family:Menlo,'DejaVu Sans Mono',consolas,'Courier New',monospace\">SYY <span style=\"color: #008080; text-decoration-color: #008080; font-weight: bold\">2020</span> ITEM <span style=\"color: #008080; text-decoration-color: #008080; font-weight: bold\">7</span> saved\n",
       "</pre>\n"
      ],
      "text/plain": [
       "SYY \u001b[1;36m2020\u001b[0m ITEM \u001b[1;36m7\u001b[0m saved\n"
      ]
     },
     "metadata": {},
     "output_type": "display_data"
    },
    {
     "data": {
      "text/html": [
       "<pre style=\"white-space:pre;overflow-x:auto;line-height:normal;font-family:Menlo,'DejaVu Sans Mono',consolas,'Courier New',monospace\"></pre>\n"
      ],
      "text/plain": []
     },
     "metadata": {},
     "output_type": "display_data"
    },
    {
     "data": {
      "text/html": [
       "<pre style=\"white-space:pre;overflow-x:auto;line-height:normal;font-family:Menlo,'DejaVu Sans Mono',consolas,'Courier New',monospace\">TMUS <span style=\"color: #008080; text-decoration-color: #008080; font-weight: bold\">2020</span> ITEM <span style=\"color: #008080; text-decoration-color: #008080; font-weight: bold\">7</span> saved\n",
       "</pre>\n"
      ],
      "text/plain": [
       "TMUS \u001b[1;36m2020\u001b[0m ITEM \u001b[1;36m7\u001b[0m saved\n"
      ]
     },
     "metadata": {},
     "output_type": "display_data"
    },
    {
     "data": {
      "text/html": [
       "<pre style=\"white-space:pre;overflow-x:auto;line-height:normal;font-family:Menlo,'DejaVu Sans Mono',consolas,'Courier New',monospace\"></pre>\n"
      ],
      "text/plain": []
     },
     "metadata": {},
     "output_type": "display_data"
    },
    {
     "data": {
      "text/html": [
       "<pre style=\"white-space:pre;overflow-x:auto;line-height:normal;font-family:Menlo,'DejaVu Sans Mono',consolas,'Courier New',monospace\">TROW <span style=\"color: #008080; text-decoration-color: #008080; font-weight: bold\">2020</span> ITEM <span style=\"color: #008080; text-decoration-color: #008080; font-weight: bold\">7</span> saved\n",
       "</pre>\n"
      ],
      "text/plain": [
       "TROW \u001b[1;36m2020\u001b[0m ITEM \u001b[1;36m7\u001b[0m saved\n"
      ]
     },
     "metadata": {},
     "output_type": "display_data"
    },
    {
     "data": {
      "text/html": [
       "<pre style=\"white-space:pre;overflow-x:auto;line-height:normal;font-family:Menlo,'DejaVu Sans Mono',consolas,'Courier New',monospace\"></pre>\n"
      ],
      "text/plain": []
     },
     "metadata": {},
     "output_type": "display_data"
    },
    {
     "data": {
      "text/html": [
       "<pre style=\"white-space:pre;overflow-x:auto;line-height:normal;font-family:Menlo,'DejaVu Sans Mono',consolas,'Courier New',monospace\">TTWO <span style=\"color: #008080; text-decoration-color: #008080; font-weight: bold\">2020</span> ITEM <span style=\"color: #008080; text-decoration-color: #008080; font-weight: bold\">7</span> saved\n",
       "</pre>\n"
      ],
      "text/plain": [
       "TTWO \u001b[1;36m2020\u001b[0m ITEM \u001b[1;36m7\u001b[0m saved\n"
      ]
     },
     "metadata": {},
     "output_type": "display_data"
    },
    {
     "data": {
      "text/html": [
       "<pre style=\"white-space:pre;overflow-x:auto;line-height:normal;font-family:Menlo,'DejaVu Sans Mono',consolas,'Courier New',monospace\"></pre>\n"
      ],
      "text/plain": []
     },
     "metadata": {},
     "output_type": "display_data"
    },
    {
     "data": {
      "text/html": [
       "<pre style=\"white-space:pre;overflow-x:auto;line-height:normal;font-family:Menlo,'DejaVu Sans Mono',consolas,'Courier New',monospace\">TPR <span style=\"color: #008080; text-decoration-color: #008080; font-weight: bold\">2020</span> ITEM <span style=\"color: #008080; text-decoration-color: #008080; font-weight: bold\">7</span> saved\n",
       "</pre>\n"
      ],
      "text/plain": [
       "TPR \u001b[1;36m2020\u001b[0m ITEM \u001b[1;36m7\u001b[0m saved\n"
      ]
     },
     "metadata": {},
     "output_type": "display_data"
    },
    {
     "data": {
      "text/html": [
       "<pre style=\"white-space:pre;overflow-x:auto;line-height:normal;font-family:Menlo,'DejaVu Sans Mono',consolas,'Courier New',monospace\"></pre>\n"
      ],
      "text/plain": []
     },
     "metadata": {},
     "output_type": "display_data"
    },
    {
     "data": {
      "text/html": [
       "<pre style=\"white-space:pre;overflow-x:auto;line-height:normal;font-family:Menlo,'DejaVu Sans Mono',consolas,'Courier New',monospace\">TGT <span style=\"color: #008080; text-decoration-color: #008080; font-weight: bold\">2020</span> ITEM <span style=\"color: #008080; text-decoration-color: #008080; font-weight: bold\">7</span> saved\n",
       "</pre>\n"
      ],
      "text/plain": [
       "TGT \u001b[1;36m2020\u001b[0m ITEM \u001b[1;36m7\u001b[0m saved\n"
      ]
     },
     "metadata": {},
     "output_type": "display_data"
    },
    {
     "data": {
      "text/html": [
       "<pre style=\"white-space:pre;overflow-x:auto;line-height:normal;font-family:Menlo,'DejaVu Sans Mono',consolas,'Courier New',monospace\"></pre>\n"
      ],
      "text/plain": []
     },
     "metadata": {},
     "output_type": "display_data"
    },
    {
     "data": {
      "text/html": [
       "<pre style=\"white-space:pre;overflow-x:auto;line-height:normal;font-family:Menlo,'DejaVu Sans Mono',consolas,'Courier New',monospace\">TEL <span style=\"color: #008080; text-decoration-color: #008080; font-weight: bold\">2020</span> ITEM <span style=\"color: #008080; text-decoration-color: #008080; font-weight: bold\">7</span> saved\n",
       "</pre>\n"
      ],
      "text/plain": [
       "TEL \u001b[1;36m2020\u001b[0m ITEM \u001b[1;36m7\u001b[0m saved\n"
      ]
     },
     "metadata": {},
     "output_type": "display_data"
    },
    {
     "data": {
      "text/html": [
       "<pre style=\"white-space:pre;overflow-x:auto;line-height:normal;font-family:Menlo,'DejaVu Sans Mono',consolas,'Courier New',monospace\">Extraction failed for company: index <span style=\"color: #008080; text-decoration-color: #008080; font-weight: bold\">0</span> is out of bounds for axis <span style=\"color: #008080; text-decoration-color: #008080; font-weight: bold\">0</span> with size <span style=\"color: #008080; text-decoration-color: #008080; font-weight: bold\">0</span>\n",
       "</pre>\n"
      ],
      "text/plain": [
       "Extraction failed for company: index \u001b[1;36m0\u001b[0m is out of bounds for axis \u001b[1;36m0\u001b[0m with size \u001b[1;36m0\u001b[0m\n"
      ]
     },
     "metadata": {},
     "output_type": "display_data"
    },
    {
     "data": {
      "text/html": [
       "<pre style=\"white-space:pre;overflow-x:auto;line-height:normal;font-family:Menlo,'DejaVu Sans Mono',consolas,'Courier New',monospace\"></pre>\n"
      ],
      "text/plain": []
     },
     "metadata": {},
     "output_type": "display_data"
    },
    {
     "data": {
      "text/html": [
       "<pre style=\"white-space:pre;overflow-x:auto;line-height:normal;font-family:Menlo,'DejaVu Sans Mono',consolas,'Courier New',monospace\">TFX <span style=\"color: #008080; text-decoration-color: #008080; font-weight: bold\">2020</span> ITEM <span style=\"color: #008080; text-decoration-color: #008080; font-weight: bold\">7</span> saved\n",
       "</pre>\n"
      ],
      "text/plain": [
       "TFX \u001b[1;36m2020\u001b[0m ITEM \u001b[1;36m7\u001b[0m saved\n"
      ]
     },
     "metadata": {},
     "output_type": "display_data"
    },
    {
     "data": {
      "text/html": [
       "<pre style=\"white-space:pre;overflow-x:auto;line-height:normal;font-family:Menlo,'DejaVu Sans Mono',consolas,'Courier New',monospace\"></pre>\n"
      ],
      "text/plain": []
     },
     "metadata": {},
     "output_type": "display_data"
    },
    {
     "data": {
      "text/html": [
       "<pre style=\"white-space:pre;overflow-x:auto;line-height:normal;font-family:Menlo,'DejaVu Sans Mono',consolas,'Courier New',monospace\">TER <span style=\"color: #008080; text-decoration-color: #008080; font-weight: bold\">2020</span> ITEM <span style=\"color: #008080; text-decoration-color: #008080; font-weight: bold\">7</span> saved\n",
       "</pre>\n"
      ],
      "text/plain": [
       "TER \u001b[1;36m2020\u001b[0m ITEM \u001b[1;36m7\u001b[0m saved\n"
      ]
     },
     "metadata": {},
     "output_type": "display_data"
    },
    {
     "data": {
      "text/html": [
       "<pre style=\"white-space:pre;overflow-x:auto;line-height:normal;font-family:Menlo,'DejaVu Sans Mono',consolas,'Courier New',monospace\"></pre>\n"
      ],
      "text/plain": []
     },
     "metadata": {},
     "output_type": "display_data"
    },
    {
     "data": {
      "text/html": [
       "<pre style=\"white-space:pre;overflow-x:auto;line-height:normal;font-family:Menlo,'DejaVu Sans Mono',consolas,'Courier New',monospace\">TSLA <span style=\"color: #008080; text-decoration-color: #008080; font-weight: bold\">2020</span> ITEM <span style=\"color: #008080; text-decoration-color: #008080; font-weight: bold\">7</span> saved\n",
       "</pre>\n"
      ],
      "text/plain": [
       "TSLA \u001b[1;36m2020\u001b[0m ITEM \u001b[1;36m7\u001b[0m saved\n"
      ]
     },
     "metadata": {},
     "output_type": "display_data"
    },
    {
     "data": {
      "text/html": [
       "<pre style=\"white-space:pre;overflow-x:auto;line-height:normal;font-family:Menlo,'DejaVu Sans Mono',consolas,'Courier New',monospace\"></pre>\n"
      ],
      "text/plain": []
     },
     "metadata": {},
     "output_type": "display_data"
    },
    {
     "data": {
      "text/html": [
       "<pre style=\"white-space:pre;overflow-x:auto;line-height:normal;font-family:Menlo,'DejaVu Sans Mono',consolas,'Courier New',monospace\">TXN <span style=\"color: #008080; text-decoration-color: #008080; font-weight: bold\">2020</span> ITEM <span style=\"color: #008080; text-decoration-color: #008080; font-weight: bold\">7</span> saved\n",
       "</pre>\n"
      ],
      "text/plain": [
       "TXN \u001b[1;36m2020\u001b[0m ITEM \u001b[1;36m7\u001b[0m saved\n"
      ]
     },
     "metadata": {},
     "output_type": "display_data"
    },
    {
     "data": {
      "text/html": [
       "<pre style=\"white-space:pre;overflow-x:auto;line-height:normal;font-family:Menlo,'DejaVu Sans Mono',consolas,'Courier New',monospace\"></pre>\n"
      ],
      "text/plain": []
     },
     "metadata": {},
     "output_type": "display_data"
    },
    {
     "data": {
      "text/html": [
       "<pre style=\"white-space:pre;overflow-x:auto;line-height:normal;font-family:Menlo,'DejaVu Sans Mono',consolas,'Courier New',monospace\">TXT <span style=\"color: #008080; text-decoration-color: #008080; font-weight: bold\">2020</span> ITEM <span style=\"color: #008080; text-decoration-color: #008080; font-weight: bold\">7</span> saved\n",
       "</pre>\n"
      ],
      "text/plain": [
       "TXT \u001b[1;36m2020\u001b[0m ITEM \u001b[1;36m7\u001b[0m saved\n"
      ]
     },
     "metadata": {},
     "output_type": "display_data"
    },
    {
     "data": {
      "text/html": [
       "<pre style=\"white-space:pre;overflow-x:auto;line-height:normal;font-family:Menlo,'DejaVu Sans Mono',consolas,'Courier New',monospace\"></pre>\n"
      ],
      "text/plain": []
     },
     "metadata": {},
     "output_type": "display_data"
    },
    {
     "data": {
      "text/html": [
       "<pre style=\"white-space:pre;overflow-x:auto;line-height:normal;font-family:Menlo,'DejaVu Sans Mono',consolas,'Courier New',monospace\">COO <span style=\"color: #008080; text-decoration-color: #008080; font-weight: bold\">2020</span> ITEM <span style=\"color: #008080; text-decoration-color: #008080; font-weight: bold\">7</span> saved\n",
       "</pre>\n"
      ],
      "text/plain": [
       "COO \u001b[1;36m2020\u001b[0m ITEM \u001b[1;36m7\u001b[0m saved\n"
      ]
     },
     "metadata": {},
     "output_type": "display_data"
    },
    {
     "data": {
      "text/html": [
       "<pre style=\"white-space:pre;overflow-x:auto;line-height:normal;font-family:Menlo,'DejaVu Sans Mono',consolas,'Courier New',monospace\"></pre>\n"
      ],
      "text/plain": []
     },
     "metadata": {},
     "output_type": "display_data"
    },
    {
     "data": {
      "text/html": [
       "<pre style=\"white-space:pre;overflow-x:auto;line-height:normal;font-family:Menlo,'DejaVu Sans Mono',consolas,'Courier New',monospace\">HIG <span style=\"color: #008080; text-decoration-color: #008080; font-weight: bold\">2020</span> ITEM <span style=\"color: #008080; text-decoration-color: #008080; font-weight: bold\">7</span> saved\n",
       "</pre>\n"
      ],
      "text/plain": [
       "HIG \u001b[1;36m2020\u001b[0m ITEM \u001b[1;36m7\u001b[0m saved\n"
      ]
     },
     "metadata": {},
     "output_type": "display_data"
    },
    {
     "data": {
      "text/html": [
       "<pre style=\"white-space:pre;overflow-x:auto;line-height:normal;font-family:Menlo,'DejaVu Sans Mono',consolas,'Courier New',monospace\"></pre>\n"
      ],
      "text/plain": []
     },
     "metadata": {},
     "output_type": "display_data"
    },
    {
     "data": {
      "text/html": [
       "<pre style=\"white-space:pre;overflow-x:auto;line-height:normal;font-family:Menlo,'DejaVu Sans Mono',consolas,'Courier New',monospace\">HSY <span style=\"color: #008080; text-decoration-color: #008080; font-weight: bold\">2020</span> ITEM <span style=\"color: #008080; text-decoration-color: #008080; font-weight: bold\">7</span> saved\n",
       "</pre>\n"
      ],
      "text/plain": [
       "HSY \u001b[1;36m2020\u001b[0m ITEM \u001b[1;36m7\u001b[0m saved\n"
      ]
     },
     "metadata": {},
     "output_type": "display_data"
    },
    {
     "data": {
      "text/html": [
       "<pre style=\"white-space:pre;overflow-x:auto;line-height:normal;font-family:Menlo,'DejaVu Sans Mono',consolas,'Courier New',monospace\"></pre>\n"
      ],
      "text/plain": []
     },
     "metadata": {},
     "output_type": "display_data"
    },
    {
     "data": {
      "text/html": [
       "<pre style=\"white-space:pre;overflow-x:auto;line-height:normal;font-family:Menlo,'DejaVu Sans Mono',consolas,'Courier New',monospace\">MOS <span style=\"color: #008080; text-decoration-color: #008080; font-weight: bold\">2020</span> ITEM <span style=\"color: #008080; text-decoration-color: #008080; font-weight: bold\">7</span> saved\n",
       "</pre>\n"
      ],
      "text/plain": [
       "MOS \u001b[1;36m2020\u001b[0m ITEM \u001b[1;36m7\u001b[0m saved\n"
      ]
     },
     "metadata": {},
     "output_type": "display_data"
    },
    {
     "data": {
      "text/html": [
       "<pre style=\"white-space:pre;overflow-x:auto;line-height:normal;font-family:Menlo,'DejaVu Sans Mono',consolas,'Courier New',monospace\"></pre>\n"
      ],
      "text/plain": []
     },
     "metadata": {},
     "output_type": "display_data"
    },
    {
     "data": {
      "text/html": [
       "<pre style=\"white-space:pre;overflow-x:auto;line-height:normal;font-family:Menlo,'DejaVu Sans Mono',consolas,'Courier New',monospace\">TRV <span style=\"color: #008080; text-decoration-color: #008080; font-weight: bold\">2020</span> ITEM <span style=\"color: #008080; text-decoration-color: #008080; font-weight: bold\">7</span> saved\n",
       "</pre>\n"
      ],
      "text/plain": [
       "TRV \u001b[1;36m2020\u001b[0m ITEM \u001b[1;36m7\u001b[0m saved\n"
      ]
     },
     "metadata": {},
     "output_type": "display_data"
    },
    {
     "data": {
      "text/html": [
       "<pre style=\"white-space:pre;overflow-x:auto;line-height:normal;font-family:Menlo,'DejaVu Sans Mono',consolas,'Courier New',monospace\"></pre>\n"
      ],
      "text/plain": []
     },
     "metadata": {},
     "output_type": "display_data"
    },
    {
     "data": {
      "text/html": [
       "<pre style=\"white-space:pre;overflow-x:auto;line-height:normal;font-family:Menlo,'DejaVu Sans Mono',consolas,'Courier New',monospace\">DIS <span style=\"color: #008080; text-decoration-color: #008080; font-weight: bold\">2020</span> ITEM <span style=\"color: #008080; text-decoration-color: #008080; font-weight: bold\">7</span> saved\n",
       "</pre>\n"
      ],
      "text/plain": [
       "DIS \u001b[1;36m2020\u001b[0m ITEM \u001b[1;36m7\u001b[0m saved\n"
      ]
     },
     "metadata": {},
     "output_type": "display_data"
    },
    {
     "data": {
      "text/html": [
       "<pre style=\"white-space:pre;overflow-x:auto;line-height:normal;font-family:Menlo,'DejaVu Sans Mono',consolas,'Courier New',monospace\"></pre>\n"
      ],
      "text/plain": []
     },
     "metadata": {},
     "output_type": "display_data"
    },
    {
     "data": {
      "text/html": [
       "<pre style=\"white-space:pre;overflow-x:auto;line-height:normal;font-family:Menlo,'DejaVu Sans Mono',consolas,'Courier New',monospace\">TMO <span style=\"color: #008080; text-decoration-color: #008080; font-weight: bold\">2020</span> ITEM <span style=\"color: #008080; text-decoration-color: #008080; font-weight: bold\">7</span> saved\n",
       "</pre>\n"
      ],
      "text/plain": [
       "TMO \u001b[1;36m2020\u001b[0m ITEM \u001b[1;36m7\u001b[0m saved\n"
      ]
     },
     "metadata": {},
     "output_type": "display_data"
    },
    {
     "data": {
      "text/html": [
       "<pre style=\"white-space:pre;overflow-x:auto;line-height:normal;font-family:Menlo,'DejaVu Sans Mono',consolas,'Courier New',monospace\"></pre>\n"
      ],
      "text/plain": []
     },
     "metadata": {},
     "output_type": "display_data"
    },
    {
     "data": {
      "text/html": [
       "<pre style=\"white-space:pre;overflow-x:auto;line-height:normal;font-family:Menlo,'DejaVu Sans Mono',consolas,'Courier New',monospace\">TJX <span style=\"color: #008080; text-decoration-color: #008080; font-weight: bold\">2020</span> ITEM <span style=\"color: #008080; text-decoration-color: #008080; font-weight: bold\">7</span> saved\n",
       "</pre>\n"
      ],
      "text/plain": [
       "TJX \u001b[1;36m2020\u001b[0m ITEM \u001b[1;36m7\u001b[0m saved\n"
      ]
     },
     "metadata": {},
     "output_type": "display_data"
    },
    {
     "data": {
      "text/html": [
       "<pre style=\"white-space:pre;overflow-x:auto;line-height:normal;font-family:Menlo,'DejaVu Sans Mono',consolas,'Courier New',monospace\"></pre>\n"
      ],
      "text/plain": []
     },
     "metadata": {},
     "output_type": "display_data"
    },
    {
     "data": {
      "text/html": [
       "<pre style=\"white-space:pre;overflow-x:auto;line-height:normal;font-family:Menlo,'DejaVu Sans Mono',consolas,'Courier New',monospace\">TSCO <span style=\"color: #008080; text-decoration-color: #008080; font-weight: bold\">2020</span> ITEM <span style=\"color: #008080; text-decoration-color: #008080; font-weight: bold\">7</span> saved\n",
       "</pre>\n"
      ],
      "text/plain": [
       "TSCO \u001b[1;36m2020\u001b[0m ITEM \u001b[1;36m7\u001b[0m saved\n"
      ]
     },
     "metadata": {},
     "output_type": "display_data"
    },
    {
     "data": {
      "text/html": [
       "<pre style=\"white-space:pre;overflow-x:auto;line-height:normal;font-family:Menlo,'DejaVu Sans Mono',consolas,'Courier New',monospace\"></pre>\n"
      ],
      "text/plain": []
     },
     "metadata": {},
     "output_type": "display_data"
    },
    {
     "data": {
      "text/html": [
       "<pre style=\"white-space:pre;overflow-x:auto;line-height:normal;font-family:Menlo,'DejaVu Sans Mono',consolas,'Courier New',monospace\">TT <span style=\"color: #008080; text-decoration-color: #008080; font-weight: bold\">2020</span> ITEM <span style=\"color: #008080; text-decoration-color: #008080; font-weight: bold\">7</span> saved\n",
       "</pre>\n"
      ],
      "text/plain": [
       "TT \u001b[1;36m2020\u001b[0m ITEM \u001b[1;36m7\u001b[0m saved\n"
      ]
     },
     "metadata": {},
     "output_type": "display_data"
    },
    {
     "data": {
      "text/html": [
       "<pre style=\"white-space:pre;overflow-x:auto;line-height:normal;font-family:Menlo,'DejaVu Sans Mono',consolas,'Courier New',monospace\"></pre>\n"
      ],
      "text/plain": []
     },
     "metadata": {},
     "output_type": "display_data"
    },
    {
     "data": {
      "text/html": [
       "<pre style=\"white-space:pre;overflow-x:auto;line-height:normal;font-family:Menlo,'DejaVu Sans Mono',consolas,'Courier New',monospace\">Extraction failed for company: Length mismatch: Expected axis has <span style=\"color: #008080; text-decoration-color: #008080; font-weight: bold\">0</span> elements, new values have <span style=\"color: #008080; text-decoration-color: #008080; font-weight: bold\">3</span> elements\n",
       "</pre>\n"
      ],
      "text/plain": [
       "Extraction failed for company: Length mismatch: Expected axis has \u001b[1;36m0\u001b[0m elements, new values have \u001b[1;36m3\u001b[0m elements\n"
      ]
     },
     "metadata": {},
     "output_type": "display_data"
    },
    {
     "data": {
      "text/html": [
       "<pre style=\"white-space:pre;overflow-x:auto;line-height:normal;font-family:Menlo,'DejaVu Sans Mono',consolas,'Courier New',monospace\"></pre>\n"
      ],
      "text/plain": []
     },
     "metadata": {},
     "output_type": "display_data"
    },
    {
     "data": {
      "text/html": [
       "<pre style=\"white-space:pre;overflow-x:auto;line-height:normal;font-family:Menlo,'DejaVu Sans Mono',consolas,'Courier New',monospace\">TRMB <span style=\"color: #008080; text-decoration-color: #008080; font-weight: bold\">2020</span> ITEM <span style=\"color: #008080; text-decoration-color: #008080; font-weight: bold\">7</span> saved\n",
       "</pre>\n"
      ],
      "text/plain": [
       "TRMB \u001b[1;36m2020\u001b[0m ITEM \u001b[1;36m7\u001b[0m saved\n"
      ]
     },
     "metadata": {},
     "output_type": "display_data"
    },
    {
     "data": {
      "text/html": [
       "<pre style=\"white-space:pre;overflow-x:auto;line-height:normal;font-family:Menlo,'DejaVu Sans Mono',consolas,'Courier New',monospace\"></pre>\n"
      ],
      "text/plain": []
     },
     "metadata": {},
     "output_type": "display_data"
    },
    {
     "data": {
      "text/html": [
       "<pre style=\"white-space:pre;overflow-x:auto;line-height:normal;font-family:Menlo,'DejaVu Sans Mono',consolas,'Courier New',monospace\">TFC <span style=\"color: #008080; text-decoration-color: #008080; font-weight: bold\">2020</span> ITEM <span style=\"color: #008080; text-decoration-color: #008080; font-weight: bold\">7</span> saved\n",
       "</pre>\n"
      ],
      "text/plain": [
       "TFC \u001b[1;36m2020\u001b[0m ITEM \u001b[1;36m7\u001b[0m saved\n"
      ]
     },
     "metadata": {},
     "output_type": "display_data"
    },
    {
     "data": {
      "text/html": [
       "<pre style=\"white-space:pre;overflow-x:auto;line-height:normal;font-family:Menlo,'DejaVu Sans Mono',consolas,'Courier New',monospace\">Extraction failed for company: <span style=\"color: #008000; text-decoration-color: #008000\">'NoneType'</span> object has no attribute <span style=\"color: #008000; text-decoration-color: #008000\">'get_filings'</span>\n",
       "</pre>\n"
      ],
      "text/plain": [
       "Extraction failed for company: \u001b[32m'NoneType'\u001b[0m object has no attribute \u001b[32m'get_filings'\u001b[0m\n"
      ]
     },
     "metadata": {},
     "output_type": "display_data"
    },
    {
     "data": {
      "text/html": [
       "<pre style=\"white-space:pre;overflow-x:auto;line-height:normal;font-family:Menlo,'DejaVu Sans Mono',consolas,'Courier New',monospace\"></pre>\n"
      ],
      "text/plain": []
     },
     "metadata": {},
     "output_type": "display_data"
    },
    {
     "data": {
      "text/html": [
       "<pre style=\"white-space:pre;overflow-x:auto;line-height:normal;font-family:Menlo,'DejaVu Sans Mono',consolas,'Courier New',monospace\">TYL <span style=\"color: #008080; text-decoration-color: #008080; font-weight: bold\">2020</span> ITEM <span style=\"color: #008080; text-decoration-color: #008080; font-weight: bold\">7</span> saved\n",
       "</pre>\n"
      ],
      "text/plain": [
       "TYL \u001b[1;36m2020\u001b[0m ITEM \u001b[1;36m7\u001b[0m saved\n"
      ]
     },
     "metadata": {},
     "output_type": "display_data"
    },
    {
     "data": {
      "text/html": [
       "<pre style=\"white-space:pre;overflow-x:auto;line-height:normal;font-family:Menlo,'DejaVu Sans Mono',consolas,'Courier New',monospace\"></pre>\n"
      ],
      "text/plain": []
     },
     "metadata": {},
     "output_type": "display_data"
    },
    {
     "data": {
      "text/html": [
       "<pre style=\"white-space:pre;overflow-x:auto;line-height:normal;font-family:Menlo,'DejaVu Sans Mono',consolas,'Courier New',monospace\">TSN <span style=\"color: #008080; text-decoration-color: #008080; font-weight: bold\">2020</span> ITEM <span style=\"color: #008080; text-decoration-color: #008080; font-weight: bold\">7</span> saved\n",
       "</pre>\n"
      ],
      "text/plain": [
       "TSN \u001b[1;36m2020\u001b[0m ITEM \u001b[1;36m7\u001b[0m saved\n"
      ]
     },
     "metadata": {},
     "output_type": "display_data"
    },
    {
     "data": {
      "text/html": [
       "<pre style=\"white-space:pre;overflow-x:auto;line-height:normal;font-family:Menlo,'DejaVu Sans Mono',consolas,'Courier New',monospace\"></pre>\n"
      ],
      "text/plain": []
     },
     "metadata": {},
     "output_type": "display_data"
    },
    {
     "data": {
      "text/html": [
       "<pre style=\"white-space:pre;overflow-x:auto;line-height:normal;font-family:Menlo,'DejaVu Sans Mono',consolas,'Courier New',monospace\">USB <span style=\"color: #008080; text-decoration-color: #008080; font-weight: bold\">2020</span> ITEM <span style=\"color: #008080; text-decoration-color: #008080; font-weight: bold\">7</span> saved\n",
       "</pre>\n"
      ],
      "text/plain": [
       "USB \u001b[1;36m2020\u001b[0m ITEM \u001b[1;36m7\u001b[0m saved\n"
      ]
     },
     "metadata": {},
     "output_type": "display_data"
    },
    {
     "data": {
      "text/html": [
       "<pre style=\"white-space:pre;overflow-x:auto;line-height:normal;font-family:Menlo,'DejaVu Sans Mono',consolas,'Courier New',monospace\"></pre>\n"
      ],
      "text/plain": []
     },
     "metadata": {},
     "output_type": "display_data"
    },
    {
     "data": {
      "text/html": [
       "<pre style=\"white-space:pre;overflow-x:auto;line-height:normal;font-family:Menlo,'DejaVu Sans Mono',consolas,'Courier New',monospace\">UDR <span style=\"color: #008080; text-decoration-color: #008080; font-weight: bold\">2020</span> ITEM <span style=\"color: #008080; text-decoration-color: #008080; font-weight: bold\">7</span> saved\n",
       "</pre>\n"
      ],
      "text/plain": [
       "UDR \u001b[1;36m2020\u001b[0m ITEM \u001b[1;36m7\u001b[0m saved\n"
      ]
     },
     "metadata": {},
     "output_type": "display_data"
    },
    {
     "data": {
      "text/html": [
       "<pre style=\"white-space:pre;overflow-x:auto;line-height:normal;font-family:Menlo,'DejaVu Sans Mono',consolas,'Courier New',monospace\"></pre>\n"
      ],
      "text/plain": []
     },
     "metadata": {},
     "output_type": "display_data"
    },
    {
     "data": {
      "text/html": [
       "<pre style=\"white-space:pre;overflow-x:auto;line-height:normal;font-family:Menlo,'DejaVu Sans Mono',consolas,'Courier New',monospace\">ULTA <span style=\"color: #008080; text-decoration-color: #008080; font-weight: bold\">2020</span> ITEM <span style=\"color: #008080; text-decoration-color: #008080; font-weight: bold\">7</span> saved\n",
       "</pre>\n"
      ],
      "text/plain": [
       "ULTA \u001b[1;36m2020\u001b[0m ITEM \u001b[1;36m7\u001b[0m saved\n"
      ]
     },
     "metadata": {},
     "output_type": "display_data"
    },
    {
     "data": {
      "text/html": [
       "<pre style=\"white-space:pre;overflow-x:auto;line-height:normal;font-family:Menlo,'DejaVu Sans Mono',consolas,'Courier New',monospace\"></pre>\n"
      ],
      "text/plain": []
     },
     "metadata": {},
     "output_type": "display_data"
    },
    {
     "data": {
      "text/html": [
       "<pre style=\"white-space:pre;overflow-x:auto;line-height:normal;font-family:Menlo,'DejaVu Sans Mono',consolas,'Courier New',monospace\">UAA <span style=\"color: #008080; text-decoration-color: #008080; font-weight: bold\">2020</span> ITEM <span style=\"color: #008080; text-decoration-color: #008080; font-weight: bold\">7</span> saved\n",
       "</pre>\n"
      ],
      "text/plain": [
       "UAA \u001b[1;36m2020\u001b[0m ITEM \u001b[1;36m7\u001b[0m saved\n"
      ]
     },
     "metadata": {},
     "output_type": "display_data"
    },
    {
     "data": {
      "text/html": [
       "<pre style=\"white-space:pre;overflow-x:auto;line-height:normal;font-family:Menlo,'DejaVu Sans Mono',consolas,'Courier New',monospace\">UA <span style=\"color: #008080; text-decoration-color: #008080; font-weight: bold\">2020</span> ITEM <span style=\"color: #008080; text-decoration-color: #008080; font-weight: bold\">7</span> saved\n",
       "</pre>\n"
      ],
      "text/plain": [
       "UA \u001b[1;36m2020\u001b[0m ITEM \u001b[1;36m7\u001b[0m saved\n"
      ]
     },
     "metadata": {},
     "output_type": "display_data"
    },
    {
     "data": {
      "text/html": [
       "<pre style=\"white-space:pre;overflow-x:auto;line-height:normal;font-family:Menlo,'DejaVu Sans Mono',consolas,'Courier New',monospace\"></pre>\n"
      ],
      "text/plain": []
     },
     "metadata": {},
     "output_type": "display_data"
    },
    {
     "data": {
      "text/html": [
       "<pre style=\"white-space:pre;overflow-x:auto;line-height:normal;font-family:Menlo,'DejaVu Sans Mono',consolas,'Courier New',monospace\">UNP <span style=\"color: #008080; text-decoration-color: #008080; font-weight: bold\">2020</span> ITEM <span style=\"color: #008080; text-decoration-color: #008080; font-weight: bold\">7</span> saved\n",
       "</pre>\n"
      ],
      "text/plain": [
       "UNP \u001b[1;36m2020\u001b[0m ITEM \u001b[1;36m7\u001b[0m saved\n"
      ]
     },
     "metadata": {},
     "output_type": "display_data"
    },
    {
     "data": {
      "text/html": [
       "<pre style=\"white-space:pre;overflow-x:auto;line-height:normal;font-family:Menlo,'DejaVu Sans Mono',consolas,'Courier New',monospace\"></pre>\n"
      ],
      "text/plain": []
     },
     "metadata": {},
     "output_type": "display_data"
    },
    {
     "data": {
      "text/html": [
       "<pre style=\"white-space:pre;overflow-x:auto;line-height:normal;font-family:Menlo,'DejaVu Sans Mono',consolas,'Courier New',monospace\">UAL <span style=\"color: #008080; text-decoration-color: #008080; font-weight: bold\">2020</span> ITEM <span style=\"color: #008080; text-decoration-color: #008080; font-weight: bold\">7</span> saved\n",
       "</pre>\n"
      ],
      "text/plain": [
       "UAL \u001b[1;36m2020\u001b[0m ITEM \u001b[1;36m7\u001b[0m saved\n"
      ]
     },
     "metadata": {},
     "output_type": "display_data"
    },
    {
     "data": {
      "text/html": [
       "<pre style=\"white-space:pre;overflow-x:auto;line-height:normal;font-family:Menlo,'DejaVu Sans Mono',consolas,'Courier New',monospace\"></pre>\n"
      ],
      "text/plain": []
     },
     "metadata": {},
     "output_type": "display_data"
    },
    {
     "data": {
      "text/html": [
       "<pre style=\"white-space:pre;overflow-x:auto;line-height:normal;font-family:Menlo,'DejaVu Sans Mono',consolas,'Courier New',monospace\">UPS <span style=\"color: #008080; text-decoration-color: #008080; font-weight: bold\">2020</span> ITEM <span style=\"color: #008080; text-decoration-color: #008080; font-weight: bold\">7</span> saved\n",
       "</pre>\n"
      ],
      "text/plain": [
       "UPS \u001b[1;36m2020\u001b[0m ITEM \u001b[1;36m7\u001b[0m saved\n"
      ]
     },
     "metadata": {},
     "output_type": "display_data"
    },
    {
     "data": {
      "text/html": [
       "<pre style=\"white-space:pre;overflow-x:auto;line-height:normal;font-family:Menlo,'DejaVu Sans Mono',consolas,'Courier New',monospace\"></pre>\n"
      ],
      "text/plain": []
     },
     "metadata": {},
     "output_type": "display_data"
    },
    {
     "data": {
      "text/html": [
       "<pre style=\"white-space:pre;overflow-x:auto;line-height:normal;font-family:Menlo,'DejaVu Sans Mono',consolas,'Courier New',monospace\">URI <span style=\"color: #008080; text-decoration-color: #008080; font-weight: bold\">2020</span> ITEM <span style=\"color: #008080; text-decoration-color: #008080; font-weight: bold\">7</span> saved\n",
       "</pre>\n"
      ],
      "text/plain": [
       "URI \u001b[1;36m2020\u001b[0m ITEM \u001b[1;36m7\u001b[0m saved\n"
      ]
     },
     "metadata": {},
     "output_type": "display_data"
    },
    {
     "data": {
      "text/html": [
       "<pre style=\"white-space:pre;overflow-x:auto;line-height:normal;font-family:Menlo,'DejaVu Sans Mono',consolas,'Courier New',monospace\"></pre>\n"
      ],
      "text/plain": []
     },
     "metadata": {},
     "output_type": "display_data"
    },
    {
     "data": {
      "text/html": [
       "<pre style=\"white-space:pre;overflow-x:auto;line-height:normal;font-family:Menlo,'DejaVu Sans Mono',consolas,'Courier New',monospace\">UNH <span style=\"color: #008080; text-decoration-color: #008080; font-weight: bold\">2020</span> ITEM <span style=\"color: #008080; text-decoration-color: #008080; font-weight: bold\">7</span> saved\n",
       "</pre>\n"
      ],
      "text/plain": [
       "UNH \u001b[1;36m2020\u001b[0m ITEM \u001b[1;36m7\u001b[0m saved\n"
      ]
     },
     "metadata": {},
     "output_type": "display_data"
    },
    {
     "data": {
      "text/html": [
       "<pre style=\"white-space:pre;overflow-x:auto;line-height:normal;font-family:Menlo,'DejaVu Sans Mono',consolas,'Courier New',monospace\"></pre>\n"
      ],
      "text/plain": []
     },
     "metadata": {},
     "output_type": "display_data"
    },
    {
     "data": {
      "text/html": [
       "<pre style=\"white-space:pre;overflow-x:auto;line-height:normal;font-family:Menlo,'DejaVu Sans Mono',consolas,'Courier New',monospace\">UHS <span style=\"color: #008080; text-decoration-color: #008080; font-weight: bold\">2020</span> ITEM <span style=\"color: #008080; text-decoration-color: #008080; font-weight: bold\">7</span> saved\n",
       "</pre>\n"
      ],
      "text/plain": [
       "UHS \u001b[1;36m2020\u001b[0m ITEM \u001b[1;36m7\u001b[0m saved\n"
      ]
     },
     "metadata": {},
     "output_type": "display_data"
    },
    {
     "data": {
      "text/html": [
       "<pre style=\"white-space:pre;overflow-x:auto;line-height:normal;font-family:Menlo,'DejaVu Sans Mono',consolas,'Courier New',monospace\"></pre>\n"
      ],
      "text/plain": []
     },
     "metadata": {},
     "output_type": "display_data"
    },
    {
     "data": {
      "text/html": [
       "<pre style=\"white-space:pre;overflow-x:auto;line-height:normal;font-family:Menlo,'DejaVu Sans Mono',consolas,'Courier New',monospace\">VLO <span style=\"color: #008080; text-decoration-color: #008080; font-weight: bold\">2020</span> ITEM <span style=\"color: #008080; text-decoration-color: #008080; font-weight: bold\">7</span> saved\n",
       "</pre>\n"
      ],
      "text/plain": [
       "VLO \u001b[1;36m2020\u001b[0m ITEM \u001b[1;36m7\u001b[0m saved\n"
      ]
     },
     "metadata": {},
     "output_type": "display_data"
    },
    {
     "data": {
      "text/html": [
       "<pre style=\"white-space:pre;overflow-x:auto;line-height:normal;font-family:Menlo,'DejaVu Sans Mono',consolas,'Courier New',monospace\"></pre>\n"
      ],
      "text/plain": []
     },
     "metadata": {},
     "output_type": "display_data"
    },
    {
     "data": {
      "text/html": [
       "<pre style=\"white-space:pre;overflow-x:auto;line-height:normal;font-family:Menlo,'DejaVu Sans Mono',consolas,'Courier New',monospace\">VTR <span style=\"color: #008080; text-decoration-color: #008080; font-weight: bold\">2020</span> ITEM <span style=\"color: #008080; text-decoration-color: #008080; font-weight: bold\">7</span> saved\n",
       "</pre>\n"
      ],
      "text/plain": [
       "VTR \u001b[1;36m2020\u001b[0m ITEM \u001b[1;36m7\u001b[0m saved\n"
      ]
     },
     "metadata": {},
     "output_type": "display_data"
    },
    {
     "data": {
      "text/html": [
       "<pre style=\"white-space:pre;overflow-x:auto;line-height:normal;font-family:Menlo,'DejaVu Sans Mono',consolas,'Courier New',monospace\"></pre>\n"
      ],
      "text/plain": []
     },
     "metadata": {},
     "output_type": "display_data"
    },
    {
     "data": {
      "text/html": [
       "<pre style=\"white-space:pre;overflow-x:auto;line-height:normal;font-family:Menlo,'DejaVu Sans Mono',consolas,'Courier New',monospace\">VRSN <span style=\"color: #008080; text-decoration-color: #008080; font-weight: bold\">2020</span> ITEM <span style=\"color: #008080; text-decoration-color: #008080; font-weight: bold\">7</span> saved\n",
       "</pre>\n"
      ],
      "text/plain": [
       "VRSN \u001b[1;36m2020\u001b[0m ITEM \u001b[1;36m7\u001b[0m saved\n"
      ]
     },
     "metadata": {},
     "output_type": "display_data"
    },
    {
     "data": {
      "text/html": [
       "<pre style=\"white-space:pre;overflow-x:auto;line-height:normal;font-family:Menlo,'DejaVu Sans Mono',consolas,'Courier New',monospace\"></pre>\n"
      ],
      "text/plain": []
     },
     "metadata": {},
     "output_type": "display_data"
    },
    {
     "data": {
      "text/html": [
       "<pre style=\"white-space:pre;overflow-x:auto;line-height:normal;font-family:Menlo,'DejaVu Sans Mono',consolas,'Courier New',monospace\">VRSK <span style=\"color: #008080; text-decoration-color: #008080; font-weight: bold\">2020</span> ITEM <span style=\"color: #008080; text-decoration-color: #008080; font-weight: bold\">7</span> saved\n",
       "</pre>\n"
      ],
      "text/plain": [
       "VRSK \u001b[1;36m2020\u001b[0m ITEM \u001b[1;36m7\u001b[0m saved\n"
      ]
     },
     "metadata": {},
     "output_type": "display_data"
    },
    {
     "data": {
      "text/html": [
       "<pre style=\"white-space:pre;overflow-x:auto;line-height:normal;font-family:Menlo,'DejaVu Sans Mono',consolas,'Courier New',monospace\"></pre>\n"
      ],
      "text/plain": []
     },
     "metadata": {},
     "output_type": "display_data"
    },
    {
     "data": {
      "text/html": [
       "<pre style=\"white-space:pre;overflow-x:auto;line-height:normal;font-family:Menlo,'DejaVu Sans Mono',consolas,'Courier New',monospace\">VZ <span style=\"color: #008080; text-decoration-color: #008080; font-weight: bold\">2020</span> ITEM <span style=\"color: #008080; text-decoration-color: #008080; font-weight: bold\">7</span> saved\n",
       "</pre>\n"
      ],
      "text/plain": [
       "VZ \u001b[1;36m2020\u001b[0m ITEM \u001b[1;36m7\u001b[0m saved\n"
      ]
     },
     "metadata": {},
     "output_type": "display_data"
    },
    {
     "data": {
      "text/html": [
       "<pre style=\"white-space:pre;overflow-x:auto;line-height:normal;font-family:Menlo,'DejaVu Sans Mono',consolas,'Courier New',monospace\"></pre>\n"
      ],
      "text/plain": []
     },
     "metadata": {},
     "output_type": "display_data"
    },
    {
     "data": {
      "text/html": [
       "<pre style=\"white-space:pre;overflow-x:auto;line-height:normal;font-family:Menlo,'DejaVu Sans Mono',consolas,'Courier New',monospace\">VRTX <span style=\"color: #008080; text-decoration-color: #008080; font-weight: bold\">2020</span> ITEM <span style=\"color: #008080; text-decoration-color: #008080; font-weight: bold\">7</span> saved\n",
       "</pre>\n"
      ],
      "text/plain": [
       "VRTX \u001b[1;36m2020\u001b[0m ITEM \u001b[1;36m7\u001b[0m saved\n"
      ]
     },
     "metadata": {},
     "output_type": "display_data"
    },
    {
     "data": {
      "text/html": [
       "<pre style=\"white-space:pre;overflow-x:auto;line-height:normal;font-family:Menlo,'DejaVu Sans Mono',consolas,'Courier New',monospace\"></pre>\n"
      ],
      "text/plain": []
     },
     "metadata": {},
     "output_type": "display_data"
    },
    {
     "data": {
      "text/html": [
       "<pre style=\"white-space:pre;overflow-x:auto;line-height:normal;font-family:Menlo,'DejaVu Sans Mono',consolas,'Courier New',monospace\">VFC <span style=\"color: #008080; text-decoration-color: #008080; font-weight: bold\">2020</span> ITEM <span style=\"color: #008080; text-decoration-color: #008080; font-weight: bold\">7</span> saved\n",
       "</pre>\n"
      ],
      "text/plain": [
       "VFC \u001b[1;36m2020\u001b[0m ITEM \u001b[1;36m7\u001b[0m saved\n"
      ]
     },
     "metadata": {},
     "output_type": "display_data"
    },
    {
     "data": {
      "text/html": [
       "<pre style=\"white-space:pre;overflow-x:auto;line-height:normal;font-family:Menlo,'DejaVu Sans Mono',consolas,'Courier New',monospace\">Extraction failed for company: <span style=\"color: #008000; text-decoration-color: #008000\">'NoneType'</span> object has no attribute <span style=\"color: #008000; text-decoration-color: #008000\">'get_filings'</span>\n",
       "</pre>\n"
      ],
      "text/plain": [
       "Extraction failed for company: \u001b[32m'NoneType'\u001b[0m object has no attribute \u001b[32m'get_filings'\u001b[0m\n"
      ]
     },
     "metadata": {},
     "output_type": "display_data"
    },
    {
     "data": {
      "text/html": [
       "<pre style=\"white-space:pre;overflow-x:auto;line-height:normal;font-family:Menlo,'DejaVu Sans Mono',consolas,'Courier New',monospace\"></pre>\n"
      ],
      "text/plain": []
     },
     "metadata": {},
     "output_type": "display_data"
    },
    {
     "data": {
      "text/html": [
       "<pre style=\"white-space:pre;overflow-x:auto;line-height:normal;font-family:Menlo,'DejaVu Sans Mono',consolas,'Courier New',monospace\">VTRS <span style=\"color: #008080; text-decoration-color: #008080; font-weight: bold\">2020</span> ITEM <span style=\"color: #008080; text-decoration-color: #008080; font-weight: bold\">7</span> saved\n",
       "</pre>\n"
      ],
      "text/plain": [
       "VTRS \u001b[1;36m2020\u001b[0m ITEM \u001b[1;36m7\u001b[0m saved\n"
      ]
     },
     "metadata": {},
     "output_type": "display_data"
    },
    {
     "data": {
      "text/html": [
       "<pre style=\"white-space:pre;overflow-x:auto;line-height:normal;font-family:Menlo,'DejaVu Sans Mono',consolas,'Courier New',monospace\"></pre>\n"
      ],
      "text/plain": []
     },
     "metadata": {},
     "output_type": "display_data"
    },
    {
     "data": {
      "text/html": [
       "<pre style=\"white-space:pre;overflow-x:auto;line-height:normal;font-family:Menlo,'DejaVu Sans Mono',consolas,'Courier New',monospace\">V <span style=\"color: #008080; text-decoration-color: #008080; font-weight: bold\">2020</span> ITEM <span style=\"color: #008080; text-decoration-color: #008080; font-weight: bold\">7</span> saved\n",
       "</pre>\n"
      ],
      "text/plain": [
       "V \u001b[1;36m2020\u001b[0m ITEM \u001b[1;36m7\u001b[0m saved\n"
      ]
     },
     "metadata": {},
     "output_type": "display_data"
    },
    {
     "data": {
      "text/html": [
       "<pre style=\"white-space:pre;overflow-x:auto;line-height:normal;font-family:Menlo,'DejaVu Sans Mono',consolas,'Courier New',monospace\"></pre>\n"
      ],
      "text/plain": []
     },
     "metadata": {},
     "output_type": "display_data"
    },
    {
     "data": {
      "text/html": [
       "<pre style=\"white-space:pre;overflow-x:auto;line-height:normal;font-family:Menlo,'DejaVu Sans Mono',consolas,'Courier New',monospace\">VNO <span style=\"color: #008080; text-decoration-color: #008080; font-weight: bold\">2020</span> ITEM <span style=\"color: #008080; text-decoration-color: #008080; font-weight: bold\">7</span> saved\n",
       "</pre>\n"
      ],
      "text/plain": [
       "VNO \u001b[1;36m2020\u001b[0m ITEM \u001b[1;36m7\u001b[0m saved\n"
      ]
     },
     "metadata": {},
     "output_type": "display_data"
    },
    {
     "data": {
      "text/html": [
       "<pre style=\"white-space:pre;overflow-x:auto;line-height:normal;font-family:Menlo,'DejaVu Sans Mono',consolas,'Courier New',monospace\"></pre>\n"
      ],
      "text/plain": []
     },
     "metadata": {},
     "output_type": "display_data"
    },
    {
     "data": {
      "text/html": [
       "<pre style=\"white-space:pre;overflow-x:auto;line-height:normal;font-family:Menlo,'DejaVu Sans Mono',consolas,'Courier New',monospace\">VMC <span style=\"color: #008080; text-decoration-color: #008080; font-weight: bold\">2020</span> ITEM <span style=\"color: #008080; text-decoration-color: #008080; font-weight: bold\">7</span> saved\n",
       "</pre>\n"
      ],
      "text/plain": [
       "VMC \u001b[1;36m2020\u001b[0m ITEM \u001b[1;36m7\u001b[0m saved\n"
      ]
     },
     "metadata": {},
     "output_type": "display_data"
    },
    {
     "data": {
      "text/html": [
       "<pre style=\"white-space:pre;overflow-x:auto;line-height:normal;font-family:Menlo,'DejaVu Sans Mono',consolas,'Courier New',monospace\"></pre>\n"
      ],
      "text/plain": []
     },
     "metadata": {},
     "output_type": "display_data"
    },
    {
     "data": {
      "text/html": [
       "<pre style=\"white-space:pre;overflow-x:auto;line-height:normal;font-family:Menlo,'DejaVu Sans Mono',consolas,'Courier New',monospace\">WRB <span style=\"color: #008080; text-decoration-color: #008080; font-weight: bold\">2020</span> ITEM <span style=\"color: #008080; text-decoration-color: #008080; font-weight: bold\">7</span> saved\n",
       "</pre>\n"
      ],
      "text/plain": [
       "WRB \u001b[1;36m2020\u001b[0m ITEM \u001b[1;36m7\u001b[0m saved\n"
      ]
     },
     "metadata": {},
     "output_type": "display_data"
    },
    {
     "data": {
      "text/html": [
       "<pre style=\"white-space:pre;overflow-x:auto;line-height:normal;font-family:Menlo,'DejaVu Sans Mono',consolas,'Courier New',monospace\"></pre>\n"
      ],
      "text/plain": []
     },
     "metadata": {},
     "output_type": "display_data"
    },
    {
     "data": {
      "text/html": [
       "<pre style=\"white-space:pre;overflow-x:auto;line-height:normal;font-family:Menlo,'DejaVu Sans Mono',consolas,'Courier New',monospace\">GWW <span style=\"color: #008080; text-decoration-color: #008080; font-weight: bold\">2020</span> ITEM <span style=\"color: #008080; text-decoration-color: #008080; font-weight: bold\">7</span> saved\n",
       "</pre>\n"
      ],
      "text/plain": [
       "GWW \u001b[1;36m2020\u001b[0m ITEM \u001b[1;36m7\u001b[0m saved\n"
      ]
     },
     "metadata": {},
     "output_type": "display_data"
    },
    {
     "data": {
      "text/html": [
       "<pre style=\"white-space:pre;overflow-x:auto;line-height:normal;font-family:Menlo,'DejaVu Sans Mono',consolas,'Courier New',monospace\"></pre>\n"
      ],
      "text/plain": []
     },
     "metadata": {},
     "output_type": "display_data"
    },
    {
     "data": {
      "text/html": [
       "<pre style=\"white-space:pre;overflow-x:auto;line-height:normal;font-family:Menlo,'DejaVu Sans Mono',consolas,'Courier New',monospace\">WAB <span style=\"color: #008080; text-decoration-color: #008080; font-weight: bold\">2020</span> ITEM <span style=\"color: #008080; text-decoration-color: #008080; font-weight: bold\">7</span> saved\n",
       "</pre>\n"
      ],
      "text/plain": [
       "WAB \u001b[1;36m2020\u001b[0m ITEM \u001b[1;36m7\u001b[0m saved\n"
      ]
     },
     "metadata": {},
     "output_type": "display_data"
    },
    {
     "data": {
      "text/html": [
       "<pre style=\"white-space:pre;overflow-x:auto;line-height:normal;font-family:Menlo,'DejaVu Sans Mono',consolas,'Courier New',monospace\"></pre>\n"
      ],
      "text/plain": []
     },
     "metadata": {},
     "output_type": "display_data"
    },
    {
     "data": {
      "text/html": [
       "<pre style=\"white-space:pre;overflow-x:auto;line-height:normal;font-family:Menlo,'DejaVu Sans Mono',consolas,'Courier New',monospace\">WBA <span style=\"color: #008080; text-decoration-color: #008080; font-weight: bold\">2020</span> ITEM <span style=\"color: #008080; text-decoration-color: #008080; font-weight: bold\">7</span> saved\n",
       "</pre>\n"
      ],
      "text/plain": [
       "WBA \u001b[1;36m2020\u001b[0m ITEM \u001b[1;36m7\u001b[0m saved\n"
      ]
     },
     "metadata": {},
     "output_type": "display_data"
    },
    {
     "data": {
      "text/html": [
       "<pre style=\"white-space:pre;overflow-x:auto;line-height:normal;font-family:Menlo,'DejaVu Sans Mono',consolas,'Courier New',monospace\"></pre>\n"
      ],
      "text/plain": []
     },
     "metadata": {},
     "output_type": "display_data"
    },
    {
     "data": {
      "text/html": [
       "<pre style=\"white-space:pre;overflow-x:auto;line-height:normal;font-family:Menlo,'DejaVu Sans Mono',consolas,'Courier New',monospace\">WMT <span style=\"color: #008080; text-decoration-color: #008080; font-weight: bold\">2020</span> ITEM <span style=\"color: #008080; text-decoration-color: #008080; font-weight: bold\">7</span> saved\n",
       "</pre>\n"
      ],
      "text/plain": [
       "WMT \u001b[1;36m2020\u001b[0m ITEM \u001b[1;36m7\u001b[0m saved\n"
      ]
     },
     "metadata": {},
     "output_type": "display_data"
    },
    {
     "data": {
      "text/html": [
       "<pre style=\"white-space:pre;overflow-x:auto;line-height:normal;font-family:Menlo,'DejaVu Sans Mono',consolas,'Courier New',monospace\"></pre>\n"
      ],
      "text/plain": []
     },
     "metadata": {},
     "output_type": "display_data"
    },
    {
     "data": {
      "text/html": [
       "<pre style=\"white-space:pre;overflow-x:auto;line-height:normal;font-family:Menlo,'DejaVu Sans Mono',consolas,'Courier New',monospace\">WM <span style=\"color: #008080; text-decoration-color: #008080; font-weight: bold\">2020</span> ITEM <span style=\"color: #008080; text-decoration-color: #008080; font-weight: bold\">7</span> saved\n",
       "</pre>\n"
      ],
      "text/plain": [
       "WM \u001b[1;36m2020\u001b[0m ITEM \u001b[1;36m7\u001b[0m saved\n"
      ]
     },
     "metadata": {},
     "output_type": "display_data"
    },
    {
     "data": {
      "text/html": [
       "<pre style=\"white-space:pre;overflow-x:auto;line-height:normal;font-family:Menlo,'DejaVu Sans Mono',consolas,'Courier New',monospace\"></pre>\n"
      ],
      "text/plain": []
     },
     "metadata": {},
     "output_type": "display_data"
    },
    {
     "data": {
      "text/html": [
       "<pre style=\"white-space:pre;overflow-x:auto;line-height:normal;font-family:Menlo,'DejaVu Sans Mono',consolas,'Courier New',monospace\">WAT <span style=\"color: #008080; text-decoration-color: #008080; font-weight: bold\">2020</span> ITEM <span style=\"color: #008080; text-decoration-color: #008080; font-weight: bold\">7</span> saved\n",
       "</pre>\n"
      ],
      "text/plain": [
       "WAT \u001b[1;36m2020\u001b[0m ITEM \u001b[1;36m7\u001b[0m saved\n"
      ]
     },
     "metadata": {},
     "output_type": "display_data"
    },
    {
     "data": {
      "text/html": [
       "<pre style=\"white-space:pre;overflow-x:auto;line-height:normal;font-family:Menlo,'DejaVu Sans Mono',consolas,'Courier New',monospace\"></pre>\n"
      ],
      "text/plain": []
     },
     "metadata": {},
     "output_type": "display_data"
    },
    {
     "data": {
      "text/html": [
       "<pre style=\"white-space:pre;overflow-x:auto;line-height:normal;font-family:Menlo,'DejaVu Sans Mono',consolas,'Courier New',monospace\">WEC <span style=\"color: #008080; text-decoration-color: #008080; font-weight: bold\">2020</span> ITEM <span style=\"color: #008080; text-decoration-color: #008080; font-weight: bold\">7</span> saved\n",
       "</pre>\n"
      ],
      "text/plain": [
       "WEC \u001b[1;36m2020\u001b[0m ITEM \u001b[1;36m7\u001b[0m saved\n"
      ]
     },
     "metadata": {},
     "output_type": "display_data"
    },
    {
     "data": {
      "text/html": [
       "<pre style=\"white-space:pre;overflow-x:auto;line-height:normal;font-family:Menlo,'DejaVu Sans Mono',consolas,'Courier New',monospace\"></pre>\n"
      ],
      "text/plain": []
     },
     "metadata": {},
     "output_type": "display_data"
    },
    {
     "data": {
      "text/html": [
       "<pre style=\"white-space:pre;overflow-x:auto;line-height:normal;font-family:Menlo,'DejaVu Sans Mono',consolas,'Courier New',monospace\">WFC <span style=\"color: #008080; text-decoration-color: #008080; font-weight: bold\">2020</span> ITEM <span style=\"color: #008080; text-decoration-color: #008080; font-weight: bold\">7</span> saved\n",
       "</pre>\n"
      ],
      "text/plain": [
       "WFC \u001b[1;36m2020\u001b[0m ITEM \u001b[1;36m7\u001b[0m saved\n"
      ]
     },
     "metadata": {},
     "output_type": "display_data"
    },
    {
     "data": {
      "text/html": [
       "<pre style=\"white-space:pre;overflow-x:auto;line-height:normal;font-family:Menlo,'DejaVu Sans Mono',consolas,'Courier New',monospace\"></pre>\n"
      ],
      "text/plain": []
     },
     "metadata": {},
     "output_type": "display_data"
    },
    {
     "data": {
      "text/html": [
       "<pre style=\"white-space:pre;overflow-x:auto;line-height:normal;font-family:Menlo,'DejaVu Sans Mono',consolas,'Courier New',monospace\">WELL <span style=\"color: #008080; text-decoration-color: #008080; font-weight: bold\">2020</span> ITEM <span style=\"color: #008080; text-decoration-color: #008080; font-weight: bold\">7</span> saved\n",
       "</pre>\n"
      ],
      "text/plain": [
       "WELL \u001b[1;36m2020\u001b[0m ITEM \u001b[1;36m7\u001b[0m saved\n"
      ]
     },
     "metadata": {},
     "output_type": "display_data"
    },
    {
     "data": {
      "text/html": [
       "<pre style=\"white-space:pre;overflow-x:auto;line-height:normal;font-family:Menlo,'DejaVu Sans Mono',consolas,'Courier New',monospace\"></pre>\n"
      ],
      "text/plain": []
     },
     "metadata": {},
     "output_type": "display_data"
    },
    {
     "data": {
      "text/html": [
       "<pre style=\"white-space:pre;overflow-x:auto;line-height:normal;font-family:Menlo,'DejaVu Sans Mono',consolas,'Courier New',monospace\">WST <span style=\"color: #008080; text-decoration-color: #008080; font-weight: bold\">2020</span> ITEM <span style=\"color: #008080; text-decoration-color: #008080; font-weight: bold\">7</span> saved\n",
       "</pre>\n"
      ],
      "text/plain": [
       "WST \u001b[1;36m2020\u001b[0m ITEM \u001b[1;36m7\u001b[0m saved\n"
      ]
     },
     "metadata": {},
     "output_type": "display_data"
    },
    {
     "data": {
      "text/html": [
       "<pre style=\"white-space:pre;overflow-x:auto;line-height:normal;font-family:Menlo,'DejaVu Sans Mono',consolas,'Courier New',monospace\"></pre>\n"
      ],
      "text/plain": []
     },
     "metadata": {},
     "output_type": "display_data"
    },
    {
     "data": {
      "text/html": [
       "<pre style=\"white-space:pre;overflow-x:auto;line-height:normal;font-family:Menlo,'DejaVu Sans Mono',consolas,'Courier New',monospace\">WDC <span style=\"color: #008080; text-decoration-color: #008080; font-weight: bold\">2020</span> ITEM <span style=\"color: #008080; text-decoration-color: #008080; font-weight: bold\">7</span> saved\n",
       "</pre>\n"
      ],
      "text/plain": [
       "WDC \u001b[1;36m2020\u001b[0m ITEM \u001b[1;36m7\u001b[0m saved\n"
      ]
     },
     "metadata": {},
     "output_type": "display_data"
    },
    {
     "data": {
      "text/html": [
       "<pre style=\"white-space:pre;overflow-x:auto;line-height:normal;font-family:Menlo,'DejaVu Sans Mono',consolas,'Courier New',monospace\"></pre>\n"
      ],
      "text/plain": []
     },
     "metadata": {},
     "output_type": "display_data"
    },
    {
     "data": {
      "text/html": [
       "<pre style=\"white-space:pre;overflow-x:auto;line-height:normal;font-family:Menlo,'DejaVu Sans Mono',consolas,'Courier New',monospace\">WU <span style=\"color: #008080; text-decoration-color: #008080; font-weight: bold\">2020</span> ITEM <span style=\"color: #008080; text-decoration-color: #008080; font-weight: bold\">7</span> saved\n",
       "</pre>\n"
      ],
      "text/plain": [
       "WU \u001b[1;36m2020\u001b[0m ITEM \u001b[1;36m7\u001b[0m saved\n"
      ]
     },
     "metadata": {},
     "output_type": "display_data"
    },
    {
     "data": {
      "text/html": [
       "<pre style=\"white-space:pre;overflow-x:auto;line-height:normal;font-family:Menlo,'DejaVu Sans Mono',consolas,'Courier New',monospace\"></pre>\n"
      ],
      "text/plain": []
     },
     "metadata": {},
     "output_type": "display_data"
    },
    {
     "data": {
      "text/html": [
       "<pre style=\"white-space:pre;overflow-x:auto;line-height:normal;font-family:Menlo,'DejaVu Sans Mono',consolas,'Courier New',monospace\">WRK <span style=\"color: #008080; text-decoration-color: #008080; font-weight: bold\">2020</span> ITEM <span style=\"color: #008080; text-decoration-color: #008080; font-weight: bold\">7</span> saved\n",
       "</pre>\n"
      ],
      "text/plain": [
       "WRK \u001b[1;36m2020\u001b[0m ITEM \u001b[1;36m7\u001b[0m saved\n"
      ]
     },
     "metadata": {},
     "output_type": "display_data"
    },
    {
     "data": {
      "text/html": [
       "<pre style=\"white-space:pre;overflow-x:auto;line-height:normal;font-family:Menlo,'DejaVu Sans Mono',consolas,'Courier New',monospace\"></pre>\n"
      ],
      "text/plain": []
     },
     "metadata": {},
     "output_type": "display_data"
    },
    {
     "data": {
      "text/html": [
       "<pre style=\"white-space:pre;overflow-x:auto;line-height:normal;font-family:Menlo,'DejaVu Sans Mono',consolas,'Courier New',monospace\">Extraction failed for company: Length mismatch: Expected axis has <span style=\"color: #008080; text-decoration-color: #008080; font-weight: bold\">0</span> elements, new values have <span style=\"color: #008080; text-decoration-color: #008080; font-weight: bold\">3</span> elements\n",
       "</pre>\n"
      ],
      "text/plain": [
       "Extraction failed for company: Length mismatch: Expected axis has \u001b[1;36m0\u001b[0m elements, new values have \u001b[1;36m3\u001b[0m elements\n"
      ]
     },
     "metadata": {},
     "output_type": "display_data"
    },
    {
     "data": {
      "text/html": [
       "<pre style=\"white-space:pre;overflow-x:auto;line-height:normal;font-family:Menlo,'DejaVu Sans Mono',consolas,'Courier New',monospace\"></pre>\n"
      ],
      "text/plain": []
     },
     "metadata": {},
     "output_type": "display_data"
    },
    {
     "data": {
      "text/html": [
       "<pre style=\"white-space:pre;overflow-x:auto;line-height:normal;font-family:Menlo,'DejaVu Sans Mono',consolas,'Courier New',monospace\">WHR <span style=\"color: #008080; text-decoration-color: #008080; font-weight: bold\">2020</span> ITEM <span style=\"color: #008080; text-decoration-color: #008080; font-weight: bold\">7</span> saved\n",
       "</pre>\n"
      ],
      "text/plain": [
       "WHR \u001b[1;36m2020\u001b[0m ITEM \u001b[1;36m7\u001b[0m saved\n"
      ]
     },
     "metadata": {},
     "output_type": "display_data"
    },
    {
     "data": {
      "text/html": [
       "<pre style=\"white-space:pre;overflow-x:auto;line-height:normal;font-family:Menlo,'DejaVu Sans Mono',consolas,'Courier New',monospace\"></pre>\n"
      ],
      "text/plain": []
     },
     "metadata": {},
     "output_type": "display_data"
    },
    {
     "data": {
      "text/html": [
       "<pre style=\"white-space:pre;overflow-x:auto;line-height:normal;font-family:Menlo,'DejaVu Sans Mono',consolas,'Courier New',monospace\">WMB <span style=\"color: #008080; text-decoration-color: #008080; font-weight: bold\">2020</span> ITEM <span style=\"color: #008080; text-decoration-color: #008080; font-weight: bold\">7</span> saved\n",
       "</pre>\n"
      ],
      "text/plain": [
       "WMB \u001b[1;36m2020\u001b[0m ITEM \u001b[1;36m7\u001b[0m saved\n"
      ]
     },
     "metadata": {},
     "output_type": "display_data"
    },
    {
     "data": {
      "text/html": [
       "<pre style=\"white-space:pre;overflow-x:auto;line-height:normal;font-family:Menlo,'DejaVu Sans Mono',consolas,'Courier New',monospace\">Extraction failed for company: <span style=\"color: #008000; text-decoration-color: #008000\">'NoneType'</span> object has no attribute <span style=\"color: #008000; text-decoration-color: #008000\">'get_filings'</span>\n",
       "</pre>\n"
      ],
      "text/plain": [
       "Extraction failed for company: \u001b[32m'NoneType'\u001b[0m object has no attribute \u001b[32m'get_filings'\u001b[0m\n"
      ]
     },
     "metadata": {},
     "output_type": "display_data"
    },
    {
     "data": {
      "text/html": [
       "<pre style=\"white-space:pre;overflow-x:auto;line-height:normal;font-family:Menlo,'DejaVu Sans Mono',consolas,'Courier New',monospace\"></pre>\n"
      ],
      "text/plain": []
     },
     "metadata": {},
     "output_type": "display_data"
    },
    {
     "data": {
      "text/html": [
       "<pre style=\"white-space:pre;overflow-x:auto;line-height:normal;font-family:Menlo,'DejaVu Sans Mono',consolas,'Courier New',monospace\">WYNN <span style=\"color: #008080; text-decoration-color: #008080; font-weight: bold\">2020</span> ITEM <span style=\"color: #008080; text-decoration-color: #008080; font-weight: bold\">7</span> saved\n",
       "</pre>\n"
      ],
      "text/plain": [
       "WYNN \u001b[1;36m2020\u001b[0m ITEM \u001b[1;36m7\u001b[0m saved\n"
      ]
     },
     "metadata": {},
     "output_type": "display_data"
    },
    {
     "data": {
      "text/html": [
       "<pre style=\"white-space:pre;overflow-x:auto;line-height:normal;font-family:Menlo,'DejaVu Sans Mono',consolas,'Courier New',monospace\"></pre>\n"
      ],
      "text/plain": []
     },
     "metadata": {},
     "output_type": "display_data"
    },
    {
     "data": {
      "text/html": [
       "<pre style=\"white-space:pre;overflow-x:auto;line-height:normal;font-family:Menlo,'DejaVu Sans Mono',consolas,'Courier New',monospace\">XEL <span style=\"color: #008080; text-decoration-color: #008080; font-weight: bold\">2020</span> ITEM <span style=\"color: #008080; text-decoration-color: #008080; font-weight: bold\">7</span> saved\n",
       "</pre>\n"
      ],
      "text/plain": [
       "XEL \u001b[1;36m2020\u001b[0m ITEM \u001b[1;36m7\u001b[0m saved\n"
      ]
     },
     "metadata": {},
     "output_type": "display_data"
    },
    {
     "data": {
      "text/html": [
       "<pre style=\"white-space:pre;overflow-x:auto;line-height:normal;font-family:Menlo,'DejaVu Sans Mono',consolas,'Courier New',monospace\">Extraction failed for company: <span style=\"color: #008000; text-decoration-color: #008000\">'NoneType'</span> object has no attribute <span style=\"color: #008000; text-decoration-color: #008000\">'get_filings'</span>\n",
       "</pre>\n"
      ],
      "text/plain": [
       "Extraction failed for company: \u001b[32m'NoneType'\u001b[0m object has no attribute \u001b[32m'get_filings'\u001b[0m\n"
      ]
     },
     "metadata": {},
     "output_type": "display_data"
    },
    {
     "data": {
      "text/html": [
       "<pre style=\"white-space:pre;overflow-x:auto;line-height:normal;font-family:Menlo,'DejaVu Sans Mono',consolas,'Courier New',monospace\"></pre>\n"
      ],
      "text/plain": []
     },
     "metadata": {},
     "output_type": "display_data"
    },
    {
     "data": {
      "text/html": [
       "<pre style=\"white-space:pre;overflow-x:auto;line-height:normal;font-family:Menlo,'DejaVu Sans Mono',consolas,'Courier New',monospace\">Extraction failed for company: Length mismatch: Expected axis has <span style=\"color: #008080; text-decoration-color: #008080; font-weight: bold\">0</span> elements, new values have <span style=\"color: #008080; text-decoration-color: #008080; font-weight: bold\">3</span> elements\n",
       "</pre>\n"
      ],
      "text/plain": [
       "Extraction failed for company: Length mismatch: Expected axis has \u001b[1;36m0\u001b[0m elements, new values have \u001b[1;36m3\u001b[0m elements\n"
      ]
     },
     "metadata": {},
     "output_type": "display_data"
    },
    {
     "data": {
      "text/html": [
       "<pre style=\"white-space:pre;overflow-x:auto;line-height:normal;font-family:Menlo,'DejaVu Sans Mono',consolas,'Courier New',monospace\"></pre>\n"
      ],
      "text/plain": []
     },
     "metadata": {},
     "output_type": "display_data"
    },
    {
     "data": {
      "text/html": [
       "<pre style=\"white-space:pre;overflow-x:auto;line-height:normal;font-family:Menlo,'DejaVu Sans Mono',consolas,'Courier New',monospace\">YUM <span style=\"color: #008080; text-decoration-color: #008080; font-weight: bold\">2020</span> ITEM <span style=\"color: #008080; text-decoration-color: #008080; font-weight: bold\">7</span> saved\n",
       "</pre>\n"
      ],
      "text/plain": [
       "YUM \u001b[1;36m2020\u001b[0m ITEM \u001b[1;36m7\u001b[0m saved\n"
      ]
     },
     "metadata": {},
     "output_type": "display_data"
    },
    {
     "data": {
      "text/html": [
       "<pre style=\"white-space:pre;overflow-x:auto;line-height:normal;font-family:Menlo,'DejaVu Sans Mono',consolas,'Courier New',monospace\"></pre>\n"
      ],
      "text/plain": []
     },
     "metadata": {},
     "output_type": "display_data"
    },
    {
     "data": {
      "text/html": [
       "<pre style=\"white-space:pre;overflow-x:auto;line-height:normal;font-family:Menlo,'DejaVu Sans Mono',consolas,'Courier New',monospace\">ZBRA <span style=\"color: #008080; text-decoration-color: #008080; font-weight: bold\">2020</span> ITEM <span style=\"color: #008080; text-decoration-color: #008080; font-weight: bold\">7</span> saved\n",
       "</pre>\n"
      ],
      "text/plain": [
       "ZBRA \u001b[1;36m2020\u001b[0m ITEM \u001b[1;36m7\u001b[0m saved\n"
      ]
     },
     "metadata": {},
     "output_type": "display_data"
    },
    {
     "data": {
      "text/html": [
       "<pre style=\"white-space:pre;overflow-x:auto;line-height:normal;font-family:Menlo,'DejaVu Sans Mono',consolas,'Courier New',monospace\"></pre>\n"
      ],
      "text/plain": []
     },
     "metadata": {},
     "output_type": "display_data"
    },
    {
     "data": {
      "text/html": [
       "<pre style=\"white-space:pre;overflow-x:auto;line-height:normal;font-family:Menlo,'DejaVu Sans Mono',consolas,'Courier New',monospace\">ZBH <span style=\"color: #008080; text-decoration-color: #008080; font-weight: bold\">2020</span> ITEM <span style=\"color: #008080; text-decoration-color: #008080; font-weight: bold\">7</span> saved\n",
       "</pre>\n"
      ],
      "text/plain": [
       "ZBH \u001b[1;36m2020\u001b[0m ITEM \u001b[1;36m7\u001b[0m saved\n"
      ]
     },
     "metadata": {},
     "output_type": "display_data"
    },
    {
     "data": {
      "text/html": [
       "<pre style=\"white-space:pre;overflow-x:auto;line-height:normal;font-family:Menlo,'DejaVu Sans Mono',consolas,'Courier New',monospace\"></pre>\n"
      ],
      "text/plain": []
     },
     "metadata": {},
     "output_type": "display_data"
    },
    {
     "data": {
      "text/html": [
       "<pre style=\"white-space:pre;overflow-x:auto;line-height:normal;font-family:Menlo,'DejaVu Sans Mono',consolas,'Courier New',monospace\">ZION <span style=\"color: #008080; text-decoration-color: #008080; font-weight: bold\">2020</span> ITEM <span style=\"color: #008080; text-decoration-color: #008080; font-weight: bold\">7</span> saved\n",
       "</pre>\n"
      ],
      "text/plain": [
       "ZION \u001b[1;36m2020\u001b[0m ITEM \u001b[1;36m7\u001b[0m saved\n"
      ]
     },
     "metadata": {},
     "output_type": "display_data"
    },
    {
     "data": {
      "text/html": [
       "<pre style=\"white-space:pre;overflow-x:auto;line-height:normal;font-family:Menlo,'DejaVu Sans Mono',consolas,'Courier New',monospace\"></pre>\n"
      ],
      "text/plain": []
     },
     "metadata": {},
     "output_type": "display_data"
    },
    {
     "data": {
      "text/html": [
       "<pre style=\"white-space:pre;overflow-x:auto;line-height:normal;font-family:Menlo,'DejaVu Sans Mono',consolas,'Courier New',monospace\">ZTS <span style=\"color: #008080; text-decoration-color: #008080; font-weight: bold\">2020</span> ITEM <span style=\"color: #008080; text-decoration-color: #008080; font-weight: bold\">7</span> saved\n",
       "</pre>\n"
      ],
      "text/plain": [
       "ZTS \u001b[1;36m2020\u001b[0m ITEM \u001b[1;36m7\u001b[0m saved\n"
      ]
     },
     "metadata": {},
     "output_type": "display_data"
    }
   ],
   "source": [
    "companies_code = pd.read_csv(\"./data/constituents.csv\")\n",
    "\n",
    "for company_code in companies_code['Symbol']:\n",
    "    try:\n",
    "        extract_section(company_code, 2020)\n",
    "    except Exception as e:\n",
    "        print(f\"Extraction failed for company: {e}\")\n",
    "        continue"
   ]
  },
  {
   "cell_type": "code",
   "execution_count": 59,
   "metadata": {},
   "outputs": [
    {
     "data": {
      "text/html": [
       "<pre style=\"white-space:pre;overflow-x:auto;line-height:normal;font-family:Menlo,'DejaVu Sans Mono',consolas,'Courier New',monospace\">/Users/yyy/Library/CloudStorage/OneDrive-Personal/MMA/INSY669/assignment/INSY-669-Group-Project/.venv/lib/python3.1\n",
       "1/site-packages/rich/live.py:231: UserWarning: install \"ipywidgets\" for Jupyter support\n",
       "  warnings.warn('install \"ipywidgets\" for Jupyter support')\n",
       "</pre>\n"
      ],
      "text/plain": [
       "/Users/yyy/Library/CloudStorage/OneDrive-Personal/MMA/INSY669/assignment/INSY-669-Group-Project/.venv/lib/python3.1\n",
       "1/site-packages/rich/live.py:231: UserWarning: install \"ipywidgets\" for Jupyter support\n",
       "  warnings.warn('install \"ipywidgets\" for Jupyter support')\n"
      ]
     },
     "metadata": {},
     "output_type": "display_data"
    },
    {
     "data": {
      "text/html": [
       "<pre style=\"white-space:pre;overflow-x:auto;line-height:normal;font-family:Menlo,'DejaVu Sans Mono',consolas,'Courier New',monospace\"></pre>\n"
      ],
      "text/plain": []
     },
     "metadata": {},
     "output_type": "display_data"
    },
    {
     "data": {
      "text/html": [
       "<pre style=\"white-space:pre;overflow-x:auto;line-height:normal;font-family:Menlo,'DejaVu Sans Mono',consolas,'Courier New',monospace\">NFLX <span style=\"color: #008080; text-decoration-color: #008080; font-weight: bold\">2020</span> ITEM <span style=\"color: #008080; text-decoration-color: #008080; font-weight: bold\">7</span> saved\n",
       "</pre>\n"
      ],
      "text/plain": [
       "NFLX \u001b[1;36m2020\u001b[0m ITEM \u001b[1;36m7\u001b[0m saved\n"
      ]
     },
     "metadata": {},
     "output_type": "display_data"
    },
    {
     "data": {
      "text/html": [
       "<pre style=\"white-space:pre;overflow-x:auto;line-height:normal;font-family:Menlo,'DejaVu Sans Mono',consolas,'Courier New',monospace\"></pre>\n"
      ],
      "text/plain": []
     },
     "metadata": {},
     "output_type": "display_data"
    },
    {
     "data": {
      "text/plain": [
       "\n",
       "╭──────────────────────────────────────── 10-K 📊 filing for NETFLIX INC ─────────────────────────────────────────╮\n",
       "│                                                                                                                 │\n",
       "│  \u001b[1m \u001b[0m\u001b[1mAccession Number    \u001b[0m\u001b[1m \u001b[0m \u001b[1m \u001b[0m\u001b[1mFiling Date\u001b[0m\u001b[1m \u001b[0m \u001b[1m \u001b[0m\u001b[1mCompany    \u001b[0m\u001b[1m \u001b[0m \u001b[1m \u001b[0m\u001b[1mCIK    \u001b[0m\u001b[1m \u001b[0m                                                   │\n",
       "│  ────────────────────────────────────────────────────────────                                                   │\n",
       "│  \u001b[1m \u001b[0m\u001b[1m0001065280-21-000040\u001b[0m\u001b[1m \u001b[0m  2021-01-28    NETFLIX INC   1065280                                                    │\n",
       "│                                                                                                                 │\n",
       "│                                                                                                                 │\n",
       "│  \u001b[1m \u001b[0m\u001b[1mLinks\u001b[0m\u001b[1m: 🏠 Homepage 📄 Primary Document 📜 Full Submission Text                            \u001b[0m\u001b[1m \u001b[0m                   │\n",
       "│  ────────────────────────────────────────────────────────────────────────────────────────────                   │\n",
       "│   🏠 https://sec.gov/Archives/edgar/data/1065280/0001065280-21-000040-index.html                                │\n",
       "│   📄 https://sec.gov/Archives/edgar/data/1065280/000106528021000040/nflx-20201231.htm                           │\n",
       "│   📜 https://sec.gov/Archives/edgar/data/1065280/000106528021000040/0001065280-21-000040.txt                    │\n",
       "│                                                                                                                 │\n",
       "╰─────────────────────────────────────────────────────────────────────────────────────────────────────────────────╯"
      ]
     },
     "execution_count": 59,
     "metadata": {},
     "output_type": "execute_result"
    }
   ],
   "source": [
    "extract_section(\"NFLX\", 2020)"
   ]
  },
  {
   "cell_type": "code",
   "execution_count": null,
   "metadata": {},
   "outputs": [],
   "source": []
  }
 ],
 "metadata": {
  "kernelspec": {
   "display_name": "venv",
   "language": "python",
   "name": ".venv"
  },
  "language_info": {
   "codemirror_mode": {
    "name": "ipython",
    "version": 3
   },
   "file_extension": ".py",
   "mimetype": "text/x-python",
   "name": "python",
   "nbconvert_exporter": "python",
   "pygments_lexer": "ipython3",
   "version": "3.11.7"
  }
 },
 "nbformat": 4,
 "nbformat_minor": 2
}

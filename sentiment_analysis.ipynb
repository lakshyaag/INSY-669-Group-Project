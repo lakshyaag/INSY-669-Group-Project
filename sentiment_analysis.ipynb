{
 "cells": [
  {
   "cell_type": "code",
   "execution_count": 1,
   "metadata": {},
   "outputs": [],
   "source": [
    "import os\n",
    "import re\n",
    "import warnings\n",
    "\n",
    "warnings.filterwarnings(\"ignore\")"
   ]
  },
  {
   "cell_type": "code",
   "execution_count": 2,
   "metadata": {},
   "outputs": [
    {
     "data": {
      "text/html": [
       "<pre style=\"white-space:pre;overflow-x:auto;line-height:normal;font-family:Menlo,'DejaVu Sans Mono',consolas,'Courier New',monospace\"></pre>\n"
      ],
      "text/plain": []
     },
     "metadata": {},
     "output_type": "display_data"
    },
    {
     "data": {
      "text/plain": [
       "\u001b[3;92mTrue\u001b[0m"
      ]
     },
     "execution_count": 2,
     "metadata": {},
     "output_type": "execute_result"
    }
   ],
   "source": [
    "import altair as alt\n",
    "import matplotlib.pyplot as plt\n",
    "import nltk\n",
    "import numpy as np\n",
    "import pandas as pd\n",
    "import pysentiment2 as ps\n",
    "import seaborn as sns\n",
    "import spacy\n",
    "from dotenv import find_dotenv, load_dotenv\n",
    "from nltk.corpus import stopwords\n",
    "from nltk.sentiment.vader import SentimentIntensityAnalyzer\n",
    "from nltk.stem import WordNetLemmatizer\n",
    "from rich import print\n",
    "from sklearn.feature_extraction.text import TfidfVectorizer\n",
    "from transformers import pipeline\n",
    "\n",
    "from sentibignomics import senti_bignomics\n",
    "\n",
    "%load_ext rich\n",
    "\n",
    "\n",
    "load_dotenv(find_dotenv())\n"
   ]
  },
  {
   "cell_type": "code",
   "execution_count": 3,
   "metadata": {},
   "outputs": [
    {
     "name": "stderr",
     "output_type": "stream",
     "text": [
      "[nltk_data] Downloading package stopwords to C:\\Users\\Lakshya\n",
      "[nltk_data]     Agarwal\\AppData\\Roaming\\nltk_data...\n",
      "[nltk_data]   Package stopwords is already up-to-date!\n",
      "[nltk_data] Downloading package vader_lexicon to C:\\Users\\Lakshya\n",
      "[nltk_data]     Agarwal\\AppData\\Roaming\\nltk_data...\n",
      "[nltk_data]   Package vader_lexicon is already up-to-date!\n"
     ]
    },
    {
     "data": {
      "text/html": [
       "<pre style=\"white-space:pre;overflow-x:auto;line-height:normal;font-family:Menlo,'DejaVu Sans Mono',consolas,'Courier New',monospace\"></pre>\n"
      ],
      "text/plain": []
     },
     "metadata": {},
     "output_type": "display_data"
    },
    {
     "data": {
      "text/plain": [
       "\u001b[3;92mTrue\u001b[0m"
      ]
     },
     "execution_count": 3,
     "metadata": {},
     "output_type": "execute_result"
    }
   ],
   "source": [
    "nltk.download(\"stopwords\")\n",
    "nltk.download(\"vader_lexicon\")"
   ]
  },
  {
   "cell_type": "markdown",
   "metadata": {},
   "source": [
    "### Load documents\n"
   ]
  },
  {
   "cell_type": "code",
   "execution_count": 4,
   "metadata": {},
   "outputs": [],
   "source": [
    "documents_list = os.listdir(\"./extracted/\")\n",
    "\n",
    "docs = {\n",
    "    doc.split(\"_\")[0]: open(f\"./extracted/{doc}\", \"r\").read()\n",
    "    for doc in documents_list\n",
    "    if doc.endswith(\".txt\")\n",
    "}"
   ]
  },
  {
   "cell_type": "markdown",
   "metadata": {},
   "source": [
    "### Preprocess documents\n"
   ]
  },
  {
   "cell_type": "code",
   "execution_count": 5,
   "metadata": {},
   "outputs": [
    {
     "data": {
      "text/html": [
       "<pre style=\"white-space:pre;overflow-x:auto;line-height:normal;font-family:Menlo,'DejaVu Sans Mono',consolas,'Courier New',monospace\"> Item <span style=\"color: #008080; text-decoration-color: #008080; font-weight: bold\">7</span>. Management&amp;#<span style=\"color: #008080; text-decoration-color: #008080; font-weight: bold\">8217</span>;s Discussion and Analysis of Financial Condition and Results of Operations \n",
       "\n",
       "The following discussion should be read in conjunction with the consolidated financial statements and accompanying \n",
       "notes included in Part II, Item <span style=\"color: #008080; text-decoration-color: #008080; font-weight: bold\">8</span> of this Form <span style=\"color: #008080; text-decoration-color: #008080; font-weight: bold\">10</span>-K. This section of this Form <span style=\"color: #008080; text-decoration-color: #008080; font-weight: bold\">10</span>-K generally discusses <span style=\"color: #008080; text-decoration-color: #008080; font-weight: bold\">2020</span> and \n",
       "<span style=\"color: #008080; text-decoration-color: #008080; font-weight: bold\">2019</span> items and year-to-year comparisons between <span style=\"color: #008080; text-decoration-color: #008080; font-weight: bold\">2020</span> and <span style=\"color: #008080; text-decoration-color: #008080; font-weight: bold\">2019</span>. Discussions of <span style=\"color: #008080; text-decoration-color: #008080; font-weight: bold\">2018</span> items and year-to-year \n",
       "comparisons between <span style=\"color: #008080; text-decoration-color: #008080; font-weight: bold\">2019</span> and <span style=\"color: #008080; text-decoration-color: #008080; font-weight: bold\">2018</span> that are not included in this Form <span style=\"color: #008080; text-decoration-color: #008080; font-weight: bold\">10</span>-K can be found in &amp;#<span style=\"color: #008080; text-decoration-color: #008080; font-weight: bold\">8220</span>;Management&amp;#<span style=\"color: #008080; text-decoration-color: #008080; font-weight: bold\">8217</span>;s\n",
       "Discussion and Analysis of Financial Condition and Results of Operations&amp;#<span style=\"color: #008080; text-decoration-color: #008080; font-weight: bold\">8221</span>; in Part II, Item <span style=\"color: #008080; text-decoration-color: #008080; font-weight: bold\">7</span> of the \n",
       "Company&amp;#<span style=\"color: #008080; text-decoration-color: #008080; font-weight: bold\">8217</span>;s Annual Report on Form <span style=\"color: #008080; text-decoration-color: #008080; font-weight: bold\">10</span>-K for the fiscal year ended September <span style=\"color: #008080; text-decoration-color: #008080; font-weight: bold\">28</span>, <span style=\"color: #008080; text-decoration-color: #008080; font-weight: bold\">2019</span>. \n",
       "\n",
       "Fiscal Year Highlights \n",
       "\n",
       "COVID-<span style=\"color: #008080; text-decoration-color: #008080; font-weight: bold\">19</span> Update \n",
       "\n",
       "COVID-<span style=\"color: #008080; text-decoration-color: #008080; font-weight: bold\">19</span> has spread rapidly throughout the world, prompting governments and businesses to take unprecedented \n",
       "measures in response. Such measures have included restrictions on travel and business operations, temporary \n",
       "closures of businesses, and quarantines and shelter-in-place orders. The COVID-<span style=\"color: #008080; text-decoration-color: #008080; font-weight: bold\">19</span> pandemic has significantly \n",
       "curtailed global economic activity and caused significant volatility and disruption in global financial markets. \n",
       "The COVID-<span style=\"color: #008080; text-decoration-color: #008080; font-weight: bold\">19</span> pandemic and the measures taken by many countries in response have adversely affected and could in the\n",
       "future materially adversely impact the Company&amp;#<span style=\"color: #008080; text-decoration-color: #008080; font-weight: bold\">8217</span>;s business, results of operations, financial condition and \n",
       "stock price. \n",
       "\n",
       "During <span style=\"color: #008080; text-decoration-color: #008080; font-weight: bold\">2020</span>, aspects of the Company&amp;#<span style=\"color: #008080; text-decoration-color: #008080; font-weight: bold\">8217</span>;s business were adversely affected by the COVID-<span style=\"color: #008080; text-decoration-color: #008080; font-weight: bold\">19</span> pandemic, with many of\n",
       "the Company&amp;#<span style=\"color: #008080; text-decoration-color: #008080; font-weight: bold\">8217</span>;s retail stores, as well as channel partner points of sale, temporarily closed at various times, \n",
       "and the vast majority of the Company&amp;#<span style=\"color: #008080; text-decoration-color: #008080; font-weight: bold\">8217</span>;s employees working remotely. The Company has reopened some of its \n",
       "offices and the majority of its retail stores, subject to operating restrictions to protect public health and the \n",
       "health and safety of employees and customers, and it continues to work on safely re-opening the remainder of its \n",
       "offices and retail stores, subject to local rules and regulations. \n",
       "\n",
       "The full extent of the future impact of the COVID-<span style=\"color: #008080; text-decoration-color: #008080; font-weight: bold\">19</span> pandemic on the Company&amp;#<span style=\"color: #008080; text-decoration-color: #008080; font-weight: bold\">8217</span>;s operational and financial \n",
       "performance is currently uncertain and will depend on many factors outside the Company&amp;#<span style=\"color: #008080; text-decoration-color: #008080; font-weight: bold\">8217</span>;s control, including, \n",
       "without limitation, the timing, extent, trajectory and duration of the pandemic, the development and availability \n",
       "of effective treatments and vaccines, the imposition of protective public safety measures, and the impact of the \n",
       "pandemic on the global economy and demand for consumer products. Refer to Part I, Item 1A of this Form <span style=\"color: #008080; text-decoration-color: #008080; font-weight: bold\">10</span>-K under \n",
       "the heading &amp;#<span style=\"color: #008080; text-decoration-color: #008080; font-weight: bold\">8220</span>;Risk Factors,&amp;#<span style=\"color: #008080; text-decoration-color: #008080; font-weight: bold\">8221</span>; for more information. \n",
       "\n",
       "The Company believes its existing balances of cash, cash equivalents and marketable securities, along with \n",
       "commercial paper and other short-term liquidity arrangements, will be sufficient to satisfy its working capital \n",
       "needs, capital asset purchases, dividends, share repurchases, debt repayments and other liquidity requirements \n",
       "associated with its existing operations. \n",
       "\n",
       "Fiscal <span style=\"color: #008080; text-decoration-color: #008080; font-weight: bold\">2020</span> Highlights \n",
       "\n",
       "Total net sales increased <span style=\"color: #008080; text-decoration-color: #008080; font-weight: bold\">6</span>% or $<span style=\"color: #008080; text-decoration-color: #008080; font-weight: bold\">14.3</span> billion during <span style=\"color: #008080; text-decoration-color: #008080; font-weight: bold\">2020</span> compared to <span style=\"color: #008080; text-decoration-color: #008080; font-weight: bold\">2019</span>, primarily driven by higher net sales of\n",
       "Services and Wearables, Home and Accessories. The weakness in foreign currencies had an unfavorable impact on net \n",
       "sales during <span style=\"color: #008080; text-decoration-color: #008080; font-weight: bold\">2020</span>. \n",
       "\n",
       "In April <span style=\"color: #008080; text-decoration-color: #008080; font-weight: bold\">2020</span>, the Company announced an increase to its current share repurchase program authorization from $<span style=\"color: #008080; text-decoration-color: #008080; font-weight: bold\">175</span> \n",
       "billion to $<span style=\"color: #008080; text-decoration-color: #008080; font-weight: bold\">225</span> billion and raised its quarterly dividend from $<span style=\"color: #008080; text-decoration-color: #008080; font-weight: bold\">0.1925</span> to $<span style=\"color: #008080; text-decoration-color: #008080; font-weight: bold\">0.205</span> per share beginning in May <span style=\"color: #008080; text-decoration-color: #008080; font-weight: bold\">2020</span>. \n",
       "During <span style=\"color: #008080; text-decoration-color: #008080; font-weight: bold\">2020</span>, the Company repurchased $<span style=\"color: #008080; text-decoration-color: #008080; font-weight: bold\">72.5</span> billion of its common stock and paid dividends and dividend equivalents \n",
       "of $<span style=\"color: #008080; text-decoration-color: #008080; font-weight: bold\">14.1</span> billion. \n",
       "\n",
       "On August <span style=\"color: #008080; text-decoration-color: #008080; font-weight: bold\">28</span>, <span style=\"color: #008080; text-decoration-color: #008080; font-weight: bold\">2020</span>, the Company effected a four-for-one stock split to shareholders of record as of August <span style=\"color: #008080; text-decoration-color: #008080; font-weight: bold\">24</span>, \n",
       "<span style=\"color: #008080; text-decoration-color: #008080; font-weight: bold\">2020</span>. All share, RSU and per share or per RSU information has been retroactively adjusted to reflect the stock \n",
       "split. \n",
       "\n",
       "Apple Inc. | <span style=\"color: #008080; text-decoration-color: #008080; font-weight: bold\">2020</span> Form <span style=\"color: #008080; text-decoration-color: #008080; font-weight: bold\">10</span>-K | <span style=\"color: #008080; text-decoration-color: #008080; font-weight: bold\">20</span> \n",
       "\n",
       "Products and Services Performance \n",
       "\n",
       "The following table shows net sales by category for <span style=\"color: #008080; text-decoration-color: #008080; font-weight: bold\">2020</span>, <span style=\"color: #008080; text-decoration-color: #008080; font-weight: bold\">2019</span> and <span style=\"color: #008080; text-decoration-color: #008080; font-weight: bold\">2018</span> <span style=\"font-weight: bold\">(</span>dollars in millions<span style=\"font-weight: bold\">)</span>: \n",
       "\n",
       "##TABLE_START <span style=\"color: #008080; text-decoration-color: #008080; font-weight: bold\">2020</span> Change <span style=\"color: #008080; text-decoration-color: #008080; font-weight: bold\">2019</span> Change <span style=\"color: #008080; text-decoration-color: #008080; font-weight: bold\">2018</span> Net sales by category: iPhone <span style=\"font-weight: bold\">(</span><span style=\"color: #008080; text-decoration-color: #008080; font-weight: bold\">1</span><span style=\"font-weight: bold\">)</span> \n",
       "\n",
       "$ <span style=\"color: #008080; text-decoration-color: #008080; font-weight: bold\">137</span>,<span style=\"color: #008080; text-decoration-color: #008080; font-weight: bold\">781</span> <span style=\"font-weight: bold\">(</span><span style=\"color: #008080; text-decoration-color: #008080; font-weight: bold\">3</span><span style=\"font-weight: bold\">)</span> % $ <span style=\"color: #008080; text-decoration-color: #008080; font-weight: bold\">142</span>,<span style=\"color: #008080; text-decoration-color: #008080; font-weight: bold\">381</span> <span style=\"font-weight: bold\">(</span><span style=\"color: #008080; text-decoration-color: #008080; font-weight: bold\">14</span><span style=\"font-weight: bold\">)</span> % $ <span style=\"color: #008080; text-decoration-color: #008080; font-weight: bold\">164</span>,<span style=\"color: #008080; text-decoration-color: #008080; font-weight: bold\">888</span> Mac <span style=\"font-weight: bold\">(</span><span style=\"color: #008080; text-decoration-color: #008080; font-weight: bold\">1</span><span style=\"font-weight: bold\">)</span> \n",
       "\n",
       "<span style=\"color: #008080; text-decoration-color: #008080; font-weight: bold\">28</span>,<span style=\"color: #008080; text-decoration-color: #008080; font-weight: bold\">622</span> <span style=\"color: #008080; text-decoration-color: #008080; font-weight: bold\">11</span> % <span style=\"color: #008080; text-decoration-color: #008080; font-weight: bold\">25</span>,<span style=\"color: #008080; text-decoration-color: #008080; font-weight: bold\">740</span> <span style=\"color: #008080; text-decoration-color: #008080; font-weight: bold\">2</span> % <span style=\"color: #008080; text-decoration-color: #008080; font-weight: bold\">25</span>,<span style=\"color: #008080; text-decoration-color: #008080; font-weight: bold\">198</span> iPad <span style=\"font-weight: bold\">(</span><span style=\"color: #008080; text-decoration-color: #008080; font-weight: bold\">1</span><span style=\"font-weight: bold\">)</span> \n",
       "\n",
       "<span style=\"color: #008080; text-decoration-color: #008080; font-weight: bold\">23</span>,<span style=\"color: #008080; text-decoration-color: #008080; font-weight: bold\">724</span> <span style=\"color: #008080; text-decoration-color: #008080; font-weight: bold\">11</span> % <span style=\"color: #008080; text-decoration-color: #008080; font-weight: bold\">21</span>,<span style=\"color: #008080; text-decoration-color: #008080; font-weight: bold\">280</span> <span style=\"color: #008080; text-decoration-color: #008080; font-weight: bold\">16</span> % <span style=\"color: #008080; text-decoration-color: #008080; font-weight: bold\">18</span>,<span style=\"color: #008080; text-decoration-color: #008080; font-weight: bold\">380</span> Wearables, Home and Accessories <span style=\"font-weight: bold\">(</span><span style=\"color: #008080; text-decoration-color: #008080; font-weight: bold\">1</span><span style=\"font-weight: bold\">)(</span><span style=\"color: #008080; text-decoration-color: #008080; font-weight: bold\">2</span><span style=\"font-weight: bold\">)</span> \n",
       "\n",
       "<span style=\"color: #008080; text-decoration-color: #008080; font-weight: bold\">30</span>,<span style=\"color: #008080; text-decoration-color: #008080; font-weight: bold\">620</span> <span style=\"color: #008080; text-decoration-color: #008080; font-weight: bold\">25</span> % <span style=\"color: #008080; text-decoration-color: #008080; font-weight: bold\">24</span>,<span style=\"color: #008080; text-decoration-color: #008080; font-weight: bold\">482</span> <span style=\"color: #008080; text-decoration-color: #008080; font-weight: bold\">41</span> % <span style=\"color: #008080; text-decoration-color: #008080; font-weight: bold\">17</span>,<span style=\"color: #008080; text-decoration-color: #008080; font-weight: bold\">381</span> Services <span style=\"font-weight: bold\">(</span><span style=\"color: #008080; text-decoration-color: #008080; font-weight: bold\">3</span><span style=\"font-weight: bold\">)</span> \n",
       "\n",
       "<span style=\"color: #008080; text-decoration-color: #008080; font-weight: bold\">53</span>,<span style=\"color: #008080; text-decoration-color: #008080; font-weight: bold\">768</span> <span style=\"color: #008080; text-decoration-color: #008080; font-weight: bold\">16</span> % <span style=\"color: #008080; text-decoration-color: #008080; font-weight: bold\">46</span>,<span style=\"color: #008080; text-decoration-color: #008080; font-weight: bold\">291</span> <span style=\"color: #008080; text-decoration-color: #008080; font-weight: bold\">16</span> % <span style=\"color: #008080; text-decoration-color: #008080; font-weight: bold\">39</span>,<span style=\"color: #008080; text-decoration-color: #008080; font-weight: bold\">748</span> Total net sales $ <span style=\"color: #008080; text-decoration-color: #008080; font-weight: bold\">274</span>,<span style=\"color: #008080; text-decoration-color: #008080; font-weight: bold\">515</span> <span style=\"color: #008080; text-decoration-color: #008080; font-weight: bold\">6</span> % $ <span style=\"color: #008080; text-decoration-color: #008080; font-weight: bold\">260</span>,<span style=\"color: #008080; text-decoration-color: #008080; font-weight: bold\">174</span> <span style=\"font-weight: bold\">(</span><span style=\"color: #008080; text-decoration-color: #008080; font-weight: bold\">2</span><span style=\"font-weight: bold\">)</span> % $ <span style=\"color: #008080; text-decoration-color: #008080; font-weight: bold\">265</span>,<span style=\"color: #008080; text-decoration-color: #008080; font-weight: bold\">595</span> ##TABLE_END\n",
       "\n",
       "<span style=\"font-weight: bold\">(</span><span style=\"color: #008080; text-decoration-color: #008080; font-weight: bold\">1</span><span style=\"font-weight: bold\">)</span> Products net sales include amortization of the deferred value of unspecified software upgrade rights, which are\n",
       "bundled in the sales price of the respective product. \n",
       "\n",
       "<span style=\"font-weight: bold\">(</span><span style=\"color: #008080; text-decoration-color: #008080; font-weight: bold\">2</span><span style=\"font-weight: bold\">)</span> Wearables, Home and Accessories net sales include sales of AirPods, Apple TV, Apple Watch, Beats products, \n",
       "HomePod, iPod touch and Apple-branded and third-party accessories. \n",
       "\n",
       "<span style=\"font-weight: bold\">(</span><span style=\"color: #008080; text-decoration-color: #008080; font-weight: bold\">3</span><span style=\"font-weight: bold\">)</span> Services net sales include sales from the Company&amp;#<span style=\"color: #008080; text-decoration-color: #008080; font-weight: bold\">8217</span>;s advertising, AppleCare, digital content and other \n",
       "services. Services net sales also include amortization of the deferred value of Maps, Siri, and free iCloud &amp;#<span style=\"color: #008080; text-decoration-color: #008080; font-weight: bold\">174</span>; \n",
       "storage and Apple TV+ services, which are bundled in the sales price of certain products. \n",
       "\n",
       "iPhone \n",
       "\n",
       "iPhone net sales decreased during <span style=\"color: #008080; text-decoration-color: #008080; font-weight: bold\">2020</span> compared to <span style=\"color: #008080; text-decoration-color: #008080; font-weight: bold\">2019</span> due primarily to the absence of new iPhone models in the \n",
       "fourth quarter of <span style=\"color: #008080; text-decoration-color: #008080; font-weight: bold\">2020</span> and the weakness in foreign currencies relative to the U.S. dollar, partially offset by the \n",
       "introduction of iPhone SE in the third quarter of <span style=\"color: #008080; text-decoration-color: #008080; font-weight: bold\">2020</span>. \n",
       "\n",
       "Mac \n",
       "\n",
       "Mac net sales increased during <span style=\"color: #008080; text-decoration-color: #008080; font-weight: bold\">2020</span> compared to <span style=\"color: #008080; text-decoration-color: #008080; font-weight: bold\">2019</span> due primarily to higher net sales of MacBook Pro. \n",
       "\n",
       "iPad \n",
       "\n",
       "iPad net sales increased during <span style=\"color: #008080; text-decoration-color: #008080; font-weight: bold\">2020</span> compared to <span style=\"color: #008080; text-decoration-color: #008080; font-weight: bold\">2019</span> due primarily to higher net sales of <span style=\"color: #008080; text-decoration-color: #008080; font-weight: bold\">10</span>-inch versions of \n",
       "iPad, iPad Air and iPad Pro. \n",
       "\n",
       "Wearables, Home and Accessories \n",
       "\n",
       "Wearables, Home and Accessories net sales increased during <span style=\"color: #008080; text-decoration-color: #008080; font-weight: bold\">2020</span> compared to <span style=\"color: #008080; text-decoration-color: #008080; font-weight: bold\">2019</span> due primarily to higher net sales \n",
       "of AirPods and Apple Watch. \n",
       "\n",
       "Services \n",
       "\n",
       "Services net sales increased during <span style=\"color: #008080; text-decoration-color: #008080; font-weight: bold\">2020</span> compared to <span style=\"color: #008080; text-decoration-color: #008080; font-weight: bold\">2019</span> due primarily to higher net sales from the App Store, \n",
       "advertising and cloud services. \n",
       "\n",
       "Apple Inc. | <span style=\"color: #008080; text-decoration-color: #008080; font-weight: bold\">2020</span> Form <span style=\"color: #008080; text-decoration-color: #008080; font-weight: bold\">10</span>-K | <span style=\"color: #008080; text-decoration-color: #008080; font-weight: bold\">21</span> \n",
       "\n",
       "Segment Operating Performance \n",
       "\n",
       "The Company manages its business primarily on a geographic basis. The Company&amp;#<span style=\"color: #008080; text-decoration-color: #008080; font-weight: bold\">8217</span>;s reportable segments consist \n",
       "of the Americas, Europe, Greater China, Japan and Rest of Asia Pacific. Americas includes both North and South \n",
       "America. Europe includes European countries, as well as India, the Middle East and Africa. Greater China includes \n",
       "China mainland, Hong Kong and Taiwan. Rest of Asia Pacific includes Australia and those Asian countries not \n",
       "included in the Company&amp;#<span style=\"color: #008080; text-decoration-color: #008080; font-weight: bold\">8217</span>;s other reportable segments. Although the reportable segments provide similar \n",
       "hardware and software products and similar services, each one is managed separately to better align with the \n",
       "location of the Company&amp;#<span style=\"color: #008080; text-decoration-color: #008080; font-weight: bold\">8217</span>;s customers and distribution partners and the unique market dynamics of each \n",
       "geographic region. Further information regarding the Company&amp;#<span style=\"color: #008080; text-decoration-color: #008080; font-weight: bold\">8217</span>;s reportable segments can be found in Part II, \n",
       "Item <span style=\"color: #008080; text-decoration-color: #008080; font-weight: bold\">8</span> of this Form <span style=\"color: #008080; text-decoration-color: #008080; font-weight: bold\">10</span>-K in the Notes to Consolidated Financial Statements in Note <span style=\"color: #008080; text-decoration-color: #008080; font-weight: bold\">11</span>, &amp;#<span style=\"color: #008080; text-decoration-color: #008080; font-weight: bold\">8220</span>;Segment Information \n",
       "and Geographic Data.&amp;#<span style=\"color: #008080; text-decoration-color: #008080; font-weight: bold\">8221</span>; \n",
       "\n",
       "The following table shows net sales by reportable segment for <span style=\"color: #008080; text-decoration-color: #008080; font-weight: bold\">2020</span>, <span style=\"color: #008080; text-decoration-color: #008080; font-weight: bold\">2019</span> and <span style=\"color: #008080; text-decoration-color: #008080; font-weight: bold\">2018</span> <span style=\"font-weight: bold\">(</span>dollars in millions<span style=\"font-weight: bold\">)</span>: \n",
       "\n",
       "##TABLE_START <span style=\"color: #008080; text-decoration-color: #008080; font-weight: bold\">2020</span> Change <span style=\"color: #008080; text-decoration-color: #008080; font-weight: bold\">2019</span> Change <span style=\"color: #008080; text-decoration-color: #008080; font-weight: bold\">2018</span> Net sales by reportable segment: Americas \n",
       "\n",
       "$ <span style=\"color: #008080; text-decoration-color: #008080; font-weight: bold\">124</span>,<span style=\"color: #008080; text-decoration-color: #008080; font-weight: bold\">556</span> <span style=\"color: #008080; text-decoration-color: #008080; font-weight: bold\">7</span> % $ <span style=\"color: #008080; text-decoration-color: #008080; font-weight: bold\">116</span>,<span style=\"color: #008080; text-decoration-color: #008080; font-weight: bold\">914</span> <span style=\"color: #008080; text-decoration-color: #008080; font-weight: bold\">4</span> % $ <span style=\"color: #008080; text-decoration-color: #008080; font-weight: bold\">112</span>,<span style=\"color: #008080; text-decoration-color: #008080; font-weight: bold\">093</span> Europe \n",
       "\n",
       "<span style=\"color: #008080; text-decoration-color: #008080; font-weight: bold\">68</span>,<span style=\"color: #008080; text-decoration-color: #008080; font-weight: bold\">640</span> <span style=\"color: #008080; text-decoration-color: #008080; font-weight: bold\">14</span> % <span style=\"color: #008080; text-decoration-color: #008080; font-weight: bold\">60</span>,<span style=\"color: #008080; text-decoration-color: #008080; font-weight: bold\">288</span> <span style=\"font-weight: bold\">(</span><span style=\"color: #008080; text-decoration-color: #008080; font-weight: bold\">3</span><span style=\"font-weight: bold\">)</span> % <span style=\"color: #008080; text-decoration-color: #008080; font-weight: bold\">62</span>,<span style=\"color: #008080; text-decoration-color: #008080; font-weight: bold\">420</span> Greater China \n",
       "\n",
       "<span style=\"color: #008080; text-decoration-color: #008080; font-weight: bold\">40</span>,<span style=\"color: #008080; text-decoration-color: #008080; font-weight: bold\">308</span> <span style=\"font-weight: bold\">(</span><span style=\"color: #008080; text-decoration-color: #008080; font-weight: bold\">8</span><span style=\"font-weight: bold\">)</span> % <span style=\"color: #008080; text-decoration-color: #008080; font-weight: bold\">43</span>,<span style=\"color: #008080; text-decoration-color: #008080; font-weight: bold\">678</span> <span style=\"font-weight: bold\">(</span><span style=\"color: #008080; text-decoration-color: #008080; font-weight: bold\">16</span><span style=\"font-weight: bold\">)</span> % <span style=\"color: #008080; text-decoration-color: #008080; font-weight: bold\">51</span>,<span style=\"color: #008080; text-decoration-color: #008080; font-weight: bold\">942</span> Japan \n",
       "\n",
       "<span style=\"color: #008080; text-decoration-color: #008080; font-weight: bold\">21</span>,<span style=\"color: #008080; text-decoration-color: #008080; font-weight: bold\">418</span> &amp;#<span style=\"color: #008080; text-decoration-color: #008080; font-weight: bold\">8212</span>; % <span style=\"color: #008080; text-decoration-color: #008080; font-weight: bold\">21</span>,<span style=\"color: #008080; text-decoration-color: #008080; font-weight: bold\">506</span> <span style=\"font-weight: bold\">(</span><span style=\"color: #008080; text-decoration-color: #008080; font-weight: bold\">1</span><span style=\"font-weight: bold\">)</span> % <span style=\"color: #008080; text-decoration-color: #008080; font-weight: bold\">21</span>,<span style=\"color: #008080; text-decoration-color: #008080; font-weight: bold\">733</span> Rest of Asia Pacific \n",
       "\n",
       "<span style=\"color: #008080; text-decoration-color: #008080; font-weight: bold\">19</span>,<span style=\"color: #008080; text-decoration-color: #008080; font-weight: bold\">593</span> <span style=\"color: #008080; text-decoration-color: #008080; font-weight: bold\">10</span> % <span style=\"color: #008080; text-decoration-color: #008080; font-weight: bold\">17</span>,<span style=\"color: #008080; text-decoration-color: #008080; font-weight: bold\">788</span> <span style=\"color: #008080; text-decoration-color: #008080; font-weight: bold\">2</span> % <span style=\"color: #008080; text-decoration-color: #008080; font-weight: bold\">17</span>,<span style=\"color: #008080; text-decoration-color: #008080; font-weight: bold\">407</span> Total net sales $ <span style=\"color: #008080; text-decoration-color: #008080; font-weight: bold\">274</span>,<span style=\"color: #008080; text-decoration-color: #008080; font-weight: bold\">515</span> <span style=\"color: #008080; text-decoration-color: #008080; font-weight: bold\">6</span> % $ <span style=\"color: #008080; text-decoration-color: #008080; font-weight: bold\">260</span>,<span style=\"color: #008080; text-decoration-color: #008080; font-weight: bold\">174</span> <span style=\"font-weight: bold\">(</span><span style=\"color: #008080; text-decoration-color: #008080; font-weight: bold\">2</span><span style=\"font-weight: bold\">)</span> % $ <span style=\"color: #008080; text-decoration-color: #008080; font-weight: bold\">265</span>,<span style=\"color: #008080; text-decoration-color: #008080; font-weight: bold\">595</span> ##TABLE_END\n",
       "\n",
       "Americas \n",
       "\n",
       "Americas net sales increased during <span style=\"color: #008080; text-decoration-color: #008080; font-weight: bold\">2020</span> compared to <span style=\"color: #008080; text-decoration-color: #008080; font-weight: bold\">2019</span> due primarily to higher net sales of Services and \n",
       "Wearables, Home and Accessories. The weakness in foreign currencies relative to the U.S. dollar had an unfavorable \n",
       "impact on Americas net sales during <span style=\"color: #008080; text-decoration-color: #008080; font-weight: bold\">2020</span>. \n",
       "\n",
       "Europe \n",
       "\n",
       "Europe net sales increased during <span style=\"color: #008080; text-decoration-color: #008080; font-weight: bold\">2020</span> compared to <span style=\"color: #008080; text-decoration-color: #008080; font-weight: bold\">2019</span> due primarily to higher net sales of iPhone, Wearables, \n",
       "Home and Accessories and Services. The weakness in foreign currencies relative to the U.S. dollar had an \n",
       "unfavorable impact on Europe net sales during <span style=\"color: #008080; text-decoration-color: #008080; font-weight: bold\">2020</span>. \n",
       "\n",
       "Greater China \n",
       "\n",
       "Greater China net sales decreased during <span style=\"color: #008080; text-decoration-color: #008080; font-weight: bold\">2020</span> compared to <span style=\"color: #008080; text-decoration-color: #008080; font-weight: bold\">2019</span> due primarily to lower net sales of iPhone, \n",
       "partially offset by higher net sales of Services and iPad. The weakness in foreign currencies relative to the U.S. \n",
       "dollar had an unfavorable impact on Greater China net sales during <span style=\"color: #008080; text-decoration-color: #008080; font-weight: bold\">2020</span>. \n",
       "\n",
       "Japan \n",
       "\n",
       "Japan net sales were flat during <span style=\"color: #008080; text-decoration-color: #008080; font-weight: bold\">2020</span> compared to <span style=\"color: #008080; text-decoration-color: #008080; font-weight: bold\">2019</span> due primarily to lower net sales of iPhone, offset by higher\n",
       "net sales of Services and Wearables, Home and Accessories. The strength of the Japanese yen relative to the U.S. \n",
       "dollar had a favorable impact on Japan net sales during <span style=\"color: #008080; text-decoration-color: #008080; font-weight: bold\">2020</span>. \n",
       "\n",
       "Rest of Asia Pacific \n",
       "\n",
       "Rest of Asia Pacific net sales increased during <span style=\"color: #008080; text-decoration-color: #008080; font-weight: bold\">2020</span> compared to <span style=\"color: #008080; text-decoration-color: #008080; font-weight: bold\">2019</span> due primarily to higher net sales of \n",
       "Wearables, Home and Accessories, Services and iPhone. The weakness in foreign currencies relative to the U.S. \n",
       "dollar had an unfavorable impact on Rest of Asia Pacific net sales during <span style=\"color: #008080; text-decoration-color: #008080; font-weight: bold\">2020</span>. \n",
       "\n",
       "Apple Inc. | <span style=\"color: #008080; text-decoration-color: #008080; font-weight: bold\">2020</span> Form <span style=\"color: #008080; text-decoration-color: #008080; font-weight: bold\">10</span>-K | <span style=\"color: #008080; text-decoration-color: #008080; font-weight: bold\">22</span> \n",
       "\n",
       "Gross Margin \n",
       "\n",
       "Products and Services gross margin and gross margin percentage for <span style=\"color: #008080; text-decoration-color: #008080; font-weight: bold\">2020</span>, <span style=\"color: #008080; text-decoration-color: #008080; font-weight: bold\">2019</span> and <span style=\"color: #008080; text-decoration-color: #008080; font-weight: bold\">2018</span> were as follows <span style=\"font-weight: bold\">(</span>dollars in \n",
       "millions<span style=\"font-weight: bold\">)</span>: \n",
       "\n",
       "##TABLE_START <span style=\"color: #008080; text-decoration-color: #008080; font-weight: bold\">2020</span> <span style=\"color: #008080; text-decoration-color: #008080; font-weight: bold\">2019</span> <span style=\"color: #008080; text-decoration-color: #008080; font-weight: bold\">2018</span> Gross margin: Products $ <span style=\"color: #008080; text-decoration-color: #008080; font-weight: bold\">69</span>,<span style=\"color: #008080; text-decoration-color: #008080; font-weight: bold\">461</span> $ <span style=\"color: #008080; text-decoration-color: #008080; font-weight: bold\">68</span>,<span style=\"color: #008080; text-decoration-color: #008080; font-weight: bold\">887</span> $ <span style=\"color: #008080; text-decoration-color: #008080; font-weight: bold\">77</span>,<span style=\"color: #008080; text-decoration-color: #008080; font-weight: bold\">683</span> Services <span style=\"color: #008080; text-decoration-color: #008080; font-weight: bold\">35</span>,<span style=\"color: #008080; text-decoration-color: #008080; font-weight: bold\">495</span> <span style=\"color: #008080; text-decoration-color: #008080; font-weight: bold\">29</span>,<span style=\"color: #008080; text-decoration-color: #008080; font-weight: bold\">505</span> <span style=\"color: #008080; text-decoration-color: #008080; font-weight: bold\">24</span>,<span style=\"color: #008080; text-decoration-color: #008080; font-weight: bold\">156</span> Total \n",
       "gross margin $ <span style=\"color: #008080; text-decoration-color: #008080; font-weight: bold\">104</span>,<span style=\"color: #008080; text-decoration-color: #008080; font-weight: bold\">956</span> $ <span style=\"color: #008080; text-decoration-color: #008080; font-weight: bold\">98</span>,<span style=\"color: #008080; text-decoration-color: #008080; font-weight: bold\">392</span> $ <span style=\"color: #008080; text-decoration-color: #008080; font-weight: bold\">101</span>,<span style=\"color: #008080; text-decoration-color: #008080; font-weight: bold\">839</span> ##TABLE_END\n",
       "\n",
       "##TABLE_START Gross margin percentage: Products <span style=\"color: #008080; text-decoration-color: #008080; font-weight: bold\">31.5</span> % <span style=\"color: #008080; text-decoration-color: #008080; font-weight: bold\">32.2</span> % <span style=\"color: #008080; text-decoration-color: #008080; font-weight: bold\">34.4</span> % Services <span style=\"color: #008080; text-decoration-color: #008080; font-weight: bold\">66.0</span> % <span style=\"color: #008080; text-decoration-color: #008080; font-weight: bold\">63.7</span> % <span style=\"color: #008080; text-decoration-color: #008080; font-weight: bold\">60.8</span> % Total gross \n",
       "margin percentage <span style=\"color: #008080; text-decoration-color: #008080; font-weight: bold\">38.2</span> % <span style=\"color: #008080; text-decoration-color: #008080; font-weight: bold\">37.8</span> % <span style=\"color: #008080; text-decoration-color: #008080; font-weight: bold\">38.3</span> % ##TABLE_END\n",
       "\n",
       "Products Gross Margin \n",
       "\n",
       "Products gross margin increased during <span style=\"color: #008080; text-decoration-color: #008080; font-weight: bold\">2020</span> compared to <span style=\"color: #008080; text-decoration-color: #008080; font-weight: bold\">2019</span> due primarily to higher Products volume and material \n",
       "cost savings, partially offset by the weakness in foreign currencies relative to the U.S. dollar and a different \n",
       "Products mix. Products gross margin percentage decreased during <span style=\"color: #008080; text-decoration-color: #008080; font-weight: bold\">2020</span> compared to <span style=\"color: #008080; text-decoration-color: #008080; font-weight: bold\">2019</span> due primarily to the weakness\n",
       "in foreign currencies relative to the U.S. dollar and a different Products mix, partially offset by material cost \n",
       "savings and higher leverage. \n",
       "\n",
       "Services Gross Margin \n",
       "\n",
       "Services gross margin increased during <span style=\"color: #008080; text-decoration-color: #008080; font-weight: bold\">2020</span> compared to <span style=\"color: #008080; text-decoration-color: #008080; font-weight: bold\">2019</span> due primarily to higher Services net sales and a \n",
       "different Services mix. Services gross margin percentage increased during <span style=\"color: #008080; text-decoration-color: #008080; font-weight: bold\">2020</span> compared to <span style=\"color: #008080; text-decoration-color: #008080; font-weight: bold\">2019</span> due primarily to a \n",
       "different Services mix and higher leverage, partially offset by higher Services costs. \n",
       "\n",
       "The Company&amp;#<span style=\"color: #008080; text-decoration-color: #008080; font-weight: bold\">8217</span>;s future gross margins can be impacted by a variety of factors, as set forth in Part I, Item 1A \n",
       "of this Form <span style=\"color: #008080; text-decoration-color: #008080; font-weight: bold\">10</span>-K under the heading &amp;#<span style=\"color: #008080; text-decoration-color: #008080; font-weight: bold\">8220</span>;Risk Factors.&amp;#<span style=\"color: #008080; text-decoration-color: #008080; font-weight: bold\">8221</span>; As a result, the Company believes, in general, \n",
       "gross margins will be subject to volatility and remain under downward pressure. \n",
       "\n",
       "Operating Expenses \n",
       "\n",
       "Operating expenses for <span style=\"color: #008080; text-decoration-color: #008080; font-weight: bold\">2020</span>, <span style=\"color: #008080; text-decoration-color: #008080; font-weight: bold\">2019</span> and <span style=\"color: #008080; text-decoration-color: #008080; font-weight: bold\">2018</span> were as follows <span style=\"font-weight: bold\">(</span>dollars in millions<span style=\"font-weight: bold\">)</span>: \n",
       "\n",
       "##TABLE_START <span style=\"color: #008080; text-decoration-color: #008080; font-weight: bold\">2020</span> Change <span style=\"color: #008080; text-decoration-color: #008080; font-weight: bold\">2019</span> Change <span style=\"color: #008080; text-decoration-color: #008080; font-weight: bold\">2018</span> Research and development \n",
       "\n",
       "$ <span style=\"color: #008080; text-decoration-color: #008080; font-weight: bold\">18</span>,<span style=\"color: #008080; text-decoration-color: #008080; font-weight: bold\">752</span> <span style=\"color: #008080; text-decoration-color: #008080; font-weight: bold\">16</span> % $ <span style=\"color: #008080; text-decoration-color: #008080; font-weight: bold\">16</span>,<span style=\"color: #008080; text-decoration-color: #008080; font-weight: bold\">217</span> <span style=\"color: #008080; text-decoration-color: #008080; font-weight: bold\">14</span> % $ <span style=\"color: #008080; text-decoration-color: #008080; font-weight: bold\">14</span>,<span style=\"color: #008080; text-decoration-color: #008080; font-weight: bold\">236</span> Percentage of total net sales \n",
       "\n",
       "<span style=\"color: #008080; text-decoration-color: #008080; font-weight: bold\">7</span> % <span style=\"color: #008080; text-decoration-color: #008080; font-weight: bold\">6</span> % <span style=\"color: #008080; text-decoration-color: #008080; font-weight: bold\">5</span> % Selling, general and administrative \n",
       "\n",
       "$ <span style=\"color: #008080; text-decoration-color: #008080; font-weight: bold\">19</span>,<span style=\"color: #008080; text-decoration-color: #008080; font-weight: bold\">916</span> <span style=\"color: #008080; text-decoration-color: #008080; font-weight: bold\">9</span> % $ <span style=\"color: #008080; text-decoration-color: #008080; font-weight: bold\">18</span>,<span style=\"color: #008080; text-decoration-color: #008080; font-weight: bold\">245</span> <span style=\"color: #008080; text-decoration-color: #008080; font-weight: bold\">9</span> % $ <span style=\"color: #008080; text-decoration-color: #008080; font-weight: bold\">16</span>,<span style=\"color: #008080; text-decoration-color: #008080; font-weight: bold\">705</span> Percentage of total net sales \n",
       "\n",
       "<span style=\"color: #008080; text-decoration-color: #008080; font-weight: bold\">7</span> % <span style=\"color: #008080; text-decoration-color: #008080; font-weight: bold\">7</span> % <span style=\"color: #008080; text-decoration-color: #008080; font-weight: bold\">6</span> % Total operating expenses \n",
       "\n",
       "$ <span style=\"color: #008080; text-decoration-color: #008080; font-weight: bold\">38</span>,<span style=\"color: #008080; text-decoration-color: #008080; font-weight: bold\">668</span> <span style=\"color: #008080; text-decoration-color: #008080; font-weight: bold\">12</span> % $ <span style=\"color: #008080; text-decoration-color: #008080; font-weight: bold\">34</span>,<span style=\"color: #008080; text-decoration-color: #008080; font-weight: bold\">462</span> <span style=\"color: #008080; text-decoration-color: #008080; font-weight: bold\">11</span> % $ <span style=\"color: #008080; text-decoration-color: #008080; font-weight: bold\">30</span>,<span style=\"color: #008080; text-decoration-color: #008080; font-weight: bold\">941</span> Percentage of total net sales \n",
       "\n",
       "<span style=\"color: #008080; text-decoration-color: #008080; font-weight: bold\">14</span> % <span style=\"color: #008080; text-decoration-color: #008080; font-weight: bold\">13</span> % <span style=\"color: #008080; text-decoration-color: #008080; font-weight: bold\">12</span> % ##TABLE_END\n",
       "\n",
       "Research and Development \n",
       "\n",
       "The year-over-year growth in R&amp;#<span style=\"color: #008080; text-decoration-color: #008080; font-weight: bold\">38</span>;D expense in <span style=\"color: #008080; text-decoration-color: #008080; font-weight: bold\">2020</span> was driven primarily by increases in headcount-related \n",
       "expenses. The Company continues to believe that focused investments in R&amp;#<span style=\"color: #008080; text-decoration-color: #008080; font-weight: bold\">38</span>;D are critical to its future growth \n",
       "and competitive position in the marketplace, and to the development of new and updated products and services that \n",
       "are central to the Company&amp;#<span style=\"color: #008080; text-decoration-color: #008080; font-weight: bold\">8217</span>;s core business strategy. \n",
       "\n",
       "Selling, General and Administrative \n",
       "\n",
       "The year-over-year growth in selling, general and administrative expense in <span style=\"color: #008080; text-decoration-color: #008080; font-weight: bold\">2020</span> was driven primarily by increases \n",
       "in headcount-related expenses, higher spending on marketing and advertising, and higher variable selling expenses. \n",
       "\n",
       "Apple Inc. | <span style=\"color: #008080; text-decoration-color: #008080; font-weight: bold\">2020</span> Form <span style=\"color: #008080; text-decoration-color: #008080; font-weight: bold\">10</span>-K | <span style=\"color: #008080; text-decoration-color: #008080; font-weight: bold\">23</span> \n",
       "\n",
       "Other Income/<span style=\"font-weight: bold\">(</span>Expense<span style=\"font-weight: bold\">)</span>, Net \n",
       "\n",
       "Other income/<span style=\"font-weight: bold\">(</span>expense<span style=\"font-weight: bold\">)</span>, net <span style=\"font-weight: bold\">(</span>&amp;#<span style=\"color: #008080; text-decoration-color: #008080; font-weight: bold\">8220</span>;OI&amp;#<span style=\"color: #008080; text-decoration-color: #008080; font-weight: bold\">38</span>;E&amp;#<span style=\"color: #008080; text-decoration-color: #008080; font-weight: bold\">8221</span>;<span style=\"font-weight: bold\">)</span> for <span style=\"color: #008080; text-decoration-color: #008080; font-weight: bold\">2020</span>, <span style=\"color: #008080; text-decoration-color: #008080; font-weight: bold\">2019</span> and <span style=\"color: #008080; text-decoration-color: #008080; font-weight: bold\">2018</span> was as follows <span style=\"font-weight: bold\">(</span>dollars in millions<span style=\"font-weight: bold\">)</span>: \n",
       "\n",
       "##TABLE_START <span style=\"color: #008080; text-decoration-color: #008080; font-weight: bold\">2020</span> Change <span style=\"color: #008080; text-decoration-color: #008080; font-weight: bold\">2019</span> Change <span style=\"color: #008080; text-decoration-color: #008080; font-weight: bold\">2018</span> Interest and dividend income \n",
       "\n",
       "$ <span style=\"color: #008080; text-decoration-color: #008080; font-weight: bold\">3</span>,<span style=\"color: #008080; text-decoration-color: #008080; font-weight: bold\">763</span> $ <span style=\"color: #008080; text-decoration-color: #008080; font-weight: bold\">4</span>,<span style=\"color: #008080; text-decoration-color: #008080; font-weight: bold\">961</span> $ <span style=\"color: #008080; text-decoration-color: #008080; font-weight: bold\">5</span>,<span style=\"color: #008080; text-decoration-color: #008080; font-weight: bold\">686</span> Interest expense \n",
       "\n",
       "<span style=\"font-weight: bold\">(</span><span style=\"color: #008080; text-decoration-color: #008080; font-weight: bold\">2</span>,<span style=\"color: #008080; text-decoration-color: #008080; font-weight: bold\">873</span><span style=\"font-weight: bold\">)</span> <span style=\"font-weight: bold\">(</span><span style=\"color: #008080; text-decoration-color: #008080; font-weight: bold\">3</span>,<span style=\"color: #008080; text-decoration-color: #008080; font-weight: bold\">576</span><span style=\"font-weight: bold\">)</span> <span style=\"font-weight: bold\">(</span><span style=\"color: #008080; text-decoration-color: #008080; font-weight: bold\">3</span>,<span style=\"color: #008080; text-decoration-color: #008080; font-weight: bold\">240</span><span style=\"font-weight: bold\">)</span> Other income/<span style=\"font-weight: bold\">(</span>expense<span style=\"font-weight: bold\">)</span>, net <span style=\"font-weight: bold\">(</span><span style=\"color: #008080; text-decoration-color: #008080; font-weight: bold\">87</span><span style=\"font-weight: bold\">)</span> <span style=\"color: #008080; text-decoration-color: #008080; font-weight: bold\">422</span> <span style=\"font-weight: bold\">(</span><span style=\"color: #008080; text-decoration-color: #008080; font-weight: bold\">441</span><span style=\"font-weight: bold\">)</span> Total other income/<span style=\"font-weight: bold\">(</span>expense<span style=\"font-weight: bold\">)</span>, net \n",
       "\n",
       "$ <span style=\"color: #008080; text-decoration-color: #008080; font-weight: bold\">803</span> <span style=\"font-weight: bold\">(</span><span style=\"color: #008080; text-decoration-color: #008080; font-weight: bold\">56</span><span style=\"font-weight: bold\">)</span> % $ <span style=\"color: #008080; text-decoration-color: #008080; font-weight: bold\">1</span>,<span style=\"color: #008080; text-decoration-color: #008080; font-weight: bold\">807</span> <span style=\"font-weight: bold\">(</span><span style=\"color: #008080; text-decoration-color: #008080; font-weight: bold\">10</span><span style=\"font-weight: bold\">)</span> % $ <span style=\"color: #008080; text-decoration-color: #008080; font-weight: bold\">2</span>,<span style=\"color: #008080; text-decoration-color: #008080; font-weight: bold\">005</span> ##TABLE_END\n",
       "\n",
       "The year-over-year decrease in OI&amp;#<span style=\"color: #008080; text-decoration-color: #008080; font-weight: bold\">38</span>;E during <span style=\"color: #008080; text-decoration-color: #008080; font-weight: bold\">2020</span> was due primarily to lower interest income and net \n",
       "impairment/gain activity on non-marketable securities, partially offset by lower interest expense. The \n",
       "weighted-average interest rate earned by the Company on its cash, cash equivalents and marketable securities was \n",
       "<span style=\"color: #008080; text-decoration-color: #008080; font-weight: bold\">1.85</span>% and <span style=\"color: #008080; text-decoration-color: #008080; font-weight: bold\">2.19</span>% in <span style=\"color: #008080; text-decoration-color: #008080; font-weight: bold\">2020</span> and <span style=\"color: #008080; text-decoration-color: #008080; font-weight: bold\">2019</span>, respectively. \n",
       "\n",
       "Provision for Income Taxes \n",
       "\n",
       "Provision for income taxes, effective tax rate and statutory federal income tax rate for <span style=\"color: #008080; text-decoration-color: #008080; font-weight: bold\">2020</span>, <span style=\"color: #008080; text-decoration-color: #008080; font-weight: bold\">2019</span> and <span style=\"color: #008080; text-decoration-color: #008080; font-weight: bold\">2018</span> were \n",
       "as follows <span style=\"font-weight: bold\">(</span>dollars in millions<span style=\"font-weight: bold\">)</span>: \n",
       "\n",
       "##TABLE_START <span style=\"color: #008080; text-decoration-color: #008080; font-weight: bold\">2020</span> <span style=\"color: #008080; text-decoration-color: #008080; font-weight: bold\">2019</span> <span style=\"color: #008080; text-decoration-color: #008080; font-weight: bold\">2018</span> Provision for income taxes \n",
       "\n",
       "$ <span style=\"color: #008080; text-decoration-color: #008080; font-weight: bold\">9</span>,<span style=\"color: #008080; text-decoration-color: #008080; font-weight: bold\">680</span> $ <span style=\"color: #008080; text-decoration-color: #008080; font-weight: bold\">10</span>,<span style=\"color: #008080; text-decoration-color: #008080; font-weight: bold\">481</span> $ <span style=\"color: #008080; text-decoration-color: #008080; font-weight: bold\">13</span>,<span style=\"color: #008080; text-decoration-color: #008080; font-weight: bold\">372</span> Effective tax rate \n",
       "\n",
       "<span style=\"color: #008080; text-decoration-color: #008080; font-weight: bold\">14.4</span> % <span style=\"color: #008080; text-decoration-color: #008080; font-weight: bold\">15.9</span> % <span style=\"color: #008080; text-decoration-color: #008080; font-weight: bold\">18.3</span> % Statutory federal income tax rate \n",
       "\n",
       "<span style=\"color: #008080; text-decoration-color: #008080; font-weight: bold\">21</span> % <span style=\"color: #008080; text-decoration-color: #008080; font-weight: bold\">21</span> % <span style=\"color: #008080; text-decoration-color: #008080; font-weight: bold\">24.5</span> % ##TABLE_END\n",
       "\n",
       "The Company&amp;#<span style=\"color: #008080; text-decoration-color: #008080; font-weight: bold\">8217</span>;s effective tax rate for both <span style=\"color: #008080; text-decoration-color: #008080; font-weight: bold\">2020</span> and <span style=\"color: #008080; text-decoration-color: #008080; font-weight: bold\">2019</span> was lower than the statutory federal income tax rate \n",
       "due primarily to the lower tax rate on foreign earnings, including the impact of tax settlements, and tax benefits \n",
       "from share-based compensation. \n",
       "\n",
       "The Company&amp;#<span style=\"color: #008080; text-decoration-color: #008080; font-weight: bold\">8217</span>;s effective tax rate for <span style=\"color: #008080; text-decoration-color: #008080; font-weight: bold\">2020</span> was lower compared to <span style=\"color: #008080; text-decoration-color: #008080; font-weight: bold\">2019</span> due primarily to a one-time adjustment \n",
       "of U.S. foreign tax credits in response to regulations issued by the U.S. Department of the Treasury in December \n",
       "<span style=\"color: #008080; text-decoration-color: #008080; font-weight: bold\">2019</span> in connection with the U.S. Tax Cuts and Jobs Act of <span style=\"color: #008080; text-decoration-color: #008080; font-weight: bold\">2017</span> <span style=\"font-weight: bold\">(</span>the &amp;#<span style=\"color: #008080; text-decoration-color: #008080; font-weight: bold\">8220</span>;Act&amp;#<span style=\"color: #008080; text-decoration-color: #008080; font-weight: bold\">8221</span>;<span style=\"font-weight: bold\">)</span> and higher tax benefits from\n",
       "share-based compensation. \n",
       "\n",
       "As of September <span style=\"color: #008080; text-decoration-color: #008080; font-weight: bold\">26</span>, <span style=\"color: #008080; text-decoration-color: #008080; font-weight: bold\">2020</span>, the Company had net deferred tax assets arising from deductible temporary differences and\n",
       "tax credits of $<span style=\"color: #008080; text-decoration-color: #008080; font-weight: bold\">11.0</span> billion and deferred tax liabilities of $<span style=\"color: #008080; text-decoration-color: #008080; font-weight: bold\">2.8</span> billion. Management believes it is more likely \n",
       "than not that forecasted income, including income that may be generated as a result of certain tax planning \n",
       "strategies, together with future reversals of existing taxable temporary differences, will be sufficient to recover\n",
       "the net deferred tax assets. The Company will continue to evaluate the amount of the valuation allowance, if any, \n",
       "by assessing the realizability of deferred tax assets. \n",
       "\n",
       "Recent Accounting Pronouncements \n",
       "\n",
       "Financial Instruments \n",
       "\n",
       "In June <span style=\"color: #008080; text-decoration-color: #008080; font-weight: bold\">2016</span>, the Financial Accounting Standards Board issued Accounting Standards Update No. <span style=\"color: #008080; text-decoration-color: #008080; font-weight: bold\">2016</span>-<span style=\"color: #008080; text-decoration-color: #008080; font-weight: bold\">13</span>, Financial \n",
       "Instruments &amp;#<span style=\"color: #008080; text-decoration-color: #008080; font-weight: bold\">8211</span>; Credit Losses <span style=\"font-weight: bold\">(</span>Topic <span style=\"color: #008080; text-decoration-color: #008080; font-weight: bold\">326</span><span style=\"font-weight: bold\">)</span>: Measurement of Credit Losses on Financial Instruments <span style=\"font-weight: bold\">(</span>&amp;#<span style=\"color: #008080; text-decoration-color: #008080; font-weight: bold\">8220</span>;ASU \n",
       "<span style=\"color: #008080; text-decoration-color: #008080; font-weight: bold\">2016</span>-<span style=\"color: #008080; text-decoration-color: #008080; font-weight: bold\">13</span>&amp;#<span style=\"color: #008080; text-decoration-color: #008080; font-weight: bold\">8221</span>;<span style=\"font-weight: bold\">)</span>, which modifies the measurement of expected credit losses on certain financial instruments. The \n",
       "Company will adopt ASU <span style=\"color: #008080; text-decoration-color: #008080; font-weight: bold\">2016</span>-<span style=\"color: #008080; text-decoration-color: #008080; font-weight: bold\">13</span> in its first quarter of <span style=\"color: #008080; text-decoration-color: #008080; font-weight: bold\">2021</span> utilizing the modified retrospective transition method.\n",
       "Based on the composition of the Company&amp;#<span style=\"color: #008080; text-decoration-color: #008080; font-weight: bold\">8217</span>;s investment portfolio, current market conditions, and historical \n",
       "credit loss activity, the adoption of ASU <span style=\"color: #008080; text-decoration-color: #008080; font-weight: bold\">2016</span>-<span style=\"color: #008080; text-decoration-color: #008080; font-weight: bold\">13</span> will not have a material impact on its consolidated financial \n",
       "statements. \n",
       "\n",
       "Apple Inc. | <span style=\"color: #008080; text-decoration-color: #008080; font-weight: bold\">2020</span> Form <span style=\"color: #008080; text-decoration-color: #008080; font-weight: bold\">10</span>-K | <span style=\"color: #008080; text-decoration-color: #008080; font-weight: bold\">24</span> \n",
       "\n",
       "Liquidity and Capital Resources \n",
       "\n",
       "The following table presents selected financial information and statistics as of and for the years ended September \n",
       "<span style=\"color: #008080; text-decoration-color: #008080; font-weight: bold\">26</span>, <span style=\"color: #008080; text-decoration-color: #008080; font-weight: bold\">2020</span>, September <span style=\"color: #008080; text-decoration-color: #008080; font-weight: bold\">28</span>, <span style=\"color: #008080; text-decoration-color: #008080; font-weight: bold\">2019</span> and September <span style=\"color: #008080; text-decoration-color: #008080; font-weight: bold\">29</span>, <span style=\"color: #008080; text-decoration-color: #008080; font-weight: bold\">2018</span> <span style=\"font-weight: bold\">(</span>in millions<span style=\"font-weight: bold\">)</span>: \n",
       "\n",
       "##TABLE_START <span style=\"color: #008080; text-decoration-color: #008080; font-weight: bold\">2020</span> <span style=\"color: #008080; text-decoration-color: #008080; font-weight: bold\">2019</span> <span style=\"color: #008080; text-decoration-color: #008080; font-weight: bold\">2018</span> Cash, cash equivalents and marketable securities <span style=\"font-weight: bold\">(</span><span style=\"color: #008080; text-decoration-color: #008080; font-weight: bold\">1</span><span style=\"font-weight: bold\">)</span> \n",
       "\n",
       "$ <span style=\"color: #008080; text-decoration-color: #008080; font-weight: bold\">191</span>,<span style=\"color: #008080; text-decoration-color: #008080; font-weight: bold\">830</span> $ <span style=\"color: #008080; text-decoration-color: #008080; font-weight: bold\">205</span>,<span style=\"color: #008080; text-decoration-color: #008080; font-weight: bold\">898</span> $ <span style=\"color: #008080; text-decoration-color: #008080; font-weight: bold\">237</span>,<span style=\"color: #008080; text-decoration-color: #008080; font-weight: bold\">100</span> Property, plant and equipment, net \n",
       "\n",
       "$ <span style=\"color: #008080; text-decoration-color: #008080; font-weight: bold\">36</span>,<span style=\"color: #008080; text-decoration-color: #008080; font-weight: bold\">766</span> $ <span style=\"color: #008080; text-decoration-color: #008080; font-weight: bold\">37</span>,<span style=\"color: #008080; text-decoration-color: #008080; font-weight: bold\">378</span> $ <span style=\"color: #008080; text-decoration-color: #008080; font-weight: bold\">41</span>,<span style=\"color: #008080; text-decoration-color: #008080; font-weight: bold\">304</span> Commercial paper \n",
       "\n",
       "$ <span style=\"color: #008080; text-decoration-color: #008080; font-weight: bold\">4</span>,<span style=\"color: #008080; text-decoration-color: #008080; font-weight: bold\">996</span> $ <span style=\"color: #008080; text-decoration-color: #008080; font-weight: bold\">5</span>,<span style=\"color: #008080; text-decoration-color: #008080; font-weight: bold\">980</span> $ <span style=\"color: #008080; text-decoration-color: #008080; font-weight: bold\">11</span>,<span style=\"color: #008080; text-decoration-color: #008080; font-weight: bold\">964</span> Total term debt \n",
       "\n",
       "$ <span style=\"color: #008080; text-decoration-color: #008080; font-weight: bold\">107</span>,<span style=\"color: #008080; text-decoration-color: #008080; font-weight: bold\">440</span> $ <span style=\"color: #008080; text-decoration-color: #008080; font-weight: bold\">102</span>,<span style=\"color: #008080; text-decoration-color: #008080; font-weight: bold\">067</span> $ <span style=\"color: #008080; text-decoration-color: #008080; font-weight: bold\">102</span>,<span style=\"color: #008080; text-decoration-color: #008080; font-weight: bold\">519</span> Working capital \n",
       "\n",
       "$ <span style=\"color: #008080; text-decoration-color: #008080; font-weight: bold\">38</span>,<span style=\"color: #008080; text-decoration-color: #008080; font-weight: bold\">321</span> $ <span style=\"color: #008080; text-decoration-color: #008080; font-weight: bold\">57</span>,<span style=\"color: #008080; text-decoration-color: #008080; font-weight: bold\">101</span> $ <span style=\"color: #008080; text-decoration-color: #008080; font-weight: bold\">15</span>,<span style=\"color: #008080; text-decoration-color: #008080; font-weight: bold\">410</span> Cash generated by operating activities \n",
       "\n",
       "$ <span style=\"color: #008080; text-decoration-color: #008080; font-weight: bold\">80</span>,<span style=\"color: #008080; text-decoration-color: #008080; font-weight: bold\">674</span> $ <span style=\"color: #008080; text-decoration-color: #008080; font-weight: bold\">69</span>,<span style=\"color: #008080; text-decoration-color: #008080; font-weight: bold\">391</span> $ <span style=\"color: #008080; text-decoration-color: #008080; font-weight: bold\">77</span>,<span style=\"color: #008080; text-decoration-color: #008080; font-weight: bold\">434</span> Cash generated by/<span style=\"font-weight: bold\">(</span>used in<span style=\"font-weight: bold\">)</span> investing activities $ <span style=\"font-weight: bold\">(</span><span style=\"color: #008080; text-decoration-color: #008080; font-weight: bold\">4</span>,<span style=\"color: #008080; text-decoration-color: #008080; font-weight: bold\">289</span><span style=\"font-weight: bold\">)</span> $ <span style=\"color: #008080; text-decoration-color: #008080; font-weight: bold\">45</span>,<span style=\"color: #008080; text-decoration-color: #008080; font-weight: bold\">896</span> $ <span style=\"color: #008080; text-decoration-color: #008080; font-weight: bold\">16</span>,<span style=\"color: #008080; text-decoration-color: #008080; font-weight: bold\">066</span> Cash used \n",
       "in financing activities \n",
       "\n",
       "$ <span style=\"font-weight: bold\">(</span><span style=\"color: #008080; text-decoration-color: #008080; font-weight: bold\">86</span>,<span style=\"color: #008080; text-decoration-color: #008080; font-weight: bold\">820</span><span style=\"font-weight: bold\">)</span> $ <span style=\"font-weight: bold\">(</span><span style=\"color: #008080; text-decoration-color: #008080; font-weight: bold\">90</span>,<span style=\"color: #008080; text-decoration-color: #008080; font-weight: bold\">976</span><span style=\"font-weight: bold\">)</span> $ <span style=\"font-weight: bold\">(</span><span style=\"color: #008080; text-decoration-color: #008080; font-weight: bold\">87</span>,<span style=\"color: #008080; text-decoration-color: #008080; font-weight: bold\">876</span><span style=\"font-weight: bold\">)</span> ##TABLE_END\n",
       "\n",
       "<span style=\"font-weight: bold\">(</span><span style=\"color: #008080; text-decoration-color: #008080; font-weight: bold\">1</span><span style=\"font-weight: bold\">)</span> As of September <span style=\"color: #008080; text-decoration-color: #008080; font-weight: bold\">26</span>, <span style=\"color: #008080; text-decoration-color: #008080; font-weight: bold\">2020</span> and September <span style=\"color: #008080; text-decoration-color: #008080; font-weight: bold\">28</span>, <span style=\"color: #008080; text-decoration-color: #008080; font-weight: bold\">2019</span>, total marketable securities included $<span style=\"color: #008080; text-decoration-color: #008080; font-weight: bold\">18.6</span> billion and $<span style=\"color: #008080; text-decoration-color: #008080; font-weight: bold\">18.9</span> \n",
       "billion, respectively, that was restricted from general use, related to the State Aid Decision <span style=\"font-weight: bold\">(</span>refer to Note <span style=\"color: #008080; text-decoration-color: #008080; font-weight: bold\">5</span>, \n",
       "&amp;#<span style=\"color: #008080; text-decoration-color: #008080; font-weight: bold\">8220</span>;Income Taxes&amp;#<span style=\"color: #008080; text-decoration-color: #008080; font-weight: bold\">8221</span>; in the Notes to Consolidated Financial Statements in Part II, Item <span style=\"color: #008080; text-decoration-color: #008080; font-weight: bold\">8</span> of this Form <span style=\"color: #008080; text-decoration-color: #008080; font-weight: bold\">10</span>-K<span style=\"font-weight: bold\">)</span> \n",
       "and other agreements. \n",
       "\n",
       "The Company believes its existing balances of cash, cash equivalents and marketable securities, along with \n",
       "commercial paper and other short-term liquidity arrangements, will be sufficient to satisfy its working capital \n",
       "needs, capital asset purchases, dividends, share repurchases, debt repayments and other liquidity requirements \n",
       "associated with its existing operations over the next <span style=\"color: #008080; text-decoration-color: #008080; font-weight: bold\">12</span> months. \n",
       "\n",
       "In connection with the State Aid Decision, as of September <span style=\"color: #008080; text-decoration-color: #008080; font-weight: bold\">26</span>, <span style=\"color: #008080; text-decoration-color: #008080; font-weight: bold\">2020</span>, the adjusted recovery amount of &amp;#<span style=\"color: #008080; text-decoration-color: #008080; font-weight: bold\">8364</span>;<span style=\"color: #008080; text-decoration-color: #008080; font-weight: bold\">12.9</span> \n",
       "billion plus interest of &amp;#<span style=\"color: #008080; text-decoration-color: #008080; font-weight: bold\">8364</span>;<span style=\"color: #008080; text-decoration-color: #008080; font-weight: bold\">1.2</span> billion was funded into escrow, where it will remain restricted from general \n",
       "use pending the conclusion of all legal proceedings. Further information regarding the State Aid Decision can be \n",
       "found in Part II, Item <span style=\"color: #008080; text-decoration-color: #008080; font-weight: bold\">8</span> of this Form <span style=\"color: #008080; text-decoration-color: #008080; font-weight: bold\">10</span>-K in the Notes to Consolidated Financial Statements in Note <span style=\"color: #008080; text-decoration-color: #008080; font-weight: bold\">5</span>, \n",
       "&amp;#<span style=\"color: #008080; text-decoration-color: #008080; font-weight: bold\">8220</span>;Income Taxes.&amp;#<span style=\"color: #008080; text-decoration-color: #008080; font-weight: bold\">8221</span>; \n",
       "\n",
       "The Company&amp;#<span style=\"color: #008080; text-decoration-color: #008080; font-weight: bold\">8217</span>;s marketable securities investment portfolio is primarily invested in highly rated securities, \n",
       "with the primary objective of minimizing the potential risk of principal loss. The Company&amp;#<span style=\"color: #008080; text-decoration-color: #008080; font-weight: bold\">8217</span>;s investment \n",
       "policy generally requires securities to be investment grade and limits the amount of credit exposure to any one \n",
       "issuer. \n",
       "\n",
       "During <span style=\"color: #008080; text-decoration-color: #008080; font-weight: bold\">2020</span>, cash generated by operating activities of $<span style=\"color: #008080; text-decoration-color: #008080; font-weight: bold\">80.7</span> billion was a result of $<span style=\"color: #008080; text-decoration-color: #008080; font-weight: bold\">57.4</span> billion of net income, \n",
       "non-cash adjustments to net income of $<span style=\"color: #008080; text-decoration-color: #008080; font-weight: bold\">17.6</span> billion and an increase in the net change in operating assets and \n",
       "liabilities of $<span style=\"color: #008080; text-decoration-color: #008080; font-weight: bold\">5.7</span> billion. Cash used in investing activities of $<span style=\"color: #008080; text-decoration-color: #008080; font-weight: bold\">4.3</span> billion during <span style=\"color: #008080; text-decoration-color: #008080; font-weight: bold\">2020</span> consisted primarily of \n",
       "cash used to acquire property, plant and equipment of $<span style=\"color: #008080; text-decoration-color: #008080; font-weight: bold\">7.3</span> billion and cash paid for business acquisitions, net of \n",
       "cash acquired, of $<span style=\"color: #008080; text-decoration-color: #008080; font-weight: bold\">1.5</span> billion, partially offset by proceeds from maturities and sales of marketable securities, \n",
       "net of purchases, of $<span style=\"color: #008080; text-decoration-color: #008080; font-weight: bold\">5.5</span> billion. Cash used in financing activities of $<span style=\"color: #008080; text-decoration-color: #008080; font-weight: bold\">86.8</span> billion during <span style=\"color: #008080; text-decoration-color: #008080; font-weight: bold\">2020</span> consisted \n",
       "primarily of cash used to repurchase common stock of $<span style=\"color: #008080; text-decoration-color: #008080; font-weight: bold\">72.4</span> billion, cash used to pay dividends and dividend \n",
       "equivalents of $<span style=\"color: #008080; text-decoration-color: #008080; font-weight: bold\">14.1</span> billion, cash used to repay or redeem term debt of $<span style=\"color: #008080; text-decoration-color: #008080; font-weight: bold\">12.6</span> billion and net repayments of \n",
       "commercial paper of $<span style=\"color: #008080; text-decoration-color: #008080; font-weight: bold\">1.0</span> billion, partially offset by net proceeds from the issuance of term debt of $<span style=\"color: #008080; text-decoration-color: #008080; font-weight: bold\">16.1</span> billion.\n",
       "\n",
       "During <span style=\"color: #008080; text-decoration-color: #008080; font-weight: bold\">2019</span>, cash generated by operating activities of $<span style=\"color: #008080; text-decoration-color: #008080; font-weight: bold\">69.4</span> billion was a result of $<span style=\"color: #008080; text-decoration-color: #008080; font-weight: bold\">55.3</span> billion of net income \n",
       "and non-cash adjustments to net income of $<span style=\"color: #008080; text-decoration-color: #008080; font-weight: bold\">17.6</span> billion, partially offset by a decrease in the net change in \n",
       "operating assets and liabilities of $<span style=\"color: #008080; text-decoration-color: #008080; font-weight: bold\">3.5</span> billion. Cash generated by investing activities of $<span style=\"color: #008080; text-decoration-color: #008080; font-weight: bold\">45.9</span> billion during \n",
       "<span style=\"color: #008080; text-decoration-color: #008080; font-weight: bold\">2019</span> consisted primarily of proceeds from sales and maturities of marketable securities, net of purchases, of $<span style=\"color: #008080; text-decoration-color: #008080; font-weight: bold\">57.5</span>\n",
       "billion, partially offset by cash used to acquire property, plant and equipment of $<span style=\"color: #008080; text-decoration-color: #008080; font-weight: bold\">10.5</span> billion. Cash used in \n",
       "financing activities of $<span style=\"color: #008080; text-decoration-color: #008080; font-weight: bold\">91.0</span> billion during <span style=\"color: #008080; text-decoration-color: #008080; font-weight: bold\">2019</span> consisted primarily of cash used to repurchase common stock of \n",
       "$<span style=\"color: #008080; text-decoration-color: #008080; font-weight: bold\">66.9</span> billion, cash used to pay dividends and dividend equivalents of $<span style=\"color: #008080; text-decoration-color: #008080; font-weight: bold\">14.1</span> billion, cash used to repay term debt \n",
       "of $<span style=\"color: #008080; text-decoration-color: #008080; font-weight: bold\">8.8</span> billion and net repayments of commercial paper of $<span style=\"color: #008080; text-decoration-color: #008080; font-weight: bold\">6.0</span> billion, partially offset by net proceeds from the \n",
       "issuance of term debt of $<span style=\"color: #008080; text-decoration-color: #008080; font-weight: bold\">7.0</span> billion. \n",
       "\n",
       "Debt \n",
       "\n",
       "The Company issues unsecured short-term promissory notes <span style=\"font-weight: bold\">(</span>&amp;#<span style=\"color: #008080; text-decoration-color: #008080; font-weight: bold\">8220</span>;Commercial Paper&amp;#<span style=\"color: #008080; text-decoration-color: #008080; font-weight: bold\">8221</span>;<span style=\"font-weight: bold\">)</span> pursuant to a commercial \n",
       "paper program. The Company uses the net proceeds from the commercial paper program for general corporate purposes, \n",
       "including dividends and share repurchases. As of September <span style=\"color: #008080; text-decoration-color: #008080; font-weight: bold\">26</span>, <span style=\"color: #008080; text-decoration-color: #008080; font-weight: bold\">2020</span>, the Company had $<span style=\"color: #008080; text-decoration-color: #008080; font-weight: bold\">5.0</span> billion of Commercial \n",
       "Paper outstanding, with a weighted-average interest rate of <span style=\"color: #008080; text-decoration-color: #008080; font-weight: bold\">0.62</span>% and maturities generally less than nine months. \n",
       "\n",
       "The Company may enter into agreements to sell certain of its marketable securities with a promise to repurchase the\n",
       "securities at a specified time and amount as an additional short-term liquidity arrangement. \n",
       "\n",
       "Apple Inc. | <span style=\"color: #008080; text-decoration-color: #008080; font-weight: bold\">2020</span> Form <span style=\"color: #008080; text-decoration-color: #008080; font-weight: bold\">10</span>-K | <span style=\"color: #008080; text-decoration-color: #008080; font-weight: bold\">25</span> \n",
       "\n",
       "As of September <span style=\"color: #008080; text-decoration-color: #008080; font-weight: bold\">26</span>, <span style=\"color: #008080; text-decoration-color: #008080; font-weight: bold\">2020</span>, the Company had outstanding floating- and fixed-rate notes with varying maturities for an\n",
       "aggregate principal amount of $<span style=\"color: #008080; text-decoration-color: #008080; font-weight: bold\">106.1</span> billion <span style=\"font-weight: bold\">(</span>collectively the &amp;#<span style=\"color: #008080; text-decoration-color: #008080; font-weight: bold\">8220</span>;Notes&amp;#<span style=\"color: #008080; text-decoration-color: #008080; font-weight: bold\">8221</span>;<span style=\"font-weight: bold\">)</span>. During <span style=\"color: #008080; text-decoration-color: #008080; font-weight: bold\">2020</span>, the Company \n",
       "issued $<span style=\"color: #008080; text-decoration-color: #008080; font-weight: bold\">16.1</span> billion and repaid or redeemed $<span style=\"color: #008080; text-decoration-color: #008080; font-weight: bold\">12.6</span> billion of Notes. The Company has entered, and in the future may \n",
       "enter, into interest rate swaps to manage interest rate risk on the Notes. In addition, the Company has entered, \n",
       "and in the future may enter, into foreign currency swaps to manage foreign currency risk on the Notes. \n",
       "\n",
       "Further information regarding the Company&amp;#<span style=\"color: #008080; text-decoration-color: #008080; font-weight: bold\">8217</span>;s debt issuances and related hedging activity can be found in Part \n",
       "II, Item <span style=\"color: #008080; text-decoration-color: #008080; font-weight: bold\">8</span> of this Form <span style=\"color: #008080; text-decoration-color: #008080; font-weight: bold\">10</span>-K in the Notes to Consolidated Financial Statements in Note <span style=\"color: #008080; text-decoration-color: #008080; font-weight: bold\">3</span>, &amp;#<span style=\"color: #008080; text-decoration-color: #008080; font-weight: bold\">8220</span>;Financial \n",
       "Instruments&amp;#<span style=\"color: #008080; text-decoration-color: #008080; font-weight: bold\">8221</span>; and Note <span style=\"color: #008080; text-decoration-color: #008080; font-weight: bold\">6</span>, &amp;#<span style=\"color: #008080; text-decoration-color: #008080; font-weight: bold\">8220</span>;Debt.&amp;#<span style=\"color: #008080; text-decoration-color: #008080; font-weight: bold\">8221</span>; \n",
       "\n",
       "Capital Return Program \n",
       "\n",
       "As of September <span style=\"color: #008080; text-decoration-color: #008080; font-weight: bold\">26</span>, <span style=\"color: #008080; text-decoration-color: #008080; font-weight: bold\">2020</span>, the Company was authorized to purchase up to $<span style=\"color: #008080; text-decoration-color: #008080; font-weight: bold\">225</span> billion of the Company&amp;#<span style=\"color: #008080; text-decoration-color: #008080; font-weight: bold\">8217</span>;s common \n",
       "stock under a share repurchase program, of which $<span style=\"color: #008080; text-decoration-color: #008080; font-weight: bold\">168.6</span> billion had been utilized. During <span style=\"color: #008080; text-decoration-color: #008080; font-weight: bold\">2020</span>, the Company \n",
       "repurchased <span style=\"color: #008080; text-decoration-color: #008080; font-weight: bold\">917</span> million shares of its common stock for $<span style=\"color: #008080; text-decoration-color: #008080; font-weight: bold\">72.5</span> billion, including <span style=\"color: #008080; text-decoration-color: #008080; font-weight: bold\">141</span> million shares delivered under \n",
       "a $<span style=\"color: #008080; text-decoration-color: #008080; font-weight: bold\">10.0</span> billion November <span style=\"color: #008080; text-decoration-color: #008080; font-weight: bold\">2019</span> ASR and <span style=\"color: #008080; text-decoration-color: #008080; font-weight: bold\">64</span> million shares delivered under a $<span style=\"color: #008080; text-decoration-color: #008080; font-weight: bold\">6.0</span> billion May <span style=\"color: #008080; text-decoration-color: #008080; font-weight: bold\">2020</span> ASR. The \n",
       "Company&amp;#<span style=\"color: #008080; text-decoration-color: #008080; font-weight: bold\">8217</span>;s share repurchase program does not obligate it to acquire any specific number of shares. Under this \n",
       "program, shares may be repurchased in privately negotiated and/or open market transactions, including under plans \n",
       "complying with Rule 10b5-<span style=\"color: #008080; text-decoration-color: #008080; font-weight: bold\">1</span> under the Exchange Act. \n",
       "\n",
       "As of September <span style=\"color: #008080; text-decoration-color: #008080; font-weight: bold\">26</span>, <span style=\"color: #008080; text-decoration-color: #008080; font-weight: bold\">2020</span>, the Company&amp;#<span style=\"color: #008080; text-decoration-color: #008080; font-weight: bold\">8217</span>;s quarterly cash dividend was $<span style=\"color: #008080; text-decoration-color: #008080; font-weight: bold\">0.205</span> per share. The Company intends to \n",
       "increase its dividend on an annual basis, subject to declaration by the Board of Directors. \n",
       "\n",
       "Contractual Obligations \n",
       "\n",
       "The following table presents certain payments due by the Company as of September <span style=\"color: #008080; text-decoration-color: #008080; font-weight: bold\">26</span>, <span style=\"color: #008080; text-decoration-color: #008080; font-weight: bold\">2020</span>, and includes amounts \n",
       "already recorded on the Consolidated Balance Sheet, except for manufacturing purchase obligations, other purchase \n",
       "obligations and certain lease obligations <span style=\"font-weight: bold\">(</span>in millions<span style=\"font-weight: bold\">)</span>: \n",
       "\n",
       "##TABLE_START Payments due in <span style=\"color: #008080; text-decoration-color: #008080; font-weight: bold\">2021</span> Payments due in <span style=\"color: #008080; text-decoration-color: #008080; font-weight: bold\">2022</span>&amp;#<span style=\"color: #008080; text-decoration-color: #008080; font-weight: bold\">8211</span>;<span style=\"color: #008080; text-decoration-color: #008080; font-weight: bold\">2023</span> Payments due in <span style=\"color: #008080; text-decoration-color: #008080; font-weight: bold\">2024</span>&amp;#<span style=\"color: #008080; text-decoration-color: #008080; font-weight: bold\">8211</span>;<span style=\"color: #008080; text-decoration-color: #008080; font-weight: bold\">2025</span> Payments due \n",
       "after <span style=\"color: #008080; text-decoration-color: #008080; font-weight: bold\">2025</span> Total Term debt \n",
       "\n",
       "$ <span style=\"color: #008080; text-decoration-color: #008080; font-weight: bold\">8</span>,<span style=\"color: #008080; text-decoration-color: #008080; font-weight: bold\">750</span> $ <span style=\"color: #008080; text-decoration-color: #008080; font-weight: bold\">20</span>,<span style=\"color: #008080; text-decoration-color: #008080; font-weight: bold\">958</span> $ <span style=\"color: #008080; text-decoration-color: #008080; font-weight: bold\">21</span>,<span style=\"color: #008080; text-decoration-color: #008080; font-weight: bold\">029</span> $ <span style=\"color: #008080; text-decoration-color: #008080; font-weight: bold\">55</span>,<span style=\"color: #008080; text-decoration-color: #008080; font-weight: bold\">341</span> $ <span style=\"color: #008080; text-decoration-color: #008080; font-weight: bold\">106</span>,<span style=\"color: #008080; text-decoration-color: #008080; font-weight: bold\">078</span> Leases \n",
       "\n",
       "<span style=\"color: #008080; text-decoration-color: #008080; font-weight: bold\">1</span>,<span style=\"color: #008080; text-decoration-color: #008080; font-weight: bold\">622</span> <span style=\"color: #008080; text-decoration-color: #008080; font-weight: bold\">3</span>,<span style=\"color: #008080; text-decoration-color: #008080; font-weight: bold\">097</span> <span style=\"color: #008080; text-decoration-color: #008080; font-weight: bold\">2</span>,<span style=\"color: #008080; text-decoration-color: #008080; font-weight: bold\">352</span> <span style=\"color: #008080; text-decoration-color: #008080; font-weight: bold\">5</span>,<span style=\"color: #008080; text-decoration-color: #008080; font-weight: bold\">888</span> <span style=\"color: #008080; text-decoration-color: #008080; font-weight: bold\">12</span>,<span style=\"color: #008080; text-decoration-color: #008080; font-weight: bold\">959</span> Manufacturing purchase obligations <span style=\"font-weight: bold\">(</span><span style=\"color: #008080; text-decoration-color: #008080; font-weight: bold\">1</span><span style=\"font-weight: bold\">)</span> \n",
       "\n",
       "<span style=\"color: #008080; text-decoration-color: #008080; font-weight: bold\">47</span>,<span style=\"color: #008080; text-decoration-color: #008080; font-weight: bold\">961</span> <span style=\"color: #008080; text-decoration-color: #008080; font-weight: bold\">1</span>,<span style=\"color: #008080; text-decoration-color: #008080; font-weight: bold\">849</span> <span style=\"color: #008080; text-decoration-color: #008080; font-weight: bold\">61</span> <span style=\"color: #008080; text-decoration-color: #008080; font-weight: bold\">40</span> <span style=\"color: #008080; text-decoration-color: #008080; font-weight: bold\">49</span>,<span style=\"color: #008080; text-decoration-color: #008080; font-weight: bold\">911</span> Other purchase obligations \n",
       "\n",
       "<span style=\"color: #008080; text-decoration-color: #008080; font-weight: bold\">6</span>,<span style=\"color: #008080; text-decoration-color: #008080; font-weight: bold\">178</span> <span style=\"color: #008080; text-decoration-color: #008080; font-weight: bold\">2</span>,<span style=\"color: #008080; text-decoration-color: #008080; font-weight: bold\">736</span> <span style=\"color: #008080; text-decoration-color: #008080; font-weight: bold\">400</span> <span style=\"color: #008080; text-decoration-color: #008080; font-weight: bold\">90</span> <span style=\"color: #008080; text-decoration-color: #008080; font-weight: bold\">9</span>,<span style=\"color: #008080; text-decoration-color: #008080; font-weight: bold\">404</span> Deemed repatriation tax payable \n",
       "\n",
       "<span style=\"color: #008080; text-decoration-color: #008080; font-weight: bold\">1</span>,<span style=\"color: #008080; text-decoration-color: #008080; font-weight: bold\">533</span> <span style=\"color: #008080; text-decoration-color: #008080; font-weight: bold\">5</span>,<span style=\"color: #008080; text-decoration-color: #008080; font-weight: bold\">923</span> <span style=\"color: #008080; text-decoration-color: #008080; font-weight: bold\">12</span>,<span style=\"color: #008080; text-decoration-color: #008080; font-weight: bold\">955</span> <span style=\"color: #008080; text-decoration-color: #008080; font-weight: bold\">9</span>,<span style=\"color: #008080; text-decoration-color: #008080; font-weight: bold\">254</span> <span style=\"color: #008080; text-decoration-color: #008080; font-weight: bold\">29</span>,<span style=\"color: #008080; text-decoration-color: #008080; font-weight: bold\">665</span> Total $ <span style=\"color: #008080; text-decoration-color: #008080; font-weight: bold\">66</span>,<span style=\"color: #008080; text-decoration-color: #008080; font-weight: bold\">044</span> $ <span style=\"color: #008080; text-decoration-color: #008080; font-weight: bold\">34</span>,<span style=\"color: #008080; text-decoration-color: #008080; font-weight: bold\">563</span> $ <span style=\"color: #008080; text-decoration-color: #008080; font-weight: bold\">36</span>,<span style=\"color: #008080; text-decoration-color: #008080; font-weight: bold\">797</span> $ <span style=\"color: #008080; text-decoration-color: #008080; font-weight: bold\">70</span>,<span style=\"color: #008080; text-decoration-color: #008080; font-weight: bold\">613</span> $ <span style=\"color: #008080; text-decoration-color: #008080; font-weight: bold\">208</span>,<span style=\"color: #008080; text-decoration-color: #008080; font-weight: bold\">017</span> ##TABLE_END\n",
       "\n",
       "<span style=\"font-weight: bold\">(</span><span style=\"color: #008080; text-decoration-color: #008080; font-weight: bold\">1</span><span style=\"font-weight: bold\">)</span> Represents amount expected to be paid under manufacturing-related supplier arrangements, which are primarily \n",
       "noncancelable. \n",
       "\n",
       "Leases \n",
       "\n",
       "The Company has lease arrangements for certain equipment and facilities, including retail, corporate, manufacturing\n",
       "and data center space. The Company&amp;#<span style=\"color: #008080; text-decoration-color: #008080; font-weight: bold\">8217</span>;s retail store and other facility leases typically have original terms not\n",
       "exceeding <span style=\"color: #008080; text-decoration-color: #008080; font-weight: bold\">10</span> years and generally contain multi-year renewal options. The above contractual obligations table \n",
       "includes future payments under leases that had commenced as of September <span style=\"color: #008080; text-decoration-color: #008080; font-weight: bold\">26</span>, <span style=\"color: #008080; text-decoration-color: #008080; font-weight: bold\">2020</span>, and were therefore recorded on \n",
       "the Company&amp;#<span style=\"color: #008080; text-decoration-color: #008080; font-weight: bold\">8217</span>;s Consolidated Balance Sheet, as well as leases that had been signed but not yet commenced as of \n",
       "September <span style=\"color: #008080; text-decoration-color: #008080; font-weight: bold\">26</span>, <span style=\"color: #008080; text-decoration-color: #008080; font-weight: bold\">2020</span>. Further information regarding the Company&amp;#<span style=\"color: #008080; text-decoration-color: #008080; font-weight: bold\">8217</span>;s leases can be found in Part II, Item <span style=\"color: #008080; text-decoration-color: #008080; font-weight: bold\">8</span> of \n",
       "this Form <span style=\"color: #008080; text-decoration-color: #008080; font-weight: bold\">10</span>-K in the Notes to Consolidated Financial Statements in Note <span style=\"color: #008080; text-decoration-color: #008080; font-weight: bold\">12</span>, &amp;#<span style=\"color: #008080; text-decoration-color: #008080; font-weight: bold\">8220</span>;Leases.&amp;#<span style=\"color: #008080; text-decoration-color: #008080; font-weight: bold\">8221</span>; \n",
       "\n",
       "Manufacturing Purchase Obligations \n",
       "\n",
       "The Company utilizes several outsourcing partners to manufacture sub-assemblies for the Company&amp;#<span style=\"color: #008080; text-decoration-color: #008080; font-weight: bold\">8217</span>;s products \n",
       "and to perform final assembly and testing of finished products. These outsourcing partners acquire components and \n",
       "build product based on demand information supplied by the Company, which typically covers periods up to <span style=\"color: #008080; text-decoration-color: #008080; font-weight: bold\">150</span> days. \n",
       "The Company also obtains individual components for its products from a wide variety of individual suppliers. \n",
       "\n",
       "Other Purchase Obligations \n",
       "\n",
       "The Company&amp;#<span style=\"color: #008080; text-decoration-color: #008080; font-weight: bold\">8217</span>;s other purchase obligations consist of noncancelable obligations to acquire capital assets, \n",
       "including product tooling and manufacturing process equipment, and noncancelable obligations related to \n",
       "advertising, licensing, R&amp;#<span style=\"color: #008080; text-decoration-color: #008080; font-weight: bold\">38</span>;D, Internet and telecommunications services, content creation and other activities. \n",
       "\n",
       "Apple Inc. | <span style=\"color: #008080; text-decoration-color: #008080; font-weight: bold\">2020</span> Form <span style=\"color: #008080; text-decoration-color: #008080; font-weight: bold\">10</span>-K | <span style=\"color: #008080; text-decoration-color: #008080; font-weight: bold\">26</span> \n",
       "\n",
       "Deemed Repatriation Tax Payable \n",
       "\n",
       "As of September <span style=\"color: #008080; text-decoration-color: #008080; font-weight: bold\">26</span>, <span style=\"color: #008080; text-decoration-color: #008080; font-weight: bold\">2020</span>, a significant portion of the other non-current liabilities in the Company&amp;#<span style=\"color: #008080; text-decoration-color: #008080; font-weight: bold\">8217</span>;s \n",
       "Consolidated Balance Sheet consisted of the deemed repatriation tax payable imposed by the Act. The Company plans \n",
       "to pay the deemed repatriation tax payable in installments in accordance with the Act. \n",
       "\n",
       "Other Non-Current Liabilities \n",
       "\n",
       "The Company&amp;#<span style=\"color: #008080; text-decoration-color: #008080; font-weight: bold\">8217</span>;s remaining other non-current liabilities primarily consist of items for which the Company is \n",
       "unable to make a reasonably reliable estimate of the timing or amount of payments; therefore, such amounts are not \n",
       "included in the above contractual obligations table. \n",
       "\n",
       "Critical Accounting Policies and Estimates \n",
       "\n",
       "The preparation of financial statements and related disclosures in conformity with U.S. generally accepted \n",
       "accounting principles <span style=\"font-weight: bold\">(</span>&amp;#<span style=\"color: #008080; text-decoration-color: #008080; font-weight: bold\">8220</span>;GAAP&amp;#<span style=\"color: #008080; text-decoration-color: #008080; font-weight: bold\">8221</span>;<span style=\"font-weight: bold\">)</span> and the Company&amp;#<span style=\"color: #008080; text-decoration-color: #008080; font-weight: bold\">8217</span>;s discussion and analysis of its financial \n",
       "condition and operating results require the Company&amp;#<span style=\"color: #008080; text-decoration-color: #008080; font-weight: bold\">8217</span>;s management to make judgments, assumptions and estimates\n",
       "that affect the amounts reported. Note <span style=\"color: #008080; text-decoration-color: #008080; font-weight: bold\">1</span>, &amp;#<span style=\"color: #008080; text-decoration-color: #008080; font-weight: bold\">8220</span>;Summary of Significant Accounting Policies,&amp;#<span style=\"color: #008080; text-decoration-color: #008080; font-weight: bold\">8221</span>; of the Notes to\n",
       "Consolidated Financial Statements in Part II, Item <span style=\"color: #008080; text-decoration-color: #008080; font-weight: bold\">8</span> of this Form <span style=\"color: #008080; text-decoration-color: #008080; font-weight: bold\">10</span>-K describes the significant accounting \n",
       "policies and methods used in the preparation of the Company&amp;#<span style=\"color: #008080; text-decoration-color: #008080; font-weight: bold\">8217</span>;s consolidated financial statements. Management \n",
       "bases its estimates on historical experience and on various other assumptions it believes to be reasonable under \n",
       "the circumstances, the results of which form the basis for making judgments about the carrying values of assets and\n",
       "liabilities. Actual results may differ from these estimates, and such differences may be material. \n",
       "\n",
       "Management believes the Company&amp;#<span style=\"color: #008080; text-decoration-color: #008080; font-weight: bold\">8217</span>;s critical accounting policies and estimates are those related to revenue \n",
       "recognition, valuation of manufacturing-related assets and estimation of inventory purchase commitment cancellation\n",
       "fees, warranty costs, income taxes, and legal and other contingencies. Management considers these policies critical\n",
       "because they are both important to the portrayal of the Company&amp;#<span style=\"color: #008080; text-decoration-color: #008080; font-weight: bold\">8217</span>;s financial condition and operating results, \n",
       "and they require management to make judgments and estimates about inherently uncertain matters. The Company&amp;#<span style=\"color: #008080; text-decoration-color: #008080; font-weight: bold\">8217</span>;s\n",
       "senior management has reviewed these critical accounting policies and related disclosures with the Audit and \n",
       "Finance Committee of the Company&amp;#<span style=\"color: #008080; text-decoration-color: #008080; font-weight: bold\">8217</span>;s Board of Directors. \n",
       "\n",
       "Revenue Recognition \n",
       "\n",
       "The Company has identified up to three performance obligations regularly included in arrangements involving the \n",
       "sale of iPhone, Mac, iPad and certain other products. The first performance obligation, which represents the \n",
       "substantial portion of the allocated sales price, is the hardware and bundled software delivered at the time of \n",
       "sale. The second performance obligation is the right to receive certain product-related bundled services, which \n",
       "include iCloud, Siri and Maps. The third performance obligation is the right to receive, on a when-and-if-available\n",
       "basis, future unspecified software upgrades relating to the software bundled with each device. The Company \n",
       "allocates revenue and any related discounts to these performance obligations based on their relative stand-alone \n",
       "selling prices <span style=\"font-weight: bold\">(</span>&amp;#<span style=\"color: #008080; text-decoration-color: #008080; font-weight: bold\">8220</span>;SSPs&amp;#<span style=\"color: #008080; text-decoration-color: #008080; font-weight: bold\">8221</span>;<span style=\"font-weight: bold\">)</span>. Because the Company lacks observable prices for the undelivered performance \n",
       "obligations, the allocation of revenue is based on the Company&amp;#<span style=\"color: #008080; text-decoration-color: #008080; font-weight: bold\">8217</span>;s estimated SSPs. Revenue allocated to the \n",
       "product-related bundled services and unspecified software upgrade rights is deferred and recognized on a \n",
       "straight-line basis over the estimated period they are expected to be provided. \n",
       "\n",
       "The Company&amp;#<span style=\"color: #008080; text-decoration-color: #008080; font-weight: bold\">8217</span>;s process for determining estimated SSPs involves management&amp;#<span style=\"color: #008080; text-decoration-color: #008080; font-weight: bold\">8217</span>;s judgment and considers \n",
       "multiple factors that may vary over time depending upon the unique facts and circumstances related to each \n",
       "deliverable. Should future facts and circumstances change, the Company&amp;#<span style=\"color: #008080; text-decoration-color: #008080; font-weight: bold\">8217</span>;s SSPs and the future rate of related \n",
       "amortization for product-related bundled services and unspecified software upgrade rights related to future sales \n",
       "of these devices could change. Factors subject to change include the nature of the product-related bundled services\n",
       "and unspecified software upgrade rights offered, their estimated value and the estimated period they are expected \n",
       "to be provided. \n",
       "\n",
       "Valuation of Manufacturing-Related Assets and Estimation of Inventory Purchase Commitment Cancellation Fees \n",
       "\n",
       "The Company invests in manufacturing-related assets, including capital assets held at its suppliers&amp;#<span style=\"color: #008080; text-decoration-color: #008080; font-weight: bold\">8217</span>; \n",
       "facilities and prepayments provided to certain of its suppliers associated with long-term agreements to secure the \n",
       "supply of inventory. The Company also accrues estimated purchase commitment cancellation fees related to inventory \n",
       "orders that have been canceled or are expected to be canceled. The Company&amp;#<span style=\"color: #008080; text-decoration-color: #008080; font-weight: bold\">8217</span>;s estimates of future product \n",
       "development plans and demand for its products are key inputs in determining the recoverability of \n",
       "manufacturing-related assets and assessing the adequacy of any purchase commitment cancellation fee accruals. If \n",
       "there is an abrupt and substantial decline in estimated demand for one or more of the Company&amp;#<span style=\"color: #008080; text-decoration-color: #008080; font-weight: bold\">8217</span>;s products, a \n",
       "change in the Company&amp;#<span style=\"color: #008080; text-decoration-color: #008080; font-weight: bold\">8217</span>;s product development plans, or an unanticipated change in technological requirements \n",
       "for any of the Company&amp;#<span style=\"color: #008080; text-decoration-color: #008080; font-weight: bold\">8217</span>;s products, the Company may be required to record write-downs or impairments of \n",
       "manufacturing-related assets or accrue purchase commitment cancellation fees. \n",
       "\n",
       "Apple Inc. | <span style=\"color: #008080; text-decoration-color: #008080; font-weight: bold\">2020</span> Form <span style=\"color: #008080; text-decoration-color: #008080; font-weight: bold\">10</span>-K | <span style=\"color: #008080; text-decoration-color: #008080; font-weight: bold\">27</span> \n",
       "\n",
       "Warranty Costs \n",
       "\n",
       "The Company offers limited warranties on its new and certified refurbished hardware products and on parts used to \n",
       "repair its hardware products, and customers may purchase extended service coverage, where available, on many of the\n",
       "Company&amp;#<span style=\"color: #008080; text-decoration-color: #008080; font-weight: bold\">8217</span>;s hardware products. The Company accrues the estimated cost of warranties in the period the related \n",
       "revenue is recognized based on historical and projected warranty claim rates, historical and projected cost per \n",
       "claim and knowledge of specific product failures outside the Company&amp;#<span style=\"color: #008080; text-decoration-color: #008080; font-weight: bold\">8217</span>;s typical experience. If actual product \n",
       "failure rates or repair costs differ from estimates, revisions to the estimated warranty liabilities would be \n",
       "required. \n",
       "\n",
       "Income Taxes \n",
       "\n",
       "The Company recognizes tax benefits from uncertain tax positions if it is more likely than not that the tax \n",
       "position will be sustained on examination by the taxing authorities, based on the technical merits of the position.\n",
       "The tax benefits recognized in the financial statements from such positions are measured based on the largest \n",
       "benefit that has a greater-than-<span style=\"color: #008080; text-decoration-color: #008080; font-weight: bold\">50</span>% likelihood of being realized upon ultimate settlement. The calculation of tax \n",
       "liabilities involves significant judgment in estimating the impact of uncertainties in the application of GAAP and \n",
       "complex tax laws. Resolution of these uncertainties in a manner inconsistent with management&amp;#<span style=\"color: #008080; text-decoration-color: #008080; font-weight: bold\">8217</span>;s expectations \n",
       "could have a material impact on the Company&amp;#<span style=\"color: #008080; text-decoration-color: #008080; font-weight: bold\">8217</span>;s financial condition and operating results. \n",
       "\n",
       "Legal and Other Contingencies \n",
       "\n",
       "As discussed in Part I, Item <span style=\"color: #008080; text-decoration-color: #008080; font-weight: bold\">3</span> of this Form <span style=\"color: #008080; text-decoration-color: #008080; font-weight: bold\">10</span>-K under the heading &amp;#<span style=\"color: #008080; text-decoration-color: #008080; font-weight: bold\">8220</span>;Legal Proceedings&amp;#<span style=\"color: #008080; text-decoration-color: #008080; font-weight: bold\">8221</span>; and in Part II, \n",
       "Item <span style=\"color: #008080; text-decoration-color: #008080; font-weight: bold\">8</span> of this Form <span style=\"color: #008080; text-decoration-color: #008080; font-weight: bold\">10</span>-K in the Notes to Consolidated Financial Statements in Note <span style=\"color: #008080; text-decoration-color: #008080; font-weight: bold\">10</span>, &amp;#<span style=\"color: #008080; text-decoration-color: #008080; font-weight: bold\">8220</span>;Commitments and \n",
       "Contingencies,&amp;#<span style=\"color: #008080; text-decoration-color: #008080; font-weight: bold\">8221</span>; the Company is subject to various legal proceedings and claims that arise in the ordinary \n",
       "course of business. The Company records a liability when it is probable that a loss has been incurred and the \n",
       "amount is reasonably estimable, the determination of which requires significant judgment. Except as described in \n",
       "Part II, Item <span style=\"color: #008080; text-decoration-color: #008080; font-weight: bold\">8</span> of this Form <span style=\"color: #008080; text-decoration-color: #008080; font-weight: bold\">10</span>-K in the Notes to Consolidated Financial Statements in Note <span style=\"color: #008080; text-decoration-color: #008080; font-weight: bold\">10</span>, &amp;#<span style=\"color: #008080; text-decoration-color: #008080; font-weight: bold\">8220</span>;Commitments \n",
       "and Contingencies&amp;#<span style=\"color: #008080; text-decoration-color: #008080; font-weight: bold\">8221</span>; under the heading &amp;#<span style=\"color: #008080; text-decoration-color: #008080; font-weight: bold\">8220</span>;Contingencies,&amp;#<span style=\"color: #008080; text-decoration-color: #008080; font-weight: bold\">8221</span>; in the opinion of management, there was not\n",
       "at least a reasonable possibility the Company may have incurred a material loss, or a material loss greater than a \n",
       "recorded accrual, concerning loss contingencies for asserted legal and other claims. \n",
       "\n",
       "The outcome of litigation is inherently uncertain. If one or more legal matters were resolved against the Company \n",
       "in a reporting period for amounts above management&amp;#<span style=\"color: #008080; text-decoration-color: #008080; font-weight: bold\">8217</span>;s expectations, the Company&amp;#<span style=\"color: #008080; text-decoration-color: #008080; font-weight: bold\">8217</span>;s financial condition \n",
       "and operating results for that reporting period could be materially adversely affected. \n",
       "\n",
       "\n",
       "</pre>\n"
      ],
      "text/plain": [
       " Item \u001b[1;36m7\u001b[0m. Management&#\u001b[1;36m8217\u001b[0m;s Discussion and Analysis of Financial Condition and Results of Operations \n",
       "\n",
       "The following discussion should be read in conjunction with the consolidated financial statements and accompanying \n",
       "notes included in Part II, Item \u001b[1;36m8\u001b[0m of this Form \u001b[1;36m10\u001b[0m-K. This section of this Form \u001b[1;36m10\u001b[0m-K generally discusses \u001b[1;36m2020\u001b[0m and \n",
       "\u001b[1;36m2019\u001b[0m items and year-to-year comparisons between \u001b[1;36m2020\u001b[0m and \u001b[1;36m2019\u001b[0m. Discussions of \u001b[1;36m2018\u001b[0m items and year-to-year \n",
       "comparisons between \u001b[1;36m2019\u001b[0m and \u001b[1;36m2018\u001b[0m that are not included in this Form \u001b[1;36m10\u001b[0m-K can be found in &#\u001b[1;36m8220\u001b[0m;Management&#\u001b[1;36m8217\u001b[0m;s\n",
       "Discussion and Analysis of Financial Condition and Results of Operations&#\u001b[1;36m8221\u001b[0m; in Part II, Item \u001b[1;36m7\u001b[0m of the \n",
       "Company&#\u001b[1;36m8217\u001b[0m;s Annual Report on Form \u001b[1;36m10\u001b[0m-K for the fiscal year ended September \u001b[1;36m28\u001b[0m, \u001b[1;36m2019\u001b[0m. \n",
       "\n",
       "Fiscal Year Highlights \n",
       "\n",
       "COVID-\u001b[1;36m19\u001b[0m Update \n",
       "\n",
       "COVID-\u001b[1;36m19\u001b[0m has spread rapidly throughout the world, prompting governments and businesses to take unprecedented \n",
       "measures in response. Such measures have included restrictions on travel and business operations, temporary \n",
       "closures of businesses, and quarantines and shelter-in-place orders. The COVID-\u001b[1;36m19\u001b[0m pandemic has significantly \n",
       "curtailed global economic activity and caused significant volatility and disruption in global financial markets. \n",
       "The COVID-\u001b[1;36m19\u001b[0m pandemic and the measures taken by many countries in response have adversely affected and could in the\n",
       "future materially adversely impact the Company&#\u001b[1;36m8217\u001b[0m;s business, results of operations, financial condition and \n",
       "stock price. \n",
       "\n",
       "During \u001b[1;36m2020\u001b[0m, aspects of the Company&#\u001b[1;36m8217\u001b[0m;s business were adversely affected by the COVID-\u001b[1;36m19\u001b[0m pandemic, with many of\n",
       "the Company&#\u001b[1;36m8217\u001b[0m;s retail stores, as well as channel partner points of sale, temporarily closed at various times, \n",
       "and the vast majority of the Company&#\u001b[1;36m8217\u001b[0m;s employees working remotely. The Company has reopened some of its \n",
       "offices and the majority of its retail stores, subject to operating restrictions to protect public health and the \n",
       "health and safety of employees and customers, and it continues to work on safely re-opening the remainder of its \n",
       "offices and retail stores, subject to local rules and regulations. \n",
       "\n",
       "The full extent of the future impact of the COVID-\u001b[1;36m19\u001b[0m pandemic on the Company&#\u001b[1;36m8217\u001b[0m;s operational and financial \n",
       "performance is currently uncertain and will depend on many factors outside the Company&#\u001b[1;36m8217\u001b[0m;s control, including, \n",
       "without limitation, the timing, extent, trajectory and duration of the pandemic, the development and availability \n",
       "of effective treatments and vaccines, the imposition of protective public safety measures, and the impact of the \n",
       "pandemic on the global economy and demand for consumer products. Refer to Part I, Item 1A of this Form \u001b[1;36m10\u001b[0m-K under \n",
       "the heading &#\u001b[1;36m8220\u001b[0m;Risk Factors,&#\u001b[1;36m8221\u001b[0m; for more information. \n",
       "\n",
       "The Company believes its existing balances of cash, cash equivalents and marketable securities, along with \n",
       "commercial paper and other short-term liquidity arrangements, will be sufficient to satisfy its working capital \n",
       "needs, capital asset purchases, dividends, share repurchases, debt repayments and other liquidity requirements \n",
       "associated with its existing operations. \n",
       "\n",
       "Fiscal \u001b[1;36m2020\u001b[0m Highlights \n",
       "\n",
       "Total net sales increased \u001b[1;36m6\u001b[0m% or $\u001b[1;36m14.3\u001b[0m billion during \u001b[1;36m2020\u001b[0m compared to \u001b[1;36m2019\u001b[0m, primarily driven by higher net sales of\n",
       "Services and Wearables, Home and Accessories. The weakness in foreign currencies had an unfavorable impact on net \n",
       "sales during \u001b[1;36m2020\u001b[0m. \n",
       "\n",
       "In April \u001b[1;36m2020\u001b[0m, the Company announced an increase to its current share repurchase program authorization from $\u001b[1;36m175\u001b[0m \n",
       "billion to $\u001b[1;36m225\u001b[0m billion and raised its quarterly dividend from $\u001b[1;36m0.1925\u001b[0m to $\u001b[1;36m0.205\u001b[0m per share beginning in May \u001b[1;36m2020\u001b[0m. \n",
       "During \u001b[1;36m2020\u001b[0m, the Company repurchased $\u001b[1;36m72.5\u001b[0m billion of its common stock and paid dividends and dividend equivalents \n",
       "of $\u001b[1;36m14.1\u001b[0m billion. \n",
       "\n",
       "On August \u001b[1;36m28\u001b[0m, \u001b[1;36m2020\u001b[0m, the Company effected a four-for-one stock split to shareholders of record as of August \u001b[1;36m24\u001b[0m, \n",
       "\u001b[1;36m2020\u001b[0m. All share, RSU and per share or per RSU information has been retroactively adjusted to reflect the stock \n",
       "split. \n",
       "\n",
       "Apple Inc. | \u001b[1;36m2020\u001b[0m Form \u001b[1;36m10\u001b[0m-K | \u001b[1;36m20\u001b[0m \n",
       "\n",
       "Products and Services Performance \n",
       "\n",
       "The following table shows net sales by category for \u001b[1;36m2020\u001b[0m, \u001b[1;36m2019\u001b[0m and \u001b[1;36m2018\u001b[0m \u001b[1m(\u001b[0mdollars in millions\u001b[1m)\u001b[0m: \n",
       "\n",
       "##TABLE_START \u001b[1;36m2020\u001b[0m Change \u001b[1;36m2019\u001b[0m Change \u001b[1;36m2018\u001b[0m Net sales by category: iPhone \u001b[1m(\u001b[0m\u001b[1;36m1\u001b[0m\u001b[1m)\u001b[0m \n",
       "\n",
       "$ \u001b[1;36m137\u001b[0m,\u001b[1;36m781\u001b[0m \u001b[1m(\u001b[0m\u001b[1;36m3\u001b[0m\u001b[1m)\u001b[0m % $ \u001b[1;36m142\u001b[0m,\u001b[1;36m381\u001b[0m \u001b[1m(\u001b[0m\u001b[1;36m14\u001b[0m\u001b[1m)\u001b[0m % $ \u001b[1;36m164\u001b[0m,\u001b[1;36m888\u001b[0m Mac \u001b[1m(\u001b[0m\u001b[1;36m1\u001b[0m\u001b[1m)\u001b[0m \n",
       "\n",
       "\u001b[1;36m28\u001b[0m,\u001b[1;36m622\u001b[0m \u001b[1;36m11\u001b[0m % \u001b[1;36m25\u001b[0m,\u001b[1;36m740\u001b[0m \u001b[1;36m2\u001b[0m % \u001b[1;36m25\u001b[0m,\u001b[1;36m198\u001b[0m iPad \u001b[1m(\u001b[0m\u001b[1;36m1\u001b[0m\u001b[1m)\u001b[0m \n",
       "\n",
       "\u001b[1;36m23\u001b[0m,\u001b[1;36m724\u001b[0m \u001b[1;36m11\u001b[0m % \u001b[1;36m21\u001b[0m,\u001b[1;36m280\u001b[0m \u001b[1;36m16\u001b[0m % \u001b[1;36m18\u001b[0m,\u001b[1;36m380\u001b[0m Wearables, Home and Accessories \u001b[1m(\u001b[0m\u001b[1;36m1\u001b[0m\u001b[1m)\u001b[0m\u001b[1m(\u001b[0m\u001b[1;36m2\u001b[0m\u001b[1m)\u001b[0m \n",
       "\n",
       "\u001b[1;36m30\u001b[0m,\u001b[1;36m620\u001b[0m \u001b[1;36m25\u001b[0m % \u001b[1;36m24\u001b[0m,\u001b[1;36m482\u001b[0m \u001b[1;36m41\u001b[0m % \u001b[1;36m17\u001b[0m,\u001b[1;36m381\u001b[0m Services \u001b[1m(\u001b[0m\u001b[1;36m3\u001b[0m\u001b[1m)\u001b[0m \n",
       "\n",
       "\u001b[1;36m53\u001b[0m,\u001b[1;36m768\u001b[0m \u001b[1;36m16\u001b[0m % \u001b[1;36m46\u001b[0m,\u001b[1;36m291\u001b[0m \u001b[1;36m16\u001b[0m % \u001b[1;36m39\u001b[0m,\u001b[1;36m748\u001b[0m Total net sales $ \u001b[1;36m274\u001b[0m,\u001b[1;36m515\u001b[0m \u001b[1;36m6\u001b[0m % $ \u001b[1;36m260\u001b[0m,\u001b[1;36m174\u001b[0m \u001b[1m(\u001b[0m\u001b[1;36m2\u001b[0m\u001b[1m)\u001b[0m % $ \u001b[1;36m265\u001b[0m,\u001b[1;36m595\u001b[0m ##TABLE_END\n",
       "\n",
       "\u001b[1m(\u001b[0m\u001b[1;36m1\u001b[0m\u001b[1m)\u001b[0m Products net sales include amortization of the deferred value of unspecified software upgrade rights, which are\n",
       "bundled in the sales price of the respective product. \n",
       "\n",
       "\u001b[1m(\u001b[0m\u001b[1;36m2\u001b[0m\u001b[1m)\u001b[0m Wearables, Home and Accessories net sales include sales of AirPods, Apple TV, Apple Watch, Beats products, \n",
       "HomePod, iPod touch and Apple-branded and third-party accessories. \n",
       "\n",
       "\u001b[1m(\u001b[0m\u001b[1;36m3\u001b[0m\u001b[1m)\u001b[0m Services net sales include sales from the Company&#\u001b[1;36m8217\u001b[0m;s advertising, AppleCare, digital content and other \n",
       "services. Services net sales also include amortization of the deferred value of Maps, Siri, and free iCloud &#\u001b[1;36m174\u001b[0m; \n",
       "storage and Apple TV+ services, which are bundled in the sales price of certain products. \n",
       "\n",
       "iPhone \n",
       "\n",
       "iPhone net sales decreased during \u001b[1;36m2020\u001b[0m compared to \u001b[1;36m2019\u001b[0m due primarily to the absence of new iPhone models in the \n",
       "fourth quarter of \u001b[1;36m2020\u001b[0m and the weakness in foreign currencies relative to the U.S. dollar, partially offset by the \n",
       "introduction of iPhone SE in the third quarter of \u001b[1;36m2020\u001b[0m. \n",
       "\n",
       "Mac \n",
       "\n",
       "Mac net sales increased during \u001b[1;36m2020\u001b[0m compared to \u001b[1;36m2019\u001b[0m due primarily to higher net sales of MacBook Pro. \n",
       "\n",
       "iPad \n",
       "\n",
       "iPad net sales increased during \u001b[1;36m2020\u001b[0m compared to \u001b[1;36m2019\u001b[0m due primarily to higher net sales of \u001b[1;36m10\u001b[0m-inch versions of \n",
       "iPad, iPad Air and iPad Pro. \n",
       "\n",
       "Wearables, Home and Accessories \n",
       "\n",
       "Wearables, Home and Accessories net sales increased during \u001b[1;36m2020\u001b[0m compared to \u001b[1;36m2019\u001b[0m due primarily to higher net sales \n",
       "of AirPods and Apple Watch. \n",
       "\n",
       "Services \n",
       "\n",
       "Services net sales increased during \u001b[1;36m2020\u001b[0m compared to \u001b[1;36m2019\u001b[0m due primarily to higher net sales from the App Store, \n",
       "advertising and cloud services. \n",
       "\n",
       "Apple Inc. | \u001b[1;36m2020\u001b[0m Form \u001b[1;36m10\u001b[0m-K | \u001b[1;36m21\u001b[0m \n",
       "\n",
       "Segment Operating Performance \n",
       "\n",
       "The Company manages its business primarily on a geographic basis. The Company&#\u001b[1;36m8217\u001b[0m;s reportable segments consist \n",
       "of the Americas, Europe, Greater China, Japan and Rest of Asia Pacific. Americas includes both North and South \n",
       "America. Europe includes European countries, as well as India, the Middle East and Africa. Greater China includes \n",
       "China mainland, Hong Kong and Taiwan. Rest of Asia Pacific includes Australia and those Asian countries not \n",
       "included in the Company&#\u001b[1;36m8217\u001b[0m;s other reportable segments. Although the reportable segments provide similar \n",
       "hardware and software products and similar services, each one is managed separately to better align with the \n",
       "location of the Company&#\u001b[1;36m8217\u001b[0m;s customers and distribution partners and the unique market dynamics of each \n",
       "geographic region. Further information regarding the Company&#\u001b[1;36m8217\u001b[0m;s reportable segments can be found in Part II, \n",
       "Item \u001b[1;36m8\u001b[0m of this Form \u001b[1;36m10\u001b[0m-K in the Notes to Consolidated Financial Statements in Note \u001b[1;36m11\u001b[0m, &#\u001b[1;36m8220\u001b[0m;Segment Information \n",
       "and Geographic Data.&#\u001b[1;36m8221\u001b[0m; \n",
       "\n",
       "The following table shows net sales by reportable segment for \u001b[1;36m2020\u001b[0m, \u001b[1;36m2019\u001b[0m and \u001b[1;36m2018\u001b[0m \u001b[1m(\u001b[0mdollars in millions\u001b[1m)\u001b[0m: \n",
       "\n",
       "##TABLE_START \u001b[1;36m2020\u001b[0m Change \u001b[1;36m2019\u001b[0m Change \u001b[1;36m2018\u001b[0m Net sales by reportable segment: Americas \n",
       "\n",
       "$ \u001b[1;36m124\u001b[0m,\u001b[1;36m556\u001b[0m \u001b[1;36m7\u001b[0m % $ \u001b[1;36m116\u001b[0m,\u001b[1;36m914\u001b[0m \u001b[1;36m4\u001b[0m % $ \u001b[1;36m112\u001b[0m,\u001b[1;36m093\u001b[0m Europe \n",
       "\n",
       "\u001b[1;36m68\u001b[0m,\u001b[1;36m640\u001b[0m \u001b[1;36m14\u001b[0m % \u001b[1;36m60\u001b[0m,\u001b[1;36m288\u001b[0m \u001b[1m(\u001b[0m\u001b[1;36m3\u001b[0m\u001b[1m)\u001b[0m % \u001b[1;36m62\u001b[0m,\u001b[1;36m420\u001b[0m Greater China \n",
       "\n",
       "\u001b[1;36m40\u001b[0m,\u001b[1;36m308\u001b[0m \u001b[1m(\u001b[0m\u001b[1;36m8\u001b[0m\u001b[1m)\u001b[0m % \u001b[1;36m43\u001b[0m,\u001b[1;36m678\u001b[0m \u001b[1m(\u001b[0m\u001b[1;36m16\u001b[0m\u001b[1m)\u001b[0m % \u001b[1;36m51\u001b[0m,\u001b[1;36m942\u001b[0m Japan \n",
       "\n",
       "\u001b[1;36m21\u001b[0m,\u001b[1;36m418\u001b[0m &#\u001b[1;36m8212\u001b[0m; % \u001b[1;36m21\u001b[0m,\u001b[1;36m506\u001b[0m \u001b[1m(\u001b[0m\u001b[1;36m1\u001b[0m\u001b[1m)\u001b[0m % \u001b[1;36m21\u001b[0m,\u001b[1;36m733\u001b[0m Rest of Asia Pacific \n",
       "\n",
       "\u001b[1;36m19\u001b[0m,\u001b[1;36m593\u001b[0m \u001b[1;36m10\u001b[0m % \u001b[1;36m17\u001b[0m,\u001b[1;36m788\u001b[0m \u001b[1;36m2\u001b[0m % \u001b[1;36m17\u001b[0m,\u001b[1;36m407\u001b[0m Total net sales $ \u001b[1;36m274\u001b[0m,\u001b[1;36m515\u001b[0m \u001b[1;36m6\u001b[0m % $ \u001b[1;36m260\u001b[0m,\u001b[1;36m174\u001b[0m \u001b[1m(\u001b[0m\u001b[1;36m2\u001b[0m\u001b[1m)\u001b[0m % $ \u001b[1;36m265\u001b[0m,\u001b[1;36m595\u001b[0m ##TABLE_END\n",
       "\n",
       "Americas \n",
       "\n",
       "Americas net sales increased during \u001b[1;36m2020\u001b[0m compared to \u001b[1;36m2019\u001b[0m due primarily to higher net sales of Services and \n",
       "Wearables, Home and Accessories. The weakness in foreign currencies relative to the U.S. dollar had an unfavorable \n",
       "impact on Americas net sales during \u001b[1;36m2020\u001b[0m. \n",
       "\n",
       "Europe \n",
       "\n",
       "Europe net sales increased during \u001b[1;36m2020\u001b[0m compared to \u001b[1;36m2019\u001b[0m due primarily to higher net sales of iPhone, Wearables, \n",
       "Home and Accessories and Services. The weakness in foreign currencies relative to the U.S. dollar had an \n",
       "unfavorable impact on Europe net sales during \u001b[1;36m2020\u001b[0m. \n",
       "\n",
       "Greater China \n",
       "\n",
       "Greater China net sales decreased during \u001b[1;36m2020\u001b[0m compared to \u001b[1;36m2019\u001b[0m due primarily to lower net sales of iPhone, \n",
       "partially offset by higher net sales of Services and iPad. The weakness in foreign currencies relative to the U.S. \n",
       "dollar had an unfavorable impact on Greater China net sales during \u001b[1;36m2020\u001b[0m. \n",
       "\n",
       "Japan \n",
       "\n",
       "Japan net sales were flat during \u001b[1;36m2020\u001b[0m compared to \u001b[1;36m2019\u001b[0m due primarily to lower net sales of iPhone, offset by higher\n",
       "net sales of Services and Wearables, Home and Accessories. The strength of the Japanese yen relative to the U.S. \n",
       "dollar had a favorable impact on Japan net sales during \u001b[1;36m2020\u001b[0m. \n",
       "\n",
       "Rest of Asia Pacific \n",
       "\n",
       "Rest of Asia Pacific net sales increased during \u001b[1;36m2020\u001b[0m compared to \u001b[1;36m2019\u001b[0m due primarily to higher net sales of \n",
       "Wearables, Home and Accessories, Services and iPhone. The weakness in foreign currencies relative to the U.S. \n",
       "dollar had an unfavorable impact on Rest of Asia Pacific net sales during \u001b[1;36m2020\u001b[0m. \n",
       "\n",
       "Apple Inc. | \u001b[1;36m2020\u001b[0m Form \u001b[1;36m10\u001b[0m-K | \u001b[1;36m22\u001b[0m \n",
       "\n",
       "Gross Margin \n",
       "\n",
       "Products and Services gross margin and gross margin percentage for \u001b[1;36m2020\u001b[0m, \u001b[1;36m2019\u001b[0m and \u001b[1;36m2018\u001b[0m were as follows \u001b[1m(\u001b[0mdollars in \n",
       "millions\u001b[1m)\u001b[0m: \n",
       "\n",
       "##TABLE_START \u001b[1;36m2020\u001b[0m \u001b[1;36m2019\u001b[0m \u001b[1;36m2018\u001b[0m Gross margin: Products $ \u001b[1;36m69\u001b[0m,\u001b[1;36m461\u001b[0m $ \u001b[1;36m68\u001b[0m,\u001b[1;36m887\u001b[0m $ \u001b[1;36m77\u001b[0m,\u001b[1;36m683\u001b[0m Services \u001b[1;36m35\u001b[0m,\u001b[1;36m495\u001b[0m \u001b[1;36m29\u001b[0m,\u001b[1;36m505\u001b[0m \u001b[1;36m24\u001b[0m,\u001b[1;36m156\u001b[0m Total \n",
       "gross margin $ \u001b[1;36m104\u001b[0m,\u001b[1;36m956\u001b[0m $ \u001b[1;36m98\u001b[0m,\u001b[1;36m392\u001b[0m $ \u001b[1;36m101\u001b[0m,\u001b[1;36m839\u001b[0m ##TABLE_END\n",
       "\n",
       "##TABLE_START Gross margin percentage: Products \u001b[1;36m31.5\u001b[0m % \u001b[1;36m32.2\u001b[0m % \u001b[1;36m34.4\u001b[0m % Services \u001b[1;36m66.0\u001b[0m % \u001b[1;36m63.7\u001b[0m % \u001b[1;36m60.8\u001b[0m % Total gross \n",
       "margin percentage \u001b[1;36m38.2\u001b[0m % \u001b[1;36m37.8\u001b[0m % \u001b[1;36m38.3\u001b[0m % ##TABLE_END\n",
       "\n",
       "Products Gross Margin \n",
       "\n",
       "Products gross margin increased during \u001b[1;36m2020\u001b[0m compared to \u001b[1;36m2019\u001b[0m due primarily to higher Products volume and material \n",
       "cost savings, partially offset by the weakness in foreign currencies relative to the U.S. dollar and a different \n",
       "Products mix. Products gross margin percentage decreased during \u001b[1;36m2020\u001b[0m compared to \u001b[1;36m2019\u001b[0m due primarily to the weakness\n",
       "in foreign currencies relative to the U.S. dollar and a different Products mix, partially offset by material cost \n",
       "savings and higher leverage. \n",
       "\n",
       "Services Gross Margin \n",
       "\n",
       "Services gross margin increased during \u001b[1;36m2020\u001b[0m compared to \u001b[1;36m2019\u001b[0m due primarily to higher Services net sales and a \n",
       "different Services mix. Services gross margin percentage increased during \u001b[1;36m2020\u001b[0m compared to \u001b[1;36m2019\u001b[0m due primarily to a \n",
       "different Services mix and higher leverage, partially offset by higher Services costs. \n",
       "\n",
       "The Company&#\u001b[1;36m8217\u001b[0m;s future gross margins can be impacted by a variety of factors, as set forth in Part I, Item 1A \n",
       "of this Form \u001b[1;36m10\u001b[0m-K under the heading &#\u001b[1;36m8220\u001b[0m;Risk Factors.&#\u001b[1;36m8221\u001b[0m; As a result, the Company believes, in general, \n",
       "gross margins will be subject to volatility and remain under downward pressure. \n",
       "\n",
       "Operating Expenses \n",
       "\n",
       "Operating expenses for \u001b[1;36m2020\u001b[0m, \u001b[1;36m2019\u001b[0m and \u001b[1;36m2018\u001b[0m were as follows \u001b[1m(\u001b[0mdollars in millions\u001b[1m)\u001b[0m: \n",
       "\n",
       "##TABLE_START \u001b[1;36m2020\u001b[0m Change \u001b[1;36m2019\u001b[0m Change \u001b[1;36m2018\u001b[0m Research and development \n",
       "\n",
       "$ \u001b[1;36m18\u001b[0m,\u001b[1;36m752\u001b[0m \u001b[1;36m16\u001b[0m % $ \u001b[1;36m16\u001b[0m,\u001b[1;36m217\u001b[0m \u001b[1;36m14\u001b[0m % $ \u001b[1;36m14\u001b[0m,\u001b[1;36m236\u001b[0m Percentage of total net sales \n",
       "\n",
       "\u001b[1;36m7\u001b[0m % \u001b[1;36m6\u001b[0m % \u001b[1;36m5\u001b[0m % Selling, general and administrative \n",
       "\n",
       "$ \u001b[1;36m19\u001b[0m,\u001b[1;36m916\u001b[0m \u001b[1;36m9\u001b[0m % $ \u001b[1;36m18\u001b[0m,\u001b[1;36m245\u001b[0m \u001b[1;36m9\u001b[0m % $ \u001b[1;36m16\u001b[0m,\u001b[1;36m705\u001b[0m Percentage of total net sales \n",
       "\n",
       "\u001b[1;36m7\u001b[0m % \u001b[1;36m7\u001b[0m % \u001b[1;36m6\u001b[0m % Total operating expenses \n",
       "\n",
       "$ \u001b[1;36m38\u001b[0m,\u001b[1;36m668\u001b[0m \u001b[1;36m12\u001b[0m % $ \u001b[1;36m34\u001b[0m,\u001b[1;36m462\u001b[0m \u001b[1;36m11\u001b[0m % $ \u001b[1;36m30\u001b[0m,\u001b[1;36m941\u001b[0m Percentage of total net sales \n",
       "\n",
       "\u001b[1;36m14\u001b[0m % \u001b[1;36m13\u001b[0m % \u001b[1;36m12\u001b[0m % ##TABLE_END\n",
       "\n",
       "Research and Development \n",
       "\n",
       "The year-over-year growth in R&#\u001b[1;36m38\u001b[0m;D expense in \u001b[1;36m2020\u001b[0m was driven primarily by increases in headcount-related \n",
       "expenses. The Company continues to believe that focused investments in R&#\u001b[1;36m38\u001b[0m;D are critical to its future growth \n",
       "and competitive position in the marketplace, and to the development of new and updated products and services that \n",
       "are central to the Company&#\u001b[1;36m8217\u001b[0m;s core business strategy. \n",
       "\n",
       "Selling, General and Administrative \n",
       "\n",
       "The year-over-year growth in selling, general and administrative expense in \u001b[1;36m2020\u001b[0m was driven primarily by increases \n",
       "in headcount-related expenses, higher spending on marketing and advertising, and higher variable selling expenses. \n",
       "\n",
       "Apple Inc. | \u001b[1;36m2020\u001b[0m Form \u001b[1;36m10\u001b[0m-K | \u001b[1;36m23\u001b[0m \n",
       "\n",
       "Other Income/\u001b[1m(\u001b[0mExpense\u001b[1m)\u001b[0m, Net \n",
       "\n",
       "Other income/\u001b[1m(\u001b[0mexpense\u001b[1m)\u001b[0m, net \u001b[1m(\u001b[0m&#\u001b[1;36m8220\u001b[0m;OI&#\u001b[1;36m38\u001b[0m;E&#\u001b[1;36m8221\u001b[0m;\u001b[1m)\u001b[0m for \u001b[1;36m2020\u001b[0m, \u001b[1;36m2019\u001b[0m and \u001b[1;36m2018\u001b[0m was as follows \u001b[1m(\u001b[0mdollars in millions\u001b[1m)\u001b[0m: \n",
       "\n",
       "##TABLE_START \u001b[1;36m2020\u001b[0m Change \u001b[1;36m2019\u001b[0m Change \u001b[1;36m2018\u001b[0m Interest and dividend income \n",
       "\n",
       "$ \u001b[1;36m3\u001b[0m,\u001b[1;36m763\u001b[0m $ \u001b[1;36m4\u001b[0m,\u001b[1;36m961\u001b[0m $ \u001b[1;36m5\u001b[0m,\u001b[1;36m686\u001b[0m Interest expense \n",
       "\n",
       "\u001b[1m(\u001b[0m\u001b[1;36m2\u001b[0m,\u001b[1;36m873\u001b[0m\u001b[1m)\u001b[0m \u001b[1m(\u001b[0m\u001b[1;36m3\u001b[0m,\u001b[1;36m576\u001b[0m\u001b[1m)\u001b[0m \u001b[1m(\u001b[0m\u001b[1;36m3\u001b[0m,\u001b[1;36m240\u001b[0m\u001b[1m)\u001b[0m Other income/\u001b[1m(\u001b[0mexpense\u001b[1m)\u001b[0m, net \u001b[1m(\u001b[0m\u001b[1;36m87\u001b[0m\u001b[1m)\u001b[0m \u001b[1;36m422\u001b[0m \u001b[1m(\u001b[0m\u001b[1;36m441\u001b[0m\u001b[1m)\u001b[0m Total other income/\u001b[1m(\u001b[0mexpense\u001b[1m)\u001b[0m, net \n",
       "\n",
       "$ \u001b[1;36m803\u001b[0m \u001b[1m(\u001b[0m\u001b[1;36m56\u001b[0m\u001b[1m)\u001b[0m % $ \u001b[1;36m1\u001b[0m,\u001b[1;36m807\u001b[0m \u001b[1m(\u001b[0m\u001b[1;36m10\u001b[0m\u001b[1m)\u001b[0m % $ \u001b[1;36m2\u001b[0m,\u001b[1;36m005\u001b[0m ##TABLE_END\n",
       "\n",
       "The year-over-year decrease in OI&#\u001b[1;36m38\u001b[0m;E during \u001b[1;36m2020\u001b[0m was due primarily to lower interest income and net \n",
       "impairment/gain activity on non-marketable securities, partially offset by lower interest expense. The \n",
       "weighted-average interest rate earned by the Company on its cash, cash equivalents and marketable securities was \n",
       "\u001b[1;36m1.85\u001b[0m% and \u001b[1;36m2.19\u001b[0m% in \u001b[1;36m2020\u001b[0m and \u001b[1;36m2019\u001b[0m, respectively. \n",
       "\n",
       "Provision for Income Taxes \n",
       "\n",
       "Provision for income taxes, effective tax rate and statutory federal income tax rate for \u001b[1;36m2020\u001b[0m, \u001b[1;36m2019\u001b[0m and \u001b[1;36m2018\u001b[0m were \n",
       "as follows \u001b[1m(\u001b[0mdollars in millions\u001b[1m)\u001b[0m: \n",
       "\n",
       "##TABLE_START \u001b[1;36m2020\u001b[0m \u001b[1;36m2019\u001b[0m \u001b[1;36m2018\u001b[0m Provision for income taxes \n",
       "\n",
       "$ \u001b[1;36m9\u001b[0m,\u001b[1;36m680\u001b[0m $ \u001b[1;36m10\u001b[0m,\u001b[1;36m481\u001b[0m $ \u001b[1;36m13\u001b[0m,\u001b[1;36m372\u001b[0m Effective tax rate \n",
       "\n",
       "\u001b[1;36m14.4\u001b[0m % \u001b[1;36m15.9\u001b[0m % \u001b[1;36m18.3\u001b[0m % Statutory federal income tax rate \n",
       "\n",
       "\u001b[1;36m21\u001b[0m % \u001b[1;36m21\u001b[0m % \u001b[1;36m24.5\u001b[0m % ##TABLE_END\n",
       "\n",
       "The Company&#\u001b[1;36m8217\u001b[0m;s effective tax rate for both \u001b[1;36m2020\u001b[0m and \u001b[1;36m2019\u001b[0m was lower than the statutory federal income tax rate \n",
       "due primarily to the lower tax rate on foreign earnings, including the impact of tax settlements, and tax benefits \n",
       "from share-based compensation. \n",
       "\n",
       "The Company&#\u001b[1;36m8217\u001b[0m;s effective tax rate for \u001b[1;36m2020\u001b[0m was lower compared to \u001b[1;36m2019\u001b[0m due primarily to a one-time adjustment \n",
       "of U.S. foreign tax credits in response to regulations issued by the U.S. Department of the Treasury in December \n",
       "\u001b[1;36m2019\u001b[0m in connection with the U.S. Tax Cuts and Jobs Act of \u001b[1;36m2017\u001b[0m \u001b[1m(\u001b[0mthe &#\u001b[1;36m8220\u001b[0m;Act&#\u001b[1;36m8221\u001b[0m;\u001b[1m)\u001b[0m and higher tax benefits from\n",
       "share-based compensation. \n",
       "\n",
       "As of September \u001b[1;36m26\u001b[0m, \u001b[1;36m2020\u001b[0m, the Company had net deferred tax assets arising from deductible temporary differences and\n",
       "tax credits of $\u001b[1;36m11.0\u001b[0m billion and deferred tax liabilities of $\u001b[1;36m2.8\u001b[0m billion. Management believes it is more likely \n",
       "than not that forecasted income, including income that may be generated as a result of certain tax planning \n",
       "strategies, together with future reversals of existing taxable temporary differences, will be sufficient to recover\n",
       "the net deferred tax assets. The Company will continue to evaluate the amount of the valuation allowance, if any, \n",
       "by assessing the realizability of deferred tax assets. \n",
       "\n",
       "Recent Accounting Pronouncements \n",
       "\n",
       "Financial Instruments \n",
       "\n",
       "In June \u001b[1;36m2016\u001b[0m, the Financial Accounting Standards Board issued Accounting Standards Update No. \u001b[1;36m2016\u001b[0m-\u001b[1;36m13\u001b[0m, Financial \n",
       "Instruments &#\u001b[1;36m8211\u001b[0m; Credit Losses \u001b[1m(\u001b[0mTopic \u001b[1;36m326\u001b[0m\u001b[1m)\u001b[0m: Measurement of Credit Losses on Financial Instruments \u001b[1m(\u001b[0m&#\u001b[1;36m8220\u001b[0m;ASU \n",
       "\u001b[1;36m2016\u001b[0m-\u001b[1;36m13\u001b[0m&#\u001b[1;36m8221\u001b[0m;\u001b[1m)\u001b[0m, which modifies the measurement of expected credit losses on certain financial instruments. The \n",
       "Company will adopt ASU \u001b[1;36m2016\u001b[0m-\u001b[1;36m13\u001b[0m in its first quarter of \u001b[1;36m2021\u001b[0m utilizing the modified retrospective transition method.\n",
       "Based on the composition of the Company&#\u001b[1;36m8217\u001b[0m;s investment portfolio, current market conditions, and historical \n",
       "credit loss activity, the adoption of ASU \u001b[1;36m2016\u001b[0m-\u001b[1;36m13\u001b[0m will not have a material impact on its consolidated financial \n",
       "statements. \n",
       "\n",
       "Apple Inc. | \u001b[1;36m2020\u001b[0m Form \u001b[1;36m10\u001b[0m-K | \u001b[1;36m24\u001b[0m \n",
       "\n",
       "Liquidity and Capital Resources \n",
       "\n",
       "The following table presents selected financial information and statistics as of and for the years ended September \n",
       "\u001b[1;36m26\u001b[0m, \u001b[1;36m2020\u001b[0m, September \u001b[1;36m28\u001b[0m, \u001b[1;36m2019\u001b[0m and September \u001b[1;36m29\u001b[0m, \u001b[1;36m2018\u001b[0m \u001b[1m(\u001b[0min millions\u001b[1m)\u001b[0m: \n",
       "\n",
       "##TABLE_START \u001b[1;36m2020\u001b[0m \u001b[1;36m2019\u001b[0m \u001b[1;36m2018\u001b[0m Cash, cash equivalents and marketable securities \u001b[1m(\u001b[0m\u001b[1;36m1\u001b[0m\u001b[1m)\u001b[0m \n",
       "\n",
       "$ \u001b[1;36m191\u001b[0m,\u001b[1;36m830\u001b[0m $ \u001b[1;36m205\u001b[0m,\u001b[1;36m898\u001b[0m $ \u001b[1;36m237\u001b[0m,\u001b[1;36m100\u001b[0m Property, plant and equipment, net \n",
       "\n",
       "$ \u001b[1;36m36\u001b[0m,\u001b[1;36m766\u001b[0m $ \u001b[1;36m37\u001b[0m,\u001b[1;36m378\u001b[0m $ \u001b[1;36m41\u001b[0m,\u001b[1;36m304\u001b[0m Commercial paper \n",
       "\n",
       "$ \u001b[1;36m4\u001b[0m,\u001b[1;36m996\u001b[0m $ \u001b[1;36m5\u001b[0m,\u001b[1;36m980\u001b[0m $ \u001b[1;36m11\u001b[0m,\u001b[1;36m964\u001b[0m Total term debt \n",
       "\n",
       "$ \u001b[1;36m107\u001b[0m,\u001b[1;36m440\u001b[0m $ \u001b[1;36m102\u001b[0m,\u001b[1;36m067\u001b[0m $ \u001b[1;36m102\u001b[0m,\u001b[1;36m519\u001b[0m Working capital \n",
       "\n",
       "$ \u001b[1;36m38\u001b[0m,\u001b[1;36m321\u001b[0m $ \u001b[1;36m57\u001b[0m,\u001b[1;36m101\u001b[0m $ \u001b[1;36m15\u001b[0m,\u001b[1;36m410\u001b[0m Cash generated by operating activities \n",
       "\n",
       "$ \u001b[1;36m80\u001b[0m,\u001b[1;36m674\u001b[0m $ \u001b[1;36m69\u001b[0m,\u001b[1;36m391\u001b[0m $ \u001b[1;36m77\u001b[0m,\u001b[1;36m434\u001b[0m Cash generated by/\u001b[1m(\u001b[0mused in\u001b[1m)\u001b[0m investing activities $ \u001b[1m(\u001b[0m\u001b[1;36m4\u001b[0m,\u001b[1;36m289\u001b[0m\u001b[1m)\u001b[0m $ \u001b[1;36m45\u001b[0m,\u001b[1;36m896\u001b[0m $ \u001b[1;36m16\u001b[0m,\u001b[1;36m066\u001b[0m Cash used \n",
       "in financing activities \n",
       "\n",
       "$ \u001b[1m(\u001b[0m\u001b[1;36m86\u001b[0m,\u001b[1;36m820\u001b[0m\u001b[1m)\u001b[0m $ \u001b[1m(\u001b[0m\u001b[1;36m90\u001b[0m,\u001b[1;36m976\u001b[0m\u001b[1m)\u001b[0m $ \u001b[1m(\u001b[0m\u001b[1;36m87\u001b[0m,\u001b[1;36m876\u001b[0m\u001b[1m)\u001b[0m ##TABLE_END\n",
       "\n",
       "\u001b[1m(\u001b[0m\u001b[1;36m1\u001b[0m\u001b[1m)\u001b[0m As of September \u001b[1;36m26\u001b[0m, \u001b[1;36m2020\u001b[0m and September \u001b[1;36m28\u001b[0m, \u001b[1;36m2019\u001b[0m, total marketable securities included $\u001b[1;36m18.6\u001b[0m billion and $\u001b[1;36m18.9\u001b[0m \n",
       "billion, respectively, that was restricted from general use, related to the State Aid Decision \u001b[1m(\u001b[0mrefer to Note \u001b[1;36m5\u001b[0m, \n",
       "&#\u001b[1;36m8220\u001b[0m;Income Taxes&#\u001b[1;36m8221\u001b[0m; in the Notes to Consolidated Financial Statements in Part II, Item \u001b[1;36m8\u001b[0m of this Form \u001b[1;36m10\u001b[0m-K\u001b[1m)\u001b[0m \n",
       "and other agreements. \n",
       "\n",
       "The Company believes its existing balances of cash, cash equivalents and marketable securities, along with \n",
       "commercial paper and other short-term liquidity arrangements, will be sufficient to satisfy its working capital \n",
       "needs, capital asset purchases, dividends, share repurchases, debt repayments and other liquidity requirements \n",
       "associated with its existing operations over the next \u001b[1;36m12\u001b[0m months. \n",
       "\n",
       "In connection with the State Aid Decision, as of September \u001b[1;36m26\u001b[0m, \u001b[1;36m2020\u001b[0m, the adjusted recovery amount of &#\u001b[1;36m8364\u001b[0m;\u001b[1;36m12.9\u001b[0m \n",
       "billion plus interest of &#\u001b[1;36m8364\u001b[0m;\u001b[1;36m1.2\u001b[0m billion was funded into escrow, where it will remain restricted from general \n",
       "use pending the conclusion of all legal proceedings. Further information regarding the State Aid Decision can be \n",
       "found in Part II, Item \u001b[1;36m8\u001b[0m of this Form \u001b[1;36m10\u001b[0m-K in the Notes to Consolidated Financial Statements in Note \u001b[1;36m5\u001b[0m, \n",
       "&#\u001b[1;36m8220\u001b[0m;Income Taxes.&#\u001b[1;36m8221\u001b[0m; \n",
       "\n",
       "The Company&#\u001b[1;36m8217\u001b[0m;s marketable securities investment portfolio is primarily invested in highly rated securities, \n",
       "with the primary objective of minimizing the potential risk of principal loss. The Company&#\u001b[1;36m8217\u001b[0m;s investment \n",
       "policy generally requires securities to be investment grade and limits the amount of credit exposure to any one \n",
       "issuer. \n",
       "\n",
       "During \u001b[1;36m2020\u001b[0m, cash generated by operating activities of $\u001b[1;36m80.7\u001b[0m billion was a result of $\u001b[1;36m57.4\u001b[0m billion of net income, \n",
       "non-cash adjustments to net income of $\u001b[1;36m17.6\u001b[0m billion and an increase in the net change in operating assets and \n",
       "liabilities of $\u001b[1;36m5.7\u001b[0m billion. Cash used in investing activities of $\u001b[1;36m4.3\u001b[0m billion during \u001b[1;36m2020\u001b[0m consisted primarily of \n",
       "cash used to acquire property, plant and equipment of $\u001b[1;36m7.3\u001b[0m billion and cash paid for business acquisitions, net of \n",
       "cash acquired, of $\u001b[1;36m1.5\u001b[0m billion, partially offset by proceeds from maturities and sales of marketable securities, \n",
       "net of purchases, of $\u001b[1;36m5.5\u001b[0m billion. Cash used in financing activities of $\u001b[1;36m86.8\u001b[0m billion during \u001b[1;36m2020\u001b[0m consisted \n",
       "primarily of cash used to repurchase common stock of $\u001b[1;36m72.4\u001b[0m billion, cash used to pay dividends and dividend \n",
       "equivalents of $\u001b[1;36m14.1\u001b[0m billion, cash used to repay or redeem term debt of $\u001b[1;36m12.6\u001b[0m billion and net repayments of \n",
       "commercial paper of $\u001b[1;36m1.0\u001b[0m billion, partially offset by net proceeds from the issuance of term debt of $\u001b[1;36m16.1\u001b[0m billion.\n",
       "\n",
       "During \u001b[1;36m2019\u001b[0m, cash generated by operating activities of $\u001b[1;36m69.4\u001b[0m billion was a result of $\u001b[1;36m55.3\u001b[0m billion of net income \n",
       "and non-cash adjustments to net income of $\u001b[1;36m17.6\u001b[0m billion, partially offset by a decrease in the net change in \n",
       "operating assets and liabilities of $\u001b[1;36m3.5\u001b[0m billion. Cash generated by investing activities of $\u001b[1;36m45.9\u001b[0m billion during \n",
       "\u001b[1;36m2019\u001b[0m consisted primarily of proceeds from sales and maturities of marketable securities, net of purchases, of $\u001b[1;36m57.5\u001b[0m\n",
       "billion, partially offset by cash used to acquire property, plant and equipment of $\u001b[1;36m10.5\u001b[0m billion. Cash used in \n",
       "financing activities of $\u001b[1;36m91.0\u001b[0m billion during \u001b[1;36m2019\u001b[0m consisted primarily of cash used to repurchase common stock of \n",
       "$\u001b[1;36m66.9\u001b[0m billion, cash used to pay dividends and dividend equivalents of $\u001b[1;36m14.1\u001b[0m billion, cash used to repay term debt \n",
       "of $\u001b[1;36m8.8\u001b[0m billion and net repayments of commercial paper of $\u001b[1;36m6.0\u001b[0m billion, partially offset by net proceeds from the \n",
       "issuance of term debt of $\u001b[1;36m7.0\u001b[0m billion. \n",
       "\n",
       "Debt \n",
       "\n",
       "The Company issues unsecured short-term promissory notes \u001b[1m(\u001b[0m&#\u001b[1;36m8220\u001b[0m;Commercial Paper&#\u001b[1;36m8221\u001b[0m;\u001b[1m)\u001b[0m pursuant to a commercial \n",
       "paper program. The Company uses the net proceeds from the commercial paper program for general corporate purposes, \n",
       "including dividends and share repurchases. As of September \u001b[1;36m26\u001b[0m, \u001b[1;36m2020\u001b[0m, the Company had $\u001b[1;36m5.0\u001b[0m billion of Commercial \n",
       "Paper outstanding, with a weighted-average interest rate of \u001b[1;36m0.62\u001b[0m% and maturities generally less than nine months. \n",
       "\n",
       "The Company may enter into agreements to sell certain of its marketable securities with a promise to repurchase the\n",
       "securities at a specified time and amount as an additional short-term liquidity arrangement. \n",
       "\n",
       "Apple Inc. | \u001b[1;36m2020\u001b[0m Form \u001b[1;36m10\u001b[0m-K | \u001b[1;36m25\u001b[0m \n",
       "\n",
       "As of September \u001b[1;36m26\u001b[0m, \u001b[1;36m2020\u001b[0m, the Company had outstanding floating- and fixed-rate notes with varying maturities for an\n",
       "aggregate principal amount of $\u001b[1;36m106.1\u001b[0m billion \u001b[1m(\u001b[0mcollectively the &#\u001b[1;36m8220\u001b[0m;Notes&#\u001b[1;36m8221\u001b[0m;\u001b[1m)\u001b[0m. During \u001b[1;36m2020\u001b[0m, the Company \n",
       "issued $\u001b[1;36m16.1\u001b[0m billion and repaid or redeemed $\u001b[1;36m12.6\u001b[0m billion of Notes. The Company has entered, and in the future may \n",
       "enter, into interest rate swaps to manage interest rate risk on the Notes. In addition, the Company has entered, \n",
       "and in the future may enter, into foreign currency swaps to manage foreign currency risk on the Notes. \n",
       "\n",
       "Further information regarding the Company&#\u001b[1;36m8217\u001b[0m;s debt issuances and related hedging activity can be found in Part \n",
       "II, Item \u001b[1;36m8\u001b[0m of this Form \u001b[1;36m10\u001b[0m-K in the Notes to Consolidated Financial Statements in Note \u001b[1;36m3\u001b[0m, &#\u001b[1;36m8220\u001b[0m;Financial \n",
       "Instruments&#\u001b[1;36m8221\u001b[0m; and Note \u001b[1;36m6\u001b[0m, &#\u001b[1;36m8220\u001b[0m;Debt.&#\u001b[1;36m8221\u001b[0m; \n",
       "\n",
       "Capital Return Program \n",
       "\n",
       "As of September \u001b[1;36m26\u001b[0m, \u001b[1;36m2020\u001b[0m, the Company was authorized to purchase up to $\u001b[1;36m225\u001b[0m billion of the Company&#\u001b[1;36m8217\u001b[0m;s common \n",
       "stock under a share repurchase program, of which $\u001b[1;36m168.6\u001b[0m billion had been utilized. During \u001b[1;36m2020\u001b[0m, the Company \n",
       "repurchased \u001b[1;36m917\u001b[0m million shares of its common stock for $\u001b[1;36m72.5\u001b[0m billion, including \u001b[1;36m141\u001b[0m million shares delivered under \n",
       "a $\u001b[1;36m10.0\u001b[0m billion November \u001b[1;36m2019\u001b[0m ASR and \u001b[1;36m64\u001b[0m million shares delivered under a $\u001b[1;36m6.0\u001b[0m billion May \u001b[1;36m2020\u001b[0m ASR. The \n",
       "Company&#\u001b[1;36m8217\u001b[0m;s share repurchase program does not obligate it to acquire any specific number of shares. Under this \n",
       "program, shares may be repurchased in privately negotiated and/or open market transactions, including under plans \n",
       "complying with Rule 10b5-\u001b[1;36m1\u001b[0m under the Exchange Act. \n",
       "\n",
       "As of September \u001b[1;36m26\u001b[0m, \u001b[1;36m2020\u001b[0m, the Company&#\u001b[1;36m8217\u001b[0m;s quarterly cash dividend was $\u001b[1;36m0.205\u001b[0m per share. The Company intends to \n",
       "increase its dividend on an annual basis, subject to declaration by the Board of Directors. \n",
       "\n",
       "Contractual Obligations \n",
       "\n",
       "The following table presents certain payments due by the Company as of September \u001b[1;36m26\u001b[0m, \u001b[1;36m2020\u001b[0m, and includes amounts \n",
       "already recorded on the Consolidated Balance Sheet, except for manufacturing purchase obligations, other purchase \n",
       "obligations and certain lease obligations \u001b[1m(\u001b[0min millions\u001b[1m)\u001b[0m: \n",
       "\n",
       "##TABLE_START Payments due in \u001b[1;36m2021\u001b[0m Payments due in \u001b[1;36m2022\u001b[0m&#\u001b[1;36m8211\u001b[0m;\u001b[1;36m2023\u001b[0m Payments due in \u001b[1;36m2024\u001b[0m&#\u001b[1;36m8211\u001b[0m;\u001b[1;36m2025\u001b[0m Payments due \n",
       "after \u001b[1;36m2025\u001b[0m Total Term debt \n",
       "\n",
       "$ \u001b[1;36m8\u001b[0m,\u001b[1;36m750\u001b[0m $ \u001b[1;36m20\u001b[0m,\u001b[1;36m958\u001b[0m $ \u001b[1;36m21\u001b[0m,\u001b[1;36m029\u001b[0m $ \u001b[1;36m55\u001b[0m,\u001b[1;36m341\u001b[0m $ \u001b[1;36m106\u001b[0m,\u001b[1;36m078\u001b[0m Leases \n",
       "\n",
       "\u001b[1;36m1\u001b[0m,\u001b[1;36m622\u001b[0m \u001b[1;36m3\u001b[0m,\u001b[1;36m097\u001b[0m \u001b[1;36m2\u001b[0m,\u001b[1;36m352\u001b[0m \u001b[1;36m5\u001b[0m,\u001b[1;36m888\u001b[0m \u001b[1;36m12\u001b[0m,\u001b[1;36m959\u001b[0m Manufacturing purchase obligations \u001b[1m(\u001b[0m\u001b[1;36m1\u001b[0m\u001b[1m)\u001b[0m \n",
       "\n",
       "\u001b[1;36m47\u001b[0m,\u001b[1;36m961\u001b[0m \u001b[1;36m1\u001b[0m,\u001b[1;36m849\u001b[0m \u001b[1;36m61\u001b[0m \u001b[1;36m40\u001b[0m \u001b[1;36m49\u001b[0m,\u001b[1;36m911\u001b[0m Other purchase obligations \n",
       "\n",
       "\u001b[1;36m6\u001b[0m,\u001b[1;36m178\u001b[0m \u001b[1;36m2\u001b[0m,\u001b[1;36m736\u001b[0m \u001b[1;36m400\u001b[0m \u001b[1;36m90\u001b[0m \u001b[1;36m9\u001b[0m,\u001b[1;36m404\u001b[0m Deemed repatriation tax payable \n",
       "\n",
       "\u001b[1;36m1\u001b[0m,\u001b[1;36m533\u001b[0m \u001b[1;36m5\u001b[0m,\u001b[1;36m923\u001b[0m \u001b[1;36m12\u001b[0m,\u001b[1;36m955\u001b[0m \u001b[1;36m9\u001b[0m,\u001b[1;36m254\u001b[0m \u001b[1;36m29\u001b[0m,\u001b[1;36m665\u001b[0m Total $ \u001b[1;36m66\u001b[0m,\u001b[1;36m044\u001b[0m $ \u001b[1;36m34\u001b[0m,\u001b[1;36m563\u001b[0m $ \u001b[1;36m36\u001b[0m,\u001b[1;36m797\u001b[0m $ \u001b[1;36m70\u001b[0m,\u001b[1;36m613\u001b[0m $ \u001b[1;36m208\u001b[0m,\u001b[1;36m017\u001b[0m ##TABLE_END\n",
       "\n",
       "\u001b[1m(\u001b[0m\u001b[1;36m1\u001b[0m\u001b[1m)\u001b[0m Represents amount expected to be paid under manufacturing-related supplier arrangements, which are primarily \n",
       "noncancelable. \n",
       "\n",
       "Leases \n",
       "\n",
       "The Company has lease arrangements for certain equipment and facilities, including retail, corporate, manufacturing\n",
       "and data center space. The Company&#\u001b[1;36m8217\u001b[0m;s retail store and other facility leases typically have original terms not\n",
       "exceeding \u001b[1;36m10\u001b[0m years and generally contain multi-year renewal options. The above contractual obligations table \n",
       "includes future payments under leases that had commenced as of September \u001b[1;36m26\u001b[0m, \u001b[1;36m2020\u001b[0m, and were therefore recorded on \n",
       "the Company&#\u001b[1;36m8217\u001b[0m;s Consolidated Balance Sheet, as well as leases that had been signed but not yet commenced as of \n",
       "September \u001b[1;36m26\u001b[0m, \u001b[1;36m2020\u001b[0m. Further information regarding the Company&#\u001b[1;36m8217\u001b[0m;s leases can be found in Part II, Item \u001b[1;36m8\u001b[0m of \n",
       "this Form \u001b[1;36m10\u001b[0m-K in the Notes to Consolidated Financial Statements in Note \u001b[1;36m12\u001b[0m, &#\u001b[1;36m8220\u001b[0m;Leases.&#\u001b[1;36m8221\u001b[0m; \n",
       "\n",
       "Manufacturing Purchase Obligations \n",
       "\n",
       "The Company utilizes several outsourcing partners to manufacture sub-assemblies for the Company&#\u001b[1;36m8217\u001b[0m;s products \n",
       "and to perform final assembly and testing of finished products. These outsourcing partners acquire components and \n",
       "build product based on demand information supplied by the Company, which typically covers periods up to \u001b[1;36m150\u001b[0m days. \n",
       "The Company also obtains individual components for its products from a wide variety of individual suppliers. \n",
       "\n",
       "Other Purchase Obligations \n",
       "\n",
       "The Company&#\u001b[1;36m8217\u001b[0m;s other purchase obligations consist of noncancelable obligations to acquire capital assets, \n",
       "including product tooling and manufacturing process equipment, and noncancelable obligations related to \n",
       "advertising, licensing, R&#\u001b[1;36m38\u001b[0m;D, Internet and telecommunications services, content creation and other activities. \n",
       "\n",
       "Apple Inc. | \u001b[1;36m2020\u001b[0m Form \u001b[1;36m10\u001b[0m-K | \u001b[1;36m26\u001b[0m \n",
       "\n",
       "Deemed Repatriation Tax Payable \n",
       "\n",
       "As of September \u001b[1;36m26\u001b[0m, \u001b[1;36m2020\u001b[0m, a significant portion of the other non-current liabilities in the Company&#\u001b[1;36m8217\u001b[0m;s \n",
       "Consolidated Balance Sheet consisted of the deemed repatriation tax payable imposed by the Act. The Company plans \n",
       "to pay the deemed repatriation tax payable in installments in accordance with the Act. \n",
       "\n",
       "Other Non-Current Liabilities \n",
       "\n",
       "The Company&#\u001b[1;36m8217\u001b[0m;s remaining other non-current liabilities primarily consist of items for which the Company is \n",
       "unable to make a reasonably reliable estimate of the timing or amount of payments; therefore, such amounts are not \n",
       "included in the above contractual obligations table. \n",
       "\n",
       "Critical Accounting Policies and Estimates \n",
       "\n",
       "The preparation of financial statements and related disclosures in conformity with U.S. generally accepted \n",
       "accounting principles \u001b[1m(\u001b[0m&#\u001b[1;36m8220\u001b[0m;GAAP&#\u001b[1;36m8221\u001b[0m;\u001b[1m)\u001b[0m and the Company&#\u001b[1;36m8217\u001b[0m;s discussion and analysis of its financial \n",
       "condition and operating results require the Company&#\u001b[1;36m8217\u001b[0m;s management to make judgments, assumptions and estimates\n",
       "that affect the amounts reported. Note \u001b[1;36m1\u001b[0m, &#\u001b[1;36m8220\u001b[0m;Summary of Significant Accounting Policies,&#\u001b[1;36m8221\u001b[0m; of the Notes to\n",
       "Consolidated Financial Statements in Part II, Item \u001b[1;36m8\u001b[0m of this Form \u001b[1;36m10\u001b[0m-K describes the significant accounting \n",
       "policies and methods used in the preparation of the Company&#\u001b[1;36m8217\u001b[0m;s consolidated financial statements. Management \n",
       "bases its estimates on historical experience and on various other assumptions it believes to be reasonable under \n",
       "the circumstances, the results of which form the basis for making judgments about the carrying values of assets and\n",
       "liabilities. Actual results may differ from these estimates, and such differences may be material. \n",
       "\n",
       "Management believes the Company&#\u001b[1;36m8217\u001b[0m;s critical accounting policies and estimates are those related to revenue \n",
       "recognition, valuation of manufacturing-related assets and estimation of inventory purchase commitment cancellation\n",
       "fees, warranty costs, income taxes, and legal and other contingencies. Management considers these policies critical\n",
       "because they are both important to the portrayal of the Company&#\u001b[1;36m8217\u001b[0m;s financial condition and operating results, \n",
       "and they require management to make judgments and estimates about inherently uncertain matters. The Company&#\u001b[1;36m8217\u001b[0m;s\n",
       "senior management has reviewed these critical accounting policies and related disclosures with the Audit and \n",
       "Finance Committee of the Company&#\u001b[1;36m8217\u001b[0m;s Board of Directors. \n",
       "\n",
       "Revenue Recognition \n",
       "\n",
       "The Company has identified up to three performance obligations regularly included in arrangements involving the \n",
       "sale of iPhone, Mac, iPad and certain other products. The first performance obligation, which represents the \n",
       "substantial portion of the allocated sales price, is the hardware and bundled software delivered at the time of \n",
       "sale. The second performance obligation is the right to receive certain product-related bundled services, which \n",
       "include iCloud, Siri and Maps. The third performance obligation is the right to receive, on a when-and-if-available\n",
       "basis, future unspecified software upgrades relating to the software bundled with each device. The Company \n",
       "allocates revenue and any related discounts to these performance obligations based on their relative stand-alone \n",
       "selling prices \u001b[1m(\u001b[0m&#\u001b[1;36m8220\u001b[0m;SSPs&#\u001b[1;36m8221\u001b[0m;\u001b[1m)\u001b[0m. Because the Company lacks observable prices for the undelivered performance \n",
       "obligations, the allocation of revenue is based on the Company&#\u001b[1;36m8217\u001b[0m;s estimated SSPs. Revenue allocated to the \n",
       "product-related bundled services and unspecified software upgrade rights is deferred and recognized on a \n",
       "straight-line basis over the estimated period they are expected to be provided. \n",
       "\n",
       "The Company&#\u001b[1;36m8217\u001b[0m;s process for determining estimated SSPs involves management&#\u001b[1;36m8217\u001b[0m;s judgment and considers \n",
       "multiple factors that may vary over time depending upon the unique facts and circumstances related to each \n",
       "deliverable. Should future facts and circumstances change, the Company&#\u001b[1;36m8217\u001b[0m;s SSPs and the future rate of related \n",
       "amortization for product-related bundled services and unspecified software upgrade rights related to future sales \n",
       "of these devices could change. Factors subject to change include the nature of the product-related bundled services\n",
       "and unspecified software upgrade rights offered, their estimated value and the estimated period they are expected \n",
       "to be provided. \n",
       "\n",
       "Valuation of Manufacturing-Related Assets and Estimation of Inventory Purchase Commitment Cancellation Fees \n",
       "\n",
       "The Company invests in manufacturing-related assets, including capital assets held at its suppliers&#\u001b[1;36m8217\u001b[0m; \n",
       "facilities and prepayments provided to certain of its suppliers associated with long-term agreements to secure the \n",
       "supply of inventory. The Company also accrues estimated purchase commitment cancellation fees related to inventory \n",
       "orders that have been canceled or are expected to be canceled. The Company&#\u001b[1;36m8217\u001b[0m;s estimates of future product \n",
       "development plans and demand for its products are key inputs in determining the recoverability of \n",
       "manufacturing-related assets and assessing the adequacy of any purchase commitment cancellation fee accruals. If \n",
       "there is an abrupt and substantial decline in estimated demand for one or more of the Company&#\u001b[1;36m8217\u001b[0m;s products, a \n",
       "change in the Company&#\u001b[1;36m8217\u001b[0m;s product development plans, or an unanticipated change in technological requirements \n",
       "for any of the Company&#\u001b[1;36m8217\u001b[0m;s products, the Company may be required to record write-downs or impairments of \n",
       "manufacturing-related assets or accrue purchase commitment cancellation fees. \n",
       "\n",
       "Apple Inc. | \u001b[1;36m2020\u001b[0m Form \u001b[1;36m10\u001b[0m-K | \u001b[1;36m27\u001b[0m \n",
       "\n",
       "Warranty Costs \n",
       "\n",
       "The Company offers limited warranties on its new and certified refurbished hardware products and on parts used to \n",
       "repair its hardware products, and customers may purchase extended service coverage, where available, on many of the\n",
       "Company&#\u001b[1;36m8217\u001b[0m;s hardware products. The Company accrues the estimated cost of warranties in the period the related \n",
       "revenue is recognized based on historical and projected warranty claim rates, historical and projected cost per \n",
       "claim and knowledge of specific product failures outside the Company&#\u001b[1;36m8217\u001b[0m;s typical experience. If actual product \n",
       "failure rates or repair costs differ from estimates, revisions to the estimated warranty liabilities would be \n",
       "required. \n",
       "\n",
       "Income Taxes \n",
       "\n",
       "The Company recognizes tax benefits from uncertain tax positions if it is more likely than not that the tax \n",
       "position will be sustained on examination by the taxing authorities, based on the technical merits of the position.\n",
       "The tax benefits recognized in the financial statements from such positions are measured based on the largest \n",
       "benefit that has a greater-than-\u001b[1;36m50\u001b[0m% likelihood of being realized upon ultimate settlement. The calculation of tax \n",
       "liabilities involves significant judgment in estimating the impact of uncertainties in the application of GAAP and \n",
       "complex tax laws. Resolution of these uncertainties in a manner inconsistent with management&#\u001b[1;36m8217\u001b[0m;s expectations \n",
       "could have a material impact on the Company&#\u001b[1;36m8217\u001b[0m;s financial condition and operating results. \n",
       "\n",
       "Legal and Other Contingencies \n",
       "\n",
       "As discussed in Part I, Item \u001b[1;36m3\u001b[0m of this Form \u001b[1;36m10\u001b[0m-K under the heading &#\u001b[1;36m8220\u001b[0m;Legal Proceedings&#\u001b[1;36m8221\u001b[0m; and in Part II, \n",
       "Item \u001b[1;36m8\u001b[0m of this Form \u001b[1;36m10\u001b[0m-K in the Notes to Consolidated Financial Statements in Note \u001b[1;36m10\u001b[0m, &#\u001b[1;36m8220\u001b[0m;Commitments and \n",
       "Contingencies,&#\u001b[1;36m8221\u001b[0m; the Company is subject to various legal proceedings and claims that arise in the ordinary \n",
       "course of business. The Company records a liability when it is probable that a loss has been incurred and the \n",
       "amount is reasonably estimable, the determination of which requires significant judgment. Except as described in \n",
       "Part II, Item \u001b[1;36m8\u001b[0m of this Form \u001b[1;36m10\u001b[0m-K in the Notes to Consolidated Financial Statements in Note \u001b[1;36m10\u001b[0m, &#\u001b[1;36m8220\u001b[0m;Commitments \n",
       "and Contingencies&#\u001b[1;36m8221\u001b[0m; under the heading &#\u001b[1;36m8220\u001b[0m;Contingencies,&#\u001b[1;36m8221\u001b[0m; in the opinion of management, there was not\n",
       "at least a reasonable possibility the Company may have incurred a material loss, or a material loss greater than a \n",
       "recorded accrual, concerning loss contingencies for asserted legal and other claims. \n",
       "\n",
       "The outcome of litigation is inherently uncertain. If one or more legal matters were resolved against the Company \n",
       "in a reporting period for amounts above management&#\u001b[1;36m8217\u001b[0m;s expectations, the Company&#\u001b[1;36m8217\u001b[0m;s financial condition \n",
       "and operating results for that reporting period could be materially adversely affected. \n",
       "\n",
       "\n"
      ]
     },
     "metadata": {},
     "output_type": "display_data"
    }
   ],
   "source": [
    "print(docs[\"AAPL\"])"
   ]
  },
  {
   "cell_type": "code",
   "execution_count": 6,
   "metadata": {},
   "outputs": [
    {
     "data": {
      "text/html": [
       "<pre style=\"white-space:pre;overflow-x:auto;line-height:normal;font-family:Menlo,'DejaVu Sans Mono',consolas,'Courier New',monospace\"><span style=\"font-weight: bold\">[</span>\n",
       "    <span style=\"font-weight: bold\">(</span><span style=\"color: #008000; text-decoration-color: #008000\">'CVX'</span>, <span style=\"color: #008080; text-decoration-color: #008080; font-weight: bold\">293</span><span style=\"font-weight: bold\">)</span>,\n",
       "    <span style=\"font-weight: bold\">(</span><span style=\"color: #008000; text-decoration-color: #008000\">'C'</span>, <span style=\"color: #008080; text-decoration-color: #008080; font-weight: bold\">0</span><span style=\"font-weight: bold\">)</span>,\n",
       "    <span style=\"font-weight: bold\">(</span><span style=\"color: #008000; text-decoration-color: #008000\">'DE'</span>, <span style=\"color: #008080; text-decoration-color: #008080; font-weight: bold\">251</span><span style=\"font-weight: bold\">)</span>,\n",
       "    <span style=\"font-weight: bold\">(</span><span style=\"color: #008000; text-decoration-color: #008000\">'ETN'</span>, <span style=\"color: #008080; text-decoration-color: #008080; font-weight: bold\">269</span><span style=\"font-weight: bold\">)</span>,\n",
       "    <span style=\"font-weight: bold\">(</span><span style=\"color: #008000; text-decoration-color: #008000\">'GE'</span>, <span style=\"color: #008080; text-decoration-color: #008080; font-weight: bold\">106</span><span style=\"font-weight: bold\">)</span>,\n",
       "    <span style=\"font-weight: bold\">(</span><span style=\"color: #008000; text-decoration-color: #008000\">'IBM'</span>, <span style=\"color: #008080; text-decoration-color: #008080; font-weight: bold\">238</span><span style=\"font-weight: bold\">)</span>,\n",
       "    <span style=\"font-weight: bold\">(</span><span style=\"color: #008000; text-decoration-color: #008000\">'JPM'</span>, <span style=\"color: #008080; text-decoration-color: #008080; font-weight: bold\">431</span><span style=\"font-weight: bold\">)</span>,\n",
       "    <span style=\"font-weight: bold\">(</span><span style=\"color: #008000; text-decoration-color: #008000\">'MA'</span>, <span style=\"color: #008080; text-decoration-color: #008080; font-weight: bold\">0</span><span style=\"font-weight: bold\">)</span>,\n",
       "    <span style=\"font-weight: bold\">(</span><span style=\"color: #008000; text-decoration-color: #008000\">'PGR'</span>, <span style=\"color: #008080; text-decoration-color: #008080; font-weight: bold\">250</span><span style=\"font-weight: bold\">)</span>,\n",
       "    <span style=\"font-weight: bold\">(</span><span style=\"color: #008000; text-decoration-color: #008000\">'WFC'</span>, <span style=\"color: #008080; text-decoration-color: #008080; font-weight: bold\">324</span><span style=\"font-weight: bold\">)</span>,\n",
       "    <span style=\"font-weight: bold\">(</span><span style=\"color: #008000; text-decoration-color: #008000\">'XOM'</span>, <span style=\"color: #008080; text-decoration-color: #008080; font-weight: bold\">288</span><span style=\"font-weight: bold\">)</span>\n",
       "<span style=\"font-weight: bold\">]</span>\n",
       "</pre>\n"
      ],
      "text/plain": [
       "\u001b[1m[\u001b[0m\n",
       "    \u001b[1m(\u001b[0m\u001b[32m'CVX'\u001b[0m, \u001b[1;36m293\u001b[0m\u001b[1m)\u001b[0m,\n",
       "    \u001b[1m(\u001b[0m\u001b[32m'C'\u001b[0m, \u001b[1;36m0\u001b[0m\u001b[1m)\u001b[0m,\n",
       "    \u001b[1m(\u001b[0m\u001b[32m'DE'\u001b[0m, \u001b[1;36m251\u001b[0m\u001b[1m)\u001b[0m,\n",
       "    \u001b[1m(\u001b[0m\u001b[32m'ETN'\u001b[0m, \u001b[1;36m269\u001b[0m\u001b[1m)\u001b[0m,\n",
       "    \u001b[1m(\u001b[0m\u001b[32m'GE'\u001b[0m, \u001b[1;36m106\u001b[0m\u001b[1m)\u001b[0m,\n",
       "    \u001b[1m(\u001b[0m\u001b[32m'IBM'\u001b[0m, \u001b[1;36m238\u001b[0m\u001b[1m)\u001b[0m,\n",
       "    \u001b[1m(\u001b[0m\u001b[32m'JPM'\u001b[0m, \u001b[1;36m431\u001b[0m\u001b[1m)\u001b[0m,\n",
       "    \u001b[1m(\u001b[0m\u001b[32m'MA'\u001b[0m, \u001b[1;36m0\u001b[0m\u001b[1m)\u001b[0m,\n",
       "    \u001b[1m(\u001b[0m\u001b[32m'PGR'\u001b[0m, \u001b[1;36m250\u001b[0m\u001b[1m)\u001b[0m,\n",
       "    \u001b[1m(\u001b[0m\u001b[32m'WFC'\u001b[0m, \u001b[1;36m324\u001b[0m\u001b[1m)\u001b[0m,\n",
       "    \u001b[1m(\u001b[0m\u001b[32m'XOM'\u001b[0m, \u001b[1;36m288\u001b[0m\u001b[1m)\u001b[0m\n",
       "\u001b[1m]\u001b[0m\n"
      ]
     },
     "metadata": {},
     "output_type": "display_data"
    }
   ],
   "source": [
    "doc_lengths = {k: len(v) for k, v in docs.items()}\n",
    "\n",
    "print([(k, v) for k, v in doc_lengths.items() if v < 1000])\n",
    "\n",
    "docs_to_remove = [k for k, v in doc_lengths.items() if v < 1000]\n"
   ]
  },
  {
   "cell_type": "markdown",
   "metadata": {},
   "source": [
    "The above tickers do not have relevant content in their MD&A, possibly due to cross-reference to other sections or unavailability of the documents. We drop these tickers from the list.\n"
   ]
  },
  {
   "cell_type": "code",
   "execution_count": 7,
   "metadata": {},
   "outputs": [],
   "source": [
    "for key in docs_to_remove:\n",
    "    docs.pop(key, None)"
   ]
  },
  {
   "cell_type": "markdown",
   "metadata": {},
   "source": [
    "## Preprocessing\n"
   ]
  },
  {
   "cell_type": "code",
   "execution_count": 8,
   "metadata": {},
   "outputs": [],
   "source": [
    "nlp = spacy.load(\"en_core_web_sm\", disable=[\"parser\", \"ner\"])\n",
    "lemmatizer = WordNetLemmatizer()\n",
    "stop_words = set(stopwords.words(\"english\"))\n",
    "stop_words.update([\"table_end\", \"table_start\"])\n",
    "\n",
    "\n",
    "class Tokenizer:\n",
    "    def __init__(self):\n",
    "        self.nlp = spacy.load(\"en_core_web_sm\", disable=[\"parser\", \"ner\"])\n",
    "        self.lemmatizer = WordNetLemmatizer()\n",
    "        self.stop_words = set(stopwords.words(\"english\"))\n",
    "        self.stop_words.update([\"table_end\", \"table_start\"])\n",
    "\n",
    "    def tokenize(self, text):\n",
    "        # Clean text\n",
    "        text = text.lower()  # Lowercase\n",
    "        text = re.sub(\n",
    "            r\"\\$\\d+(\\.\\d+)?(m| million| billion)?\", \" \", text\n",
    "        )  # Remove dollar amounts\n",
    "        text = re.sub(r\"\\d+(\\.\\d+)?%\", \" \", text)  # Remove percentages\n",
    "        text = re.sub(r\"\\b\\d+(\\.\\d+)?\\b\", \" \", text)  # Remove standalone numbers\n",
    "        text = re.sub(r\"\\s+\", \" \", text).strip()  # Remove extra spaces\n",
    "        text = re.sub(r\"[^\\w\\s]\", \"\", text)  # Remove punctuation\n",
    "\n",
    "        # Tokenize and remove stopwords\n",
    "        tokens = [\n",
    "            word for word in nltk.word_tokenize(text) if word not in self.stop_words\n",
    "        ]\n",
    "\n",
    "        # Lemmatize\n",
    "        lemmatized = [self.lemmatizer.lemmatize(token) for token in tokens]\n",
    "\n",
    "        return lemmatized"
   ]
  },
  {
   "cell_type": "markdown",
   "metadata": {},
   "source": [
    "We define the preprocessing pipeline as follows:\n",
    "- Convert to lowercase\n",
    "- Remove mention of dollar amounts\n",
    "- Remove percentages\n",
    "- Remove standalone numbers\n",
    "- Remove extra whitespaces and punctuations\n",
    "- Tokenize by word and remove stopwords\n",
    "- Lemmatize words using WordNetLemmatizer\n",
    "\n",
    "Since the focus is on a qualitative analysis of the MD&A, we remove dollar amounts, percenages and numbers as they are not relevant for the analysis. We also remove stopwords and lemmatize the words to reduce the dimensionality of the data and to focus on the content of the documents."
   ]
  },
  {
   "cell_type": "code",
   "execution_count": 9,
   "metadata": {},
   "outputs": [],
   "source": [
    "tokenizer = Tokenizer()\n",
    "\n",
    "\n",
    "def preprocess_text(text):\n",
    "    return \" \".join(tokenizer.tokenize(text))\n"
   ]
  },
  {
   "cell_type": "markdown",
   "metadata": {},
   "source": [
    "### TF-IDF\n"
   ]
  },
  {
   "cell_type": "code",
   "execution_count": 10,
   "metadata": {},
   "outputs": [],
   "source": [
    "tf_idf_vectorizer = TfidfVectorizer(\n",
    "    max_df=0.95,\n",
    "    min_df=5,\n",
    "    max_features=2000,\n",
    "    preprocessor=preprocess_text,\n",
    "    strip_accents=\"unicode\",\n",
    ")\n",
    "\n",
    "tf_idf = tf_idf_vectorizer.fit_transform(docs.values())\n"
   ]
  },
  {
   "cell_type": "code",
   "execution_count": 11,
   "metadata": {},
   "outputs": [
    {
     "data": {
      "text/html": [
       "<pre style=\"white-space:pre;overflow-x:auto;line-height:normal;font-family:Menlo,'DejaVu Sans Mono',consolas,'Courier New',monospace\"></pre>\n"
      ],
      "text/plain": []
     },
     "metadata": {},
     "output_type": "display_data"
    },
    {
     "data": {
      "text/html": [
       "<div>\n",
       "<style scoped>\n",
       "    .dataframe tbody tr th:only-of-type {\n",
       "        vertical-align: middle;\n",
       "    }\n",
       "\n",
       "    .dataframe tbody tr th {\n",
       "        vertical-align: top;\n",
       "    }\n",
       "\n",
       "    .dataframe thead th {\n",
       "        text-align: right;\n",
       "    }\n",
       "</style>\n",
       "<table border=\"1\" class=\"dataframe\">\n",
       "  <thead>\n",
       "    <tr style=\"text-align: right;\">\n",
       "      <th></th>\n",
       "      <th>1a</th>\n",
       "      <th>3d</th>\n",
       "      <th>5g</th>\n",
       "      <th>aa</th>\n",
       "      <th>ability</th>\n",
       "      <th>able</th>\n",
       "      <th>absence</th>\n",
       "      <th>absolute</th>\n",
       "      <th>aca</th>\n",
       "      <th>accelerate</th>\n",
       "      <th>...</th>\n",
       "      <th>writeoff</th>\n",
       "      <th>written</th>\n",
       "      <th>yearend</th>\n",
       "      <th>yearoveryear</th>\n",
       "      <th>yeartoyear</th>\n",
       "      <th>yen</th>\n",
       "      <th>yet</th>\n",
       "      <th>yield</th>\n",
       "      <th>york</th>\n",
       "      <th>zero</th>\n",
       "    </tr>\n",
       "  </thead>\n",
       "  <tbody>\n",
       "    <tr>\n",
       "      <th>0_DOC_FREQ</th>\n",
       "      <td>59.00</td>\n",
       "      <td>8.00</td>\n",
       "      <td>7.00</td>\n",
       "      <td>17.00</td>\n",
       "      <td>83.00</td>\n",
       "      <td>54.00</td>\n",
       "      <td>25.00</td>\n",
       "      <td>15.0</td>\n",
       "      <td>6.0</td>\n",
       "      <td>30.0</td>\n",
       "      <td>...</td>\n",
       "      <td>11.00</td>\n",
       "      <td>33.00</td>\n",
       "      <td>18.00</td>\n",
       "      <td>42.00</td>\n",
       "      <td>19.00</td>\n",
       "      <td>21.00</td>\n",
       "      <td>44.00</td>\n",
       "      <td>45.00</td>\n",
       "      <td>16.0</td>\n",
       "      <td>19.00</td>\n",
       "    </tr>\n",
       "    <tr>\n",
       "      <th>AAPL</th>\n",
       "      <td>0.03</td>\n",
       "      <td>0.00</td>\n",
       "      <td>0.00</td>\n",
       "      <td>0.00</td>\n",
       "      <td>0.00</td>\n",
       "      <td>0.00</td>\n",
       "      <td>0.02</td>\n",
       "      <td>0.0</td>\n",
       "      <td>0.0</td>\n",
       "      <td>0.0</td>\n",
       "      <td>...</td>\n",
       "      <td>0.00</td>\n",
       "      <td>0.00</td>\n",
       "      <td>0.00</td>\n",
       "      <td>0.05</td>\n",
       "      <td>0.05</td>\n",
       "      <td>0.02</td>\n",
       "      <td>0.02</td>\n",
       "      <td>0.00</td>\n",
       "      <td>0.0</td>\n",
       "      <td>0.00</td>\n",
       "    </tr>\n",
       "    <tr>\n",
       "      <th>ABBV</th>\n",
       "      <td>0.00</td>\n",
       "      <td>0.00</td>\n",
       "      <td>0.00</td>\n",
       "      <td>0.00</td>\n",
       "      <td>0.01</td>\n",
       "      <td>0.00</td>\n",
       "      <td>0.00</td>\n",
       "      <td>0.0</td>\n",
       "      <td>0.0</td>\n",
       "      <td>0.0</td>\n",
       "      <td>...</td>\n",
       "      <td>0.00</td>\n",
       "      <td>0.00</td>\n",
       "      <td>0.00</td>\n",
       "      <td>0.00</td>\n",
       "      <td>0.01</td>\n",
       "      <td>0.00</td>\n",
       "      <td>0.00</td>\n",
       "      <td>0.01</td>\n",
       "      <td>0.0</td>\n",
       "      <td>0.01</td>\n",
       "    </tr>\n",
       "    <tr>\n",
       "      <th>ABT</th>\n",
       "      <td>0.01</td>\n",
       "      <td>0.01</td>\n",
       "      <td>0.00</td>\n",
       "      <td>0.00</td>\n",
       "      <td>0.01</td>\n",
       "      <td>0.00</td>\n",
       "      <td>0.00</td>\n",
       "      <td>0.0</td>\n",
       "      <td>0.0</td>\n",
       "      <td>0.0</td>\n",
       "      <td>...</td>\n",
       "      <td>0.00</td>\n",
       "      <td>0.01</td>\n",
       "      <td>0.00</td>\n",
       "      <td>0.01</td>\n",
       "      <td>0.00</td>\n",
       "      <td>0.00</td>\n",
       "      <td>0.00</td>\n",
       "      <td>0.00</td>\n",
       "      <td>0.0</td>\n",
       "      <td>0.01</td>\n",
       "    </tr>\n",
       "    <tr>\n",
       "      <th>ACN</th>\n",
       "      <td>0.01</td>\n",
       "      <td>0.00</td>\n",
       "      <td>0.00</td>\n",
       "      <td>0.00</td>\n",
       "      <td>0.02</td>\n",
       "      <td>0.00</td>\n",
       "      <td>0.00</td>\n",
       "      <td>0.0</td>\n",
       "      <td>0.0</td>\n",
       "      <td>0.0</td>\n",
       "      <td>...</td>\n",
       "      <td>0.00</td>\n",
       "      <td>0.00</td>\n",
       "      <td>0.00</td>\n",
       "      <td>0.01</td>\n",
       "      <td>0.00</td>\n",
       "      <td>0.01</td>\n",
       "      <td>0.00</td>\n",
       "      <td>0.00</td>\n",
       "      <td>0.0</td>\n",
       "      <td>0.00</td>\n",
       "    </tr>\n",
       "    <tr>\n",
       "      <th>...</th>\n",
       "      <td>...</td>\n",
       "      <td>...</td>\n",
       "      <td>...</td>\n",
       "      <td>...</td>\n",
       "      <td>...</td>\n",
       "      <td>...</td>\n",
       "      <td>...</td>\n",
       "      <td>...</td>\n",
       "      <td>...</td>\n",
       "      <td>...</td>\n",
       "      <td>...</td>\n",
       "      <td>...</td>\n",
       "      <td>...</td>\n",
       "      <td>...</td>\n",
       "      <td>...</td>\n",
       "      <td>...</td>\n",
       "      <td>...</td>\n",
       "      <td>...</td>\n",
       "      <td>...</td>\n",
       "      <td>...</td>\n",
       "      <td>...</td>\n",
       "    </tr>\n",
       "    <tr>\n",
       "      <th>UPS</th>\n",
       "      <td>0.00</td>\n",
       "      <td>0.00</td>\n",
       "      <td>0.00</td>\n",
       "      <td>0.00</td>\n",
       "      <td>0.00</td>\n",
       "      <td>0.00</td>\n",
       "      <td>0.01</td>\n",
       "      <td>0.0</td>\n",
       "      <td>0.0</td>\n",
       "      <td>0.0</td>\n",
       "      <td>...</td>\n",
       "      <td>0.00</td>\n",
       "      <td>0.01</td>\n",
       "      <td>0.00</td>\n",
       "      <td>0.00</td>\n",
       "      <td>0.00</td>\n",
       "      <td>0.00</td>\n",
       "      <td>0.01</td>\n",
       "      <td>0.03</td>\n",
       "      <td>0.0</td>\n",
       "      <td>0.00</td>\n",
       "    </tr>\n",
       "    <tr>\n",
       "      <th>V</th>\n",
       "      <td>0.01</td>\n",
       "      <td>0.00</td>\n",
       "      <td>0.00</td>\n",
       "      <td>0.01</td>\n",
       "      <td>0.00</td>\n",
       "      <td>0.01</td>\n",
       "      <td>0.02</td>\n",
       "      <td>0.0</td>\n",
       "      <td>0.0</td>\n",
       "      <td>0.0</td>\n",
       "      <td>...</td>\n",
       "      <td>0.00</td>\n",
       "      <td>0.00</td>\n",
       "      <td>0.00</td>\n",
       "      <td>0.02</td>\n",
       "      <td>0.00</td>\n",
       "      <td>0.00</td>\n",
       "      <td>0.00</td>\n",
       "      <td>0.00</td>\n",
       "      <td>0.0</td>\n",
       "      <td>0.00</td>\n",
       "    </tr>\n",
       "    <tr>\n",
       "      <th>VRTX</th>\n",
       "      <td>0.00</td>\n",
       "      <td>0.00</td>\n",
       "      <td>0.00</td>\n",
       "      <td>0.00</td>\n",
       "      <td>0.01</td>\n",
       "      <td>0.02</td>\n",
       "      <td>0.00</td>\n",
       "      <td>0.0</td>\n",
       "      <td>0.0</td>\n",
       "      <td>0.0</td>\n",
       "      <td>...</td>\n",
       "      <td>0.01</td>\n",
       "      <td>0.00</td>\n",
       "      <td>0.00</td>\n",
       "      <td>0.00</td>\n",
       "      <td>0.00</td>\n",
       "      <td>0.00</td>\n",
       "      <td>0.00</td>\n",
       "      <td>0.00</td>\n",
       "      <td>0.0</td>\n",
       "      <td>0.00</td>\n",
       "    </tr>\n",
       "    <tr>\n",
       "      <th>VZ</th>\n",
       "      <td>0.00</td>\n",
       "      <td>0.00</td>\n",
       "      <td>0.11</td>\n",
       "      <td>0.00</td>\n",
       "      <td>0.01</td>\n",
       "      <td>0.00</td>\n",
       "      <td>0.00</td>\n",
       "      <td>0.0</td>\n",
       "      <td>0.0</td>\n",
       "      <td>0.0</td>\n",
       "      <td>...</td>\n",
       "      <td>0.01</td>\n",
       "      <td>0.01</td>\n",
       "      <td>0.00</td>\n",
       "      <td>0.00</td>\n",
       "      <td>0.00</td>\n",
       "      <td>0.00</td>\n",
       "      <td>0.00</td>\n",
       "      <td>0.01</td>\n",
       "      <td>0.0</td>\n",
       "      <td>0.00</td>\n",
       "    </tr>\n",
       "    <tr>\n",
       "      <th>WMT</th>\n",
       "      <td>0.01</td>\n",
       "      <td>0.00</td>\n",
       "      <td>0.00</td>\n",
       "      <td>0.02</td>\n",
       "      <td>0.01</td>\n",
       "      <td>0.01</td>\n",
       "      <td>0.00</td>\n",
       "      <td>0.0</td>\n",
       "      <td>0.0</td>\n",
       "      <td>0.0</td>\n",
       "      <td>...</td>\n",
       "      <td>0.01</td>\n",
       "      <td>0.00</td>\n",
       "      <td>0.01</td>\n",
       "      <td>0.00</td>\n",
       "      <td>0.00</td>\n",
       "      <td>0.00</td>\n",
       "      <td>0.00</td>\n",
       "      <td>0.00</td>\n",
       "      <td>0.0</td>\n",
       "      <td>0.00</td>\n",
       "    </tr>\n",
       "  </tbody>\n",
       "</table>\n",
       "<p>89 rows × 2000 columns</p>\n",
       "</div>"
      ],
      "text/plain": [
       "\n",
       "               1a    3d    5g     aa  ability   able  absence  absolute  aca  \\\n",
       "0_DOC_FREQ  \u001b[1;36m59.00\u001b[0m  \u001b[1;36m8.00\u001b[0m  \u001b[1;36m7.00\u001b[0m  \u001b[1;36m17.00\u001b[0m    \u001b[1;36m83.00\u001b[0m  \u001b[1;36m54.00\u001b[0m    \u001b[1;36m25.00\u001b[0m      \u001b[1;36m15.0\u001b[0m  \u001b[1;36m6.0\u001b[0m   \n",
       "AAPL         \u001b[1;36m0.03\u001b[0m  \u001b[1;36m0.00\u001b[0m  \u001b[1;36m0.00\u001b[0m   \u001b[1;36m0.00\u001b[0m     \u001b[1;36m0.00\u001b[0m   \u001b[1;36m0.00\u001b[0m     \u001b[1;36m0.02\u001b[0m       \u001b[1;36m0.0\u001b[0m  \u001b[1;36m0.0\u001b[0m   \n",
       "ABBV         \u001b[1;36m0.00\u001b[0m  \u001b[1;36m0.00\u001b[0m  \u001b[1;36m0.00\u001b[0m   \u001b[1;36m0.00\u001b[0m     \u001b[1;36m0.01\u001b[0m   \u001b[1;36m0.00\u001b[0m     \u001b[1;36m0.00\u001b[0m       \u001b[1;36m0.0\u001b[0m  \u001b[1;36m0.0\u001b[0m   \n",
       "ABT          \u001b[1;36m0.01\u001b[0m  \u001b[1;36m0.01\u001b[0m  \u001b[1;36m0.00\u001b[0m   \u001b[1;36m0.00\u001b[0m     \u001b[1;36m0.01\u001b[0m   \u001b[1;36m0.00\u001b[0m     \u001b[1;36m0.00\u001b[0m       \u001b[1;36m0.0\u001b[0m  \u001b[1;36m0.0\u001b[0m   \n",
       "ACN          \u001b[1;36m0.01\u001b[0m  \u001b[1;36m0.00\u001b[0m  \u001b[1;36m0.00\u001b[0m   \u001b[1;36m0.00\u001b[0m     \u001b[1;36m0.02\u001b[0m   \u001b[1;36m0.00\u001b[0m     \u001b[1;36m0.00\u001b[0m       \u001b[1;36m0.0\u001b[0m  \u001b[1;36m0.0\u001b[0m   \n",
       "\u001b[33m...\u001b[0m           \u001b[33m...\u001b[0m   \u001b[33m...\u001b[0m   \u001b[33m...\u001b[0m    \u001b[33m...\u001b[0m      \u001b[33m...\u001b[0m    \u001b[33m...\u001b[0m      \u001b[33m...\u001b[0m       \u001b[33m...\u001b[0m  \u001b[33m...\u001b[0m   \n",
       "UPS          \u001b[1;36m0.00\u001b[0m  \u001b[1;36m0.00\u001b[0m  \u001b[1;36m0.00\u001b[0m   \u001b[1;36m0.00\u001b[0m     \u001b[1;36m0.00\u001b[0m   \u001b[1;36m0.00\u001b[0m     \u001b[1;36m0.01\u001b[0m       \u001b[1;36m0.0\u001b[0m  \u001b[1;36m0.0\u001b[0m   \n",
       "V            \u001b[1;36m0.01\u001b[0m  \u001b[1;36m0.00\u001b[0m  \u001b[1;36m0.00\u001b[0m   \u001b[1;36m0.01\u001b[0m     \u001b[1;36m0.00\u001b[0m   \u001b[1;36m0.01\u001b[0m     \u001b[1;36m0.02\u001b[0m       \u001b[1;36m0.0\u001b[0m  \u001b[1;36m0.0\u001b[0m   \n",
       "VRTX         \u001b[1;36m0.00\u001b[0m  \u001b[1;36m0.00\u001b[0m  \u001b[1;36m0.00\u001b[0m   \u001b[1;36m0.00\u001b[0m     \u001b[1;36m0.01\u001b[0m   \u001b[1;36m0.02\u001b[0m     \u001b[1;36m0.00\u001b[0m       \u001b[1;36m0.0\u001b[0m  \u001b[1;36m0.0\u001b[0m   \n",
       "VZ           \u001b[1;36m0.00\u001b[0m  \u001b[1;36m0.00\u001b[0m  \u001b[1;36m0.11\u001b[0m   \u001b[1;36m0.00\u001b[0m     \u001b[1;36m0.01\u001b[0m   \u001b[1;36m0.00\u001b[0m     \u001b[1;36m0.00\u001b[0m       \u001b[1;36m0.0\u001b[0m  \u001b[1;36m0.0\u001b[0m   \n",
       "WMT          \u001b[1;36m0.01\u001b[0m  \u001b[1;36m0.00\u001b[0m  \u001b[1;36m0.00\u001b[0m   \u001b[1;36m0.02\u001b[0m     \u001b[1;36m0.01\u001b[0m   \u001b[1;36m0.01\u001b[0m     \u001b[1;36m0.00\u001b[0m       \u001b[1;36m0.0\u001b[0m  \u001b[1;36m0.0\u001b[0m   \n",
       "\n",
       "            accelerate  \u001b[33m...\u001b[0m  writeoff  written  yearend  yearoveryear  \\\n",
       "0_DOC_FREQ        \u001b[1;36m30.0\u001b[0m  \u001b[33m...\u001b[0m     \u001b[1;36m11.00\u001b[0m    \u001b[1;36m33.00\u001b[0m    \u001b[1;36m18.00\u001b[0m         \u001b[1;36m42.00\u001b[0m   \n",
       "AAPL               \u001b[1;36m0.0\u001b[0m  \u001b[33m...\u001b[0m      \u001b[1;36m0.00\u001b[0m     \u001b[1;36m0.00\u001b[0m     \u001b[1;36m0.00\u001b[0m          \u001b[1;36m0.05\u001b[0m   \n",
       "ABBV               \u001b[1;36m0.0\u001b[0m  \u001b[33m...\u001b[0m      \u001b[1;36m0.00\u001b[0m     \u001b[1;36m0.00\u001b[0m     \u001b[1;36m0.00\u001b[0m          \u001b[1;36m0.00\u001b[0m   \n",
       "ABT                \u001b[1;36m0.0\u001b[0m  \u001b[33m...\u001b[0m      \u001b[1;36m0.00\u001b[0m     \u001b[1;36m0.01\u001b[0m     \u001b[1;36m0.00\u001b[0m          \u001b[1;36m0.01\u001b[0m   \n",
       "ACN                \u001b[1;36m0.0\u001b[0m  \u001b[33m...\u001b[0m      \u001b[1;36m0.00\u001b[0m     \u001b[1;36m0.00\u001b[0m     \u001b[1;36m0.00\u001b[0m          \u001b[1;36m0.01\u001b[0m   \n",
       "\u001b[33m...\u001b[0m                \u001b[33m...\u001b[0m  \u001b[33m...\u001b[0m       \u001b[33m...\u001b[0m      \u001b[33m...\u001b[0m      \u001b[33m...\u001b[0m           \u001b[33m...\u001b[0m   \n",
       "UPS                \u001b[1;36m0.0\u001b[0m  \u001b[33m...\u001b[0m      \u001b[1;36m0.00\u001b[0m     \u001b[1;36m0.01\u001b[0m     \u001b[1;36m0.00\u001b[0m          \u001b[1;36m0.00\u001b[0m   \n",
       "V                  \u001b[1;36m0.0\u001b[0m  \u001b[33m...\u001b[0m      \u001b[1;36m0.00\u001b[0m     \u001b[1;36m0.00\u001b[0m     \u001b[1;36m0.00\u001b[0m          \u001b[1;36m0.02\u001b[0m   \n",
       "VRTX               \u001b[1;36m0.0\u001b[0m  \u001b[33m...\u001b[0m      \u001b[1;36m0.01\u001b[0m     \u001b[1;36m0.00\u001b[0m     \u001b[1;36m0.00\u001b[0m          \u001b[1;36m0.00\u001b[0m   \n",
       "VZ                 \u001b[1;36m0.0\u001b[0m  \u001b[33m...\u001b[0m      \u001b[1;36m0.01\u001b[0m     \u001b[1;36m0.01\u001b[0m     \u001b[1;36m0.00\u001b[0m          \u001b[1;36m0.00\u001b[0m   \n",
       "WMT                \u001b[1;36m0.0\u001b[0m  \u001b[33m...\u001b[0m      \u001b[1;36m0.01\u001b[0m     \u001b[1;36m0.00\u001b[0m     \u001b[1;36m0.01\u001b[0m          \u001b[1;36m0.00\u001b[0m   \n",
       "\n",
       "            yeartoyear    yen    yet  yield  york   zero  \n",
       "0_DOC_FREQ       \u001b[1;36m19.00\u001b[0m  \u001b[1;36m21.00\u001b[0m  \u001b[1;36m44.00\u001b[0m  \u001b[1;36m45.00\u001b[0m  \u001b[1;36m16.0\u001b[0m  \u001b[1;36m19.00\u001b[0m  \n",
       "AAPL              \u001b[1;36m0.05\u001b[0m   \u001b[1;36m0.02\u001b[0m   \u001b[1;36m0.02\u001b[0m   \u001b[1;36m0.00\u001b[0m   \u001b[1;36m0.0\u001b[0m   \u001b[1;36m0.00\u001b[0m  \n",
       "ABBV              \u001b[1;36m0.01\u001b[0m   \u001b[1;36m0.00\u001b[0m   \u001b[1;36m0.00\u001b[0m   \u001b[1;36m0.01\u001b[0m   \u001b[1;36m0.0\u001b[0m   \u001b[1;36m0.01\u001b[0m  \n",
       "ABT               \u001b[1;36m0.00\u001b[0m   \u001b[1;36m0.00\u001b[0m   \u001b[1;36m0.00\u001b[0m   \u001b[1;36m0.00\u001b[0m   \u001b[1;36m0.0\u001b[0m   \u001b[1;36m0.01\u001b[0m  \n",
       "ACN               \u001b[1;36m0.00\u001b[0m   \u001b[1;36m0.01\u001b[0m   \u001b[1;36m0.00\u001b[0m   \u001b[1;36m0.00\u001b[0m   \u001b[1;36m0.0\u001b[0m   \u001b[1;36m0.00\u001b[0m  \n",
       "\u001b[33m...\u001b[0m                \u001b[33m...\u001b[0m    \u001b[33m...\u001b[0m    \u001b[33m...\u001b[0m    \u001b[33m...\u001b[0m   \u001b[33m...\u001b[0m    \u001b[33m...\u001b[0m  \n",
       "UPS               \u001b[1;36m0.00\u001b[0m   \u001b[1;36m0.00\u001b[0m   \u001b[1;36m0.01\u001b[0m   \u001b[1;36m0.03\u001b[0m   \u001b[1;36m0.0\u001b[0m   \u001b[1;36m0.00\u001b[0m  \n",
       "V                 \u001b[1;36m0.00\u001b[0m   \u001b[1;36m0.00\u001b[0m   \u001b[1;36m0.00\u001b[0m   \u001b[1;36m0.00\u001b[0m   \u001b[1;36m0.0\u001b[0m   \u001b[1;36m0.00\u001b[0m  \n",
       "VRTX              \u001b[1;36m0.00\u001b[0m   \u001b[1;36m0.00\u001b[0m   \u001b[1;36m0.00\u001b[0m   \u001b[1;36m0.00\u001b[0m   \u001b[1;36m0.0\u001b[0m   \u001b[1;36m0.00\u001b[0m  \n",
       "VZ                \u001b[1;36m0.00\u001b[0m   \u001b[1;36m0.00\u001b[0m   \u001b[1;36m0.00\u001b[0m   \u001b[1;36m0.01\u001b[0m   \u001b[1;36m0.0\u001b[0m   \u001b[1;36m0.00\u001b[0m  \n",
       "WMT               \u001b[1;36m0.00\u001b[0m   \u001b[1;36m0.00\u001b[0m   \u001b[1;36m0.00\u001b[0m   \u001b[1;36m0.00\u001b[0m   \u001b[1;36m0.0\u001b[0m   \u001b[1;36m0.00\u001b[0m  \n",
       "\n",
       "\u001b[1m[\u001b[0m\u001b[1;36m89\u001b[0m rows x \u001b[1;36m2000\u001b[0m columns\u001b[1m]\u001b[0m"
      ]
     },
     "execution_count": 11,
     "metadata": {},
     "output_type": "execute_result"
    }
   ],
   "source": [
    "tf_idf_df = pd.DataFrame(\n",
    "    tf_idf.todense(),\n",
    "    columns=tf_idf_vectorizer.get_feature_names_out(),\n",
    "    index=docs.keys(),\n",
    ")\n",
    "\n",
    "tf_idf_df.loc[\"0_DOC_FREQ\"] = (tf_idf_df > 0).sum()\n",
    "tf_idf_df.sort_index().round(2)\n"
   ]
  },
  {
   "cell_type": "code",
   "execution_count": 12,
   "metadata": {},
   "outputs": [
    {
     "data": {
      "text/html": [
       "<pre style=\"white-space:pre;overflow-x:auto;line-height:normal;font-family:Menlo,'DejaVu Sans Mono',consolas,'Courier New',monospace\"><span style=\"color: #800080; text-decoration-color: #800080; font-weight: bold\">Index</span><span style=\"font-weight: bold\">([</span><span style=\"color: #008000; text-decoration-color: #008000\">'contract'</span>, <span style=\"color: #008000; text-decoration-color: #008000\">'exchange'</span>, <span style=\"color: #008000; text-decoration-color: #008000\">'investing'</span>, <span style=\"color: #008000; text-decoration-color: #008000\">'determine'</span>, <span style=\"color: #008000; text-decoration-color: #008000\">'prior'</span>, <span style=\"color: #008000; text-decoration-color: #008000\">'driven'</span>,\n",
       "       <span style=\"color: #008000; text-decoration-color: #008000\">'ended'</span>, <span style=\"color: #008000; text-decoration-color: #008000\">'development'</span>, <span style=\"color: #008000; text-decoration-color: #008000\">'charge'</span>, <span style=\"color: #008000; text-decoration-color: #008000\">'circumstance'</span>, <span style=\"color: #008000; text-decoration-color: #008000\">'strategy'</span>, <span style=\"color: #008000; text-decoration-color: #008000\">'return'</span>,\n",
       "       <span style=\"color: #008000; text-decoration-color: #008000\">'order'</span>, <span style=\"color: #008000; text-decoration-color: #008000\">'expect'</span>, <span style=\"color: #008000; text-decoration-color: #008000\">'one'</span>, <span style=\"color: #008000; text-decoration-color: #008000\">'uncertainty'</span>, <span style=\"color: #008000; text-decoration-color: #008000\">'fair'</span>, <span style=\"color: #008000; text-decoration-color: #008000\">'regarding'</span>, <span style=\"color: #008000; text-decoration-color: #008000\">'measure'</span>,\n",
       "       <span style=\"color: #008000; text-decoration-color: #008000\">'corporate'</span>, <span style=\"color: #008000; text-decoration-color: #008000\">'historical'</span>, <span style=\"color: #008000; text-decoration-color: #008000\">'december'</span>, <span style=\"color: #008000; text-decoration-color: #008000\">'ability'</span>, <span style=\"color: #008000; text-decoration-color: #008000\">'likely'</span>, <span style=\"color: #008000; text-decoration-color: #008000\">'differ'</span>,\n",
       "       <span style=\"color: #008000; text-decoration-color: #008000\">'expenditure'</span>, <span style=\"color: #008000; text-decoration-color: #008000\">'annual'</span>, <span style=\"color: #008000; text-decoration-color: #008000\">'see'</span>, <span style=\"color: #008000; text-decoration-color: #008000\">'technology'</span>, <span style=\"color: #008000; text-decoration-color: #008000\">'end'</span>, <span style=\"color: #008000; text-decoration-color: #008000\">'demand'</span>,\n",
       "       <span style=\"color: #008000; text-decoration-color: #008000\">'however'</span>, <span style=\"color: #008000; text-decoration-color: #008000\">'working'</span>, <span style=\"color: #008000; text-decoration-color: #008000\">'margin'</span>, <span style=\"color: #008000; text-decoration-color: #008000\">'equity'</span>, <span style=\"color: #008000; text-decoration-color: #008000\">'event'</span>, <span style=\"color: #008000; text-decoration-color: #008000\">'risk'</span>, <span style=\"color: #008000; text-decoration-color: #008000\">'using'</span>,\n",
       "       <span style=\"color: #008000; text-decoration-color: #008000\">'source'</span>, <span style=\"color: #008000; text-decoration-color: #008000\">'carrying'</span>, <span style=\"color: #008000; text-decoration-color: #008000\">'experience'</span>, <span style=\"color: #008000; text-decoration-color: #008000\">'resulting'</span>, <span style=\"color: #008000; text-decoration-color: #008000\">'require'</span>, <span style=\"color: #008000; text-decoration-color: #008000\">'currently'</span>,\n",
       "       <span style=\"color: #008000; text-decoration-color: #008000\">'administrative'</span>, <span style=\"color: #008000; text-decoration-color: #008000\">'applicable'</span>, <span style=\"color: #008000; text-decoration-color: #008000\">'assessment'</span>, <span style=\"color: #008000; text-decoration-color: #008000\">'continued'</span>, <span style=\"color: #008000; text-decoration-color: #008000\">'authority'</span>,\n",
       "       <span style=\"color: #008000; text-decoration-color: #008000\">'settlement'</span><span style=\"font-weight: bold\">]</span>,\n",
       "      <span style=\"color: #808000; text-decoration-color: #808000\">dtype</span>=<span style=\"color: #008000; text-decoration-color: #008000\">'object'</span><span style=\"font-weight: bold\">)</span>\n",
       "</pre>\n"
      ],
      "text/plain": [
       "\u001b[1;35mIndex\u001b[0m\u001b[1m(\u001b[0m\u001b[1m[\u001b[0m\u001b[32m'contract'\u001b[0m, \u001b[32m'exchange'\u001b[0m, \u001b[32m'investing'\u001b[0m, \u001b[32m'determine'\u001b[0m, \u001b[32m'prior'\u001b[0m, \u001b[32m'driven'\u001b[0m,\n",
       "       \u001b[32m'ended'\u001b[0m, \u001b[32m'development'\u001b[0m, \u001b[32m'charge'\u001b[0m, \u001b[32m'circumstance'\u001b[0m, \u001b[32m'strategy'\u001b[0m, \u001b[32m'return'\u001b[0m,\n",
       "       \u001b[32m'order'\u001b[0m, \u001b[32m'expect'\u001b[0m, \u001b[32m'one'\u001b[0m, \u001b[32m'uncertainty'\u001b[0m, \u001b[32m'fair'\u001b[0m, \u001b[32m'regarding'\u001b[0m, \u001b[32m'measure'\u001b[0m,\n",
       "       \u001b[32m'corporate'\u001b[0m, \u001b[32m'historical'\u001b[0m, \u001b[32m'december'\u001b[0m, \u001b[32m'ability'\u001b[0m, \u001b[32m'likely'\u001b[0m, \u001b[32m'differ'\u001b[0m,\n",
       "       \u001b[32m'expenditure'\u001b[0m, \u001b[32m'annual'\u001b[0m, \u001b[32m'see'\u001b[0m, \u001b[32m'technology'\u001b[0m, \u001b[32m'end'\u001b[0m, \u001b[32m'demand'\u001b[0m,\n",
       "       \u001b[32m'however'\u001b[0m, \u001b[32m'working'\u001b[0m, \u001b[32m'margin'\u001b[0m, \u001b[32m'equity'\u001b[0m, \u001b[32m'event'\u001b[0m, \u001b[32m'risk'\u001b[0m, \u001b[32m'using'\u001b[0m,\n",
       "       \u001b[32m'source'\u001b[0m, \u001b[32m'carrying'\u001b[0m, \u001b[32m'experience'\u001b[0m, \u001b[32m'resulting'\u001b[0m, \u001b[32m'require'\u001b[0m, \u001b[32m'currently'\u001b[0m,\n",
       "       \u001b[32m'administrative'\u001b[0m, \u001b[32m'applicable'\u001b[0m, \u001b[32m'assessment'\u001b[0m, \u001b[32m'continued'\u001b[0m, \u001b[32m'authority'\u001b[0m,\n",
       "       \u001b[32m'settlement'\u001b[0m\u001b[1m]\u001b[0m,\n",
       "      \u001b[33mdtype\u001b[0m=\u001b[32m'object'\u001b[0m\u001b[1m)\u001b[0m\n"
      ]
     },
     "metadata": {},
     "output_type": "display_data"
    }
   ],
   "source": [
    "print(tf_idf_df.T.sort_values(\"0_DOC_FREQ\", ascending=False).head(50).index)\n",
    "tf_idf_df.drop(\"0_DOC_FREQ\", inplace=True)"
   ]
  },
  {
   "cell_type": "code",
   "execution_count": 13,
   "metadata": {},
   "outputs": [
    {
     "data": {
      "text/html": [
       "<pre style=\"white-space:pre;overflow-x:auto;line-height:normal;font-family:Menlo,'DejaVu Sans Mono',consolas,'Courier New',monospace\"></pre>\n"
      ],
      "text/plain": []
     },
     "metadata": {},
     "output_type": "display_data"
    },
    {
     "data": {
      "text/html": [
       "<div>\n",
       "<style scoped>\n",
       "    .dataframe tbody tr th:only-of-type {\n",
       "        vertical-align: middle;\n",
       "    }\n",
       "\n",
       "    .dataframe tbody tr th {\n",
       "        vertical-align: top;\n",
       "    }\n",
       "\n",
       "    .dataframe thead th {\n",
       "        text-align: right;\n",
       "    }\n",
       "</style>\n",
       "<table border=\"1\" class=\"dataframe\">\n",
       "  <thead>\n",
       "    <tr style=\"text-align: right;\">\n",
       "      <th></th>\n",
       "      <th>document</th>\n",
       "      <th>term</th>\n",
       "      <th>tfidf</th>\n",
       "    </tr>\n",
       "  </thead>\n",
       "  <tbody>\n",
       "    <tr>\n",
       "      <th>118</th>\n",
       "      <td>AAPL</td>\n",
       "      <td>apple</td>\n",
       "      <td>0.375355</td>\n",
       "    </tr>\n",
       "    <tr>\n",
       "      <th>15</th>\n",
       "      <td>AAPL</td>\n",
       "      <td>accessory</td>\n",
       "      <td>0.301989</td>\n",
       "    </tr>\n",
       "    <tr>\n",
       "      <th>1652</th>\n",
       "      <td>AAPL</td>\n",
       "      <td>september</td>\n",
       "      <td>0.207151</td>\n",
       "    </tr>\n",
       "    <tr>\n",
       "      <th>1082</th>\n",
       "      <td>AAPL</td>\n",
       "      <td>marketable</td>\n",
       "      <td>0.164501</td>\n",
       "    </tr>\n",
       "    <tr>\n",
       "      <th>806</th>\n",
       "      <td>AAPL</td>\n",
       "      <td>gross</td>\n",
       "      <td>0.154029</td>\n",
       "    </tr>\n",
       "    <tr>\n",
       "      <th>...</th>\n",
       "      <td>...</td>\n",
       "      <td>...</td>\n",
       "      <td>...</td>\n",
       "    </tr>\n",
       "    <tr>\n",
       "      <th>174979</th>\n",
       "      <td>WMT</td>\n",
       "      <td>january</td>\n",
       "      <td>0.140389</td>\n",
       "    </tr>\n",
       "    <tr>\n",
       "      <th>175639</th>\n",
       "      <td>WMT</td>\n",
       "      <td>segment</td>\n",
       "      <td>0.118282</td>\n",
       "    </tr>\n",
       "    <tr>\n",
       "      <th>174167</th>\n",
       "      <td>WMT</td>\n",
       "      <td>average</td>\n",
       "      <td>0.107986</td>\n",
       "    </tr>\n",
       "    <tr>\n",
       "      <th>174767</th>\n",
       "      <td>WMT</td>\n",
       "      <td>free</td>\n",
       "      <td>0.105298</td>\n",
       "    </tr>\n",
       "    <tr>\n",
       "      <th>174771</th>\n",
       "      <td>WMT</td>\n",
       "      <td>fuel</td>\n",
       "      <td>0.101305</td>\n",
       "    </tr>\n",
       "  </tbody>\n",
       "</table>\n",
       "<p>880 rows × 3 columns</p>\n",
       "</div>"
      ],
      "text/plain": [
       "\n",
       "       document        term     tfidf\n",
       "\u001b[1;36m118\u001b[0m        AAPL       apple  \u001b[1;36m0.375355\u001b[0m\n",
       "\u001b[1;36m15\u001b[0m         AAPL   accessory  \u001b[1;36m0.301989\u001b[0m\n",
       "\u001b[1;36m1652\u001b[0m       AAPL   september  \u001b[1;36m0.207151\u001b[0m\n",
       "\u001b[1;36m1082\u001b[0m       AAPL  marketable  \u001b[1;36m0.164501\u001b[0m\n",
       "\u001b[1;36m806\u001b[0m        AAPL       gross  \u001b[1;36m0.154029\u001b[0m\n",
       "\u001b[33m...\u001b[0m         \u001b[33m...\u001b[0m         \u001b[33m...\u001b[0m       \u001b[33m...\u001b[0m\n",
       "\u001b[1;36m174979\u001b[0m      WMT     january  \u001b[1;36m0.140389\u001b[0m\n",
       "\u001b[1;36m175639\u001b[0m      WMT     segment  \u001b[1;36m0.118282\u001b[0m\n",
       "\u001b[1;36m174167\u001b[0m      WMT     average  \u001b[1;36m0.107986\u001b[0m\n",
       "\u001b[1;36m174767\u001b[0m      WMT        free  \u001b[1;36m0.105298\u001b[0m\n",
       "\u001b[1;36m174771\u001b[0m      WMT        fuel  \u001b[1;36m0.101305\u001b[0m\n",
       "\n",
       "\u001b[1m[\u001b[0m\u001b[1;36m880\u001b[0m rows x \u001b[1;36m3\u001b[0m columns\u001b[1m]\u001b[0m"
      ]
     },
     "execution_count": 13,
     "metadata": {},
     "output_type": "execute_result"
    }
   ],
   "source": [
    "top_tfidf = (\n",
    "    (\n",
    "        tf_idf_df.stack()\n",
    "        .reset_index()\n",
    "        .rename(\n",
    "            columns={\n",
    "                0: \"tfidf\",\n",
    "                \"level_0\": \"document\",\n",
    "                \"level_1\": \"term\",\n",
    "                \"level_2\": \"term\",\n",
    "            }\n",
    "        )\n",
    "    )\n",
    "    .sort_values(by=[\"document\", \"tfidf\"], ascending=[True, False])\n",
    "    .groupby([\"document\"])\n",
    "    .head(10)\n",
    ")\n",
    "\n",
    "top_tfidf"
   ]
  },
  {
   "cell_type": "code",
   "execution_count": 14,
   "metadata": {},
   "outputs": [
    {
     "data": {
      "text/html": [
       "<pre style=\"white-space:pre;overflow-x:auto;line-height:normal;font-family:Menlo,'DejaVu Sans Mono',consolas,'Courier New',monospace\"></pre>\n"
      ],
      "text/plain": []
     },
     "metadata": {},
     "output_type": "display_data"
    },
    {
     "data": {
      "text/html": [
       "\n",
       "<style>\n",
       "  #altair-viz-a1bdf9a21bdc4967bc3dda200b76f549.vega-embed {\n",
       "    width: 100%;\n",
       "    display: flex;\n",
       "  }\n",
       "\n",
       "  #altair-viz-a1bdf9a21bdc4967bc3dda200b76f549.vega-embed details,\n",
       "  #altair-viz-a1bdf9a21bdc4967bc3dda200b76f549.vega-embed details summary {\n",
       "    position: relative;\n",
       "  }\n",
       "</style>\n",
       "<div id=\"altair-viz-a1bdf9a21bdc4967bc3dda200b76f549\"></div>\n",
       "<script type=\"text/javascript\">\n",
       "  var VEGA_DEBUG = (typeof VEGA_DEBUG == \"undefined\") ? {} : VEGA_DEBUG;\n",
       "  (function(spec, embedOpt){\n",
       "    let outputDiv = document.currentScript.previousElementSibling;\n",
       "    if (outputDiv.id !== \"altair-viz-a1bdf9a21bdc4967bc3dda200b76f549\") {\n",
       "      outputDiv = document.getElementById(\"altair-viz-a1bdf9a21bdc4967bc3dda200b76f549\");\n",
       "    }\n",
       "    const paths = {\n",
       "      \"vega\": \"https://cdn.jsdelivr.net/npm/vega@5?noext\",\n",
       "      \"vega-lib\": \"https://cdn.jsdelivr.net/npm/vega-lib?noext\",\n",
       "      \"vega-lite\": \"https://cdn.jsdelivr.net/npm/vega-lite@5.8.0?noext\",\n",
       "      \"vega-embed\": \"https://cdn.jsdelivr.net/npm/vega-embed@6?noext\",\n",
       "    };\n",
       "\n",
       "    function maybeLoadScript(lib, version) {\n",
       "      var key = `${lib.replace(\"-\", \"\")}_version`;\n",
       "      return (VEGA_DEBUG[key] == version) ?\n",
       "        Promise.resolve(paths[lib]) :\n",
       "        new Promise(function(resolve, reject) {\n",
       "          var s = document.createElement('script');\n",
       "          document.getElementsByTagName(\"head\")[0].appendChild(s);\n",
       "          s.async = true;\n",
       "          s.onload = () => {\n",
       "            VEGA_DEBUG[key] = version;\n",
       "            return resolve(paths[lib]);\n",
       "          };\n",
       "          s.onerror = () => reject(`Error loading script: ${paths[lib]}`);\n",
       "          s.src = paths[lib];\n",
       "        });\n",
       "    }\n",
       "\n",
       "    function showError(err) {\n",
       "      outputDiv.innerHTML = `<div class=\"error\" style=\"color:red;\">${err}</div>`;\n",
       "      throw err;\n",
       "    }\n",
       "\n",
       "    function displayChart(vegaEmbed) {\n",
       "      vegaEmbed(outputDiv, spec, embedOpt)\n",
       "        .catch(err => showError(`Javascript Error: ${err.message}<br>This usually means there's a typo in your chart specification. See the javascript console for the full traceback.`));\n",
       "    }\n",
       "\n",
       "    if(typeof define === \"function\" && define.amd) {\n",
       "      requirejs.config({paths});\n",
       "      require([\"vega-embed\"], displayChart, err => showError(`Error loading script: ${err.message}`));\n",
       "    } else {\n",
       "      maybeLoadScript(\"vega\", \"5\")\n",
       "        .then(() => maybeLoadScript(\"vega-lite\", \"5.8.0\"))\n",
       "        .then(() => maybeLoadScript(\"vega-embed\", \"6\"))\n",
       "        .catch(showError)\n",
       "        .then(() => displayChart(vegaEmbed));\n",
       "    }\n",
       "  })({\"config\": {\"view\": {\"continuousWidth\": 300, \"continuousHeight\": 300}}, \"layer\": [{\"mark\": {\"type\": \"rect\"}, \"encoding\": {\"color\": {\"field\": \"tfidf\", \"type\": \"quantitative\"}, \"x\": {\"field\": \"rank\", \"type\": \"ordinal\"}, \"y\": {\"field\": \"document\", \"type\": \"nominal\"}}, \"transform\": [{\"window\": [{\"op\": \"rank\", \"field\": \"\", \"as\": \"rank\"}], \"groupby\": [\"document\"], \"sort\": [{\"field\": \"tfidf\", \"order\": \"descending\"}]}]}, {\"mark\": {\"type\": \"text\", \"baseline\": \"middle\"}, \"encoding\": {\"color\": {\"condition\": {\"test\": \"(datum.tfidf >= 0.23)\", \"value\": \"white\"}, \"value\": \"black\"}, \"text\": {\"field\": \"term\", \"type\": \"nominal\"}, \"x\": {\"field\": \"rank\", \"type\": \"ordinal\"}, \"y\": {\"field\": \"document\", \"type\": \"nominal\"}}, \"transform\": [{\"window\": [{\"op\": \"rank\", \"field\": \"\", \"as\": \"rank\"}], \"groupby\": [\"document\"], \"sort\": [{\"field\": \"tfidf\", \"order\": \"descending\"}]}]}], \"data\": {\"name\": \"data-1b2a93b1edef4468c1f88ab44aaea99b\"}, \"width\": 1000, \"$schema\": \"https://vega.github.io/schema/vega-lite/v5.8.0.json\", \"datasets\": {\"data-1b2a93b1edef4468c1f88ab44aaea99b\": [{\"document\": \"AAPL\", \"term\": \"apple\", \"tfidf\": 0.37543465351584554}, {\"document\": \"AAPL\", \"term\": \"accessory\", \"tfidf\": 0.3020479584489343}, {\"document\": \"AAPL\", \"term\": \"september\", \"tfidf\": 0.20724226016137584}, {\"document\": \"AAPL\", \"term\": \"marketable\", \"tfidf\": 0.1645237423246883}, {\"document\": \"AAPL\", \"term\": \"gross\", \"tfidf\": 0.15409920728638551}, {\"document\": \"AAPL\", \"term\": \"margin\", \"tfidf\": 0.14727192791649535}, {\"document\": \"AAPL\", \"term\": \"dollar\", \"tfidf\": 0.14540878225165335}, {\"document\": \"AAPL\", \"term\": \"home\", \"tfidf\": 0.14463472871483776}, {\"document\": \"AAPL\", \"term\": \"pacific\", \"tfidf\": 0.14006122121247602}, {\"document\": \"AAPL\", \"term\": \"dividend\", \"tfidf\": 0.13655959272385051}, {\"document\": \"ABBV\", \"term\": \"nm\", \"tfidf\": 0.8706576563260584}, {\"document\": \"ABBV\", \"term\": \"patient\", \"tfidf\": 0.18022494589394036}, {\"document\": \"ABBV\", \"term\": \"rebate\", \"tfidf\": 0.10919506287069915}, {\"document\": \"ABBV\", \"term\": \"treatment\", \"tfidf\": 0.10390597717809162}, {\"document\": \"ABBV\", \"term\": \"united\", \"tfidf\": 0.09746182215671624}, {\"document\": \"ABBV\", \"term\": \"endpoint\", \"tfidf\": 0.09733658191808026}, {\"document\": \"ABBV\", \"term\": \"fda\", \"tfidf\": 0.09262701959388521}, {\"document\": \"ABBV\", \"term\": \"international\", \"tfidf\": 0.07877019304416641}, {\"document\": \"ABBV\", \"term\": \"december\", \"tfidf\": 0.07805367684475903}, {\"document\": \"ABBV\", \"term\": \"therapeutic\", \"tfidf\": 0.0677790258465353}, {\"document\": \"ABT\", \"term\": \"percent\", \"tfidf\": 0.3186874378518606}, {\"document\": \"ABT\", \"term\": \"diagnostics\", \"tfidf\": 0.30154825792165596}, {\"document\": \"ABT\", \"term\": \"table_endtable_start\", \"tfidf\": 0.2886964622512248}, {\"document\": \"ABT\", \"term\": \"heart\", \"tfidf\": 0.2274736125705465}, {\"document\": \"ABT\", \"term\": \"diagnostic\", \"tfidf\": 0.22592718550352656}, {\"document\": \"ABT\", \"term\": \"device\", \"tfidf\": 0.22221897257861004}, {\"document\": \"ABT\", \"term\": \"medical\", \"tfidf\": 0.21328646340909432}, {\"document\": \"ABT\", \"term\": \"ce\", \"tfidf\": 0.19454150956555996}, {\"document\": \"ABT\", \"term\": \"mark\", \"tfidf\": 0.17170511818430859}, {\"document\": \"ABT\", \"term\": \"pharmaceutical\", \"tfidf\": 0.1505998042956036}, {\"document\": \"ACN\", \"term\": \"fiscal\", \"tfidf\": 0.5989750798575556}, {\"document\": \"ACN\", \"term\": \"booking\", \"tfidf\": 0.2929834777505139}, {\"document\": \"ACN\", \"term\": \"currency\", \"tfidf\": 0.2488288107908853}, {\"document\": \"ACN\", \"term\": \"client\", \"tfidf\": 0.245066527598696}, {\"document\": \"ACN\", \"term\": \"consulting\", \"tfidf\": 0.20608778495235572}, {\"document\": \"ACN\", \"term\": \"supplementary\", \"tfidf\": 0.17224606625913483}, {\"document\": \"ACN\", \"term\": \"outsourcing\", \"tfidf\": 0.16487671824978864}, {\"document\": \"ACN\", \"term\": \"geographic\", \"tfidf\": 0.15498865111272417}, {\"document\": \"ACN\", \"term\": \"contract\", \"tfidf\": 0.146498915477145}, {\"document\": \"ACN\", \"term\": \"local\", \"tfidf\": 0.13329409420342483}, {\"document\": \"ADBE\", \"term\": \"cloud\", \"tfidf\": 0.424182672607064}, {\"document\": \"ADBE\", \"term\": \"fiscal\", \"tfidf\": 0.4187954469290884}, {\"document\": \"ADBE\", \"term\": \"creative\", \"tfidf\": 0.3921148114368516}, {\"document\": \"ADBE\", \"term\": \"digital\", \"tfidf\": 0.2871505197326588}, {\"document\": \"ADBE\", \"term\": \"subscription\", \"tfidf\": 0.216994114857671}, {\"document\": \"ADBE\", \"term\": \"document\", \"tfidf\": 0.20589634316752603}, {\"document\": \"ADBE\", \"term\": \"medium\", \"tfidf\": 0.19155919161689983}, {\"document\": \"ADBE\", \"term\": \"offering\", \"tfidf\": 0.1568328911645098}, {\"document\": \"ADBE\", \"term\": \"november\", \"tfidf\": 0.14534244152121692}, {\"document\": \"ADBE\", \"term\": \"experience\", \"tfidf\": 0.1301737842963394}, {\"document\": \"ADI\", \"term\": \"fiscal\", \"tfidf\": 0.6350429617589184}, {\"document\": \"ADI\", \"term\": \"asu\", \"tfidf\": 0.21984165129752625}, {\"document\": \"ADI\", \"term\": \"contained\", \"tfidf\": 0.1943062860340358}, {\"document\": \"ADI\", \"term\": \"restated\", \"tfidf\": 0.14722272647121099}, {\"document\": \"ADI\", \"term\": \"reporting\", \"tfidf\": 0.14246700606638416}, {\"document\": \"ADI\", \"term\": \"distributor\", \"tfidf\": 0.1409065037121276}, {\"document\": \"ADI\", \"term\": \"unit\", \"tfidf\": 0.14029971602972618}, {\"document\": \"ADI\", \"term\": \"fair\", \"tfidf\": 0.1224450893890214}, {\"document\": \"ADI\", \"term\": \"annual\", \"tfidf\": 0.1186760893908263}, {\"document\": \"ADI\", \"term\": \"end\", \"tfidf\": 0.1135245525656888}, {\"document\": \"ADP\", \"term\": \"client\", \"tfidf\": 0.6757447295158028}, {\"document\": \"ADP\", \"term\": \"fiscal\", \"tfidf\": 0.3592946788681234}, {\"document\": \"ADP\", \"term\": \"transformation\", \"tfidf\": 0.20919772628928682}, {\"document\": \"ADP\", \"term\": \"june\", \"tfidf\": 0.17759679752247792}, {\"document\": \"ADP\", \"term\": \"adjusted\", \"tfidf\": 0.16012336295239513}, {\"document\": \"ADP\", \"term\": \"indemnity\", \"tfidf\": 0.15198868356821152}, {\"document\": \"ADP\", \"term\": \"employer\", \"tfidf\": 0.1477665702865944}, {\"document\": \"ADP\", \"term\": \"availableforsale\", \"tfidf\": 0.11840583298209298}, {\"document\": \"ADP\", \"term\": \"initiative\", \"tfidf\": 0.11544492158152983}, {\"document\": \"ADP\", \"term\": \"associate\", \"tfidf\": 0.09159502859457776}, {\"document\": \"AMAT\", \"term\": \"applied\", \"tfidf\": 0.7144320150048485}, {\"document\": \"AMAT\", \"term\": \"fiscal\", \"tfidf\": 0.3949023311661024}, {\"document\": \"AMAT\", \"term\": \"semiconductor\", \"tfidf\": 0.269894363393992}, {\"document\": \"AMAT\", \"term\": \"display\", \"tfidf\": 0.22918505441401799}, {\"document\": \"AMAT\", \"term\": \"nongaap\", \"tfidf\": 0.1291517309263726}, {\"document\": \"AMAT\", \"term\": \"adjacent\", \"tfidf\": 0.10589072216873117}, {\"document\": \"AMAT\", \"term\": \"equipment\", \"tfidf\": 0.09000829492902883}, {\"document\": \"AMAT\", \"term\": \"adjusted\", \"tfidf\": 0.08783930869736453}, {\"document\": \"AMAT\", \"term\": \"manufacturing\", \"tfidf\": 0.0838045673588845}, {\"document\": \"AMAT\", \"term\": \"segment\", \"tfidf\": 0.0806691772254282}, {\"document\": \"AMD\", \"term\": \"processor\", \"tfidf\": 0.6517901587143943}, {\"document\": \"AMD\", \"term\": \"embedded\", \"tfidf\": 0.2136232794976183}, {\"document\": \"AMD\", \"term\": \"desktop\", \"tfidf\": 0.16373543180630193}, {\"document\": \"AMD\", \"term\": \"computing\", \"tfidf\": 0.16289186585046195}, {\"document\": \"AMD\", \"term\": \"pro\", \"tfidf\": 0.1433565853108652}, {\"document\": \"AMD\", \"term\": \"oem\", \"tfidf\": 0.1394666177334692}, {\"document\": \"AMD\", \"term\": \"family\", \"tfidf\": 0.128271639990509}, {\"document\": \"AMD\", \"term\": \"allowance\", \"tfidf\": 0.1248792292853075}, {\"document\": \"AMD\", \"term\": \"introduced\", \"tfidf\": 0.12394690643017983}, {\"document\": \"AMD\", \"term\": \"december\", \"tfidf\": 0.11533837092880823}, {\"document\": \"AMGN\", \"term\": \"december\", \"tfidf\": 0.31287774722193723}, {\"document\": \"AMGN\", \"term\": \"patient\", \"tfidf\": 0.22655230320235067}, {\"document\": \"AMGN\", \"term\": \"biosimilar\", \"tfidf\": 0.19579703237012136}, {\"document\": \"AMGN\", \"term\": \"iv\", \"tfidf\": 0.19379427697313686}, {\"document\": \"AMGN\", \"term\": \"wholesaler\", \"tfidf\": 0.19362438518261788}, {\"document\": \"AMGN\", \"term\": \"ended\", \"tfidf\": 0.19143144369197299}, {\"document\": \"AMGN\", \"term\": \"marketed\", \"tfidf\": 0.17239412550973768}, {\"document\": \"AMGN\", \"term\": \"deduction\", \"tfidf\": 0.15525895854147834}, {\"document\": \"AMGN\", \"term\": \"clinical\", \"tfidf\": 0.14024911836309165}, {\"document\": \"AMGN\", \"term\": \"see\", \"tfidf\": 0.13700957523821253}, {\"document\": \"AMZN\", \"term\": \"fulfillment\", \"tfidf\": 0.45962983208014196}, {\"document\": \"AMZN\", \"term\": \"content\", \"tfidf\": 0.2611845530040408}, {\"document\": \"AMZN\", \"term\": \"free\", \"tfidf\": 0.21109622905648356}, {\"document\": \"AMZN\", \"term\": \"shipping\", \"tfidf\": 0.2072354103457832}, {\"document\": \"AMZN\", \"term\": \"finance\", \"tfidf\": 0.200311301730164}, {\"document\": \"AMZN\", \"term\": \"technology\", \"tfidf\": 0.14706155285229938}, {\"document\": \"AMZN\", \"term\": \"exchange\", \"tfidf\": 0.1293236414368771}, {\"document\": \"AMZN\", \"term\": \"equipment\", \"tfidf\": 0.12543214057392674}, {\"document\": \"AMZN\", \"term\": \"repayment\", \"tfidf\": 0.12420968950069251}, {\"document\": \"AMZN\", \"term\": \"december\", \"tfidf\": 0.12390007297962076}, {\"document\": \"AVGO\", \"term\": \"fiscal\", \"tfidf\": 0.541700347534684}, {\"document\": \"AVGO\", \"term\": \"november\", \"tfidf\": 0.3137710331816946}, {\"document\": \"AVGO\", \"term\": \"semiconductor\", \"tfidf\": 0.2888593376743842}, {\"document\": \"AVGO\", \"term\": \"ca\", \"tfidf\": 0.25457967308206636}, {\"document\": \"AVGO\", \"term\": \"acquisitionrelated\", \"tfidf\": 0.1592550865628198}, {\"document\": \"AVGO\", \"term\": \"solution\", \"tfidf\": 0.14797450475777985}, {\"document\": \"AVGO\", \"term\": \"stockbased\", \"tfidf\": 0.14332353797808678}, {\"document\": \"AVGO\", \"term\": \"merger\", \"tfidf\": 0.1314213892101722}, {\"document\": \"AVGO\", \"term\": \"software\", \"tfidf\": 0.11399808796264098}, {\"document\": \"AVGO\", \"term\": \"restructuring\", \"tfidf\": 0.10411791902630947}, {\"document\": \"AXP\", \"term\": \"card\", \"tfidf\": 0.7001681658517634}, {\"document\": \"AXP\", \"term\": \"member\", \"tfidf\": 0.3519926085897893}, {\"document\": \"AXP\", \"term\": \"risk\", \"tfidf\": 0.23144142768491255}, {\"document\": \"AXP\", \"term\": \"reward\", \"tfidf\": 0.17011830874193629}, {\"document\": \"AXP\", \"term\": \"merchant\", \"tfidf\": 0.16937742711705472}, {\"document\": \"AXP\", \"term\": \"loan\", \"tfidf\": 0.1455460580919686}, {\"document\": \"AXP\", \"term\": \"express\", \"tfidf\": 0.13292214748999653}, {\"document\": \"AXP\", \"term\": \"american\", \"tfidf\": 0.12600356915693164}, {\"document\": \"AXP\", \"term\": \"billed\", \"tfidf\": 0.11728353197402587}, {\"document\": \"AXP\", \"term\": \"fee\", \"tfidf\": 0.08919190299167452}, {\"document\": \"BA\", \"term\": \"aircraft\", \"tfidf\": 0.5800222483116536}, {\"document\": \"BA\", \"term\": \"max\", \"tfidf\": 0.4531224303214414}, {\"document\": \"BA\", \"term\": \"production\", \"tfidf\": 0.2234833562685625}, {\"document\": \"BA\", \"term\": \"delivery\", \"tfidf\": 0.20464177896816307}, {\"document\": \"BA\", \"term\": \"backlog\", \"tfidf\": 0.17405017770111192}, {\"document\": \"BA\", \"term\": \"quantity\", \"tfidf\": 0.17329237922166887}, {\"document\": \"BA\", \"term\": \"commercial\", \"tfidf\": 0.16798083422758062}, {\"document\": \"BA\", \"term\": \"december\", \"tfidf\": 0.13719516893794886}, {\"document\": \"BA\", \"term\": \"airline\", \"tfidf\": 0.12349187991503001}, {\"document\": \"BA\", \"term\": \"contract\", \"tfidf\": 0.11727790349380712}, {\"document\": \"BAC\", \"term\": \"loan\", \"tfidf\": 0.4382426637819838}, {\"document\": \"BAC\", \"term\": \"risk\", \"tfidf\": 0.3253461956560434}, {\"document\": \"BAC\", \"term\": \"nonperforming\", \"tfidf\": 0.2111075658862407}, {\"document\": \"BAC\", \"term\": \"corporation\", \"tfidf\": 0.20610690015449665}, {\"document\": \"BAC\", \"term\": \"banking\", \"tfidf\": 0.19621544738827232}, {\"document\": \"BAC\", \"term\": \"commercial\", \"tfidf\": 0.17349048162462335}, {\"document\": \"BAC\", \"term\": \"consumer\", \"tfidf\": 0.16927511743635504}, {\"document\": \"BAC\", \"term\": \"percent\", \"tfidf\": 0.16364318610928244}, {\"document\": \"BAC\", \"term\": \"december\", \"tfidf\": 0.16084821866876803}, {\"document\": \"BAC\", \"term\": \"mortgage\", \"tfidf\": 0.15933442566057077}, {\"document\": \"BKNG\", \"term\": \"booking\", \"tfidf\": 0.42983089592693985}, {\"document\": \"BKNG\", \"term\": \"travel\", \"tfidf\": 0.3677934871231009}, {\"document\": \"BKNG\", \"term\": \"december\", \"tfidf\": 0.30367336538055545}, {\"document\": \"BKNG\", \"term\": \"ended\", \"tfidf\": 0.2277274864090793}, {\"document\": \"BKNG\", \"term\": \"pandemic\", \"tfidf\": 0.20147921049065853}, {\"document\": \"BKNG\", \"term\": \"room\", \"tfidf\": 0.20081655285439332}, {\"document\": \"BKNG\", \"term\": \"merchant\", \"tfidf\": 0.1791922470314823}, {\"document\": \"BKNG\", \"term\": \"restaurant\", \"tfidf\": 0.17860491527470831}, {\"document\": \"BKNG\", \"term\": \"online\", \"tfidf\": 0.16047040888262293}, {\"document\": \"BKNG\", \"term\": \"consumer\", \"tfidf\": 0.1486267434859604}, {\"document\": \"BLK\", \"term\": \"advisory\", \"tfidf\": 0.37177693761092073}, {\"document\": \"BLK\", \"term\": \"client\", \"tfidf\": 0.27972923620850587}, {\"document\": \"BLK\", \"term\": \"sponsored\", \"tfidf\": 0.27377649488216793}, {\"document\": \"BLK\", \"term\": \"fee\", \"tfidf\": 0.2420750478282011}, {\"document\": \"BLK\", \"term\": \"subtotal\", \"tfidf\": 0.23598867205577}, {\"document\": \"BLK\", \"term\": \"december\", \"tfidf\": 0.20656319867827502}, {\"document\": \"BLK\", \"term\": \"charitable\", \"tfidf\": 0.18204514414184472}, {\"document\": \"BLK\", \"term\": \"lending\", \"tfidf\": 0.17878083083889584}, {\"document\": \"BLK\", \"term\": \"alternative\", \"tfidf\": 0.17375363445328337}, {\"document\": \"BLK\", \"term\": \"nonoperating\", \"tfidf\": 0.1686679459633371}, {\"document\": \"BMY\", \"term\": \"patient\", \"tfidf\": 0.49463618508584145}, {\"document\": \"BMY\", \"term\": \"treatment\", \"tfidf\": 0.2585813766737951}, {\"document\": \"BMY\", \"term\": \"adult\", \"tfidf\": 0.22083638470841}, {\"document\": \"BMY\", \"term\": \"fda\", \"tfidf\": 0.1986693065857103}, {\"document\": \"BMY\", \"term\": \"therapy\", \"tfidf\": 0.1894356343681619}, {\"document\": \"BMY\", \"term\": \"approval\", \"tfidf\": 0.1683931526764072}, {\"document\": \"BMY\", \"term\": \"phase\", \"tfidf\": 0.1660522068009118}, {\"document\": \"BMY\", \"term\": \"tumor\", \"tfidf\": 0.15092464629463442}, {\"document\": \"BMY\", \"term\": \"announced\", \"tfidf\": 0.15062497067159003}, {\"document\": \"BMY\", \"term\": \"endpoint\", \"tfidf\": 0.1449963323840115}, {\"document\": \"BRK-B\", \"term\": \"reinsurance\", \"tfidf\": 0.36751640528239843}, {\"document\": \"BRK-B\", \"term\": \"underwriting\", \"tfidf\": 0.32737021607057365}, {\"document\": \"BRK-B\", \"term\": \"pretax\", \"tfidf\": 0.24686811174336573}, {\"document\": \"BRK-B\", \"term\": \"attributable\", \"tfidf\": 0.19068826772444408}, {\"document\": \"BRK-B\", \"term\": \"claim\", \"tfidf\": 0.179499929303711}, {\"document\": \"BRK-B\", \"term\": \"volume\", \"tfidf\": 0.16641319215699146}, {\"document\": \"BRK-B\", \"term\": \"aftertax\", \"tfidf\": 0.16632730066894535}, {\"document\": \"BRK-B\", \"term\": \"partly\", \"tfidf\": 0.16624370423874643}, {\"document\": \"BRK-B\", \"term\": \"insurance\", \"tfidf\": 0.16356754321383993}, {\"document\": \"BRK-B\", \"term\": \"contract\", \"tfidf\": 0.1607883773854005}, {\"document\": \"BSX\", \"term\": \"charge\", \"tfidf\": 0.23970411619545054}, {\"document\": \"BSX\", \"term\": \"percent\", \"tfidf\": 0.23420561523063327}, {\"document\": \"BSX\", \"term\": \"impairment\", \"tfidf\": 0.1612489866933521}, {\"document\": \"BSX\", \"term\": \"reporting\", \"tfidf\": 0.15948596952340943}, {\"document\": \"BSX\", \"term\": \"supplementary\", \"tfidf\": 0.1579898349527855}, {\"document\": \"BSX\", \"term\": \"device\", \"tfidf\": 0.14409611072816528}, {\"document\": \"BSX\", \"term\": \"annual\", \"tfidf\": 0.14206195478158593}, {\"document\": \"BSX\", \"term\": \"procedure\", \"tfidf\": 0.13761114554956771}, {\"document\": \"BSX\", \"term\": \"measure\", \"tfidf\": 0.13699138102256517}, {\"document\": \"BSX\", \"term\": \"goodwill\", \"tfidf\": 0.13652708815448247}, {\"document\": \"BX\", \"term\": \"fee\", \"tfidf\": 0.3110356269350291}, {\"document\": \"BX\", \"term\": \"december\", \"tfidf\": 0.30445607225731186}, {\"document\": \"BX\", \"term\": \"segment\", \"tfidf\": 0.26717072387762425}, {\"document\": \"BX\", \"term\": \"ended\", \"tfidf\": 0.23239035068594244}, {\"document\": \"BX\", \"term\": \"estate\", \"tfidf\": 0.22611656152808882}, {\"document\": \"BX\", \"term\": \"na\", \"tfidf\": 0.2174951728253792}, {\"document\": \"BX\", \"term\": \"real\", \"tfidf\": 0.20563672502007355}, {\"document\": \"BX\", \"term\": \"private\", \"tfidf\": 0.18664992003171388}, {\"document\": \"BX\", \"term\": \"realized\", \"tfidf\": 0.17859676028875576}, {\"document\": \"BX\", \"term\": \"composite\", \"tfidf\": 0.16435880231175817}, {\"document\": \"CAT\", \"term\": \"dealer\", \"tfidf\": 0.39479348536405584}, {\"document\": \"CAT\", \"term\": \"transportation\", \"tfidf\": 0.2837035410973559}, {\"document\": \"CAT\", \"term\": \"percent\", \"tfidf\": 0.27121585808700854}, {\"document\": \"CAT\", \"term\": \"profit\", \"tfidf\": 0.25544340320349035}, {\"document\": \"CAT\", \"term\": \"energy\", \"tfidf\": 0.250758336716159}, {\"document\": \"CAT\", \"term\": \"segment\", \"tfidf\": 0.22705013390936996}, {\"document\": \"CAT\", \"term\": \"fourth\", \"tfidf\": 0.19585922187290727}, {\"document\": \"CAT\", \"term\": \"elimination\", \"tfidf\": 0.18113485414401814}, {\"document\": \"CAT\", \"term\": \"inventory\", \"tfidf\": 0.1660123418441876}, {\"document\": \"CAT\", \"term\": \"enduser\", \"tfidf\": 0.16089424464432903}, {\"document\": \"CB\", \"term\": \"reinsurance\", \"tfidf\": 0.5739490088926802}, {\"document\": \"CB\", \"term\": \"catastrophe\", \"tfidf\": 0.3786742329270538}, {\"document\": \"CB\", \"term\": \"ratio\", \"tfidf\": 0.2677014555892132}, {\"document\": \"CB\", \"term\": \"premium\", \"tfidf\": 0.243367302081123}, {\"document\": \"CB\", \"term\": \"insurance\", \"tfidf\": 0.22578980382740546}, {\"document\": \"CB\", \"term\": \"percent\", \"tfidf\": 0.15188136663205437}, {\"document\": \"CB\", \"term\": \"reserve\", \"tfidf\": 0.14024141800902398}, {\"document\": \"CB\", \"term\": \"claim\", \"tfidf\": 0.12229583974877327}, {\"document\": \"CB\", \"term\": \"underwriting\", \"tfidf\": 0.11273326881889333}, {\"document\": \"CB\", \"term\": \"north\", \"tfidf\": 0.10672170722768258}, {\"document\": \"CI\", \"term\": \"medical\", \"tfidf\": 0.26990579504822526}, {\"document\": \"CI\", \"term\": \"client\", \"tfidf\": 0.25478264628637465}, {\"document\": \"CI\", \"term\": \"disability\", \"tfidf\": 0.2504527953110588}, {\"document\": \"CI\", \"term\": \"adjusted\", \"tfidf\": 0.25038906921684395}, {\"document\": \"CI\", \"term\": \"pharmacy\", \"tfidf\": 0.22854637219239166}, {\"document\": \"CI\", \"term\": \"december\", \"tfidf\": 0.206735893667361}, {\"document\": \"CI\", \"term\": \"segment\", \"tfidf\": 0.18878552670006993}, {\"document\": \"CI\", \"term\": \"nm\", \"tfidf\": 0.18282712109176058}, {\"document\": \"CI\", \"term\": \"bps\", \"tfidf\": 0.17826650403749725}, {\"document\": \"CI\", \"term\": \"claim\", \"tfidf\": 0.152106940422559}, {\"document\": \"CMCSA\", \"term\": \"cable\", \"tfidf\": 0.5206552692068925}, {\"document\": \"CMCSA\", \"term\": \"programming\", \"tfidf\": 0.3525898855379543}, {\"document\": \"CMCSA\", \"term\": \"ebitda\", \"tfidf\": 0.24521426433288615}, {\"document\": \"CMCSA\", \"term\": \"television\", \"tfidf\": 0.21297480283025155}, {\"document\": \"CMCSA\", \"term\": \"content\", \"tfidf\": 0.19284489337850208}, {\"document\": \"CMCSA\", \"term\": \"advertising\", \"tfidf\": 0.1903086561507045}, {\"document\": \"CMCSA\", \"term\": \"video\", \"tfidf\": 0.1819850997458429}, {\"document\": \"CMCSA\", \"term\": \"network\", \"tfidf\": 0.16997403220134577}, {\"document\": \"CMCSA\", \"term\": \"residential\", \"tfidf\": 0.14562384744721538}, {\"document\": \"CMCSA\", \"term\": \"sport\", \"tfidf\": 0.14330194754272424}, {\"document\": \"COP\", \"term\": \"oil\", \"tfidf\": 0.44005030449879323}, {\"document\": \"COP\", \"term\": \"production\", \"tfidf\": 0.39307083114168195}, {\"document\": \"COP\", \"term\": \"gas\", \"tfidf\": 0.38334487163489955}, {\"document\": \"COP\", \"term\": \"emission\", \"tfidf\": 0.20020345293115685}, {\"document\": \"COP\", \"term\": \"natural\", \"tfidf\": 0.18113339881547996}, {\"document\": \"COP\", \"term\": \"curtailment\", \"tfidf\": 0.17403233172561478}, {\"document\": \"COP\", \"term\": \"reserve\", \"tfidf\": 0.15633515472267634}, {\"document\": \"COP\", \"term\": \"field\", \"tfidf\": 0.15374139506965892}, {\"document\": \"COP\", \"term\": \"percent\", \"tfidf\": 0.1335268341536262}, {\"document\": \"COP\", \"term\": \"north\", \"tfidf\": 0.11373720506924817}, {\"document\": \"COST\", \"term\": \"warehouse\", \"tfidf\": 0.5851503791788835}, {\"document\": \"COST\", \"term\": \"membership\", \"tfidf\": 0.33164204937270947}, {\"document\": \"COST\", \"term\": \"merchandise\", \"tfidf\": 0.31590411788670913}, {\"document\": \"COST\", \"term\": \"food\", \"tfidf\": 0.19426058729604376}, {\"document\": \"COST\", \"term\": \"sg\", \"tfidf\": 0.17509342833234914}, {\"document\": \"COST\", \"term\": \"gross\", \"tfidf\": 0.15118908342345305}, {\"document\": \"COST\", \"term\": \"margin\", \"tfidf\": 0.1502790065819129}, {\"document\": \"COST\", \"term\": \"impacted\", \"tfidf\": 0.13593118359400116}, {\"document\": \"COST\", \"term\": \"ecommerce\", \"tfidf\": 0.13523453588276965}, {\"document\": \"COST\", \"term\": \"point\", \"tfidf\": 0.13285151967970063}, {\"document\": \"CRM\", \"term\": \"fiscal\", \"tfidf\": 0.5064106467021765}, {\"document\": \"CRM\", \"term\": \"subscription\", \"tfidf\": 0.319235709672963}, {\"document\": \"CRM\", \"term\": \"cloud\", \"tfidf\": 0.23545933139936928}, {\"document\": \"CRM\", \"term\": \"percent\", \"tfidf\": 0.1877892343465678}, {\"document\": \"CRM\", \"term\": \"ssp\", \"tfidf\": 0.17464983021602332}, {\"document\": \"CRM\", \"term\": \"january\", \"tfidf\": 0.17040598948026098}, {\"document\": \"CRM\", \"term\": \"content\", \"tfidf\": 0.15333990117674173}, {\"document\": \"CRM\", \"term\": \"professional\", \"tfidf\": 0.13997657085190635}, {\"document\": \"CRM\", \"term\": \"attrition\", \"tfidf\": 0.12562033443738707}, {\"document\": \"CRM\", \"term\": \"contract\", \"tfidf\": 0.11810301281738281}, {\"document\": \"CSCO\", \"term\": \"july\", \"tfidf\": 0.5067850647656477}, {\"document\": \"CSCO\", \"term\": \"fiscal\", \"tfidf\": 0.34991612500179653}, {\"document\": \"CSCO\", \"term\": \"segment\", \"tfidf\": 0.1531050040902885}, {\"document\": \"CSCO\", \"term\": \"emea\", \"tfidf\": 0.15233424322881103}, {\"document\": \"CSCO\", \"term\": \"variance\", \"tfidf\": 0.1483319011098187}, {\"document\": \"CSCO\", \"term\": \"gross\", \"tfidf\": 0.14197544510078447}, {\"document\": \"CSCO\", \"term\": \"margin\", \"tfidf\": 0.14019619552167079}, {\"document\": \"CSCO\", \"term\": \"contract\", \"tfidf\": 0.11182636884389635}, {\"document\": \"CSCO\", \"term\": \"software\", \"tfidf\": 0.11046027041343395}, {\"document\": \"CSCO\", \"term\": \"partner\", \"tfidf\": 0.1091066390302076}, {\"document\": \"CVS\", \"term\": \"pharmacy\", \"tfidf\": 0.5518560097020081}, {\"document\": \"CVS\", \"term\": \"prescription\", \"tfidf\": 0.3302603398591393}, {\"document\": \"CVS\", \"term\": \"care\", \"tfidf\": 0.25264054889297133}, {\"document\": \"CVS\", \"term\": \"segment\", \"tfidf\": 0.2343229974039716}, {\"document\": \"CVS\", \"term\": \"health\", \"tfidf\": 0.2023408364375558}, {\"document\": \"CVS\", \"term\": \"store\", \"tfidf\": 0.18035069052582212}, {\"document\": \"CVS\", \"term\": \"retail\", \"tfidf\": 0.14306961015891928}, {\"document\": \"CVS\", \"term\": \"drug\", \"tfidf\": 0.13503082019673454}, {\"document\": \"CVS\", \"term\": \"medicare\", \"tfidf\": 0.13047201707992115}, {\"document\": \"CVS\", \"term\": \"membership\", \"tfidf\": 0.1258875779409954}, {\"document\": \"DHR\", \"term\": \"core\", \"tfidf\": 0.3534176896391694}, {\"document\": \"DHR\", \"term\": \"yearoveryear\", \"tfidf\": 0.29612705237011705}, {\"document\": \"DHR\", \"term\": \"december\", \"tfidf\": 0.19529479883690362}, {\"document\": \"DHR\", \"term\": \"refer\", \"tfidf\": 0.1774923446448887}, {\"document\": \"DHR\", \"term\": \"demand\", \"tfidf\": 0.17282871172003092}, {\"document\": \"DHR\", \"term\": \"profit\", \"tfidf\": 0.1542263961871213}, {\"document\": \"DHR\", \"term\": \"currency\", \"tfidf\": 0.1523407014489712}, {\"document\": \"DHR\", \"term\": \"exchange\", \"tfidf\": 0.13255906277544274}, {\"document\": \"DHR\", \"term\": \"risk\", \"tfidf\": 0.1129165957786181}, {\"document\": \"DHR\", \"term\": \"line\", \"tfidf\": 0.1100641812395781}, {\"document\": \"DIS\", \"term\": \"television\", \"tfidf\": 0.36600003845044876}, {\"document\": \"DIS\", \"term\": \"content\", \"tfidf\": 0.322395837798241}, {\"document\": \"DIS\", \"term\": \"programming\", \"tfidf\": 0.28945472889804674}, {\"document\": \"DIS\", \"term\": \"fiscal\", \"tfidf\": 0.24615016171452575}, {\"document\": \"DIS\", \"term\": \"subscriber\", \"tfidf\": 0.24473412415358445}, {\"document\": \"DIS\", \"term\": \"studio\", \"tfidf\": 0.19083689388766478}, {\"document\": \"DIS\", \"term\": \"network\", \"tfidf\": 0.18614479064907558}, {\"document\": \"DIS\", \"term\": \"consolidation\", \"tfidf\": 0.1636854952318609}, {\"document\": \"DIS\", \"term\": \"segment\", \"tfidf\": 0.15662619016298268}, {\"document\": \"DIS\", \"term\": \"medium\", \"tfidf\": 0.15402162256044186}, {\"document\": \"ELV\", \"term\": \"membership\", \"tfidf\": 0.34545737646529584}, {\"document\": \"ELV\", \"term\": \"medical\", \"tfidf\": 0.32210999183055705}, {\"document\": \"ELV\", \"term\": \"medicare\", \"tfidf\": 0.29836755035805856}, {\"document\": \"ELV\", \"term\": \"claim\", \"tfidf\": 0.2867653826139236}, {\"document\": \"ELV\", \"term\": \"member\", \"tfidf\": 0.2724417918063225}, {\"document\": \"ELV\", \"term\": \"december\", \"tfidf\": 0.20828635672468743}, {\"document\": \"ELV\", \"term\": \"health\", \"tfidf\": 0.17633246626922208}, {\"document\": \"ELV\", \"term\": \"healthcare\", \"tfidf\": 0.1523167342754162}, {\"document\": \"ELV\", \"term\": \"medicaid\", \"tfidf\": 0.12451786878627115}, {\"document\": \"ELV\", \"term\": \"care\", \"tfidf\": 0.10970941402662966}, {\"document\": \"GILD\", \"term\": \"nm\", \"tfidf\": 0.458369011745965}, {\"document\": \"GILD\", \"term\": \"ipr\", \"tfidf\": 0.2742341020482162}, {\"document\": \"GILD\", \"term\": \"patient\", \"tfidf\": 0.24045855614656114}, {\"document\": \"GILD\", \"term\": \"europe\", \"tfidf\": 0.22745329190191182}, {\"document\": \"GILD\", \"term\": \"international\", \"tfidf\": 0.16077028821276002}, {\"document\": \"GILD\", \"term\": \"therapy\", \"tfidf\": 0.15588643491156898}, {\"document\": \"GILD\", \"term\": \"rebate\", \"tfidf\": 0.1540420618415252}, {\"document\": \"GILD\", \"term\": \"chargebacks\", \"tfidf\": 0.14383121360182824}, {\"document\": \"GILD\", \"term\": \"clinical\", \"tfidf\": 0.14027274097724557}, {\"document\": \"GILD\", \"term\": \"payer\", \"tfidf\": 0.13936000792060377}, {\"document\": \"GOOGL\", \"term\": \"search\", \"tfidf\": 0.36219294706258887}, {\"document\": \"GOOGL\", \"term\": \"ad\", \"tfidf\": 0.34825447674334437}, {\"document\": \"GOOGL\", \"term\": \"advertiser\", \"tfidf\": 0.2867335509824563}, {\"document\": \"GOOGL\", \"term\": \"advertising\", \"tfidf\": 0.22531773519491552}, {\"document\": \"GOOGL\", \"term\": \"user\", \"tfidf\": 0.18704107167733783}, {\"document\": \"GOOGL\", \"term\": \"property\", \"tfidf\": 0.16369879485066138}, {\"document\": \"GOOGL\", \"term\": \"cloud\", \"tfidf\": 0.1546696061741828}, {\"document\": \"GOOGL\", \"term\": \"network\", \"tfidf\": 0.15018250451123494}, {\"document\": \"GOOGL\", \"term\": \"december\", \"tfidf\": 0.14546739148102622}, {\"document\": \"GOOGL\", \"term\": \"currency\", \"tfidf\": 0.14198336634545888}, {\"document\": \"GS\", \"term\": \"risk\", \"tfidf\": 0.4639874298299217}, {\"document\": \"GS\", \"term\": \"firmwide\", \"tfidf\": 0.2672648868679375}, {\"document\": \"GS\", \"term\": \"client\", \"tfidf\": 0.2573232353527251}, {\"document\": \"GS\", \"term\": \"stress\", \"tfidf\": 0.21428427582774953}, {\"document\": \"GS\", \"term\": \"committee\", \"tfidf\": 0.19931442590214635}, {\"document\": \"GS\", \"term\": \"lending\", \"tfidf\": 0.1835762981028617}, {\"document\": \"GS\", \"term\": \"equity\", \"tfidf\": 0.1773250802703026}, {\"document\": \"GS\", \"term\": \"december\", \"tfidf\": 0.17374922484509375}, {\"document\": \"GS\", \"term\": \"loan\", \"tfidf\": 0.16074531788106147}, {\"document\": \"GS\", \"term\": \"exposure\", \"tfidf\": 0.15553516658516975}, {\"document\": \"HD\", \"term\": \"fiscal\", \"tfidf\": 0.7281672989195646}, {\"document\": \"HD\", \"term\": \"week\", \"tfidf\": 0.27071914244032064}, {\"document\": \"HD\", \"term\": \"table_endtable_start\", \"tfidf\": 0.20422885649340786}, {\"document\": \"HD\", \"term\": \"inventory\", \"tfidf\": 0.20380377767789334}, {\"document\": \"HD\", \"term\": \"store\", \"tfidf\": 0.1827120881377116}, {\"document\": \"HD\", \"term\": \"comparable\", \"tfidf\": 0.17711009918564347}, {\"document\": \"HD\", \"term\": \"retail\", \"tfidf\": 0.1354961255303249}, {\"document\": \"HD\", \"term\": \"square\", \"tfidf\": 0.1333169470437037}, {\"document\": \"HD\", \"term\": \"ticket\", \"tfidf\": 0.12935731773412246}, {\"document\": \"HD\", \"term\": \"roic\", \"tfidf\": 0.11122963652096318}, {\"document\": \"HON\", \"term\": \"organic\", \"tfidf\": 0.21279667074158556}, {\"document\": \"HON\", \"term\": \"productivity\", \"tfidf\": 0.17680640554449606}, {\"document\": \"HON\", \"term\": \"aerospace\", \"tfidf\": 0.17518652495211687}, {\"document\": \"HON\", \"term\": \"technology\", \"tfidf\": 0.1664544697115979}, {\"document\": \"HON\", \"term\": \"adversely\", \"tfidf\": 0.1653188521176024}, {\"document\": \"HON\", \"term\": \"safety\", \"tfidf\": 0.1617077954039548}, {\"document\": \"HON\", \"term\": \"international\", \"tfidf\": 0.15566242642910605}, {\"document\": \"HON\", \"term\": \"demand\", \"tfidf\": 0.15335375511534968}, {\"document\": \"HON\", \"term\": \"inc\", \"tfidf\": 0.1484328843401547}, {\"document\": \"HON\", \"term\": \"bankruptcy\", \"tfidf\": 0.14763698551722312}, {\"document\": \"INTC\", \"term\": \"processor\", \"tfidf\": 0.3834134714037309}, {\"document\": \"INTC\", \"term\": \"platform\", \"tfidf\": 0.2979999336381029}, {\"document\": \"INTC\", \"term\": \"memory\", \"tfidf\": 0.2942858634966414}, {\"document\": \"INTC\", \"term\": \"edge\", \"tfidf\": 0.2071513845187404}, {\"document\": \"INTC\", \"term\": \"cloud\", \"tfidf\": 0.19876932620332735}, {\"document\": \"INTC\", \"term\": \"ai\", \"tfidf\": 0.19625323479911536}, {\"document\": \"INTC\", \"term\": \"technology\", \"tfidf\": 0.17775587777332824}, {\"document\": \"INTC\", \"term\": \"solution\", \"tfidf\": 0.17154641876653232}, {\"document\": \"INTC\", \"term\": \"md\", \"tfidf\": 0.16006568682331826}, {\"document\": \"INTC\", \"term\": \"5g\", \"tfidf\": 0.1458867550423611}, {\"document\": \"INTU\", \"term\": \"fiscal\", \"tfidf\": 0.6084594876151349}, {\"document\": \"INTU\", \"term\": \"desktop\", \"tfidf\": 0.3670151377220568}, {\"document\": \"INTU\", \"term\": \"online\", \"tfidf\": 0.19643334887916428}, {\"document\": \"INTU\", \"term\": \"ecosystem\", \"tfidf\": 0.18994612278504103}, {\"document\": \"INTU\", \"term\": \"segment\", \"tfidf\": 0.14674386907595138}, {\"document\": \"INTU\", \"term\": \"july\", \"tfidf\": 0.1446089566043988}, {\"document\": \"INTU\", \"term\": \"rsus\", \"tfidf\": 0.14164580429706672}, {\"document\": \"INTU\", \"term\": \"content\", \"tfidf\": 0.14048091226993997}, {\"document\": \"INTU\", \"term\": \"payroll\", \"tfidf\": 0.13360087148079894}, {\"document\": \"INTU\", \"term\": \"unsecured\", \"tfidf\": 0.1277271430544769}, {\"document\": \"ISRG\", \"term\": \"procedure\", \"tfidf\": 0.5706336880333935}, {\"document\": \"ISRG\", \"term\": \"surgical\", \"tfidf\": 0.4788704153697904}, {\"document\": \"ISRG\", \"term\": \"system\", \"tfidf\": 0.32328508352772417}, {\"document\": \"ISRG\", \"term\": \"clearance\", \"tfidf\": 0.25312605039584474}, {\"document\": \"ISRG\", \"term\": \"surgery\", \"tfidf\": 0.21385593516788104}, {\"document\": \"ISRG\", \"term\": \"december\", \"tfidf\": 0.16985225076830032}, {\"document\": \"ISRG\", \"term\": \"ended\", \"tfidf\": 0.1299212437364927}, {\"document\": \"ISRG\", \"term\": \"instrument\", \"tfidf\": 0.11260210217538741}, {\"document\": \"ISRG\", \"term\": \"installed\", \"tfidf\": 0.10881905753126477}, {\"document\": \"ISRG\", \"term\": \"patient\", \"tfidf\": 0.09234548927686811}, {\"document\": \"KO\", \"term\": \"beverage\", \"tfidf\": 0.4121528255015377}, {\"document\": \"KO\", \"term\": \"percent\", \"tfidf\": 0.27174028820424717}, {\"document\": \"KO\", \"term\": \"volume\", \"tfidf\": 0.23171591573231254}, {\"document\": \"KO\", \"term\": \"unit\", \"tfidf\": 0.21864888962930065}, {\"document\": \"KO\", \"term\": \"water\", \"tfidf\": 0.20308302942863607}, {\"document\": \"KO\", \"term\": \"case\", \"tfidf\": 0.190692839368365}, {\"document\": \"KO\", \"term\": \"refer\", \"tfidf\": 0.18196719479708762}, {\"document\": \"KO\", \"term\": \"finished\", \"tfidf\": 0.1464803095808524}, {\"document\": \"KO\", \"term\": \"consumer\", \"tfidf\": 0.1330345345329054}, {\"document\": \"KO\", \"term\": \"brand\", \"tfidf\": 0.13025225424121836}, {\"document\": \"LIN\", \"term\": \"gas\", \"tfidf\": 0.2980007203133238}, {\"document\": \"LIN\", \"term\": \"adjusted\", \"tfidf\": 0.2883218115101143}, {\"document\": \"LIN\", \"term\": \"ag\", \"tfidf\": 0.2716326651648543}, {\"document\": \"LIN\", \"term\": \"add\", \"tfidf\": 0.24342572129656026}, {\"document\": \"LIN\", \"term\": \"pension\", \"tfidf\": 0.20656501413412273}, {\"document\": \"LIN\", \"term\": \"profit\", \"tfidf\": 0.20270927911513728}, {\"document\": \"LIN\", \"term\": \"plc\", \"tfidf\": 0.19041680592689758}, {\"document\": \"LIN\", \"term\": \"versus\", \"tfidf\": 0.1889271169719916}, {\"document\": \"LIN\", \"term\": \"continuing\", \"tfidf\": 0.18320186047955536}, {\"document\": \"LIN\", \"term\": \"apac\", \"tfidf\": 0.17648595720437862}, {\"document\": \"LLY\", \"term\": \"phase\", \"tfidf\": 0.39540034381615263}, {\"document\": \"LLY\", \"term\": \"trial\", \"tfidf\": 0.2765736071939255}, {\"document\": \"LLY\", \"term\": \"percent\", \"tfidf\": 0.2582283692276249}, {\"document\": \"LLY\", \"term\": \"patent\", \"tfidf\": 0.2020914332151567}, {\"document\": \"LLY\", \"term\": \"therapy\", \"tfidf\": 0.16837913623541836}, {\"document\": \"LLY\", \"term\": \"iii\", \"tfidf\": 0.16470122944343007}, {\"document\": \"LLY\", \"term\": \"generic\", \"tfidf\": 0.15517716074293694}, {\"document\": \"LLY\", \"term\": \"rebate\", \"tfidf\": 0.14793805519389688}, {\"document\": \"LLY\", \"term\": \"patient\", \"tfidf\": 0.1443242729321282}, {\"document\": \"LLY\", \"term\": \"development\", \"tfidf\": 0.1405526171807426}, {\"document\": \"LMT\", \"term\": \"contract\", \"tfidf\": 0.4377837617339875}, {\"document\": \"LMT\", \"term\": \"pension\", \"tfidf\": 0.28361653701797845}, {\"document\": \"LMT\", \"term\": \"profit\", \"tfidf\": 0.22612665639121735}, {\"document\": \"LMT\", \"term\": \"backlog\", \"tfidf\": 0.19733176868221397}, {\"document\": \"LMT\", \"term\": \"government\", \"tfidf\": 0.19258987328790642}, {\"document\": \"LMT\", \"term\": \"aircraft\", \"tfidf\": 0.17811662603487768}, {\"document\": \"LMT\", \"term\": \"defense\", \"tfidf\": 0.17718059170490233}, {\"document\": \"LMT\", \"term\": \"ca\", \"tfidf\": 0.16554406024380652}, {\"document\": \"LMT\", \"term\": \"booking\", \"tfidf\": 0.16482574349992885}, {\"document\": \"LMT\", \"term\": \"december\", \"tfidf\": 0.15757900615774834}, {\"document\": \"LOW\", \"term\": \"fiscal\", \"tfidf\": 0.3275106190923624}, {\"document\": \"LOW\", \"term\": \"store\", \"tfidf\": 0.31784600463863866}, {\"document\": \"LOW\", \"term\": \"inventory\", \"tfidf\": 0.24489730562347914}, {\"document\": \"LOW\", \"term\": \"location\", \"tfidf\": 0.2303171511484246}, {\"document\": \"LOW\", \"term\": \"point\", \"tfidf\": 0.22651228361083633}, {\"document\": \"LOW\", \"term\": \"comparable\", \"tfidf\": 0.20009363061863808}, {\"document\": \"LOW\", \"term\": \"january\", \"tfidf\": 0.1859068493190379}, {\"document\": \"LOW\", \"term\": \"pro\", \"tfidf\": 0.15972166574578422}, {\"document\": \"LOW\", \"term\": \"average\", \"tfidf\": 0.15873309226458487}, {\"document\": \"LOW\", \"term\": \"associate\", \"tfidf\": 0.14947244220757921}, {\"document\": \"LRCX\", \"term\": \"fiscal\", \"tfidf\": 0.4079427467004151}, {\"document\": \"LRCX\", \"term\": \"june\", \"tfidf\": 0.3368088854014035}, {\"document\": \"LRCX\", \"term\": \"semiconductor\", \"tfidf\": 0.2945911038636872}, {\"document\": \"LRCX\", \"term\": \"page\", \"tfidf\": 0.19800923076320223}, {\"document\": \"LRCX\", \"term\": \"corporation\", \"tfidf\": 0.14729004065611442}, {\"document\": \"LRCX\", \"term\": \"senior\", \"tfidf\": 0.1440111506269846}, {\"document\": \"LRCX\", \"term\": \"research\", \"tfidf\": 0.13616260005850675}, {\"document\": \"LRCX\", \"term\": \"reporting\", \"tfidf\": 0.1288719761340211}, {\"document\": \"LRCX\", \"term\": \"gross\", \"tfidf\": 0.12552035317174903}, {\"document\": \"LRCX\", \"term\": \"amended\", \"tfidf\": 0.11706361267469734}, {\"document\": \"MCD\", \"term\": \"restaurant\", \"tfidf\": 0.7321829831684675}, {\"document\": \"MCD\", \"term\": \"developmental\", \"tfidf\": 0.1701794271876287}, {\"document\": \"MCD\", \"term\": \"december\", \"tfidf\": 0.15631038654182472}, {\"document\": \"MCD\", \"term\": \"operated\", \"tfidf\": 0.14443239605446875}, {\"document\": \"MCD\", \"term\": \"currency\", \"tfidf\": 0.14274494846528593}, {\"document\": \"MCD\", \"term\": \"corporation\", \"tfidf\": 0.12742148110249418}, {\"document\": \"MCD\", \"term\": \"international\", \"tfidf\": 0.11845719193077704}, {\"document\": \"MCD\", \"term\": \"rent\", \"tfidf\": 0.1024172952066902}, {\"document\": \"MCD\", \"term\": \"licensed\", \"tfidf\": 0.09449181518367251}, {\"document\": \"MCD\", \"term\": \"derivative\", \"tfidf\": 0.09314035837990305}, {\"document\": \"MDLZ\", \"term\": \"currency\", \"tfidf\": 0.29615178550849336}, {\"document\": \"MDLZ\", \"term\": \"divestiture\", \"tfidf\": 0.23137859515936826}, {\"document\": \"MDLZ\", \"term\": \"unfavorable\", \"tfidf\": 0.20137046678067946}, {\"document\": \"MDLZ\", \"term\": \"eps\", \"tfidf\": 0.1951838695093707}, {\"document\": \"MDLZ\", \"term\": \"simplify\", \"tfidf\": 0.17808557058381996}, {\"document\": \"MDLZ\", \"term\": \"swiss\", \"tfidf\": 0.17376987337140146}, {\"document\": \"MDLZ\", \"term\": \"refer\", \"tfidf\": 0.16337391989614966}, {\"document\": \"MDLZ\", \"term\": \"content\", \"tfidf\": 0.1553276255655727}, {\"document\": \"MDLZ\", \"term\": \"prioryear\", \"tfidf\": 0.15143411910338953}, {\"document\": \"MDLZ\", \"term\": \"reform\", \"tfidf\": 0.14722724081068783}, {\"document\": \"MDT\", \"term\": \"fiscal\", \"tfidf\": 0.5448643511223729}, {\"document\": \"MDT\", \"term\": \"therapy\", \"tfidf\": 0.3974781295514816}, {\"document\": \"MDT\", \"term\": \"system\", \"tfidf\": 0.2174560578681508}, {\"document\": \"MDT\", \"term\": \"surgical\", \"tfidf\": 0.19320447889126205}, {\"document\": \"MDT\", \"term\": \"patient\", \"tfidf\": 0.15006113941337115}, {\"document\": \"MDT\", \"term\": \"procedure\", \"tfidf\": 0.1480673540140843}, {\"document\": \"MDT\", \"term\": \"acceptance\", \"tfidf\": 0.1449877929069947}, {\"document\": \"MDT\", \"term\": \"senior\", \"tfidf\": 0.13637678057837344}, {\"document\": \"MDT\", \"term\": \"group\", \"tfidf\": 0.13489158367392398}, {\"document\": \"MDT\", \"term\": \"percent\", \"tfidf\": 0.13102713092380394}, {\"document\": \"META\", \"term\": \"user\", \"tfidf\": 0.4777976422614463}, {\"document\": \"META\", \"term\": \"ad\", \"tfidf\": 0.34689783681454506}, {\"document\": \"META\", \"term\": \"december\", \"tfidf\": 0.21844758697760996}, {\"document\": \"META\", \"term\": \"advertising\", \"tfidf\": 0.19990802180838096}, {\"document\": \"META\", \"term\": \"sharebased\", \"tfidf\": 0.19083156772641552}, {\"document\": \"META\", \"term\": \"mostly\", \"tfidf\": 0.16468496603661106}, {\"document\": \"META\", \"term\": \"people\", \"tfidf\": 0.14660812110752372}, {\"document\": \"META\", \"term\": \"family\", \"tfidf\": 0.1413680961187284}, {\"document\": \"META\", \"term\": \"irs\", \"tfidf\": 0.10799628277606585}, {\"document\": \"META\", \"term\": \"marketing\", \"tfidf\": 0.10608424796152481}, {\"document\": \"MMC\", \"term\": \"consulting\", \"tfidf\": 0.25925821187237935}, {\"document\": \"MMC\", \"term\": \"uk\", \"tfidf\": 0.2371072054477172}, {\"document\": \"MMC\", \"term\": \"december\", \"tfidf\": 0.2165440004853131}, {\"document\": \"MMC\", \"term\": \"insurance\", \"tfidf\": 0.20102536329130066}, {\"document\": \"MMC\", \"term\": \"client\", \"tfidf\": 0.188806996190386}, {\"document\": \"MMC\", \"term\": \"risk\", \"tfidf\": 0.18598343723344918}, {\"document\": \"MMC\", \"term\": \"pension\", \"tfidf\": 0.1831235198890047}, {\"document\": \"MMC\", \"term\": \"underlying\", \"tfidf\": 0.16766292058080795}, {\"document\": \"MMC\", \"term\": \"partly\", \"tfidf\": 0.16510153058845747}, {\"document\": \"MMC\", \"term\": \"contract\", \"tfidf\": 0.16346377832495396}, {\"document\": \"MRK\", \"term\": \"cancer\", \"tfidf\": 0.35227958241232393}, {\"document\": \"MRK\", \"term\": \"patient\", \"tfidf\": 0.27359709523903797}, {\"document\": \"MRK\", \"term\": \"treatment\", \"tfidf\": 0.25020751128800245}, {\"document\": \"MRK\", \"term\": \"fda\", \"tfidf\": 0.152855867691246}, {\"document\": \"MRK\", \"term\": \"adult\", \"tfidf\": 0.15099023931600258}, {\"document\": \"MRK\", \"term\": \"vaccine\", \"tfidf\": 0.1357876445412933}, {\"document\": \"MRK\", \"term\": \"nongaap\", \"tfidf\": 0.13289803248210935}, {\"document\": \"MRK\", \"term\": \"approval\", \"tfidf\": 0.1312632244310397}, {\"document\": \"MRK\", \"term\": \"ipr\", \"tfidf\": 0.1297151746006118}, {\"document\": \"MRK\", \"term\": \"development\", \"tfidf\": 0.12270606922012575}, {\"document\": \"MS\", \"term\": \"client\", \"tfidf\": 0.32698751140940807}, {\"document\": \"MS\", \"term\": \"wealth\", \"tfidf\": 0.2665158177750085}, {\"document\": \"MS\", \"term\": \"stress\", \"tfidf\": 0.2357265514971837}, {\"document\": \"MS\", \"term\": \"december\", \"tfidf\": 0.2147219741012981}, {\"document\": \"MS\", \"term\": \"tier\", \"tfidf\": 0.18359150688091522}, {\"document\": \"MS\", \"term\": \"institutional\", \"tfidf\": 0.17995609835550508}, {\"document\": \"MS\", \"term\": \"lending\", \"tfidf\": 0.17964358627729646}, {\"document\": \"MS\", \"term\": \"trading\", \"tfidf\": 0.17812137329043565}, {\"document\": \"MS\", \"term\": \"buffer\", \"tfidf\": 0.16116910728515293}, {\"document\": \"MS\", \"term\": \"equity\", \"tfidf\": 0.15921416602395952}, {\"document\": \"MSFT\", \"term\": \"cloud\", \"tfidf\": 0.5160053055771019}, {\"document\": \"MSFT\", \"term\": \"window\", \"tfidf\": 0.3624972858499203}, {\"document\": \"MSFT\", \"term\": \"fiscal\", \"tfidf\": 0.30282269083092483}, {\"document\": \"MSFT\", \"term\": \"driven\", \"tfidf\": 0.21704186965529848}, {\"document\": \"MSFT\", \"term\": \"commercial\", \"tfidf\": 0.1936387515064985}, {\"document\": \"MSFT\", \"term\": \"office\", \"tfidf\": 0.17433128090324526}, {\"document\": \"MSFT\", \"term\": \"server\", \"tfidf\": 0.16461641000684255}, {\"document\": \"MSFT\", \"term\": \"tcja\", \"tfidf\": 0.1442309940481539}, {\"document\": \"MSFT\", \"term\": \"oem\", \"tfidf\": 0.14403753203607186}, {\"document\": \"MSFT\", \"term\": \"gaming\", \"tfidf\": 0.13455565979268946}, {\"document\": \"MU\", \"term\": \"3d\", \"tfidf\": 0.26282032343230555}, {\"document\": \"MU\", \"term\": \"decline\", \"tfidf\": 0.21744612692803017}, {\"document\": \"MU\", \"term\": \"equipment\", \"tfidf\": 0.1788309967995482}, {\"document\": \"MU\", \"term\": \"selling\", \"tfidf\": 0.1730677419011969}, {\"document\": \"MU\", \"term\": \"unit\", \"tfidf\": 0.1625135147002645}, {\"document\": \"MU\", \"term\": \"plant\", \"tfidf\": 0.1543943840376238}, {\"document\": \"MU\", \"term\": \"manufacturing\", \"tfidf\": 0.15431262656577419}, {\"document\": \"MU\", \"term\": \"vie\", \"tfidf\": 0.15436343719494694}, {\"document\": \"MU\", \"term\": \"fair\", \"tfidf\": 0.14593038617959353}, {\"document\": \"MU\", \"term\": \"member\", \"tfidf\": 0.1363914402097782}, {\"document\": \"NEE\", \"term\": \"power\", \"tfidf\": 0.3993719704234389}, {\"document\": \"NEE\", \"term\": \"fuel\", \"tfidf\": 0.2538406103557635}, {\"document\": \"NEE\", \"term\": \"energy\", \"tfidf\": 0.2273887782208475}, {\"document\": \"NEE\", \"term\": \"december\", \"tfidf\": 0.1925892647618454}, {\"document\": \"NEE\", \"term\": \"fair\", \"tfidf\": 0.1762674523326854}, {\"document\": \"NEE\", \"term\": \"derivative\", \"tfidf\": 0.1760588684552929}, {\"document\": \"NEE\", \"term\": \"see\", \"tfidf\": 0.16504377093459366}, {\"document\": \"NEE\", \"term\": \"mortgage\", \"tfidf\": 0.1556354155186487}, {\"document\": \"NEE\", \"term\": \"subsidiary\", \"tfidf\": 0.151877857729514}, {\"document\": \"NEE\", \"term\": \"hedge\", \"tfidf\": 0.1512297474858411}, {\"document\": \"NFLX\", \"term\": \"content\", \"tfidf\": 0.5537403870864288}, {\"document\": \"NFLX\", \"term\": \"membership\", \"tfidf\": 0.5130968505002864}, {\"document\": \"NFLX\", \"term\": \"streaming\", \"tfidf\": 0.277319791723962}, {\"document\": \"NFLX\", \"term\": \"december\", \"tfidf\": 0.267176029613672}, {\"document\": \"NFLX\", \"term\": \"ended\", \"tfidf\": 0.20827022399116513}, {\"document\": \"NFLX\", \"term\": \"production\", \"tfidf\": 0.15931129192816712}, {\"document\": \"NFLX\", \"term\": \"paying\", \"tfidf\": 0.14087304934981107}, {\"document\": \"NFLX\", \"term\": \"thousand\", \"tfidf\": 0.1362140270355971}, {\"document\": \"NFLX\", \"term\": \"title\", \"tfidf\": 0.11631091217424862}, {\"document\": \"NFLX\", \"term\": \"monthly\", \"tfidf\": 0.09087002133727382}, {\"document\": \"NKE\", \"term\": \"fiscal\", \"tfidf\": 0.488511801554226}, {\"document\": \"NKE\", \"term\": \"brand\", \"tfidf\": 0.349419071171545}, {\"document\": \"NKE\", \"term\": \"currency\", \"tfidf\": 0.3144261966810631}, {\"document\": \"NKE\", \"term\": \"wholesale\", \"tfidf\": 0.2713300613060237}, {\"document\": \"NKE\", \"term\": \"store\", \"tfidf\": 0.2368655315119039}, {\"document\": \"NKE\", \"term\": \"direct\", \"tfidf\": 0.16295270522196953}, {\"document\": \"NKE\", \"term\": \"creation\", \"tfidf\": 0.1413470940100785}, {\"document\": \"NKE\", \"term\": \"table_endtable_start\", \"tfidf\": 0.1307295400656006}, {\"document\": \"NKE\", \"term\": \"digital\", \"tfidf\": 0.12981390874478774}, {\"document\": \"NKE\", \"term\": \"factory\", \"tfidf\": 0.12723208004982847}, {\"document\": \"NOW\", \"term\": \"subscription\", \"tfidf\": 0.49911108459621384}, {\"document\": \"NOW\", \"term\": \"december\", \"tfidf\": 0.3538056960878084}, {\"document\": \"NOW\", \"term\": \"ended\", \"tfidf\": 0.2852190910002675}, {\"document\": \"NOW\", \"term\": \"contract\", \"tfidf\": 0.2527750883437889}, {\"document\": \"NOW\", \"term\": \"billing\", \"tfidf\": 0.24674229436654452}, {\"document\": \"NOW\", \"term\": \"renewal\", \"tfidf\": 0.21319550640779944}, {\"document\": \"NOW\", \"term\": \"professional\", \"tfidf\": 0.16682409284638006}, {\"document\": \"NOW\", \"term\": \"stockbased\", \"tfidf\": 0.11220980156911006}, {\"document\": \"NOW\", \"term\": \"thousand\", \"tfidf\": 0.10865408024740321}, {\"document\": \"NOW\", \"term\": \"dollar\", \"tfidf\": 0.10431665865742443}, {\"document\": \"NVDA\", \"term\": \"fiscal\", \"tfidf\": 0.5743200461159351}, {\"document\": \"NVDA\", \"term\": \"processor\", \"tfidf\": 0.25134079560843453}, {\"document\": \"NVDA\", \"term\": \"gaming\", \"tfidf\": 0.246535517802442}, {\"document\": \"NVDA\", \"term\": \"january\", \"tfidf\": 0.22391432327477936}, {\"document\": \"NVDA\", \"term\": \"iv\", \"tfidf\": 0.20863981494207576}, {\"document\": \"NVDA\", \"term\": \"ai\", \"tfidf\": 0.20561444669378076}, {\"document\": \"NVDA\", \"term\": \"inventory\", \"tfidf\": 0.1843479996759531}, {\"document\": \"NVDA\", \"term\": \"annual\", \"tfidf\": 0.14485107708277842}, {\"document\": \"NVDA\", \"term\": \"marketable\", \"tfidf\": 0.14130073198303425}, {\"document\": \"NVDA\", \"term\": \"refer\", \"tfidf\": 0.13014684046113567}, {\"document\": \"ORCL\", \"term\": \"cloud\", \"tfidf\": 0.4752540287773548}, {\"document\": \"ORCL\", \"term\": \"hardware\", \"tfidf\": 0.437896272971913}, {\"document\": \"ORCL\", \"term\": \"license\", \"tfidf\": 0.3967709007795297}, {\"document\": \"ORCL\", \"term\": \"fiscal\", \"tfidf\": 0.3731560414569022}, {\"document\": \"ORCL\", \"term\": \"stockbased\", \"tfidf\": 0.16844755942211953}, {\"document\": \"ORCL\", \"term\": \"constant\", \"tfidf\": 0.1457346264629076}, {\"document\": \"ORCL\", \"term\": \"currency\", \"tfidf\": 0.10578122630502144}, {\"document\": \"ORCL\", \"term\": \"index\", \"tfidf\": 0.10201203988908844}, {\"document\": \"ORCL\", \"term\": \"contract\", \"tfidf\": 0.10121344028493183}, {\"document\": \"ORCL\", \"term\": \"offering\", \"tfidf\": 0.08082698488041228}, {\"document\": \"PANW\", \"term\": \"subscription\", \"tfidf\": 0.5611573658176683}, {\"document\": \"PANW\", \"term\": \"fiscal\", \"tfidf\": 0.34904570290907755}, {\"document\": \"PANW\", \"term\": \"july\", \"tfidf\": 0.2894284125626863}, {\"document\": \"PANW\", \"term\": \"billing\", \"tfidf\": 0.1872176160265585}, {\"document\": \"PANW\", \"term\": \"cloud\", \"tfidf\": 0.14533341769176206}, {\"document\": \"PANW\", \"term\": \"ended\", \"tfidf\": 0.1401695974432589}, {\"document\": \"PANW\", \"term\": \"offering\", \"tfidf\": 0.12454748998326595}, {\"document\": \"PANW\", \"term\": \"personnel\", \"tfidf\": 0.11447472513752581}, {\"document\": \"PANW\", \"term\": \"secure\", \"tfidf\": 0.10480734417173236}, {\"document\": \"PANW\", \"term\": \"component\", \"tfidf\": 0.0953197091179253}, {\"document\": \"PEP\", \"term\": \"retiree\", \"tfidf\": 0.31495884375234323}, {\"document\": \"PEP\", \"term\": \"content\", \"tfidf\": 0.23805875508574698}, {\"document\": \"PEP\", \"term\": \"medical\", \"tfidf\": 0.2151077191619761}, {\"document\": \"PEP\", \"term\": \"beverage\", \"tfidf\": 0.21200688149730848}, {\"document\": \"PEP\", \"term\": \"december\", \"tfidf\": 0.20968234607588088}, {\"document\": \"PEP\", \"term\": \"pension\", \"tfidf\": 0.18443118244449225}, {\"document\": \"PEP\", \"term\": \"food\", \"tfidf\": 0.1736385730778665}, {\"document\": \"PEP\", \"term\": \"charge\", \"tfidf\": 0.15057228791209518}, {\"document\": \"PEP\", \"term\": \"billion\", \"tfidf\": 0.14957107052434945}, {\"document\": \"PEP\", \"term\": \"division\", \"tfidf\": 0.1422029946207121}, {\"document\": \"PFE\", \"term\": \"healthcare\", \"tfidf\": 0.2623744086020733}, {\"document\": \"PFE\", \"term\": \"see\", \"tfidf\": 0.21455611856346232}, {\"document\": \"PFE\", \"term\": \"patient\", \"tfidf\": 0.20185096616512632}, {\"document\": \"PFE\", \"term\": \"inc\", \"tfidf\": 0.16038934997781495}, {\"document\": \"PFE\", \"term\": \"vaccine\", \"tfidf\": 0.1562547695362506}, {\"document\": \"PFE\", \"term\": \"consumer\", \"tfidf\": 0.14498137811174328}, {\"document\": \"PFE\", \"term\": \"development\", \"tfidf\": 0.1435975023912108}, {\"document\": \"PFE\", \"term\": \"discontinued\", \"tfidf\": 0.1394676785403339}, {\"document\": \"PFE\", \"term\": \"adjusted\", \"tfidf\": 0.13663522156855304}, {\"document\": \"PFE\", \"term\": \"collaboration\", \"tfidf\": 0.1354702382756977}, {\"document\": \"PG\", \"term\": \"digit\", \"tfidf\": 0.48638239199278016}, {\"document\": \"PG\", \"term\": \"care\", \"tfidf\": 0.37281089218194197}, {\"document\": \"PG\", \"term\": \"midsingle\", \"tfidf\": 0.1825212204063081}, {\"document\": \"PG\", \"term\": \"volume\", \"tfidf\": 0.15629423168250092}, {\"document\": \"PG\", \"term\": \"brand\", \"tfidf\": 0.15017182768987483}, {\"document\": \"PG\", \"term\": \"organic\", \"tfidf\": 0.14728652978604043}, {\"document\": \"PG\", \"term\": \"single\", \"tfidf\": 0.14086474488775133}, {\"document\": \"PG\", \"term\": \"america\", \"tfidf\": 0.1215525652110875}, {\"document\": \"PG\", \"term\": \"category\", \"tfidf\": 0.11869892715062304}, {\"document\": \"PG\", \"term\": \"fiscal\", \"tfidf\": 0.11241594737392457}, {\"document\": \"PLD\", \"term\": \"venture\", \"tfidf\": 0.46401244486078475}, {\"document\": \"PLD\", \"term\": \"property\", \"tfidf\": 0.40147766313730726}, {\"document\": \"PLD\", \"term\": \"unconsolidated\", \"tfidf\": 0.2796335310461118}, {\"document\": \"PLD\", \"term\": \"estate\", \"tfidf\": 0.23360803929826246}, {\"document\": \"PLD\", \"term\": \"rental\", \"tfidf\": 0.2016225973662808}, {\"document\": \"PLD\", \"term\": \"real\", \"tfidf\": 0.2008380065562106}, {\"document\": \"PLD\", \"term\": \"store\", \"tfidf\": 0.17687062035519513}, {\"document\": \"PLD\", \"term\": \"disposition\", \"tfidf\": 0.17153790946234004}, {\"document\": \"PLD\", \"term\": \"square\", \"tfidf\": 0.1579141338945394}, {\"document\": \"PLD\", \"term\": \"portfolio\", \"tfidf\": 0.1534706995123529}, {\"document\": \"PM\", \"term\": \"partly\", \"tfidf\": 0.2517214047415056}, {\"document\": \"PM\", \"term\": \"shipment\", \"tfidf\": 0.21516793136270607}, {\"document\": \"PM\", \"term\": \"mainly\", \"tfidf\": 0.2116110601879727}, {\"document\": \"PM\", \"term\": \"notably\", \"tfidf\": 0.2084264096982801}, {\"document\": \"PM\", \"term\": \"adult\", \"tfidf\": 0.20728834517163308}, {\"document\": \"PM\", \"term\": \"russia\", \"tfidf\": 0.19653666229277744}, {\"document\": \"PM\", \"term\": \"volume\", \"tfidf\": 0.1698800345645451}, {\"document\": \"PM\", \"term\": \"excise\", \"tfidf\": 0.16801503495214085}, {\"document\": \"PM\", \"term\": \"unit\", \"tfidf\": 0.16288938212212364}, {\"document\": \"PM\", \"term\": \"reflecting\", \"tfidf\": 0.15147131693667407}, {\"document\": \"QCOM\", \"term\": \"fiscal\", \"tfidf\": 0.5914635110639013}, {\"document\": \"QCOM\", \"term\": \"apple\", \"tfidf\": 0.2843797025142671}, {\"document\": \"QCOM\", \"term\": \"5g\", \"tfidf\": 0.24732563806226085}, {\"document\": \"QCOM\", \"term\": \"royalty\", \"tfidf\": 0.1921999156961677}, {\"document\": \"QCOM\", \"term\": \"september\", \"tfidf\": 0.1893906642446254}, {\"document\": \"QCOM\", \"term\": \"circuit\", \"tfidf\": 0.17312284002223768}, {\"document\": \"QCOM\", \"term\": \"licensee\", \"tfidf\": 0.17309161565568396}, {\"document\": \"QCOM\", \"term\": \"patent\", \"tfidf\": 0.16843840269772936}, {\"document\": \"QCOM\", \"term\": \"licensing\", \"tfidf\": 0.15669819048980552}, {\"document\": \"QCOM\", \"term\": \"wireless\", \"tfidf\": 0.12718600796016477}, {\"document\": \"REGN\", \"term\": \"collaboration\", \"tfidf\": 0.4184396603380346}, {\"document\": \"REGN\", \"term\": \"development\", \"tfidf\": 0.30958224177838933}, {\"document\": \"REGN\", \"term\": \"commercialization\", \"tfidf\": 0.2722992258195792}, {\"document\": \"REGN\", \"term\": \"research\", \"tfidf\": 0.25195216341111853}, {\"document\": \"REGN\", \"term\": \"clinical\", \"tfidf\": 0.2253839952123071}, {\"document\": \"REGN\", \"term\": \"connection\", \"tfidf\": 0.2162358337366646}, {\"document\": \"REGN\", \"term\": \"reimbursement\", \"tfidf\": 0.20749863717143374}, {\"document\": \"REGN\", \"term\": \"december\", \"tfidf\": 0.19940917499565358}, {\"document\": \"REGN\", \"term\": \"antibody\", \"tfidf\": 0.16612311226258966}, {\"document\": \"REGN\", \"term\": \"manufacturing\", \"tfidf\": 0.1643647030649296}, {\"document\": \"RTX\", \"term\": \"aerospace\", \"tfidf\": 0.6109401988556875}, {\"document\": \"RTX\", \"term\": \"merger\", \"tfidf\": 0.27174140963031324}, {\"document\": \"RTX\", \"term\": \"contract\", \"tfidf\": 0.1738042051175868}, {\"document\": \"RTX\", \"term\": \"profit\", \"tfidf\": 0.16006341231500032}, {\"document\": \"RTX\", \"term\": \"defense\", \"tfidf\": 0.15880786321811796}, {\"document\": \"RTX\", \"term\": \"commercial\", \"tfidf\": 0.15815329251708415}, {\"document\": \"RTX\", \"term\": \"organic\", \"tfidf\": 0.14939549376923586}, {\"document\": \"RTX\", \"term\": \"military\", \"tfidf\": 0.14579799032651355}, {\"document\": \"RTX\", \"term\": \"oem\", \"tfidf\": 0.1400402737323397}, {\"document\": \"RTX\", \"term\": \"segment\", \"tfidf\": 0.13202193761562608}, {\"document\": \"SBUX\", \"term\": \"store\", \"tfidf\": 0.6604852852289621}, {\"document\": \"SBUX\", \"term\": \"fiscal\", \"tfidf\": 0.4581516987343977}, {\"document\": \"SBUX\", \"term\": \"point\", \"tfidf\": 0.16268253313232575}, {\"document\": \"SBUX\", \"term\": \"licensed\", \"tfidf\": 0.13207994114673544}, {\"document\": \"SBUX\", \"term\": \"impairment\", \"tfidf\": 0.13095578004814448}, {\"document\": \"SBUX\", \"term\": \"alliance\", \"tfidf\": 0.1147317610776355}, {\"document\": \"SBUX\", \"term\": \"september\", \"tfidf\": 0.1053200565206032}, {\"document\": \"SBUX\", \"term\": \"restructuring\", \"tfidf\": 0.09885262206839937}, {\"document\": \"SBUX\", \"term\": \"retail\", \"tfidf\": 0.09781754884038453}, {\"document\": \"SBUX\", \"term\": \"fair\", \"tfidf\": 0.08438395675116507}, {\"document\": \"SCHW\", \"term\": \"client\", \"tfidf\": 0.6311521175851064}, {\"document\": \"SCHW\", \"term\": \"risk\", \"tfidf\": 0.22295858538324015}, {\"document\": \"SCHW\", \"term\": \"brokerage\", \"tfidf\": 0.20593731724188177}, {\"document\": \"SCHW\", \"term\": \"tabular\", \"tfidf\": 0.1954236547722891}, {\"document\": \"SCHW\", \"term\": \"ratio\", \"tfidf\": 0.17051485824912965}, {\"document\": \"SCHW\", \"term\": \"fee\", \"tfidf\": 0.17038695562296882}, {\"document\": \"SCHW\", \"term\": \"mutual\", \"tfidf\": 0.15013742681998477}, {\"document\": \"SCHW\", \"term\": \"deposit\", \"tfidf\": 0.11978973990049042}, {\"document\": \"SCHW\", \"term\": \"trading\", \"tfidf\": 0.11749396424149319}, {\"document\": \"SCHW\", \"term\": \"bank\", \"tfidf\": 0.11639432075705627}, {\"document\": \"SPGI\", \"term\": \"rating\", \"tfidf\": 0.35468654219699536}, {\"document\": \"SPGI\", \"term\": \"index\", \"tfidf\": 0.33134559190320334}, {\"document\": \"SPGI\", \"term\": \"intelligence\", \"tfidf\": 0.3018784600073118}, {\"document\": \"SPGI\", \"term\": \"disposition\", \"tfidf\": 0.21368083696249082}, {\"document\": \"SPGI\", \"term\": \"severance\", \"tfidf\": 0.19911174799552514}, {\"document\": \"SPGI\", \"term\": \"point\", \"tfidf\": 0.19600800822687373}, {\"document\": \"SPGI\", \"term\": \"charge\", \"tfidf\": 0.17477316853278643}, {\"document\": \"SPGI\", \"term\": \"benchmark\", \"tfidf\": 0.16260707198045446}, {\"document\": \"SPGI\", \"term\": \"profit\", \"tfidf\": 0.14769925675467227}, {\"document\": \"SPGI\", \"term\": \"december\", \"tfidf\": 0.12710937560794755}, {\"document\": \"SYK\", \"term\": \"constant\", \"tfidf\": 0.31409831539211425}, {\"document\": \"SYK\", \"term\": \"medical\", \"tfidf\": 0.30417088615006577}, {\"document\": \"SYK\", \"term\": \"currency\", \"tfidf\": 0.28209498196564187}, {\"document\": \"SYK\", \"term\": \"intangible\", \"tfidf\": 0.19538198272310336}, {\"document\": \"SYK\", \"term\": \"matter\", \"tfidf\": 0.19314110871675935}, {\"document\": \"SYK\", \"term\": \"measure\", \"tfidf\": 0.18092560542344924}, {\"document\": \"SYK\", \"term\": \"adjusted\", \"tfidf\": 0.16969841640952316}, {\"document\": \"SYK\", \"term\": \"elective\", \"tfidf\": 0.15150042012806444}, {\"document\": \"SYK\", \"term\": \"unit\", \"tfidf\": 0.15041506487707884}, {\"document\": \"SYK\", \"term\": \"fair\", \"tfidf\": 0.1485955239875905}, {\"document\": \"T\", \"term\": \"video\", \"tfidf\": 0.4249327167217491}, {\"document\": \"T\", \"term\": \"wireless\", \"tfidf\": 0.4115802865709385}, {\"document\": \"T\", \"term\": \"subscriber\", \"tfidf\": 0.33218425086199}, {\"document\": \"T\", \"term\": \"segment\", \"tfidf\": 0.18736782174974467}, {\"document\": \"T\", \"term\": \"mobility\", \"tfidf\": 0.16848945327390563}, {\"document\": \"T\", \"term\": \"max\", \"tfidf\": 0.1502604844900717}, {\"document\": \"T\", \"term\": \"spectrum\", \"tfidf\": 0.1435517809315083}, {\"document\": \"T\", \"term\": \"network\", \"tfidf\": 0.13565098902294676}, {\"document\": \"T\", \"term\": \"auction\", \"tfidf\": 0.11698728548796888}, {\"document\": \"T\", \"term\": \"5g\", \"tfidf\": 0.11019270939680902}, {\"document\": \"TJX\", \"term\": \"fiscal\", \"tfidf\": 0.7394666563741074}, {\"document\": \"TJX\", \"term\": \"store\", \"tfidf\": 0.3027948459060202}, {\"document\": \"TJX\", \"term\": \"segment\", \"tfidf\": 0.21973888973763553}, {\"document\": \"TJX\", \"term\": \"merchandise\", \"tfidf\": 0.1681454321045125}, {\"document\": \"TJX\", \"term\": \"margin\", \"tfidf\": 0.14228298319496382}, {\"document\": \"TJX\", \"term\": \"currency\", \"tfidf\": 0.13624557266734452}, {\"document\": \"TJX\", \"term\": \"february\", \"tfidf\": 0.12146869410163134}, {\"document\": \"TJX\", \"term\": \"profit\", \"tfidf\": 0.12147839797745522}, {\"document\": \"TJX\", \"term\": \"traffic\", \"tfidf\": 0.09970550281977776}, {\"document\": \"TJX\", \"term\": \"canada\", \"tfidf\": 0.09576549377255245}, {\"document\": \"TMO\", \"term\": \"diagnostics\", \"tfidf\": 0.25169947769826617}, {\"document\": \"TMO\", \"term\": \"lesser\", \"tfidf\": 0.2371878687201002}, {\"document\": \"TMO\", \"term\": \"segment\", \"tfidf\": 0.20552059726804722}, {\"document\": \"TMO\", \"term\": \"nonus\", \"tfidf\": 0.20144414474299904}, {\"document\": \"TMO\", \"term\": \"scientific\", \"tfidf\": 0.19758385964862174}, {\"document\": \"TMO\", \"term\": \"intangible\", \"tfidf\": 0.1870325234488113}, {\"document\": \"TMO\", \"term\": \"laboratory\", \"tfidf\": 0.18464354456973564}, {\"document\": \"TMO\", \"term\": \"science\", \"tfidf\": 0.17158103007785855}, {\"document\": \"TMO\", \"term\": \"extent\", \"tfidf\": 0.1708268921241502}, {\"document\": \"TMO\", \"term\": \"totaled\", \"tfidf\": 0.16789063700257145}, {\"document\": \"TSLA\", \"term\": \"automotive\", \"tfidf\": 0.4693085052915726}, {\"document\": \"TSLA\", \"term\": \"vehicle\", \"tfidf\": 0.40905900679839213}, {\"document\": \"TSLA\", \"term\": \"energy\", \"tfidf\": 0.35971450532544214}, {\"document\": \"TSLA\", \"term\": \"leasing\", \"tfidf\": 0.2726857857684362}, {\"document\": \"TSLA\", \"term\": \"storage\", \"tfidf\": 0.20936813606095842}, {\"document\": \"TSLA\", \"term\": \"december\", \"tfidf\": 0.17212426743557926}, {\"document\": \"TSLA\", \"term\": \"resale\", \"tfidf\": 0.1687271689543723}, {\"document\": \"TSLA\", \"term\": \"ended\", \"tfidf\": 0.15535626460062205}, {\"document\": \"TSLA\", \"term\": \"system\", \"tfidf\": 0.14677994962530316}, {\"document\": \"TSLA\", \"term\": \"model\", \"tfidf\": 0.1260420916247356}, {\"document\": \"TXN\", \"term\": \"embedded\", \"tfidf\": 0.2943828649531181}, {\"document\": \"TXN\", \"term\": \"profit\", \"tfidf\": 0.28515609723785446}, {\"document\": \"TXN\", \"term\": \"free\", \"tfidf\": 0.26770796076168096}, {\"document\": \"TXN\", \"term\": \"processing\", \"tfidf\": 0.20267946839882842}, {\"document\": \"TXN\", \"term\": \"manufacturing\", \"tfidf\": 0.19603135321190565}, {\"document\": \"TXN\", \"term\": \"factory\", \"tfidf\": 0.1887704287637544}, {\"document\": \"TXN\", \"term\": \"advantage\", \"tfidf\": 0.15432428266321313}, {\"document\": \"TXN\", \"term\": \"inventory\", \"tfidf\": 0.15098762514243363}, {\"document\": \"TXN\", \"term\": \"measure\", \"tfidf\": 0.15029712543834461}, {\"document\": \"TXN\", \"term\": \"end\", \"tfidf\": 0.13811925632317648}, {\"document\": \"UBER\", \"term\": \"ebitda\", \"tfidf\": 0.381483963952018}, {\"document\": \"UBER\", \"term\": \"mobility\", \"tfidf\": 0.36440895343084223}, {\"document\": \"UBER\", \"term\": \"driver\", \"tfidf\": 0.3086307512168074}, {\"document\": \"UBER\", \"term\": \"delivery\", \"tfidf\": 0.2239009434693941}, {\"document\": \"UBER\", \"term\": \"adjusted\", \"tfidf\": 0.19114037205900114}, {\"document\": \"UBER\", \"term\": \"freight\", \"tfidf\": 0.1466799769259787}, {\"document\": \"UBER\", \"term\": \"booking\", \"tfidf\": 0.13885462334220122}, {\"document\": \"UBER\", \"term\": \"stockbased\", \"tfidf\": 0.13676524335860124}, {\"document\": \"UBER\", \"term\": \"supplementary\", \"tfidf\": 0.13644218227991456}, {\"document\": \"UBER\", \"term\": \"attributable\", \"tfidf\": 0.13610734575294473}, {\"document\": \"UNH\", \"term\": \"medical\", \"tfidf\": 0.5203409596418632}, {\"document\": \"UNH\", \"term\": \"care\", \"tfidf\": 0.4618087607651393}, {\"document\": \"UNH\", \"term\": \"medicare\", \"tfidf\": 0.22853298204903902}, {\"document\": \"UNH\", \"term\": \"served\", \"tfidf\": 0.19562485472373908}, {\"document\": \"UNH\", \"term\": \"health\", \"tfidf\": 0.19096083207651157}, {\"document\": \"UNH\", \"term\": \"trend\", \"tfidf\": 0.14534239621835054}, {\"document\": \"UNH\", \"term\": \"people\", \"tfidf\": 0.12582785277754013}, {\"document\": \"UNH\", \"term\": \"advantage\", \"tfidf\": 0.12347383308957552}, {\"document\": \"UNH\", \"term\": \"december\", \"tfidf\": 0.11243295515151729}, {\"document\": \"UNH\", \"term\": \"medicaid\", \"tfidf\": 0.0931124216619088}, {\"document\": \"UNP\", \"term\": \"car\", \"tfidf\": 0.34525021476171935}, {\"document\": \"UNP\", \"term\": \"rail\", \"tfidf\": 0.3416954497194193}, {\"document\": \"UNP\", \"term\": \"freight\", \"tfidf\": 0.3269716273764127}, {\"document\": \"UNP\", \"term\": \"fuel\", \"tfidf\": 0.29397099431204154}, {\"document\": \"UNP\", \"term\": \"depreciation\", \"tfidf\": 0.1644132765725499}, {\"document\": \"UNP\", \"term\": \"shipment\", \"tfidf\": 0.16226327146769845}, {\"document\": \"UNP\", \"term\": \"average\", \"tfidf\": 0.13256892286095853}, {\"document\": \"UNP\", \"term\": \"productivity\", \"tfidf\": 0.13135927326875976}, {\"document\": \"UNP\", \"term\": \"volume\", \"tfidf\": 0.1276297122489274}, {\"document\": \"UNP\", \"term\": \"track\", \"tfidf\": 0.11916671751758397}, {\"document\": \"UPS\", \"term\": \"surcharge\", \"tfidf\": 0.3610761662894879}, {\"document\": \"UPS\", \"term\": \"fuel\", \"tfidf\": 0.2654042325616195}, {\"document\": \"UPS\", \"term\": \"aircraft\", \"tfidf\": 0.22992597776855328}, {\"document\": \"UPS\", \"term\": \"freight\", \"tfidf\": 0.2071702101484331}, {\"document\": \"UPS\", \"term\": \"ground\", \"tfidf\": 0.19500174688824343}, {\"document\": \"UPS\", \"term\": \"air\", \"tfidf\": 0.18975245158042992}, {\"document\": \"UPS\", \"term\": \"audited\", \"tfidf\": 0.18769954625046037}, {\"document\": \"UPS\", \"term\": \"volume\", \"tfidf\": 0.18265168850686295}, {\"document\": \"UPS\", \"term\": \"transformation\", \"tfidf\": 0.17773836541404628}, {\"document\": \"UPS\", \"term\": \"pension\", \"tfidf\": 0.17696872833888047}, {\"document\": \"V\", \"term\": \"client\", \"tfidf\": 0.366694022990713}, {\"document\": \"V\", \"term\": \"nominal\", \"tfidf\": 0.3248025482837317}, {\"document\": \"V\", \"term\": \"fiscal\", \"tfidf\": 0.2614204780748071}, {\"document\": \"V\", \"term\": \"supplementary\", \"tfidf\": 0.24751189852949024}, {\"document\": \"V\", \"term\": \"litigation\", \"tfidf\": 0.2355023526435843}, {\"document\": \"V\", \"term\": \"volume\", \"tfidf\": 0.22994766286232235}, {\"document\": \"V\", \"term\": \"merchant\", \"tfidf\": 0.1726490111716615}, {\"document\": \"V\", \"term\": \"september\", \"tfidf\": 0.16465871823594544}, {\"document\": \"V\", \"term\": \"content\", \"tfidf\": 0.13949131282239524}, {\"document\": \"V\", \"term\": \"see\", \"tfidf\": 0.12931225449855868}, {\"document\": \"VRTX\", \"term\": \"drug\", \"tfidf\": 0.35462081340425844}, {\"document\": \"VRTX\", \"term\": \"candidate\", \"tfidf\": 0.2996571443729631}, {\"document\": \"VRTX\", \"term\": \"medicine\", \"tfidf\": 0.2816298227061578}, {\"document\": \"VRTX\", \"term\": \"research\", \"tfidf\": 0.2800261419476236}, {\"document\": \"VRTX\", \"term\": \"development\", \"tfidf\": 0.26929074516567963}, {\"document\": \"VRTX\", \"term\": \"clinical\", \"tfidf\": 0.21019897115702338}, {\"document\": \"VRTX\", \"term\": \"cell\", \"tfidf\": 0.19632958744381931}, {\"document\": \"VRTX\", \"term\": \"increasedecrease\", \"tfidf\": 0.16438923175297923}, {\"document\": \"VRTX\", \"term\": \"reimbursement\", \"tfidf\": 0.1483773454961228}, {\"document\": \"VRTX\", \"term\": \"trial\", \"tfidf\": 0.14584041269286702}, {\"document\": \"VZ\", \"term\": \"wireless\", \"tfidf\": 0.7364431993126245}, {\"document\": \"VZ\", \"term\": \"retail\", \"tfidf\": 0.22549370785593692}, {\"document\": \"VZ\", \"term\": \"network\", \"tfidf\": 0.1716229850470937}, {\"document\": \"VZ\", \"term\": \"device\", \"tfidf\": 0.16778148302689835}, {\"document\": \"VZ\", \"term\": \"connection\", \"tfidf\": 0.1532171988712558}, {\"document\": \"VZ\", \"term\": \"spectrum\", \"tfidf\": 0.1218955923552256}, {\"document\": \"VZ\", \"term\": \"video\", \"tfidf\": 0.11535324123220853}, {\"document\": \"VZ\", \"term\": \"medium\", \"tfidf\": 0.11337999328575112}, {\"document\": \"VZ\", \"term\": \"content\", \"tfidf\": 0.11222858026713052}, {\"document\": \"VZ\", \"term\": \"segment\", \"tfidf\": 0.11081642136727296}, {\"document\": \"WMT\", \"term\": \"fiscal\", \"tfidf\": 0.7246912505358892}, {\"document\": \"WMT\", \"term\": \"comparable\", \"tfidf\": 0.2294449579633048}, {\"document\": \"WMT\", \"term\": \"ecommerce\", \"tfidf\": 0.21798757179117287}, {\"document\": \"WMT\", \"term\": \"store\", \"tfidf\": 0.17894041699961022}, {\"document\": \"WMT\", \"term\": \"previous\", \"tfidf\": 0.16494168179453542}, {\"document\": \"WMT\", \"term\": \"january\", \"tfidf\": 0.1403896726703511}, {\"document\": \"WMT\", \"term\": \"segment\", \"tfidf\": 0.11837907766936354}, {\"document\": \"WMT\", \"term\": \"average\", \"tfidf\": 0.10798657508056957}, {\"document\": \"WMT\", \"term\": \"free\", \"tfidf\": 0.10534358738503183}, {\"document\": \"WMT\", \"term\": \"fuel\", \"tfidf\": 0.10133349518830491}]}}, {\"mode\": \"vega-lite\"});\n",
       "</script>"
      ],
      "text/plain": [
       "\u001b[1;35malt.LayerChart\u001b[0m\u001b[1m(\u001b[0m\u001b[33m...\u001b[0m\u001b[1m)\u001b[0m"
      ]
     },
     "execution_count": 14,
     "metadata": {},
     "output_type": "execute_result"
    }
   ],
   "source": [
    "# adding a little randomness to break ties in term ranking\n",
    "top_tfidf_plusRand = top_tfidf.copy()\n",
    "top_tfidf_plusRand[\"tfidf\"] = (\n",
    "    top_tfidf_plusRand[\"tfidf\"] + np.random.rand(top_tfidf.shape[0]) * 0.0001\n",
    ")\n",
    "\n",
    "base = (\n",
    "    alt.Chart(top_tfidf_plusRand)\n",
    "    .encode(x=\"rank:O\", y=\"document:N\")\n",
    "    .transform_window(\n",
    "        rank=\"rank()\",\n",
    "        sort=[alt.SortField(\"tfidf\", order=\"descending\")],\n",
    "        groupby=[\"document\"],\n",
    "    )\n",
    ")\n",
    "\n",
    "heatmap = base.mark_rect().encode(color=\"tfidf:Q\")\n",
    "\n",
    "text = base.mark_text(baseline=\"middle\").encode(\n",
    "    text=\"term:N\",\n",
    "    color=alt.condition(\n",
    "        alt.datum.tfidf >= 0.23, alt.value(\"white\"), alt.value(\"black\")\n",
    "    ),\n",
    ")\n",
    "\n",
    "(heatmap + text).properties(width=1000)\n"
   ]
  },
  {
   "cell_type": "markdown",
   "metadata": {},
   "source": [
    "The above shows the top 10 words with the highest TF-IDF scores for each document. We can see that the words are relevant to the content and industry of each stock ticker. For example, Boeing Airlines (BA) has words like \"aircraft\", \"airline\", \"contract\", while Tesla (TSLA) has words like \"automotive\", \"energy\", \"vehicle\".\n",
    "\n",
    "This indicates that the TF-IDF scores are capturing the relevant content of the documents."
   ]
  },
  {
   "cell_type": "markdown",
   "metadata": {},
   "source": [
    "## Sentiment analysis\n"
   ]
  },
  {
   "cell_type": "markdown",
   "metadata": {},
   "source": [
    "To perform sentiment analysis using the lexicons, we tokenize each document into sentences, apply the preprocessing pipeline, and then calculate the sentiment scores for each sentence using the lexicons."
   ]
  },
  {
   "cell_type": "markdown",
   "metadata": {},
   "source": [
    "### Loughran and McDonald Financial Sentiment Dictionaries\n"
   ]
  },
  {
   "cell_type": "code",
   "execution_count": 15,
   "metadata": {},
   "outputs": [
    {
     "data": {
      "text/html": [
       "<pre style=\"white-space:pre;overflow-x:auto;line-height:normal;font-family:Menlo,'DejaVu Sans Mono',consolas,'Courier New',monospace\">Processed using LM financial dictionary\n",
       "</pre>\n"
      ],
      "text/plain": [
       "Processed using LM financial dictionary\n"
      ]
     },
     "metadata": {},
     "output_type": "display_data"
    }
   ],
   "source": [
    "lm = ps.LM(tokenizer=tokenizer)\n",
    "\n",
    "LM_res = []\n",
    "\n",
    "for k, v in docs.items():\n",
    "    for sent in nltk.sent_tokenize(v):\n",
    "        scores = lm.get_score(lm.tokenize(sent))\n",
    "        LM_res.append(\n",
    "            {\n",
    "                \"Document\": k,\n",
    "                \"Sentence\": sent,\n",
    "                \"LM_Positive\": scores[\"Positive\"],\n",
    "                \"LM_Negative\": scores[\"Negative\"],\n",
    "                \"LM_Polarity\": scores[\"Polarity\"],\n",
    "                \"LM_Subjectivity\": scores[\"Subjectivity\"],\n",
    "            }\n",
    "        )\n",
    "\n",
    "\n",
    "print(\"Processed using LM financial dictionary\")\n",
    "LM_res = pd.DataFrame(LM_res)\n"
   ]
  },
  {
   "cell_type": "markdown",
   "metadata": {},
   "source": [
    "### Using VADER\n"
   ]
  },
  {
   "cell_type": "code",
   "execution_count": 16,
   "metadata": {},
   "outputs": [
    {
     "data": {
      "text/html": [
       "<pre style=\"white-space:pre;overflow-x:auto;line-height:normal;font-family:Menlo,'DejaVu Sans Mono',consolas,'Courier New',monospace\">Processed using VADER\n",
       "</pre>\n"
      ],
      "text/plain": [
       "Processed using VADER\n"
      ]
     },
     "metadata": {},
     "output_type": "display_data"
    }
   ],
   "source": [
    "VADER_res = []\n",
    "vader = SentimentIntensityAnalyzer()\n",
    "\n",
    "\n",
    "for k, v in docs.items():\n",
    "    for sent in nltk.sent_tokenize(v):\n",
    "        scores = vader.polarity_scores(preprocess_text(sent))\n",
    "\n",
    "        VADER_res.append(\n",
    "            {\n",
    "                \"Document\": k,\n",
    "                \"Sentence\": sent,\n",
    "                \"VADER_Negative\": scores[\"neg\"],\n",
    "                \"VADER_Neutral\": scores[\"neu\"],\n",
    "                \"VADER_Positive\": scores[\"pos\"],\n",
    "                \"VADER_Compound\": scores[\"compound\"],\n",
    "            }\n",
    "        )\n",
    "\n",
    "print(\"Processed using VADER\")\n",
    "VADER_res = pd.DataFrame(VADER_res)"
   ]
  },
  {
   "cell_type": "markdown",
   "metadata": {},
   "source": [
    "### Using SentiBigNomics\n",
    "\n",
    "Consoli, S., Barbaglia, L., & Manzan, S. (2022). Fine-grained, aspect-based sentiment analysis on economic and financial lexicon. Knowledge-Based Systems, 247, 108781. https://doi.org/10.1016/j.knosys.2022.108781"
   ]
  },
  {
   "cell_type": "code",
   "execution_count": 17,
   "metadata": {},
   "outputs": [
    {
     "data": {
      "text/html": [
       "<pre style=\"white-space:pre;overflow-x:auto;line-height:normal;font-family:Menlo,'DejaVu Sans Mono',consolas,'Courier New',monospace\">Processed using SentiBigNomics\n",
       "</pre>\n"
      ],
      "text/plain": [
       "Processed using SentiBigNomics\n"
      ]
     },
     "metadata": {},
     "output_type": "display_data"
    }
   ],
   "source": [
    "SBN_res = []\n",
    "sbn_vader = SentimentIntensityAnalyzer()\n",
    "sbn_vader.lexicon.update(senti_bignomics)\n",
    "\n",
    "for k, v in docs.items():\n",
    "    for sent in nltk.sent_tokenize(v):\n",
    "        scores = sbn_vader.polarity_scores(preprocess_text(sent))\n",
    "\n",
    "        SBN_res.append(\n",
    "            {\n",
    "                \"Document\": k,\n",
    "                \"Sentence\": sent,\n",
    "                \"SBN_VADER_Negative\": scores[\"neg\"],\n",
    "                \"SBN_VADER_Neutral\": scores[\"neu\"],\n",
    "                \"SBN_VADER_Positive\": scores[\"pos\"],\n",
    "                \"SBN_VADER_Compound\": scores[\"compound\"],\n",
    "            }\n",
    "        )\n",
    "\n",
    "print(\"Processed using SentiBigNomics\")\n",
    "\n",
    "SBN_res = pd.DataFrame(SBN_res)\n"
   ]
  },
  {
   "cell_type": "markdown",
   "metadata": {},
   "source": [
    "### Using pre-trained model [FinBERT](https://huggingface.co/ProsusAI/finbert)\n"
   ]
  },
  {
   "cell_type": "code",
   "execution_count": 18,
   "metadata": {},
   "outputs": [],
   "source": [
    "pipe = pipeline(\"sentiment-analysis\", model=\"ProsusAI/finbert\", device=0)"
   ]
  },
  {
   "cell_type": "code",
   "execution_count": 19,
   "metadata": {},
   "outputs": [
    {
     "data": {
      "text/html": [
       "<pre style=\"white-space:pre;overflow-x:auto;line-height:normal;font-family:Menlo,'DejaVu Sans Mono',consolas,'Courier New',monospace\">Processing AAPL using FinBERT\n",
       "</pre>\n"
      ],
      "text/plain": [
       "Processing AAPL using FinBERT\n"
      ]
     },
     "metadata": {},
     "output_type": "display_data"
    },
    {
     "data": {
      "text/html": [
       "<pre style=\"white-space:pre;overflow-x:auto;line-height:normal;font-family:Menlo,'DejaVu Sans Mono',consolas,'Courier New',monospace\">Processing ABBV using FinBERT\n",
       "</pre>\n"
      ],
      "text/plain": [
       "Processing ABBV using FinBERT\n"
      ]
     },
     "metadata": {},
     "output_type": "display_data"
    },
    {
     "data": {
      "text/html": [
       "<pre style=\"white-space:pre;overflow-x:auto;line-height:normal;font-family:Menlo,'DejaVu Sans Mono',consolas,'Courier New',monospace\">Processing ABT using FinBERT\n",
       "</pre>\n"
      ],
      "text/plain": [
       "Processing ABT using FinBERT\n"
      ]
     },
     "metadata": {},
     "output_type": "display_data"
    },
    {
     "data": {
      "text/html": [
       "<pre style=\"white-space:pre;overflow-x:auto;line-height:normal;font-family:Menlo,'DejaVu Sans Mono',consolas,'Courier New',monospace\">Processing ACN using FinBERT\n",
       "</pre>\n"
      ],
      "text/plain": [
       "Processing ACN using FinBERT\n"
      ]
     },
     "metadata": {},
     "output_type": "display_data"
    },
    {
     "data": {
      "text/html": [
       "<pre style=\"white-space:pre;overflow-x:auto;line-height:normal;font-family:Menlo,'DejaVu Sans Mono',consolas,'Courier New',monospace\">Processing ADBE using FinBERT\n",
       "</pre>\n"
      ],
      "text/plain": [
       "Processing ADBE using FinBERT\n"
      ]
     },
     "metadata": {},
     "output_type": "display_data"
    },
    {
     "data": {
      "text/html": [
       "<pre style=\"white-space:pre;overflow-x:auto;line-height:normal;font-family:Menlo,'DejaVu Sans Mono',consolas,'Courier New',monospace\">Processing ADI using FinBERT\n",
       "</pre>\n"
      ],
      "text/plain": [
       "Processing ADI using FinBERT\n"
      ]
     },
     "metadata": {},
     "output_type": "display_data"
    },
    {
     "data": {
      "text/html": [
       "<pre style=\"white-space:pre;overflow-x:auto;line-height:normal;font-family:Menlo,'DejaVu Sans Mono',consolas,'Courier New',monospace\">Processing ADP using FinBERT\n",
       "</pre>\n"
      ],
      "text/plain": [
       "Processing ADP using FinBERT\n"
      ]
     },
     "metadata": {},
     "output_type": "display_data"
    },
    {
     "data": {
      "text/html": [
       "<pre style=\"white-space:pre;overflow-x:auto;line-height:normal;font-family:Menlo,'DejaVu Sans Mono',consolas,'Courier New',monospace\">Processing AMAT using FinBERT\n",
       "</pre>\n"
      ],
      "text/plain": [
       "Processing AMAT using FinBERT\n"
      ]
     },
     "metadata": {},
     "output_type": "display_data"
    },
    {
     "data": {
      "text/html": [
       "<pre style=\"white-space:pre;overflow-x:auto;line-height:normal;font-family:Menlo,'DejaVu Sans Mono',consolas,'Courier New',monospace\">Processing AMD using FinBERT\n",
       "</pre>\n"
      ],
      "text/plain": [
       "Processing AMD using FinBERT\n"
      ]
     },
     "metadata": {},
     "output_type": "display_data"
    },
    {
     "data": {
      "text/html": [
       "<pre style=\"white-space:pre;overflow-x:auto;line-height:normal;font-family:Menlo,'DejaVu Sans Mono',consolas,'Courier New',monospace\">Processing AMGN using FinBERT\n",
       "</pre>\n"
      ],
      "text/plain": [
       "Processing AMGN using FinBERT\n"
      ]
     },
     "metadata": {},
     "output_type": "display_data"
    },
    {
     "data": {
      "text/html": [
       "<pre style=\"white-space:pre;overflow-x:auto;line-height:normal;font-family:Menlo,'DejaVu Sans Mono',consolas,'Courier New',monospace\">Processing AMZN using FinBERT\n",
       "</pre>\n"
      ],
      "text/plain": [
       "Processing AMZN using FinBERT\n"
      ]
     },
     "metadata": {},
     "output_type": "display_data"
    },
    {
     "data": {
      "text/html": [
       "<pre style=\"white-space:pre;overflow-x:auto;line-height:normal;font-family:Menlo,'DejaVu Sans Mono',consolas,'Courier New',monospace\">Processing AVGO using FinBERT\n",
       "</pre>\n"
      ],
      "text/plain": [
       "Processing AVGO using FinBERT\n"
      ]
     },
     "metadata": {},
     "output_type": "display_data"
    },
    {
     "data": {
      "text/html": [
       "<pre style=\"white-space:pre;overflow-x:auto;line-height:normal;font-family:Menlo,'DejaVu Sans Mono',consolas,'Courier New',monospace\">Processing AXP using FinBERT\n",
       "</pre>\n"
      ],
      "text/plain": [
       "Processing AXP using FinBERT\n"
      ]
     },
     "metadata": {},
     "output_type": "display_data"
    },
    {
     "data": {
      "text/html": [
       "<pre style=\"white-space:pre;overflow-x:auto;line-height:normal;font-family:Menlo,'DejaVu Sans Mono',consolas,'Courier New',monospace\">Processing BAC using FinBERT\n",
       "</pre>\n"
      ],
      "text/plain": [
       "Processing BAC using FinBERT\n"
      ]
     },
     "metadata": {},
     "output_type": "display_data"
    },
    {
     "data": {
      "text/html": [
       "<pre style=\"white-space:pre;overflow-x:auto;line-height:normal;font-family:Menlo,'DejaVu Sans Mono',consolas,'Courier New',monospace\">Processing BA using FinBERT\n",
       "</pre>\n"
      ],
      "text/plain": [
       "Processing BA using FinBERT\n"
      ]
     },
     "metadata": {},
     "output_type": "display_data"
    },
    {
     "data": {
      "text/html": [
       "<pre style=\"white-space:pre;overflow-x:auto;line-height:normal;font-family:Menlo,'DejaVu Sans Mono',consolas,'Courier New',monospace\">Processing BKNG using FinBERT\n",
       "</pre>\n"
      ],
      "text/plain": [
       "Processing BKNG using FinBERT\n"
      ]
     },
     "metadata": {},
     "output_type": "display_data"
    },
    {
     "data": {
      "text/html": [
       "<pre style=\"white-space:pre;overflow-x:auto;line-height:normal;font-family:Menlo,'DejaVu Sans Mono',consolas,'Courier New',monospace\">Processing BLK using FinBERT\n",
       "</pre>\n"
      ],
      "text/plain": [
       "Processing BLK using FinBERT\n"
      ]
     },
     "metadata": {},
     "output_type": "display_data"
    },
    {
     "data": {
      "text/html": [
       "<pre style=\"white-space:pre;overflow-x:auto;line-height:normal;font-family:Menlo,'DejaVu Sans Mono',consolas,'Courier New',monospace\">Processing BMY using FinBERT\n",
       "</pre>\n"
      ],
      "text/plain": [
       "Processing BMY using FinBERT\n"
      ]
     },
     "metadata": {},
     "output_type": "display_data"
    },
    {
     "data": {
      "text/html": [
       "<pre style=\"white-space:pre;overflow-x:auto;line-height:normal;font-family:Menlo,'DejaVu Sans Mono',consolas,'Courier New',monospace\">Processing BRK-B using FinBERT\n",
       "</pre>\n"
      ],
      "text/plain": [
       "Processing BRK-B using FinBERT\n"
      ]
     },
     "metadata": {},
     "output_type": "display_data"
    },
    {
     "data": {
      "text/html": [
       "<pre style=\"white-space:pre;overflow-x:auto;line-height:normal;font-family:Menlo,'DejaVu Sans Mono',consolas,'Courier New',monospace\">Processing BSX using FinBERT\n",
       "</pre>\n"
      ],
      "text/plain": [
       "Processing BSX using FinBERT\n"
      ]
     },
     "metadata": {},
     "output_type": "display_data"
    },
    {
     "data": {
      "text/html": [
       "<pre style=\"white-space:pre;overflow-x:auto;line-height:normal;font-family:Menlo,'DejaVu Sans Mono',consolas,'Courier New',monospace\">Processing BX using FinBERT\n",
       "</pre>\n"
      ],
      "text/plain": [
       "Processing BX using FinBERT\n"
      ]
     },
     "metadata": {},
     "output_type": "display_data"
    },
    {
     "data": {
      "text/html": [
       "<pre style=\"white-space:pre;overflow-x:auto;line-height:normal;font-family:Menlo,'DejaVu Sans Mono',consolas,'Courier New',monospace\">Processing CAT using FinBERT\n",
       "</pre>\n"
      ],
      "text/plain": [
       "Processing CAT using FinBERT\n"
      ]
     },
     "metadata": {},
     "output_type": "display_data"
    },
    {
     "data": {
      "text/html": [
       "<pre style=\"white-space:pre;overflow-x:auto;line-height:normal;font-family:Menlo,'DejaVu Sans Mono',consolas,'Courier New',monospace\">Processing CB using FinBERT\n",
       "</pre>\n"
      ],
      "text/plain": [
       "Processing CB using FinBERT\n"
      ]
     },
     "metadata": {},
     "output_type": "display_data"
    },
    {
     "data": {
      "text/html": [
       "<pre style=\"white-space:pre;overflow-x:auto;line-height:normal;font-family:Menlo,'DejaVu Sans Mono',consolas,'Courier New',monospace\">Processing CI using FinBERT\n",
       "</pre>\n"
      ],
      "text/plain": [
       "Processing CI using FinBERT\n"
      ]
     },
     "metadata": {},
     "output_type": "display_data"
    },
    {
     "data": {
      "text/html": [
       "<pre style=\"white-space:pre;overflow-x:auto;line-height:normal;font-family:Menlo,'DejaVu Sans Mono',consolas,'Courier New',monospace\">Processing CMCSA using FinBERT\n",
       "</pre>\n"
      ],
      "text/plain": [
       "Processing CMCSA using FinBERT\n"
      ]
     },
     "metadata": {},
     "output_type": "display_data"
    },
    {
     "data": {
      "text/html": [
       "<pre style=\"white-space:pre;overflow-x:auto;line-height:normal;font-family:Menlo,'DejaVu Sans Mono',consolas,'Courier New',monospace\">Processing COP using FinBERT\n",
       "</pre>\n"
      ],
      "text/plain": [
       "Processing COP using FinBERT\n"
      ]
     },
     "metadata": {},
     "output_type": "display_data"
    },
    {
     "data": {
      "text/html": [
       "<pre style=\"white-space:pre;overflow-x:auto;line-height:normal;font-family:Menlo,'DejaVu Sans Mono',consolas,'Courier New',monospace\">Processing COST using FinBERT\n",
       "</pre>\n"
      ],
      "text/plain": [
       "Processing COST using FinBERT\n"
      ]
     },
     "metadata": {},
     "output_type": "display_data"
    },
    {
     "data": {
      "text/html": [
       "<pre style=\"white-space:pre;overflow-x:auto;line-height:normal;font-family:Menlo,'DejaVu Sans Mono',consolas,'Courier New',monospace\">Processing CRM using FinBERT\n",
       "</pre>\n"
      ],
      "text/plain": [
       "Processing CRM using FinBERT\n"
      ]
     },
     "metadata": {},
     "output_type": "display_data"
    },
    {
     "data": {
      "text/html": [
       "<pre style=\"white-space:pre;overflow-x:auto;line-height:normal;font-family:Menlo,'DejaVu Sans Mono',consolas,'Courier New',monospace\">Processing CSCO using FinBERT\n",
       "</pre>\n"
      ],
      "text/plain": [
       "Processing CSCO using FinBERT\n"
      ]
     },
     "metadata": {},
     "output_type": "display_data"
    },
    {
     "data": {
      "text/html": [
       "<pre style=\"white-space:pre;overflow-x:auto;line-height:normal;font-family:Menlo,'DejaVu Sans Mono',consolas,'Courier New',monospace\">Processing CVS using FinBERT\n",
       "</pre>\n"
      ],
      "text/plain": [
       "Processing CVS using FinBERT\n"
      ]
     },
     "metadata": {},
     "output_type": "display_data"
    },
    {
     "data": {
      "text/html": [
       "<pre style=\"white-space:pre;overflow-x:auto;line-height:normal;font-family:Menlo,'DejaVu Sans Mono',consolas,'Courier New',monospace\">Processing DHR using FinBERT\n",
       "</pre>\n"
      ],
      "text/plain": [
       "Processing DHR using FinBERT\n"
      ]
     },
     "metadata": {},
     "output_type": "display_data"
    },
    {
     "data": {
      "text/html": [
       "<pre style=\"white-space:pre;overflow-x:auto;line-height:normal;font-family:Menlo,'DejaVu Sans Mono',consolas,'Courier New',monospace\">Processing DIS using FinBERT\n",
       "</pre>\n"
      ],
      "text/plain": [
       "Processing DIS using FinBERT\n"
      ]
     },
     "metadata": {},
     "output_type": "display_data"
    },
    {
     "data": {
      "text/html": [
       "<pre style=\"white-space:pre;overflow-x:auto;line-height:normal;font-family:Menlo,'DejaVu Sans Mono',consolas,'Courier New',monospace\">Processing ELV using FinBERT\n",
       "</pre>\n"
      ],
      "text/plain": [
       "Processing ELV using FinBERT\n"
      ]
     },
     "metadata": {},
     "output_type": "display_data"
    },
    {
     "data": {
      "text/html": [
       "<pre style=\"white-space:pre;overflow-x:auto;line-height:normal;font-family:Menlo,'DejaVu Sans Mono',consolas,'Courier New',monospace\">Processing GILD using FinBERT\n",
       "</pre>\n"
      ],
      "text/plain": [
       "Processing GILD using FinBERT\n"
      ]
     },
     "metadata": {},
     "output_type": "display_data"
    },
    {
     "data": {
      "text/html": [
       "<pre style=\"white-space:pre;overflow-x:auto;line-height:normal;font-family:Menlo,'DejaVu Sans Mono',consolas,'Courier New',monospace\">Processing GOOGL using FinBERT\n",
       "</pre>\n"
      ],
      "text/plain": [
       "Processing GOOGL using FinBERT\n"
      ]
     },
     "metadata": {},
     "output_type": "display_data"
    },
    {
     "data": {
      "text/html": [
       "<pre style=\"white-space:pre;overflow-x:auto;line-height:normal;font-family:Menlo,'DejaVu Sans Mono',consolas,'Courier New',monospace\">Processing GS using FinBERT\n",
       "</pre>\n"
      ],
      "text/plain": [
       "Processing GS using FinBERT\n"
      ]
     },
     "metadata": {},
     "output_type": "display_data"
    },
    {
     "data": {
      "text/html": [
       "<pre style=\"white-space:pre;overflow-x:auto;line-height:normal;font-family:Menlo,'DejaVu Sans Mono',consolas,'Courier New',monospace\">Processing HD using FinBERT\n",
       "</pre>\n"
      ],
      "text/plain": [
       "Processing HD using FinBERT\n"
      ]
     },
     "metadata": {},
     "output_type": "display_data"
    },
    {
     "data": {
      "text/html": [
       "<pre style=\"white-space:pre;overflow-x:auto;line-height:normal;font-family:Menlo,'DejaVu Sans Mono',consolas,'Courier New',monospace\">Processing HON using FinBERT\n",
       "</pre>\n"
      ],
      "text/plain": [
       "Processing HON using FinBERT\n"
      ]
     },
     "metadata": {},
     "output_type": "display_data"
    },
    {
     "data": {
      "text/html": [
       "<pre style=\"white-space:pre;overflow-x:auto;line-height:normal;font-family:Menlo,'DejaVu Sans Mono',consolas,'Courier New',monospace\">Processing INTC using FinBERT\n",
       "</pre>\n"
      ],
      "text/plain": [
       "Processing INTC using FinBERT\n"
      ]
     },
     "metadata": {},
     "output_type": "display_data"
    },
    {
     "data": {
      "text/html": [
       "<pre style=\"white-space:pre;overflow-x:auto;line-height:normal;font-family:Menlo,'DejaVu Sans Mono',consolas,'Courier New',monospace\">Processing INTU using FinBERT\n",
       "</pre>\n"
      ],
      "text/plain": [
       "Processing INTU using FinBERT\n"
      ]
     },
     "metadata": {},
     "output_type": "display_data"
    },
    {
     "data": {
      "text/html": [
       "<pre style=\"white-space:pre;overflow-x:auto;line-height:normal;font-family:Menlo,'DejaVu Sans Mono',consolas,'Courier New',monospace\">Processing ISRG using FinBERT\n",
       "</pre>\n"
      ],
      "text/plain": [
       "Processing ISRG using FinBERT\n"
      ]
     },
     "metadata": {},
     "output_type": "display_data"
    },
    {
     "data": {
      "text/html": [
       "<pre style=\"white-space:pre;overflow-x:auto;line-height:normal;font-family:Menlo,'DejaVu Sans Mono',consolas,'Courier New',monospace\">Processing KO using FinBERT\n",
       "</pre>\n"
      ],
      "text/plain": [
       "Processing KO using FinBERT\n"
      ]
     },
     "metadata": {},
     "output_type": "display_data"
    },
    {
     "data": {
      "text/html": [
       "<pre style=\"white-space:pre;overflow-x:auto;line-height:normal;font-family:Menlo,'DejaVu Sans Mono',consolas,'Courier New',monospace\">Processing LIN using FinBERT\n",
       "</pre>\n"
      ],
      "text/plain": [
       "Processing LIN using FinBERT\n"
      ]
     },
     "metadata": {},
     "output_type": "display_data"
    },
    {
     "data": {
      "text/html": [
       "<pre style=\"white-space:pre;overflow-x:auto;line-height:normal;font-family:Menlo,'DejaVu Sans Mono',consolas,'Courier New',monospace\">Processing LLY using FinBERT\n",
       "</pre>\n"
      ],
      "text/plain": [
       "Processing LLY using FinBERT\n"
      ]
     },
     "metadata": {},
     "output_type": "display_data"
    },
    {
     "data": {
      "text/html": [
       "<pre style=\"white-space:pre;overflow-x:auto;line-height:normal;font-family:Menlo,'DejaVu Sans Mono',consolas,'Courier New',monospace\">Processing LMT using FinBERT\n",
       "</pre>\n"
      ],
      "text/plain": [
       "Processing LMT using FinBERT\n"
      ]
     },
     "metadata": {},
     "output_type": "display_data"
    },
    {
     "data": {
      "text/html": [
       "<pre style=\"white-space:pre;overflow-x:auto;line-height:normal;font-family:Menlo,'DejaVu Sans Mono',consolas,'Courier New',monospace\">Processing LOW using FinBERT\n",
       "</pre>\n"
      ],
      "text/plain": [
       "Processing LOW using FinBERT\n"
      ]
     },
     "metadata": {},
     "output_type": "display_data"
    },
    {
     "data": {
      "text/html": [
       "<pre style=\"white-space:pre;overflow-x:auto;line-height:normal;font-family:Menlo,'DejaVu Sans Mono',consolas,'Courier New',monospace\">Processing LRCX using FinBERT\n",
       "</pre>\n"
      ],
      "text/plain": [
       "Processing LRCX using FinBERT\n"
      ]
     },
     "metadata": {},
     "output_type": "display_data"
    },
    {
     "data": {
      "text/html": [
       "<pre style=\"white-space:pre;overflow-x:auto;line-height:normal;font-family:Menlo,'DejaVu Sans Mono',consolas,'Courier New',monospace\">Processing MCD using FinBERT\n",
       "</pre>\n"
      ],
      "text/plain": [
       "Processing MCD using FinBERT\n"
      ]
     },
     "metadata": {},
     "output_type": "display_data"
    },
    {
     "data": {
      "text/html": [
       "<pre style=\"white-space:pre;overflow-x:auto;line-height:normal;font-family:Menlo,'DejaVu Sans Mono',consolas,'Courier New',monospace\">Processing MDLZ using FinBERT\n",
       "</pre>\n"
      ],
      "text/plain": [
       "Processing MDLZ using FinBERT\n"
      ]
     },
     "metadata": {},
     "output_type": "display_data"
    },
    {
     "data": {
      "text/html": [
       "<pre style=\"white-space:pre;overflow-x:auto;line-height:normal;font-family:Menlo,'DejaVu Sans Mono',consolas,'Courier New',monospace\">Processing MDT using FinBERT\n",
       "</pre>\n"
      ],
      "text/plain": [
       "Processing MDT using FinBERT\n"
      ]
     },
     "metadata": {},
     "output_type": "display_data"
    },
    {
     "data": {
      "text/html": [
       "<pre style=\"white-space:pre;overflow-x:auto;line-height:normal;font-family:Menlo,'DejaVu Sans Mono',consolas,'Courier New',monospace\">Processing META using FinBERT\n",
       "</pre>\n"
      ],
      "text/plain": [
       "Processing META using FinBERT\n"
      ]
     },
     "metadata": {},
     "output_type": "display_data"
    },
    {
     "data": {
      "text/html": [
       "<pre style=\"white-space:pre;overflow-x:auto;line-height:normal;font-family:Menlo,'DejaVu Sans Mono',consolas,'Courier New',monospace\">Processing MMC using FinBERT\n",
       "</pre>\n"
      ],
      "text/plain": [
       "Processing MMC using FinBERT\n"
      ]
     },
     "metadata": {},
     "output_type": "display_data"
    },
    {
     "data": {
      "text/html": [
       "<pre style=\"white-space:pre;overflow-x:auto;line-height:normal;font-family:Menlo,'DejaVu Sans Mono',consolas,'Courier New',monospace\">Processing MRK using FinBERT\n",
       "</pre>\n"
      ],
      "text/plain": [
       "Processing MRK using FinBERT\n"
      ]
     },
     "metadata": {},
     "output_type": "display_data"
    },
    {
     "data": {
      "text/html": [
       "<pre style=\"white-space:pre;overflow-x:auto;line-height:normal;font-family:Menlo,'DejaVu Sans Mono',consolas,'Courier New',monospace\">Processing MSFT using FinBERT\n",
       "</pre>\n"
      ],
      "text/plain": [
       "Processing MSFT using FinBERT\n"
      ]
     },
     "metadata": {},
     "output_type": "display_data"
    },
    {
     "data": {
      "text/html": [
       "<pre style=\"white-space:pre;overflow-x:auto;line-height:normal;font-family:Menlo,'DejaVu Sans Mono',consolas,'Courier New',monospace\">Processing MS using FinBERT\n",
       "</pre>\n"
      ],
      "text/plain": [
       "Processing MS using FinBERT\n"
      ]
     },
     "metadata": {},
     "output_type": "display_data"
    },
    {
     "data": {
      "text/html": [
       "<pre style=\"white-space:pre;overflow-x:auto;line-height:normal;font-family:Menlo,'DejaVu Sans Mono',consolas,'Courier New',monospace\">Processing MU using FinBERT\n",
       "</pre>\n"
      ],
      "text/plain": [
       "Processing MU using FinBERT\n"
      ]
     },
     "metadata": {},
     "output_type": "display_data"
    },
    {
     "data": {
      "text/html": [
       "<pre style=\"white-space:pre;overflow-x:auto;line-height:normal;font-family:Menlo,'DejaVu Sans Mono',consolas,'Courier New',monospace\">Processing NEE using FinBERT\n",
       "</pre>\n"
      ],
      "text/plain": [
       "Processing NEE using FinBERT\n"
      ]
     },
     "metadata": {},
     "output_type": "display_data"
    },
    {
     "data": {
      "text/html": [
       "<pre style=\"white-space:pre;overflow-x:auto;line-height:normal;font-family:Menlo,'DejaVu Sans Mono',consolas,'Courier New',monospace\">Processing NFLX using FinBERT\n",
       "</pre>\n"
      ],
      "text/plain": [
       "Processing NFLX using FinBERT\n"
      ]
     },
     "metadata": {},
     "output_type": "display_data"
    },
    {
     "data": {
      "text/html": [
       "<pre style=\"white-space:pre;overflow-x:auto;line-height:normal;font-family:Menlo,'DejaVu Sans Mono',consolas,'Courier New',monospace\">Processing NKE using FinBERT\n",
       "</pre>\n"
      ],
      "text/plain": [
       "Processing NKE using FinBERT\n"
      ]
     },
     "metadata": {},
     "output_type": "display_data"
    },
    {
     "data": {
      "text/html": [
       "<pre style=\"white-space:pre;overflow-x:auto;line-height:normal;font-family:Menlo,'DejaVu Sans Mono',consolas,'Courier New',monospace\">Processing NOW using FinBERT\n",
       "</pre>\n"
      ],
      "text/plain": [
       "Processing NOW using FinBERT\n"
      ]
     },
     "metadata": {},
     "output_type": "display_data"
    },
    {
     "data": {
      "text/html": [
       "<pre style=\"white-space:pre;overflow-x:auto;line-height:normal;font-family:Menlo,'DejaVu Sans Mono',consolas,'Courier New',monospace\">Processing NVDA using FinBERT\n",
       "</pre>\n"
      ],
      "text/plain": [
       "Processing NVDA using FinBERT\n"
      ]
     },
     "metadata": {},
     "output_type": "display_data"
    },
    {
     "data": {
      "text/html": [
       "<pre style=\"white-space:pre;overflow-x:auto;line-height:normal;font-family:Menlo,'DejaVu Sans Mono',consolas,'Courier New',monospace\">Processing ORCL using FinBERT\n",
       "</pre>\n"
      ],
      "text/plain": [
       "Processing ORCL using FinBERT\n"
      ]
     },
     "metadata": {},
     "output_type": "display_data"
    },
    {
     "data": {
      "text/html": [
       "<pre style=\"white-space:pre;overflow-x:auto;line-height:normal;font-family:Menlo,'DejaVu Sans Mono',consolas,'Courier New',monospace\">Processing PANW using FinBERT\n",
       "</pre>\n"
      ],
      "text/plain": [
       "Processing PANW using FinBERT\n"
      ]
     },
     "metadata": {},
     "output_type": "display_data"
    },
    {
     "data": {
      "text/html": [
       "<pre style=\"white-space:pre;overflow-x:auto;line-height:normal;font-family:Menlo,'DejaVu Sans Mono',consolas,'Courier New',monospace\">Processing PEP using FinBERT\n",
       "</pre>\n"
      ],
      "text/plain": [
       "Processing PEP using FinBERT\n"
      ]
     },
     "metadata": {},
     "output_type": "display_data"
    },
    {
     "data": {
      "text/html": [
       "<pre style=\"white-space:pre;overflow-x:auto;line-height:normal;font-family:Menlo,'DejaVu Sans Mono',consolas,'Courier New',monospace\">Processing PFE using FinBERT\n",
       "</pre>\n"
      ],
      "text/plain": [
       "Processing PFE using FinBERT\n"
      ]
     },
     "metadata": {},
     "output_type": "display_data"
    },
    {
     "data": {
      "text/html": [
       "<pre style=\"white-space:pre;overflow-x:auto;line-height:normal;font-family:Menlo,'DejaVu Sans Mono',consolas,'Courier New',monospace\">Processing PG using FinBERT\n",
       "</pre>\n"
      ],
      "text/plain": [
       "Processing PG using FinBERT\n"
      ]
     },
     "metadata": {},
     "output_type": "display_data"
    },
    {
     "data": {
      "text/html": [
       "<pre style=\"white-space:pre;overflow-x:auto;line-height:normal;font-family:Menlo,'DejaVu Sans Mono',consolas,'Courier New',monospace\">Processing PLD using FinBERT\n",
       "</pre>\n"
      ],
      "text/plain": [
       "Processing PLD using FinBERT\n"
      ]
     },
     "metadata": {},
     "output_type": "display_data"
    },
    {
     "data": {
      "text/html": [
       "<pre style=\"white-space:pre;overflow-x:auto;line-height:normal;font-family:Menlo,'DejaVu Sans Mono',consolas,'Courier New',monospace\">Processing PM using FinBERT\n",
       "</pre>\n"
      ],
      "text/plain": [
       "Processing PM using FinBERT\n"
      ]
     },
     "metadata": {},
     "output_type": "display_data"
    },
    {
     "data": {
      "text/html": [
       "<pre style=\"white-space:pre;overflow-x:auto;line-height:normal;font-family:Menlo,'DejaVu Sans Mono',consolas,'Courier New',monospace\">Processing QCOM using FinBERT\n",
       "</pre>\n"
      ],
      "text/plain": [
       "Processing QCOM using FinBERT\n"
      ]
     },
     "metadata": {},
     "output_type": "display_data"
    },
    {
     "data": {
      "text/html": [
       "<pre style=\"white-space:pre;overflow-x:auto;line-height:normal;font-family:Menlo,'DejaVu Sans Mono',consolas,'Courier New',monospace\">Processing REGN using FinBERT\n",
       "</pre>\n"
      ],
      "text/plain": [
       "Processing REGN using FinBERT\n"
      ]
     },
     "metadata": {},
     "output_type": "display_data"
    },
    {
     "data": {
      "text/html": [
       "<pre style=\"white-space:pre;overflow-x:auto;line-height:normal;font-family:Menlo,'DejaVu Sans Mono',consolas,'Courier New',monospace\">Processing RTX using FinBERT\n",
       "</pre>\n"
      ],
      "text/plain": [
       "Processing RTX using FinBERT\n"
      ]
     },
     "metadata": {},
     "output_type": "display_data"
    },
    {
     "data": {
      "text/html": [
       "<pre style=\"white-space:pre;overflow-x:auto;line-height:normal;font-family:Menlo,'DejaVu Sans Mono',consolas,'Courier New',monospace\">Processing SBUX using FinBERT\n",
       "</pre>\n"
      ],
      "text/plain": [
       "Processing SBUX using FinBERT\n"
      ]
     },
     "metadata": {},
     "output_type": "display_data"
    },
    {
     "data": {
      "text/html": [
       "<pre style=\"white-space:pre;overflow-x:auto;line-height:normal;font-family:Menlo,'DejaVu Sans Mono',consolas,'Courier New',monospace\">Processing SCHW using FinBERT\n",
       "</pre>\n"
      ],
      "text/plain": [
       "Processing SCHW using FinBERT\n"
      ]
     },
     "metadata": {},
     "output_type": "display_data"
    },
    {
     "data": {
      "text/html": [
       "<pre style=\"white-space:pre;overflow-x:auto;line-height:normal;font-family:Menlo,'DejaVu Sans Mono',consolas,'Courier New',monospace\">Processing SPGI using FinBERT\n",
       "</pre>\n"
      ],
      "text/plain": [
       "Processing SPGI using FinBERT\n"
      ]
     },
     "metadata": {},
     "output_type": "display_data"
    },
    {
     "data": {
      "text/html": [
       "<pre style=\"white-space:pre;overflow-x:auto;line-height:normal;font-family:Menlo,'DejaVu Sans Mono',consolas,'Courier New',monospace\">Processing SYK using FinBERT\n",
       "</pre>\n"
      ],
      "text/plain": [
       "Processing SYK using FinBERT\n"
      ]
     },
     "metadata": {},
     "output_type": "display_data"
    },
    {
     "data": {
      "text/html": [
       "<pre style=\"white-space:pre;overflow-x:auto;line-height:normal;font-family:Menlo,'DejaVu Sans Mono',consolas,'Courier New',monospace\">Processing TJX using FinBERT\n",
       "</pre>\n"
      ],
      "text/plain": [
       "Processing TJX using FinBERT\n"
      ]
     },
     "metadata": {},
     "output_type": "display_data"
    },
    {
     "data": {
      "text/html": [
       "<pre style=\"white-space:pre;overflow-x:auto;line-height:normal;font-family:Menlo,'DejaVu Sans Mono',consolas,'Courier New',monospace\">Processing TMO using FinBERT\n",
       "</pre>\n"
      ],
      "text/plain": [
       "Processing TMO using FinBERT\n"
      ]
     },
     "metadata": {},
     "output_type": "display_data"
    },
    {
     "data": {
      "text/html": [
       "<pre style=\"white-space:pre;overflow-x:auto;line-height:normal;font-family:Menlo,'DejaVu Sans Mono',consolas,'Courier New',monospace\">Processing TSLA using FinBERT\n",
       "</pre>\n"
      ],
      "text/plain": [
       "Processing TSLA using FinBERT\n"
      ]
     },
     "metadata": {},
     "output_type": "display_data"
    },
    {
     "data": {
      "text/html": [
       "<pre style=\"white-space:pre;overflow-x:auto;line-height:normal;font-family:Menlo,'DejaVu Sans Mono',consolas,'Courier New',monospace\">Processing TXN using FinBERT\n",
       "</pre>\n"
      ],
      "text/plain": [
       "Processing TXN using FinBERT\n"
      ]
     },
     "metadata": {},
     "output_type": "display_data"
    },
    {
     "data": {
      "text/html": [
       "<pre style=\"white-space:pre;overflow-x:auto;line-height:normal;font-family:Menlo,'DejaVu Sans Mono',consolas,'Courier New',monospace\">Processing T using FinBERT\n",
       "</pre>\n"
      ],
      "text/plain": [
       "Processing T using FinBERT\n"
      ]
     },
     "metadata": {},
     "output_type": "display_data"
    },
    {
     "data": {
      "text/html": [
       "<pre style=\"white-space:pre;overflow-x:auto;line-height:normal;font-family:Menlo,'DejaVu Sans Mono',consolas,'Courier New',monospace\">Processing UBER using FinBERT\n",
       "</pre>\n"
      ],
      "text/plain": [
       "Processing UBER using FinBERT\n"
      ]
     },
     "metadata": {},
     "output_type": "display_data"
    },
    {
     "data": {
      "text/html": [
       "<pre style=\"white-space:pre;overflow-x:auto;line-height:normal;font-family:Menlo,'DejaVu Sans Mono',consolas,'Courier New',monospace\">Processing UNH using FinBERT\n",
       "</pre>\n"
      ],
      "text/plain": [
       "Processing UNH using FinBERT\n"
      ]
     },
     "metadata": {},
     "output_type": "display_data"
    },
    {
     "data": {
      "text/html": [
       "<pre style=\"white-space:pre;overflow-x:auto;line-height:normal;font-family:Menlo,'DejaVu Sans Mono',consolas,'Courier New',monospace\">Processing UNP using FinBERT\n",
       "</pre>\n"
      ],
      "text/plain": [
       "Processing UNP using FinBERT\n"
      ]
     },
     "metadata": {},
     "output_type": "display_data"
    },
    {
     "data": {
      "text/html": [
       "<pre style=\"white-space:pre;overflow-x:auto;line-height:normal;font-family:Menlo,'DejaVu Sans Mono',consolas,'Courier New',monospace\">Processing UPS using FinBERT\n",
       "</pre>\n"
      ],
      "text/plain": [
       "Processing UPS using FinBERT\n"
      ]
     },
     "metadata": {},
     "output_type": "display_data"
    },
    {
     "data": {
      "text/html": [
       "<pre style=\"white-space:pre;overflow-x:auto;line-height:normal;font-family:Menlo,'DejaVu Sans Mono',consolas,'Courier New',monospace\">Processing VRTX using FinBERT\n",
       "</pre>\n"
      ],
      "text/plain": [
       "Processing VRTX using FinBERT\n"
      ]
     },
     "metadata": {},
     "output_type": "display_data"
    },
    {
     "data": {
      "text/html": [
       "<pre style=\"white-space:pre;overflow-x:auto;line-height:normal;font-family:Menlo,'DejaVu Sans Mono',consolas,'Courier New',monospace\">Processing VZ using FinBERT\n",
       "</pre>\n"
      ],
      "text/plain": [
       "Processing VZ using FinBERT\n"
      ]
     },
     "metadata": {},
     "output_type": "display_data"
    },
    {
     "data": {
      "text/html": [
       "<pre style=\"white-space:pre;overflow-x:auto;line-height:normal;font-family:Menlo,'DejaVu Sans Mono',consolas,'Courier New',monospace\">Processing V using FinBERT\n",
       "</pre>\n"
      ],
      "text/plain": [
       "Processing V using FinBERT\n"
      ]
     },
     "metadata": {},
     "output_type": "display_data"
    },
    {
     "data": {
      "text/html": [
       "<pre style=\"white-space:pre;overflow-x:auto;line-height:normal;font-family:Menlo,'DejaVu Sans Mono',consolas,'Courier New',monospace\">Processing WMT using FinBERT\n",
       "</pre>\n"
      ],
      "text/plain": [
       "Processing WMT using FinBERT\n"
      ]
     },
     "metadata": {},
     "output_type": "display_data"
    },
    {
     "data": {
      "text/html": [
       "<pre style=\"white-space:pre;overflow-x:auto;line-height:normal;font-family:Menlo,'DejaVu Sans Mono',consolas,'Courier New',monospace\">Processed using FinBERT\n",
       "</pre>\n"
      ],
      "text/plain": [
       "Processed using FinBERT\n"
      ]
     },
     "metadata": {},
     "output_type": "display_data"
    }
   ],
   "source": [
    "finbert_results = []\n",
    "\n",
    "for ticker, doc in docs.items():\n",
    "    print(f\"Processing {ticker} using FinBERT\")\n",
    "    for sent in nltk.sent_tokenize(doc):\n",
    "        sentiment = pipe(\n",
    "            sent, padding=True, truncation=True, max_length=512, top_k=None\n",
    "        )\n",
    "\n",
    "        finbert_results.append(\n",
    "            {\"Ticker\": ticker, \"Sentence\": sent, \"Sentiment\": sentiment}\n",
    "        )\n",
    "\n",
    "\n",
    "print(\"Processed using FinBERT\")"
   ]
  },
  {
   "cell_type": "code",
   "execution_count": 20,
   "metadata": {},
   "outputs": [
    {
     "data": {
      "text/html": [
       "<pre style=\"white-space:pre;overflow-x:auto;line-height:normal;font-family:Menlo,'DejaVu Sans Mono',consolas,'Courier New',monospace\"></pre>\n"
      ],
      "text/plain": []
     },
     "metadata": {},
     "output_type": "display_data"
    },
    {
     "data": {
      "text/html": [
       "<div>\n",
       "<style scoped>\n",
       "    .dataframe tbody tr th:only-of-type {\n",
       "        vertical-align: middle;\n",
       "    }\n",
       "\n",
       "    .dataframe tbody tr th {\n",
       "        vertical-align: top;\n",
       "    }\n",
       "\n",
       "    .dataframe thead th {\n",
       "        text-align: right;\n",
       "    }\n",
       "</style>\n",
       "<table border=\"1\" class=\"dataframe\">\n",
       "  <thead>\n",
       "    <tr style=\"text-align: right;\">\n",
       "      <th></th>\n",
       "      <th>label</th>\n",
       "      <th>negative</th>\n",
       "      <th>neutral</th>\n",
       "      <th>positive</th>\n",
       "    </tr>\n",
       "    <tr>\n",
       "      <th>Ticker</th>\n",
       "      <th>Sentence</th>\n",
       "      <th></th>\n",
       "      <th></th>\n",
       "      <th></th>\n",
       "    </tr>\n",
       "  </thead>\n",
       "  <tbody>\n",
       "    <tr>\n",
       "      <th rowspan=\"5\" valign=\"top\">AAPL</th>\n",
       "      <th>Item 7.</th>\n",
       "      <td>0.059011</td>\n",
       "      <td>0.917935</td>\n",
       "      <td>0.023054</td>\n",
       "    </tr>\n",
       "    <tr>\n",
       "      <th>(2) Wearables, Home and Accessories net sales include sales of AirPods, Apple TV, Apple Watch, Beats products, HomePod, iPod touch and Apple-branded and third-party accessories.</th>\n",
       "      <td>0.011777</td>\n",
       "      <td>0.933356</td>\n",
       "      <td>0.054867</td>\n",
       "    </tr>\n",
       "    <tr>\n",
       "      <th>(3) Services net sales include sales from the Company&amp;#8217;s advertising, AppleCare, digital content and other services.</th>\n",
       "      <td>0.011173</td>\n",
       "      <td>0.942424</td>\n",
       "      <td>0.046403</td>\n",
       "    </tr>\n",
       "    <tr>\n",
       "      <th>2016-13, Financial Instruments &amp;#8211; Credit Losses (Topic 326): Measurement of Credit Losses on Financial Instruments (&amp;#8220;ASU 2016-13&amp;#8221;), which modifies the measurement of expected credit losses on certain financial instruments.</th>\n",
       "      <td>0.064615</td>\n",
       "      <td>0.907286</td>\n",
       "      <td>0.028099</td>\n",
       "    </tr>\n",
       "    <tr>\n",
       "      <th>Actual results may differ from these estimates, and such differences may be material.</th>\n",
       "      <td>0.717033</td>\n",
       "      <td>0.246972</td>\n",
       "      <td>0.035995</td>\n",
       "    </tr>\n",
       "    <tr>\n",
       "      <th>...</th>\n",
       "      <th>...</th>\n",
       "      <td>...</td>\n",
       "      <td>...</td>\n",
       "      <td>...</td>\n",
       "    </tr>\n",
       "    <tr>\n",
       "      <th rowspan=\"5\" valign=\"top\">WMT</th>\n",
       "      <th>When facts and circumstances change, we reassess these probabilities and record any changes in the financial statements as appropriate.</th>\n",
       "      <td>0.029786</td>\n",
       "      <td>0.944516</td>\n",
       "      <td>0.025698</td>\n",
       "    </tr>\n",
       "    <tr>\n",
       "      <th>When necessary, we record a LIFO provision for the estimated annual effect of inflation, and these estimates are adjusted to actual results determined at year-end.</th>\n",
       "      <td>0.027338</td>\n",
       "      <td>0.940747</td>\n",
       "      <td>0.031915</td>\n",
       "    </tr>\n",
       "    <tr>\n",
       "      <th>While ROI is considered a non-GAAP financial measure, management believes ROI is a meaningful metric to share with investors because it helps investors assess how effectively Walmart is deploying its assets.</th>\n",
       "      <td>0.007277</td>\n",
       "      <td>0.217625</td>\n",
       "      <td>0.775098</td>\n",
       "    </tr>\n",
       "    <tr>\n",
       "      <th>While fiscal 2019 included a pre-tax loss of $4.8 billion related to the sale of the majority stake in Walmart Brazil, which included full impairment of all related-assets, there were no other material impairment charges for fiscal 2019. \\n\\nBusiness Combinations, Goodwill, and Acquired Intangible Assets \\n\\nWe account for business combinations using the acquisition method of accounting, which requires that once control is obtained, all the assets acquired and liabilities assumed, including amounts attributable to noncontrolling interests, are recorded at their respective fair values at the date of acquisition.</th>\n",
       "      <td>0.054686</td>\n",
       "      <td>0.929661</td>\n",
       "      <td>0.015653</td>\n",
       "    </tr>\n",
       "    <tr>\n",
       "      <th>While we are awaiting anticipated technical guidance from the IRS and the U.S. Treasury department, we do not expect current local laws, other existing limitations or potential taxes on anticipated future repatriations of cash amounts held outside the U.S. to have a material effect on our overall liquidity, financial condition or results of operations.</th>\n",
       "      <td>0.400724</td>\n",
       "      <td>0.566378</td>\n",
       "      <td>0.032898</td>\n",
       "    </tr>\n",
       "  </tbody>\n",
       "</table>\n",
       "<p>40156 rows × 3 columns</p>\n",
       "</div>"
      ],
      "text/plain": [
       "\n",
       "label                                                      negative   neutral  \\\n",
       "Ticker Sentence                                                                 \n",
       "AAPL    Item \u001b[1;36m7\u001b[0m.                                            \u001b[1;36m0.059011\u001b[0m  \u001b[1;36m0.917935\u001b[0m   \n",
       "       \u001b[1m(\u001b[0m\u001b[1;36m2\u001b[0m\u001b[1m)\u001b[0m Wearables, Home and Accessories net sales i\u001b[33m...\u001b[0m  \u001b[1;36m0.011777\u001b[0m  \u001b[1;36m0.933356\u001b[0m   \n",
       "       \u001b[1m(\u001b[0m\u001b[1;36m3\u001b[0m\u001b[1m)\u001b[0m Services net sales include sales from the C\u001b[33m...\u001b[0m  \u001b[1;36m0.011173\u001b[0m  \u001b[1;36m0.942424\u001b[0m   \n",
       "       \u001b[1;36m2016\u001b[0m-\u001b[1;36m13\u001b[0m, Financial Instruments &#\u001b[1;36m8211\u001b[0m; Credit L\u001b[33m...\u001b[0m  \u001b[1;36m0.064615\u001b[0m  \u001b[1;36m0.907286\u001b[0m   \n",
       "       Actual results may differ from these estimates,\u001b[33m...\u001b[0m  \u001b[1;36m0.717033\u001b[0m  \u001b[1;36m0.246972\u001b[0m   \n",
       "\u001b[33m...\u001b[0m                                                             \u001b[33m...\u001b[0m       \u001b[33m...\u001b[0m   \n",
       "WMT    When facts and circumstances change, we reasses\u001b[33m...\u001b[0m  \u001b[1;36m0.029786\u001b[0m  \u001b[1;36m0.944516\u001b[0m   \n",
       "       When necessary, we record a LIFO provision for \u001b[33m...\u001b[0m  \u001b[1;36m0.027338\u001b[0m  \u001b[1;36m0.940747\u001b[0m   \n",
       "       While ROI is considered a non-GAAP financial me\u001b[33m...\u001b[0m  \u001b[1;36m0.007277\u001b[0m  \u001b[1;36m0.217625\u001b[0m   \n",
       "       While fiscal \u001b[1;36m2019\u001b[0m included a pre-tax loss of $\u001b[1;36m4\u001b[0m\u001b[33m...\u001b[0m  \u001b[1;36m0.054686\u001b[0m  \u001b[1;36m0.929661\u001b[0m   \n",
       "       While we are awaiting anticipated technical gui\u001b[33m...\u001b[0m  \u001b[1;36m0.400724\u001b[0m  \u001b[1;36m0.566378\u001b[0m   \n",
       "\n",
       "label                                                      positive  \n",
       "Ticker Sentence                                                      \n",
       "AAPL    Item \u001b[1;36m7\u001b[0m.                                            \u001b[1;36m0.023054\u001b[0m  \n",
       "       \u001b[1m(\u001b[0m\u001b[1;36m2\u001b[0m\u001b[1m)\u001b[0m Wearables, Home and Accessories net sales i\u001b[33m...\u001b[0m  \u001b[1;36m0.054867\u001b[0m  \n",
       "       \u001b[1m(\u001b[0m\u001b[1;36m3\u001b[0m\u001b[1m)\u001b[0m Services net sales include sales from the C\u001b[33m...\u001b[0m  \u001b[1;36m0.046403\u001b[0m  \n",
       "       \u001b[1;36m2016\u001b[0m-\u001b[1;36m13\u001b[0m, Financial Instruments &#\u001b[1;36m8211\u001b[0m; Credit L\u001b[33m...\u001b[0m  \u001b[1;36m0.028099\u001b[0m  \n",
       "       Actual results may differ from these estimates,\u001b[33m...\u001b[0m  \u001b[1;36m0.035995\u001b[0m  \n",
       "\u001b[33m...\u001b[0m                                                             \u001b[33m...\u001b[0m  \n",
       "WMT    When facts and circumstances change, we reasses\u001b[33m...\u001b[0m  \u001b[1;36m0.025698\u001b[0m  \n",
       "       When necessary, we record a LIFO provision for \u001b[33m...\u001b[0m  \u001b[1;36m0.031915\u001b[0m  \n",
       "       While ROI is considered a non-GAAP financial me\u001b[33m...\u001b[0m  \u001b[1;36m0.775098\u001b[0m  \n",
       "       While fiscal \u001b[1;36m2019\u001b[0m included a pre-tax loss of $\u001b[1;36m4\u001b[0m\u001b[33m...\u001b[0m  \u001b[1;36m0.015653\u001b[0m  \n",
       "       While we are awaiting anticipated technical gui\u001b[33m...\u001b[0m  \u001b[1;36m0.032898\u001b[0m  \n",
       "\n",
       "\u001b[1m[\u001b[0m\u001b[1;36m40156\u001b[0m rows x \u001b[1;36m3\u001b[0m columns\u001b[1m]\u001b[0m"
      ]
     },
     "execution_count": 20,
     "metadata": {},
     "output_type": "execute_result"
    }
   ],
   "source": [
    "finbert_results_df = pd.json_normalize(\n",
    "    finbert_results, record_path=\"Sentiment\", meta=[\"Ticker\", \"Sentence\"]\n",
    ").pivot_table(\n",
    "    values=\"score\",\n",
    "    index=[\"Ticker\", \"Sentence\"],\n",
    "    columns=\"label\",\n",
    ")\n",
    "\n",
    "finbert_results_df\n"
   ]
  },
  {
   "cell_type": "code",
   "execution_count": 21,
   "metadata": {},
   "outputs": [
    {
     "data": {
      "text/html": [
       "<pre style=\"white-space:pre;overflow-x:auto;line-height:normal;font-family:Menlo,'DejaVu Sans Mono',consolas,'Courier New',monospace\"></pre>\n"
      ],
      "text/plain": []
     },
     "metadata": {},
     "output_type": "display_data"
    },
    {
     "data": {
      "text/html": [
       "<div>\n",
       "<style scoped>\n",
       "    .dataframe tbody tr th:only-of-type {\n",
       "        vertical-align: middle;\n",
       "    }\n",
       "\n",
       "    .dataframe tbody tr th {\n",
       "        vertical-align: top;\n",
       "    }\n",
       "\n",
       "    .dataframe thead th {\n",
       "        text-align: right;\n",
       "    }\n",
       "</style>\n",
       "<table border=\"1\" class=\"dataframe\">\n",
       "  <thead>\n",
       "    <tr style=\"text-align: right;\">\n",
       "      <th>label</th>\n",
       "      <th>negative</th>\n",
       "      <th>neutral</th>\n",
       "      <th>positive</th>\n",
       "    </tr>\n",
       "    <tr>\n",
       "      <th>Ticker</th>\n",
       "      <th></th>\n",
       "      <th></th>\n",
       "      <th></th>\n",
       "    </tr>\n",
       "  </thead>\n",
       "  <tbody>\n",
       "    <tr>\n",
       "      <th>AAPL</th>\n",
       "      <td>0.200770</td>\n",
       "      <td>0.609698</td>\n",
       "      <td>0.189531</td>\n",
       "    </tr>\n",
       "    <tr>\n",
       "      <th>ABBV</th>\n",
       "      <td>0.125290</td>\n",
       "      <td>0.608638</td>\n",
       "      <td>0.266072</td>\n",
       "    </tr>\n",
       "    <tr>\n",
       "      <th>ABT</th>\n",
       "      <td>0.147613</td>\n",
       "      <td>0.577167</td>\n",
       "      <td>0.275220</td>\n",
       "    </tr>\n",
       "    <tr>\n",
       "      <th>ACN</th>\n",
       "      <td>0.214290</td>\n",
       "      <td>0.526049</td>\n",
       "      <td>0.259661</td>\n",
       "    </tr>\n",
       "    <tr>\n",
       "      <th>ADBE</th>\n",
       "      <td>0.112824</td>\n",
       "      <td>0.644548</td>\n",
       "      <td>0.242627</td>\n",
       "    </tr>\n",
       "    <tr>\n",
       "      <th>...</th>\n",
       "      <td>...</td>\n",
       "      <td>...</td>\n",
       "      <td>...</td>\n",
       "    </tr>\n",
       "    <tr>\n",
       "      <th>UPS</th>\n",
       "      <td>0.196942</td>\n",
       "      <td>0.507644</td>\n",
       "      <td>0.295414</td>\n",
       "    </tr>\n",
       "    <tr>\n",
       "      <th>V</th>\n",
       "      <td>0.179173</td>\n",
       "      <td>0.697402</td>\n",
       "      <td>0.123426</td>\n",
       "    </tr>\n",
       "    <tr>\n",
       "      <th>VRTX</th>\n",
       "      <td>0.138450</td>\n",
       "      <td>0.577324</td>\n",
       "      <td>0.284225</td>\n",
       "    </tr>\n",
       "    <tr>\n",
       "      <th>VZ</th>\n",
       "      <td>0.170879</td>\n",
       "      <td>0.583512</td>\n",
       "      <td>0.245608</td>\n",
       "    </tr>\n",
       "    <tr>\n",
       "      <th>WMT</th>\n",
       "      <td>0.236985</td>\n",
       "      <td>0.548997</td>\n",
       "      <td>0.214017</td>\n",
       "    </tr>\n",
       "  </tbody>\n",
       "</table>\n",
       "<p>88 rows × 3 columns</p>\n",
       "</div>"
      ],
      "text/plain": [
       "\n",
       "label   negative   neutral  positive\n",
       "Ticker                              \n",
       "AAPL    \u001b[1;36m0.200770\u001b[0m  \u001b[1;36m0.609698\u001b[0m  \u001b[1;36m0.189531\u001b[0m\n",
       "ABBV    \u001b[1;36m0.125290\u001b[0m  \u001b[1;36m0.608638\u001b[0m  \u001b[1;36m0.266072\u001b[0m\n",
       "ABT     \u001b[1;36m0.147613\u001b[0m  \u001b[1;36m0.577167\u001b[0m  \u001b[1;36m0.275220\u001b[0m\n",
       "ACN     \u001b[1;36m0.214290\u001b[0m  \u001b[1;36m0.526049\u001b[0m  \u001b[1;36m0.259661\u001b[0m\n",
       "ADBE    \u001b[1;36m0.112824\u001b[0m  \u001b[1;36m0.644548\u001b[0m  \u001b[1;36m0.242627\u001b[0m\n",
       "\u001b[33m...\u001b[0m          \u001b[33m...\u001b[0m       \u001b[33m...\u001b[0m       \u001b[33m...\u001b[0m\n",
       "UPS     \u001b[1;36m0.196942\u001b[0m  \u001b[1;36m0.507644\u001b[0m  \u001b[1;36m0.295414\u001b[0m\n",
       "V       \u001b[1;36m0.179173\u001b[0m  \u001b[1;36m0.697402\u001b[0m  \u001b[1;36m0.123426\u001b[0m\n",
       "VRTX    \u001b[1;36m0.138450\u001b[0m  \u001b[1;36m0.577324\u001b[0m  \u001b[1;36m0.284225\u001b[0m\n",
       "VZ      \u001b[1;36m0.170879\u001b[0m  \u001b[1;36m0.583512\u001b[0m  \u001b[1;36m0.245608\u001b[0m\n",
       "WMT     \u001b[1;36m0.236985\u001b[0m  \u001b[1;36m0.548997\u001b[0m  \u001b[1;36m0.214017\u001b[0m\n",
       "\n",
       "\u001b[1m[\u001b[0m\u001b[1;36m88\u001b[0m rows x \u001b[1;36m3\u001b[0m columns\u001b[1m]\u001b[0m"
      ]
     },
     "execution_count": 21,
     "metadata": {},
     "output_type": "execute_result"
    }
   ],
   "source": [
    "finbert_results_df.groupby(\"Ticker\")[['negative', 'neutral', 'positive']].agg(\"mean\")"
   ]
  },
  {
   "cell_type": "markdown",
   "metadata": {},
   "source": [
    "### Calculate Frequency of COVID-related Disclosure\n",
    "\n",
    "Dutta, S., Kumar, A., Pant, P., Walsh, C., & Dutta, M. (2023). Using 10-K text to gauge COVID-related corporate disclosure. PLOS ONE, 18(3), e0283138. https://doi.org/10.1371/journal.pone.0283138"
   ]
  },
  {
   "cell_type": "code",
   "execution_count": 22,
   "metadata": {},
   "outputs": [],
   "source": [
    "# list of words related to covid from paper\n",
    "covid_word_list = \"\"\"pandemic\n",
    "epidemic\n",
    "contagious\n",
    "disease\n",
    "infectious\n",
    "coronavirus\n",
    "covid\n",
    "strain\n",
    "outbreak\n",
    "resurgence\n",
    "health\n",
    "crisis\n",
    "\"\"\"\n",
    "\n",
    "covid_word_list = covid_word_list.split(\"\\n\")\n",
    "\n",
    "# getting lists of positive and negative words from VADER\n",
    "positive_words = [word for word in vader.lexicon if vader.lexicon[word] > 0]\n",
    "negative_words = [word for word in vader.lexicon if vader.lexicon[word] < 0]"
   ]
  },
  {
   "cell_type": "code",
   "execution_count": 23,
   "metadata": {},
   "outputs": [
    {
     "data": {
      "text/html": [
       "<pre style=\"white-space:pre;overflow-x:auto;line-height:normal;font-family:Menlo,'DejaVu Sans Mono',consolas,'Courier New',monospace\">Processed using COVID-<span style=\"color: #008080; text-decoration-color: #008080; font-weight: bold\">19</span> related words\n",
       "</pre>\n"
      ],
      "text/plain": [
       "Processed using COVID-\u001b[1;36m19\u001b[0m related words\n"
      ]
     },
     "metadata": {},
     "output_type": "display_data"
    }
   ],
   "source": [
    "# Helper function for checking if a sentence contains any word from a list\n",
    "def sentence_contains_wordlist(words, wordlist):\n",
    "    return any(word in wordlist for word in words)\n",
    "\n",
    "\n",
    "covid_res = []\n",
    "\n",
    "for k, v in docs.items():\n",
    "    # initializing variables\n",
    "    sentences = nltk.sent_tokenize(v)\n",
    "    total_sentence_count = len(sentences)\n",
    "\n",
    "    # calculating contextual and covid-related disclosure frequencies\n",
    "    for sentence in sentences:\n",
    "        contextual_positive_freq = 0\n",
    "        contextual_negative_freq = 0\n",
    "        covid_freq = 0\n",
    "\n",
    "        tokens = tokenizer.tokenize(sentence)\n",
    "\n",
    "        if sentence_contains_wordlist(tokens, covid_word_list):\n",
    "            covid_freq += 1\n",
    "\n",
    "        else:\n",
    "            covid_res.append(\n",
    "                {\n",
    "                    \"Document\": k,\n",
    "                    \"Sentence\": sentence,\n",
    "                    \"COVID_Related_Frequency\": covid_freq,\n",
    "                    \"COVID_Contextual_Positive_Frequency\": contextual_positive_freq,\n",
    "                    \"COVID_Contextual_Negative_Frequency\": contextual_negative_freq,\n",
    "                }\n",
    "            )\n",
    "            continue\n",
    "\n",
    "        if sentence_contains_wordlist(tokens, positive_words):\n",
    "            contextual_positive_freq += 1\n",
    "\n",
    "        if sentence_contains_wordlist(tokens, negative_words):\n",
    "            contextual_negative_freq += 1\n",
    "\n",
    "        covid_res.append(\n",
    "            {\n",
    "                \"Document\": k,\n",
    "                \"Sentence\": sentence,\n",
    "                \"COVID_Related_Frequency\": covid_freq,\n",
    "                \"COVID_Contextual_Positive_Frequency\": contextual_positive_freq,\n",
    "                \"COVID_Contextual_Negative_Frequency\": contextual_negative_freq,\n",
    "            }\n",
    "        )\n",
    "\n",
    "\n",
    "print(\"Processed using COVID-19 related words\")\n",
    "covid_res = pd.DataFrame(covid_res)"
   ]
  },
  {
   "cell_type": "markdown",
   "metadata": {},
   "source": [
    "## Comparing Results\n"
   ]
  },
  {
   "cell_type": "markdown",
   "metadata": {},
   "source": [
    "### Comparing LM, VADER, SentiBigNomics, and COVID-19 dictionary"
   ]
  },
  {
   "cell_type": "code",
   "execution_count": 24,
   "metadata": {},
   "outputs": [
    {
     "data": {
      "text/html": [
       "<pre style=\"white-space:pre;overflow-x:auto;line-height:normal;font-family:Menlo,'DejaVu Sans Mono',consolas,'Courier New',monospace\"></pre>\n"
      ],
      "text/plain": []
     },
     "metadata": {},
     "output_type": "display_data"
    },
    {
     "data": {
      "text/html": [
       "<div>\n",
       "<style scoped>\n",
       "    .dataframe tbody tr th:only-of-type {\n",
       "        vertical-align: middle;\n",
       "    }\n",
       "\n",
       "    .dataframe tbody tr th {\n",
       "        vertical-align: top;\n",
       "    }\n",
       "\n",
       "    .dataframe thead th {\n",
       "        text-align: right;\n",
       "    }\n",
       "</style>\n",
       "<table border=\"1\" class=\"dataframe\">\n",
       "  <thead>\n",
       "    <tr style=\"text-align: right;\">\n",
       "      <th></th>\n",
       "      <th>LM_Positive</th>\n",
       "      <th>LM_Negative</th>\n",
       "      <th>LM_Polarity</th>\n",
       "      <th>LM_Subjectivity</th>\n",
       "      <th>VADER_Negative</th>\n",
       "      <th>VADER_Neutral</th>\n",
       "      <th>VADER_Positive</th>\n",
       "      <th>VADER_Compound</th>\n",
       "      <th>SBN_VADER_Negative</th>\n",
       "      <th>SBN_VADER_Neutral</th>\n",
       "      <th>SBN_VADER_Positive</th>\n",
       "      <th>SBN_VADER_Compound</th>\n",
       "      <th>COVID_Related_Frequency</th>\n",
       "      <th>COVID_Contextual_Positive_Frequency</th>\n",
       "      <th>COVID_Contextual_Negative_Frequency</th>\n",
       "      <th>Sentence</th>\n",
       "    </tr>\n",
       "    <tr>\n",
       "      <th>Document</th>\n",
       "      <th></th>\n",
       "      <th></th>\n",
       "      <th></th>\n",
       "      <th></th>\n",
       "      <th></th>\n",
       "      <th></th>\n",
       "      <th></th>\n",
       "      <th></th>\n",
       "      <th></th>\n",
       "      <th></th>\n",
       "      <th></th>\n",
       "      <th></th>\n",
       "      <th></th>\n",
       "      <th></th>\n",
       "      <th></th>\n",
       "      <th></th>\n",
       "    </tr>\n",
       "  </thead>\n",
       "  <tbody>\n",
       "    <tr>\n",
       "      <th>AAPL</th>\n",
       "      <td>0.165414</td>\n",
       "      <td>0.481203</td>\n",
       "      <td>-0.169925</td>\n",
       "      <td>0.035307</td>\n",
       "      <td>0.073143</td>\n",
       "      <td>0.794820</td>\n",
       "      <td>0.132038</td>\n",
       "      <td>0.165201</td>\n",
       "      <td>0.074346</td>\n",
       "      <td>0.597602</td>\n",
       "      <td>0.328030</td>\n",
       "      <td>0.305426</td>\n",
       "      <td>0.045113</td>\n",
       "      <td>0.037594</td>\n",
       "      <td>0.037594</td>\n",
       "      <td>133</td>\n",
       "    </tr>\n",
       "    <tr>\n",
       "      <th>ABBV</th>\n",
       "      <td>0.388489</td>\n",
       "      <td>0.269784</td>\n",
       "      <td>0.068945</td>\n",
       "      <td>0.035459</td>\n",
       "      <td>0.038511</td>\n",
       "      <td>0.767079</td>\n",
       "      <td>0.194392</td>\n",
       "      <td>0.351717</td>\n",
       "      <td>0.052777</td>\n",
       "      <td>0.589874</td>\n",
       "      <td>0.357345</td>\n",
       "      <td>0.357100</td>\n",
       "      <td>0.089928</td>\n",
       "      <td>0.082734</td>\n",
       "      <td>0.035971</td>\n",
       "      <td>278</td>\n",
       "    </tr>\n",
       "    <tr>\n",
       "      <th>ABT</th>\n",
       "      <td>0.222222</td>\n",
       "      <td>0.296296</td>\n",
       "      <td>-0.047901</td>\n",
       "      <td>0.030115</td>\n",
       "      <td>0.049383</td>\n",
       "      <td>0.790358</td>\n",
       "      <td>0.152835</td>\n",
       "      <td>0.221817</td>\n",
       "      <td>0.068326</td>\n",
       "      <td>0.589775</td>\n",
       "      <td>0.334491</td>\n",
       "      <td>0.269774</td>\n",
       "      <td>0.130864</td>\n",
       "      <td>0.101235</td>\n",
       "      <td>0.069136</td>\n",
       "      <td>405</td>\n",
       "    </tr>\n",
       "    <tr>\n",
       "      <th>ACN</th>\n",
       "      <td>0.311688</td>\n",
       "      <td>0.268398</td>\n",
       "      <td>0.065656</td>\n",
       "      <td>0.038630</td>\n",
       "      <td>0.038515</td>\n",
       "      <td>0.807810</td>\n",
       "      <td>0.153671</td>\n",
       "      <td>0.270781</td>\n",
       "      <td>0.060134</td>\n",
       "      <td>0.588017</td>\n",
       "      <td>0.351840</td>\n",
       "      <td>0.317782</td>\n",
       "      <td>0.060606</td>\n",
       "      <td>0.030303</td>\n",
       "      <td>0.021645</td>\n",
       "      <td>231</td>\n",
       "    </tr>\n",
       "    <tr>\n",
       "      <th>ADBE</th>\n",
       "      <td>0.422819</td>\n",
       "      <td>0.224832</td>\n",
       "      <td>0.121365</td>\n",
       "      <td>0.032955</td>\n",
       "      <td>0.029131</td>\n",
       "      <td>0.781819</td>\n",
       "      <td>0.189050</td>\n",
       "      <td>0.349268</td>\n",
       "      <td>0.046124</td>\n",
       "      <td>0.573094</td>\n",
       "      <td>0.380812</td>\n",
       "      <td>0.380286</td>\n",
       "      <td>0.033557</td>\n",
       "      <td>0.020134</td>\n",
       "      <td>0.023490</td>\n",
       "      <td>298</td>\n",
       "    </tr>\n",
       "    <tr>\n",
       "      <th>...</th>\n",
       "      <td>...</td>\n",
       "      <td>...</td>\n",
       "      <td>...</td>\n",
       "      <td>...</td>\n",
       "      <td>...</td>\n",
       "      <td>...</td>\n",
       "      <td>...</td>\n",
       "      <td>...</td>\n",
       "      <td>...</td>\n",
       "      <td>...</td>\n",
       "      <td>...</td>\n",
       "      <td>...</td>\n",
       "      <td>...</td>\n",
       "      <td>...</td>\n",
       "      <td>...</td>\n",
       "      <td>...</td>\n",
       "    </tr>\n",
       "    <tr>\n",
       "      <th>UPS</th>\n",
       "      <td>0.349558</td>\n",
       "      <td>0.345133</td>\n",
       "      <td>-0.028857</td>\n",
       "      <td>0.036980</td>\n",
       "      <td>0.037546</td>\n",
       "      <td>0.753836</td>\n",
       "      <td>0.206394</td>\n",
       "      <td>0.377707</td>\n",
       "      <td>0.071407</td>\n",
       "      <td>0.547907</td>\n",
       "      <td>0.378458</td>\n",
       "      <td>0.349425</td>\n",
       "      <td>0.055310</td>\n",
       "      <td>0.037611</td>\n",
       "      <td>0.019912</td>\n",
       "      <td>452</td>\n",
       "    </tr>\n",
       "    <tr>\n",
       "      <th>V</th>\n",
       "      <td>0.237952</td>\n",
       "      <td>0.412651</td>\n",
       "      <td>-0.092169</td>\n",
       "      <td>0.044104</td>\n",
       "      <td>0.067554</td>\n",
       "      <td>0.783389</td>\n",
       "      <td>0.146042</td>\n",
       "      <td>0.172686</td>\n",
       "      <td>0.074446</td>\n",
       "      <td>0.614880</td>\n",
       "      <td>0.307672</td>\n",
       "      <td>0.233386</td>\n",
       "      <td>0.027108</td>\n",
       "      <td>0.012048</td>\n",
       "      <td>0.006024</td>\n",
       "      <td>332</td>\n",
       "    </tr>\n",
       "    <tr>\n",
       "      <th>VRTX</th>\n",
       "      <td>0.401338</td>\n",
       "      <td>0.311037</td>\n",
       "      <td>0.092642</td>\n",
       "      <td>0.039203</td>\n",
       "      <td>0.037408</td>\n",
       "      <td>0.774615</td>\n",
       "      <td>0.187980</td>\n",
       "      <td>0.337602</td>\n",
       "      <td>0.053472</td>\n",
       "      <td>0.537950</td>\n",
       "      <td>0.408555</td>\n",
       "      <td>0.403438</td>\n",
       "      <td>0.096990</td>\n",
       "      <td>0.070234</td>\n",
       "      <td>0.046823</td>\n",
       "      <td>299</td>\n",
       "    </tr>\n",
       "    <tr>\n",
       "      <th>VZ</th>\n",
       "      <td>0.282577</td>\n",
       "      <td>0.341142</td>\n",
       "      <td>-0.024493</td>\n",
       "      <td>0.036912</td>\n",
       "      <td>0.046382</td>\n",
       "      <td>0.785451</td>\n",
       "      <td>0.166704</td>\n",
       "      <td>0.271013</td>\n",
       "      <td>0.068433</td>\n",
       "      <td>0.545549</td>\n",
       "      <td>0.384534</td>\n",
       "      <td>0.328190</td>\n",
       "      <td>0.087848</td>\n",
       "      <td>0.067350</td>\n",
       "      <td>0.048316</td>\n",
       "      <td>683</td>\n",
       "    </tr>\n",
       "    <tr>\n",
       "      <th>WMT</th>\n",
       "      <td>0.279279</td>\n",
       "      <td>0.336336</td>\n",
       "      <td>-0.013113</td>\n",
       "      <td>0.035590</td>\n",
       "      <td>0.044024</td>\n",
       "      <td>0.770862</td>\n",
       "      <td>0.182081</td>\n",
       "      <td>0.309844</td>\n",
       "      <td>0.069078</td>\n",
       "      <td>0.564381</td>\n",
       "      <td>0.363544</td>\n",
       "      <td>0.335633</td>\n",
       "      <td>0.006006</td>\n",
       "      <td>0.003003</td>\n",
       "      <td>0.003003</td>\n",
       "      <td>333</td>\n",
       "    </tr>\n",
       "  </tbody>\n",
       "</table>\n",
       "<p>88 rows × 16 columns</p>\n",
       "</div>"
      ],
      "text/plain": [
       "\n",
       "          LM_Positive  LM_Negative  LM_Polarity  LM_Subjectivity  \\\n",
       "Document                                                           \n",
       "AAPL         \u001b[1;36m0.165414\u001b[0m     \u001b[1;36m0.481203\u001b[0m    \u001b[1;36m-0.169925\u001b[0m         \u001b[1;36m0.035307\u001b[0m   \n",
       "ABBV         \u001b[1;36m0.388489\u001b[0m     \u001b[1;36m0.269784\u001b[0m     \u001b[1;36m0.068945\u001b[0m         \u001b[1;36m0.035459\u001b[0m   \n",
       "ABT          \u001b[1;36m0.222222\u001b[0m     \u001b[1;36m0.296296\u001b[0m    \u001b[1;36m-0.047901\u001b[0m         \u001b[1;36m0.030115\u001b[0m   \n",
       "ACN          \u001b[1;36m0.311688\u001b[0m     \u001b[1;36m0.268398\u001b[0m     \u001b[1;36m0.065656\u001b[0m         \u001b[1;36m0.038630\u001b[0m   \n",
       "ADBE         \u001b[1;36m0.422819\u001b[0m     \u001b[1;36m0.224832\u001b[0m     \u001b[1;36m0.121365\u001b[0m         \u001b[1;36m0.032955\u001b[0m   \n",
       "\u001b[33m...\u001b[0m               \u001b[33m...\u001b[0m          \u001b[33m...\u001b[0m          \u001b[33m...\u001b[0m              \u001b[33m...\u001b[0m   \n",
       "UPS          \u001b[1;36m0.349558\u001b[0m     \u001b[1;36m0.345133\u001b[0m    \u001b[1;36m-0.028857\u001b[0m         \u001b[1;36m0.036980\u001b[0m   \n",
       "V            \u001b[1;36m0.237952\u001b[0m     \u001b[1;36m0.412651\u001b[0m    \u001b[1;36m-0.092169\u001b[0m         \u001b[1;36m0.044104\u001b[0m   \n",
       "VRTX         \u001b[1;36m0.401338\u001b[0m     \u001b[1;36m0.311037\u001b[0m     \u001b[1;36m0.092642\u001b[0m         \u001b[1;36m0.039203\u001b[0m   \n",
       "VZ           \u001b[1;36m0.282577\u001b[0m     \u001b[1;36m0.341142\u001b[0m    \u001b[1;36m-0.024493\u001b[0m         \u001b[1;36m0.036912\u001b[0m   \n",
       "WMT          \u001b[1;36m0.279279\u001b[0m     \u001b[1;36m0.336336\u001b[0m    \u001b[1;36m-0.013113\u001b[0m         \u001b[1;36m0.035590\u001b[0m   \n",
       "\n",
       "          VADER_Negative  VADER_Neutral  VADER_Positive  VADER_Compound  \\\n",
       "Document                                                                  \n",
       "AAPL            \u001b[1;36m0.073143\u001b[0m       \u001b[1;36m0.794820\u001b[0m        \u001b[1;36m0.132038\u001b[0m        \u001b[1;36m0.165201\u001b[0m   \n",
       "ABBV            \u001b[1;36m0.038511\u001b[0m       \u001b[1;36m0.767079\u001b[0m        \u001b[1;36m0.194392\u001b[0m        \u001b[1;36m0.351717\u001b[0m   \n",
       "ABT             \u001b[1;36m0.049383\u001b[0m       \u001b[1;36m0.790358\u001b[0m        \u001b[1;36m0.152835\u001b[0m        \u001b[1;36m0.221817\u001b[0m   \n",
       "ACN             \u001b[1;36m0.038515\u001b[0m       \u001b[1;36m0.807810\u001b[0m        \u001b[1;36m0.153671\u001b[0m        \u001b[1;36m0.270781\u001b[0m   \n",
       "ADBE            \u001b[1;36m0.029131\u001b[0m       \u001b[1;36m0.781819\u001b[0m        \u001b[1;36m0.189050\u001b[0m        \u001b[1;36m0.349268\u001b[0m   \n",
       "\u001b[33m...\u001b[0m                  \u001b[33m...\u001b[0m            \u001b[33m...\u001b[0m             \u001b[33m...\u001b[0m             \u001b[33m...\u001b[0m   \n",
       "UPS             \u001b[1;36m0.037546\u001b[0m       \u001b[1;36m0.753836\u001b[0m        \u001b[1;36m0.206394\u001b[0m        \u001b[1;36m0.377707\u001b[0m   \n",
       "V               \u001b[1;36m0.067554\u001b[0m       \u001b[1;36m0.783389\u001b[0m        \u001b[1;36m0.146042\u001b[0m        \u001b[1;36m0.172686\u001b[0m   \n",
       "VRTX            \u001b[1;36m0.037408\u001b[0m       \u001b[1;36m0.774615\u001b[0m        \u001b[1;36m0.187980\u001b[0m        \u001b[1;36m0.337602\u001b[0m   \n",
       "VZ              \u001b[1;36m0.046382\u001b[0m       \u001b[1;36m0.785451\u001b[0m        \u001b[1;36m0.166704\u001b[0m        \u001b[1;36m0.271013\u001b[0m   \n",
       "WMT             \u001b[1;36m0.044024\u001b[0m       \u001b[1;36m0.770862\u001b[0m        \u001b[1;36m0.182081\u001b[0m        \u001b[1;36m0.309844\u001b[0m   \n",
       "\n",
       "          SBN_VADER_Negative  SBN_VADER_Neutral  SBN_VADER_Positive  \\\n",
       "Document                                                              \n",
       "AAPL                \u001b[1;36m0.074346\u001b[0m           \u001b[1;36m0.597602\u001b[0m            \u001b[1;36m0.328030\u001b[0m   \n",
       "ABBV                \u001b[1;36m0.052777\u001b[0m           \u001b[1;36m0.589874\u001b[0m            \u001b[1;36m0.357345\u001b[0m   \n",
       "ABT                 \u001b[1;36m0.068326\u001b[0m           \u001b[1;36m0.589775\u001b[0m            \u001b[1;36m0.334491\u001b[0m   \n",
       "ACN                 \u001b[1;36m0.060134\u001b[0m           \u001b[1;36m0.588017\u001b[0m            \u001b[1;36m0.351840\u001b[0m   \n",
       "ADBE                \u001b[1;36m0.046124\u001b[0m           \u001b[1;36m0.573094\u001b[0m            \u001b[1;36m0.380812\u001b[0m   \n",
       "\u001b[33m...\u001b[0m                      \u001b[33m...\u001b[0m                \u001b[33m...\u001b[0m                 \u001b[33m...\u001b[0m   \n",
       "UPS                 \u001b[1;36m0.071407\u001b[0m           \u001b[1;36m0.547907\u001b[0m            \u001b[1;36m0.378458\u001b[0m   \n",
       "V                   \u001b[1;36m0.074446\u001b[0m           \u001b[1;36m0.614880\u001b[0m            \u001b[1;36m0.307672\u001b[0m   \n",
       "VRTX                \u001b[1;36m0.053472\u001b[0m           \u001b[1;36m0.537950\u001b[0m            \u001b[1;36m0.408555\u001b[0m   \n",
       "VZ                  \u001b[1;36m0.068433\u001b[0m           \u001b[1;36m0.545549\u001b[0m            \u001b[1;36m0.384534\u001b[0m   \n",
       "WMT                 \u001b[1;36m0.069078\u001b[0m           \u001b[1;36m0.564381\u001b[0m            \u001b[1;36m0.363544\u001b[0m   \n",
       "\n",
       "          SBN_VADER_Compound  COVID_Related_Frequency  \\\n",
       "Document                                                \n",
       "AAPL                \u001b[1;36m0.305426\u001b[0m                 \u001b[1;36m0.045113\u001b[0m   \n",
       "ABBV                \u001b[1;36m0.357100\u001b[0m                 \u001b[1;36m0.089928\u001b[0m   \n",
       "ABT                 \u001b[1;36m0.269774\u001b[0m                 \u001b[1;36m0.130864\u001b[0m   \n",
       "ACN                 \u001b[1;36m0.317782\u001b[0m                 \u001b[1;36m0.060606\u001b[0m   \n",
       "ADBE                \u001b[1;36m0.380286\u001b[0m                 \u001b[1;36m0.033557\u001b[0m   \n",
       "\u001b[33m...\u001b[0m                      \u001b[33m...\u001b[0m                      \u001b[33m...\u001b[0m   \n",
       "UPS                 \u001b[1;36m0.349425\u001b[0m                 \u001b[1;36m0.055310\u001b[0m   \n",
       "V                   \u001b[1;36m0.233386\u001b[0m                 \u001b[1;36m0.027108\u001b[0m   \n",
       "VRTX                \u001b[1;36m0.403438\u001b[0m                 \u001b[1;36m0.096990\u001b[0m   \n",
       "VZ                  \u001b[1;36m0.328190\u001b[0m                 \u001b[1;36m0.087848\u001b[0m   \n",
       "WMT                 \u001b[1;36m0.335633\u001b[0m                 \u001b[1;36m0.006006\u001b[0m   \n",
       "\n",
       "          COVID_Contextual_Positive_Frequency  \\\n",
       "Document                                        \n",
       "AAPL                                 \u001b[1;36m0.037594\u001b[0m   \n",
       "ABBV                                 \u001b[1;36m0.082734\u001b[0m   \n",
       "ABT                                  \u001b[1;36m0.101235\u001b[0m   \n",
       "ACN                                  \u001b[1;36m0.030303\u001b[0m   \n",
       "ADBE                                 \u001b[1;36m0.020134\u001b[0m   \n",
       "\u001b[33m...\u001b[0m                                       \u001b[33m...\u001b[0m   \n",
       "UPS                                  \u001b[1;36m0.037611\u001b[0m   \n",
       "V                                    \u001b[1;36m0.012048\u001b[0m   \n",
       "VRTX                                 \u001b[1;36m0.070234\u001b[0m   \n",
       "VZ                                   \u001b[1;36m0.067350\u001b[0m   \n",
       "WMT                                  \u001b[1;36m0.003003\u001b[0m   \n",
       "\n",
       "          COVID_Contextual_Negative_Frequency  Sentence  \n",
       "Document                                                 \n",
       "AAPL                                 \u001b[1;36m0.037594\u001b[0m       \u001b[1;36m133\u001b[0m  \n",
       "ABBV                                 \u001b[1;36m0.035971\u001b[0m       \u001b[1;36m278\u001b[0m  \n",
       "ABT                                  \u001b[1;36m0.069136\u001b[0m       \u001b[1;36m405\u001b[0m  \n",
       "ACN                                  \u001b[1;36m0.021645\u001b[0m       \u001b[1;36m231\u001b[0m  \n",
       "ADBE                                 \u001b[1;36m0.023490\u001b[0m       \u001b[1;36m298\u001b[0m  \n",
       "\u001b[33m...\u001b[0m                                       \u001b[33m...\u001b[0m       \u001b[33m...\u001b[0m  \n",
       "UPS                                  \u001b[1;36m0.019912\u001b[0m       \u001b[1;36m452\u001b[0m  \n",
       "V                                    \u001b[1;36m0.006024\u001b[0m       \u001b[1;36m332\u001b[0m  \n",
       "VRTX                                 \u001b[1;36m0.046823\u001b[0m       \u001b[1;36m299\u001b[0m  \n",
       "VZ                                   \u001b[1;36m0.048316\u001b[0m       \u001b[1;36m683\u001b[0m  \n",
       "WMT                                  \u001b[1;36m0.003003\u001b[0m       \u001b[1;36m333\u001b[0m  \n",
       "\n",
       "\u001b[1m[\u001b[0m\u001b[1;36m88\u001b[0m rows x \u001b[1;36m16\u001b[0m columns\u001b[1m]\u001b[0m"
      ]
     },
     "execution_count": 24,
     "metadata": {},
     "output_type": "execute_result"
    }
   ],
   "source": [
    "nlp_results = pd.concat(\n",
    "    [\n",
    "        LM_res.set_index([\"Document\", \"Sentence\"]),\n",
    "        VADER_res.set_index([\"Document\", \"Sentence\"]),\n",
    "        SBN_res.set_index([\"Document\", \"Sentence\"]),\n",
    "        covid_res.set_index([\"Document\", \"Sentence\"]),\n",
    "    ],\n",
    "    axis=1,\n",
    ").reset_index()\n",
    "\n",
    "nlp_results_stats = nlp_results.groupby(\"Document\").agg(\n",
    "    {\n",
    "        \"LM_Positive\": \"mean\",\n",
    "        \"LM_Negative\": \"mean\",\n",
    "        \"LM_Polarity\": \"mean\",\n",
    "        \"LM_Subjectivity\": \"mean\",\n",
    "        \"VADER_Negative\": \"mean\",\n",
    "        \"VADER_Neutral\": \"mean\",\n",
    "        \"VADER_Positive\": \"mean\",\n",
    "        \"VADER_Compound\": \"mean\",\n",
    "        \"SBN_VADER_Negative\": \"mean\",\n",
    "        \"SBN_VADER_Neutral\": \"mean\",\n",
    "        \"SBN_VADER_Positive\": \"mean\",\n",
    "        \"SBN_VADER_Compound\": \"mean\",\n",
    "        \"COVID_Related_Frequency\": \"sum\",\n",
    "        \"COVID_Contextual_Positive_Frequency\": \"sum\",\n",
    "        \"COVID_Contextual_Negative_Frequency\": \"sum\",\n",
    "        \"Sentence\": \"size\",\n",
    "    }\n",
    ")\n",
    "\n",
    "nlp_results_stats[\n",
    "    [\n",
    "        \"COVID_Related_Frequency\",\n",
    "        \"COVID_Contextual_Positive_Frequency\",\n",
    "        \"COVID_Contextual_Negative_Frequency\",\n",
    "    ]\n",
    "] = nlp_results_stats[\n",
    "    [\n",
    "        \"COVID_Related_Frequency\",\n",
    "        \"COVID_Contextual_Positive_Frequency\",\n",
    "        \"COVID_Contextual_Negative_Frequency\",\n",
    "    ]\n",
    "].div(nlp_results_stats[\"Sentence\"], axis=0)\n",
    "\n",
    "nlp_results_stats"
   ]
  },
  {
   "cell_type": "markdown",
   "metadata": {},
   "source": [
    "### Adding FinBERT results"
   ]
  },
  {
   "cell_type": "code",
   "execution_count": 25,
   "metadata": {},
   "outputs": [
    {
     "data": {
      "text/html": [
       "<pre style=\"white-space:pre;overflow-x:auto;line-height:normal;font-family:Menlo,'DejaVu Sans Mono',consolas,'Courier New',monospace\"></pre>\n"
      ],
      "text/plain": []
     },
     "metadata": {},
     "output_type": "display_data"
    },
    {
     "data": {
      "text/html": [
       "<div>\n",
       "<style scoped>\n",
       "    .dataframe tbody tr th:only-of-type {\n",
       "        vertical-align: middle;\n",
       "    }\n",
       "\n",
       "    .dataframe tbody tr th {\n",
       "        vertical-align: top;\n",
       "    }\n",
       "\n",
       "    .dataframe thead th {\n",
       "        text-align: right;\n",
       "    }\n",
       "</style>\n",
       "<table border=\"1\" class=\"dataframe\">\n",
       "  <thead>\n",
       "    <tr style=\"text-align: right;\">\n",
       "      <th></th>\n",
       "      <th>FinBERT_Negative</th>\n",
       "      <th>FinBERT_Neutral</th>\n",
       "      <th>FinBERT_Positive</th>\n",
       "      <th>LM_Positive</th>\n",
       "      <th>LM_Negative</th>\n",
       "      <th>LM_Polarity</th>\n",
       "      <th>LM_Subjectivity</th>\n",
       "      <th>VADER_Negative</th>\n",
       "      <th>VADER_Neutral</th>\n",
       "      <th>VADER_Positive</th>\n",
       "      <th>VADER_Compound</th>\n",
       "      <th>SBN_VADER_Negative</th>\n",
       "      <th>SBN_VADER_Neutral</th>\n",
       "      <th>SBN_VADER_Positive</th>\n",
       "      <th>SBN_VADER_Compound</th>\n",
       "      <th>COVID_Related_Frequency</th>\n",
       "      <th>COVID_Contextual_Positive_Frequency</th>\n",
       "      <th>COVID_Contextual_Negative_Frequency</th>\n",
       "      <th>Sentence</th>\n",
       "    </tr>\n",
       "    <tr>\n",
       "      <th>Document</th>\n",
       "      <th></th>\n",
       "      <th></th>\n",
       "      <th></th>\n",
       "      <th></th>\n",
       "      <th></th>\n",
       "      <th></th>\n",
       "      <th></th>\n",
       "      <th></th>\n",
       "      <th></th>\n",
       "      <th></th>\n",
       "      <th></th>\n",
       "      <th></th>\n",
       "      <th></th>\n",
       "      <th></th>\n",
       "      <th></th>\n",
       "      <th></th>\n",
       "      <th></th>\n",
       "      <th></th>\n",
       "      <th></th>\n",
       "    </tr>\n",
       "  </thead>\n",
       "  <tbody>\n",
       "    <tr>\n",
       "      <th>AAPL</th>\n",
       "      <td>0.200770</td>\n",
       "      <td>0.609698</td>\n",
       "      <td>0.189531</td>\n",
       "      <td>0.165414</td>\n",
       "      <td>0.481203</td>\n",
       "      <td>-0.169925</td>\n",
       "      <td>0.035307</td>\n",
       "      <td>0.073143</td>\n",
       "      <td>0.794820</td>\n",
       "      <td>0.132038</td>\n",
       "      <td>0.165201</td>\n",
       "      <td>0.074346</td>\n",
       "      <td>0.597602</td>\n",
       "      <td>0.328030</td>\n",
       "      <td>0.305426</td>\n",
       "      <td>0.045113</td>\n",
       "      <td>0.037594</td>\n",
       "      <td>0.037594</td>\n",
       "      <td>133</td>\n",
       "    </tr>\n",
       "    <tr>\n",
       "      <th>ABBV</th>\n",
       "      <td>0.125290</td>\n",
       "      <td>0.608638</td>\n",
       "      <td>0.266072</td>\n",
       "      <td>0.388489</td>\n",
       "      <td>0.269784</td>\n",
       "      <td>0.068945</td>\n",
       "      <td>0.035459</td>\n",
       "      <td>0.038511</td>\n",
       "      <td>0.767079</td>\n",
       "      <td>0.194392</td>\n",
       "      <td>0.351717</td>\n",
       "      <td>0.052777</td>\n",
       "      <td>0.589874</td>\n",
       "      <td>0.357345</td>\n",
       "      <td>0.357100</td>\n",
       "      <td>0.089928</td>\n",
       "      <td>0.082734</td>\n",
       "      <td>0.035971</td>\n",
       "      <td>278</td>\n",
       "    </tr>\n",
       "    <tr>\n",
       "      <th>ABT</th>\n",
       "      <td>0.147613</td>\n",
       "      <td>0.577167</td>\n",
       "      <td>0.275220</td>\n",
       "      <td>0.222222</td>\n",
       "      <td>0.296296</td>\n",
       "      <td>-0.047901</td>\n",
       "      <td>0.030115</td>\n",
       "      <td>0.049383</td>\n",
       "      <td>0.790358</td>\n",
       "      <td>0.152835</td>\n",
       "      <td>0.221817</td>\n",
       "      <td>0.068326</td>\n",
       "      <td>0.589775</td>\n",
       "      <td>0.334491</td>\n",
       "      <td>0.269774</td>\n",
       "      <td>0.130864</td>\n",
       "      <td>0.101235</td>\n",
       "      <td>0.069136</td>\n",
       "      <td>405</td>\n",
       "    </tr>\n",
       "    <tr>\n",
       "      <th>ACN</th>\n",
       "      <td>0.214290</td>\n",
       "      <td>0.526049</td>\n",
       "      <td>0.259661</td>\n",
       "      <td>0.311688</td>\n",
       "      <td>0.268398</td>\n",
       "      <td>0.065656</td>\n",
       "      <td>0.038630</td>\n",
       "      <td>0.038515</td>\n",
       "      <td>0.807810</td>\n",
       "      <td>0.153671</td>\n",
       "      <td>0.270781</td>\n",
       "      <td>0.060134</td>\n",
       "      <td>0.588017</td>\n",
       "      <td>0.351840</td>\n",
       "      <td>0.317782</td>\n",
       "      <td>0.060606</td>\n",
       "      <td>0.030303</td>\n",
       "      <td>0.021645</td>\n",
       "      <td>231</td>\n",
       "    </tr>\n",
       "    <tr>\n",
       "      <th>ADBE</th>\n",
       "      <td>0.112824</td>\n",
       "      <td>0.644548</td>\n",
       "      <td>0.242627</td>\n",
       "      <td>0.422819</td>\n",
       "      <td>0.224832</td>\n",
       "      <td>0.121365</td>\n",
       "      <td>0.032955</td>\n",
       "      <td>0.029131</td>\n",
       "      <td>0.781819</td>\n",
       "      <td>0.189050</td>\n",
       "      <td>0.349268</td>\n",
       "      <td>0.046124</td>\n",
       "      <td>0.573094</td>\n",
       "      <td>0.380812</td>\n",
       "      <td>0.380286</td>\n",
       "      <td>0.033557</td>\n",
       "      <td>0.020134</td>\n",
       "      <td>0.023490</td>\n",
       "      <td>298</td>\n",
       "    </tr>\n",
       "    <tr>\n",
       "      <th>...</th>\n",
       "      <td>...</td>\n",
       "      <td>...</td>\n",
       "      <td>...</td>\n",
       "      <td>...</td>\n",
       "      <td>...</td>\n",
       "      <td>...</td>\n",
       "      <td>...</td>\n",
       "      <td>...</td>\n",
       "      <td>...</td>\n",
       "      <td>...</td>\n",
       "      <td>...</td>\n",
       "      <td>...</td>\n",
       "      <td>...</td>\n",
       "      <td>...</td>\n",
       "      <td>...</td>\n",
       "      <td>...</td>\n",
       "      <td>...</td>\n",
       "      <td>...</td>\n",
       "      <td>...</td>\n",
       "    </tr>\n",
       "    <tr>\n",
       "      <th>UPS</th>\n",
       "      <td>0.196942</td>\n",
       "      <td>0.507644</td>\n",
       "      <td>0.295414</td>\n",
       "      <td>0.349558</td>\n",
       "      <td>0.345133</td>\n",
       "      <td>-0.028857</td>\n",
       "      <td>0.036980</td>\n",
       "      <td>0.037546</td>\n",
       "      <td>0.753836</td>\n",
       "      <td>0.206394</td>\n",
       "      <td>0.377707</td>\n",
       "      <td>0.071407</td>\n",
       "      <td>0.547907</td>\n",
       "      <td>0.378458</td>\n",
       "      <td>0.349425</td>\n",
       "      <td>0.055310</td>\n",
       "      <td>0.037611</td>\n",
       "      <td>0.019912</td>\n",
       "      <td>452</td>\n",
       "    </tr>\n",
       "    <tr>\n",
       "      <th>V</th>\n",
       "      <td>0.179173</td>\n",
       "      <td>0.697402</td>\n",
       "      <td>0.123426</td>\n",
       "      <td>0.237952</td>\n",
       "      <td>0.412651</td>\n",
       "      <td>-0.092169</td>\n",
       "      <td>0.044104</td>\n",
       "      <td>0.067554</td>\n",
       "      <td>0.783389</td>\n",
       "      <td>0.146042</td>\n",
       "      <td>0.172686</td>\n",
       "      <td>0.074446</td>\n",
       "      <td>0.614880</td>\n",
       "      <td>0.307672</td>\n",
       "      <td>0.233386</td>\n",
       "      <td>0.027108</td>\n",
       "      <td>0.012048</td>\n",
       "      <td>0.006024</td>\n",
       "      <td>332</td>\n",
       "    </tr>\n",
       "    <tr>\n",
       "      <th>VRTX</th>\n",
       "      <td>0.138450</td>\n",
       "      <td>0.577324</td>\n",
       "      <td>0.284225</td>\n",
       "      <td>0.401338</td>\n",
       "      <td>0.311037</td>\n",
       "      <td>0.092642</td>\n",
       "      <td>0.039203</td>\n",
       "      <td>0.037408</td>\n",
       "      <td>0.774615</td>\n",
       "      <td>0.187980</td>\n",
       "      <td>0.337602</td>\n",
       "      <td>0.053472</td>\n",
       "      <td>0.537950</td>\n",
       "      <td>0.408555</td>\n",
       "      <td>0.403438</td>\n",
       "      <td>0.096990</td>\n",
       "      <td>0.070234</td>\n",
       "      <td>0.046823</td>\n",
       "      <td>299</td>\n",
       "    </tr>\n",
       "    <tr>\n",
       "      <th>VZ</th>\n",
       "      <td>0.170879</td>\n",
       "      <td>0.583512</td>\n",
       "      <td>0.245608</td>\n",
       "      <td>0.282577</td>\n",
       "      <td>0.341142</td>\n",
       "      <td>-0.024493</td>\n",
       "      <td>0.036912</td>\n",
       "      <td>0.046382</td>\n",
       "      <td>0.785451</td>\n",
       "      <td>0.166704</td>\n",
       "      <td>0.271013</td>\n",
       "      <td>0.068433</td>\n",
       "      <td>0.545549</td>\n",
       "      <td>0.384534</td>\n",
       "      <td>0.328190</td>\n",
       "      <td>0.087848</td>\n",
       "      <td>0.067350</td>\n",
       "      <td>0.048316</td>\n",
       "      <td>683</td>\n",
       "    </tr>\n",
       "    <tr>\n",
       "      <th>WMT</th>\n",
       "      <td>0.236985</td>\n",
       "      <td>0.548997</td>\n",
       "      <td>0.214017</td>\n",
       "      <td>0.279279</td>\n",
       "      <td>0.336336</td>\n",
       "      <td>-0.013113</td>\n",
       "      <td>0.035590</td>\n",
       "      <td>0.044024</td>\n",
       "      <td>0.770862</td>\n",
       "      <td>0.182081</td>\n",
       "      <td>0.309844</td>\n",
       "      <td>0.069078</td>\n",
       "      <td>0.564381</td>\n",
       "      <td>0.363544</td>\n",
       "      <td>0.335633</td>\n",
       "      <td>0.006006</td>\n",
       "      <td>0.003003</td>\n",
       "      <td>0.003003</td>\n",
       "      <td>333</td>\n",
       "    </tr>\n",
       "  </tbody>\n",
       "</table>\n",
       "<p>88 rows × 19 columns</p>\n",
       "</div>"
      ],
      "text/plain": [
       "\n",
       "          FinBERT_Negative  FinBERT_Neutral  FinBERT_Positive  LM_Positive  \\\n",
       "Document                                                                     \n",
       "AAPL              \u001b[1;36m0.200770\u001b[0m         \u001b[1;36m0.609698\u001b[0m          \u001b[1;36m0.189531\u001b[0m     \u001b[1;36m0.165414\u001b[0m   \n",
       "ABBV              \u001b[1;36m0.125290\u001b[0m         \u001b[1;36m0.608638\u001b[0m          \u001b[1;36m0.266072\u001b[0m     \u001b[1;36m0.388489\u001b[0m   \n",
       "ABT               \u001b[1;36m0.147613\u001b[0m         \u001b[1;36m0.577167\u001b[0m          \u001b[1;36m0.275220\u001b[0m     \u001b[1;36m0.222222\u001b[0m   \n",
       "ACN               \u001b[1;36m0.214290\u001b[0m         \u001b[1;36m0.526049\u001b[0m          \u001b[1;36m0.259661\u001b[0m     \u001b[1;36m0.311688\u001b[0m   \n",
       "ADBE              \u001b[1;36m0.112824\u001b[0m         \u001b[1;36m0.644548\u001b[0m          \u001b[1;36m0.242627\u001b[0m     \u001b[1;36m0.422819\u001b[0m   \n",
       "\u001b[33m...\u001b[0m                    \u001b[33m...\u001b[0m              \u001b[33m...\u001b[0m               \u001b[33m...\u001b[0m          \u001b[33m...\u001b[0m   \n",
       "UPS               \u001b[1;36m0.196942\u001b[0m         \u001b[1;36m0.507644\u001b[0m          \u001b[1;36m0.295414\u001b[0m     \u001b[1;36m0.349558\u001b[0m   \n",
       "V                 \u001b[1;36m0.179173\u001b[0m         \u001b[1;36m0.697402\u001b[0m          \u001b[1;36m0.123426\u001b[0m     \u001b[1;36m0.237952\u001b[0m   \n",
       "VRTX              \u001b[1;36m0.138450\u001b[0m         \u001b[1;36m0.577324\u001b[0m          \u001b[1;36m0.284225\u001b[0m     \u001b[1;36m0.401338\u001b[0m   \n",
       "VZ                \u001b[1;36m0.170879\u001b[0m         \u001b[1;36m0.583512\u001b[0m          \u001b[1;36m0.245608\u001b[0m     \u001b[1;36m0.282577\u001b[0m   \n",
       "WMT               \u001b[1;36m0.236985\u001b[0m         \u001b[1;36m0.548997\u001b[0m          \u001b[1;36m0.214017\u001b[0m     \u001b[1;36m0.279279\u001b[0m   \n",
       "\n",
       "          LM_Negative  LM_Polarity  LM_Subjectivity  VADER_Negative  \\\n",
       "Document                                                              \n",
       "AAPL         \u001b[1;36m0.481203\u001b[0m    \u001b[1;36m-0.169925\u001b[0m         \u001b[1;36m0.035307\u001b[0m        \u001b[1;36m0.073143\u001b[0m   \n",
       "ABBV         \u001b[1;36m0.269784\u001b[0m     \u001b[1;36m0.068945\u001b[0m         \u001b[1;36m0.035459\u001b[0m        \u001b[1;36m0.038511\u001b[0m   \n",
       "ABT          \u001b[1;36m0.296296\u001b[0m    \u001b[1;36m-0.047901\u001b[0m         \u001b[1;36m0.030115\u001b[0m        \u001b[1;36m0.049383\u001b[0m   \n",
       "ACN          \u001b[1;36m0.268398\u001b[0m     \u001b[1;36m0.065656\u001b[0m         \u001b[1;36m0.038630\u001b[0m        \u001b[1;36m0.038515\u001b[0m   \n",
       "ADBE         \u001b[1;36m0.224832\u001b[0m     \u001b[1;36m0.121365\u001b[0m         \u001b[1;36m0.032955\u001b[0m        \u001b[1;36m0.029131\u001b[0m   \n",
       "\u001b[33m...\u001b[0m               \u001b[33m...\u001b[0m          \u001b[33m...\u001b[0m              \u001b[33m...\u001b[0m             \u001b[33m...\u001b[0m   \n",
       "UPS          \u001b[1;36m0.345133\u001b[0m    \u001b[1;36m-0.028857\u001b[0m         \u001b[1;36m0.036980\u001b[0m        \u001b[1;36m0.037546\u001b[0m   \n",
       "V            \u001b[1;36m0.412651\u001b[0m    \u001b[1;36m-0.092169\u001b[0m         \u001b[1;36m0.044104\u001b[0m        \u001b[1;36m0.067554\u001b[0m   \n",
       "VRTX         \u001b[1;36m0.311037\u001b[0m     \u001b[1;36m0.092642\u001b[0m         \u001b[1;36m0.039203\u001b[0m        \u001b[1;36m0.037408\u001b[0m   \n",
       "VZ           \u001b[1;36m0.341142\u001b[0m    \u001b[1;36m-0.024493\u001b[0m         \u001b[1;36m0.036912\u001b[0m        \u001b[1;36m0.046382\u001b[0m   \n",
       "WMT          \u001b[1;36m0.336336\u001b[0m    \u001b[1;36m-0.013113\u001b[0m         \u001b[1;36m0.035590\u001b[0m        \u001b[1;36m0.044024\u001b[0m   \n",
       "\n",
       "          VADER_Neutral  VADER_Positive  VADER_Compound  SBN_VADER_Negative  \\\n",
       "Document                                                                      \n",
       "AAPL           \u001b[1;36m0.794820\u001b[0m        \u001b[1;36m0.132038\u001b[0m        \u001b[1;36m0.165201\u001b[0m            \u001b[1;36m0.074346\u001b[0m   \n",
       "ABBV           \u001b[1;36m0.767079\u001b[0m        \u001b[1;36m0.194392\u001b[0m        \u001b[1;36m0.351717\u001b[0m            \u001b[1;36m0.052777\u001b[0m   \n",
       "ABT            \u001b[1;36m0.790358\u001b[0m        \u001b[1;36m0.152835\u001b[0m        \u001b[1;36m0.221817\u001b[0m            \u001b[1;36m0.068326\u001b[0m   \n",
       "ACN            \u001b[1;36m0.807810\u001b[0m        \u001b[1;36m0.153671\u001b[0m        \u001b[1;36m0.270781\u001b[0m            \u001b[1;36m0.060134\u001b[0m   \n",
       "ADBE           \u001b[1;36m0.781819\u001b[0m        \u001b[1;36m0.189050\u001b[0m        \u001b[1;36m0.349268\u001b[0m            \u001b[1;36m0.046124\u001b[0m   \n",
       "\u001b[33m...\u001b[0m                 \u001b[33m...\u001b[0m             \u001b[33m...\u001b[0m             \u001b[33m...\u001b[0m                 \u001b[33m...\u001b[0m   \n",
       "UPS            \u001b[1;36m0.753836\u001b[0m        \u001b[1;36m0.206394\u001b[0m        \u001b[1;36m0.377707\u001b[0m            \u001b[1;36m0.071407\u001b[0m   \n",
       "V              \u001b[1;36m0.783389\u001b[0m        \u001b[1;36m0.146042\u001b[0m        \u001b[1;36m0.172686\u001b[0m            \u001b[1;36m0.074446\u001b[0m   \n",
       "VRTX           \u001b[1;36m0.774615\u001b[0m        \u001b[1;36m0.187980\u001b[0m        \u001b[1;36m0.337602\u001b[0m            \u001b[1;36m0.053472\u001b[0m   \n",
       "VZ             \u001b[1;36m0.785451\u001b[0m        \u001b[1;36m0.166704\u001b[0m        \u001b[1;36m0.271013\u001b[0m            \u001b[1;36m0.068433\u001b[0m   \n",
       "WMT            \u001b[1;36m0.770862\u001b[0m        \u001b[1;36m0.182081\u001b[0m        \u001b[1;36m0.309844\u001b[0m            \u001b[1;36m0.069078\u001b[0m   \n",
       "\n",
       "          SBN_VADER_Neutral  SBN_VADER_Positive  SBN_VADER_Compound  \\\n",
       "Document                                                              \n",
       "AAPL               \u001b[1;36m0.597602\u001b[0m            \u001b[1;36m0.328030\u001b[0m            \u001b[1;36m0.305426\u001b[0m   \n",
       "ABBV               \u001b[1;36m0.589874\u001b[0m            \u001b[1;36m0.357345\u001b[0m            \u001b[1;36m0.357100\u001b[0m   \n",
       "ABT                \u001b[1;36m0.589775\u001b[0m            \u001b[1;36m0.334491\u001b[0m            \u001b[1;36m0.269774\u001b[0m   \n",
       "ACN                \u001b[1;36m0.588017\u001b[0m            \u001b[1;36m0.351840\u001b[0m            \u001b[1;36m0.317782\u001b[0m   \n",
       "ADBE               \u001b[1;36m0.573094\u001b[0m            \u001b[1;36m0.380812\u001b[0m            \u001b[1;36m0.380286\u001b[0m   \n",
       "\u001b[33m...\u001b[0m                     \u001b[33m...\u001b[0m                 \u001b[33m...\u001b[0m                 \u001b[33m...\u001b[0m   \n",
       "UPS                \u001b[1;36m0.547907\u001b[0m            \u001b[1;36m0.378458\u001b[0m            \u001b[1;36m0.349425\u001b[0m   \n",
       "V                  \u001b[1;36m0.614880\u001b[0m            \u001b[1;36m0.307672\u001b[0m            \u001b[1;36m0.233386\u001b[0m   \n",
       "VRTX               \u001b[1;36m0.537950\u001b[0m            \u001b[1;36m0.408555\u001b[0m            \u001b[1;36m0.403438\u001b[0m   \n",
       "VZ                 \u001b[1;36m0.545549\u001b[0m            \u001b[1;36m0.384534\u001b[0m            \u001b[1;36m0.328190\u001b[0m   \n",
       "WMT                \u001b[1;36m0.564381\u001b[0m            \u001b[1;36m0.363544\u001b[0m            \u001b[1;36m0.335633\u001b[0m   \n",
       "\n",
       "          COVID_Related_Frequency  COVID_Contextual_Positive_Frequency  \\\n",
       "Document                                                                 \n",
       "AAPL                     \u001b[1;36m0.045113\u001b[0m                             \u001b[1;36m0.037594\u001b[0m   \n",
       "ABBV                     \u001b[1;36m0.089928\u001b[0m                             \u001b[1;36m0.082734\u001b[0m   \n",
       "ABT                      \u001b[1;36m0.130864\u001b[0m                             \u001b[1;36m0.101235\u001b[0m   \n",
       "ACN                      \u001b[1;36m0.060606\u001b[0m                             \u001b[1;36m0.030303\u001b[0m   \n",
       "ADBE                     \u001b[1;36m0.033557\u001b[0m                             \u001b[1;36m0.020134\u001b[0m   \n",
       "\u001b[33m...\u001b[0m                           \u001b[33m...\u001b[0m                                  \u001b[33m...\u001b[0m   \n",
       "UPS                      \u001b[1;36m0.055310\u001b[0m                             \u001b[1;36m0.037611\u001b[0m   \n",
       "V                        \u001b[1;36m0.027108\u001b[0m                             \u001b[1;36m0.012048\u001b[0m   \n",
       "VRTX                     \u001b[1;36m0.096990\u001b[0m                             \u001b[1;36m0.070234\u001b[0m   \n",
       "VZ                       \u001b[1;36m0.087848\u001b[0m                             \u001b[1;36m0.067350\u001b[0m   \n",
       "WMT                      \u001b[1;36m0.006006\u001b[0m                             \u001b[1;36m0.003003\u001b[0m   \n",
       "\n",
       "          COVID_Contextual_Negative_Frequency  Sentence  \n",
       "Document                                                 \n",
       "AAPL                                 \u001b[1;36m0.037594\u001b[0m       \u001b[1;36m133\u001b[0m  \n",
       "ABBV                                 \u001b[1;36m0.035971\u001b[0m       \u001b[1;36m278\u001b[0m  \n",
       "ABT                                  \u001b[1;36m0.069136\u001b[0m       \u001b[1;36m405\u001b[0m  \n",
       "ACN                                  \u001b[1;36m0.021645\u001b[0m       \u001b[1;36m231\u001b[0m  \n",
       "ADBE                                 \u001b[1;36m0.023490\u001b[0m       \u001b[1;36m298\u001b[0m  \n",
       "\u001b[33m...\u001b[0m                                       \u001b[33m...\u001b[0m       \u001b[33m...\u001b[0m  \n",
       "UPS                                  \u001b[1;36m0.019912\u001b[0m       \u001b[1;36m452\u001b[0m  \n",
       "V                                    \u001b[1;36m0.006024\u001b[0m       \u001b[1;36m332\u001b[0m  \n",
       "VRTX                                 \u001b[1;36m0.046823\u001b[0m       \u001b[1;36m299\u001b[0m  \n",
       "VZ                                   \u001b[1;36m0.048316\u001b[0m       \u001b[1;36m683\u001b[0m  \n",
       "WMT                                  \u001b[1;36m0.003003\u001b[0m       \u001b[1;36m333\u001b[0m  \n",
       "\n",
       "\u001b[1m[\u001b[0m\u001b[1;36m88\u001b[0m rows x \u001b[1;36m19\u001b[0m columns\u001b[1m]\u001b[0m"
      ]
     },
     "execution_count": 25,
     "metadata": {},
     "output_type": "execute_result"
    }
   ],
   "source": [
    "results_df = (\n",
    "    finbert_results_df.groupby(\"Ticker\")[[\"negative\", \"neutral\", \"positive\"]]\n",
    "    .agg(\"mean\")\n",
    "    .rename_axis(\"Document\")\n",
    "    .rename(\n",
    "        columns={\n",
    "            \"negative\": \"FinBERT_Negative\",\n",
    "            \"neutral\": \"FinBERT_Neutral\",\n",
    "            \"positive\": \"FinBERT_Positive\",\n",
    "        }\n",
    "    )\n",
    "    .join(nlp_results_stats)\n",
    ")\n",
    "\n",
    "results_df\n"
   ]
  },
  {
   "cell_type": "markdown",
   "metadata": {},
   "source": [
    "### Correlation matrix\n"
   ]
  },
  {
   "cell_type": "code",
   "execution_count": 26,
   "metadata": {},
   "outputs": [
    {
     "data": {
      "text/html": [
       "<pre style=\"white-space:pre;overflow-x:auto;line-height:normal;font-family:Menlo,'DejaVu Sans Mono',consolas,'Courier New',monospace\"></pre>\n"
      ],
      "text/plain": []
     },
     "metadata": {},
     "output_type": "display_data"
    },
    {
     "data": {
      "image/png": "[encoded data removed]",
      "text/plain": [
       "\u001b[1m<\u001b[0m\u001b[1;95mFigure\u001b[0m\u001b[39m size 144\u001b[0m\u001b[1;36m0x720\u001b[0m\u001b[39m with \u001b[0m\u001b[1;36m2\u001b[0m\u001b[39m Axes\u001b[0m\u001b[1m>\u001b[0m"
      ]
     },
     "metadata": {
      "needs_background": "light"
     },
     "output_type": "display_data"
    }
   ],
   "source": [
    "correlation_matrix = results_df.drop(columns=\"Sentence\").corr()\n",
    "\n",
    "plt.figure(figsize=(20, 10))\n",
    "\n",
    "sns.heatmap(correlation_matrix, annot=True)\n",
    "\n",
    "plt.show()\n"
   ]
  },
  {
   "cell_type": "markdown",
   "metadata": {},
   "source": [
    "### Comparing sentiment score\n"
   ]
  },
  {
   "cell_type": "code",
   "execution_count": 27,
   "metadata": {},
   "outputs": [
    {
     "data": {
      "text/html": [
       "<pre style=\"white-space:pre;overflow-x:auto;line-height:normal;font-family:Menlo,'DejaVu Sans Mono',consolas,'Courier New',monospace\"></pre>\n"
      ],
      "text/plain": []
     },
     "metadata": {},
     "output_type": "display_data"
    },
    {
     "data": {
      "image/png": "[encoded data removed]",
      "text/plain": [
       "\u001b[1m<\u001b[0m\u001b[1;95mFigure\u001b[0m\u001b[39m size 144\u001b[0m\u001b[1;36m0x720\u001b[0m\u001b[39m with \u001b[0m\u001b[1;36m1\u001b[0m\u001b[39m Axes\u001b[0m\u001b[1m>\u001b[0m"
      ]
     },
     "metadata": {
      "needs_background": "light"
     },
     "output_type": "display_data"
    }
   ],
   "source": [
    "ax = results_df.iloc[:5].plot(\n",
    "    kind=\"bar\",\n",
    "    y=[\"FinBERT_Positive\", \"LM_Positive\", \"VADER_Positive\", \"SBN_VADER_Positive\"],\n",
    "    figsize=(20, 10),\n",
    ")\n",
    "ax.set_ylabel(\"Positive Sentiment Score\")\n",
    "ax.set_title(\"Sentiment Score comparison for first 5 companies\")\n",
    "plt.show()\n"
   ]
  },
  {
   "cell_type": "code",
   "execution_count": 28,
   "metadata": {},
   "outputs": [
    {
     "data": {
      "text/html": [
       "<pre style=\"white-space:pre;overflow-x:auto;line-height:normal;font-family:Menlo,'DejaVu Sans Mono',consolas,'Courier New',monospace\"></pre>\n"
      ],
      "text/plain": []
     },
     "metadata": {},
     "output_type": "display_data"
    },
    {
     "data": {
      "image/png": "[encoded data removed]",
      "text/plain": [
       "\u001b[1m<\u001b[0m\u001b[1;95mFigure\u001b[0m\u001b[39m size 144\u001b[0m\u001b[1;36m0x720\u001b[0m\u001b[39m with \u001b[0m\u001b[1;36m1\u001b[0m\u001b[39m Axes\u001b[0m\u001b[1m>\u001b[0m"
      ]
     },
     "metadata": {
      "needs_background": "light"
     },
     "output_type": "display_data"
    }
   ],
   "source": [
    "ax = results_df.iloc[:5].plot(\n",
    "    kind=\"bar\",\n",
    "    y=[\"FinBERT_Negative\", \"LM_Negative\", \"VADER_Negative\", \"SBN_VADER_Negative\"],\n",
    "    figsize=(20, 10),\n",
    ")\n",
    "ax.set_ylabel(\"Negative Sentiment Score\")\n",
    "ax.set_title(\"Sentiment Score comparison for first 5 companies\")\n",
    "plt.show()\n"
   ]
  },
  {
   "cell_type": "markdown",
   "metadata": {},
   "source": [
    "### Checking COVID-19 mentions"
   ]
  },
  {
   "cell_type": "code",
   "execution_count": 29,
   "metadata": {},
   "outputs": [
    {
     "data": {
      "text/html": [
       "<pre style=\"white-space:pre;overflow-x:auto;line-height:normal;font-family:Menlo,'DejaVu Sans Mono',consolas,'Courier New',monospace\"></pre>\n"
      ],
      "text/plain": []
     },
     "metadata": {},
     "output_type": "display_data"
    },
    {
     "data": {
      "text/html": [
       "<div>\n",
       "<style scoped>\n",
       "    .dataframe tbody tr th:only-of-type {\n",
       "        vertical-align: middle;\n",
       "    }\n",
       "\n",
       "    .dataframe tbody tr th {\n",
       "        vertical-align: top;\n",
       "    }\n",
       "\n",
       "    .dataframe thead th {\n",
       "        text-align: right;\n",
       "    }\n",
       "</style>\n",
       "<table border=\"1\" class=\"dataframe\">\n",
       "  <thead>\n",
       "    <tr style=\"text-align: right;\">\n",
       "      <th></th>\n",
       "      <th>FinBERT_Negative</th>\n",
       "      <th>FinBERT_Neutral</th>\n",
       "      <th>FinBERT_Positive</th>\n",
       "      <th>LM_Positive</th>\n",
       "      <th>LM_Negative</th>\n",
       "      <th>LM_Polarity</th>\n",
       "      <th>LM_Subjectivity</th>\n",
       "      <th>VADER_Negative</th>\n",
       "      <th>VADER_Neutral</th>\n",
       "      <th>VADER_Positive</th>\n",
       "      <th>VADER_Compound</th>\n",
       "      <th>SBN_VADER_Negative</th>\n",
       "      <th>SBN_VADER_Neutral</th>\n",
       "      <th>SBN_VADER_Positive</th>\n",
       "      <th>SBN_VADER_Compound</th>\n",
       "      <th>COVID_Related_Frequency</th>\n",
       "      <th>COVID_Contextual_Positive_Frequency</th>\n",
       "      <th>COVID_Contextual_Negative_Frequency</th>\n",
       "      <th>Sentence</th>\n",
       "    </tr>\n",
       "    <tr>\n",
       "      <th>Document</th>\n",
       "      <th></th>\n",
       "      <th></th>\n",
       "      <th></th>\n",
       "      <th></th>\n",
       "      <th></th>\n",
       "      <th></th>\n",
       "      <th></th>\n",
       "      <th></th>\n",
       "      <th></th>\n",
       "      <th></th>\n",
       "      <th></th>\n",
       "      <th></th>\n",
       "      <th></th>\n",
       "      <th></th>\n",
       "      <th></th>\n",
       "      <th></th>\n",
       "      <th></th>\n",
       "      <th></th>\n",
       "      <th></th>\n",
       "    </tr>\n",
       "  </thead>\n",
       "  <tbody>\n",
       "  </tbody>\n",
       "</table>\n",
       "</div>"
      ],
      "text/plain": [
       "\n",
       "Empty DataFrame\n",
       "Columns: \u001b[1m[\u001b[0mFinBERT_Negative, FinBERT_Neutral, FinBERT_Positive, LM_Positive, LM_Negative, LM_Polarity, LM_Subjectivity, VADER_Negative, VADER_Neutral, VADER_Positive, VADER_Compound, SBN_VADER_Negative, SBN_VADER_Neutral, SBN_VADER_Positive, SBN_VADER_Compound, COVID_Related_Frequency, COVID_Contextual_Positive_Frequency, COVID_Contextual_Negative_Frequency, Sentence\u001b[1m]\u001b[0m\n",
       "Index: \u001b[1m[\u001b[0m\u001b[1m]\u001b[0m"
      ]
     },
     "execution_count": 29,
     "metadata": {},
     "output_type": "execute_result"
    }
   ],
   "source": [
    "results_df.query(\"COVID_Related_Frequency == 0\")"
   ]
  },
  {
   "cell_type": "markdown",
   "metadata": {},
   "source": [
    "All MD&A sections mention terms related to COVID-19."
   ]
  },
  {
   "cell_type": "markdown",
   "metadata": {},
   "source": [
    "## Comparing Stock Prices with Results from Sentiment Analysis\n"
   ]
  },
  {
   "cell_type": "markdown",
   "metadata": {},
   "source": [
    "### Loading Stock Data\n"
   ]
  },
  {
   "cell_type": "code",
   "execution_count": 30,
   "metadata": {},
   "outputs": [
    {
     "data": {
      "text/html": [
       "<pre style=\"white-space:pre;overflow-x:auto;line-height:normal;font-family:Menlo,'DejaVu Sans Mono',consolas,'Courier New',monospace\"></pre>\n"
      ],
      "text/plain": []
     },
     "metadata": {},
     "output_type": "display_data"
    },
    {
     "data": {
      "text/html": [
       "<div>\n",
       "<style scoped>\n",
       "    .dataframe tbody tr th:only-of-type {\n",
       "        vertical-align: middle;\n",
       "    }\n",
       "\n",
       "    .dataframe tbody tr th {\n",
       "        vertical-align: top;\n",
       "    }\n",
       "\n",
       "    .dataframe thead th {\n",
       "        text-align: right;\n",
       "    }\n",
       "</style>\n",
       "<table border=\"1\" class=\"dataframe\">\n",
       "  <thead>\n",
       "    <tr style=\"text-align: right;\">\n",
       "      <th></th>\n",
       "      <th>Date</th>\n",
       "      <th>Close</th>\n",
       "      <th>Ticker</th>\n",
       "    </tr>\n",
       "  </thead>\n",
       "  <tbody>\n",
       "    <tr>\n",
       "      <th>0</th>\n",
       "      <td>2020-06-01 00:00:00-04:00</td>\n",
       "      <td>218.529816</td>\n",
       "      <td>MSFT</td>\n",
       "    </tr>\n",
       "    <tr>\n",
       "      <th>1</th>\n",
       "      <td>2021-06-01 00:00:00-04:00</td>\n",
       "      <td>265.033173</td>\n",
       "      <td>MSFT</td>\n",
       "    </tr>\n",
       "    <tr>\n",
       "      <th>2</th>\n",
       "      <td>2020-06-01 00:00:00-04:00</td>\n",
       "      <td>126.193336</td>\n",
       "      <td>AAPL</td>\n",
       "    </tr>\n",
       "    <tr>\n",
       "      <th>3</th>\n",
       "      <td>2021-06-01 00:00:00-04:00</td>\n",
       "      <td>134.841141</td>\n",
       "      <td>AAPL</td>\n",
       "    </tr>\n",
       "    <tr>\n",
       "      <th>4</th>\n",
       "      <td>2020-06-01 00:00:00-04:00</td>\n",
       "      <td>133.304092</td>\n",
       "      <td>NVDA</td>\n",
       "    </tr>\n",
       "    <tr>\n",
       "      <th>...</th>\n",
       "      <td>...</td>\n",
       "      <td>...</td>\n",
       "      <td>...</td>\n",
       "    </tr>\n",
       "    <tr>\n",
       "      <th>195</th>\n",
       "      <td>2021-06-01 00:00:00-04:00</td>\n",
       "      <td>83.541824</td>\n",
       "      <td>MU</td>\n",
       "    </tr>\n",
       "    <tr>\n",
       "      <th>196</th>\n",
       "      <td>2020-06-01 00:00:00-04:00</td>\n",
       "      <td>57.171944</td>\n",
       "      <td>GILD</td>\n",
       "    </tr>\n",
       "    <tr>\n",
       "      <th>197</th>\n",
       "      <td>2021-06-01 00:00:00-04:00</td>\n",
       "      <td>61.500305</td>\n",
       "      <td>GILD</td>\n",
       "    </tr>\n",
       "    <tr>\n",
       "      <th>198</th>\n",
       "      <td>2020-06-01 00:00:00-04:00</td>\n",
       "      <td>45.996845</td>\n",
       "      <td>BX</td>\n",
       "    </tr>\n",
       "    <tr>\n",
       "      <th>199</th>\n",
       "      <td>2021-06-01 00:00:00-04:00</td>\n",
       "      <td>87.744774</td>\n",
       "      <td>BX</td>\n",
       "    </tr>\n",
       "  </tbody>\n",
       "</table>\n",
       "<p>200 rows × 3 columns</p>\n",
       "</div>"
      ],
      "text/plain": [
       "\n",
       "                         Date       Close Ticker\n",
       "\u001b[1;36m0\u001b[0m   \u001b[1;36m2020\u001b[0m-\u001b[1;36m06\u001b[0m-\u001b[1;36m01\u001b[0m \u001b[1;92m00:00:00\u001b[0m-\u001b[1;92m04:00\u001b[0m  \u001b[1;36m218.529816\u001b[0m   MSFT\n",
       "\u001b[1;36m1\u001b[0m   \u001b[1;36m2021\u001b[0m-\u001b[1;36m06\u001b[0m-\u001b[1;36m01\u001b[0m \u001b[1;92m00:00:00\u001b[0m-\u001b[1;92m04:00\u001b[0m  \u001b[1;36m265.033173\u001b[0m   MSFT\n",
       "\u001b[1;36m2\u001b[0m   \u001b[1;36m2020\u001b[0m-\u001b[1;36m06\u001b[0m-\u001b[1;36m01\u001b[0m \u001b[1;92m00:00:00\u001b[0m-\u001b[1;92m04:00\u001b[0m  \u001b[1;36m126.193336\u001b[0m   AAPL\n",
       "\u001b[1;36m3\u001b[0m   \u001b[1;36m2021\u001b[0m-\u001b[1;36m06\u001b[0m-\u001b[1;36m01\u001b[0m \u001b[1;92m00:00:00\u001b[0m-\u001b[1;92m04:00\u001b[0m  \u001b[1;36m134.841141\u001b[0m   AAPL\n",
       "\u001b[1;36m4\u001b[0m   \u001b[1;36m2020\u001b[0m-\u001b[1;36m06\u001b[0m-\u001b[1;36m01\u001b[0m \u001b[1;92m00:00:00\u001b[0m-\u001b[1;92m04:00\u001b[0m  \u001b[1;36m133.304092\u001b[0m   NVDA\n",
       "..                        \u001b[33m...\u001b[0m         \u001b[33m...\u001b[0m    \u001b[33m...\u001b[0m\n",
       "\u001b[1;36m195\u001b[0m \u001b[1;36m2021\u001b[0m-\u001b[1;36m06\u001b[0m-\u001b[1;36m01\u001b[0m \u001b[1;92m00:00:00\u001b[0m-\u001b[1;92m04:00\u001b[0m   \u001b[1;36m83.541824\u001b[0m     MU\n",
       "\u001b[1;36m196\u001b[0m \u001b[1;36m2020\u001b[0m-\u001b[1;36m06\u001b[0m-\u001b[1;36m01\u001b[0m \u001b[1;92m00:00:00\u001b[0m-\u001b[1;92m04:00\u001b[0m   \u001b[1;36m57.171944\u001b[0m   GILD\n",
       "\u001b[1;36m197\u001b[0m \u001b[1;36m2021\u001b[0m-\u001b[1;36m06\u001b[0m-\u001b[1;36m01\u001b[0m \u001b[1;92m00:00:00\u001b[0m-\u001b[1;92m04:00\u001b[0m   \u001b[1;36m61.500305\u001b[0m   GILD\n",
       "\u001b[1;36m198\u001b[0m \u001b[1;36m2020\u001b[0m-\u001b[1;36m06\u001b[0m-\u001b[1;36m01\u001b[0m \u001b[1;92m00:00:00\u001b[0m-\u001b[1;92m04:00\u001b[0m   \u001b[1;36m45.996845\u001b[0m     BX\n",
       "\u001b[1;36m199\u001b[0m \u001b[1;36m2021\u001b[0m-\u001b[1;36m06\u001b[0m-\u001b[1;36m01\u001b[0m \u001b[1;92m00:00:00\u001b[0m-\u001b[1;92m04:00\u001b[0m   \u001b[1;36m87.744774\u001b[0m     BX\n",
       "\n",
       "\u001b[1m[\u001b[0m\u001b[1;36m200\u001b[0m rows x \u001b[1;36m3\u001b[0m columns\u001b[1m]\u001b[0m"
      ]
     },
     "execution_count": 30,
     "metadata": {},
     "output_type": "execute_result"
    }
   ],
   "source": [
    "stock_df = pd.read_csv(\"./data/stock_prices.csv\", parse_dates=[\"Date\"])\n",
    "stock_df"
   ]
  },
  {
   "cell_type": "markdown",
   "metadata": {},
   "source": [
    "### Loading Industry Data"
   ]
  },
  {
   "cell_type": "code",
   "execution_count": 31,
   "metadata": {},
   "outputs": [
    {
     "data": {
      "text/html": [
       "<pre style=\"white-space:pre;overflow-x:auto;line-height:normal;font-family:Menlo,'DejaVu Sans Mono',consolas,'Courier New',monospace\"></pre>\n"
      ],
      "text/plain": []
     },
     "metadata": {},
     "output_type": "display_data"
    },
    {
     "data": {
      "text/html": [
       "<div>\n",
       "<style scoped>\n",
       "    .dataframe tbody tr th:only-of-type {\n",
       "        vertical-align: middle;\n",
       "    }\n",
       "\n",
       "    .dataframe tbody tr th {\n",
       "        vertical-align: top;\n",
       "    }\n",
       "\n",
       "    .dataframe thead th {\n",
       "        text-align: right;\n",
       "    }\n",
       "</style>\n",
       "<table border=\"1\" class=\"dataframe\">\n",
       "  <thead>\n",
       "    <tr style=\"text-align: right;\">\n",
       "      <th></th>\n",
       "      <th>Name</th>\n",
       "      <th>Sector</th>\n",
       "    </tr>\n",
       "  </thead>\n",
       "  <tbody>\n",
       "    <tr>\n",
       "      <th>AAPL</th>\n",
       "      <td>Apple</td>\n",
       "      <td>Information Technology</td>\n",
       "    </tr>\n",
       "    <tr>\n",
       "      <th>ABBV</th>\n",
       "      <td>AbbVie</td>\n",
       "      <td>Health Care</td>\n",
       "    </tr>\n",
       "    <tr>\n",
       "      <th>ABT</th>\n",
       "      <td>Abbott Laboratories</td>\n",
       "      <td>Health Care</td>\n",
       "    </tr>\n",
       "    <tr>\n",
       "      <th>ACN</th>\n",
       "      <td>Accenture</td>\n",
       "      <td>Information Technology</td>\n",
       "    </tr>\n",
       "    <tr>\n",
       "      <th>ADBE</th>\n",
       "      <td>Adobe</td>\n",
       "      <td>Information Technology</td>\n",
       "    </tr>\n",
       "    <tr>\n",
       "      <th>...</th>\n",
       "      <td>...</td>\n",
       "      <td>...</td>\n",
       "    </tr>\n",
       "    <tr>\n",
       "      <th>UPS</th>\n",
       "      <td>United Parcel Service</td>\n",
       "      <td>Industrials</td>\n",
       "    </tr>\n",
       "    <tr>\n",
       "      <th>V</th>\n",
       "      <td>Visa</td>\n",
       "      <td>Information Technology</td>\n",
       "    </tr>\n",
       "    <tr>\n",
       "      <th>VRTX</th>\n",
       "      <td>Vertex Pharmaceuticals</td>\n",
       "      <td>Health Care</td>\n",
       "    </tr>\n",
       "    <tr>\n",
       "      <th>VZ</th>\n",
       "      <td>Verizon Communications</td>\n",
       "      <td>Communication Services</td>\n",
       "    </tr>\n",
       "    <tr>\n",
       "      <th>WMT</th>\n",
       "      <td>Walmart</td>\n",
       "      <td>Consumer Staples</td>\n",
       "    </tr>\n",
       "  </tbody>\n",
       "</table>\n",
       "<p>83 rows × 2 columns</p>\n",
       "</div>"
      ],
      "text/plain": [
       "\n",
       "                        Name                  Sector\n",
       "AAPL                   Apple  Information Technology\n",
       "ABBV                  AbbVie             Health Care\n",
       "ABT      Abbott Laboratories             Health Care\n",
       "ACN                Accenture  Information Technology\n",
       "ADBE                   Adobe  Information Technology\n",
       "\u001b[33m...\u001b[0m                      \u001b[33m...\u001b[0m                     \u001b[33m...\u001b[0m\n",
       "UPS    United Parcel Service             Industrials\n",
       "V                       Visa  Information Technology\n",
       "VRTX  Vertex Pharmaceuticals             Health Care\n",
       "VZ    Verizon Communications  Communication Services\n",
       "WMT                  Walmart        Consumer Staples\n",
       "\n",
       "\u001b[1m[\u001b[0m\u001b[1;36m83\u001b[0m rows x \u001b[1;36m2\u001b[0m columns\u001b[1m]\u001b[0m"
      ]
     },
     "execution_count": 31,
     "metadata": {},
     "output_type": "execute_result"
    }
   ],
   "source": [
    "ticker_data = pd.read_csv(\"./data/constituents.csv\")\n",
    "\n",
    "ticker_data[\"Symbol\"] = ticker_data[\"Symbol\"].str.replace(\".\", \"-\")\n",
    "\n",
    "ticker_data = (\n",
    "    ticker_data.set_index(\"Symbol\").rename_axis(\"Ticker\").join(results_df, how=\"inner\")\n",
    ")[[\"Name\", \"Sector\"]].sort_index()\n",
    "\n",
    "ticker_data\n"
   ]
  },
  {
   "cell_type": "markdown",
   "metadata": {},
   "source": [
    "### Merging Datasets\n"
   ]
  },
  {
   "cell_type": "code",
   "execution_count": 32,
   "metadata": {},
   "outputs": [
    {
     "data": {
      "text/html": [
       "<pre style=\"white-space:pre;overflow-x:auto;line-height:normal;font-family:Menlo,'DejaVu Sans Mono',consolas,'Courier New',monospace\"></pre>\n"
      ],
      "text/plain": []
     },
     "metadata": {},
     "output_type": "display_data"
    },
    {
     "data": {
      "text/html": [
       "<div>\n",
       "<style scoped>\n",
       "    .dataframe tbody tr th:only-of-type {\n",
       "        vertical-align: middle;\n",
       "    }\n",
       "\n",
       "    .dataframe tbody tr th {\n",
       "        vertical-align: top;\n",
       "    }\n",
       "\n",
       "    .dataframe thead th {\n",
       "        text-align: right;\n",
       "    }\n",
       "</style>\n",
       "<table border=\"1\" class=\"dataframe\">\n",
       "  <thead>\n",
       "    <tr style=\"text-align: right;\">\n",
       "      <th></th>\n",
       "      <th>Document</th>\n",
       "      <th>FinBERT_Negative</th>\n",
       "      <th>FinBERT_Neutral</th>\n",
       "      <th>FinBERT_Positive</th>\n",
       "      <th>LM_Positive</th>\n",
       "      <th>LM_Negative</th>\n",
       "      <th>LM_Polarity</th>\n",
       "      <th>LM_Subjectivity</th>\n",
       "      <th>VADER_Negative</th>\n",
       "      <th>VADER_Neutral</th>\n",
       "      <th>...</th>\n",
       "      <th>SBN_VADER_Neutral</th>\n",
       "      <th>SBN_VADER_Positive</th>\n",
       "      <th>SBN_VADER_Compound</th>\n",
       "      <th>COVID_Related_Frequency</th>\n",
       "      <th>COVID_Contextual_Positive_Frequency</th>\n",
       "      <th>COVID_Contextual_Negative_Frequency</th>\n",
       "      <th>Sentence</th>\n",
       "      <th>Price_Change_%</th>\n",
       "      <th>Name</th>\n",
       "      <th>Sector</th>\n",
       "    </tr>\n",
       "  </thead>\n",
       "  <tbody>\n",
       "    <tr>\n",
       "      <th>0</th>\n",
       "      <td>AAPL</td>\n",
       "      <td>0.200770</td>\n",
       "      <td>0.609698</td>\n",
       "      <td>0.189531</td>\n",
       "      <td>0.165414</td>\n",
       "      <td>0.481203</td>\n",
       "      <td>-0.169925</td>\n",
       "      <td>0.035307</td>\n",
       "      <td>0.073143</td>\n",
       "      <td>0.794820</td>\n",
       "      <td>...</td>\n",
       "      <td>0.597602</td>\n",
       "      <td>0.328030</td>\n",
       "      <td>0.305426</td>\n",
       "      <td>0.045113</td>\n",
       "      <td>0.037594</td>\n",
       "      <td>0.037594</td>\n",
       "      <td>133</td>\n",
       "      <td>0.068528</td>\n",
       "      <td>Apple</td>\n",
       "      <td>Information Technology</td>\n",
       "    </tr>\n",
       "    <tr>\n",
       "      <th>1</th>\n",
       "      <td>ABBV</td>\n",
       "      <td>0.125290</td>\n",
       "      <td>0.608638</td>\n",
       "      <td>0.266072</td>\n",
       "      <td>0.388489</td>\n",
       "      <td>0.269784</td>\n",
       "      <td>0.068945</td>\n",
       "      <td>0.035459</td>\n",
       "      <td>0.038511</td>\n",
       "      <td>0.767079</td>\n",
       "      <td>...</td>\n",
       "      <td>0.589874</td>\n",
       "      <td>0.357345</td>\n",
       "      <td>0.357100</td>\n",
       "      <td>0.089928</td>\n",
       "      <td>0.082734</td>\n",
       "      <td>0.035971</td>\n",
       "      <td>278</td>\n",
       "      <td>0.235676</td>\n",
       "      <td>AbbVie</td>\n",
       "      <td>Health Care</td>\n",
       "    </tr>\n",
       "    <tr>\n",
       "      <th>2</th>\n",
       "      <td>ABT</td>\n",
       "      <td>0.147613</td>\n",
       "      <td>0.577167</td>\n",
       "      <td>0.275220</td>\n",
       "      <td>0.222222</td>\n",
       "      <td>0.296296</td>\n",
       "      <td>-0.047901</td>\n",
       "      <td>0.030115</td>\n",
       "      <td>0.049383</td>\n",
       "      <td>0.790358</td>\n",
       "      <td>...</td>\n",
       "      <td>0.589775</td>\n",
       "      <td>0.334491</td>\n",
       "      <td>0.269774</td>\n",
       "      <td>0.130864</td>\n",
       "      <td>0.101235</td>\n",
       "      <td>0.069136</td>\n",
       "      <td>405</td>\n",
       "      <td>0.074896</td>\n",
       "      <td>Abbott Laboratories</td>\n",
       "      <td>Health Care</td>\n",
       "    </tr>\n",
       "    <tr>\n",
       "      <th>3</th>\n",
       "      <td>ACN</td>\n",
       "      <td>0.214290</td>\n",
       "      <td>0.526049</td>\n",
       "      <td>0.259661</td>\n",
       "      <td>0.311688</td>\n",
       "      <td>0.268398</td>\n",
       "      <td>0.065656</td>\n",
       "      <td>0.038630</td>\n",
       "      <td>0.038515</td>\n",
       "      <td>0.807810</td>\n",
       "      <td>...</td>\n",
       "      <td>0.588017</td>\n",
       "      <td>0.351840</td>\n",
       "      <td>0.317782</td>\n",
       "      <td>0.060606</td>\n",
       "      <td>0.030303</td>\n",
       "      <td>0.021645</td>\n",
       "      <td>231</td>\n",
       "      <td>0.246055</td>\n",
       "      <td>Accenture</td>\n",
       "      <td>Information Technology</td>\n",
       "    </tr>\n",
       "    <tr>\n",
       "      <th>4</th>\n",
       "      <td>ADBE</td>\n",
       "      <td>0.112824</td>\n",
       "      <td>0.644548</td>\n",
       "      <td>0.242627</td>\n",
       "      <td>0.422819</td>\n",
       "      <td>0.224832</td>\n",
       "      <td>0.121365</td>\n",
       "      <td>0.032955</td>\n",
       "      <td>0.029131</td>\n",
       "      <td>0.781819</td>\n",
       "      <td>...</td>\n",
       "      <td>0.573094</td>\n",
       "      <td>0.380812</td>\n",
       "      <td>0.380286</td>\n",
       "      <td>0.033557</td>\n",
       "      <td>0.020134</td>\n",
       "      <td>0.023490</td>\n",
       "      <td>298</td>\n",
       "      <td>0.140731</td>\n",
       "      <td>Adobe</td>\n",
       "      <td>Information Technology</td>\n",
       "    </tr>\n",
       "    <tr>\n",
       "      <th>...</th>\n",
       "      <td>...</td>\n",
       "      <td>...</td>\n",
       "      <td>...</td>\n",
       "      <td>...</td>\n",
       "      <td>...</td>\n",
       "      <td>...</td>\n",
       "      <td>...</td>\n",
       "      <td>...</td>\n",
       "      <td>...</td>\n",
       "      <td>...</td>\n",
       "      <td>...</td>\n",
       "      <td>...</td>\n",
       "      <td>...</td>\n",
       "      <td>...</td>\n",
       "      <td>...</td>\n",
       "      <td>...</td>\n",
       "      <td>...</td>\n",
       "      <td>...</td>\n",
       "      <td>...</td>\n",
       "      <td>...</td>\n",
       "      <td>...</td>\n",
       "    </tr>\n",
       "    <tr>\n",
       "      <th>83</th>\n",
       "      <td>UPS</td>\n",
       "      <td>0.196942</td>\n",
       "      <td>0.507644</td>\n",
       "      <td>0.295414</td>\n",
       "      <td>0.349558</td>\n",
       "      <td>0.345133</td>\n",
       "      <td>-0.028857</td>\n",
       "      <td>0.036980</td>\n",
       "      <td>0.037546</td>\n",
       "      <td>0.753836</td>\n",
       "      <td>...</td>\n",
       "      <td>0.547907</td>\n",
       "      <td>0.378458</td>\n",
       "      <td>0.349425</td>\n",
       "      <td>0.055310</td>\n",
       "      <td>0.037611</td>\n",
       "      <td>0.019912</td>\n",
       "      <td>452</td>\n",
       "      <td>0.301305</td>\n",
       "      <td>United Parcel Service</td>\n",
       "      <td>Industrials</td>\n",
       "    </tr>\n",
       "    <tr>\n",
       "      <th>84</th>\n",
       "      <td>V</td>\n",
       "      <td>0.179173</td>\n",
       "      <td>0.697402</td>\n",
       "      <td>0.123426</td>\n",
       "      <td>0.237952</td>\n",
       "      <td>0.412651</td>\n",
       "      <td>-0.092169</td>\n",
       "      <td>0.044104</td>\n",
       "      <td>0.067554</td>\n",
       "      <td>0.783389</td>\n",
       "      <td>...</td>\n",
       "      <td>0.614880</td>\n",
       "      <td>0.307672</td>\n",
       "      <td>0.233386</td>\n",
       "      <td>0.027108</td>\n",
       "      <td>0.012048</td>\n",
       "      <td>0.006024</td>\n",
       "      <td>332</td>\n",
       "      <td>0.109635</td>\n",
       "      <td>Visa</td>\n",
       "      <td>Information Technology</td>\n",
       "    </tr>\n",
       "    <tr>\n",
       "      <th>85</th>\n",
       "      <td>VRTX</td>\n",
       "      <td>0.138450</td>\n",
       "      <td>0.577324</td>\n",
       "      <td>0.284225</td>\n",
       "      <td>0.401338</td>\n",
       "      <td>0.311037</td>\n",
       "      <td>0.092642</td>\n",
       "      <td>0.039203</td>\n",
       "      <td>0.037408</td>\n",
       "      <td>0.774615</td>\n",
       "      <td>...</td>\n",
       "      <td>0.537950</td>\n",
       "      <td>0.408555</td>\n",
       "      <td>0.403438</td>\n",
       "      <td>0.096990</td>\n",
       "      <td>0.070234</td>\n",
       "      <td>0.046823</td>\n",
       "      <td>299</td>\n",
       "      <td>-0.277622</td>\n",
       "      <td>Vertex Pharmaceuticals</td>\n",
       "      <td>Health Care</td>\n",
       "    </tr>\n",
       "    <tr>\n",
       "      <th>86</th>\n",
       "      <td>VZ</td>\n",
       "      <td>0.170879</td>\n",
       "      <td>0.583512</td>\n",
       "      <td>0.245608</td>\n",
       "      <td>0.282577</td>\n",
       "      <td>0.341142</td>\n",
       "      <td>-0.024493</td>\n",
       "      <td>0.036912</td>\n",
       "      <td>0.046382</td>\n",
       "      <td>0.785451</td>\n",
       "      <td>...</td>\n",
       "      <td>0.545549</td>\n",
       "      <td>0.384534</td>\n",
       "      <td>0.328190</td>\n",
       "      <td>0.087848</td>\n",
       "      <td>0.067350</td>\n",
       "      <td>0.048316</td>\n",
       "      <td>683</td>\n",
       "      <td>-0.013023</td>\n",
       "      <td>Verizon Communications</td>\n",
       "      <td>Communication Services</td>\n",
       "    </tr>\n",
       "    <tr>\n",
       "      <th>87</th>\n",
       "      <td>WMT</td>\n",
       "      <td>0.236985</td>\n",
       "      <td>0.548997</td>\n",
       "      <td>0.214017</td>\n",
       "      <td>0.279279</td>\n",
       "      <td>0.336336</td>\n",
       "      <td>-0.013113</td>\n",
       "      <td>0.035590</td>\n",
       "      <td>0.044024</td>\n",
       "      <td>0.770862</td>\n",
       "      <td>...</td>\n",
       "      <td>0.564381</td>\n",
       "      <td>0.363544</td>\n",
       "      <td>0.335633</td>\n",
       "      <td>0.006006</td>\n",
       "      <td>0.003003</td>\n",
       "      <td>0.003003</td>\n",
       "      <td>333</td>\n",
       "      <td>0.031841</td>\n",
       "      <td>Walmart</td>\n",
       "      <td>Consumer Staples</td>\n",
       "    </tr>\n",
       "  </tbody>\n",
       "</table>\n",
       "<p>88 rows × 23 columns</p>\n",
       "</div>"
      ],
      "text/plain": [
       "\n",
       "   Document  FinBERT_Negative  FinBERT_Neutral  FinBERT_Positive  LM_Positive  \\\n",
       "\u001b[1;36m0\u001b[0m      AAPL          \u001b[1;36m0.200770\u001b[0m         \u001b[1;36m0.609698\u001b[0m          \u001b[1;36m0.189531\u001b[0m     \u001b[1;36m0.165414\u001b[0m   \n",
       "\u001b[1;36m1\u001b[0m      ABBV          \u001b[1;36m0.125290\u001b[0m         \u001b[1;36m0.608638\u001b[0m          \u001b[1;36m0.266072\u001b[0m     \u001b[1;36m0.388489\u001b[0m   \n",
       "\u001b[1;36m2\u001b[0m       ABT          \u001b[1;36m0.147613\u001b[0m         \u001b[1;36m0.577167\u001b[0m          \u001b[1;36m0.275220\u001b[0m     \u001b[1;36m0.222222\u001b[0m   \n",
       "\u001b[1;36m3\u001b[0m       ACN          \u001b[1;36m0.214290\u001b[0m         \u001b[1;36m0.526049\u001b[0m          \u001b[1;36m0.259661\u001b[0m     \u001b[1;36m0.311688\u001b[0m   \n",
       "\u001b[1;36m4\u001b[0m      ADBE          \u001b[1;36m0.112824\u001b[0m         \u001b[1;36m0.644548\u001b[0m          \u001b[1;36m0.242627\u001b[0m     \u001b[1;36m0.422819\u001b[0m   \n",
       "..      \u001b[33m...\u001b[0m               \u001b[33m...\u001b[0m              \u001b[33m...\u001b[0m               \u001b[33m...\u001b[0m          \u001b[33m...\u001b[0m   \n",
       "\u001b[1;36m83\u001b[0m      UPS          \u001b[1;36m0.196942\u001b[0m         \u001b[1;36m0.507644\u001b[0m          \u001b[1;36m0.295414\u001b[0m     \u001b[1;36m0.349558\u001b[0m   \n",
       "\u001b[1;36m84\u001b[0m        V          \u001b[1;36m0.179173\u001b[0m         \u001b[1;36m0.697402\u001b[0m          \u001b[1;36m0.123426\u001b[0m     \u001b[1;36m0.237952\u001b[0m   \n",
       "\u001b[1;36m85\u001b[0m     VRTX          \u001b[1;36m0.138450\u001b[0m         \u001b[1;36m0.577324\u001b[0m          \u001b[1;36m0.284225\u001b[0m     \u001b[1;36m0.401338\u001b[0m   \n",
       "\u001b[1;36m86\u001b[0m       VZ          \u001b[1;36m0.170879\u001b[0m         \u001b[1;36m0.583512\u001b[0m          \u001b[1;36m0.245608\u001b[0m     \u001b[1;36m0.282577\u001b[0m   \n",
       "\u001b[1;36m87\u001b[0m      WMT          \u001b[1;36m0.236985\u001b[0m         \u001b[1;36m0.548997\u001b[0m          \u001b[1;36m0.214017\u001b[0m     \u001b[1;36m0.279279\u001b[0m   \n",
       "\n",
       "    LM_Negative  LM_Polarity  LM_Subjectivity  VADER_Negative  VADER_Neutral  \\\n",
       "\u001b[1;36m0\u001b[0m      \u001b[1;36m0.481203\u001b[0m    \u001b[1;36m-0.169925\u001b[0m         \u001b[1;36m0.035307\u001b[0m        \u001b[1;36m0.073143\u001b[0m       \u001b[1;36m0.794820\u001b[0m   \n",
       "\u001b[1;36m1\u001b[0m      \u001b[1;36m0.269784\u001b[0m     \u001b[1;36m0.068945\u001b[0m         \u001b[1;36m0.035459\u001b[0m        \u001b[1;36m0.038511\u001b[0m       \u001b[1;36m0.767079\u001b[0m   \n",
       "\u001b[1;36m2\u001b[0m      \u001b[1;36m0.296296\u001b[0m    \u001b[1;36m-0.047901\u001b[0m         \u001b[1;36m0.030115\u001b[0m        \u001b[1;36m0.049383\u001b[0m       \u001b[1;36m0.790358\u001b[0m   \n",
       "\u001b[1;36m3\u001b[0m      \u001b[1;36m0.268398\u001b[0m     \u001b[1;36m0.065656\u001b[0m         \u001b[1;36m0.038630\u001b[0m        \u001b[1;36m0.038515\u001b[0m       \u001b[1;36m0.807810\u001b[0m   \n",
       "\u001b[1;36m4\u001b[0m      \u001b[1;36m0.224832\u001b[0m     \u001b[1;36m0.121365\u001b[0m         \u001b[1;36m0.032955\u001b[0m        \u001b[1;36m0.029131\u001b[0m       \u001b[1;36m0.781819\u001b[0m   \n",
       "..          \u001b[33m...\u001b[0m          \u001b[33m...\u001b[0m              \u001b[33m...\u001b[0m             \u001b[33m...\u001b[0m            \u001b[33m...\u001b[0m   \n",
       "\u001b[1;36m83\u001b[0m     \u001b[1;36m0.345133\u001b[0m    \u001b[1;36m-0.028857\u001b[0m         \u001b[1;36m0.036980\u001b[0m        \u001b[1;36m0.037546\u001b[0m       \u001b[1;36m0.753836\u001b[0m   \n",
       "\u001b[1;36m84\u001b[0m     \u001b[1;36m0.412651\u001b[0m    \u001b[1;36m-0.092169\u001b[0m         \u001b[1;36m0.044104\u001b[0m        \u001b[1;36m0.067554\u001b[0m       \u001b[1;36m0.783389\u001b[0m   \n",
       "\u001b[1;36m85\u001b[0m     \u001b[1;36m0.311037\u001b[0m     \u001b[1;36m0.092642\u001b[0m         \u001b[1;36m0.039203\u001b[0m        \u001b[1;36m0.037408\u001b[0m       \u001b[1;36m0.774615\u001b[0m   \n",
       "\u001b[1;36m86\u001b[0m     \u001b[1;36m0.341142\u001b[0m    \u001b[1;36m-0.024493\u001b[0m         \u001b[1;36m0.036912\u001b[0m        \u001b[1;36m0.046382\u001b[0m       \u001b[1;36m0.785451\u001b[0m   \n",
       "\u001b[1;36m87\u001b[0m     \u001b[1;36m0.336336\u001b[0m    \u001b[1;36m-0.013113\u001b[0m         \u001b[1;36m0.035590\u001b[0m        \u001b[1;36m0.044024\u001b[0m       \u001b[1;36m0.770862\u001b[0m   \n",
       "\n",
       "    \u001b[33m...\u001b[0m  SBN_VADER_Neutral  SBN_VADER_Positive  SBN_VADER_Compound  \\\n",
       "\u001b[1;36m0\u001b[0m   \u001b[33m...\u001b[0m           \u001b[1;36m0.597602\u001b[0m            \u001b[1;36m0.328030\u001b[0m            \u001b[1;36m0.305426\u001b[0m   \n",
       "\u001b[1;36m1\u001b[0m   \u001b[33m...\u001b[0m           \u001b[1;36m0.589874\u001b[0m            \u001b[1;36m0.357345\u001b[0m            \u001b[1;36m0.357100\u001b[0m   \n",
       "\u001b[1;36m2\u001b[0m   \u001b[33m...\u001b[0m           \u001b[1;36m0.589775\u001b[0m            \u001b[1;36m0.334491\u001b[0m            \u001b[1;36m0.269774\u001b[0m   \n",
       "\u001b[1;36m3\u001b[0m   \u001b[33m...\u001b[0m           \u001b[1;36m0.588017\u001b[0m            \u001b[1;36m0.351840\u001b[0m            \u001b[1;36m0.317782\u001b[0m   \n",
       "\u001b[1;36m4\u001b[0m   \u001b[33m...\u001b[0m           \u001b[1;36m0.573094\u001b[0m            \u001b[1;36m0.380812\u001b[0m            \u001b[1;36m0.380286\u001b[0m   \n",
       "..  \u001b[33m...\u001b[0m                \u001b[33m...\u001b[0m                 \u001b[33m...\u001b[0m                 \u001b[33m...\u001b[0m   \n",
       "\u001b[1;36m83\u001b[0m  \u001b[33m...\u001b[0m           \u001b[1;36m0.547907\u001b[0m            \u001b[1;36m0.378458\u001b[0m            \u001b[1;36m0.349425\u001b[0m   \n",
       "\u001b[1;36m84\u001b[0m  \u001b[33m...\u001b[0m           \u001b[1;36m0.614880\u001b[0m            \u001b[1;36m0.307672\u001b[0m            \u001b[1;36m0.233386\u001b[0m   \n",
       "\u001b[1;36m85\u001b[0m  \u001b[33m...\u001b[0m           \u001b[1;36m0.537950\u001b[0m            \u001b[1;36m0.408555\u001b[0m            \u001b[1;36m0.403438\u001b[0m   \n",
       "\u001b[1;36m86\u001b[0m  \u001b[33m...\u001b[0m           \u001b[1;36m0.545549\u001b[0m            \u001b[1;36m0.384534\u001b[0m            \u001b[1;36m0.328190\u001b[0m   \n",
       "\u001b[1;36m87\u001b[0m  \u001b[33m...\u001b[0m           \u001b[1;36m0.564381\u001b[0m            \u001b[1;36m0.363544\u001b[0m            \u001b[1;36m0.335633\u001b[0m   \n",
       "\n",
       "    COVID_Related_Frequency  COVID_Contextual_Positive_Frequency  \\\n",
       "\u001b[1;36m0\u001b[0m                  \u001b[1;36m0.045113\u001b[0m                             \u001b[1;36m0.037594\u001b[0m   \n",
       "\u001b[1;36m1\u001b[0m                  \u001b[1;36m0.089928\u001b[0m                             \u001b[1;36m0.082734\u001b[0m   \n",
       "\u001b[1;36m2\u001b[0m                  \u001b[1;36m0.130864\u001b[0m                             \u001b[1;36m0.101235\u001b[0m   \n",
       "\u001b[1;36m3\u001b[0m                  \u001b[1;36m0.060606\u001b[0m                             \u001b[1;36m0.030303\u001b[0m   \n",
       "\u001b[1;36m4\u001b[0m                  \u001b[1;36m0.033557\u001b[0m                             \u001b[1;36m0.020134\u001b[0m   \n",
       "..                      \u001b[33m...\u001b[0m                                  \u001b[33m...\u001b[0m   \n",
       "\u001b[1;36m83\u001b[0m                 \u001b[1;36m0.055310\u001b[0m                             \u001b[1;36m0.037611\u001b[0m   \n",
       "\u001b[1;36m84\u001b[0m                 \u001b[1;36m0.027108\u001b[0m                             \u001b[1;36m0.012048\u001b[0m   \n",
       "\u001b[1;36m85\u001b[0m                 \u001b[1;36m0.096990\u001b[0m                             \u001b[1;36m0.070234\u001b[0m   \n",
       "\u001b[1;36m86\u001b[0m                 \u001b[1;36m0.087848\u001b[0m                             \u001b[1;36m0.067350\u001b[0m   \n",
       "\u001b[1;36m87\u001b[0m                 \u001b[1;36m0.006006\u001b[0m                             \u001b[1;36m0.003003\u001b[0m   \n",
       "\n",
       "    COVID_Contextual_Negative_Frequency  Sentence  Price_Change_%  \\\n",
       "\u001b[1;36m0\u001b[0m                              \u001b[1;36m0.037594\u001b[0m       \u001b[1;36m133\u001b[0m        \u001b[1;36m0.068528\u001b[0m   \n",
       "\u001b[1;36m1\u001b[0m                              \u001b[1;36m0.035971\u001b[0m       \u001b[1;36m278\u001b[0m        \u001b[1;36m0.235676\u001b[0m   \n",
       "\u001b[1;36m2\u001b[0m                              \u001b[1;36m0.069136\u001b[0m       \u001b[1;36m405\u001b[0m        \u001b[1;36m0.074896\u001b[0m   \n",
       "\u001b[1;36m3\u001b[0m                              \u001b[1;36m0.021645\u001b[0m       \u001b[1;36m231\u001b[0m        \u001b[1;36m0.246055\u001b[0m   \n",
       "\u001b[1;36m4\u001b[0m                              \u001b[1;36m0.023490\u001b[0m       \u001b[1;36m298\u001b[0m        \u001b[1;36m0.140731\u001b[0m   \n",
       "..                                  \u001b[33m...\u001b[0m       \u001b[33m...\u001b[0m             \u001b[33m...\u001b[0m   \n",
       "\u001b[1;36m83\u001b[0m                             \u001b[1;36m0.019912\u001b[0m       \u001b[1;36m452\u001b[0m        \u001b[1;36m0.301305\u001b[0m   \n",
       "\u001b[1;36m84\u001b[0m                             \u001b[1;36m0.006024\u001b[0m       \u001b[1;36m332\u001b[0m        \u001b[1;36m0.109635\u001b[0m   \n",
       "\u001b[1;36m85\u001b[0m                             \u001b[1;36m0.046823\u001b[0m       \u001b[1;36m299\u001b[0m       \u001b[1;36m-0.277622\u001b[0m   \n",
       "\u001b[1;36m86\u001b[0m                             \u001b[1;36m0.048316\u001b[0m       \u001b[1;36m683\u001b[0m       \u001b[1;36m-0.013023\u001b[0m   \n",
       "\u001b[1;36m87\u001b[0m                             \u001b[1;36m0.003003\u001b[0m       \u001b[1;36m333\u001b[0m        \u001b[1;36m0.031841\u001b[0m   \n",
       "\n",
       "                      Name                  Sector  \n",
       "\u001b[1;36m0\u001b[0m                    Apple  Information Technology  \n",
       "\u001b[1;36m1\u001b[0m                   AbbVie             Health Care  \n",
       "\u001b[1;36m2\u001b[0m      Abbott Laboratories             Health Care  \n",
       "\u001b[1;36m3\u001b[0m                Accenture  Information Technology  \n",
       "\u001b[1;36m4\u001b[0m                    Adobe  Information Technology  \n",
       "..                     \u001b[33m...\u001b[0m                     \u001b[33m...\u001b[0m  \n",
       "\u001b[1;36m83\u001b[0m   United Parcel Service             Industrials  \n",
       "\u001b[1;36m84\u001b[0m                    Visa  Information Technology  \n",
       "\u001b[1;36m85\u001b[0m  Vertex Pharmaceuticals             Health Care  \n",
       "\u001b[1;36m86\u001b[0m  Verizon Communications  Communication Services  \n",
       "\u001b[1;36m87\u001b[0m                 Walmart        Consumer Staples  \n",
       "\n",
       "\u001b[1m[\u001b[0m\u001b[1;36m88\u001b[0m rows x \u001b[1;36m23\u001b[0m columns\u001b[1m]\u001b[0m"
      ]
     },
     "execution_count": 32,
     "metadata": {},
     "output_type": "execute_result"
    }
   ],
   "source": [
    "# Calculate the yearly price change for each ticker\n",
    "stock_df[\"Year\"] = stock_df[\"Date\"].dt.year\n",
    "\n",
    "price_change_df = stock_df.pivot(\n",
    "    index=\"Ticker\", columns=\"Year\", values=\"Close\"\n",
    ").pct_change(axis=1)\n",
    "\n",
    "# Reset index and prepare for merging with the result\n",
    "price_change_df = price_change_df.reset_index()\n",
    "price_change_df = price_change_df.drop(columns=2020)\n",
    "price_change_df.columns = [\"Ticker\", \"Price_Change_%\"]\n",
    "price_change_df = price_change_df.set_index(\"Ticker\").rename_axis(\"Document\")\n",
    "\n",
    "merged_df = results_df.join(price_change_df).join(ticker_data).reset_index()\n",
    "\n",
    "merged_df"
   ]
  },
  {
   "cell_type": "markdown",
   "metadata": {},
   "source": [
    "### SentiBigNomics vs. Stock Price Change\n"
   ]
  },
  {
   "cell_type": "code",
   "execution_count": 33,
   "metadata": {},
   "outputs": [
    {
     "data": {
      "text/html": [
       "<pre style=\"white-space:pre;overflow-x:auto;line-height:normal;font-family:Menlo,'DejaVu Sans Mono',consolas,'Courier New',monospace\"></pre>\n"
      ],
      "text/plain": []
     },
     "metadata": {},
     "output_type": "display_data"
    },
    {
     "data": {
      "image/png": "[encoded data removed]",
      "text/plain": [
       "\u001b[1m<\u001b[0m\u001b[1;95mFigure\u001b[0m\u001b[39m size 72\u001b[0m\u001b[1;36m0x432\u001b[0m\u001b[39m with \u001b[0m\u001b[1;36m1\u001b[0m\u001b[39m Axes\u001b[0m\u001b[1m>\u001b[0m"
      ]
     },
     "metadata": {
      "needs_background": "light"
     },
     "output_type": "display_data"
    }
   ],
   "source": [
    "plt.figure(figsize=(10, 6))\n",
    "\n",
    "# Create a color map based on the Price Change %\n",
    "colors = merged_df[\"Price_Change_%\"].apply(lambda x: \"red\" if x < 0 else \"green\")\n",
    "\n",
    "plt.scatter(\n",
    "    merged_df[\"SBN_VADER_Compound\"],\n",
    "    merged_df[\"Price_Change_%\"],\n",
    "    c=colors,\n",
    "    alpha=0.5,\n",
    "    label=[\"Negative Change\", \"Positive Change\"],\n",
    ")\n",
    "\n",
    "plt.xlabel(\"Compound Sentiment Score\")\n",
    "plt.ylabel(\"Stock Price Change (%)\")\n",
    "plt.title(\"SBN Compound Sentiment Score vs. Stock Price Change\")\n",
    "\n",
    "plt.grid(True)\n",
    "plt.show()"
   ]
  },
  {
   "cell_type": "markdown",
   "metadata": {},
   "source": [
    "### FinBERT vs. Stock Price Change\n"
   ]
  },
  {
   "cell_type": "markdown",
   "metadata": {},
   "source": [
    "Since most sentences have a neutral sentiment, we denote an overall document as \"positive\" if the average positive sentiment score is greater than the average negative sentiment score, and vice versa. We then calculate the stock price change for each ticker and compare it with the sentiment analysis results."
   ]
  },
  {
   "cell_type": "code",
   "execution_count": 34,
   "metadata": {},
   "outputs": [
    {
     "data": {
      "text/html": [
       "<pre style=\"white-space:pre;overflow-x:auto;line-height:normal;font-family:Menlo,'DejaVu Sans Mono',consolas,'Courier New',monospace\"></pre>\n"
      ],
      "text/plain": []
     },
     "metadata": {},
     "output_type": "display_data"
    },
    {
     "data": {
      "text/html": [
       "<div>\n",
       "<style scoped>\n",
       "    .dataframe tbody tr th:only-of-type {\n",
       "        vertical-align: middle;\n",
       "    }\n",
       "\n",
       "    .dataframe tbody tr th {\n",
       "        vertical-align: top;\n",
       "    }\n",
       "\n",
       "    .dataframe thead th {\n",
       "        text-align: right;\n",
       "    }\n",
       "</style>\n",
       "<table border=\"1\" class=\"dataframe\">\n",
       "  <thead>\n",
       "    <tr style=\"text-align: right;\">\n",
       "      <th></th>\n",
       "      <th>Document</th>\n",
       "      <th>FinBERT_Negative</th>\n",
       "      <th>FinBERT_Neutral</th>\n",
       "      <th>FinBERT_Positive</th>\n",
       "      <th>LM_Positive</th>\n",
       "      <th>LM_Negative</th>\n",
       "      <th>LM_Polarity</th>\n",
       "      <th>LM_Subjectivity</th>\n",
       "      <th>VADER_Negative</th>\n",
       "      <th>VADER_Neutral</th>\n",
       "      <th>...</th>\n",
       "      <th>SBN_VADER_Positive</th>\n",
       "      <th>SBN_VADER_Compound</th>\n",
       "      <th>COVID_Related_Frequency</th>\n",
       "      <th>COVID_Contextual_Positive_Frequency</th>\n",
       "      <th>COVID_Contextual_Negative_Frequency</th>\n",
       "      <th>Sentence</th>\n",
       "      <th>Price_Change_%</th>\n",
       "      <th>Name</th>\n",
       "      <th>Sector</th>\n",
       "      <th>FinBERT_Class</th>\n",
       "    </tr>\n",
       "  </thead>\n",
       "  <tbody>\n",
       "    <tr>\n",
       "      <th>0</th>\n",
       "      <td>AAPL</td>\n",
       "      <td>0.200770</td>\n",
       "      <td>0.609698</td>\n",
       "      <td>0.189531</td>\n",
       "      <td>0.165414</td>\n",
       "      <td>0.481203</td>\n",
       "      <td>-0.169925</td>\n",
       "      <td>0.035307</td>\n",
       "      <td>0.073143</td>\n",
       "      <td>0.794820</td>\n",
       "      <td>...</td>\n",
       "      <td>0.328030</td>\n",
       "      <td>0.305426</td>\n",
       "      <td>0.045113</td>\n",
       "      <td>0.037594</td>\n",
       "      <td>0.037594</td>\n",
       "      <td>133</td>\n",
       "      <td>0.068528</td>\n",
       "      <td>Apple</td>\n",
       "      <td>Information Technology</td>\n",
       "      <td>Negative</td>\n",
       "    </tr>\n",
       "    <tr>\n",
       "      <th>1</th>\n",
       "      <td>ABBV</td>\n",
       "      <td>0.125290</td>\n",
       "      <td>0.608638</td>\n",
       "      <td>0.266072</td>\n",
       "      <td>0.388489</td>\n",
       "      <td>0.269784</td>\n",
       "      <td>0.068945</td>\n",
       "      <td>0.035459</td>\n",
       "      <td>0.038511</td>\n",
       "      <td>0.767079</td>\n",
       "      <td>...</td>\n",
       "      <td>0.357345</td>\n",
       "      <td>0.357100</td>\n",
       "      <td>0.089928</td>\n",
       "      <td>0.082734</td>\n",
       "      <td>0.035971</td>\n",
       "      <td>278</td>\n",
       "      <td>0.235676</td>\n",
       "      <td>AbbVie</td>\n",
       "      <td>Health Care</td>\n",
       "      <td>Positive</td>\n",
       "    </tr>\n",
       "    <tr>\n",
       "      <th>2</th>\n",
       "      <td>ABT</td>\n",
       "      <td>0.147613</td>\n",
       "      <td>0.577167</td>\n",
       "      <td>0.275220</td>\n",
       "      <td>0.222222</td>\n",
       "      <td>0.296296</td>\n",
       "      <td>-0.047901</td>\n",
       "      <td>0.030115</td>\n",
       "      <td>0.049383</td>\n",
       "      <td>0.790358</td>\n",
       "      <td>...</td>\n",
       "      <td>0.334491</td>\n",
       "      <td>0.269774</td>\n",
       "      <td>0.130864</td>\n",
       "      <td>0.101235</td>\n",
       "      <td>0.069136</td>\n",
       "      <td>405</td>\n",
       "      <td>0.074896</td>\n",
       "      <td>Abbott Laboratories</td>\n",
       "      <td>Health Care</td>\n",
       "      <td>Positive</td>\n",
       "    </tr>\n",
       "    <tr>\n",
       "      <th>3</th>\n",
       "      <td>ACN</td>\n",
       "      <td>0.214290</td>\n",
       "      <td>0.526049</td>\n",
       "      <td>0.259661</td>\n",
       "      <td>0.311688</td>\n",
       "      <td>0.268398</td>\n",
       "      <td>0.065656</td>\n",
       "      <td>0.038630</td>\n",
       "      <td>0.038515</td>\n",
       "      <td>0.807810</td>\n",
       "      <td>...</td>\n",
       "      <td>0.351840</td>\n",
       "      <td>0.317782</td>\n",
       "      <td>0.060606</td>\n",
       "      <td>0.030303</td>\n",
       "      <td>0.021645</td>\n",
       "      <td>231</td>\n",
       "      <td>0.246055</td>\n",
       "      <td>Accenture</td>\n",
       "      <td>Information Technology</td>\n",
       "      <td>Positive</td>\n",
       "    </tr>\n",
       "    <tr>\n",
       "      <th>4</th>\n",
       "      <td>ADBE</td>\n",
       "      <td>0.112824</td>\n",
       "      <td>0.644548</td>\n",
       "      <td>0.242627</td>\n",
       "      <td>0.422819</td>\n",
       "      <td>0.224832</td>\n",
       "      <td>0.121365</td>\n",
       "      <td>0.032955</td>\n",
       "      <td>0.029131</td>\n",
       "      <td>0.781819</td>\n",
       "      <td>...</td>\n",
       "      <td>0.380812</td>\n",
       "      <td>0.380286</td>\n",
       "      <td>0.033557</td>\n",
       "      <td>0.020134</td>\n",
       "      <td>0.023490</td>\n",
       "      <td>298</td>\n",
       "      <td>0.140731</td>\n",
       "      <td>Adobe</td>\n",
       "      <td>Information Technology</td>\n",
       "      <td>Positive</td>\n",
       "    </tr>\n",
       "    <tr>\n",
       "      <th>...</th>\n",
       "      <td>...</td>\n",
       "      <td>...</td>\n",
       "      <td>...</td>\n",
       "      <td>...</td>\n",
       "      <td>...</td>\n",
       "      <td>...</td>\n",
       "      <td>...</td>\n",
       "      <td>...</td>\n",
       "      <td>...</td>\n",
       "      <td>...</td>\n",
       "      <td>...</td>\n",
       "      <td>...</td>\n",
       "      <td>...</td>\n",
       "      <td>...</td>\n",
       "      <td>...</td>\n",
       "      <td>...</td>\n",
       "      <td>...</td>\n",
       "      <td>...</td>\n",
       "      <td>...</td>\n",
       "      <td>...</td>\n",
       "      <td>...</td>\n",
       "    </tr>\n",
       "    <tr>\n",
       "      <th>83</th>\n",
       "      <td>UPS</td>\n",
       "      <td>0.196942</td>\n",
       "      <td>0.507644</td>\n",
       "      <td>0.295414</td>\n",
       "      <td>0.349558</td>\n",
       "      <td>0.345133</td>\n",
       "      <td>-0.028857</td>\n",
       "      <td>0.036980</td>\n",
       "      <td>0.037546</td>\n",
       "      <td>0.753836</td>\n",
       "      <td>...</td>\n",
       "      <td>0.378458</td>\n",
       "      <td>0.349425</td>\n",
       "      <td>0.055310</td>\n",
       "      <td>0.037611</td>\n",
       "      <td>0.019912</td>\n",
       "      <td>452</td>\n",
       "      <td>0.301305</td>\n",
       "      <td>United Parcel Service</td>\n",
       "      <td>Industrials</td>\n",
       "      <td>Positive</td>\n",
       "    </tr>\n",
       "    <tr>\n",
       "      <th>84</th>\n",
       "      <td>V</td>\n",
       "      <td>0.179173</td>\n",
       "      <td>0.697402</td>\n",
       "      <td>0.123426</td>\n",
       "      <td>0.237952</td>\n",
       "      <td>0.412651</td>\n",
       "      <td>-0.092169</td>\n",
       "      <td>0.044104</td>\n",
       "      <td>0.067554</td>\n",
       "      <td>0.783389</td>\n",
       "      <td>...</td>\n",
       "      <td>0.307672</td>\n",
       "      <td>0.233386</td>\n",
       "      <td>0.027108</td>\n",
       "      <td>0.012048</td>\n",
       "      <td>0.006024</td>\n",
       "      <td>332</td>\n",
       "      <td>0.109635</td>\n",
       "      <td>Visa</td>\n",
       "      <td>Information Technology</td>\n",
       "      <td>Negative</td>\n",
       "    </tr>\n",
       "    <tr>\n",
       "      <th>85</th>\n",
       "      <td>VRTX</td>\n",
       "      <td>0.138450</td>\n",
       "      <td>0.577324</td>\n",
       "      <td>0.284225</td>\n",
       "      <td>0.401338</td>\n",
       "      <td>0.311037</td>\n",
       "      <td>0.092642</td>\n",
       "      <td>0.039203</td>\n",
       "      <td>0.037408</td>\n",
       "      <td>0.774615</td>\n",
       "      <td>...</td>\n",
       "      <td>0.408555</td>\n",
       "      <td>0.403438</td>\n",
       "      <td>0.096990</td>\n",
       "      <td>0.070234</td>\n",
       "      <td>0.046823</td>\n",
       "      <td>299</td>\n",
       "      <td>-0.277622</td>\n",
       "      <td>Vertex Pharmaceuticals</td>\n",
       "      <td>Health Care</td>\n",
       "      <td>Positive</td>\n",
       "    </tr>\n",
       "    <tr>\n",
       "      <th>86</th>\n",
       "      <td>VZ</td>\n",
       "      <td>0.170879</td>\n",
       "      <td>0.583512</td>\n",
       "      <td>0.245608</td>\n",
       "      <td>0.282577</td>\n",
       "      <td>0.341142</td>\n",
       "      <td>-0.024493</td>\n",
       "      <td>0.036912</td>\n",
       "      <td>0.046382</td>\n",
       "      <td>0.785451</td>\n",
       "      <td>...</td>\n",
       "      <td>0.384534</td>\n",
       "      <td>0.328190</td>\n",
       "      <td>0.087848</td>\n",
       "      <td>0.067350</td>\n",
       "      <td>0.048316</td>\n",
       "      <td>683</td>\n",
       "      <td>-0.013023</td>\n",
       "      <td>Verizon Communications</td>\n",
       "      <td>Communication Services</td>\n",
       "      <td>Positive</td>\n",
       "    </tr>\n",
       "    <tr>\n",
       "      <th>87</th>\n",
       "      <td>WMT</td>\n",
       "      <td>0.236985</td>\n",
       "      <td>0.548997</td>\n",
       "      <td>0.214017</td>\n",
       "      <td>0.279279</td>\n",
       "      <td>0.336336</td>\n",
       "      <td>-0.013113</td>\n",
       "      <td>0.035590</td>\n",
       "      <td>0.044024</td>\n",
       "      <td>0.770862</td>\n",
       "      <td>...</td>\n",
       "      <td>0.363544</td>\n",
       "      <td>0.335633</td>\n",
       "      <td>0.006006</td>\n",
       "      <td>0.003003</td>\n",
       "      <td>0.003003</td>\n",
       "      <td>333</td>\n",
       "      <td>0.031841</td>\n",
       "      <td>Walmart</td>\n",
       "      <td>Consumer Staples</td>\n",
       "      <td>Negative</td>\n",
       "    </tr>\n",
       "  </tbody>\n",
       "</table>\n",
       "<p>88 rows × 24 columns</p>\n",
       "</div>"
      ],
      "text/plain": [
       "\n",
       "   Document  FinBERT_Negative  FinBERT_Neutral  FinBERT_Positive  LM_Positive  \\\n",
       "\u001b[1;36m0\u001b[0m      AAPL          \u001b[1;36m0.200770\u001b[0m         \u001b[1;36m0.609698\u001b[0m          \u001b[1;36m0.189531\u001b[0m     \u001b[1;36m0.165414\u001b[0m   \n",
       "\u001b[1;36m1\u001b[0m      ABBV          \u001b[1;36m0.125290\u001b[0m         \u001b[1;36m0.608638\u001b[0m          \u001b[1;36m0.266072\u001b[0m     \u001b[1;36m0.388489\u001b[0m   \n",
       "\u001b[1;36m2\u001b[0m       ABT          \u001b[1;36m0.147613\u001b[0m         \u001b[1;36m0.577167\u001b[0m          \u001b[1;36m0.275220\u001b[0m     \u001b[1;36m0.222222\u001b[0m   \n",
       "\u001b[1;36m3\u001b[0m       ACN          \u001b[1;36m0.214290\u001b[0m         \u001b[1;36m0.526049\u001b[0m          \u001b[1;36m0.259661\u001b[0m     \u001b[1;36m0.311688\u001b[0m   \n",
       "\u001b[1;36m4\u001b[0m      ADBE          \u001b[1;36m0.112824\u001b[0m         \u001b[1;36m0.644548\u001b[0m          \u001b[1;36m0.242627\u001b[0m     \u001b[1;36m0.422819\u001b[0m   \n",
       "..      \u001b[33m...\u001b[0m               \u001b[33m...\u001b[0m              \u001b[33m...\u001b[0m               \u001b[33m...\u001b[0m          \u001b[33m...\u001b[0m   \n",
       "\u001b[1;36m83\u001b[0m      UPS          \u001b[1;36m0.196942\u001b[0m         \u001b[1;36m0.507644\u001b[0m          \u001b[1;36m0.295414\u001b[0m     \u001b[1;36m0.349558\u001b[0m   \n",
       "\u001b[1;36m84\u001b[0m        V          \u001b[1;36m0.179173\u001b[0m         \u001b[1;36m0.697402\u001b[0m          \u001b[1;36m0.123426\u001b[0m     \u001b[1;36m0.237952\u001b[0m   \n",
       "\u001b[1;36m85\u001b[0m     VRTX          \u001b[1;36m0.138450\u001b[0m         \u001b[1;36m0.577324\u001b[0m          \u001b[1;36m0.284225\u001b[0m     \u001b[1;36m0.401338\u001b[0m   \n",
       "\u001b[1;36m86\u001b[0m       VZ          \u001b[1;36m0.170879\u001b[0m         \u001b[1;36m0.583512\u001b[0m          \u001b[1;36m0.245608\u001b[0m     \u001b[1;36m0.282577\u001b[0m   \n",
       "\u001b[1;36m87\u001b[0m      WMT          \u001b[1;36m0.236985\u001b[0m         \u001b[1;36m0.548997\u001b[0m          \u001b[1;36m0.214017\u001b[0m     \u001b[1;36m0.279279\u001b[0m   \n",
       "\n",
       "    LM_Negative  LM_Polarity  LM_Subjectivity  VADER_Negative  VADER_Neutral  \\\n",
       "\u001b[1;36m0\u001b[0m      \u001b[1;36m0.481203\u001b[0m    \u001b[1;36m-0.169925\u001b[0m         \u001b[1;36m0.035307\u001b[0m        \u001b[1;36m0.073143\u001b[0m       \u001b[1;36m0.794820\u001b[0m   \n",
       "\u001b[1;36m1\u001b[0m      \u001b[1;36m0.269784\u001b[0m     \u001b[1;36m0.068945\u001b[0m         \u001b[1;36m0.035459\u001b[0m        \u001b[1;36m0.038511\u001b[0m       \u001b[1;36m0.767079\u001b[0m   \n",
       "\u001b[1;36m2\u001b[0m      \u001b[1;36m0.296296\u001b[0m    \u001b[1;36m-0.047901\u001b[0m         \u001b[1;36m0.030115\u001b[0m        \u001b[1;36m0.049383\u001b[0m       \u001b[1;36m0.790358\u001b[0m   \n",
       "\u001b[1;36m3\u001b[0m      \u001b[1;36m0.268398\u001b[0m     \u001b[1;36m0.065656\u001b[0m         \u001b[1;36m0.038630\u001b[0m        \u001b[1;36m0.038515\u001b[0m       \u001b[1;36m0.807810\u001b[0m   \n",
       "\u001b[1;36m4\u001b[0m      \u001b[1;36m0.224832\u001b[0m     \u001b[1;36m0.121365\u001b[0m         \u001b[1;36m0.032955\u001b[0m        \u001b[1;36m0.029131\u001b[0m       \u001b[1;36m0.781819\u001b[0m   \n",
       "..          \u001b[33m...\u001b[0m          \u001b[33m...\u001b[0m              \u001b[33m...\u001b[0m             \u001b[33m...\u001b[0m            \u001b[33m...\u001b[0m   \n",
       "\u001b[1;36m83\u001b[0m     \u001b[1;36m0.345133\u001b[0m    \u001b[1;36m-0.028857\u001b[0m         \u001b[1;36m0.036980\u001b[0m        \u001b[1;36m0.037546\u001b[0m       \u001b[1;36m0.753836\u001b[0m   \n",
       "\u001b[1;36m84\u001b[0m     \u001b[1;36m0.412651\u001b[0m    \u001b[1;36m-0.092169\u001b[0m         \u001b[1;36m0.044104\u001b[0m        \u001b[1;36m0.067554\u001b[0m       \u001b[1;36m0.783389\u001b[0m   \n",
       "\u001b[1;36m85\u001b[0m     \u001b[1;36m0.311037\u001b[0m     \u001b[1;36m0.092642\u001b[0m         \u001b[1;36m0.039203\u001b[0m        \u001b[1;36m0.037408\u001b[0m       \u001b[1;36m0.774615\u001b[0m   \n",
       "\u001b[1;36m86\u001b[0m     \u001b[1;36m0.341142\u001b[0m    \u001b[1;36m-0.024493\u001b[0m         \u001b[1;36m0.036912\u001b[0m        \u001b[1;36m0.046382\u001b[0m       \u001b[1;36m0.785451\u001b[0m   \n",
       "\u001b[1;36m87\u001b[0m     \u001b[1;36m0.336336\u001b[0m    \u001b[1;36m-0.013113\u001b[0m         \u001b[1;36m0.035590\u001b[0m        \u001b[1;36m0.044024\u001b[0m       \u001b[1;36m0.770862\u001b[0m   \n",
       "\n",
       "    \u001b[33m...\u001b[0m  SBN_VADER_Positive  SBN_VADER_Compound  COVID_Related_Frequency  \\\n",
       "\u001b[1;36m0\u001b[0m   \u001b[33m...\u001b[0m            \u001b[1;36m0.328030\u001b[0m            \u001b[1;36m0.305426\u001b[0m                 \u001b[1;36m0.045113\u001b[0m   \n",
       "\u001b[1;36m1\u001b[0m   \u001b[33m...\u001b[0m            \u001b[1;36m0.357345\u001b[0m            \u001b[1;36m0.357100\u001b[0m                 \u001b[1;36m0.089928\u001b[0m   \n",
       "\u001b[1;36m2\u001b[0m   \u001b[33m...\u001b[0m            \u001b[1;36m0.334491\u001b[0m            \u001b[1;36m0.269774\u001b[0m                 \u001b[1;36m0.130864\u001b[0m   \n",
       "\u001b[1;36m3\u001b[0m   \u001b[33m...\u001b[0m            \u001b[1;36m0.351840\u001b[0m            \u001b[1;36m0.317782\u001b[0m                 \u001b[1;36m0.060606\u001b[0m   \n",
       "\u001b[1;36m4\u001b[0m   \u001b[33m...\u001b[0m            \u001b[1;36m0.380812\u001b[0m            \u001b[1;36m0.380286\u001b[0m                 \u001b[1;36m0.033557\u001b[0m   \n",
       "..  \u001b[33m...\u001b[0m                 \u001b[33m...\u001b[0m                 \u001b[33m...\u001b[0m                      \u001b[33m...\u001b[0m   \n",
       "\u001b[1;36m83\u001b[0m  \u001b[33m...\u001b[0m            \u001b[1;36m0.378458\u001b[0m            \u001b[1;36m0.349425\u001b[0m                 \u001b[1;36m0.055310\u001b[0m   \n",
       "\u001b[1;36m84\u001b[0m  \u001b[33m...\u001b[0m            \u001b[1;36m0.307672\u001b[0m            \u001b[1;36m0.233386\u001b[0m                 \u001b[1;36m0.027108\u001b[0m   \n",
       "\u001b[1;36m85\u001b[0m  \u001b[33m...\u001b[0m            \u001b[1;36m0.408555\u001b[0m            \u001b[1;36m0.403438\u001b[0m                 \u001b[1;36m0.096990\u001b[0m   \n",
       "\u001b[1;36m86\u001b[0m  \u001b[33m...\u001b[0m            \u001b[1;36m0.384534\u001b[0m            \u001b[1;36m0.328190\u001b[0m                 \u001b[1;36m0.087848\u001b[0m   \n",
       "\u001b[1;36m87\u001b[0m  \u001b[33m...\u001b[0m            \u001b[1;36m0.363544\u001b[0m            \u001b[1;36m0.335633\u001b[0m                 \u001b[1;36m0.006006\u001b[0m   \n",
       "\n",
       "    COVID_Contextual_Positive_Frequency  COVID_Contextual_Negative_Frequency  \\\n",
       "\u001b[1;36m0\u001b[0m                              \u001b[1;36m0.037594\u001b[0m                             \u001b[1;36m0.037594\u001b[0m   \n",
       "\u001b[1;36m1\u001b[0m                              \u001b[1;36m0.082734\u001b[0m                             \u001b[1;36m0.035971\u001b[0m   \n",
       "\u001b[1;36m2\u001b[0m                              \u001b[1;36m0.101235\u001b[0m                             \u001b[1;36m0.069136\u001b[0m   \n",
       "\u001b[1;36m3\u001b[0m                              \u001b[1;36m0.030303\u001b[0m                             \u001b[1;36m0.021645\u001b[0m   \n",
       "\u001b[1;36m4\u001b[0m                              \u001b[1;36m0.020134\u001b[0m                             \u001b[1;36m0.023490\u001b[0m   \n",
       "..                                  \u001b[33m...\u001b[0m                                  \u001b[33m...\u001b[0m   \n",
       "\u001b[1;36m83\u001b[0m                             \u001b[1;36m0.037611\u001b[0m                             \u001b[1;36m0.019912\u001b[0m   \n",
       "\u001b[1;36m84\u001b[0m                             \u001b[1;36m0.012048\u001b[0m                             \u001b[1;36m0.006024\u001b[0m   \n",
       "\u001b[1;36m85\u001b[0m                             \u001b[1;36m0.070234\u001b[0m                             \u001b[1;36m0.046823\u001b[0m   \n",
       "\u001b[1;36m86\u001b[0m                             \u001b[1;36m0.067350\u001b[0m                             \u001b[1;36m0.048316\u001b[0m   \n",
       "\u001b[1;36m87\u001b[0m                             \u001b[1;36m0.003003\u001b[0m                             \u001b[1;36m0.003003\u001b[0m   \n",
       "\n",
       "    Sentence  Price_Change_%                    Name                  Sector  \\\n",
       "\u001b[1;36m0\u001b[0m        \u001b[1;36m133\u001b[0m        \u001b[1;36m0.068528\u001b[0m                   Apple  Information Technology   \n",
       "\u001b[1;36m1\u001b[0m        \u001b[1;36m278\u001b[0m        \u001b[1;36m0.235676\u001b[0m                  AbbVie             Health Care   \n",
       "\u001b[1;36m2\u001b[0m        \u001b[1;36m405\u001b[0m        \u001b[1;36m0.074896\u001b[0m     Abbott Laboratories             Health Care   \n",
       "\u001b[1;36m3\u001b[0m        \u001b[1;36m231\u001b[0m        \u001b[1;36m0.246055\u001b[0m               Accenture  Information Technology   \n",
       "\u001b[1;36m4\u001b[0m        \u001b[1;36m298\u001b[0m        \u001b[1;36m0.140731\u001b[0m                   Adobe  Information Technology   \n",
       "..       \u001b[33m...\u001b[0m             \u001b[33m...\u001b[0m                     \u001b[33m...\u001b[0m                     \u001b[33m...\u001b[0m   \n",
       "\u001b[1;36m83\u001b[0m       \u001b[1;36m452\u001b[0m        \u001b[1;36m0.301305\u001b[0m   United Parcel Service             Industrials   \n",
       "\u001b[1;36m84\u001b[0m       \u001b[1;36m332\u001b[0m        \u001b[1;36m0.109635\u001b[0m                    Visa  Information Technology   \n",
       "\u001b[1;36m85\u001b[0m       \u001b[1;36m299\u001b[0m       \u001b[1;36m-0.277622\u001b[0m  Vertex Pharmaceuticals             Health Care   \n",
       "\u001b[1;36m86\u001b[0m       \u001b[1;36m683\u001b[0m       \u001b[1;36m-0.013023\u001b[0m  Verizon Communications  Communication Services   \n",
       "\u001b[1;36m87\u001b[0m       \u001b[1;36m333\u001b[0m        \u001b[1;36m0.031841\u001b[0m                 Walmart        Consumer Staples   \n",
       "\n",
       "    FinBERT_Class  \n",
       "\u001b[1;36m0\u001b[0m        Negative  \n",
       "\u001b[1;36m1\u001b[0m        Positive  \n",
       "\u001b[1;36m2\u001b[0m        Positive  \n",
       "\u001b[1;36m3\u001b[0m        Positive  \n",
       "\u001b[1;36m4\u001b[0m        Positive  \n",
       "..            \u001b[33m...\u001b[0m  \n",
       "\u001b[1;36m83\u001b[0m       Positive  \n",
       "\u001b[1;36m84\u001b[0m       Negative  \n",
       "\u001b[1;36m85\u001b[0m       Positive  \n",
       "\u001b[1;36m86\u001b[0m       Positive  \n",
       "\u001b[1;36m87\u001b[0m       Negative  \n",
       "\n",
       "\u001b[1m[\u001b[0m\u001b[1;36m88\u001b[0m rows x \u001b[1;36m24\u001b[0m columns\u001b[1m]\u001b[0m"
      ]
     },
     "execution_count": 34,
     "metadata": {},
     "output_type": "execute_result"
    }
   ],
   "source": [
    "merged_df[\"FinBERT_Class\"] = (\n",
    "    merged_df[[\"FinBERT_Negative\", \"FinBERT_Positive\"]]\n",
    "    .idxmax(axis=1)\n",
    "    .str.split(\"_\")\n",
    "    .str[1]\n",
    ")\n",
    "\n",
    "merged_df\n"
   ]
  },
  {
   "cell_type": "code",
   "execution_count": 38,
   "metadata": {},
   "outputs": [
    {
     "data": {
      "text/html": [
       "<pre style=\"white-space:pre;overflow-x:auto;line-height:normal;font-family:Menlo,'DejaVu Sans Mono',consolas,'Courier New',monospace\"></pre>\n"
      ],
      "text/plain": []
     },
     "metadata": {},
     "output_type": "display_data"
    },
    {
     "data": {
      "image/png": "[encoded data removed]",
      "text/plain": [
       "\u001b[1m<\u001b[0m\u001b[1;95mFigure\u001b[0m\u001b[39m size 72\u001b[0m\u001b[1;36m0x432\u001b[0m\u001b[39m with \u001b[0m\u001b[1;36m1\u001b[0m\u001b[39m Axes\u001b[0m\u001b[1m>\u001b[0m"
      ]
     },
     "metadata": {
      "needs_background": "light"
     },
     "output_type": "display_data"
    }
   ],
   "source": [
    "# TODO: FIX PLOT \n",
    "\n",
    "plt.figure(figsize=(10, 6))\n",
    "\n",
    "sns.scatterplot(\n",
    "    data=merged_df,\n",
    "    x=\"SBN_VADER_Compound\",\n",
    "    y=\"Price_Change_%\",\n",
    "    hue=\"FinBERT_Class\",\n",
    "    palette={\"Positive\": \"green\", \"Negative\": \"red\"},\n",
    ")\n",
    "\n",
    "plt.title(\"FinBERT Sentiment Class vs. Stock Price Change\")\n",
    "plt.show()\n"
   ]
  },
  {
   "cell_type": "code",
   "execution_count": 36,
   "metadata": {},
   "outputs": [
    {
     "data": {
      "text/html": [
       "<pre style=\"white-space:pre;overflow-x:auto;line-height:normal;font-family:Menlo,'DejaVu Sans Mono',consolas,'Courier New',monospace\"></pre>\n"
      ],
      "text/plain": []
     },
     "metadata": {},
     "output_type": "display_data"
    },
    {
     "data": {
      "image/png": "[encoded data removed]",
      "text/plain": [
       "\u001b[1m<\u001b[0m\u001b[1;95mFigure\u001b[0m\u001b[39m size 144\u001b[0m\u001b[1;36m0x720\u001b[0m\u001b[39m with \u001b[0m\u001b[1;36m1\u001b[0m\u001b[39m Axes\u001b[0m\u001b[1m>\u001b[0m"
      ]
     },
     "metadata": {
      "needs_background": "light"
     },
     "output_type": "display_data"
    }
   ],
   "source": [
    "industry_count = (\n",
    "    merged_df.groupby(\"FinBERT_Class\")[\"Sector\"].value_counts().to_frame().reset_index()\n",
    ")\n",
    "\n",
    "plt.figure(figsize=(20, 10))\n",
    "sns.countplot(\n",
    "    data=merged_df,\n",
    "    y=\"Sector\",\n",
    "    hue=\"FinBERT_Class\",\n",
    "    palette={\"Negative\": \"red\", \"Positive\": \"green\"},\n",
    ")\n",
    "\n",
    "plt.title(\"Industry Count by FinBERT Sentiment Class\")\n",
    "plt.ylabel(\"Industry\")\n",
    "plt.xlabel(\"Count\")\n",
    "plt.legend(title=\"FinBERT Sentiment Class\")\n",
    "\n",
    "plt.tight_layout()\n",
    "plt.show()\n"
   ]
  }
 ],
 "metadata": {
  "kernelspec": {
   "display_name": "Python 3",
   "language": "python",
   "name": "python3"
  },
  "language_info": {
   "codemirror_mode": {
    "name": "ipython",
    "version": 3
   },
   "file_extension": ".py",
   "mimetype": "text/x-python",
   "name": "python",
   "nbconvert_exporter": "python",
   "pygments_lexer": "ipython3",
   "version": "3.10.11"
  }
 },
 "nbformat": 4,
 "nbformat_minor": 2
}
